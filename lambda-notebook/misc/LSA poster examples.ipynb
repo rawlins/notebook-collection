{
 "cells": [
  {
   "cell_type": "markdown",
   "metadata": {},
   "source": [
    "# LSA Poster examples\n",
    "## Author: Kyle Rawlins\n",
    "\n",
    "This are examples I used in the poster on the lambda notebook at the LSA annual meeting, Jan 2014."
   ]
  },
  {
   "cell_type": "code",
   "execution_count": 1,
   "metadata": {
    "collapsed": false
   },
   "outputs": [],
   "source": [
    "reload_lamb()\n",
    "#lang.set_system(lang.hk3_system)"
   ]
  },
  {
   "cell_type": "code",
   "execution_count": 2,
   "metadata": {
    "collapsed": false
   },
   "outputs": [
    {
     "name": "stdout",
     "output_type": "stream",
     "text": [
      "INFO (meta): Coerced guessed type for 'Gray_t' into <e,t>, to match argument 'x_e'\n",
      "INFO (meta): Coerced guessed type for 'Cat_t' into <e,t>, to match argument 'x_e'\n"
     ]
    },
    {
     "data": {
      "text/html": [
       "$[\\![\\mathbf{\\text{gray}}]\\!]^{}_{\\left\\langle{}e,t\\right\\rangle{}} \\:=\\: $$\\lambda{} x_{e} \\: . \\: {Gray}({x})$<br />\n",
       "$[\\![\\mathbf{\\text{cat}}]\\!]^{}_{\\left\\langle{}e,t\\right\\rangle{}} \\:=\\: $$\\lambda{} x_{e} \\: . \\: {Cat}({x})$<br />\n",
       "$[\\![\\mathbf{\\text{joanna}}]\\!]^{}_{e} \\:=\\: $${Joanna}_{e}$<br />\n",
       "$[\\![\\mathbf{\\text{isV}}]\\!]^{}_{\\left\\langle{}\\left\\langle{}e,t\\right\\rangle{},\\left\\langle{}e,t\\right\\rangle{}\\right\\rangle{}} \\:=\\: $$\\lambda{} f_{\\left\\langle{}e,t\\right\\rangle{}} \\: . \\: {f}$<br />\n",
       "$[\\![\\mathbf{\\text{a}}]\\!]^{}_{\\left\\langle{}\\left\\langle{}e,t\\right\\rangle{},\\left\\langle{}e,t\\right\\rangle{}\\right\\rangle{}} \\:=\\: $$\\lambda{} f_{\\left\\langle{}e,t\\right\\rangle{}} \\: . \\: {f}$"
      ],
      "text/latex": [
       "$[\\![\\mathbf{\\text{gray}}]\\!]^{}_{\\left\\langle{}e,t\\right\\rangle{}} \\:=\\: $$\\lambda{} x_{e} \\: . \\: {Gray}({x})$<br />\n",
       "$[\\![\\mathbf{\\text{cat}}]\\!]^{}_{\\left\\langle{}e,t\\right\\rangle{}} \\:=\\: $$\\lambda{} x_{e} \\: . \\: {Cat}({x})$<br />\n",
       "$[\\![\\mathbf{\\text{joanna}}]\\!]^{}_{e} \\:=\\: $${Joanna}_{e}$<br />\n",
       "$[\\![\\mathbf{\\text{isV}}]\\!]^{}_{\\left\\langle{}\\left\\langle{}e,t\\right\\rangle{},\\left\\langle{}e,t\\right\\rangle{}\\right\\rangle{}} \\:=\\: $$\\lambda{} f_{\\left\\langle{}e,t\\right\\rangle{}} \\: . \\: {f}$<br />\n",
       "$[\\![\\mathbf{\\text{a}}]\\!]^{}_{\\left\\langle{}\\left\\langle{}e,t\\right\\rangle{},\\left\\langle{}e,t\\right\\rangle{}\\right\\rangle{}} \\:=\\: $$\\lambda{} f_{\\left\\langle{}e,t\\right\\rangle{}} \\: . \\: {f}$"
      ],
      "text/plain": [
       "$[\\![\\mathbf{\\text{gray}}]\\!]^{}_{\\left\\langle{}e,t\\right\\rangle{}} \\:=\\: $$\\lambda{} x_{e} \\: . \\: {Gray}({x})$<br />\n",
       "$[\\![\\mathbf{\\text{cat}}]\\!]^{}_{\\left\\langle{}e,t\\right\\rangle{}} \\:=\\: $$\\lambda{} x_{e} \\: . \\: {Cat}({x})$<br />\n",
       "$[\\![\\mathbf{\\text{joanna}}]\\!]^{}_{e} \\:=\\: $${Joanna}_{e}$<br />\n",
       "$[\\![\\mathbf{\\text{isV}}]\\!]^{}_{\\left\\langle{}\\left\\langle{}e,t\\right\\rangle{},\\left\\langle{}e,t\\right\\rangle{}\\right\\rangle{}} \\:=\\: $$\\lambda{} f_{\\left\\langle{}e,t\\right\\rangle{}} \\: . \\: {f}$<br />\n",
       "$[\\![\\mathbf{\\text{a}}]\\!]^{}_{\\left\\langle{}\\left\\langle{}e,t\\right\\rangle{},\\left\\langle{}e,t\\right\\rangle{}\\right\\rangle{}} \\:=\\: $$\\lambda{} f_{\\left\\langle{}e,t\\right\\rangle{}} \\: . \\: {f}$"
      ]
     },
     "execution_count": 2,
     "metadata": {},
     "output_type": "execute_result"
    }
   ],
   "source": [
    "%%lamb reset\n",
    "||gray|| = lambda x_e : Gray(x)\n",
    "||cat|| = lambda x_e : Cat(x)\n",
    "||joanna|| = Joanna_e\n",
    "||isV|| = lambda f_<e,t> : f # 'is' is a python reserved word\n",
    "||a|| = lambda f_<e,t> : f"
   ]
  },
  {
   "cell_type": "code",
   "execution_count": 3,
   "metadata": {
    "collapsed": false
   },
   "outputs": [],
   "source": []
  },
  {
   "cell_type": "markdown",
   "metadata": {},
   "source": [
    "Note that the system does not currently know that PM is symmetric."
   ]
  },
  {
   "cell_type": "code",
   "execution_count": 3,
   "metadata": {
    "collapsed": false
   },
   "outputs": [
    {
     "data": {
      "text/html": [
       "1 composition path.  Result:\n",
       "<br />&nbsp;&nbsp;&nbsp;&nbsp;[0]: $[\\![\\mathbf{\\text{[gray cat]}}]\\!]^{}_{\\left\\langle{}e,t\\right\\rangle{}} \\:=\\: $$\\lambda{} x_{e} \\: . \\: ({Gray}({x}) \\wedge{} {Cat}({x}))$"
      ],
      "text/plain": [
       "CompositionResult(results=[⟦[gray cat]⟧ = (λ x_e: (Gray_<e,t>(x_e) & Cat_<e,t>(x_e)))], failures=[⟦[gray cat]⟧ = Type mismatch: '⟦gray⟧ = (λ x_e: Gray_<e,t>(x_e))'/<e,t> and '⟦cat⟧ = (λ x_e: Cat_<e,t>(x_e))'/<e,t> conflict (mode: Function Application), ⟦[cat gray]⟧ = Type mismatch: '⟦cat⟧ = (λ x_e: Cat_<e,t>(x_e))'/<e,t> and '⟦gray⟧ = (λ x_e: Gray_<e,t>(x_e))'/<e,t> conflict (mode: Function Application), ⟦[gray cat]⟧ = Type mismatch: '⟦gray⟧ = (λ x_e: Gray_<e,t>(x_e))'/<e,t> and '⟦cat⟧ = (λ x_e: Cat_<e,t>(x_e))'/<e,t> conflict (mode: Predicate Abstraction), ⟦[cat gray]⟧ = Type mismatch: '⟦cat⟧ = (λ x_e: Cat_<e,t>(x_e))'/<e,t> and '⟦gray⟧ = (λ x_e: Gray_<e,t>(x_e))'/<e,t> conflict (mode: Predicate Abstraction)])"
      ]
     },
     "execution_count": 3,
     "metadata": {},
     "output_type": "execute_result"
    }
   ],
   "source": [
    "r = gray * cat\n",
    "r"
   ]
  },
  {
   "cell_type": "code",
   "execution_count": 4,
   "metadata": {
    "collapsed": false
   },
   "outputs": [
    {
     "data": {
      "text/html": [
       "1 composition path:<br /><div align=\"center\" style=\"display:table; margin:5px; border-collapse: collapse;border: 1px solid #848482;\"><div align=\"center\" style=\"display:table-row;border-bottom:1px solid #848482\"><div style=\"display:table-cell;vertical-align:middle;\"><div style=\"display: table;\"><div style=\"display:table-cell;vertical-align:middle;padding: 5px;\"><div align=\"center\" style=\"display:inline-block;padding: 5px;\"><div align=\"center\" style=\"display:table;table-layout:auto;\"><div style=\"display:table-row;\"><div align=\"center\" style=\"display:table-cell;padding-right:2px; padding-left:2px;\"><span>$[\\![\\mathbf{\\text{gray}}]\\!]^{}_{\\left\\langle{}e,t\\right\\rangle{}}$</span></div></div><div style=\"display:table-row;\"><div align=\"center\" style=\"display:table-cell;padding-right:2px; padding-left:2px;\"><span>$\\lambda{} x_{e} \\: . \\: {Gray}({x})$</span></div></div></div></div></div><div style=\"align: center; vertical-align: middle; display: table-cell;\"><span style=\"padding:1em;\">*</span></div><div style=\"display:table-cell;vertical-align:middle;padding: 5px;\"><div align=\"center\" style=\"display:inline-block;padding: 5px;\"><div align=\"center\" style=\"display:table;table-layout:auto;\"><div style=\"display:table-row;\"><div align=\"center\" style=\"display:table-cell;padding-right:2px; padding-left:2px;\"><span>$[\\![\\mathbf{\\text{cat}}]\\!]^{}_{\\left\\langle{}e,t\\right\\rangle{}}$</span></div></div><div style=\"display:table-row;\"><div align=\"center\" style=\"display:table-cell;padding-right:2px; padding-left:2px;\"><span>$\\lambda{} x_{e} \\: . \\: {Cat}({x})$</span></div></div></div></div></div></div></div><div style=\"display:table-cell;vertical-align:middle;border-left:1px solid #848482;padding:0.5em\"><div style=\"white-space:nowrap; color:blue;\"><b>[<span>PM</span>]</b></div></div></div><div align=\"center\" style=\"display:table-row;padding: 5px;\"><div align=\"center\" style=\"display:table-cell;\"><div align=\"center\" style=\"display:inline-block;padding: 5px;\"><div align=\"center\" style=\"display:table;table-layout:auto;\"><div style=\"display:table-row;\"><div align=\"center\" style=\"display:table-cell;padding-right:2px; padding-left:2px;\"><span>$[\\![\\mathbf{\\text{[gray cat]}}]\\!]^{}_{\\left\\langle{}e,t\\right\\rangle{}}$</span></div></div><div style=\"display:table-row;\"><div align=\"center\" style=\"display:table-cell;padding-right:2px; padding-left:2px;\"><span>$\\lambda{} x_{e} \\: . \\: ({Gray}({x}) \\wedge{} {Cat}({x}))$</span></div></div></div></div></div><div style=\"display:table-cell;\"></div></div></div><br /><br />"
      ],
      "text/latex": [
       "1 composition path:<br /><div align=\"center\" style=\"display:table; margin:5px; border-collapse: collapse;border: 1px solid #848482;\"><div align=\"center\" style=\"display:table-row;border-bottom:1px solid #848482\"><div style=\"display:table-cell;vertical-align:middle;\"><div style=\"display: table;\"><div style=\"display:table-cell;vertical-align:middle;padding: 5px;\"><div align=\"center\" style=\"display:inline-block;padding: 5px;\"><div align=\"center\" style=\"display:table;table-layout:auto;\"><div style=\"display:table-row;\"><div align=\"center\" style=\"display:table-cell;padding-right:2px; padding-left:2px;\"><span>$[\\![\\mathbf{\\text{gray}}]\\!]^{}_{\\left\\langle{}e,t\\right\\rangle{}}$</span></div></div><div style=\"display:table-row;\"><div align=\"center\" style=\"display:table-cell;padding-right:2px; padding-left:2px;\"><span>$\\lambda{} x_{e} \\: . \\: {Gray}({x})$</span></div></div></div></div></div><div style=\"align: center; vertical-align: middle; display: table-cell;\"><span style=\"padding:1em;\">*</span></div><div style=\"display:table-cell;vertical-align:middle;padding: 5px;\"><div align=\"center\" style=\"display:inline-block;padding: 5px;\"><div align=\"center\" style=\"display:table;table-layout:auto;\"><div style=\"display:table-row;\"><div align=\"center\" style=\"display:table-cell;padding-right:2px; padding-left:2px;\"><span>$[\\![\\mathbf{\\text{cat}}]\\!]^{}_{\\left\\langle{}e,t\\right\\rangle{}}$</span></div></div><div style=\"display:table-row;\"><div align=\"center\" style=\"display:table-cell;padding-right:2px; padding-left:2px;\"><span>$\\lambda{} x_{e} \\: . \\: {Cat}({x})$</span></div></div></div></div></div></div></div><div style=\"display:table-cell;vertical-align:middle;border-left:1px solid #848482;padding:0.5em\"><div style=\"white-space:nowrap; color:blue;\"><b>[<span>PM</span>]</b></div></div></div><div align=\"center\" style=\"display:table-row;padding: 5px;\"><div align=\"center\" style=\"display:table-cell;\"><div align=\"center\" style=\"display:inline-block;padding: 5px;\"><div align=\"center\" style=\"display:table;table-layout:auto;\"><div style=\"display:table-row;\"><div align=\"center\" style=\"display:table-cell;padding-right:2px; padding-left:2px;\"><span>$[\\![\\mathbf{\\text{[gray cat]}}]\\!]^{}_{\\left\\langle{}e,t\\right\\rangle{}}$</span></div></div><div style=\"display:table-row;\"><div align=\"center\" style=\"display:table-cell;padding-right:2px; padding-left:2px;\"><span>$\\lambda{} x_{e} \\: . \\: ({Gray}({x}) \\wedge{} {Cat}({x}))$</span></div></div></div></div></div><div style=\"display:table-cell;\"></div></div></div><br /><br />"
      ],
      "text/plain": [
       "1 composition path:<br /><div align=\"center\" style=\"display:table; margin:5px; border-collapse: collapse;border: 1px solid #848482;\"><div align=\"center\" style=\"display:table-row;border-bottom:1px solid #848482\"><div style=\"display:table-cell;vertical-align:middle;\"><div style=\"display: table;\"><div style=\"display:table-cell;vertical-align:middle;padding: 5px;\"><div align=\"center\" style=\"display:inline-block;padding: 5px;\"><div align=\"center\" style=\"display:table;table-layout:auto;\"><div style=\"display:table-row;\"><div align=\"center\" style=\"display:table-cell;padding-right:2px; padding-left:2px;\"><span>$[\\![\\mathbf{\\text{gray}}]\\!]^{}_{\\left\\langle{}e,t\\right\\rangle{}}$</span></div></div><div style=\"display:table-row;\"><div align=\"center\" style=\"display:table-cell;padding-right:2px; padding-left:2px;\"><span>$\\lambda{} x_{e} \\: . \\: {Gray}({x})$</span></div></div></div></div></div><div style=\"align: center; vertical-align: middle; display: table-cell;\"><span style=\"padding:1em;\">*</span></div><div style=\"display:table-cell;vertical-align:middle;padding: 5px;\"><div align=\"center\" style=\"display:inline-block;padding: 5px;\"><div align=\"center\" style=\"display:table;table-layout:auto;\"><div style=\"display:table-row;\"><div align=\"center\" style=\"display:table-cell;padding-right:2px; padding-left:2px;\"><span>$[\\![\\mathbf{\\text{cat}}]\\!]^{}_{\\left\\langle{}e,t\\right\\rangle{}}$</span></div></div><div style=\"display:table-row;\"><div align=\"center\" style=\"display:table-cell;padding-right:2px; padding-left:2px;\"><span>$\\lambda{} x_{e} \\: . \\: {Cat}({x})$</span></div></div></div></div></div></div></div><div style=\"display:table-cell;vertical-align:middle;border-left:1px solid #848482;padding:0.5em\"><div style=\"white-space:nowrap; color:blue;\"><b>[<span>PM</span>]</b></div></div></div><div align=\"center\" style=\"display:table-row;padding: 5px;\"><div align=\"center\" style=\"display:table-cell;\"><div align=\"center\" style=\"display:inline-block;padding: 5px;\"><div align=\"center\" style=\"display:table;table-layout:auto;\"><div style=\"display:table-row;\"><div align=\"center\" style=\"display:table-cell;padding-right:2px; padding-left:2px;\"><span>$[\\![\\mathbf{\\text{[gray cat]}}]\\!]^{}_{\\left\\langle{}e,t\\right\\rangle{}}$</span></div></div><div style=\"display:table-row;\"><div align=\"center\" style=\"display:table-cell;padding-right:2px; padding-left:2px;\"><span>$\\lambda{} x_{e} \\: . \\: ({Gray}({x}) \\wedge{} {Cat}({x}))$</span></div></div></div></div></div><div style=\"display:table-cell;\"></div></div></div><br /><br />"
      ]
     },
     "execution_count": 4,
     "metadata": {},
     "output_type": "execute_result"
    }
   ],
   "source": [
    "r.tree()"
   ]
  },
  {
   "cell_type": "code",
   "execution_count": 5,
   "metadata": {
    "collapsed": false
   },
   "outputs": [
    {
     "data": {
      "text/html": [
       "1 composition path:<br /><div align=\"center\" style=\"display:table; margin:5px; border-collapse: collapse;border: 1px solid #848482;\"><div align=\"center\" style=\"display:table-row;border-bottom:1px solid #848482\"><div style=\"display:table-cell;vertical-align:middle;\"><div style=\"display: table;\"><div style=\"display:table-cell;vertical-align:middle;padding: 5px;\"><div align=\"center\" style=\"display:table; margin:5px; border-collapse: collapse;border: 1px solid #848482;\"><div align=\"center\" style=\"display:table-row;border-bottom:1px solid #848482\"><div style=\"display:table-cell;vertical-align:middle;\"><div style=\"display: table;\"><div style=\"display:table-cell;vertical-align:middle;padding: 5px;\"><div align=\"center\" style=\"display:inline-block;padding: 5px;\"><div align=\"center\" style=\"display:table;table-layout:auto;\"><div style=\"display:table-row;\"><div align=\"center\" style=\"display:table-cell;padding-right:2px; padding-left:2px;\"><span>$[\\![\\mathbf{\\text{isV}}]\\!]^{}_{\\left\\langle{}\\left\\langle{}e,t\\right\\rangle{},\\left\\langle{}e,t\\right\\rangle{}\\right\\rangle{}}$</span></div></div><div style=\"display:table-row;\"><div align=\"center\" style=\"display:table-cell;padding-right:2px; padding-left:2px;\"><span>$\\lambda{} f_{\\left\\langle{}e,t\\right\\rangle{}} \\: . \\: {f}$</span></div></div></div></div></div><div style=\"align: center; vertical-align: middle; display: table-cell;\"><span style=\"padding:1em;\">*</span></div><div style=\"display:table-cell;vertical-align:middle;padding: 5px;\"><div align=\"center\" style=\"display:table; margin:5px; border-collapse: collapse;border: 1px solid #848482;\"><div align=\"center\" style=\"display:table-row;border-bottom:1px solid #848482\"><div style=\"display:table-cell;vertical-align:middle;\"><div style=\"display: table;\"><div style=\"display:table-cell;vertical-align:middle;padding: 5px;\"><div align=\"center\" style=\"display:inline-block;padding: 5px;\"><div align=\"center\" style=\"display:table;table-layout:auto;\"><div style=\"display:table-row;\"><div align=\"center\" style=\"display:table-cell;padding-right:2px; padding-left:2px;\"><span>$[\\![\\mathbf{\\text{a}}]\\!]^{}_{\\left\\langle{}\\left\\langle{}e,t\\right\\rangle{},\\left\\langle{}e,t\\right\\rangle{}\\right\\rangle{}}$</span></div></div><div style=\"display:table-row;\"><div align=\"center\" style=\"display:table-cell;padding-right:2px; padding-left:2px;\"><span>$\\lambda{} f_{\\left\\langle{}e,t\\right\\rangle{}} \\: . \\: {f}$</span></div></div></div></div></div><div style=\"align: center; vertical-align: middle; display: table-cell;\"><span style=\"padding:1em;\">*</span></div><div style=\"display:table-cell;vertical-align:middle;padding: 5px;\"><div align=\"center\" style=\"display:table; margin:5px; border-collapse: collapse;border: 1px solid #848482;\"><div align=\"center\" style=\"display:table-row;border-bottom:1px solid #848482\"><div style=\"display:table-cell;vertical-align:middle;\"><div style=\"display: table;\"><div style=\"display:table-cell;vertical-align:middle;padding: 5px;\"><div align=\"center\" style=\"display:inline-block;padding: 5px;\"><div align=\"center\" style=\"display:table;table-layout:auto;\"><div style=\"display:table-row;\"><div align=\"center\" style=\"display:table-cell;padding-right:2px; padding-left:2px;\"><span>$[\\![\\mathbf{\\text{gray}}]\\!]^{}_{\\left\\langle{}e,t\\right\\rangle{}}$</span></div></div><div style=\"display:table-row;\"><div align=\"center\" style=\"display:table-cell;padding-right:2px; padding-left:2px;\"><span>$\\lambda{} x_{e} \\: . \\: {Gray}({x})$</span></div></div></div></div></div><div style=\"align: center; vertical-align: middle; display: table-cell;\"><span style=\"padding:1em;\">*</span></div><div style=\"display:table-cell;vertical-align:middle;padding: 5px;\"><div align=\"center\" style=\"display:inline-block;padding: 5px;\"><div align=\"center\" style=\"display:table;table-layout:auto;\"><div style=\"display:table-row;\"><div align=\"center\" style=\"display:table-cell;padding-right:2px; padding-left:2px;\"><span>$[\\![\\mathbf{\\text{cat}}]\\!]^{}_{\\left\\langle{}e,t\\right\\rangle{}}$</span></div></div><div style=\"display:table-row;\"><div align=\"center\" style=\"display:table-cell;padding-right:2px; padding-left:2px;\"><span>$\\lambda{} x_{e} \\: . \\: {Cat}({x})$</span></div></div></div></div></div></div></div><div style=\"display:table-cell;vertical-align:middle;border-left:1px solid #848482;padding:0.5em\"><div style=\"white-space:nowrap; color:blue;\"><b>[<span>PM</span>]</b></div></div></div><div align=\"center\" style=\"display:table-row;padding: 5px;\"><div align=\"center\" style=\"display:table-cell;\"><div align=\"center\" style=\"display:inline-block;padding: 5px;\"><div align=\"center\" style=\"display:table;table-layout:auto;\"><div style=\"display:table-row;\"><div align=\"center\" style=\"display:table-cell;padding-right:2px; padding-left:2px;\"><span>$[\\![\\mathbf{\\text{[gray cat]}}]\\!]^{}_{\\left\\langle{}e,t\\right\\rangle{}}$</span></div></div><div style=\"display:table-row;\"><div align=\"center\" style=\"display:table-cell;padding-right:2px; padding-left:2px;\"><span>$\\lambda{} x_{e} \\: . \\: ({Gray}({x}) \\wedge{} {Cat}({x}))$</span></div></div></div></div></div><div style=\"display:table-cell;\"></div></div></div></div></div></div><div style=\"display:table-cell;vertical-align:middle;border-left:1px solid #848482;padding:0.5em\"><div style=\"white-space:nowrap; color:blue;\"><b>[<span>FA</span>]</b></div></div></div><div align=\"center\" style=\"display:table-row;padding: 5px;\"><div align=\"center\" style=\"display:table-cell;\"><div align=\"center\" style=\"display:inline-block;padding: 5px;\"><div align=\"center\" style=\"display:table;table-layout:auto;\"><div style=\"display:table-row;\"><div align=\"center\" style=\"display:table-cell;padding-right:2px; padding-left:2px;\"><span>$[\\![\\mathbf{\\text{[a [gray cat]]}}]\\!]^{}_{\\left\\langle{}e,t\\right\\rangle{}}$</span></div></div><div style=\"display:table-row;\"><div align=\"center\" style=\"display:table-cell;padding-right:2px; padding-left:2px;\"><span>$\\lambda{} x_{e} \\: . \\: ({Gray}({x}) \\wedge{} {Cat}({x}))$</span></div></div></div></div></div><div style=\"display:table-cell;\"></div></div></div></div></div></div><div style=\"display:table-cell;vertical-align:middle;border-left:1px solid #848482;padding:0.5em\"><div style=\"white-space:nowrap; color:blue;\"><b>[<span>FA</span>]</b></div></div></div><div align=\"center\" style=\"display:table-row;padding: 5px;\"><div align=\"center\" style=\"display:table-cell;\"><div align=\"center\" style=\"display:inline-block;padding: 5px;\"><div align=\"center\" style=\"display:table;table-layout:auto;\"><div style=\"display:table-row;\"><div align=\"center\" style=\"display:table-cell;padding-right:2px; padding-left:2px;\"><span>$[\\![\\mathbf{\\text{[isV [a [gray cat]]]}}]\\!]^{}_{\\left\\langle{}e,t\\right\\rangle{}}$</span></div></div><div style=\"display:table-row;\"><div align=\"center\" style=\"display:table-cell;padding-right:2px; padding-left:2px;\"><span>$\\lambda{} x_{e} \\: . \\: ({Gray}({x}) \\wedge{} {Cat}({x}))$</span></div></div></div></div></div><div style=\"display:table-cell;\"></div></div></div></div><div style=\"align: center; vertical-align: middle; display: table-cell;\"><span style=\"padding:1em;\">*</span></div><div style=\"display:table-cell;vertical-align:middle;padding: 5px;\"><div align=\"center\" style=\"display:inline-block;padding: 5px;\"><div align=\"center\" style=\"display:table;table-layout:auto;\"><div style=\"display:table-row;\"><div align=\"center\" style=\"display:table-cell;padding-right:2px; padding-left:2px;\"><span>$[\\![\\mathbf{\\text{joanna}}]\\!]^{}_{e}$</span></div></div><div style=\"display:table-row;\"><div align=\"center\" style=\"display:table-cell;padding-right:2px; padding-left:2px;\"><span>${Joanna}_{e}$</span></div></div></div></div></div></div></div><div style=\"display:table-cell;vertical-align:middle;border-left:1px solid #848482;padding:0.5em\"><div style=\"white-space:nowrap; color:blue;\"><b>[<span>FA</span>]</b></div></div></div><div align=\"center\" style=\"display:table-row;padding: 5px;\"><div align=\"center\" style=\"display:table-cell;\"><div align=\"center\" style=\"display:inline-block;padding: 5px;\"><div align=\"center\" style=\"display:table;table-layout:auto;\"><div style=\"display:table-row;\"><div align=\"center\" style=\"display:table-cell;padding-right:2px; padding-left:2px;\"><span>$[\\![\\mathbf{\\text{[[isV [a [gray cat]]] joanna]}}]\\!]^{}_{t}$</span></div></div><div style=\"display:table-row;\"><div align=\"center\" style=\"display:table-cell;padding-right:2px; padding-left:2px;\"><span>$({Gray}({Joanna}_{e}) \\wedge{} {Cat}({Joanna}_{e}))$</span></div></div></div></div></div><div style=\"display:table-cell;\"></div></div></div><br /><br />"
      ],
      "text/latex": [
       "1 composition path:<br /><div align=\"center\" style=\"display:table; margin:5px; border-collapse: collapse;border: 1px solid #848482;\"><div align=\"center\" style=\"display:table-row;border-bottom:1px solid #848482\"><div style=\"display:table-cell;vertical-align:middle;\"><div style=\"display: table;\"><div style=\"display:table-cell;vertical-align:middle;padding: 5px;\"><div align=\"center\" style=\"display:table; margin:5px; border-collapse: collapse;border: 1px solid #848482;\"><div align=\"center\" style=\"display:table-row;border-bottom:1px solid #848482\"><div style=\"display:table-cell;vertical-align:middle;\"><div style=\"display: table;\"><div style=\"display:table-cell;vertical-align:middle;padding: 5px;\"><div align=\"center\" style=\"display:inline-block;padding: 5px;\"><div align=\"center\" style=\"display:table;table-layout:auto;\"><div style=\"display:table-row;\"><div align=\"center\" style=\"display:table-cell;padding-right:2px; padding-left:2px;\"><span>$[\\![\\mathbf{\\text{isV}}]\\!]^{}_{\\left\\langle{}\\left\\langle{}e,t\\right\\rangle{},\\left\\langle{}e,t\\right\\rangle{}\\right\\rangle{}}$</span></div></div><div style=\"display:table-row;\"><div align=\"center\" style=\"display:table-cell;padding-right:2px; padding-left:2px;\"><span>$\\lambda{} f_{\\left\\langle{}e,t\\right\\rangle{}} \\: . \\: {f}$</span></div></div></div></div></div><div style=\"align: center; vertical-align: middle; display: table-cell;\"><span style=\"padding:1em;\">*</span></div><div style=\"display:table-cell;vertical-align:middle;padding: 5px;\"><div align=\"center\" style=\"display:table; margin:5px; border-collapse: collapse;border: 1px solid #848482;\"><div align=\"center\" style=\"display:table-row;border-bottom:1px solid #848482\"><div style=\"display:table-cell;vertical-align:middle;\"><div style=\"display: table;\"><div style=\"display:table-cell;vertical-align:middle;padding: 5px;\"><div align=\"center\" style=\"display:inline-block;padding: 5px;\"><div align=\"center\" style=\"display:table;table-layout:auto;\"><div style=\"display:table-row;\"><div align=\"center\" style=\"display:table-cell;padding-right:2px; padding-left:2px;\"><span>$[\\![\\mathbf{\\text{a}}]\\!]^{}_{\\left\\langle{}\\left\\langle{}e,t\\right\\rangle{},\\left\\langle{}e,t\\right\\rangle{}\\right\\rangle{}}$</span></div></div><div style=\"display:table-row;\"><div align=\"center\" style=\"display:table-cell;padding-right:2px; padding-left:2px;\"><span>$\\lambda{} f_{\\left\\langle{}e,t\\right\\rangle{}} \\: . \\: {f}$</span></div></div></div></div></div><div style=\"align: center; vertical-align: middle; display: table-cell;\"><span style=\"padding:1em;\">*</span></div><div style=\"display:table-cell;vertical-align:middle;padding: 5px;\"><div align=\"center\" style=\"display:table; margin:5px; border-collapse: collapse;border: 1px solid #848482;\"><div align=\"center\" style=\"display:table-row;border-bottom:1px solid #848482\"><div style=\"display:table-cell;vertical-align:middle;\"><div style=\"display: table;\"><div style=\"display:table-cell;vertical-align:middle;padding: 5px;\"><div align=\"center\" style=\"display:inline-block;padding: 5px;\"><div align=\"center\" style=\"display:table;table-layout:auto;\"><div style=\"display:table-row;\"><div align=\"center\" style=\"display:table-cell;padding-right:2px; padding-left:2px;\"><span>$[\\![\\mathbf{\\text{gray}}]\\!]^{}_{\\left\\langle{}e,t\\right\\rangle{}}$</span></div></div><div style=\"display:table-row;\"><div align=\"center\" style=\"display:table-cell;padding-right:2px; padding-left:2px;\"><span>$\\lambda{} x_{e} \\: . \\: {Gray}({x})$</span></div></div></div></div></div><div style=\"align: center; vertical-align: middle; display: table-cell;\"><span style=\"padding:1em;\">*</span></div><div style=\"display:table-cell;vertical-align:middle;padding: 5px;\"><div align=\"center\" style=\"display:inline-block;padding: 5px;\"><div align=\"center\" style=\"display:table;table-layout:auto;\"><div style=\"display:table-row;\"><div align=\"center\" style=\"display:table-cell;padding-right:2px; padding-left:2px;\"><span>$[\\![\\mathbf{\\text{cat}}]\\!]^{}_{\\left\\langle{}e,t\\right\\rangle{}}$</span></div></div><div style=\"display:table-row;\"><div align=\"center\" style=\"display:table-cell;padding-right:2px; padding-left:2px;\"><span>$\\lambda{} x_{e} \\: . \\: {Cat}({x})$</span></div></div></div></div></div></div></div><div style=\"display:table-cell;vertical-align:middle;border-left:1px solid #848482;padding:0.5em\"><div style=\"white-space:nowrap; color:blue;\"><b>[<span>PM</span>]</b></div></div></div><div align=\"center\" style=\"display:table-row;padding: 5px;\"><div align=\"center\" style=\"display:table-cell;\"><div align=\"center\" style=\"display:inline-block;padding: 5px;\"><div align=\"center\" style=\"display:table;table-layout:auto;\"><div style=\"display:table-row;\"><div align=\"center\" style=\"display:table-cell;padding-right:2px; padding-left:2px;\"><span>$[\\![\\mathbf{\\text{[gray cat]}}]\\!]^{}_{\\left\\langle{}e,t\\right\\rangle{}}$</span></div></div><div style=\"display:table-row;\"><div align=\"center\" style=\"display:table-cell;padding-right:2px; padding-left:2px;\"><span>$\\lambda{} x_{e} \\: . \\: ({Gray}({x}) \\wedge{} {Cat}({x}))$</span></div></div></div></div></div><div style=\"display:table-cell;\"></div></div></div></div></div></div><div style=\"display:table-cell;vertical-align:middle;border-left:1px solid #848482;padding:0.5em\"><div style=\"white-space:nowrap; color:blue;\"><b>[<span>FA</span>]</b></div></div></div><div align=\"center\" style=\"display:table-row;padding: 5px;\"><div align=\"center\" style=\"display:table-cell;\"><div align=\"center\" style=\"display:inline-block;padding: 5px;\"><div align=\"center\" style=\"display:table;table-layout:auto;\"><div style=\"display:table-row;\"><div align=\"center\" style=\"display:table-cell;padding-right:2px; padding-left:2px;\"><span>$[\\![\\mathbf{\\text{[a [gray cat]]}}]\\!]^{}_{\\left\\langle{}e,t\\right\\rangle{}}$</span></div></div><div style=\"display:table-row;\"><div align=\"center\" style=\"display:table-cell;padding-right:2px; padding-left:2px;\"><span>$\\lambda{} x_{e} \\: . \\: ({Gray}({x}) \\wedge{} {Cat}({x}))$</span></div></div></div></div></div><div style=\"display:table-cell;\"></div></div></div></div></div></div><div style=\"display:table-cell;vertical-align:middle;border-left:1px solid #848482;padding:0.5em\"><div style=\"white-space:nowrap; color:blue;\"><b>[<span>FA</span>]</b></div></div></div><div align=\"center\" style=\"display:table-row;padding: 5px;\"><div align=\"center\" style=\"display:table-cell;\"><div align=\"center\" style=\"display:inline-block;padding: 5px;\"><div align=\"center\" style=\"display:table;table-layout:auto;\"><div style=\"display:table-row;\"><div align=\"center\" style=\"display:table-cell;padding-right:2px; padding-left:2px;\"><span>$[\\![\\mathbf{\\text{[isV [a [gray cat]]]}}]\\!]^{}_{\\left\\langle{}e,t\\right\\rangle{}}$</span></div></div><div style=\"display:table-row;\"><div align=\"center\" style=\"display:table-cell;padding-right:2px; padding-left:2px;\"><span>$\\lambda{} x_{e} \\: . \\: ({Gray}({x}) \\wedge{} {Cat}({x}))$</span></div></div></div></div></div><div style=\"display:table-cell;\"></div></div></div></div><div style=\"align: center; vertical-align: middle; display: table-cell;\"><span style=\"padding:1em;\">*</span></div><div style=\"display:table-cell;vertical-align:middle;padding: 5px;\"><div align=\"center\" style=\"display:inline-block;padding: 5px;\"><div align=\"center\" style=\"display:table;table-layout:auto;\"><div style=\"display:table-row;\"><div align=\"center\" style=\"display:table-cell;padding-right:2px; padding-left:2px;\"><span>$[\\![\\mathbf{\\text{joanna}}]\\!]^{}_{e}$</span></div></div><div style=\"display:table-row;\"><div align=\"center\" style=\"display:table-cell;padding-right:2px; padding-left:2px;\"><span>${Joanna}_{e}$</span></div></div></div></div></div></div></div><div style=\"display:table-cell;vertical-align:middle;border-left:1px solid #848482;padding:0.5em\"><div style=\"white-space:nowrap; color:blue;\"><b>[<span>FA</span>]</b></div></div></div><div align=\"center\" style=\"display:table-row;padding: 5px;\"><div align=\"center\" style=\"display:table-cell;\"><div align=\"center\" style=\"display:inline-block;padding: 5px;\"><div align=\"center\" style=\"display:table;table-layout:auto;\"><div style=\"display:table-row;\"><div align=\"center\" style=\"display:table-cell;padding-right:2px; padding-left:2px;\"><span>$[\\![\\mathbf{\\text{[[isV [a [gray cat]]] joanna]}}]\\!]^{}_{t}$</span></div></div><div style=\"display:table-row;\"><div align=\"center\" style=\"display:table-cell;padding-right:2px; padding-left:2px;\"><span>$({Gray}({Joanna}_{e}) \\wedge{} {Cat}({Joanna}_{e}))$</span></div></div></div></div></div><div style=\"display:table-cell;\"></div></div></div><br /><br />"
      ],
      "text/plain": [
       "1 composition path:<br /><div align=\"center\" style=\"display:table; margin:5px; border-collapse: collapse;border: 1px solid #848482;\"><div align=\"center\" style=\"display:table-row;border-bottom:1px solid #848482\"><div style=\"display:table-cell;vertical-align:middle;\"><div style=\"display: table;\"><div style=\"display:table-cell;vertical-align:middle;padding: 5px;\"><div align=\"center\" style=\"display:table; margin:5px; border-collapse: collapse;border: 1px solid #848482;\"><div align=\"center\" style=\"display:table-row;border-bottom:1px solid #848482\"><div style=\"display:table-cell;vertical-align:middle;\"><div style=\"display: table;\"><div style=\"display:table-cell;vertical-align:middle;padding: 5px;\"><div align=\"center\" style=\"display:inline-block;padding: 5px;\"><div align=\"center\" style=\"display:table;table-layout:auto;\"><div style=\"display:table-row;\"><div align=\"center\" style=\"display:table-cell;padding-right:2px; padding-left:2px;\"><span>$[\\![\\mathbf{\\text{isV}}]\\!]^{}_{\\left\\langle{}\\left\\langle{}e,t\\right\\rangle{},\\left\\langle{}e,t\\right\\rangle{}\\right\\rangle{}}$</span></div></div><div style=\"display:table-row;\"><div align=\"center\" style=\"display:table-cell;padding-right:2px; padding-left:2px;\"><span>$\\lambda{} f_{\\left\\langle{}e,t\\right\\rangle{}} \\: . \\: {f}$</span></div></div></div></div></div><div style=\"align: center; vertical-align: middle; display: table-cell;\"><span style=\"padding:1em;\">*</span></div><div style=\"display:table-cell;vertical-align:middle;padding: 5px;\"><div align=\"center\" style=\"display:table; margin:5px; border-collapse: collapse;border: 1px solid #848482;\"><div align=\"center\" style=\"display:table-row;border-bottom:1px solid #848482\"><div style=\"display:table-cell;vertical-align:middle;\"><div style=\"display: table;\"><div style=\"display:table-cell;vertical-align:middle;padding: 5px;\"><div align=\"center\" style=\"display:inline-block;padding: 5px;\"><div align=\"center\" style=\"display:table;table-layout:auto;\"><div style=\"display:table-row;\"><div align=\"center\" style=\"display:table-cell;padding-right:2px; padding-left:2px;\"><span>$[\\![\\mathbf{\\text{a}}]\\!]^{}_{\\left\\langle{}\\left\\langle{}e,t\\right\\rangle{},\\left\\langle{}e,t\\right\\rangle{}\\right\\rangle{}}$</span></div></div><div style=\"display:table-row;\"><div align=\"center\" style=\"display:table-cell;padding-right:2px; padding-left:2px;\"><span>$\\lambda{} f_{\\left\\langle{}e,t\\right\\rangle{}} \\: . \\: {f}$</span></div></div></div></div></div><div style=\"align: center; vertical-align: middle; display: table-cell;\"><span style=\"padding:1em;\">*</span></div><div style=\"display:table-cell;vertical-align:middle;padding: 5px;\"><div align=\"center\" style=\"display:table; margin:5px; border-collapse: collapse;border: 1px solid #848482;\"><div align=\"center\" style=\"display:table-row;border-bottom:1px solid #848482\"><div style=\"display:table-cell;vertical-align:middle;\"><div style=\"display: table;\"><div style=\"display:table-cell;vertical-align:middle;padding: 5px;\"><div align=\"center\" style=\"display:inline-block;padding: 5px;\"><div align=\"center\" style=\"display:table;table-layout:auto;\"><div style=\"display:table-row;\"><div align=\"center\" style=\"display:table-cell;padding-right:2px; padding-left:2px;\"><span>$[\\![\\mathbf{\\text{gray}}]\\!]^{}_{\\left\\langle{}e,t\\right\\rangle{}}$</span></div></div><div style=\"display:table-row;\"><div align=\"center\" style=\"display:table-cell;padding-right:2px; padding-left:2px;\"><span>$\\lambda{} x_{e} \\: . \\: {Gray}({x})$</span></div></div></div></div></div><div style=\"align: center; vertical-align: middle; display: table-cell;\"><span style=\"padding:1em;\">*</span></div><div style=\"display:table-cell;vertical-align:middle;padding: 5px;\"><div align=\"center\" style=\"display:inline-block;padding: 5px;\"><div align=\"center\" style=\"display:table;table-layout:auto;\"><div style=\"display:table-row;\"><div align=\"center\" style=\"display:table-cell;padding-right:2px; padding-left:2px;\"><span>$[\\![\\mathbf{\\text{cat}}]\\!]^{}_{\\left\\langle{}e,t\\right\\rangle{}}$</span></div></div><div style=\"display:table-row;\"><div align=\"center\" style=\"display:table-cell;padding-right:2px; padding-left:2px;\"><span>$\\lambda{} x_{e} \\: . \\: {Cat}({x})$</span></div></div></div></div></div></div></div><div style=\"display:table-cell;vertical-align:middle;border-left:1px solid #848482;padding:0.5em\"><div style=\"white-space:nowrap; color:blue;\"><b>[<span>PM</span>]</b></div></div></div><div align=\"center\" style=\"display:table-row;padding: 5px;\"><div align=\"center\" style=\"display:table-cell;\"><div align=\"center\" style=\"display:inline-block;padding: 5px;\"><div align=\"center\" style=\"display:table;table-layout:auto;\"><div style=\"display:table-row;\"><div align=\"center\" style=\"display:table-cell;padding-right:2px; padding-left:2px;\"><span>$[\\![\\mathbf{\\text{[gray cat]}}]\\!]^{}_{\\left\\langle{}e,t\\right\\rangle{}}$</span></div></div><div style=\"display:table-row;\"><div align=\"center\" style=\"display:table-cell;padding-right:2px; padding-left:2px;\"><span>$\\lambda{} x_{e} \\: . \\: ({Gray}({x}) \\wedge{} {Cat}({x}))$</span></div></div></div></div></div><div style=\"display:table-cell;\"></div></div></div></div></div></div><div style=\"display:table-cell;vertical-align:middle;border-left:1px solid #848482;padding:0.5em\"><div style=\"white-space:nowrap; color:blue;\"><b>[<span>FA</span>]</b></div></div></div><div align=\"center\" style=\"display:table-row;padding: 5px;\"><div align=\"center\" style=\"display:table-cell;\"><div align=\"center\" style=\"display:inline-block;padding: 5px;\"><div align=\"center\" style=\"display:table;table-layout:auto;\"><div style=\"display:table-row;\"><div align=\"center\" style=\"display:table-cell;padding-right:2px; padding-left:2px;\"><span>$[\\![\\mathbf{\\text{[a [gray cat]]}}]\\!]^{}_{\\left\\langle{}e,t\\right\\rangle{}}$</span></div></div><div style=\"display:table-row;\"><div align=\"center\" style=\"display:table-cell;padding-right:2px; padding-left:2px;\"><span>$\\lambda{} x_{e} \\: . \\: ({Gray}({x}) \\wedge{} {Cat}({x}))$</span></div></div></div></div></div><div style=\"display:table-cell;\"></div></div></div></div></div></div><div style=\"display:table-cell;vertical-align:middle;border-left:1px solid #848482;padding:0.5em\"><div style=\"white-space:nowrap; color:blue;\"><b>[<span>FA</span>]</b></div></div></div><div align=\"center\" style=\"display:table-row;padding: 5px;\"><div align=\"center\" style=\"display:table-cell;\"><div align=\"center\" style=\"display:inline-block;padding: 5px;\"><div align=\"center\" style=\"display:table;table-layout:auto;\"><div style=\"display:table-row;\"><div align=\"center\" style=\"display:table-cell;padding-right:2px; padding-left:2px;\"><span>$[\\![\\mathbf{\\text{[isV [a [gray cat]]]}}]\\!]^{}_{\\left\\langle{}e,t\\right\\rangle{}}$</span></div></div><div style=\"display:table-row;\"><div align=\"center\" style=\"display:table-cell;padding-right:2px; padding-left:2px;\"><span>$\\lambda{} x_{e} \\: . \\: ({Gray}({x}) \\wedge{} {Cat}({x}))$</span></div></div></div></div></div><div style=\"display:table-cell;\"></div></div></div></div><div style=\"align: center; vertical-align: middle; display: table-cell;\"><span style=\"padding:1em;\">*</span></div><div style=\"display:table-cell;vertical-align:middle;padding: 5px;\"><div align=\"center\" style=\"display:inline-block;padding: 5px;\"><div align=\"center\" style=\"display:table;table-layout:auto;\"><div style=\"display:table-row;\"><div align=\"center\" style=\"display:table-cell;padding-right:2px; padding-left:2px;\"><span>$[\\![\\mathbf{\\text{joanna}}]\\!]^{}_{e}$</span></div></div><div style=\"display:table-row;\"><div align=\"center\" style=\"display:table-cell;padding-right:2px; padding-left:2px;\"><span>${Joanna}_{e}$</span></div></div></div></div></div></div></div><div style=\"display:table-cell;vertical-align:middle;border-left:1px solid #848482;padding:0.5em\"><div style=\"white-space:nowrap; color:blue;\"><b>[<span>FA</span>]</b></div></div></div><div align=\"center\" style=\"display:table-row;padding: 5px;\"><div align=\"center\" style=\"display:table-cell;\"><div align=\"center\" style=\"display:inline-block;padding: 5px;\"><div align=\"center\" style=\"display:table;table-layout:auto;\"><div style=\"display:table-row;\"><div align=\"center\" style=\"display:table-cell;padding-right:2px; padding-left:2px;\"><span>$[\\![\\mathbf{\\text{[[isV [a [gray cat]]] joanna]}}]\\!]^{}_{t}$</span></div></div><div style=\"display:table-row;\"><div align=\"center\" style=\"display:table-cell;padding-right:2px; padding-left:2px;\"><span>$({Gray}({Joanna}_{e}) \\wedge{} {Cat}({Joanna}_{e}))$</span></div></div></div></div></div><div style=\"display:table-cell;\"></div></div></div><br /><br />"
      ]
     },
     "execution_count": 5,
     "metadata": {},
     "output_type": "execute_result"
    }
   ],
   "source": [
    "r = joanna * (isV * (a * (gray * cat)))\n",
    "r.tree()"
   ]
  },
  {
   "cell_type": "code",
   "execution_count": 6,
   "metadata": {
    "collapsed": false
   },
   "outputs": [
    {
     "name": "stdout",
     "output_type": "stream",
     "text": [
      "INFO (meta): Coerced guessed type for 'In_t' into <(e,e),t>, to match argument '(y_e, x_e)'\n",
      "INFO (meta): Coerced guessed type for 'Fond_t' into <(e,e),t>, to match argument '(y_e, x_e)'\n"
     ]
    },
    {
     "data": {
      "text/html": [
       "$[\\![\\mathbf{\\text{inP}}]\\!]^{}_{\\left\\langle{}e,\\left\\langle{}e,t\\right\\rangle{}\\right\\rangle{}} \\:=\\: $$\\lambda{} x_{e} \\: . \\: \\lambda{} y_{e} \\: . \\: {In}({y}, {x})$<br />\n",
       "$[\\![\\mathbf{\\text{fond}}]\\!]^{}_{\\left\\langle{}e,\\left\\langle{}e,t\\right\\rangle{}\\right\\rangle{}} \\:=\\: $$\\lambda{} x_{e} \\: . \\: \\lambda{} y_{e} \\: . \\: {Fond}({y}, {x})$<br />\n",
       "$[\\![\\mathbf{\\text{of}}]\\!]^{}_{\\left\\langle{}e,e\\right\\rangle{}} \\:=\\: $$\\lambda{} x_{e} \\: . \\: {x}$<br />\n",
       "$[\\![\\mathbf{\\text{joe}}]\\!]^{}_{e} \\:=\\: $${Joe}_{e}$<br />\n",
       "$[\\![\\mathbf{\\text{texas}}]\\!]^{}_{e} \\:=\\: $${Texas}_{e}$"
      ],
      "text/latex": [
       "$[\\![\\mathbf{\\text{inP}}]\\!]^{}_{\\left\\langle{}e,\\left\\langle{}e,t\\right\\rangle{}\\right\\rangle{}} \\:=\\: $$\\lambda{} x_{e} \\: . \\: \\lambda{} y_{e} \\: . \\: {In}({y}, {x})$<br />\n",
       "$[\\![\\mathbf{\\text{fond}}]\\!]^{}_{\\left\\langle{}e,\\left\\langle{}e,t\\right\\rangle{}\\right\\rangle{}} \\:=\\: $$\\lambda{} x_{e} \\: . \\: \\lambda{} y_{e} \\: . \\: {Fond}({y}, {x})$<br />\n",
       "$[\\![\\mathbf{\\text{of}}]\\!]^{}_{\\left\\langle{}e,e\\right\\rangle{}} \\:=\\: $$\\lambda{} x_{e} \\: . \\: {x}$<br />\n",
       "$[\\![\\mathbf{\\text{joe}}]\\!]^{}_{e} \\:=\\: $${Joe}_{e}$<br />\n",
       "$[\\![\\mathbf{\\text{texas}}]\\!]^{}_{e} \\:=\\: $${Texas}_{e}$"
      ],
      "text/plain": [
       "$[\\![\\mathbf{\\text{inP}}]\\!]^{}_{\\left\\langle{}e,\\left\\langle{}e,t\\right\\rangle{}\\right\\rangle{}} \\:=\\: $$\\lambda{} x_{e} \\: . \\: \\lambda{} y_{e} \\: . \\: {In}({y}, {x})$<br />\n",
       "$[\\![\\mathbf{\\text{fond}}]\\!]^{}_{\\left\\langle{}e,\\left\\langle{}e,t\\right\\rangle{}\\right\\rangle{}} \\:=\\: $$\\lambda{} x_{e} \\: . \\: \\lambda{} y_{e} \\: . \\: {Fond}({y}, {x})$<br />\n",
       "$[\\![\\mathbf{\\text{of}}]\\!]^{}_{\\left\\langle{}e,e\\right\\rangle{}} \\:=\\: $$\\lambda{} x_{e} \\: . \\: {x}$<br />\n",
       "$[\\![\\mathbf{\\text{joe}}]\\!]^{}_{e} \\:=\\: $${Joe}_{e}$<br />\n",
       "$[\\![\\mathbf{\\text{texas}}]\\!]^{}_{e} \\:=\\: $${Texas}_{e}$"
      ]
     },
     "execution_count": 6,
     "metadata": {},
     "output_type": "execute_result"
    }
   ],
   "source": [
    "%%lamb\n",
    "||inP|| = L x: L y: In(y,x)\n",
    "||fond|| = L x_e : L y_e : Fond(y,x)\n",
    "||of|| = L x_e : x\n",
    "||joe|| = Joe_e\n",
    "||texas|| = Texas_e"
   ]
  },
  {
   "cell_type": "code",
   "execution_count": 7,
   "metadata": {
    "collapsed": false
   },
   "outputs": [
    {
     "data": {
      "text/html": [
       "1 composition path.  Result:\n",
       "<br />&nbsp;&nbsp;&nbsp;&nbsp;[0]: $[\\![\\mathbf{\\text{[[isV [a [[gray cat] [inP texas]]]] joanna]}}]\\!]^{}_{t} \\:=\\: $$(({Gray}({Joanna}_{e}) \\wedge{} {Cat}({Joanna}_{e})) \\wedge{} {In}({Joanna}_{e}, {Texas}_{e}))$"
      ],
      "text/plain": [
       "CompositionResult(results=[⟦[[isV [a [[gray cat] [inP texas]]]] joanna]⟧ = ((Gray_<e,t>(Joanna_e) & Cat_<e,t>(Joanna_e)) & In_<(e,e),t>(Joanna_e, Texas_e))], failures=[⟦[joanna [isV [a [[gray cat] [inP texas]]]]]⟧ = Type mismatch: '⟦joanna⟧ = Joanna_e'/e and '⟦[isV [a [[gray cat] [inP texas]]]]⟧ = (λ x_e: ((Gray_<e,t>(x_e) & Cat_<e,t>(x_e)) & In_<(e,e),t>(x_e, Texas_e)))'/<e,t> conflict (mode: Function Application), ⟦[joanna [isV [a [[gray cat] [inP texas]]]]]⟧ = Type mismatch: '⟦joanna⟧ = Joanna_e'/e and '⟦[isV [a [[gray cat] [inP texas]]]]⟧ = (λ x_e: ((Gray_<e,t>(x_e) & Cat_<e,t>(x_e)) & In_<(e,e),t>(x_e, Texas_e)))'/<e,t> conflict (mode: Predicate Modification), ⟦[joanna [isV [a [[gray cat] [inP texas]]]]]⟧ = Type mismatch: '⟦joanna⟧ = Joanna_e'/e and '⟦[isV [a [[gray cat] [inP texas]]]]⟧ = (λ x_e: ((Gray_<e,t>(x_e) & Cat_<e,t>(x_e)) & In_<(e,e),t>(x_e, Texas_e)))'/<e,t> conflict (mode: Predicate Abstraction), ⟦[[isV [a [[gray cat] [inP texas]]]] joanna]⟧ = Type mismatch: '⟦[isV [a [[gray cat] [inP texas]]]]⟧ = (λ x_e: ((Gray_<e,t>(x_e) & Cat_<e,t>(x_e)) & In_<(e,e),t>(x_e, Texas_e)))'/<e,t> and '⟦joanna⟧ = Joanna_e'/e conflict (mode: Predicate Abstraction)])"
      ]
     },
     "execution_count": 7,
     "metadata": {},
     "output_type": "execute_result"
    }
   ],
   "source": [
    "r = joanna * (isV * (a * ((gray * cat) * (inP * texas))))\n",
    "r"
   ]
  },
  {
   "cell_type": "code",
   "execution_count": 8,
   "metadata": {
    "collapsed": false
   },
   "outputs": [
    {
     "data": {
      "text/html": [
       "1 composition path.  Result:\n",
       "<br />&nbsp;&nbsp;&nbsp;&nbsp;[0]: $[\\![\\mathbf{\\text{[[isV [a [[[gray cat] [inP texas]] [fond [of joe]]]]] joanna]}}]\\!]^{}_{t} \\:=\\: $$((({Gray}({Joanna}_{e}) \\wedge{} {Cat}({Joanna}_{e})) \\wedge{} {In}({Joanna}_{e}, {Texas}_{e})) \\wedge{} {Fond}({Joanna}_{e}, {Joe}_{e}))$"
      ],
      "text/plain": [
       "CompositionResult(results=[⟦[[isV [a [[[gray cat] [inP texas]] [fond [of joe]]]]] joanna]⟧ = (((Gray_<e,t>(Joanna_e) & Cat_<e,t>(Joanna_e)) & In_<(e,e),t>(Joanna_e, Texas_e)) & Fond_<(e,e),t>(Joanna_e, Joe_e))], failures=[⟦[joanna [isV [a [[[gray cat] [inP texas]] [fond [of joe]]]]]]⟧ = Type mismatch: '⟦joanna⟧ = Joanna_e'/e and '⟦[isV [a [[[gray cat] [inP texas]] [fond [of joe]]]]]⟧ = (λ x_e: (((Gray_<e,t>(x_e) & Cat_<e,t>(x_e)) & In_<(e,e),t>(x_e, Texas_e)) & Fond_<(e,e),t>(x_e, Joe_e)))'/<e,t> conflict (mode: Function Application), ⟦[joanna [isV [a [[[gray cat] [inP texas]] [fond [of joe]]]]]]⟧ = Type mismatch: '⟦joanna⟧ = Joanna_e'/e and '⟦[isV [a [[[gray cat] [inP texas]] [fond [of joe]]]]]⟧ = (λ x_e: (((Gray_<e,t>(x_e) & Cat_<e,t>(x_e)) & In_<(e,e),t>(x_e, Texas_e)) & Fond_<(e,e),t>(x_e, Joe_e)))'/<e,t> conflict (mode: Predicate Modification), ⟦[joanna [isV [a [[[gray cat] [inP texas]] [fond [of joe]]]]]]⟧ = Type mismatch: '⟦joanna⟧ = Joanna_e'/e and '⟦[isV [a [[[gray cat] [inP texas]] [fond [of joe]]]]]⟧ = (λ x_e: (((Gray_<e,t>(x_e) & Cat_<e,t>(x_e)) & In_<(e,e),t>(x_e, Texas_e)) & Fond_<(e,e),t>(x_e, Joe_e)))'/<e,t> conflict (mode: Predicate Abstraction), ⟦[[isV [a [[[gray cat] [inP texas]] [fond [of joe]]]]] joanna]⟧ = Type mismatch: '⟦[isV [a [[[gray cat] [inP texas]] [fond [of joe]]]]]⟧ = (λ x_e: (((Gray_<e,t>(x_e) & Cat_<e,t>(x_e)) & In_<(e,e),t>(x_e, Texas_e)) & Fond_<(e,e),t>(x_e, Joe_e)))'/<e,t> and '⟦joanna⟧ = Joanna_e'/e conflict (mode: Predicate Abstraction)])"
      ]
     },
     "execution_count": 8,
     "metadata": {},
     "output_type": "execute_result"
    }
   ],
   "source": [
    "r = joanna * (isV * (a * (((gray * cat) * (inP * texas)) * (fond * (of * joe)))))\n",
    "r"
   ]
  },
  {
   "cell_type": "code",
   "execution_count": 9,
   "metadata": {
    "collapsed": false
   },
   "outputs": [
    {
     "data": {
      "text/html": [
       "<div align=\"center\" style=\"display:table; margin:5px; border-collapse: collapse;border: 1px solid #848482;\"><div align=\"center\" style=\"display:table-row;border-bottom:1px solid #848482\"><div style=\"display:table-cell;vertical-align:middle;\"><div style=\"display: table;\"><div style=\"display:table-cell;vertical-align:middle;padding: 5px;\"><div align=\"center\" style=\"display:table; margin:5px; border-collapse: collapse;border: 1px solid #848482;\"><div align=\"center\" style=\"display:table-row;border-bottom:1px solid #848482\"><div style=\"display:table-cell;vertical-align:middle;\"><div style=\"display: table;\"><div style=\"display:table-cell;vertical-align:middle;padding: 5px;\"><div align=\"center\" style=\"display:inline-block;padding: 5px;\"><div align=\"center\" style=\"display:table;table-layout:auto;\"><div style=\"display:table-row;\"><div align=\"center\" style=\"display:table-cell;padding-right:2px; padding-left:2px;\"><span>$[\\![\\mathbf{\\text{isV}}]\\!]^{}_{\\left\\langle{}\\left\\langle{}e,t\\right\\rangle{},\\left\\langle{}e,t\\right\\rangle{}\\right\\rangle{}}$</span></div></div><div style=\"display:table-row;\"><div align=\"center\" style=\"display:table-cell;padding-right:2px; padding-left:2px;\"><span>$\\lambda{} f_{\\left\\langle{}e,t\\right\\rangle{}} \\: . \\: {f}$</span></div></div></div></div></div><div style=\"align: center; vertical-align: middle; display: table-cell;\"><span style=\"padding:1em;\">*</span></div><div style=\"display:table-cell;vertical-align:middle;padding: 5px;\"><div align=\"center\" style=\"display:table; margin:5px; border-collapse: collapse;border: 1px solid #848482;\"><div align=\"center\" style=\"display:table-row;border-bottom:1px solid #848482\"><div style=\"display:table-cell;vertical-align:middle;\"><div style=\"display: table;\"><div style=\"display:table-cell;vertical-align:middle;padding: 5px;\"><div align=\"center\" style=\"display:inline-block;padding: 5px;\"><div align=\"center\" style=\"display:table;table-layout:auto;\"><div style=\"display:table-row;\"><div align=\"center\" style=\"display:table-cell;padding-right:2px; padding-left:2px;\"><span>$[\\![\\mathbf{\\text{a}}]\\!]^{}_{\\left\\langle{}\\left\\langle{}e,t\\right\\rangle{},\\left\\langle{}e,t\\right\\rangle{}\\right\\rangle{}}$</span></div></div><div style=\"display:table-row;\"><div align=\"center\" style=\"display:table-cell;padding-right:2px; padding-left:2px;\"><span>$\\lambda{} f_{\\left\\langle{}e,t\\right\\rangle{}} \\: . \\: {f}$</span></div></div></div></div></div><div style=\"align: center; vertical-align: middle; display: table-cell;\"><span style=\"padding:1em;\">*</span></div><div style=\"display:table-cell;vertical-align:middle;padding: 5px;\"><div align=\"center\" style=\"display:table; margin:5px; border-collapse: collapse;border: 1px solid #848482;\"><div align=\"center\" style=\"display:table-row;border-bottom:1px solid #848482\"><div style=\"display:table-cell;vertical-align:middle;\"><div style=\"display: table;\"><div style=\"display:table-cell;vertical-align:middle;padding: 5px;\"><div align=\"center\" style=\"display:table; margin:5px; border-collapse: collapse;border: 1px solid #848482;\"><div align=\"center\" style=\"display:table-row;border-bottom:1px solid #848482\"><div style=\"display:table-cell;vertical-align:middle;\"><div style=\"display: table;\"><div style=\"display:table-cell;vertical-align:middle;padding: 5px;\"><div align=\"center\" style=\"display:table; margin:5px; border-collapse: collapse;border: 1px solid #848482;\"><div align=\"center\" style=\"display:table-row;border-bottom:1px solid #848482\"><div style=\"display:table-cell;vertical-align:middle;\"><div style=\"display: table;\"><div style=\"display:table-cell;vertical-align:middle;padding: 5px;\"><div align=\"center\" style=\"display:inline-block;padding: 5px;\"><div align=\"center\" style=\"display:table;table-layout:auto;\"><div style=\"display:table-row;\"><div align=\"center\" style=\"display:table-cell;padding-right:2px; padding-left:2px;\"><span>$[\\![\\mathbf{\\text{gray}}]\\!]^{}_{\\left\\langle{}e,t\\right\\rangle{}}$</span></div></div><div style=\"display:table-row;\"><div align=\"center\" style=\"display:table-cell;padding-right:2px; padding-left:2px;\"><span>$\\lambda{} x_{e} \\: . \\: {Gray}({x})$</span></div></div></div></div></div><div style=\"align: center; vertical-align: middle; display: table-cell;\"><span style=\"padding:1em;\">*</span></div><div style=\"display:table-cell;vertical-align:middle;padding: 5px;\"><div align=\"center\" style=\"display:inline-block;padding: 5px;\"><div align=\"center\" style=\"display:table;table-layout:auto;\"><div style=\"display:table-row;\"><div align=\"center\" style=\"display:table-cell;padding-right:2px; padding-left:2px;\"><span>$[\\![\\mathbf{\\text{cat}}]\\!]^{}_{\\left\\langle{}e,t\\right\\rangle{}}$</span></div></div><div style=\"display:table-row;\"><div align=\"center\" style=\"display:table-cell;padding-right:2px; padding-left:2px;\"><span>$\\lambda{} x_{e} \\: . \\: {Cat}({x})$</span></div></div></div></div></div></div></div><div style=\"display:table-cell;vertical-align:middle;border-left:1px solid #848482;padding:0.5em\"><div style=\"white-space:nowrap; color:blue;\"><b>[<span>PM</span>]</b></div></div></div><div align=\"center\" style=\"display:table-row;padding: 5px;\"><div align=\"center\" style=\"display:table-cell;\"><table><tr><td style=\"padding-right:5px\"></td><td align=\"left\" style=\"text-align:left;\"><span>$[\\![\\mathbf{\\text{[gray cat]}}]\\!]^{}_{\\left\\langle{}e,t\\right\\rangle{}}$</span></td></tr><tr><td style=\"padding-right:5px\"> $=$ </td><td align=\"left\" style=\"text-align:left;\"><span>${[\\lambda{} f_{\\left\\langle{}e,t\\right\\rangle{}} \\: . \\: \\lambda{} g_{\\left\\langle{}e,t\\right\\rangle{}} \\: . \\: \\lambda{} x_{e} \\: . \\: ({f}({x}) \\wedge{} {g}({x}))]}(\\lambda{} x_{e} \\: . \\: {Gray}({x}))(\\lambda{} x_{e} \\: . \\: {Cat}({x}))$</span></td></tr><tr><td style=\"padding-right:5px\"> $=$ </td><td align=\"left\" style=\"text-align:left;\"><span>${[\\lambda{} g_{\\left\\langle{}e,t\\right\\rangle{}} \\: . \\: \\lambda{} x_{e} \\: . \\: ({Gray}({x}) \\wedge{} {g}({x}))]}(\\lambda{} x_{e} \\: . \\: {Cat}({x}))$</span></td></tr><tr><td style=\"padding-right:5px\"> $=$ </td><td align=\"left\" style=\"text-align:left;\"><span>$\\lambda{} x_{e} \\: . \\: ({Gray}({x}) \\wedge{} {[\\lambda{} x_{e} \\: . \\: {Cat}({x})]}({x}))$</span></td></tr><tr><td style=\"padding-right:5px\"> $=$ </td><td align=\"left\" style=\"text-align:left;\"><span>$\\lambda{} x_{e} \\: . \\: ({Gray}({x}) \\wedge{} {Cat}({x}))$</span></td></tr></table></div><div style=\"display:table-cell;\"></div></div></div></div><div style=\"align: center; vertical-align: middle; display: table-cell;\"><span style=\"padding:1em;\">*</span></div><div style=\"display:table-cell;vertical-align:middle;padding: 5px;\"><div align=\"center\" style=\"display:table; margin:5px; border-collapse: collapse;border: 1px solid #848482;\"><div align=\"center\" style=\"display:table-row;border-bottom:1px solid #848482\"><div style=\"display:table-cell;vertical-align:middle;\"><div style=\"display: table;\"><div style=\"display:table-cell;vertical-align:middle;padding: 5px;\"><div align=\"center\" style=\"display:inline-block;padding: 5px;\"><div align=\"center\" style=\"display:table;table-layout:auto;\"><div style=\"display:table-row;\"><div align=\"center\" style=\"display:table-cell;padding-right:2px; padding-left:2px;\"><span>$[\\![\\mathbf{\\text{inP}}]\\!]^{}_{\\left\\langle{}e,\\left\\langle{}e,t\\right\\rangle{}\\right\\rangle{}}$</span></div></div><div style=\"display:table-row;\"><div align=\"center\" style=\"display:table-cell;padding-right:2px; padding-left:2px;\"><span>$\\lambda{} x_{e} \\: . \\: \\lambda{} y_{e} \\: . \\: {In}({y}, {x})$</span></div></div></div></div></div><div style=\"align: center; vertical-align: middle; display: table-cell;\"><span style=\"padding:1em;\">*</span></div><div style=\"display:table-cell;vertical-align:middle;padding: 5px;\"><div align=\"center\" style=\"display:inline-block;padding: 5px;\"><div align=\"center\" style=\"display:table;table-layout:auto;\"><div style=\"display:table-row;\"><div align=\"center\" style=\"display:table-cell;padding-right:2px; padding-left:2px;\"><span>$[\\![\\mathbf{\\text{texas}}]\\!]^{}_{e}$</span></div></div><div style=\"display:table-row;\"><div align=\"center\" style=\"display:table-cell;padding-right:2px; padding-left:2px;\"><span>${Texas}_{e}$</span></div></div></div></div></div></div></div><div style=\"display:table-cell;vertical-align:middle;border-left:1px solid #848482;padding:0.5em\"><div style=\"white-space:nowrap; color:blue;\"><b>[<span>FA</span>]</b></div></div></div><div align=\"center\" style=\"display:table-row;padding: 5px;\"><div align=\"center\" style=\"display:table-cell;\"><table><tr><td style=\"padding-right:5px\"></td><td align=\"left\" style=\"text-align:left;\"><span>$[\\![\\mathbf{\\text{[inP texas]}}]\\!]^{}_{\\left\\langle{}e,t\\right\\rangle{}}$</span></td></tr><tr><td style=\"padding-right:5px\"> $=$ </td><td align=\"left\" style=\"text-align:left;\"><span>${[\\lambda{} x_{e} \\: . \\: \\lambda{} y_{e} \\: . \\: {In}({y}, {x})]}({Texas}_{e})$</span></td></tr><tr><td style=\"padding-right:5px\"> $=$ </td><td align=\"left\" style=\"text-align:left;\"><span>$\\lambda{} y_{e} \\: . \\: {In}({y}, {Texas}_{e})$</span></td></tr></table></div><div style=\"display:table-cell;\"></div></div></div></div></div></div><div style=\"display:table-cell;vertical-align:middle;border-left:1px solid #848482;padding:0.5em\"><div style=\"white-space:nowrap; color:blue;\"><b>[<span>PM</span>]</b></div></div></div><div align=\"center\" style=\"display:table-row;padding: 5px;\"><div align=\"center\" style=\"display:table-cell;\"><table><tr><td style=\"padding-right:5px\"></td><td align=\"left\" style=\"text-align:left;\"><span>$[\\![\\mathbf{\\text{[[gray cat] [inP texas]]}}]\\!]^{}_{\\left\\langle{}e,t\\right\\rangle{}}$</span></td></tr><tr><td style=\"padding-right:5px\"> $=$ </td><td align=\"left\" style=\"text-align:left;\"><span>${[\\lambda{} f_{\\left\\langle{}e,t\\right\\rangle{}} \\: . \\: \\lambda{} g_{\\left\\langle{}e,t\\right\\rangle{}} \\: . \\: \\lambda{} x_{e} \\: . \\: ({f}({x}) \\wedge{} {g}({x}))]}(\\lambda{} x_{e} \\: . \\: ({Gray}({x}) \\wedge{} {Cat}({x})))(\\lambda{} y_{e} \\: . \\: {In}({y}, {Texas}_{e}))$</span></td></tr><tr><td style=\"padding-right:5px\"> $=$ </td><td align=\"left\" style=\"text-align:left;\"><span>${[\\lambda{} g_{\\left\\langle{}e,t\\right\\rangle{}} \\: . \\: \\lambda{} x_{e} \\: . \\: (({Gray}({x}) \\wedge{} {Cat}({x})) \\wedge{} {g}({x}))]}(\\lambda{} y_{e} \\: . \\: {In}({y}, {Texas}_{e}))$</span></td></tr><tr><td style=\"padding-right:5px\"> $=$ </td><td align=\"left\" style=\"text-align:left;\"><span>$\\lambda{} x_{e} \\: . \\: (({Gray}({x}) \\wedge{} {Cat}({x})) \\wedge{} {[\\lambda{} y_{e} \\: . \\: {In}({y}, {Texas}_{e})]}({x}))$</span></td></tr><tr><td style=\"padding-right:5px\"> $=$ </td><td align=\"left\" style=\"text-align:left;\"><span>$\\lambda{} x_{e} \\: . \\: (({Gray}({x}) \\wedge{} {Cat}({x})) \\wedge{} {In}({x}, {Texas}_{e}))$</span></td></tr></table></div><div style=\"display:table-cell;\"></div></div></div></div><div style=\"align: center; vertical-align: middle; display: table-cell;\"><span style=\"padding:1em;\">*</span></div><div style=\"display:table-cell;vertical-align:middle;padding: 5px;\"><div align=\"center\" style=\"display:table; margin:5px; border-collapse: collapse;border: 1px solid #848482;\"><div align=\"center\" style=\"display:table-row;border-bottom:1px solid #848482\"><div style=\"display:table-cell;vertical-align:middle;\"><div style=\"display: table;\"><div style=\"display:table-cell;vertical-align:middle;padding: 5px;\"><div align=\"center\" style=\"display:inline-block;padding: 5px;\"><div align=\"center\" style=\"display:table;table-layout:auto;\"><div style=\"display:table-row;\"><div align=\"center\" style=\"display:table-cell;padding-right:2px; padding-left:2px;\"><span>$[\\![\\mathbf{\\text{fond}}]\\!]^{}_{\\left\\langle{}e,\\left\\langle{}e,t\\right\\rangle{}\\right\\rangle{}}$</span></div></div><div style=\"display:table-row;\"><div align=\"center\" style=\"display:table-cell;padding-right:2px; padding-left:2px;\"><span>$\\lambda{} x_{e} \\: . \\: \\lambda{} y_{e} \\: . \\: {Fond}({y}, {x})$</span></div></div></div></div></div><div style=\"align: center; vertical-align: middle; display: table-cell;\"><span style=\"padding:1em;\">*</span></div><div style=\"display:table-cell;vertical-align:middle;padding: 5px;\"><div align=\"center\" style=\"display:table; margin:5px; border-collapse: collapse;border: 1px solid #848482;\"><div align=\"center\" style=\"display:table-row;border-bottom:1px solid #848482\"><div style=\"display:table-cell;vertical-align:middle;\"><div style=\"display: table;\"><div style=\"display:table-cell;vertical-align:middle;padding: 5px;\"><div align=\"center\" style=\"display:inline-block;padding: 5px;\"><div align=\"center\" style=\"display:table;table-layout:auto;\"><div style=\"display:table-row;\"><div align=\"center\" style=\"display:table-cell;padding-right:2px; padding-left:2px;\"><span>$[\\![\\mathbf{\\text{of}}]\\!]^{}_{\\left\\langle{}e,e\\right\\rangle{}}$</span></div></div><div style=\"display:table-row;\"><div align=\"center\" style=\"display:table-cell;padding-right:2px; padding-left:2px;\"><span>$\\lambda{} x_{e} \\: . \\: {x}$</span></div></div></div></div></div><div style=\"align: center; vertical-align: middle; display: table-cell;\"><span style=\"padding:1em;\">*</span></div><div style=\"display:table-cell;vertical-align:middle;padding: 5px;\"><div align=\"center\" style=\"display:inline-block;padding: 5px;\"><div align=\"center\" style=\"display:table;table-layout:auto;\"><div style=\"display:table-row;\"><div align=\"center\" style=\"display:table-cell;padding-right:2px; padding-left:2px;\"><span>$[\\![\\mathbf{\\text{joe}}]\\!]^{}_{e}$</span></div></div><div style=\"display:table-row;\"><div align=\"center\" style=\"display:table-cell;padding-right:2px; padding-left:2px;\"><span>${Joe}_{e}$</span></div></div></div></div></div></div></div><div style=\"display:table-cell;vertical-align:middle;border-left:1px solid #848482;padding:0.5em\"><div style=\"white-space:nowrap; color:blue;\"><b>[<span>FA</span>]</b></div></div></div><div align=\"center\" style=\"display:table-row;padding: 5px;\"><div align=\"center\" style=\"display:table-cell;\"><table><tr><td style=\"padding-right:5px\"></td><td align=\"left\" style=\"text-align:left;\"><span>$[\\![\\mathbf{\\text{[of joe]}}]\\!]^{}_{e}$</span></td></tr><tr><td style=\"padding-right:5px\"> $=$ </td><td align=\"left\" style=\"text-align:left;\"><span>${[\\lambda{} x_{e} \\: . \\: {x}]}({Joe}_{e})$</span></td></tr><tr><td style=\"padding-right:5px\"> $=$ </td><td align=\"left\" style=\"text-align:left;\"><span>${Joe}_{e}$</span></td></tr></table></div><div style=\"display:table-cell;\"></div></div></div></div></div></div><div style=\"display:table-cell;vertical-align:middle;border-left:1px solid #848482;padding:0.5em\"><div style=\"white-space:nowrap; color:blue;\"><b>[<span>FA</span>]</b></div></div></div><div align=\"center\" style=\"display:table-row;padding: 5px;\"><div align=\"center\" style=\"display:table-cell;\"><table><tr><td style=\"padding-right:5px\"></td><td align=\"left\" style=\"text-align:left;\"><span>$[\\![\\mathbf{\\text{[fond [of joe]]}}]\\!]^{}_{\\left\\langle{}e,t\\right\\rangle{}}$</span></td></tr><tr><td style=\"padding-right:5px\"> $=$ </td><td align=\"left\" style=\"text-align:left;\"><span>${[\\lambda{} x_{e} \\: . \\: \\lambda{} y_{e} \\: . \\: {Fond}({y}, {x})]}({Joe}_{e})$</span></td></tr><tr><td style=\"padding-right:5px\"> $=$ </td><td align=\"left\" style=\"text-align:left;\"><span>$\\lambda{} y_{e} \\: . \\: {Fond}({y}, {Joe}_{e})$</span></td></tr></table></div><div style=\"display:table-cell;\"></div></div></div></div></div></div><div style=\"display:table-cell;vertical-align:middle;border-left:1px solid #848482;padding:0.5em\"><div style=\"white-space:nowrap; color:blue;\"><b>[<span>PM</span>]</b></div></div></div><div align=\"center\" style=\"display:table-row;padding: 5px;\"><div align=\"center\" style=\"display:table-cell;\"><table><tr><td style=\"padding-right:5px\"></td><td align=\"left\" style=\"text-align:left;\"><span>$[\\![\\mathbf{\\text{[[[gray cat] [inP texas]] [fond [of joe]]]}}]\\!]^{}_{\\left\\langle{}e,t\\right\\rangle{}}$</span></td></tr><tr><td style=\"padding-right:5px\"> $=$ </td><td align=\"left\" style=\"text-align:left;\"><span>${[\\lambda{} f_{\\left\\langle{}e,t\\right\\rangle{}} \\: . \\: \\lambda{} g_{\\left\\langle{}e,t\\right\\rangle{}} \\: . \\: \\lambda{} x_{e} \\: . \\: ({f}({x}) \\wedge{} {g}({x}))]}(\\lambda{} x_{e} \\: . \\: (({Gray}({x}) \\wedge{} {Cat}({x})) \\wedge{} {In}({x}, {Texas}_{e})))(\\lambda{} y_{e} \\: . \\: {Fond}({y}, {Joe}_{e}))$</span></td></tr><tr><td style=\"padding-right:5px\"> $=$ </td><td align=\"left\" style=\"text-align:left;\"><span>${[\\lambda{} g_{\\left\\langle{}e,t\\right\\rangle{}} \\: . \\: \\lambda{} x_{e} \\: . \\: ((({Gray}({x}) \\wedge{} {Cat}({x})) \\wedge{} {In}({x}, {Texas}_{e})) \\wedge{} {g}({x}))]}(\\lambda{} y_{e} \\: . \\: {Fond}({y}, {Joe}_{e}))$</span></td></tr><tr><td style=\"padding-right:5px\"> $=$ </td><td align=\"left\" style=\"text-align:left;\"><span>$\\lambda{} x_{e} \\: . \\: ((({Gray}({x}) \\wedge{} {Cat}({x})) \\wedge{} {In}({x}, {Texas}_{e})) \\wedge{} {[\\lambda{} y_{e} \\: . \\: {Fond}({y}, {Joe}_{e})]}({x}))$</span></td></tr><tr><td style=\"padding-right:5px\"> $=$ </td><td align=\"left\" style=\"text-align:left;\"><span>$\\lambda{} x_{e} \\: . \\: ((({Gray}({x}) \\wedge{} {Cat}({x})) \\wedge{} {In}({x}, {Texas}_{e})) \\wedge{} {Fond}({x}, {Joe}_{e}))$</span></td></tr></table></div><div style=\"display:table-cell;\"></div></div></div></div></div></div><div style=\"display:table-cell;vertical-align:middle;border-left:1px solid #848482;padding:0.5em\"><div style=\"white-space:nowrap; color:blue;\"><b>[<span>FA</span>]</b></div></div></div><div align=\"center\" style=\"display:table-row;padding: 5px;\"><div align=\"center\" style=\"display:table-cell;\"><table><tr><td style=\"padding-right:5px\"></td><td align=\"left\" style=\"text-align:left;\"><span>$[\\![\\mathbf{\\text{[a [[[gray cat] [inP texas]] [fond [of joe]]]]}}]\\!]^{}_{\\left\\langle{}e,t\\right\\rangle{}}$</span></td></tr><tr><td style=\"padding-right:5px\"> $=$ </td><td align=\"left\" style=\"text-align:left;\"><span>${[\\lambda{} f_{\\left\\langle{}e,t\\right\\rangle{}} \\: . \\: {f}]}(\\lambda{} x_{e} \\: . \\: ((({Gray}({x}) \\wedge{} {Cat}({x})) \\wedge{} {In}({x}, {Texas}_{e})) \\wedge{} {Fond}({x}, {Joe}_{e})))$</span></td></tr><tr><td style=\"padding-right:5px\"> $=$ </td><td align=\"left\" style=\"text-align:left;\"><span>$\\lambda{} x_{e} \\: . \\: ((({Gray}({x}) \\wedge{} {Cat}({x})) \\wedge{} {In}({x}, {Texas}_{e})) \\wedge{} {Fond}({x}, {Joe}_{e}))$</span></td></tr></table></div><div style=\"display:table-cell;\"></div></div></div></div></div></div><div style=\"display:table-cell;vertical-align:middle;border-left:1px solid #848482;padding:0.5em\"><div style=\"white-space:nowrap; color:blue;\"><b>[<span>FA</span>]</b></div></div></div><div align=\"center\" style=\"display:table-row;padding: 5px;\"><div align=\"center\" style=\"display:table-cell;\"><table><tr><td style=\"padding-right:5px\"></td><td align=\"left\" style=\"text-align:left;\"><span>$[\\![\\mathbf{\\text{[isV [a [[[gray cat] [inP texas]] [fond [of joe]]]]]}}]\\!]^{}_{\\left\\langle{}e,t\\right\\rangle{}}$</span></td></tr><tr><td style=\"padding-right:5px\"> $=$ </td><td align=\"left\" style=\"text-align:left;\"><span>${[\\lambda{} f_{\\left\\langle{}e,t\\right\\rangle{}} \\: . \\: {f}]}(\\lambda{} x_{e} \\: . \\: ((({Gray}({x}) \\wedge{} {Cat}({x})) \\wedge{} {In}({x}, {Texas}_{e})) \\wedge{} {Fond}({x}, {Joe}_{e})))$</span></td></tr><tr><td style=\"padding-right:5px\"> $=$ </td><td align=\"left\" style=\"text-align:left;\"><span>$\\lambda{} x_{e} \\: . \\: ((({Gray}({x}) \\wedge{} {Cat}({x})) \\wedge{} {In}({x}, {Texas}_{e})) \\wedge{} {Fond}({x}, {Joe}_{e}))$</span></td></tr></table></div><div style=\"display:table-cell;\"></div></div></div></div><div style=\"align: center; vertical-align: middle; display: table-cell;\"><span style=\"padding:1em;\">*</span></div><div style=\"display:table-cell;vertical-align:middle;padding: 5px;\"><div align=\"center\" style=\"display:inline-block;padding: 5px;\"><div align=\"center\" style=\"display:table;table-layout:auto;\"><div style=\"display:table-row;\"><div align=\"center\" style=\"display:table-cell;padding-right:2px; padding-left:2px;\"><span>$[\\![\\mathbf{\\text{joanna}}]\\!]^{}_{e}$</span></div></div><div style=\"display:table-row;\"><div align=\"center\" style=\"display:table-cell;padding-right:2px; padding-left:2px;\"><span>${Joanna}_{e}$</span></div></div></div></div></div></div></div><div style=\"display:table-cell;vertical-align:middle;border-left:1px solid #848482;padding:0.5em\"><div style=\"white-space:nowrap; color:blue;\"><b>[<span>FA</span>]</b></div></div></div><div align=\"center\" style=\"display:table-row;padding: 5px;\"><div align=\"center\" style=\"display:table-cell;\"><table><tr><td style=\"padding-right:5px\"></td><td align=\"left\" style=\"text-align:left;\"><span>$[\\![\\mathbf{\\text{[[isV [a [[[gray cat] [inP texas]] [fond [of joe]]]]] joanna]}}]\\!]^{}_{t}$</span></td></tr><tr><td style=\"padding-right:5px\"> $=$ </td><td align=\"left\" style=\"text-align:left;\"><span>${[\\lambda{} x_{e} \\: . \\: ((({Gray}({x}) \\wedge{} {Cat}({x})) \\wedge{} {In}({x}, {Texas}_{e})) \\wedge{} {Fond}({x}, {Joe}_{e}))]}({Joanna}_{e})$</span></td></tr><tr><td style=\"padding-right:5px\"> $=$ </td><td align=\"left\" style=\"text-align:left;\"><span>$((({Gray}({Joanna}_{e}) \\wedge{} {Cat}({Joanna}_{e})) \\wedge{} {In}({Joanna}_{e}, {Texas}_{e})) \\wedge{} {Fond}({Joanna}_{e}, {Joe}_{e}))$</span></td></tr></table></div><div style=\"display:table-cell;\"></div></div></div>"
      ],
      "text/plain": [
       "<lamb.display.DisplayNode at 0x1075029e8>"
      ]
     },
     "execution_count": 9,
     "metadata": {},
     "output_type": "execute_result"
    }
   ],
   "source": [
    "# show all the steps of each composition.  PM is currently implemented using function application underlyingly.\n",
    "r[0].tree(derivations=True)"
   ]
  },
  {
   "cell_type": "code",
   "execution_count": 10,
   "metadata": {
    "collapsed": false
   },
   "outputs": [],
   "source": []
  },
  {
   "cell_type": "code",
   "execution_count": 10,
   "metadata": {
    "collapsed": false
   },
   "outputs": [],
   "source": []
  },
  {
   "cell_type": "code",
   "execution_count": 10,
   "metadata": {
    "collapsed": false
   },
   "outputs": [
    {
     "name": "stdout",
     "output_type": "stream",
     "text": [
      "INFO (meta): Coerced guessed type for 'Test_t' into <e,t>, to match argument 'x_e'\n"
     ]
    }
   ],
   "source": [
    "x = lang.te(\"L f_<e,t> : f\")\n",
    "y = lang.te(\"L x_e : Test(x)\")"
   ]
  },
  {
   "cell_type": "code",
   "execution_count": 11,
   "metadata": {
    "collapsed": false
   },
   "outputs": [
    {
     "data": {
      "text/latex": [
       "${[\\lambda{} f_{\\left\\langle{}e,t\\right\\rangle{}} \\: . \\: {f}]}(\\lambda{} x_{e} \\: . \\: {Test}({x}))$"
      ],
      "text/plain": [
       "((λ f_<e,t>: f_<e,t>))((λ x_e: Test_<e,t>(x_e)))"
      ]
     },
     "execution_count": 11,
     "metadata": {},
     "output_type": "execute_result"
    }
   ],
   "source": [
    "(x(y))"
   ]
  },
  {
   "cell_type": "code",
   "execution_count": 12,
   "metadata": {
    "collapsed": false
   },
   "outputs": [],
   "source": []
  },
  {
   "cell_type": "code",
   "execution_count": 12,
   "metadata": {
    "collapsed": false
   },
   "outputs": [
    {
     "data": {
      "text/html": [
       "<div align=\"left\" style=\"display:table;\"><div style=\"display:table-cell;vertical-align:bottom;padding-left:5px;padding-right:5px;padding-top:0.5em\"><div style=\"display:table;\"><div style=\"display:table-row;vertical-align:bottom;\"><div align=\"left\" style=\"display:table;border-collapse:collapse;\"><div style=\"display:table-row;border-bottom:1px solid #848482;\"><div style=\"display:table-cell;padding-right:5px;vertical-align:bottom;\"> 1. </div><div style=\"display:table-cell;vertical-align:bottom;border-right:1px solid #848482;padding-right:5px;\"><span>${[\\lambda{} f_{\\left\\langle{}e,t\\right\\rangle{}} \\: . \\: {f}]}(\\lambda{} x_{e} \\: . \\: {Test}({x}))$</span></div></div><div style=\"display:table-row;\"><div style=\"display:table-cell;padding-right:5px;vertical-align:bottom;\"> 2. </div><div style=\"display:table-cell;vertical-align:bottom;border-right:1px solid #848482;padding-right:5px;\"><span>$\\lambda{} x_{e} \\: . \\: {Test}({x})$</span></div><div style=\"display:table-cell;vertical-align:bottom;padding-left:5px;padding-right:5px;padding-top:0.5em\"><div style=\"display:table;\"><div style=\"display:table-row;\"><div style=\"white-space:nowrap; color:blue;\"><span>Reduction</span></div></div></div></div></div></div></div></div></div></div>"
      ],
      "text/plain": [
       " 1. ((λ f_<e,t>: f_<e,t>))((λ x_e: Test_<e,t>(x_e)))\n",
       " 2. (λ x_e: Test_<e,t>(x_e))    (Reduction)"
      ]
     },
     "execution_count": 12,
     "metadata": {},
     "output_type": "execute_result"
    }
   ],
   "source": [
    "z = (x(y)).reduce()\n",
    "z.derivation"
   ]
  },
  {
   "cell_type": "code",
   "execution_count": 13,
   "metadata": {
    "collapsed": false
   },
   "outputs": [],
   "source": []
  },
  {
   "cell_type": "code",
   "execution_count": 13,
   "metadata": {
    "collapsed": false
   },
   "outputs": [],
   "source": [
    "reload_lamb()\n",
    "lang.set_system(lang.hk3_system)"
   ]
  },
  {
   "cell_type": "code",
   "execution_count": 14,
   "metadata": {
    "collapsed": false
   },
   "outputs": [
    {
     "data": {
      "text/html": [
       "$[\\![\\mathbf{\\text{gray}}]\\!]^{}_{\\left\\langle{}e,t\\right\\rangle{}} \\:=\\: $$\\lambda{} x_{e} \\: . \\: {Gray}({x})$<br />\n",
       "$[\\![\\mathbf{\\text{cat}}]\\!]^{}_{\\left\\langle{}e,t\\right\\rangle{}} \\:=\\: $$\\lambda{} x_{e} \\: . \\: {Cat}({x})$"
      ],
      "text/latex": [
       "$[\\![\\mathbf{\\text{gray}}]\\!]^{}_{\\left\\langle{}e,t\\right\\rangle{}} \\:=\\: $$\\lambda{} x_{e} \\: . \\: {Gray}({x})$<br />\n",
       "$[\\![\\mathbf{\\text{cat}}]\\!]^{}_{\\left\\langle{}e,t\\right\\rangle{}} \\:=\\: $$\\lambda{} x_{e} \\: . \\: {Cat}({x})$"
      ],
      "text/plain": [
       "$[\\![\\mathbf{\\text{gray}}]\\!]^{}_{\\left\\langle{}e,t\\right\\rangle{}} \\:=\\: $$\\lambda{} x_{e} \\: . \\: {Gray}({x})$<br />\n",
       "$[\\![\\mathbf{\\text{cat}}]\\!]^{}_{\\left\\langle{}e,t\\right\\rangle{}} \\:=\\: $$\\lambda{} x_{e} \\: . \\: {Cat}({x})$"
      ]
     },
     "execution_count": 14,
     "metadata": {},
     "output_type": "execute_result"
    }
   ],
   "source": [
    "%%lamb reset\n",
    "||gray|| = L x_e : Gray_<e,t>(x)\n",
    "||cat|| = L x_e : Cat_<e,t>(x)"
   ]
  },
  {
   "cell_type": "code",
   "execution_count": 15,
   "metadata": {
    "collapsed": false
   },
   "outputs": [
    {
     "data": {
      "text/html": [
       "<div align=\"center\" style=\"display:table; margin:5px; border-collapse: collapse;border: 1px solid #848482;\"><div align=\"center\" style=\"display:table-row;border-bottom:1px solid #848482\"><div style=\"display:table-cell;vertical-align:middle;\"><div style=\"display: table;\"><div style=\"display:table-cell;vertical-align:middle;padding: 5px;\"><div align=\"center\" style=\"display:inline-block;padding: 5px;\"><div align=\"center\" style=\"display:inline-block;padding: 5px;\"><span>$[\\![\\mathbf{\\text{gray}}]\\!]^{}_{?}$</span></div></div></div><div style=\"align: center; vertical-align: middle; display: table-cell;\"><span style=\"padding:1em;\">*</span></div><div style=\"display:table-cell;vertical-align:middle;padding: 5px;\"><div align=\"center\" style=\"display:inline-block;padding: 5px;\"><div align=\"center\" style=\"display:inline-block;padding: 5px;\"><span>$[\\![\\mathbf{\\text{cat}}]\\!]^{}_{?}$</span></div></div></div></div></div></div><div align=\"center\" style=\"display:table-row;padding: 5px;\"><div align=\"center\" style=\"display:table-cell;\"><div align=\"center\" style=\"display:inline-block;padding: 5px;\"><div align=\"center\" style=\"display:table;table-layout:auto;\"><div style=\"display:table-row;\"><div align=\"center\" style=\"display:table-cell;padding-right:2px; padding-left:2px;\"><span>$[\\![\\mathbf{\\text{[NP]}}]\\!]$</span></div></div><div style=\"display:table-row;\"><div align=\"center\" style=\"display:table-cell;padding-right:2px; padding-left:2px;\"><div align=\"left\" style=\"display:inline-block;padding: 5px;\"><div align=\"left\" style=\"display:table;table-layout:auto;\"><div style=\"display:table-row;\"><div align=\"left\" style=\"display:table-cell;padding-right:2px; padding-left:2px;\"><span style=\"color:blue; white-space:nowrap; display:inline-block;\">[path 0]: </span></div><div align=\"left\" style=\"display:table-cell;padding-right:2px; padding-left:2px;\"><span>$[\\![\\mathbf{\\text{NP}}]\\!]^{}_{X'} \\:=\\: $$[\\![\\mathbf{\\text{gray}}]\\!]^{}_{\\left\\langle{}X,X'\\right\\rangle{}}([\\![\\mathbf{\\text{cat}}]\\!]^{}_{X})$</span></div></div><div style=\"display:table-row;\"><div align=\"left\" style=\"display:table-cell;padding-right:2px; padding-left:2px;\"><span style=\"color:blue; white-space:nowrap; display:inline-block;\">[path 1]: </span></div><div align=\"left\" style=\"display:table-cell;padding-right:2px; padding-left:2px;\"><span>$[\\![\\mathbf{\\text{NP}}]\\!]^{}_{X'} \\:=\\: $$[\\![\\mathbf{\\text{cat}}]\\!]^{}_{\\left\\langle{}X,X'\\right\\rangle{}}([\\![\\mathbf{\\text{gray}}]\\!]^{}_{X})$</span></div></div><div style=\"display:table-row;\"><div align=\"left\" style=\"display:table-cell;padding-right:2px; padding-left:2px;\"><span style=\"color:blue; white-space:nowrap; display:inline-block;\">[path 2]: </span></div><div align=\"left\" style=\"display:table-cell;padding-right:2px; padding-left:2px;\"><span>$[\\![\\mathbf{\\text{NP}}]\\!]^{}_{\\left\\langle{}e,t\\right\\rangle{}} \\:=\\: $$\\lambda{} x_{e} \\: . \\: ([\\![\\mathbf{\\text{gray}}]\\!]^{}_{\\left\\langle{}e,t\\right\\rangle{}}({x}) \\wedge{} [\\![\\mathbf{\\text{cat}}]\\!]^{}_{\\left\\langle{}e,t\\right\\rangle{}}({x}))$</span></div></div></div></div></div></div></div></div></div></div></div>"
      ],
      "text/plain": [
       "<lamb.display.DisplayNode at 0x10719c710>"
      ]
     },
     "execution_count": 15,
     "metadata": {},
     "output_type": "execute_result"
    }
   ],
   "source": [
    "t = Tree(\"NP\", [\"gray\", \"cat\"])\n",
    "r = lang.hk3_system.compose(t)\n",
    "#lang.hk3_system.expand_next(r)\n",
    "#lang.hk3_system.expand_all(r)\n",
    "r.tree()"
   ]
  },
  {
   "cell_type": "code",
   "execution_count": 16,
   "metadata": {
    "collapsed": false
   },
   "outputs": [
    {
     "data": {
      "text/html": [
       "<div align=\"center\" style=\"display:table; margin:5px; border-collapse: collapse;border: 1px solid #848482;\"><div align=\"center\" style=\"display:table-row;border-bottom:1px solid #848482\"><div style=\"display:table-cell;vertical-align:middle;\"><div style=\"display: table;\"><div style=\"display:table-cell;vertical-align:middle;padding: 5px;\"><div align=\"center\" style=\"display:table; margin:5px; border-collapse: collapse;border: 1px solid #848482;\"><div align=\"center\" style=\"display:table-row;border-bottom:1px solid #848482\"><div style=\"display:table-cell;vertical-align:middle;\"><div style=\"display: table;\"></div></div></div><div align=\"center\" style=\"display:table-row;padding: 5px;\"><div align=\"center\" style=\"display:table-cell;\"><div align=\"center\" style=\"display:inline-block;padding: 5px;\"><div align=\"center\" style=\"display:table;table-layout:auto;\"><div style=\"display:table-row;\"><div align=\"center\" style=\"display:table-cell;padding-right:2px; padding-left:2px;\"><span>$[\\![\\mathbf{\\text{[gray]}}]\\!]$</span></div></div><div style=\"display:table-row;\"><div align=\"center\" style=\"display:table-cell;padding-right:2px; padding-left:2px;\"><div align=\"left\" style=\"display:inline-block;padding: 5px;\"><div align=\"left\" style=\"display:table;table-layout:auto;\"><div style=\"display:table-row;\"><div align=\"left\" style=\"display:table-cell;padding-right:2px; padding-left:2px;\"><span style=\"color:blue; white-space:nowrap; display:inline-block;\">[path 0]: </span></div><div align=\"left\" style=\"display:table-cell;padding-right:2px; padding-left:2px;\"><span>$[\\![\\mathbf{\\text{gray}}]\\!]^{}_{\\left\\langle{}e,t\\right\\rangle{}} \\:=\\: $$\\lambda{} x_{e} \\: . \\: {Gray}({x})$</span></div></div></div></div></div></div></div></div></div></div></div></div><div style=\"align: center; vertical-align: middle; display: table-cell;\"><span style=\"padding:1em;\">*</span></div><div style=\"display:table-cell;vertical-align:middle;padding: 5px;\"><div align=\"center\" style=\"display:inline-block;padding: 5px;\"><div align=\"center\" style=\"display:inline-block;padding: 5px;\"><span>$[\\![\\mathbf{\\text{cat}}]\\!]^{}_{?}$</span></div></div></div></div></div></div><div align=\"center\" style=\"display:table-row;padding: 5px;\"><div align=\"center\" style=\"display:table-cell;\"><div align=\"center\" style=\"display:inline-block;padding: 5px;\"><div align=\"center\" style=\"display:table;table-layout:auto;\"><div style=\"display:table-row;\"><div align=\"center\" style=\"display:table-cell;padding-right:2px; padding-left:2px;\"><span>$[\\![\\mathbf{\\text{[NP]}}]\\!]$</span></div></div><div style=\"display:table-row;\"><div align=\"center\" style=\"display:table-cell;padding-right:2px; padding-left:2px;\"><div align=\"left\" style=\"display:inline-block;padding: 5px;\"><div align=\"left\" style=\"display:table;table-layout:auto;\"><div style=\"display:table-row;\"><div align=\"left\" style=\"display:table-cell;padding-right:2px; padding-left:2px;\"><span style=\"color:blue; white-space:nowrap; display:inline-block;\">[path 0]: </span></div><div align=\"left\" style=\"display:table-cell;padding-right:2px; padding-left:2px;\"><span>$[\\![\\mathbf{\\text{NP}}]\\!]^{}_{t} \\:=\\: $${Gray}([\\![\\mathbf{\\text{cat}}]\\!]^{}_{e})$</span></div></div><div style=\"display:table-row;\"><div align=\"left\" style=\"display:table-cell;padding-right:2px; padding-left:2px;\"><span style=\"color:blue; white-space:nowrap; display:inline-block;\">[path 1]: </span></div><div align=\"left\" style=\"display:table-cell;padding-right:2px; padding-left:2px;\"><span>$[\\![\\mathbf{\\text{NP}}]\\!]^{}_{I_{59}} \\:=\\: $$[\\![\\mathbf{\\text{cat}}]\\!]^{}_{\\left\\langle{}\\left\\langle{}e,t\\right\\rangle{},I_{59}\\right\\rangle{}}(\\lambda{} x_{e} \\: . \\: {Gray}({x}))$</span></div></div><div style=\"display:table-row;\"><div align=\"left\" style=\"display:table-cell;padding-right:2px; padding-left:2px;\"><span style=\"color:blue; white-space:nowrap; display:inline-block;\">[path 2]: </span></div><div align=\"left\" style=\"display:table-cell;padding-right:2px; padding-left:2px;\"><span>$[\\![\\mathbf{\\text{NP}}]\\!]^{}_{\\left\\langle{}e,t\\right\\rangle{}} \\:=\\: $$\\lambda{} x_{e} \\: . \\: ({Gray}({x}) \\wedge{} [\\![\\mathbf{\\text{cat}}]\\!]^{}_{\\left\\langle{}e,t\\right\\rangle{}}({x}))$</span></div></div></div></div></div></div></div></div></div></div></div>"
      ],
      "text/plain": [
       "<lamb.display.DisplayNode at 0x107194860>"
      ]
     },
     "execution_count": 16,
     "metadata": {},
     "output_type": "execute_result"
    }
   ],
   "source": [
    "lang.hk3_system.expand_next(r)\n",
    "r.tree()"
   ]
  },
  {
   "cell_type": "code",
   "execution_count": 17,
   "metadata": {
    "collapsed": false
   },
   "outputs": [
    {
     "data": {
      "text/html": [
       "<div align=\"center\" style=\"display:table; margin:5px; border-collapse: collapse;border: 1px solid #848482;\"><div align=\"center\" style=\"display:table-row;border-bottom:1px solid #848482\"><div style=\"display:table-cell;vertical-align:middle;\"><div style=\"display: table;\"><div style=\"display:table-cell;vertical-align:middle;padding: 5px;\"><div align=\"center\" style=\"display:table; margin:5px; border-collapse: collapse;border: 1px solid #848482;\"><div align=\"center\" style=\"display:table-row;border-bottom:1px solid #848482\"><div style=\"display:table-cell;vertical-align:middle;\"><div style=\"display: table;\"></div></div></div><div align=\"center\" style=\"display:table-row;padding: 5px;\"><div align=\"center\" style=\"display:table-cell;\"><div align=\"center\" style=\"display:inline-block;padding: 5px;\"><div align=\"center\" style=\"display:table;table-layout:auto;\"><div style=\"display:table-row;\"><div align=\"center\" style=\"display:table-cell;padding-right:2px; padding-left:2px;\"><span>$[\\![\\mathbf{\\text{[gray]}}]\\!]$</span></div></div><div style=\"display:table-row;\"><div align=\"center\" style=\"display:table-cell;padding-right:2px; padding-left:2px;\"><div align=\"left\" style=\"display:inline-block;padding: 5px;\"><div align=\"left\" style=\"display:table;table-layout:auto;\"><div style=\"display:table-row;\"><div align=\"left\" style=\"display:table-cell;padding-right:2px; padding-left:2px;\"><span style=\"color:blue; white-space:nowrap; display:inline-block;\">[path 0]: </span></div><div align=\"left\" style=\"display:table-cell;padding-right:2px; padding-left:2px;\"><span>$[\\![\\mathbf{\\text{gray}}]\\!]^{}_{\\left\\langle{}e,t\\right\\rangle{}} \\:=\\: $$\\lambda{} x_{e} \\: . \\: {Gray}({x})$</span></div></div></div></div></div></div></div></div></div></div></div></div><div style=\"align: center; vertical-align: middle; display: table-cell;\"><span style=\"padding:1em;\">*</span></div><div style=\"display:table-cell;vertical-align:middle;padding: 5px;\"><div align=\"center\" style=\"display:table; margin:5px; border-collapse: collapse;border: 1px solid #848482;\"><div align=\"center\" style=\"display:table-row;border-bottom:1px solid #848482\"><div style=\"display:table-cell;vertical-align:middle;\"><div style=\"display: table;\"></div></div></div><div align=\"center\" style=\"display:table-row;padding: 5px;\"><div align=\"center\" style=\"display:table-cell;\"><div align=\"center\" style=\"display:inline-block;padding: 5px;\"><div align=\"center\" style=\"display:table;table-layout:auto;\"><div style=\"display:table-row;\"><div align=\"center\" style=\"display:table-cell;padding-right:2px; padding-left:2px;\"><span>$[\\![\\mathbf{\\text{[cat]}}]\\!]$</span></div></div><div style=\"display:table-row;\"><div align=\"center\" style=\"display:table-cell;padding-right:2px; padding-left:2px;\"><div align=\"left\" style=\"display:inline-block;padding: 5px;\"><div align=\"left\" style=\"display:table;table-layout:auto;\"><div style=\"display:table-row;\"><div align=\"left\" style=\"display:table-cell;padding-right:2px; padding-left:2px;\"><span style=\"color:blue; white-space:nowrap; display:inline-block;\">[path 0]: </span></div><div align=\"left\" style=\"display:table-cell;padding-right:2px; padding-left:2px;\"><span>$[\\![\\mathbf{\\text{cat}}]\\!]^{}_{\\left\\langle{}e,t\\right\\rangle{}} \\:=\\: $$\\lambda{} x_{e} \\: . \\: {Cat}({x})$</span></div></div></div></div></div></div></div></div></div></div></div></div></div></div></div><div align=\"center\" style=\"display:table-row;padding: 5px;\"><div align=\"center\" style=\"display:table-cell;\"><div align=\"center\" style=\"display:inline-block;padding: 5px;\"><div align=\"center\" style=\"display:table;table-layout:auto;\"><div style=\"display:table-row;\"><div align=\"center\" style=\"display:table-cell;padding-right:2px; padding-left:2px;\"><span>$[\\![\\mathbf{\\text{[NP]}}]\\!]$</span></div></div><div style=\"display:table-row;\"><div align=\"center\" style=\"display:table-cell;padding-right:2px; padding-left:2px;\"><div align=\"left\" style=\"display:inline-block;padding: 5px;\"><div align=\"left\" style=\"display:table;table-layout:auto;\"><div style=\"display:table-row;\"><div align=\"left\" style=\"display:table-cell;padding-right:2px; padding-left:2px;\"><span style=\"color:blue; white-space:nowrap; display:inline-block;\">[path 0]: </span></div><div align=\"left\" style=\"display:table-cell;padding-right:2px; padding-left:2px;\"><span>$[\\![\\mathbf{\\text{NP}}]\\!]^{}_{\\left\\langle{}e,t\\right\\rangle{}} \\:=\\: $$\\lambda{} x_{e} \\: . \\: ({Gray}({x}) \\wedge{} {Cat}({x}))$</span></div></div></div></div></div></div></div></div></div></div></div>"
      ],
      "text/plain": [
       "<lamb.display.DisplayNode at 0x1071319b0>"
      ]
     },
     "execution_count": 17,
     "metadata": {},
     "output_type": "execute_result"
    }
   ],
   "source": [
    "lang.hk3_system.expand_next(r)\n",
    "r.tree()"
   ]
  },
  {
   "cell_type": "code",
   "execution_count": 18,
   "metadata": {
    "collapsed": false
   },
   "outputs": [
    {
     "data": {
      "text/html": [
       "1 composition path:<br /><div align=\"center\" style=\"display:table; margin:5px; border-collapse: collapse;border: 1px solid #848482;\"><div align=\"center\" style=\"display:table-row;border-bottom:1px solid #848482\"><div style=\"display:table-cell;vertical-align:middle;\"><div style=\"display: table;\"><div style=\"display:table-cell;vertical-align:middle;padding: 5px;\"><div align=\"center\" style=\"display:table; margin:5px; border-collapse: collapse;border: 1px solid #848482;\"><div align=\"center\" style=\"display:table-row;border-bottom:1px solid #848482\"><div style=\"display:table-cell;vertical-align:middle;\"><div style=\"display: table;\"><div style=\"display:table-cell;vertical-align:middle;padding: 5px;\"><div align=\"center\" style=\"display:inline-block;padding: 5px;\"><span>$[\\![\\mathbf{\\text{gray}}]\\!]^{}_{\\left\\langle{}e,t\\right\\rangle{}}$</span></div></div></div></div><div style=\"display:table-cell;vertical-align:middle;border-left:1px solid #848482;padding:0.5em\"><div style=\"white-space:nowrap; color:blue;\"><b>[<span>Lexicon</span>]</b></div></div></div><div align=\"center\" style=\"display:table-row;padding: 5px;\"><div align=\"center\" style=\"display:table-cell;\"><div align=\"center\" style=\"display:inline-block;padding: 5px;\"><span>$\\lambda{} x_{e} \\: . \\: {Gray}({x})$</span></div></div><div style=\"display:table-cell;\"></div></div></div></div><div style=\"align: center; vertical-align: middle; display: table-cell;\"><span style=\"padding:1em;\">*</span></div><div style=\"display:table-cell;vertical-align:middle;padding: 5px;\"><div align=\"center\" style=\"display:table; margin:5px; border-collapse: collapse;border: 1px solid #848482;\"><div align=\"center\" style=\"display:table-row;border-bottom:1px solid #848482\"><div style=\"display:table-cell;vertical-align:middle;\"><div style=\"display: table;\"><div style=\"display:table-cell;vertical-align:middle;padding: 5px;\"><div align=\"center\" style=\"display:inline-block;padding: 5px;\"><span>$[\\![\\mathbf{\\text{cat}}]\\!]^{}_{\\left\\langle{}e,t\\right\\rangle{}}$</span></div></div></div></div><div style=\"display:table-cell;vertical-align:middle;border-left:1px solid #848482;padding:0.5em\"><div style=\"white-space:nowrap; color:blue;\"><b>[<span>Lexicon</span>]</b></div></div></div><div align=\"center\" style=\"display:table-row;padding: 5px;\"><div align=\"center\" style=\"display:table-cell;\"><div align=\"center\" style=\"display:inline-block;padding: 5px;\"><span>$\\lambda{} x_{e} \\: . \\: {Cat}({x})$</span></div></div><div style=\"display:table-cell;\"></div></div></div></div></div></div><div style=\"display:table-cell;vertical-align:middle;border-left:1px solid #848482;padding:0.5em\"><div style=\"white-space:nowrap; color:blue;\"><b>[<span>PM</span>]</b></div></div></div><div align=\"center\" style=\"display:table-row;padding: 5px;\"><div align=\"center\" style=\"display:table-cell;\"><div align=\"center\" style=\"display:inline-block;padding: 5px;\"><div align=\"center\" style=\"display:table;table-layout:auto;\"><div style=\"display:table-row;\"><div align=\"center\" style=\"display:table-cell;padding-right:2px; padding-left:2px;\"><span>$[\\![\\mathbf{\\text{NP}}]\\!]^{}_{\\left\\langle{}e,t\\right\\rangle{}}$</span></div></div><div style=\"display:table-row;\"><div align=\"center\" style=\"display:table-cell;padding-right:2px; padding-left:2px;\"><span>$\\lambda{} x_{e} \\: . \\: ({Gray}({x}) \\wedge{} {Cat}({x}))$</span></div></div></div></div></div><div style=\"display:table-cell;\"></div></div></div><br /><br />"
      ],
      "text/latex": [
       "1 composition path:<br /><div align=\"center\" style=\"display:table; margin:5px; border-collapse: collapse;border: 1px solid #848482;\"><div align=\"center\" style=\"display:table-row;border-bottom:1px solid #848482\"><div style=\"display:table-cell;vertical-align:middle;\"><div style=\"display: table;\"><div style=\"display:table-cell;vertical-align:middle;padding: 5px;\"><div align=\"center\" style=\"display:table; margin:5px; border-collapse: collapse;border: 1px solid #848482;\"><div align=\"center\" style=\"display:table-row;border-bottom:1px solid #848482\"><div style=\"display:table-cell;vertical-align:middle;\"><div style=\"display: table;\"><div style=\"display:table-cell;vertical-align:middle;padding: 5px;\"><div align=\"center\" style=\"display:inline-block;padding: 5px;\"><span>$[\\![\\mathbf{\\text{gray}}]\\!]^{}_{\\left\\langle{}e,t\\right\\rangle{}}$</span></div></div></div></div><div style=\"display:table-cell;vertical-align:middle;border-left:1px solid #848482;padding:0.5em\"><div style=\"white-space:nowrap; color:blue;\"><b>[<span>Lexicon</span>]</b></div></div></div><div align=\"center\" style=\"display:table-row;padding: 5px;\"><div align=\"center\" style=\"display:table-cell;\"><div align=\"center\" style=\"display:inline-block;padding: 5px;\"><span>$\\lambda{} x_{e} \\: . \\: {Gray}({x})$</span></div></div><div style=\"display:table-cell;\"></div></div></div></div><div style=\"align: center; vertical-align: middle; display: table-cell;\"><span style=\"padding:1em;\">*</span></div><div style=\"display:table-cell;vertical-align:middle;padding: 5px;\"><div align=\"center\" style=\"display:table; margin:5px; border-collapse: collapse;border: 1px solid #848482;\"><div align=\"center\" style=\"display:table-row;border-bottom:1px solid #848482\"><div style=\"display:table-cell;vertical-align:middle;\"><div style=\"display: table;\"><div style=\"display:table-cell;vertical-align:middle;padding: 5px;\"><div align=\"center\" style=\"display:inline-block;padding: 5px;\"><span>$[\\![\\mathbf{\\text{cat}}]\\!]^{}_{\\left\\langle{}e,t\\right\\rangle{}}$</span></div></div></div></div><div style=\"display:table-cell;vertical-align:middle;border-left:1px solid #848482;padding:0.5em\"><div style=\"white-space:nowrap; color:blue;\"><b>[<span>Lexicon</span>]</b></div></div></div><div align=\"center\" style=\"display:table-row;padding: 5px;\"><div align=\"center\" style=\"display:table-cell;\"><div align=\"center\" style=\"display:inline-block;padding: 5px;\"><span>$\\lambda{} x_{e} \\: . \\: {Cat}({x})$</span></div></div><div style=\"display:table-cell;\"></div></div></div></div></div></div><div style=\"display:table-cell;vertical-align:middle;border-left:1px solid #848482;padding:0.5em\"><div style=\"white-space:nowrap; color:blue;\"><b>[<span>PM</span>]</b></div></div></div><div align=\"center\" style=\"display:table-row;padding: 5px;\"><div align=\"center\" style=\"display:table-cell;\"><div align=\"center\" style=\"display:inline-block;padding: 5px;\"><div align=\"center\" style=\"display:table;table-layout:auto;\"><div style=\"display:table-row;\"><div align=\"center\" style=\"display:table-cell;padding-right:2px; padding-left:2px;\"><span>$[\\![\\mathbf{\\text{NP}}]\\!]^{}_{\\left\\langle{}e,t\\right\\rangle{}}$</span></div></div><div style=\"display:table-row;\"><div align=\"center\" style=\"display:table-cell;padding-right:2px; padding-left:2px;\"><span>$\\lambda{} x_{e} \\: . \\: ({Gray}({x}) \\wedge{} {Cat}({x}))$</span></div></div></div></div></div><div style=\"display:table-cell;\"></div></div></div><br /><br />"
      ],
      "text/plain": [
       "1 composition path:<br /><div align=\"center\" style=\"display:table; margin:5px; border-collapse: collapse;border: 1px solid #848482;\"><div align=\"center\" style=\"display:table-row;border-bottom:1px solid #848482\"><div style=\"display:table-cell;vertical-align:middle;\"><div style=\"display: table;\"><div style=\"display:table-cell;vertical-align:middle;padding: 5px;\"><div align=\"center\" style=\"display:table; margin:5px; border-collapse: collapse;border: 1px solid #848482;\"><div align=\"center\" style=\"display:table-row;border-bottom:1px solid #848482\"><div style=\"display:table-cell;vertical-align:middle;\"><div style=\"display: table;\"><div style=\"display:table-cell;vertical-align:middle;padding: 5px;\"><div align=\"center\" style=\"display:inline-block;padding: 5px;\"><span>$[\\![\\mathbf{\\text{gray}}]\\!]^{}_{\\left\\langle{}e,t\\right\\rangle{}}$</span></div></div></div></div><div style=\"display:table-cell;vertical-align:middle;border-left:1px solid #848482;padding:0.5em\"><div style=\"white-space:nowrap; color:blue;\"><b>[<span>Lexicon</span>]</b></div></div></div><div align=\"center\" style=\"display:table-row;padding: 5px;\"><div align=\"center\" style=\"display:table-cell;\"><div align=\"center\" style=\"display:inline-block;padding: 5px;\"><span>$\\lambda{} x_{e} \\: . \\: {Gray}({x})$</span></div></div><div style=\"display:table-cell;\"></div></div></div></div><div style=\"align: center; vertical-align: middle; display: table-cell;\"><span style=\"padding:1em;\">*</span></div><div style=\"display:table-cell;vertical-align:middle;padding: 5px;\"><div align=\"center\" style=\"display:table; margin:5px; border-collapse: collapse;border: 1px solid #848482;\"><div align=\"center\" style=\"display:table-row;border-bottom:1px solid #848482\"><div style=\"display:table-cell;vertical-align:middle;\"><div style=\"display: table;\"><div style=\"display:table-cell;vertical-align:middle;padding: 5px;\"><div align=\"center\" style=\"display:inline-block;padding: 5px;\"><span>$[\\![\\mathbf{\\text{cat}}]\\!]^{}_{\\left\\langle{}e,t\\right\\rangle{}}$</span></div></div></div></div><div style=\"display:table-cell;vertical-align:middle;border-left:1px solid #848482;padding:0.5em\"><div style=\"white-space:nowrap; color:blue;\"><b>[<span>Lexicon</span>]</b></div></div></div><div align=\"center\" style=\"display:table-row;padding: 5px;\"><div align=\"center\" style=\"display:table-cell;\"><div align=\"center\" style=\"display:inline-block;padding: 5px;\"><span>$\\lambda{} x_{e} \\: . \\: {Cat}({x})$</span></div></div><div style=\"display:table-cell;\"></div></div></div></div></div></div><div style=\"display:table-cell;vertical-align:middle;border-left:1px solid #848482;padding:0.5em\"><div style=\"white-space:nowrap; color:blue;\"><b>[<span>PM</span>]</b></div></div></div><div align=\"center\" style=\"display:table-row;padding: 5px;\"><div align=\"center\" style=\"display:table-cell;\"><div align=\"center\" style=\"display:inline-block;padding: 5px;\"><div align=\"center\" style=\"display:table;table-layout:auto;\"><div style=\"display:table-row;\"><div align=\"center\" style=\"display:table-cell;padding-right:2px; padding-left:2px;\"><span>$[\\![\\mathbf{\\text{NP}}]\\!]^{}_{\\left\\langle{}e,t\\right\\rangle{}}$</span></div></div><div style=\"display:table-row;\"><div align=\"center\" style=\"display:table-cell;padding-right:2px; padding-left:2px;\"><span>$\\lambda{} x_{e} \\: . \\: ({Gray}({x}) \\wedge{} {Cat}({x}))$</span></div></div></div></div></div><div style=\"display:table-cell;\"></div></div></div><br /><br />"
      ]
     },
     "execution_count": 18,
     "metadata": {},
     "output_type": "execute_result"
    }
   ],
   "source": [
    "r.paths()"
   ]
  },
  {
   "cell_type": "code",
   "execution_count": 19,
   "metadata": {
    "collapsed": false
   },
   "outputs": [],
   "source": []
  }
 ],
 "metadata": {
  "kernelspec": {
   "display_name": "Lambda Notebook (Python 3)",
   "language": "python",
   "name": "lambda-notebook"
  },
  "language_info": {
   "codemirror_mode": {
    "name": "ipython",
    "version": 3
   },
   "file_extension": ".py",
   "mimetype": "text/x-python",
   "name": "python",
   "nbconvert_exporter": "python",
   "pygments_lexer": "ipython3",
   "version": "3.3.4"
  }
 },
 "nbformat": 4,
 "nbformat_minor": 0
}
