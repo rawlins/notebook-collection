{
 "cells": [
  {
   "cell_type": "code",
   "execution_count": 1,
   "metadata": {
    "collapsed": true
   },
   "outputs": [],
   "source": [
    "reload_lamb()"
   ]
  },
  {
   "cell_type": "markdown",
   "metadata": {},
   "source": [
    "Simple type inference still works"
   ]
  },
  {
   "cell_type": "code",
   "execution_count": 2,
   "metadata": {
    "collapsed": false
   },
   "outputs": [
    {
     "name": "stderr",
     "output_type": "stream",
     "text": [
      "ERROR (parsing): Parsing of typed expression failed with exception:\n",
      "ERROR (parsing): Type mismatch: 'P_<e,t>'/<e,t> and type <n,t> conflict (mode: Failed to unify types across distinct instances of term)\n"
     ]
    }
   ],
   "source": [
    "%te P_<e,t>(x_e) & P_<n,t>(n_n) # should fail because no principle type for P"
   ]
  },
  {
   "cell_type": "markdown",
   "metadata": {},
   "source": [
    "Inference from type variables to simple types"
   ]
  },
  {
   "cell_type": "code",
   "execution_count": 3,
   "metadata": {
    "collapsed": false
   },
   "outputs": [
    {
     "data": {
      "text/latex": [
       "$\\lambda{} x_{e} \\: . \\: {Q}_{\\left\\langle{}e,e\\right\\rangle{}}({x})$"
      ],
      "text/plain": [
       "(λ x_e: Q_<e,e>(x_e))"
      ]
     },
     "execution_count": 3,
     "metadata": {},
     "output_type": "execute_result"
    }
   ],
   "source": [
    "%te L x_e : Q_<X,X>(x_X)"
   ]
  },
  {
   "cell_type": "code",
   "execution_count": 4,
   "metadata": {
    "collapsed": false
   },
   "outputs": [
    {
     "data": {
      "text/latex": [
       "${Q}_{\\left\\langle{}e,e\\right\\rangle{}}({x}_{e})$"
      ],
      "text/plain": [
       "Q_<e,e>(x_e)"
      ]
     },
     "execution_count": 4,
     "metadata": {},
     "output_type": "execute_result"
    }
   ],
   "source": [
    "%te Q_<X,X>(x_e)"
   ]
  },
  {
   "cell_type": "code",
   "execution_count": 5,
   "metadata": {
    "collapsed": false
   },
   "outputs": [
    {
     "data": {
      "text/latex": [
       "$({p}_{\\left\\langle{}e,t\\right\\rangle{}}({x}_{e}) \\wedge{} {p}_{\\left\\langle{}e,t\\right\\rangle{}}({n}_{e}))$"
      ],
      "text/plain": [
       "(p_<e,t>(x_e) & p_<e,t>(n_e))"
      ]
     },
     "execution_count": 5,
     "metadata": {},
     "output_type": "execute_result"
    }
   ],
   "source": [
    "%te p_<e,t>(x_e) & p_<X,t>(n_X) # variables of the same name should have the same type"
   ]
  },
  {
   "cell_type": "markdown",
   "metadata": {},
   "source": [
    "Application-related inference"
   ]
  },
  {
   "cell_type": "code",
   "execution_count": 6,
   "metadata": {
    "collapsed": false
   },
   "outputs": [
    {
     "data": {
      "text/latex": [
       "${Q}_{\\left\\langle{}e,X\\right\\rangle{}}({x}_{e})$"
      ],
      "text/plain": [
       "Q_<e,X>(x_e)"
      ]
     },
     "execution_count": 6,
     "metadata": {},
     "output_type": "execute_result"
    }
   ],
   "source": [
    "%te Q_X(x_e)"
   ]
  },
  {
   "cell_type": "code",
   "execution_count": 7,
   "metadata": {
    "collapsed": false
   },
   "outputs": [
    {
     "data": {
      "text/latex": [
       "${[\\lambda{} x_{e} \\: . \\: {P}_{\\left\\langle{}e,e\\right\\rangle{}}({x})]}({x}_{e})$"
      ],
      "text/plain": [
       "((λ x_e: P_<e,e>(x_e)))(x_e)"
      ]
     },
     "execution_count": 7,
     "metadata": {},
     "output_type": "execute_result"
    }
   ],
   "source": [
    "%te (L x_X : P_<X,X>(x))(x_e)"
   ]
  },
  {
   "cell_type": "code",
   "execution_count": 8,
   "metadata": {
    "collapsed": false
   },
   "outputs": [
    {
     "data": {
      "text/latex": [
       "${f}_{\\left\\langle{}t,t\\right\\rangle{}}({p}_{\\left\\langle{}t,t\\right\\rangle{}}({Q}_{\\left\\langle{}t,t\\right\\rangle{}}({x}_{t})))$"
      ],
      "text/plain": [
       "f_<t,t>(p_<t,t>(Q_<t,t>(x_t)))"
      ]
     },
     "execution_count": 8,
     "metadata": {},
     "output_type": "execute_result"
    }
   ],
   "source": [
    "%te (f_<t,t>(p_<X,X>(Q_<X,X>(x_X))))"
   ]
  },
  {
   "cell_type": "code",
   "execution_count": 9,
   "metadata": {
    "collapsed": false
   },
   "outputs": [
    {
     "data": {
      "text/latex": [
       "${f}_{\\left\\langle{}\\left\\langle{}Y,Y\\right\\rangle{},\\left\\langle{}Y,Y\\right\\rangle{}\\right\\rangle{}}({g}_{\\left\\langle{}X,X\\right\\rangle{}})$"
      ],
      "text/plain": [
       "f_<<Y,Y>,<Y,Y>>(g_<X,X>)"
      ]
     },
     "execution_count": 9,
     "metadata": {},
     "output_type": "execute_result"
    }
   ],
   "source": [
    "%te (f_<<X,Y>,<X,Y>>(g_<X,X>))"
   ]
  },
  {
   "cell_type": "code",
   "execution_count": 10,
   "metadata": {
    "collapsed": false
   },
   "outputs": [
    {
     "data": {
      "text/latex": [
       "${[\\lambda{} f_{\\left\\langle{}Y,Y\\right\\rangle{}} \\: . \\: \\lambda{} x_{Y} \\: . \\: {y}_{Y}]}({g}_{\\left\\langle{}Z,Z\\right\\rangle{}})$"
      ],
      "text/plain": [
       "((λ f_<Y,Y>: (λ x_Y: y_Y)))(g_<Z,Z>)"
      ]
     },
     "execution_count": 10,
     "metadata": {},
     "output_type": "execute_result"
    }
   ],
   "source": [
    "%te (L f_<X,Y> : L x_X: y_Y)(g_<Z,Z>)"
   ]
  },
  {
   "cell_type": "code",
   "execution_count": 11,
   "metadata": {
    "collapsed": false
   },
   "outputs": [
    {
     "data": {
      "text/latex": [
       "${p}_{\\left\\langle{}X''',X_{4}\\right\\rangle{}}({q}_{\\left\\langle{}X'',X'''\\right\\rangle{}}({a}_{\\left\\langle{}X',X''\\right\\rangle{}}({b}_{\\left\\langle{}X,X'\\right\\rangle{}}({c}_{\\left\\langle{}e,X\\right\\rangle{}}({d}_{e})))))$"
      ],
      "text/plain": [
       "p_<X''',X4>(q_<X'',X'''>(a_<X',X''>(b_<X,X'>(c_<e,X>(d_e)))))"
      ]
     },
     "execution_count": 11,
     "metadata": {},
     "output_type": "execute_result"
    }
   ],
   "source": [
    "%te p_X(q_X'(a_X''(b_X'''(c_X''''(d_e)))))"
   ]
  },
  {
   "cell_type": "code",
   "execution_count": 12,
   "metadata": {
    "collapsed": false
   },
   "outputs": [
    {
     "data": {
      "text/latex": [
       "$\\lambda{} x_{\\left\\langle{}\\left\\langle{}e,t\\right\\rangle{},X\\right\\rangle{}} \\: . \\: {x}({y}_{\\left\\langle{}e,t\\right\\rangle{}})$"
      ],
      "text/plain": [
       "(λ x_<<e,t>,X>: x_<<e,t>,X>(y_<e,t>))"
      ]
     },
     "execution_count": 12,
     "metadata": {},
     "output_type": "execute_result"
    }
   ],
   "source": [
    "%te L x_X : x(y_<e,t>)"
   ]
  },
  {
   "cell_type": "code",
   "execution_count": 13,
   "metadata": {
    "collapsed": false
   },
   "outputs": [
    {
     "data": {
      "text/latex": [
       "${[\\lambda{} g_{\\left\\langle{}Y,t\\right\\rangle{}} \\: . \\: \\lambda{} x_{X} \\: . \\: {g}({x})]}(\\lambda{} x_{X'} \\: . \\: {P}_{\\left\\langle{}Z,t\\right\\rangle{}}({x}))$"
      ],
      "text/plain": [
       "((λ g_<Y,t>: (λ x_X: g_<Y,t>(x_X))))((λ x_X': P_<Z,t>(x_X')))"
      ]
     },
     "execution_count": 13,
     "metadata": {},
     "output_type": "execute_result"
    }
   ],
   "source": [
    "%te (L g_<Y,t> : L x_X : g(x)) (L x_X10 : P_<Z,t>(x)) # application involving two LFuns"
   ]
  },
  {
   "cell_type": "markdown",
   "metadata": {},
   "source": [
    "Interaction with other operators"
   ]
  },
  {
   "cell_type": "code",
   "execution_count": 14,
   "metadata": {
    "collapsed": false
   },
   "outputs": [
    {
     "data": {
      "text/latex": [
       "$({P}({x}_{e}) \\wedge{} {Q}({x}_{e}))$"
      ],
      "text/plain": [
       "(P_<e,t>(x_e) & Q_<e,t>(x_e))"
      ]
     },
     "execution_count": 14,
     "metadata": {},
     "output_type": "execute_result"
    }
   ],
   "source": [
    "%te P_<e,t>(x_X) & Q_<X,Y>(x_X)"
   ]
  },
  {
   "cell_type": "code",
   "execution_count": 15,
   "metadata": {
    "collapsed": false
   },
   "outputs": [
    {
     "data": {
      "text/latex": [
       "$({p}_{t} \\wedge{} {Q}_{\\left\\langle{}t,t\\right\\rangle{}}({x}_{t}))$"
      ],
      "text/plain": [
       "(p_t & Q_<t,t>(x_t))"
      ]
     },
     "execution_count": 15,
     "metadata": {},
     "output_type": "execute_result"
    }
   ],
   "source": [
    "%te p_t & Q_<X,X>(x_X)"
   ]
  },
  {
   "cell_type": "code",
   "execution_count": 16,
   "metadata": {
    "collapsed": false
   },
   "outputs": [
    {
     "name": "stdout",
     "output_type": "stream",
     "text": [
      "INFO (meta): Coerced guessed type for 'P_t' into <X,t>, to match argument 'x_X'\n"
     ]
    },
    {
     "data": {
      "text/latex": [
       "$\\iota{} x_{e} \\: . \\: {P}({x})$"
      ],
      "text/plain": [
       "(ι x_e: P_<e,t>(x_e))"
      ]
     },
     "execution_count": 16,
     "metadata": {},
     "output_type": "execute_result"
    }
   ],
   "source": [
    "x = %te Iota x_X: P(x)\n",
    "x.try_adjust_type(tp(\"e\"))"
   ]
  },
  {
   "cell_type": "code",
   "execution_count": 17,
   "metadata": {
    "collapsed": false
   },
   "outputs": [
    {
     "data": {
      "text/latex": [
       "$\\iota{} x_{Y} \\: . \\: {P}_{\\left\\langle{}Y,t\\right\\rangle{}}({x})$"
      ],
      "text/plain": [
       "(ι x_Y: P_<Y,t>(x_Y))"
      ]
     },
     "execution_count": 17,
     "metadata": {},
     "output_type": "execute_result"
    }
   ],
   "source": [
    "x.try_adjust_type(tp(\"Y\"))"
   ]
  },
  {
   "cell_type": "code",
   "execution_count": 18,
   "metadata": {
    "collapsed": false
   },
   "outputs": [
    {
     "data": {
      "text/latex": [
       "${[\\lambda{} x_{e} \\: . \\: {P}({x})]}(\\iota{} x_{e} \\: . \\: {Q}({x}))$"
      ],
      "text/plain": [
       "((λ x_e: P_<e,t>(x_e)))((ι x_e: Q_<e,t>(x_e)))"
      ]
     },
     "execution_count": 18,
     "metadata": {},
     "output_type": "execute_result"
    }
   ],
   "source": [
    "%te (L x_X : P_<e,t>(x))(Iota x_Y: Q_<Y,t>(x))"
   ]
  },
  {
   "cell_type": "markdown",
   "metadata": {},
   "source": [
    "Inference from function body to variable"
   ]
  },
  {
   "cell_type": "code",
   "execution_count": 19,
   "metadata": {
    "collapsed": false
   },
   "outputs": [
    {
     "data": {
      "text/latex": [
       "$\\lambda{} x_{e} \\: . \\: {x}$"
      ],
      "text/plain": [
       "(λ x_e: x_e)"
      ]
     },
     "execution_count": 19,
     "metadata": {},
     "output_type": "execute_result"
    }
   ],
   "source": [
    "%te L x_X : x_e"
   ]
  },
  {
   "cell_type": "code",
   "execution_count": 20,
   "metadata": {
    "collapsed": false
   },
   "outputs": [
    {
     "data": {
      "text/latex": [
       "$\\lambda{} x_{e} \\: . \\: {x}$"
      ],
      "text/plain": [
       "(λ x_e: x_e)"
      ]
     },
     "execution_count": 20,
     "metadata": {},
     "output_type": "execute_result"
    }
   ],
   "source": [
    "%te L x_e : x_X"
   ]
  },
  {
   "cell_type": "code",
   "execution_count": 21,
   "metadata": {
    "collapsed": false
   },
   "outputs": [
    {
     "data": {
      "text/latex": [
       "$\\lambda{} x_{\\left\\langle{}e,X\\right\\rangle{}} \\: . \\: {z}_{\\left\\langle{}e,X\\right\\rangle{}}({y}_{e})$"
      ],
      "text/plain": [
       "(λ x_<e,X>: z_<e,X>(y_e))"
      ]
     },
     "execution_count": 21,
     "metadata": {},
     "output_type": "execute_result"
    }
   ],
   "source": [
    "%te L x_X : z_X(y_e)"
   ]
  },
  {
   "cell_type": "code",
   "execution_count": 22,
   "metadata": {
    "collapsed": false
   },
   "outputs": [
    {
     "data": {
      "text/latex": [
       "$\\lambda{} x_{t} \\: . \\: ({x} \\wedge{} {x})$"
      ],
      "text/plain": [
       "(λ x_t: (x_t & x_t))"
      ]
     },
     "execution_count": 22,
     "metadata": {},
     "output_type": "execute_result"
    }
   ],
   "source": [
    "%te L x_X : x_X & x_X"
   ]
  },
  {
   "cell_type": "code",
   "execution_count": 23,
   "metadata": {
    "collapsed": false
   },
   "outputs": [
    {
     "data": {
      "text/latex": [
       "$\\lambda{} x_{X} \\: . \\: {g}_{\\left\\langle{}Y,t\\right\\rangle{}}({x})$"
      ],
      "text/plain": [
       "(λ x_X: g_<Y,t>(x_X))"
      ]
     },
     "execution_count": 23,
     "metadata": {},
     "output_type": "execute_result"
    }
   ],
   "source": [
    "%te L x_X : g_<Y,t>(x)"
   ]
  },
  {
   "cell_type": "code",
   "execution_count": 24,
   "metadata": {
    "collapsed": false
   },
   "outputs": [
    {
     "data": {
      "text/latex": [
       "$\\lambda{} g_{\\left\\langle{}Y,t\\right\\rangle{}} \\: . \\: \\lambda{} x_{X} \\: . \\: {g}({x})$"
      ],
      "text/plain": [
       "(λ g_<Y,t>: (λ x_X: g_<Y,t>(x_X)))"
      ]
     },
     "execution_count": 24,
     "metadata": {},
     "output_type": "execute_result"
    }
   ],
   "source": [
    "%te L g_<Y,t> : L x_X : g(x) # across multiple LFuns"
   ]
  },
  {
   "cell_type": "code",
   "execution_count": 25,
   "metadata": {
    "collapsed": false
   },
   "outputs": [
    {
     "data": {
      "text/latex": [
       "$\\lambda{} x_{\\left\\langle{}e,t\\right\\rangle{}} \\: . \\: ({[\\lambda{} y_{\\left\\langle{}e,t\\right\\rangle{}} \\: . \\: {[\\lambda{} a_{\\left\\langle{}e,I_{96}\\right\\rangle{}} \\: . \\: {a}({z}_{e})]}({y})]}({x}) \\wedge{} {p}_{t})$"
      ],
      "text/plain": [
       "(λ x_<e,t>: (((λ y_<e,t>: ((λ a_<e,I96>: a_<e,t>(z_e)))(y_<e,t>)))(x_<e,t>) & p_t))"
      ]
     },
     "execution_count": 25,
     "metadata": {},
     "output_type": "execute_result"
    }
   ],
   "source": [
    "%te L x_X : (L y_Y : (L a_Z : a(z_e))(y))(x) & p_X'"
   ]
  },
  {
   "cell_type": "code",
   "execution_count": 26,
   "metadata": {
    "collapsed": false
   },
   "outputs": [
    {
     "data": {
      "text/latex": [
       "$\\lambda{} a_{\\left\\langle{}X',X\\right\\rangle{}} \\: . \\: \\lambda{} b_{X'} \\: . \\: {a}({b})$"
      ],
      "text/plain": [
       "(λ a_<X',X>: (λ b_X': a_<X',X>(b_X')))"
      ]
     },
     "execution_count": 26,
     "metadata": {},
     "output_type": "execute_result"
    }
   ],
   "source": [
    "%te L a_X : L b_X' : a(b) # application should force functional type"
   ]
  },
  {
   "cell_type": "code",
   "execution_count": 27,
   "metadata": {
    "collapsed": false
   },
   "outputs": [
    {
     "data": {
      "text/latex": [
       "$\\lambda{} a_{\\left\\langle{}X,X''\\right\\rangle{}} \\: . \\: \\lambda{} c_{X} \\: . \\: {a}({[\\lambda{} b_{X'} \\: . \\: {b}]}({c}))$"
      ],
      "text/plain": [
       "(λ a_<X,X''>: (λ c_X: a_<X,X''>(((λ b_X': b_X'))(c_X))))"
      ]
     },
     "execution_count": 27,
     "metadata": {},
     "output_type": "execute_result"
    }
   ],
   "source": [
    "%te L a_X : L c_X'' : a((L b_X' : b)(c)) # X'' = X', X = <X', ?>"
   ]
  },
  {
   "cell_type": "code",
   "execution_count": 28,
   "metadata": {
    "collapsed": false
   },
   "outputs": [
    {
     "data": {
      "text/latex": [
       "$\\lambda{} d_{X_{5}} \\: . \\: \\lambda{} c_{\\left\\langle{}X_{5},X\\right\\rangle{}} \\: . \\: \\lambda{} b_{\\left\\langle{}X,X'\\right\\rangle{}} \\: . \\: \\lambda{} a_{\\left\\langle{}X',X''\\right\\rangle{}} \\: . \\: \\lambda{} q_{\\left\\langle{}X'',X'''\\right\\rangle{}} \\: . \\: \\lambda{} p_{\\left\\langle{}X''',X_{4}\\right\\rangle{}} \\: . \\: {p}({q}({a}({b}({c}({d})))))$"
      ],
      "text/plain": [
       "(λ d_X5: (λ c_<X5,X>: (λ b_<X,X'>: (λ a_<X',X''>: (λ q_<X'',X'''>: (λ p_<X''',X4>: p_<X''',X4>(q_<X'',X'''>(a_<X',X''>(b_<X,X'>(c_<X5,X>(d_X5)))))))))))"
      ]
     },
     "execution_count": 28,
     "metadata": {},
     "output_type": "execute_result"
    }
   ],
   "source": [
    "%te L d_X22 : L c_X' : L b_X'' : L a_X''' : L q_X'''' : L p_X''''' : p(q(a(b(c(d)))))"
   ]
  },
  {
   "cell_type": "markdown",
   "metadata": {},
   "source": [
    "Inference in function construction, failure cases.  \n",
    "\n",
    "The following should fail because there is no consistent resolution of type variable `X`."
   ]
  },
  {
   "cell_type": "code",
   "execution_count": 29,
   "metadata": {
    "collapsed": false
   },
   "outputs": [
    {
     "name": "stderr",
     "output_type": "stream",
     "text": [
      "ERROR (parsing): Parsing of typed expression failed with exception:\n",
      "ERROR (parsing): Type mismatch: type <e,t> and type t conflict (mode: Failed to unify type variable X across contexts)\n"
     ]
    }
   ],
   "source": [
    "%te L x_X : (L y_<Y,Z> : y(z_e))(x) & p_X # X = <Y,Z> (appl), Y = <e,?> (appl), Z = t (conjunction), X=<e,t> (unification), X = t (conjunction)"
   ]
  },
  {
   "cell_type": "markdown",
   "metadata": {},
   "source": [
    "Various things in one"
   ]
  },
  {
   "cell_type": "code",
   "execution_count": 30,
   "metadata": {
    "collapsed": false
   },
   "outputs": [
    {
     "data": {
      "text/latex": [
       "$\\lambda{} x_{e} \\: . \\: ({P}({A}_{e}) \\wedge{} {Q}({x}))$"
      ],
      "text/plain": [
       "(λ x_e: (P_<e,t>(A_e) & Q_<e,t>(x_e)))"
      ]
     },
     "execution_count": 30,
     "metadata": {},
     "output_type": "execute_result"
    }
   ],
   "source": [
    "%te L x_X : P_<Y,t>(A_Y) & Q_<Y,t>(x_e) # Y=X (appl), X=e (from var), inference to type vars not shared on bound variables"
   ]
  },
  {
   "cell_type": "code",
   "execution_count": 31,
   "metadata": {
    "collapsed": false
   },
   "outputs": [
    {
     "data": {
      "text/latex": [
       "${[\\lambda{} x_{e} \\: . \\: ({P}({A}_{e}) \\wedge{} {Q}({x}))]}({[\\lambda{} x_{e} \\: . \\: {x}]}({A}_{e}))$"
      ],
      "text/plain": [
       "((λ x_e: (P_<e,t>(A_e) & Q_<e,t>(x_e))))(((λ x_e: x_e))(A_e))"
      ]
     },
     "execution_count": 31,
     "metadata": {},
     "output_type": "execute_result"
    }
   ],
   "source": [
    "%te (L x_X : P_<Y,t>(A_Y) & Q_<X,t>(x_e))((L x_Y : x)(A_Y))"
   ]
  },
  {
   "cell_type": "code",
   "execution_count": 32,
   "metadata": {
    "collapsed": false
   },
   "outputs": [
    {
     "name": "stdout",
     "output_type": "stream",
     "text": [
      "INFO (meta): Coerced guessed type for 'Saw_t' into <(e,e),t>, to match argument '(y_e, x_e)'\n"
     ]
    },
    {
     "data": {
      "text/latex": [
       "${[\\lambda{} g_{\\left\\langle{}e,\\left\\langle{}e,t\\right\\rangle{}\\right\\rangle{}} \\: . \\: \\lambda{} f_{\\left\\langle{}X,e\\right\\rangle{}} \\: . \\: \\lambda{} x_{X} \\: . \\: {g}({f}({x}))]}(\\lambda{} x_{e} \\: . \\: \\lambda{} y_{e} \\: . \\: {Saw}({y}, {x}))$"
      ],
      "text/plain": [
       "((λ g_<e,<e,t>>: (λ f_<X,e>: (λ x_X: g_<e,<e,t>>(f_<X,e>(x_X))))))((λ x_e: (λ y_e: Saw_<(e,e),t>(y_e, x_e))))"
      ]
     },
     "execution_count": 32,
     "metadata": {},
     "output_type": "execute_result"
    }
   ],
   "source": [
    "# ex of geach rule: complex inference to parts of function\n",
    "%te (λ g_<Y,Z>: (λ f_<X,Y>: (λ x_X: g_<Y,Z>(f_<X,Y>(x_X)))))(L x_e : L y_e : Saw(y,x))"
   ]
  },
  {
   "cell_type": "code",
   "execution_count": 33,
   "metadata": {
    "collapsed": true
   },
   "outputs": [],
   "source": []
  }
 ],
 "metadata": {
  "kernelspec": {
   "display_name": "Lambda Notebook (Python 3)",
   "language": "python",
   "name": "lambda-notebook"
  },
  "language_info": {
   "codemirror_mode": {
    "name": "ipython",
    "version": 3
   },
   "file_extension": ".py",
   "mimetype": "text/x-python",
   "name": "python",
   "nbconvert_exporter": "python",
   "pygments_lexer": "ipython3",
   "version": "3.5.1"
  }
 },
 "nbformat": 4,
 "nbformat_minor": 0
}
