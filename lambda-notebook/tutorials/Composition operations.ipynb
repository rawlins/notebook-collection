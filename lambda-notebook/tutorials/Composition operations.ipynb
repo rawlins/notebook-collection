{
 "cells": [
  {
   "cell_type": "code",
   "execution_count": 1,
   "metadata": {
    "collapsed": false
   },
   "outputs": [],
   "source": [
    "reload_lamb()"
   ]
  },
  {
   "cell_type": "markdown",
   "metadata": {},
   "source": [
    "# Tutorial: adding composition operations\n",
    "### Author: Kyle Rawlins\n",
    "\n",
    "You can write a new composition rule in three ways, in order of complexity (from simplest to hardest):\n",
    "\n",
    "1. Write a metalanguage combinator that describes the rule and instantiate it as a composition rule.  This involves variants of the following syntax:\n",
    "        system.add_binary_rule(combinator, \"NAME\")\n",
    "2. Write a python function that describes the rule (as an operation over meta-language elements) and instantiate it as a composition rule.  The above `add_rule` call expects curried functions, and python functions are usually uncurried, but the call is essentially the same:\n",
    "       system.add_binary_rule_uncurried(function, \"names\")\n",
    "3. Write a python function that operates on object language elements (instances of `lang.SingletonComposable`) and produces an object language element (typically an instance of `lang.Composite`).\n",
    "\n",
    "Where possible, you should apply strategy 1, and then 2.  Both of these handle a whole bunch of bookkeeping for you.  Doing 3 correctly in the general case often requires some detailed knowledge of the internals of the lambda notebook, and it is easy to make mistakes with the most obvious implementations.  (Sometimes it is unavoidable, as in the monster example below, or Predicate Abstraction.)"
   ]
  },
  {
   "cell_type": "markdown",
   "metadata": {},
   "source": [
    "### Example 1.  A unary operator: existential closure\n",
    "\n",
    "The simplest kind of operation to add is a unary operation, and existential closure is a good example of this.  (See the type shifting tutorial notebook for more examples of unary operations.)  The idea of existential closure is to existentially bind of some variable that is currently exposed as a lambda term in a formula.  The idea is easiest to see in the form of a combinator.  Existential closure is usually introduced at other types, but I will just use `e` for exemplification:"
   ]
  },
  {
   "cell_type": "code",
   "execution_count": 2,
   "metadata": {
    "collapsed": false
   },
   "outputs": [
    {
     "data": {
      "text/latex": [
       "$\\lambda{} f_{\\left\\langle{}e,t\\right\\rangle{}} \\: . \\: \\exists{} x_{e} \\: . \\: {f}({x})$"
      ],
      "text/plain": [
       "(λ f_<e,t>: (Exists x_e: f_<e,t>(x_e)))"
      ]
     },
     "execution_count": 2,
     "metadata": {},
     "output_type": "execute_result"
    }
   ],
   "source": [
    "ec_combinator = te(\"lambda f_<e,t> : Exists x_e : f(x)\")\n",
    "ec_combinator"
   ]
  },
  {
   "cell_type": "markdown",
   "metadata": {},
   "source": [
    "Any metalanguage function is also a python function, so you can do stuff like the following directly to see how this works:"
   ]
  },
  {
   "cell_type": "code",
   "execution_count": 3,
   "metadata": {
    "collapsed": false
   },
   "outputs": [
    {
     "data": {
      "text/latex": [
       "$\\exists{} x_{e} \\: . \\: {Cat}({x})$"
      ],
      "text/plain": [
       "(Exists x_e: Cat_<e,t>(x_e))"
      ]
     },
     "execution_count": 3,
     "metadata": {},
     "output_type": "execute_result"
    }
   ],
   "source": [
    "ec_combinator(lang.cat.content).reduce_all()"
   ]
  },
  {
   "cell_type": "markdown",
   "metadata": {},
   "source": [
    "Adding this to the composition system is straightforward.  The following code makes a copy of one of the default systems and adds the existential closure rule as a unary rule based on the combinator:"
   ]
  },
  {
   "cell_type": "code",
   "execution_count": 4,
   "metadata": {
    "collapsed": false
   },
   "outputs": [
    {
     "data": {
      "text/html": [
       "Composition system 'H&K simple (copy)'<br />Operations: {<br />&nbsp;&nbsp;&nbsp;&nbsp;Binary composition rule <i>FA</i>, built on python function 'lamb.lang.fa_fun'<br />&nbsp;&nbsp;&nbsp;&nbsp;Binary composition rule <i>PM</i>, built on python function 'lamb.lang.pm_fun'<br />&nbsp;&nbsp;&nbsp;&nbsp;Binary composition rule <i>PA</i>, built on python function 'lamb.lang.pa_fun'<br />&nbsp;&nbsp;&nbsp;&nbsp;Unary composition rule <i>EC</i>, built on combinator '$\\lambda{} f_{\\left\\langle{}e,t\\right\\rangle{}} \\: . \\: \\exists{} x_{e} \\: . \\: {f}({x})$'<br />}"
      ],
      "text/plain": [
       "Composition system: H&K simple (copy)"
      ]
     },
     "execution_count": 4,
     "metadata": {},
     "output_type": "execute_result"
    }
   ],
   "source": [
    "system = lang.td_system.copy()\n",
    "system.add_unary_rule(ec_combinator, \"EC\")\n",
    "lang.set_system(system)\n",
    "system"
   ]
  },
  {
   "cell_type": "code",
   "execution_count": 5,
   "metadata": {
    "collapsed": false
   },
   "outputs": [
    {
     "data": {
      "text/html": [
       "1 composition path.  Result:\n",
       "<br />&nbsp;&nbsp;&nbsp;&nbsp;[0]: $[\\![\\mathbf{\\text{[cat gray]}}]\\!]^{}_{\\left\\langle{}e,t\\right\\rangle{}} \\:=\\: $$\\lambda{} x_{e} \\: . \\: ({Cat}({x}) \\wedge{} {Gray}({x}))$"
      ],
      "text/plain": [
       "CompositionResult(results=[⟦[cat gray]⟧ = (λ x_e: (Cat_<e,t>(x_e) & Gray_<e,t>(x_e)))], failures=[⟦[cat gray]⟧ = Type mismatch: '⟦cat⟧ = (λ x_e: Cat_<e,t>(x_e))'/<e,t> and '⟦gray⟧ = (λ x_e: Gray_<e,t>(x_e))'/<e,t> conflict (mode: Function Application), ⟦[gray cat]⟧ = Type mismatch: '⟦gray⟧ = (λ x_e: Gray_<e,t>(x_e))'/<e,t> and '⟦cat⟧ = (λ x_e: Cat_<e,t>(x_e))'/<e,t> conflict (mode: Function Application), ⟦[cat gray]⟧ = Type mismatch: '⟦cat⟧ = (λ x_e: Cat_<e,t>(x_e))'/<e,t> and '⟦gray⟧ = (λ x_e: Gray_<e,t>(x_e))'/<e,t> conflict (mode: Predicate Abstraction), ⟦[gray cat]⟧ = Type mismatch: '⟦gray⟧ = (λ x_e: Gray_<e,t>(x_e))'/<e,t> and '⟦cat⟧ = (λ x_e: Cat_<e,t>(x_e))'/<e,t> conflict (mode: Predicate Abstraction)])"
      ]
     },
     "execution_count": 5,
     "metadata": {},
     "output_type": "execute_result"
    }
   ],
   "source": [
    "lang.cat * lang.gray"
   ]
  },
  {
   "cell_type": "markdown",
   "metadata": {},
   "source": [
    "One way to force a unary rule to apply is to use `* None`:"
   ]
  },
  {
   "cell_type": "code",
   "execution_count": 6,
   "metadata": {
    "collapsed": false
   },
   "outputs": [
    {
     "data": {
      "text/html": [
       "1 composition path.  Result:\n",
       "<br />&nbsp;&nbsp;&nbsp;&nbsp;[0]: $[\\![\\mathbf{\\text{[[cat gray]]}}]\\!]^{}_{t} \\:=\\: $$\\exists{} x_{e} \\: . \\: ({Cat}({x}) \\wedge{} {Gray}({x}))$"
      ],
      "text/plain": [
       "CompositionResult(results=[⟦[[cat gray]]⟧ = (Exists x_e: (Cat_<e,t>(x_e) & Gray_<e,t>(x_e)))], failures=[])"
      ]
     },
     "execution_count": 6,
     "metadata": {},
     "output_type": "execute_result"
    }
   ],
   "source": [
    "ectest = (lang.cat * lang.gray) * None\n",
    "ectest"
   ]
  },
  {
   "cell_type": "code",
   "execution_count": 7,
   "metadata": {
    "collapsed": false
   },
   "outputs": [
    {
     "data": {
      "text/html": [
       "1 composition path:<br /><div align=\"center\" style=\"display:table; margin:5px; border-collapse: collapse;border: 1px solid #848482;\"><div align=\"center\" style=\"display:table-row;border-bottom:1px solid #848482\"><div style=\"display:table-cell;vertical-align:middle;\"><div style=\"display: table;\"><div style=\"display:table-cell;vertical-align:middle;padding: 5px;\"><div align=\"center\" style=\"display:table; margin:5px; border-collapse: collapse;border: 1px solid #848482;\"><div align=\"center\" style=\"display:table-row;border-bottom:1px solid #848482\"><div style=\"display:table-cell;vertical-align:middle;\"><div style=\"display: table;\"><div style=\"display:table-cell;vertical-align:middle;padding: 5px;\"><div align=\"center\" style=\"display:inline-block;padding: 5px;\"><div align=\"center\" style=\"display:table;table-layout:auto;\"><div style=\"display:table-row;\"><div align=\"center\" style=\"display:table-cell;padding-right:2px; padding-left:2px;\"><span>$[\\![\\mathbf{\\text{cat}}]\\!]^{}_{\\left\\langle{}e,t\\right\\rangle{}}$</span></div></div><div style=\"display:table-row;\"><div align=\"center\" style=\"display:table-cell;padding-right:2px; padding-left:2px;\"><span>$\\lambda{} x_{e} \\: . \\: {Cat}({x})$</span></div></div></div></div></div><div style=\"align: center; vertical-align: middle; display: table-cell;\"><span style=\"padding:1em;\">*</span></div><div style=\"display:table-cell;vertical-align:middle;padding: 5px;\"><div align=\"center\" style=\"display:inline-block;padding: 5px;\"><div align=\"center\" style=\"display:table;table-layout:auto;\"><div style=\"display:table-row;\"><div align=\"center\" style=\"display:table-cell;padding-right:2px; padding-left:2px;\"><span>$[\\![\\mathbf{\\text{gray}}]\\!]^{}_{\\left\\langle{}e,t\\right\\rangle{}}$</span></div></div><div style=\"display:table-row;\"><div align=\"center\" style=\"display:table-cell;padding-right:2px; padding-left:2px;\"><span>$\\lambda{} x_{e} \\: . \\: {Gray}({x})$</span></div></div></div></div></div></div></div><div style=\"display:table-cell;vertical-align:middle;border-left:1px solid #848482;padding:0.5em\"><div style=\"white-space:nowrap; color:blue;\"><b>[<span>PM</span>]</b></div></div></div><div align=\"center\" style=\"display:table-row;padding: 5px;\"><div align=\"center\" style=\"display:table-cell;\"><table><tr><td style=\"padding-right:5px\"></td><td align=\"left\" style=\"text-align:left;\"><span>$[\\![\\mathbf{\\text{[cat gray]}}]\\!]^{}_{\\left\\langle{}e,t\\right\\rangle{}}$</span></td></tr><tr><td style=\"padding-right:5px\"> $=$ </td><td align=\"left\" style=\"text-align:left;\"><span>${[\\lambda{} f_{\\left\\langle{}e,t\\right\\rangle{}} \\: . \\: \\lambda{} g_{\\left\\langle{}e,t\\right\\rangle{}} \\: . \\: \\lambda{} x_{e} \\: . \\: ({f}({x}) \\wedge{} {g}({x}))]}(\\lambda{} x_{e} \\: . \\: {Cat}({x}))(\\lambda{} x_{e} \\: . \\: {Gray}({x}))$</span></td></tr><tr><td style=\"padding-right:5px\"> $=$ </td><td align=\"left\" style=\"text-align:left;\"><span>${[\\lambda{} g_{\\left\\langle{}e,t\\right\\rangle{}} \\: . \\: \\lambda{} x_{e} \\: . \\: ({Cat}({x}) \\wedge{} {g}({x}))]}(\\lambda{} x_{e} \\: . \\: {Gray}({x}))$</span></td></tr><tr><td style=\"padding-right:5px\"> $=$ </td><td align=\"left\" style=\"text-align:left;\"><span>$\\lambda{} x_{e} \\: . \\: ({Cat}({x}) \\wedge{} {[\\lambda{} x_{e} \\: . \\: {Gray}({x})]}({x}))$</span></td></tr><tr><td style=\"padding-right:5px\"> $=$ </td><td align=\"left\" style=\"text-align:left;\"><span>$\\lambda{} x_{e} \\: . \\: ({Cat}({x}) \\wedge{} {Gray}({x}))$</span></td></tr></table></div><div style=\"display:table-cell;\"></div></div></div></div></div></div><div style=\"display:table-cell;vertical-align:middle;border-left:1px solid #848482;padding:0.5em\"><div style=\"white-space:nowrap; color:blue;\"><b>[<span>EC</span>]</b></div></div></div><div align=\"center\" style=\"display:table-row;padding: 5px;\"><div align=\"center\" style=\"display:table-cell;\"><table><tr><td style=\"padding-right:5px\"></td><td align=\"left\" style=\"text-align:left;\"><span>$[\\![\\mathbf{\\text{[[cat gray]]}}]\\!]^{}_{t}$</span></td></tr><tr><td style=\"padding-right:5px\"> $=$ </td><td align=\"left\" style=\"text-align:left;\"><span>${[\\lambda{} f_{\\left\\langle{}e,t\\right\\rangle{}} \\: . \\: \\exists{} x_{e} \\: . \\: {f}({x})]}(\\lambda{} x_{e} \\: . \\: ({Cat}({x}) \\wedge{} {Gray}({x})))$</span></td></tr><tr><td style=\"padding-right:5px\"> $=$ </td><td align=\"left\" style=\"text-align:left;\"><span>$\\exists{} x_{e} \\: . \\: {[\\lambda{} x_{e} \\: . \\: ({Cat}({x}) \\wedge{} {Gray}({x}))]}({x})$</span></td></tr><tr><td style=\"padding-right:5px\"> $=$ </td><td align=\"left\" style=\"text-align:left;\"><span>$\\exists{} x_{e} \\: . \\: ({Cat}({x}) \\wedge{} {Gray}({x}))$</span></td></tr></table></div><div style=\"display:table-cell;\"></div></div></div><br /><br />"
      ],
      "text/latex": [
       "1 composition path:<br /><div align=\"center\" style=\"display:table; margin:5px; border-collapse: collapse;border: 1px solid #848482;\"><div align=\"center\" style=\"display:table-row;border-bottom:1px solid #848482\"><div style=\"display:table-cell;vertical-align:middle;\"><div style=\"display: table;\"><div style=\"display:table-cell;vertical-align:middle;padding: 5px;\"><div align=\"center\" style=\"display:table; margin:5px; border-collapse: collapse;border: 1px solid #848482;\"><div align=\"center\" style=\"display:table-row;border-bottom:1px solid #848482\"><div style=\"display:table-cell;vertical-align:middle;\"><div style=\"display: table;\"><div style=\"display:table-cell;vertical-align:middle;padding: 5px;\"><div align=\"center\" style=\"display:inline-block;padding: 5px;\"><div align=\"center\" style=\"display:table;table-layout:auto;\"><div style=\"display:table-row;\"><div align=\"center\" style=\"display:table-cell;padding-right:2px; padding-left:2px;\"><span>$[\\![\\mathbf{\\text{cat}}]\\!]^{}_{\\left\\langle{}e,t\\right\\rangle{}}$</span></div></div><div style=\"display:table-row;\"><div align=\"center\" style=\"display:table-cell;padding-right:2px; padding-left:2px;\"><span>$\\lambda{} x_{e} \\: . \\: {Cat}({x})$</span></div></div></div></div></div><div style=\"align: center; vertical-align: middle; display: table-cell;\"><span style=\"padding:1em;\">*</span></div><div style=\"display:table-cell;vertical-align:middle;padding: 5px;\"><div align=\"center\" style=\"display:inline-block;padding: 5px;\"><div align=\"center\" style=\"display:table;table-layout:auto;\"><div style=\"display:table-row;\"><div align=\"center\" style=\"display:table-cell;padding-right:2px; padding-left:2px;\"><span>$[\\![\\mathbf{\\text{gray}}]\\!]^{}_{\\left\\langle{}e,t\\right\\rangle{}}$</span></div></div><div style=\"display:table-row;\"><div align=\"center\" style=\"display:table-cell;padding-right:2px; padding-left:2px;\"><span>$\\lambda{} x_{e} \\: . \\: {Gray}({x})$</span></div></div></div></div></div></div></div><div style=\"display:table-cell;vertical-align:middle;border-left:1px solid #848482;padding:0.5em\"><div style=\"white-space:nowrap; color:blue;\"><b>[<span>PM</span>]</b></div></div></div><div align=\"center\" style=\"display:table-row;padding: 5px;\"><div align=\"center\" style=\"display:table-cell;\"><table><tr><td style=\"padding-right:5px\"></td><td align=\"left\" style=\"text-align:left;\"><span>$[\\![\\mathbf{\\text{[cat gray]}}]\\!]^{}_{\\left\\langle{}e,t\\right\\rangle{}}$</span></td></tr><tr><td style=\"padding-right:5px\"> $=$ </td><td align=\"left\" style=\"text-align:left;\"><span>${[\\lambda{} f_{\\left\\langle{}e,t\\right\\rangle{}} \\: . \\: \\lambda{} g_{\\left\\langle{}e,t\\right\\rangle{}} \\: . \\: \\lambda{} x_{e} \\: . \\: ({f}({x}) \\wedge{} {g}({x}))]}(\\lambda{} x_{e} \\: . \\: {Cat}({x}))(\\lambda{} x_{e} \\: . \\: {Gray}({x}))$</span></td></tr><tr><td style=\"padding-right:5px\"> $=$ </td><td align=\"left\" style=\"text-align:left;\"><span>${[\\lambda{} g_{\\left\\langle{}e,t\\right\\rangle{}} \\: . \\: \\lambda{} x_{e} \\: . \\: ({Cat}({x}) \\wedge{} {g}({x}))]}(\\lambda{} x_{e} \\: . \\: {Gray}({x}))$</span></td></tr><tr><td style=\"padding-right:5px\"> $=$ </td><td align=\"left\" style=\"text-align:left;\"><span>$\\lambda{} x_{e} \\: . \\: ({Cat}({x}) \\wedge{} {[\\lambda{} x_{e} \\: . \\: {Gray}({x})]}({x}))$</span></td></tr><tr><td style=\"padding-right:5px\"> $=$ </td><td align=\"left\" style=\"text-align:left;\"><span>$\\lambda{} x_{e} \\: . \\: ({Cat}({x}) \\wedge{} {Gray}({x}))$</span></td></tr></table></div><div style=\"display:table-cell;\"></div></div></div></div></div></div><div style=\"display:table-cell;vertical-align:middle;border-left:1px solid #848482;padding:0.5em\"><div style=\"white-space:nowrap; color:blue;\"><b>[<span>EC</span>]</b></div></div></div><div align=\"center\" style=\"display:table-row;padding: 5px;\"><div align=\"center\" style=\"display:table-cell;\"><table><tr><td style=\"padding-right:5px\"></td><td align=\"left\" style=\"text-align:left;\"><span>$[\\![\\mathbf{\\text{[[cat gray]]}}]\\!]^{}_{t}$</span></td></tr><tr><td style=\"padding-right:5px\"> $=$ </td><td align=\"left\" style=\"text-align:left;\"><span>${[\\lambda{} f_{\\left\\langle{}e,t\\right\\rangle{}} \\: . \\: \\exists{} x_{e} \\: . \\: {f}({x})]}(\\lambda{} x_{e} \\: . \\: ({Cat}({x}) \\wedge{} {Gray}({x})))$</span></td></tr><tr><td style=\"padding-right:5px\"> $=$ </td><td align=\"left\" style=\"text-align:left;\"><span>$\\exists{} x_{e} \\: . \\: {[\\lambda{} x_{e} \\: . \\: ({Cat}({x}) \\wedge{} {Gray}({x}))]}({x})$</span></td></tr><tr><td style=\"padding-right:5px\"> $=$ </td><td align=\"left\" style=\"text-align:left;\"><span>$\\exists{} x_{e} \\: . \\: ({Cat}({x}) \\wedge{} {Gray}({x}))$</span></td></tr></table></div><div style=\"display:table-cell;\"></div></div></div><br /><br />"
      ],
      "text/plain": [
       "1 composition path:<br /><div align=\"center\" style=\"display:table; margin:5px; border-collapse: collapse;border: 1px solid #848482;\"><div align=\"center\" style=\"display:table-row;border-bottom:1px solid #848482\"><div style=\"display:table-cell;vertical-align:middle;\"><div style=\"display: table;\"><div style=\"display:table-cell;vertical-align:middle;padding: 5px;\"><div align=\"center\" style=\"display:table; margin:5px; border-collapse: collapse;border: 1px solid #848482;\"><div align=\"center\" style=\"display:table-row;border-bottom:1px solid #848482\"><div style=\"display:table-cell;vertical-align:middle;\"><div style=\"display: table;\"><div style=\"display:table-cell;vertical-align:middle;padding: 5px;\"><div align=\"center\" style=\"display:inline-block;padding: 5px;\"><div align=\"center\" style=\"display:table;table-layout:auto;\"><div style=\"display:table-row;\"><div align=\"center\" style=\"display:table-cell;padding-right:2px; padding-left:2px;\"><span>$[\\![\\mathbf{\\text{cat}}]\\!]^{}_{\\left\\langle{}e,t\\right\\rangle{}}$</span></div></div><div style=\"display:table-row;\"><div align=\"center\" style=\"display:table-cell;padding-right:2px; padding-left:2px;\"><span>$\\lambda{} x_{e} \\: . \\: {Cat}({x})$</span></div></div></div></div></div><div style=\"align: center; vertical-align: middle; display: table-cell;\"><span style=\"padding:1em;\">*</span></div><div style=\"display:table-cell;vertical-align:middle;padding: 5px;\"><div align=\"center\" style=\"display:inline-block;padding: 5px;\"><div align=\"center\" style=\"display:table;table-layout:auto;\"><div style=\"display:table-row;\"><div align=\"center\" style=\"display:table-cell;padding-right:2px; padding-left:2px;\"><span>$[\\![\\mathbf{\\text{gray}}]\\!]^{}_{\\left\\langle{}e,t\\right\\rangle{}}$</span></div></div><div style=\"display:table-row;\"><div align=\"center\" style=\"display:table-cell;padding-right:2px; padding-left:2px;\"><span>$\\lambda{} x_{e} \\: . \\: {Gray}({x})$</span></div></div></div></div></div></div></div><div style=\"display:table-cell;vertical-align:middle;border-left:1px solid #848482;padding:0.5em\"><div style=\"white-space:nowrap; color:blue;\"><b>[<span>PM</span>]</b></div></div></div><div align=\"center\" style=\"display:table-row;padding: 5px;\"><div align=\"center\" style=\"display:table-cell;\"><table><tr><td style=\"padding-right:5px\"></td><td align=\"left\" style=\"text-align:left;\"><span>$[\\![\\mathbf{\\text{[cat gray]}}]\\!]^{}_{\\left\\langle{}e,t\\right\\rangle{}}$</span></td></tr><tr><td style=\"padding-right:5px\"> $=$ </td><td align=\"left\" style=\"text-align:left;\"><span>${[\\lambda{} f_{\\left\\langle{}e,t\\right\\rangle{}} \\: . \\: \\lambda{} g_{\\left\\langle{}e,t\\right\\rangle{}} \\: . \\: \\lambda{} x_{e} \\: . \\: ({f}({x}) \\wedge{} {g}({x}))]}(\\lambda{} x_{e} \\: . \\: {Cat}({x}))(\\lambda{} x_{e} \\: . \\: {Gray}({x}))$</span></td></tr><tr><td style=\"padding-right:5px\"> $=$ </td><td align=\"left\" style=\"text-align:left;\"><span>${[\\lambda{} g_{\\left\\langle{}e,t\\right\\rangle{}} \\: . \\: \\lambda{} x_{e} \\: . \\: ({Cat}({x}) \\wedge{} {g}({x}))]}(\\lambda{} x_{e} \\: . \\: {Gray}({x}))$</span></td></tr><tr><td style=\"padding-right:5px\"> $=$ </td><td align=\"left\" style=\"text-align:left;\"><span>$\\lambda{} x_{e} \\: . \\: ({Cat}({x}) \\wedge{} {[\\lambda{} x_{e} \\: . \\: {Gray}({x})]}({x}))$</span></td></tr><tr><td style=\"padding-right:5px\"> $=$ </td><td align=\"left\" style=\"text-align:left;\"><span>$\\lambda{} x_{e} \\: . \\: ({Cat}({x}) \\wedge{} {Gray}({x}))$</span></td></tr></table></div><div style=\"display:table-cell;\"></div></div></div></div></div></div><div style=\"display:table-cell;vertical-align:middle;border-left:1px solid #848482;padding:0.5em\"><div style=\"white-space:nowrap; color:blue;\"><b>[<span>EC</span>]</b></div></div></div><div align=\"center\" style=\"display:table-row;padding: 5px;\"><div align=\"center\" style=\"display:table-cell;\"><table><tr><td style=\"padding-right:5px\"></td><td align=\"left\" style=\"text-align:left;\"><span>$[\\![\\mathbf{\\text{[[cat gray]]}}]\\!]^{}_{t}$</span></td></tr><tr><td style=\"padding-right:5px\"> $=$ </td><td align=\"left\" style=\"text-align:left;\"><span>${[\\lambda{} f_{\\left\\langle{}e,t\\right\\rangle{}} \\: . \\: \\exists{} x_{e} \\: . \\: {f}({x})]}(\\lambda{} x_{e} \\: . \\: ({Cat}({x}) \\wedge{} {Gray}({x})))$</span></td></tr><tr><td style=\"padding-right:5px\"> $=$ </td><td align=\"left\" style=\"text-align:left;\"><span>$\\exists{} x_{e} \\: . \\: {[\\lambda{} x_{e} \\: . \\: ({Cat}({x}) \\wedge{} {Gray}({x}))]}({x})$</span></td></tr><tr><td style=\"padding-right:5px\"> $=$ </td><td align=\"left\" style=\"text-align:left;\"><span>$\\exists{} x_{e} \\: . \\: ({Cat}({x}) \\wedge{} {Gray}({x}))$</span></td></tr></table></div><div style=\"display:table-cell;\"></div></div></div><br /><br />"
      ]
     },
     "execution_count": 7,
     "metadata": {},
     "output_type": "execute_result"
    }
   ],
   "source": [
    "ectest.tree(derivations=True)"
   ]
  },
  {
   "cell_type": "code",
   "execution_count": 8,
   "metadata": {
    "collapsed": false
   },
   "outputs": [
    {
     "data": {
      "text/html": [
       "Full composition trace.  1 path:<br />\n",
       "&nbsp;&nbsp;&nbsp;&nbsp;Step 1: $[\\![\\mathbf{\\text{cat}}]\\!]^{}_{\\left\\langle{}e,t\\right\\rangle{}} \\:=\\: $$\\lambda{} x_{e} \\: . \\: {Cat}({x})$<br />\n",
       "&nbsp;&nbsp;&nbsp;&nbsp;Step 2: $[\\![\\mathbf{\\text{gray}}]\\!]^{}_{\\left\\langle{}e,t\\right\\rangle{}} \\:=\\: $$\\lambda{} x_{e} \\: . \\: {Gray}({x})$<br />\n",
       "&nbsp;&nbsp;&nbsp;&nbsp;Step 3: $[\\![\\mathbf{\\text{cat}}]\\!]^{}_{\\left\\langle{}e,t\\right\\rangle{}}$ * $[\\![\\mathbf{\\text{gray}}]\\!]^{}_{\\left\\langle{}e,t\\right\\rangle{}}$ leads to: $[\\![\\mathbf{\\text{[cat gray]}}]\\!]^{}_{\\left\\langle{}e,t\\right\\rangle{}} \\:=\\: $$\\lambda{} x_{e} \\: . \\: ({Cat}({x}) \\wedge{} {Gray}({x}))$ <b>[by PM]</b><br />\n",
       "&nbsp;&nbsp;&nbsp;&nbsp;Step 4: $[\\![\\mathbf{\\text{[cat gray]}}]\\!]^{}_{\\left\\langle{}e,t\\right\\rangle{}}$ leads to: $[\\![\\mathbf{\\text{[[cat gray]]}}]\\!]^{}_{t} \\:=\\: $$\\exists{} x_{e} \\: . \\: ({Cat}({x}) \\wedge{} {Gray}({x}))$ <b>[by EC]</b><br />\n"
      ],
      "text/latex": [
       "Full composition trace.  1 path:<br />\n",
       "&nbsp;&nbsp;&nbsp;&nbsp;Step 1: $[\\![\\mathbf{\\text{cat}}]\\!]^{}_{\\left\\langle{}e,t\\right\\rangle{}} \\:=\\: $$\\lambda{} x_{e} \\: . \\: {Cat}({x})$<br />\n",
       "&nbsp;&nbsp;&nbsp;&nbsp;Step 2: $[\\![\\mathbf{\\text{gray}}]\\!]^{}_{\\left\\langle{}e,t\\right\\rangle{}} \\:=\\: $$\\lambda{} x_{e} \\: . \\: {Gray}({x})$<br />\n",
       "&nbsp;&nbsp;&nbsp;&nbsp;Step 3: $[\\![\\mathbf{\\text{cat}}]\\!]^{}_{\\left\\langle{}e,t\\right\\rangle{}}$ * $[\\![\\mathbf{\\text{gray}}]\\!]^{}_{\\left\\langle{}e,t\\right\\rangle{}}$ leads to: $[\\![\\mathbf{\\text{[cat gray]}}]\\!]^{}_{\\left\\langle{}e,t\\right\\rangle{}} \\:=\\: $$\\lambda{} x_{e} \\: . \\: ({Cat}({x}) \\wedge{} {Gray}({x}))$ <b>[by PM]</b><br />\n",
       "&nbsp;&nbsp;&nbsp;&nbsp;Step 4: $[\\![\\mathbf{\\text{[cat gray]}}]\\!]^{}_{\\left\\langle{}e,t\\right\\rangle{}}$ leads to: $[\\![\\mathbf{\\text{[[cat gray]]}}]\\!]^{}_{t} \\:=\\: $$\\exists{} x_{e} \\: . \\: ({Cat}({x}) \\wedge{} {Gray}({x}))$ <b>[by EC]</b><br />\n"
      ],
      "text/plain": [
       "Full composition trace.  1 path:<br />\n",
       "&nbsp;&nbsp;&nbsp;&nbsp;Step 1: $[\\![\\mathbf{\\text{cat}}]\\!]^{}_{\\left\\langle{}e,t\\right\\rangle{}} \\:=\\: $$\\lambda{} x_{e} \\: . \\: {Cat}({x})$<br />\n",
       "&nbsp;&nbsp;&nbsp;&nbsp;Step 2: $[\\![\\mathbf{\\text{gray}}]\\!]^{}_{\\left\\langle{}e,t\\right\\rangle{}} \\:=\\: $$\\lambda{} x_{e} \\: . \\: {Gray}({x})$<br />\n",
       "&nbsp;&nbsp;&nbsp;&nbsp;Step 3: $[\\![\\mathbf{\\text{cat}}]\\!]^{}_{\\left\\langle{}e,t\\right\\rangle{}}$ * $[\\![\\mathbf{\\text{gray}}]\\!]^{}_{\\left\\langle{}e,t\\right\\rangle{}}$ leads to: $[\\![\\mathbf{\\text{[cat gray]}}]\\!]^{}_{\\left\\langle{}e,t\\right\\rangle{}} \\:=\\: $$\\lambda{} x_{e} \\: . \\: ({Cat}({x}) \\wedge{} {Gray}({x}))$ <b>[by PM]</b><br />\n",
       "&nbsp;&nbsp;&nbsp;&nbsp;Step 4: $[\\![\\mathbf{\\text{[cat gray]}}]\\!]^{}_{\\left\\langle{}e,t\\right\\rangle{}}$ leads to: $[\\![\\mathbf{\\text{[[cat gray]]}}]\\!]^{}_{t} \\:=\\: $$\\exists{} x_{e} \\: . \\: ({Cat}({x}) \\wedge{} {Gray}({x}))$ <b>[by EC]</b><br />"
      ]
     },
     "execution_count": 8,
     "metadata": {},
     "output_type": "execute_result"
    }
   ],
   "source": [
    "ectest.trace()"
   ]
  },
  {
   "cell_type": "markdown",
   "metadata": {},
   "source": [
    "### Appendix 1: other ways of introducing existential closure\n",
    "\n",
    "Behind the scenes, `add_unary_rule` constructs a CompositionOp using a factory function.  We could unpack this as follows:"
   ]
  },
  {
   "cell_type": "code",
   "execution_count": 9,
   "metadata": {
    "collapsed": false
   },
   "outputs": [
    {
     "data": {
      "text/html": [
       "Composition system 'H&K simple (copy)'<br />Operations: {<br />&nbsp;&nbsp;&nbsp;&nbsp;Binary composition rule <i>FA</i>, built on python function 'lamb.lang.fa_fun'<br />&nbsp;&nbsp;&nbsp;&nbsp;Binary composition rule <i>PM</i>, built on python function 'lamb.lang.pm_fun'<br />&nbsp;&nbsp;&nbsp;&nbsp;Binary composition rule <i>PA</i>, built on python function 'lamb.lang.pa_fun'<br />&nbsp;&nbsp;&nbsp;&nbsp;Unary composition rule <i>EC</i>, built on combinator '$\\lambda{} f_{\\left\\langle{}e,t\\right\\rangle{}} \\: . \\: \\exists{} x_{e} \\: . \\: {f}({x})$'<br />}"
      ],
      "text/plain": [
       "Composition system: H&K simple (copy)"
      ]
     },
     "execution_count": 9,
     "metadata": {},
     "output_type": "execute_result"
    }
   ],
   "source": [
    "ec_rule = lang.unary_factory(ec_combinator, \"EC\", typeshift=False)\n",
    "system = lang.td_system.copy()\n",
    "system.add_rule(ec_rule)\n",
    "lang.set_system(system)\n",
    "system"
   ]
  },
  {
   "cell_type": "code",
   "execution_count": 10,
   "metadata": {
    "collapsed": false
   },
   "outputs": [
    {
     "data": {
      "text/html": [
       "1 composition path.  Result:\n",
       "<br />&nbsp;&nbsp;&nbsp;&nbsp;[0]: $[\\![\\mathbf{\\text{[cat]}}]\\!]^{}_{t} \\:=\\: $$\\exists{} x_{e} \\: . \\: {Cat}({x})$"
      ],
      "text/plain": [
       "CompositionResult(results=[⟦[cat]⟧ = (Exists x_e: Cat_<e,t>(x_e))], failures=[])"
      ]
     },
     "execution_count": 10,
     "metadata": {},
     "output_type": "execute_result"
    }
   ],
   "source": [
    "lang.cat * None"
   ]
  },
  {
   "cell_type": "markdown",
   "metadata": {},
   "source": [
    "A more elaborate thing would be to try strategy 3 above: write a function that manipulates object language elements to perform existential closure.  There is a bunch of extra complexity that you need to keep track of when doing this, including metalanguage assignments.  The following is an example function that implements existential closure still using the combinator internally; one could of course build the result in some other way (but this is surprisingly easy to get wrong).  Note that the type checking isn't strictly necessary, as it would happen from the combinator -- it is here for example purposes."
   ]
  },
  {
   "cell_type": "code",
   "execution_count": 11,
   "metadata": {
    "collapsed": false
   },
   "outputs": [
    {
     "data": {
      "text/latex": [
       "$\\exists{} x_{e} \\: . \\: {[\\lambda{} x_{e} \\: . \\: {Cat}({x})]}({x})$"
      ],
      "text/plain": [
       "(Exists x_e: ((λ x_e: Cat_<e,t>(x_e)))(x_e))"
      ]
     },
     "execution_count": 11,
     "metadata": {},
     "output_type": "execute_result"
    }
   ],
   "source": [
    "def ec_fun_direct(f, assignment=None):\n",
    "    ts = meta.get_type_system() # load the current type system\n",
    "    if not (ts.eq_check(f.type, types.type_property)): # is the type a property type?  (<e,t>)\n",
    "        raise types.TypeMismatch(f, None, \"Existential closure for <e,t>\")  # if not, raise an exception.\n",
    "    ec_expr = te(\"lambda f_<e,t> : Exists x_e : f(x)\") # use the combinator\n",
    "    result = ec_expr.apply(f.content.under_assignment(assignment)).reduce() # reduce the outermost lambda\n",
    "    return lang.UnaryComposite(f, result, source=\"EC-direct(%s)\" % (f.name))\n",
    "\n",
    "ec_fun_direct(lang.cat).content"
   ]
  },
  {
   "cell_type": "markdown",
   "metadata": {},
   "source": [
    "To use this you need to build a CompositionOp out of it.  Once you have this, add it to the composition system as usual"
   ]
  },
  {
   "cell_type": "code",
   "execution_count": 12,
   "metadata": {
    "collapsed": false
   },
   "outputs": [
    {
     "data": {
      "text/html": [
       "Composition system 'H&K simple (copy)'<br />Operations: {<br />&nbsp;&nbsp;&nbsp;&nbsp;Binary composition rule <i>FA</i>, built on python function 'lamb.lang.fa_fun'<br />&nbsp;&nbsp;&nbsp;&nbsp;Binary composition rule <i>PM</i>, built on python function 'lamb.lang.pm_fun'<br />&nbsp;&nbsp;&nbsp;&nbsp;Binary composition rule <i>PA</i>, built on python function 'lamb.lang.pa_fun'<br />&nbsp;&nbsp;&nbsp;&nbsp;Unary composition rule <i>EC-direct</i>, built on python function '__main__.ec_fun_direct'<br />}"
      ],
      "text/plain": [
       "Composition system: H&K simple (copy)"
      ]
     },
     "execution_count": 12,
     "metadata": {},
     "output_type": "execute_result"
    }
   ],
   "source": [
    "system = lang.td_system.copy()\n",
    "system.add_rule(lang.UnaryCompositionOp(\"EC-direct\", ec_fun_direct, typeshift=False, reduce=True))\n",
    "lang.set_system(system)\n",
    "system"
   ]
  },
  {
   "cell_type": "code",
   "execution_count": 13,
   "metadata": {
    "collapsed": false
   },
   "outputs": [
    {
     "data": {
      "text/html": [
       "1 composition path.  Result:\n",
       "<br />&nbsp;&nbsp;&nbsp;&nbsp;[0]: $[\\![\\mathbf{\\text{EC-direct(cat)}}]\\!]^{}_{t} \\:=\\: $$\\exists{} x_{e} \\: . \\: {Cat}({x})$"
      ],
      "text/plain": [
       "CompositionResult(results=[⟦EC-direct(cat)⟧ = (Exists x_e: Cat_<e,t>(x_e))], failures=[])"
      ]
     },
     "execution_count": 13,
     "metadata": {},
     "output_type": "execute_result"
    }
   ],
   "source": [
    "lang.cat * None"
   ]
  },
  {
   "cell_type": "markdown",
   "metadata": {},
   "source": [
    "### Example 2.  A binary rule: Predicate Modification\n",
    "\n",
    "What about binary composition operations?  Predicate modification comes built in, but it is useful to see how one might construct PM.  Like the built-in version, this is restricted to type `<e,t>`."
   ]
  },
  {
   "cell_type": "code",
   "execution_count": 14,
   "metadata": {
    "collapsed": false
   },
   "outputs": [
    {
     "data": {
      "text/latex": [
       "$\\lambda{} f_{\\left\\langle{}e,t\\right\\rangle{}} \\: . \\: \\lambda{} g_{\\left\\langle{}e,t\\right\\rangle{}} \\: . \\: \\lambda{} x_{e} \\: . \\: ({f}({x}) \\wedge{} {g}({x}))$"
      ],
      "text/plain": [
       "(λ f_<e,t>: (λ g_<e,t>: (λ x_e: (f_<e,t>(x_e) & g_<e,t>(x_e)))))"
      ]
     },
     "execution_count": 14,
     "metadata": {},
     "output_type": "execute_result"
    }
   ],
   "source": [
    "pm_op = %te L f_<e,t> : L g_<e,t> : L x_e : f(x) & g(x)\n",
    "pm_op"
   ]
  },
  {
   "cell_type": "code",
   "execution_count": 15,
   "metadata": {
    "collapsed": false
   },
   "outputs": [
    {
     "data": {
      "text/html": [
       "<div align=\"left\" style=\"display:table;\"><div style=\"display:table-cell;vertical-align:bottom;padding-left:5px;padding-right:5px;padding-top:0.5em\"><div style=\"display:table;\"><div style=\"display:table-row;vertical-align:bottom;\"><div align=\"left\" style=\"display:table;border-collapse:collapse;\"><div style=\"display:table-row;border-bottom:1px solid #848482;\"><div style=\"display:table-cell;padding-right:5px;vertical-align:bottom;\"> 1. </div><div style=\"display:table-cell;vertical-align:bottom;border-right:1px solid #848482;padding-right:5px;\"><span>${[\\lambda{} f_{\\left\\langle{}e,t\\right\\rangle{}} \\: . \\: \\lambda{} g_{\\left\\langle{}e,t\\right\\rangle{}} \\: . \\: \\lambda{} x_{e} \\: . \\: ({f}({x}) \\wedge{} {g}({x}))]}(\\lambda{} x_{e} \\: . \\: {Cat}({x}))(\\lambda{} x_{e} \\: . \\: {Gray}({x}))$</span></div></div><div style=\"display:table-row;border-bottom:1px solid #848482;\"><div style=\"display:table-cell;padding-right:5px;vertical-align:bottom;\"> 2. </div><div style=\"display:table-cell;vertical-align:bottom;border-right:1px solid #848482;padding-right:5px;\"><span>${[\\lambda{} g_{\\left\\langle{}e,t\\right\\rangle{}} \\: . \\: \\lambda{} x_{e} \\: . \\: ({Cat}({x}) \\wedge{} {g}({x}))]}(\\lambda{} x_{e} \\: . \\: {Gray}({x}))$</span></div><div style=\"display:table-cell;vertical-align:bottom;padding-left:5px;padding-right:5px;padding-top:0.5em\"><div style=\"display:table;\"><div style=\"display:table-row;\"><div style=\"white-space:nowrap; color:blue;\"><span>Recursive reduction of operand 0</span></div></div></div></div></div><div style=\"display:table-row;border-bottom:1px solid #848482;\"><div style=\"display:table-cell;padding-right:5px;vertical-align:bottom;\"> 3. </div><div style=\"display:table-cell;vertical-align:bottom;border-right:1px solid #848482;padding-right:5px;\"><span>$\\lambda{} x_{e} \\: . \\: ({Cat}({x}) \\wedge{} {[\\lambda{} x_{e} \\: . \\: {Gray}({x})]}({x}))$</span></div><div style=\"display:table-cell;vertical-align:bottom;padding-left:5px;padding-right:5px;padding-top:0.5em\"><div style=\"display:table;\"><div style=\"display:table-row;\"><div style=\"white-space:nowrap; color:blue;\"><span>Reduction</span></div></div></div></div></div><div style=\"display:table-row;\"><div style=\"display:table-cell;padding-right:5px;vertical-align:bottom;\"> 4. </div><div style=\"display:table-cell;vertical-align:bottom;border-right:1px solid #848482;padding-right:5px;\"><span>$\\lambda{} x_{e} \\: . \\: ({Cat}({x}) \\wedge{} {Gray}({x}))$</span></div><div style=\"display:table-cell;vertical-align:bottom;padding-left:5px;padding-right:5px;padding-top:0.5em\"><div style=\"display:table;\"><div style=\"display:table-row;\"><div style=\"white-space:nowrap; color:blue;\"><span>Recursive reduction of body</span></div></div></div></div></div></div></div></div></div></div>"
      ],
      "text/plain": [
       " 1. ((λ f_<e,t>: (λ g_<e,t>: (λ x_e: (f_<e,t>(x_e) & g_<e,t>(x_e))))))((λ x_e: Cat_<e,t>(x_e)))((λ x_e: Gray_<e,t>(x_e)))\n",
       " 2. ((λ g_<e,t>: (λ x_e: (Cat_<e,t>(x_e) & g_<e,t>(x_e)))))((λ x_e: Gray_<e,t>(x_e)))    (Recursive reduction of operand 0)\n",
       " 3. (λ x_e: (Cat_<e,t>(x_e) & ((λ x_e: Gray_<e,t>(x_e)))(x_e)))    (Reduction)\n",
       " 4. (λ x_e: (Cat_<e,t>(x_e) & Gray_<e,t>(x_e)))    (Recursive reduction of body)"
      ]
     },
     "execution_count": 15,
     "metadata": {},
     "output_type": "execute_result"
    }
   ],
   "source": [
    "pm_op(lang.cat.content)(lang.gray.content).reduce_all().derivation"
   ]
  },
  {
   "cell_type": "markdown",
   "metadata": {},
   "source": [
    "Now, Predicate Modification can be constructed directly using this combinator."
   ]
  },
  {
   "cell_type": "code",
   "execution_count": 16,
   "metadata": {
    "collapsed": false
   },
   "outputs": [
    {
     "data": {
      "text/html": [
       "Composition system 'H&K simple (copy)'<br />Operations: {<br />&nbsp;&nbsp;&nbsp;&nbsp;Binary composition rule <i>FA</i>, built on python function 'lamb.lang.fa_fun'<br />&nbsp;&nbsp;&nbsp;&nbsp;Binary composition rule <i>PA</i>, built on python function 'lamb.lang.pa_fun'<br />&nbsp;&nbsp;&nbsp;&nbsp;Binary composition rule <i>PM2</i>, built on combinator '$\\lambda{} f_{\\left\\langle{}e,t\\right\\rangle{}} \\: . \\: \\lambda{} g_{\\left\\langle{}e,t\\right\\rangle{}} \\: . \\: \\lambda{} x_{e} \\: . \\: ({f}({x}) \\wedge{} {g}({x}))$'<br />}"
      ],
      "text/plain": [
       "Composition system: H&K simple (copy)"
      ]
     },
     "execution_count": 16,
     "metadata": {},
     "output_type": "execute_result"
    }
   ],
   "source": [
    "system = lang.td_system.copy()\n",
    "system.remove_rule(\"PM\")\n",
    "system.add_binary_rule(pm_op, \"PM2\")\n",
    "lang.set_system(system)\n",
    "system"
   ]
  },
  {
   "cell_type": "code",
   "execution_count": 17,
   "metadata": {
    "collapsed": false
   },
   "outputs": [
    {
     "data": {
      "text/html": [
       "2 composition paths:<br />\n",
       "Path [0]:<br />\n",
       "<div align=\"center\" style=\"display:table; margin:5px; border-collapse: collapse;border: 1px solid #848482;\"><div align=\"center\" style=\"display:table-row;border-bottom:1px solid #848482\"><div style=\"display:table-cell;vertical-align:middle;\"><div style=\"display: table;\"><div style=\"display:table-cell;vertical-align:middle;padding: 5px;\"><div align=\"center\" style=\"display:inline-block;padding: 5px;\"><div align=\"center\" style=\"display:table;table-layout:auto;\"><div style=\"display:table-row;\"><div align=\"center\" style=\"display:table-cell;padding-right:2px; padding-left:2px;\"><span>$[\\![\\mathbf{\\text{cat}}]\\!]^{}_{\\left\\langle{}e,t\\right\\rangle{}}$</span></div></div><div style=\"display:table-row;\"><div align=\"center\" style=\"display:table-cell;padding-right:2px; padding-left:2px;\"><span>$\\lambda{} x_{e} \\: . \\: {Cat}({x})$</span></div></div></div></div></div><div style=\"align: center; vertical-align: middle; display: table-cell;\"><span style=\"padding:1em;\">*</span></div><div style=\"display:table-cell;vertical-align:middle;padding: 5px;\"><div align=\"center\" style=\"display:inline-block;padding: 5px;\"><div align=\"center\" style=\"display:table;table-layout:auto;\"><div style=\"display:table-row;\"><div align=\"center\" style=\"display:table-cell;padding-right:2px; padding-left:2px;\"><span>$[\\![\\mathbf{\\text{gray}}]\\!]^{}_{\\left\\langle{}e,t\\right\\rangle{}}$</span></div></div><div style=\"display:table-row;\"><div align=\"center\" style=\"display:table-cell;padding-right:2px; padding-left:2px;\"><span>$\\lambda{} x_{e} \\: . \\: {Gray}({x})$</span></div></div></div></div></div></div></div><div style=\"display:table-cell;vertical-align:middle;border-left:1px solid #848482;padding:0.5em\"><div style=\"white-space:nowrap; color:blue;\"><b>[<span>PM2</span>]</b></div></div></div><div align=\"center\" style=\"display:table-row;padding: 5px;\"><div align=\"center\" style=\"display:table-cell;\"><div align=\"center\" style=\"display:inline-block;padding: 5px;\"><div align=\"center\" style=\"display:table;table-layout:auto;\"><div style=\"display:table-row;\"><div align=\"center\" style=\"display:table-cell;padding-right:2px; padding-left:2px;\"><span>$[\\![\\mathbf{\\text{[cat gray]}}]\\!]^{}_{\\left\\langle{}e,t\\right\\rangle{}}$</span></div></div><div style=\"display:table-row;\"><div align=\"center\" style=\"display:table-cell;padding-right:2px; padding-left:2px;\"><span>$\\lambda{} x_{e} \\: . \\: ({Cat}({x}) \\wedge{} {Gray}({x}))$</span></div></div></div></div></div><div style=\"display:table-cell;\"></div></div></div><br /><br />Path [1]:<br />\n",
       "<div align=\"center\" style=\"display:table; margin:5px; border-collapse: collapse;border: 1px solid #848482;\"><div align=\"center\" style=\"display:table-row;border-bottom:1px solid #848482\"><div style=\"display:table-cell;vertical-align:middle;\"><div style=\"display: table;\"><div style=\"display:table-cell;vertical-align:middle;padding: 5px;\"><div align=\"center\" style=\"display:inline-block;padding: 5px;\"><div align=\"center\" style=\"display:table;table-layout:auto;\"><div style=\"display:table-row;\"><div align=\"center\" style=\"display:table-cell;padding-right:2px; padding-left:2px;\"><span>$[\\![\\mathbf{\\text{gray}}]\\!]^{}_{\\left\\langle{}e,t\\right\\rangle{}}$</span></div></div><div style=\"display:table-row;\"><div align=\"center\" style=\"display:table-cell;padding-right:2px; padding-left:2px;\"><span>$\\lambda{} x_{e} \\: . \\: {Gray}({x})$</span></div></div></div></div></div><div style=\"align: center; vertical-align: middle; display: table-cell;\"><span style=\"padding:1em;\">*</span></div><div style=\"display:table-cell;vertical-align:middle;padding: 5px;\"><div align=\"center\" style=\"display:inline-block;padding: 5px;\"><div align=\"center\" style=\"display:table;table-layout:auto;\"><div style=\"display:table-row;\"><div align=\"center\" style=\"display:table-cell;padding-right:2px; padding-left:2px;\"><span>$[\\![\\mathbf{\\text{cat}}]\\!]^{}_{\\left\\langle{}e,t\\right\\rangle{}}$</span></div></div><div style=\"display:table-row;\"><div align=\"center\" style=\"display:table-cell;padding-right:2px; padding-left:2px;\"><span>$\\lambda{} x_{e} \\: . \\: {Cat}({x})$</span></div></div></div></div></div></div></div><div style=\"display:table-cell;vertical-align:middle;border-left:1px solid #848482;padding:0.5em\"><div style=\"white-space:nowrap; color:blue;\"><b>[<span>PM2</span>]</b></div></div></div><div align=\"center\" style=\"display:table-row;padding: 5px;\"><div align=\"center\" style=\"display:table-cell;\"><div align=\"center\" style=\"display:inline-block;padding: 5px;\"><div align=\"center\" style=\"display:table;table-layout:auto;\"><div style=\"display:table-row;\"><div align=\"center\" style=\"display:table-cell;padding-right:2px; padding-left:2px;\"><span>$[\\![\\mathbf{\\text{[gray cat]}}]\\!]^{}_{\\left\\langle{}e,t\\right\\rangle{}}$</span></div></div><div style=\"display:table-row;\"><div align=\"center\" style=\"display:table-cell;padding-right:2px; padding-left:2px;\"><span>$\\lambda{} x_{e} \\: . \\: ({Gray}({x}) \\wedge{} {Cat}({x}))$</span></div></div></div></div></div><div style=\"display:table-cell;\"></div></div></div><br /><br />"
      ],
      "text/latex": [
       "2 composition paths:<br />\n",
       "Path [0]:<br />\n",
       "<div align=\"center\" style=\"display:table; margin:5px; border-collapse: collapse;border: 1px solid #848482;\"><div align=\"center\" style=\"display:table-row;border-bottom:1px solid #848482\"><div style=\"display:table-cell;vertical-align:middle;\"><div style=\"display: table;\"><div style=\"display:table-cell;vertical-align:middle;padding: 5px;\"><div align=\"center\" style=\"display:inline-block;padding: 5px;\"><div align=\"center\" style=\"display:table;table-layout:auto;\"><div style=\"display:table-row;\"><div align=\"center\" style=\"display:table-cell;padding-right:2px; padding-left:2px;\"><span>$[\\![\\mathbf{\\text{cat}}]\\!]^{}_{\\left\\langle{}e,t\\right\\rangle{}}$</span></div></div><div style=\"display:table-row;\"><div align=\"center\" style=\"display:table-cell;padding-right:2px; padding-left:2px;\"><span>$\\lambda{} x_{e} \\: . \\: {Cat}({x})$</span></div></div></div></div></div><div style=\"align: center; vertical-align: middle; display: table-cell;\"><span style=\"padding:1em;\">*</span></div><div style=\"display:table-cell;vertical-align:middle;padding: 5px;\"><div align=\"center\" style=\"display:inline-block;padding: 5px;\"><div align=\"center\" style=\"display:table;table-layout:auto;\"><div style=\"display:table-row;\"><div align=\"center\" style=\"display:table-cell;padding-right:2px; padding-left:2px;\"><span>$[\\![\\mathbf{\\text{gray}}]\\!]^{}_{\\left\\langle{}e,t\\right\\rangle{}}$</span></div></div><div style=\"display:table-row;\"><div align=\"center\" style=\"display:table-cell;padding-right:2px; padding-left:2px;\"><span>$\\lambda{} x_{e} \\: . \\: {Gray}({x})$</span></div></div></div></div></div></div></div><div style=\"display:table-cell;vertical-align:middle;border-left:1px solid #848482;padding:0.5em\"><div style=\"white-space:nowrap; color:blue;\"><b>[<span>PM2</span>]</b></div></div></div><div align=\"center\" style=\"display:table-row;padding: 5px;\"><div align=\"center\" style=\"display:table-cell;\"><div align=\"center\" style=\"display:inline-block;padding: 5px;\"><div align=\"center\" style=\"display:table;table-layout:auto;\"><div style=\"display:table-row;\"><div align=\"center\" style=\"display:table-cell;padding-right:2px; padding-left:2px;\"><span>$[\\![\\mathbf{\\text{[cat gray]}}]\\!]^{}_{\\left\\langle{}e,t\\right\\rangle{}}$</span></div></div><div style=\"display:table-row;\"><div align=\"center\" style=\"display:table-cell;padding-right:2px; padding-left:2px;\"><span>$\\lambda{} x_{e} \\: . \\: ({Cat}({x}) \\wedge{} {Gray}({x}))$</span></div></div></div></div></div><div style=\"display:table-cell;\"></div></div></div><br /><br />Path [1]:<br />\n",
       "<div align=\"center\" style=\"display:table; margin:5px; border-collapse: collapse;border: 1px solid #848482;\"><div align=\"center\" style=\"display:table-row;border-bottom:1px solid #848482\"><div style=\"display:table-cell;vertical-align:middle;\"><div style=\"display: table;\"><div style=\"display:table-cell;vertical-align:middle;padding: 5px;\"><div align=\"center\" style=\"display:inline-block;padding: 5px;\"><div align=\"center\" style=\"display:table;table-layout:auto;\"><div style=\"display:table-row;\"><div align=\"center\" style=\"display:table-cell;padding-right:2px; padding-left:2px;\"><span>$[\\![\\mathbf{\\text{gray}}]\\!]^{}_{\\left\\langle{}e,t\\right\\rangle{}}$</span></div></div><div style=\"display:table-row;\"><div align=\"center\" style=\"display:table-cell;padding-right:2px; padding-left:2px;\"><span>$\\lambda{} x_{e} \\: . \\: {Gray}({x})$</span></div></div></div></div></div><div style=\"align: center; vertical-align: middle; display: table-cell;\"><span style=\"padding:1em;\">*</span></div><div style=\"display:table-cell;vertical-align:middle;padding: 5px;\"><div align=\"center\" style=\"display:inline-block;padding: 5px;\"><div align=\"center\" style=\"display:table;table-layout:auto;\"><div style=\"display:table-row;\"><div align=\"center\" style=\"display:table-cell;padding-right:2px; padding-left:2px;\"><span>$[\\![\\mathbf{\\text{cat}}]\\!]^{}_{\\left\\langle{}e,t\\right\\rangle{}}$</span></div></div><div style=\"display:table-row;\"><div align=\"center\" style=\"display:table-cell;padding-right:2px; padding-left:2px;\"><span>$\\lambda{} x_{e} \\: . \\: {Cat}({x})$</span></div></div></div></div></div></div></div><div style=\"display:table-cell;vertical-align:middle;border-left:1px solid #848482;padding:0.5em\"><div style=\"white-space:nowrap; color:blue;\"><b>[<span>PM2</span>]</b></div></div></div><div align=\"center\" style=\"display:table-row;padding: 5px;\"><div align=\"center\" style=\"display:table-cell;\"><div align=\"center\" style=\"display:inline-block;padding: 5px;\"><div align=\"center\" style=\"display:table;table-layout:auto;\"><div style=\"display:table-row;\"><div align=\"center\" style=\"display:table-cell;padding-right:2px; padding-left:2px;\"><span>$[\\![\\mathbf{\\text{[gray cat]}}]\\!]^{}_{\\left\\langle{}e,t\\right\\rangle{}}$</span></div></div><div style=\"display:table-row;\"><div align=\"center\" style=\"display:table-cell;padding-right:2px; padding-left:2px;\"><span>$\\lambda{} x_{e} \\: . \\: ({Gray}({x}) \\wedge{} {Cat}({x}))$</span></div></div></div></div></div><div style=\"display:table-cell;\"></div></div></div><br /><br />"
      ],
      "text/plain": [
       "2 composition paths:<br />\n",
       "Path [0]:<br />\n",
       "<div align=\"center\" style=\"display:table; margin:5px; border-collapse: collapse;border: 1px solid #848482;\"><div align=\"center\" style=\"display:table-row;border-bottom:1px solid #848482\"><div style=\"display:table-cell;vertical-align:middle;\"><div style=\"display: table;\"><div style=\"display:table-cell;vertical-align:middle;padding: 5px;\"><div align=\"center\" style=\"display:inline-block;padding: 5px;\"><div align=\"center\" style=\"display:table;table-layout:auto;\"><div style=\"display:table-row;\"><div align=\"center\" style=\"display:table-cell;padding-right:2px; padding-left:2px;\"><span>$[\\![\\mathbf{\\text{cat}}]\\!]^{}_{\\left\\langle{}e,t\\right\\rangle{}}$</span></div></div><div style=\"display:table-row;\"><div align=\"center\" style=\"display:table-cell;padding-right:2px; padding-left:2px;\"><span>$\\lambda{} x_{e} \\: . \\: {Cat}({x})$</span></div></div></div></div></div><div style=\"align: center; vertical-align: middle; display: table-cell;\"><span style=\"padding:1em;\">*</span></div><div style=\"display:table-cell;vertical-align:middle;padding: 5px;\"><div align=\"center\" style=\"display:inline-block;padding: 5px;\"><div align=\"center\" style=\"display:table;table-layout:auto;\"><div style=\"display:table-row;\"><div align=\"center\" style=\"display:table-cell;padding-right:2px; padding-left:2px;\"><span>$[\\![\\mathbf{\\text{gray}}]\\!]^{}_{\\left\\langle{}e,t\\right\\rangle{}}$</span></div></div><div style=\"display:table-row;\"><div align=\"center\" style=\"display:table-cell;padding-right:2px; padding-left:2px;\"><span>$\\lambda{} x_{e} \\: . \\: {Gray}({x})$</span></div></div></div></div></div></div></div><div style=\"display:table-cell;vertical-align:middle;border-left:1px solid #848482;padding:0.5em\"><div style=\"white-space:nowrap; color:blue;\"><b>[<span>PM2</span>]</b></div></div></div><div align=\"center\" style=\"display:table-row;padding: 5px;\"><div align=\"center\" style=\"display:table-cell;\"><div align=\"center\" style=\"display:inline-block;padding: 5px;\"><div align=\"center\" style=\"display:table;table-layout:auto;\"><div style=\"display:table-row;\"><div align=\"center\" style=\"display:table-cell;padding-right:2px; padding-left:2px;\"><span>$[\\![\\mathbf{\\text{[cat gray]}}]\\!]^{}_{\\left\\langle{}e,t\\right\\rangle{}}$</span></div></div><div style=\"display:table-row;\"><div align=\"center\" style=\"display:table-cell;padding-right:2px; padding-left:2px;\"><span>$\\lambda{} x_{e} \\: . \\: ({Cat}({x}) \\wedge{} {Gray}({x}))$</span></div></div></div></div></div><div style=\"display:table-cell;\"></div></div></div><br /><br />Path [1]:<br />\n",
       "<div align=\"center\" style=\"display:table; margin:5px; border-collapse: collapse;border: 1px solid #848482;\"><div align=\"center\" style=\"display:table-row;border-bottom:1px solid #848482\"><div style=\"display:table-cell;vertical-align:middle;\"><div style=\"display: table;\"><div style=\"display:table-cell;vertical-align:middle;padding: 5px;\"><div align=\"center\" style=\"display:inline-block;padding: 5px;\"><div align=\"center\" style=\"display:table;table-layout:auto;\"><div style=\"display:table-row;\"><div align=\"center\" style=\"display:table-cell;padding-right:2px; padding-left:2px;\"><span>$[\\![\\mathbf{\\text{gray}}]\\!]^{}_{\\left\\langle{}e,t\\right\\rangle{}}$</span></div></div><div style=\"display:table-row;\"><div align=\"center\" style=\"display:table-cell;padding-right:2px; padding-left:2px;\"><span>$\\lambda{} x_{e} \\: . \\: {Gray}({x})$</span></div></div></div></div></div><div style=\"align: center; vertical-align: middle; display: table-cell;\"><span style=\"padding:1em;\">*</span></div><div style=\"display:table-cell;vertical-align:middle;padding: 5px;\"><div align=\"center\" style=\"display:inline-block;padding: 5px;\"><div align=\"center\" style=\"display:table;table-layout:auto;\"><div style=\"display:table-row;\"><div align=\"center\" style=\"display:table-cell;padding-right:2px; padding-left:2px;\"><span>$[\\![\\mathbf{\\text{cat}}]\\!]^{}_{\\left\\langle{}e,t\\right\\rangle{}}$</span></div></div><div style=\"display:table-row;\"><div align=\"center\" style=\"display:table-cell;padding-right:2px; padding-left:2px;\"><span>$\\lambda{} x_{e} \\: . \\: {Cat}({x})$</span></div></div></div></div></div></div></div><div style=\"display:table-cell;vertical-align:middle;border-left:1px solid #848482;padding:0.5em\"><div style=\"white-space:nowrap; color:blue;\"><b>[<span>PM2</span>]</b></div></div></div><div align=\"center\" style=\"display:table-row;padding: 5px;\"><div align=\"center\" style=\"display:table-cell;\"><div align=\"center\" style=\"display:inline-block;padding: 5px;\"><div align=\"center\" style=\"display:table;table-layout:auto;\"><div style=\"display:table-row;\"><div align=\"center\" style=\"display:table-cell;padding-right:2px; padding-left:2px;\"><span>$[\\![\\mathbf{\\text{[gray cat]}}]\\!]^{}_{\\left\\langle{}e,t\\right\\rangle{}}$</span></div></div><div style=\"display:table-row;\"><div align=\"center\" style=\"display:table-cell;padding-right:2px; padding-left:2px;\"><span>$\\lambda{} x_{e} \\: . \\: ({Gray}({x}) \\wedge{} {Cat}({x}))$</span></div></div></div></div></div><div style=\"display:table-cell;\"></div></div></div><br /><br />"
      ]
     },
     "execution_count": 17,
     "metadata": {},
     "output_type": "execute_result"
    }
   ],
   "source": [
    "(lang.cat * lang.gray).tree()"
   ]
  },
  {
   "cell_type": "markdown",
   "metadata": {},
   "source": [
    "See the neo-Davidsonian event semantics fragment for an example of how to write a generalized PM that works for polymorphic types."
   ]
  },
  {
   "cell_type": "markdown",
   "metadata": {},
   "source": [
    "### Appendix 2: an object-language implementation for Predicate Modification\n",
    "\n",
    "Once again, you could write a python function that does the work.  This one still uses the combinator internally.\n",
    "  * Tangent: your instinct may be to construct the result directly by building up the right TypedExpression.  This is certainly possible, but it is surprisingly tricky to get right; I encourage you to find solutions that involve combinators.\n",
    "  * One reason is that you would have to deal with some issues in variable renaming to handle the general case of this; using beta reduction via a combinator ensures that this is all taken care of."
   ]
  },
  {
   "cell_type": "code",
   "execution_count": 18,
   "metadata": {
    "collapsed": true
   },
   "outputs": [],
   "source": [
    "pm_op = lang.te(\"L f_<e,t> : L g_<e,t> : L x_e : f(x) & g(x)\")\n",
    "\n",
    "def pm_fun(fun1, fun2, assignment=None):\n",
    "    \"\"\"H&K predicate modification -- restricted to type <e,t>.\"\"\"\n",
    "    ts = meta.get_type_system()\n",
    "    if not (ts.eq_check(fun1.type, types.type_property) and \n",
    "            ts.eq_check(fun2.type, types.type_property)):\n",
    "        raise TypeMismatch(fun1, fun2, \"Predicate Modification\")\n",
    "    c1 = fun1.content.under_assignment(assignment)\n",
    "    c2 = fun2.content.under_assignment(assignment)\n",
    "    result = pm_op.apply(c1).apply(c2).reduce_all()\n",
    "    return lang.BinaryComposite(fun1, fun2, result)"
   ]
  },
  {
   "cell_type": "markdown",
   "metadata": {},
   "source": [
    "### Example 3: Binding evaluation parameters\n",
    "\n",
    "A second kind of unary operation involves abstracting over a free variable in the metalanguage expression.  This can be thought of as \"monstrous\" shifting in the sense of Kaplan.  The following code sketches an implementation of this."
   ]
  },
  {
   "cell_type": "code",
   "execution_count": 19,
   "metadata": {
    "collapsed": false
   },
   "outputs": [],
   "source": [
    "reload_lamb()"
   ]
  },
  {
   "cell_type": "code",
   "execution_count": 20,
   "metadata": {
    "collapsed": false
   },
   "outputs": [],
   "source": [
    "system = lang.td_system.copy()\n",
    "speaker = lang.te(\"speaker_e\")\n",
    "system.assign_controller = lang.AssignmentController(specials=[speaker])\n",
    "lang.set_system(system)\n",
    "# note that the predefined examples in lang are defined with a different composition system that has no controller"
   ]
  },
  {
   "cell_type": "code",
   "execution_count": 21,
   "metadata": {
    "collapsed": false
   },
   "outputs": [
    {
     "data": {
      "text/html": [
       "$[\\![\\mathbf{\\text{I}}]\\!]^{{speaker}_{e}, g}_{e} \\:=\\: $${speaker}_{e}$"
      ],
      "text/latex": [
       "$[\\![\\mathbf{\\text{I}}]\\!]^{{speaker}_{e}, g}_{e} \\:=\\: $${speaker}_{e}$"
      ],
      "text/plain": [
       "⟦I⟧[speaker_e, type e, g] = speaker_e"
      ]
     },
     "execution_count": 21,
     "metadata": {},
     "output_type": "execute_result"
    }
   ],
   "source": [
    "i = lang.Item(\"I\", lang.te(\"speaker_e\"))\n",
    "i"
   ]
  },
  {
   "cell_type": "markdown",
   "metadata": {},
   "source": [
    "The following function binds instances of the variable `speaker` to a lambda term.  Notice that this function doesn't do anything to ensure that there are no free instances of `x` in `f`; this is one of the complexities you may have to deal with when implementing non-combinator-based composition operations.  However, this is basically a reasonable assumption for a case like this under normal practice."
   ]
  },
  {
   "cell_type": "code",
   "execution_count": 22,
   "metadata": {
    "collapsed": false
   },
   "outputs": [
    {
     "data": {
      "text/html": [
       "$[\\![\\mathbf{\\text{M(I)}}]\\!]^{{speaker}_{e}, g}_{\\left\\langle{}e,e\\right\\rangle{}} \\:=\\: $$\\lambda{} x_{e} \\: . \\: {x}$"
      ],
      "text/latex": [
       "$[\\![\\mathbf{\\text{M(I)}}]\\!]^{{speaker}_{e}, g}_{\\left\\langle{}e,e\\right\\rangle{}} \\:=\\: $$\\lambda{} x_{e} \\: . \\: {x}$"
      ],
      "text/plain": [
       "⟦M(I)⟧[speaker_e, type e, g] = (λ x_e: x_e)"
      ]
     },
     "execution_count": 22,
     "metadata": {},
     "output_type": "execute_result"
    }
   ],
   "source": [
    "def monster_fun(f, assignment=None):\n",
    "    new_a = lang.Assignment(assignment)\n",
    "    new_a.update({\"speaker\": lang.te(\"x_e\")})\n",
    "    result = meta.LFun(types.type_e, f.under_assignment(new_a), varname=\"x\")\n",
    "    return lang.UnaryComposite(f, result, source=\"M(%s)\" % (f.name))\n",
    "\n",
    "monster_fun(i)"
   ]
  },
  {
   "cell_type": "code",
   "execution_count": 23,
   "metadata": {
    "collapsed": false
   },
   "outputs": [],
   "source": [
    "system.add_rule(lang.UnaryCompositionOp(\"Monster\", monster_fun))"
   ]
  },
  {
   "cell_type": "code",
   "execution_count": 24,
   "metadata": {
    "collapsed": false
   },
   "outputs": [
    {
     "data": {
      "text/html": [
       "1 composition path.  Result:\n",
       "<br />&nbsp;&nbsp;&nbsp;&nbsp;[0]: $[\\![\\mathbf{\\text{M(I)}}]\\!]^{{speaker}_{e}, g}_{\\left\\langle{}e,e\\right\\rangle{}} \\:=\\: $$\\lambda{} x_{e} \\: . \\: {x}$"
      ],
      "text/plain": [
       "CompositionResult(results=[⟦M(I)⟧[speaker_e, type e, g] = (λ x_e: x_e)], failures=[])"
      ]
     },
     "execution_count": 24,
     "metadata": {},
     "output_type": "execute_result"
    }
   ],
   "source": [
    "m_test = i * None\n",
    "m_test"
   ]
  },
  {
   "cell_type": "code",
   "execution_count": 25,
   "metadata": {
    "collapsed": false
   },
   "outputs": [
    {
     "data": {
      "text/html": [
       "1 composition path.  Result:\n",
       "<br />&nbsp;&nbsp;&nbsp;&nbsp;[0]: $[\\![\\mathbf{\\text{[cat I]}}]\\!]^{{speaker}_{e}, g}_{t} \\:=\\: $${Cat}({speaker}_{e})$"
      ],
      "text/plain": [
       "CompositionResult(results=[⟦[cat I]⟧[speaker_e, type e, g] = Cat_<e,t>(speaker_e)], failures=[⟦[I cat]⟧[speaker_e, type e, g] = Type mismatch: '⟦I⟧[speaker_e, type e, g] = speaker_e'/e and '⟦cat⟧ = (λ x_e: Cat_<e,t>(x_e))'/<e,t> conflict (mode: Function Application), ⟦[cat I]⟧[speaker_e, type e, g] = Type mismatch: '⟦cat⟧ = (λ x_e: Cat_<e,t>(x_e))'/<e,t> and '⟦I⟧[speaker_e, type e, g] = speaker_e'/e conflict (mode: Predicate Modification), ⟦[cat I]⟧[speaker_e, type e, g] = Type mismatch: '⟦cat⟧ = (λ x_e: Cat_<e,t>(x_e))'/<e,t> and '⟦I⟧[speaker_e, type e, g] = speaker_e'/e conflict (mode: Predicate Abstraction), ⟦[I cat]⟧[speaker_e, type e, g] = Type mismatch: '⟦I⟧[speaker_e, type e, g] = speaker_e'/e and '⟦cat⟧ = (λ x_e: Cat_<e,t>(x_e))'/<e,t> conflict (mode: Predicate Abstraction)])"
      ]
     },
     "execution_count": 25,
     "metadata": {},
     "output_type": "execute_result"
    }
   ],
   "source": [
    "lang.cat * i"
   ]
  },
  {
   "cell_type": "code",
   "execution_count": 26,
   "metadata": {
    "collapsed": false
   },
   "outputs": [
    {
     "data": {
      "text/html": [
       "Full composition trace.  1 path:<br />\n",
       "&nbsp;&nbsp;&nbsp;&nbsp;Step 1: $[\\![\\mathbf{\\text{cat}}]\\!]^{}_{\\left\\langle{}e,t\\right\\rangle{}} \\:=\\: $$\\lambda{} x_{e} \\: . \\: {Cat}({x})$<br />\n",
       "&nbsp;&nbsp;&nbsp;&nbsp;Step 2: $[\\![\\mathbf{\\text{I}}]\\!]^{{speaker}_{e}, g}_{e} \\:=\\: $${speaker}_{e}$<br />\n",
       "&nbsp;&nbsp;&nbsp;&nbsp;Step 3: $[\\![\\mathbf{\\text{cat}}]\\!]^{}_{\\left\\langle{}e,t\\right\\rangle{}}$ * $[\\![\\mathbf{\\text{I}}]\\!]^{{speaker}_{e}, g}_{e}$ leads to: $[\\![\\mathbf{\\text{[cat I]}}]\\!]^{{speaker}_{e}, g}_{t} \\:=\\: $${Cat}({speaker}_{e})$ <b>[by FA]</b><br />\n",
       "&nbsp;&nbsp;&nbsp;&nbsp;Step 4: $[\\![\\mathbf{\\text{[cat I]}}]\\!]^{{speaker}_{e}, g}_{t}$ leads to: $[\\![\\mathbf{\\text{M([cat I])}}]\\!]^{{speaker}_{e}, g}_{\\left\\langle{}e,t\\right\\rangle{}} \\:=\\: $$\\lambda{} x_{e} \\: . \\: {Cat}({x})$ <b>[by Monster]</b><br />\n"
      ],
      "text/latex": [
       "Full composition trace.  1 path:<br />\n",
       "&nbsp;&nbsp;&nbsp;&nbsp;Step 1: $[\\![\\mathbf{\\text{cat}}]\\!]^{}_{\\left\\langle{}e,t\\right\\rangle{}} \\:=\\: $$\\lambda{} x_{e} \\: . \\: {Cat}({x})$<br />\n",
       "&nbsp;&nbsp;&nbsp;&nbsp;Step 2: $[\\![\\mathbf{\\text{I}}]\\!]^{{speaker}_{e}, g}_{e} \\:=\\: $${speaker}_{e}$<br />\n",
       "&nbsp;&nbsp;&nbsp;&nbsp;Step 3: $[\\![\\mathbf{\\text{cat}}]\\!]^{}_{\\left\\langle{}e,t\\right\\rangle{}}$ * $[\\![\\mathbf{\\text{I}}]\\!]^{{speaker}_{e}, g}_{e}$ leads to: $[\\![\\mathbf{\\text{[cat I]}}]\\!]^{{speaker}_{e}, g}_{t} \\:=\\: $${Cat}({speaker}_{e})$ <b>[by FA]</b><br />\n",
       "&nbsp;&nbsp;&nbsp;&nbsp;Step 4: $[\\![\\mathbf{\\text{[cat I]}}]\\!]^{{speaker}_{e}, g}_{t}$ leads to: $[\\![\\mathbf{\\text{M([cat I])}}]\\!]^{{speaker}_{e}, g}_{\\left\\langle{}e,t\\right\\rangle{}} \\:=\\: $$\\lambda{} x_{e} \\: . \\: {Cat}({x})$ <b>[by Monster]</b><br />\n"
      ],
      "text/plain": [
       "Full composition trace.  1 path:<br />\n",
       "&nbsp;&nbsp;&nbsp;&nbsp;Step 1: $[\\![\\mathbf{\\text{cat}}]\\!]^{}_{\\left\\langle{}e,t\\right\\rangle{}} \\:=\\: $$\\lambda{} x_{e} \\: . \\: {Cat}({x})$<br />\n",
       "&nbsp;&nbsp;&nbsp;&nbsp;Step 2: $[\\![\\mathbf{\\text{I}}]\\!]^{{speaker}_{e}, g}_{e} \\:=\\: $${speaker}_{e}$<br />\n",
       "&nbsp;&nbsp;&nbsp;&nbsp;Step 3: $[\\![\\mathbf{\\text{cat}}]\\!]^{}_{\\left\\langle{}e,t\\right\\rangle{}}$ * $[\\![\\mathbf{\\text{I}}]\\!]^{{speaker}_{e}, g}_{e}$ leads to: $[\\![\\mathbf{\\text{[cat I]}}]\\!]^{{speaker}_{e}, g}_{t} \\:=\\: $${Cat}({speaker}_{e})$ <b>[by FA]</b><br />\n",
       "&nbsp;&nbsp;&nbsp;&nbsp;Step 4: $[\\![\\mathbf{\\text{[cat I]}}]\\!]^{{speaker}_{e}, g}_{t}$ leads to: $[\\![\\mathbf{\\text{M([cat I])}}]\\!]^{{speaker}_{e}, g}_{\\left\\langle{}e,t\\right\\rangle{}} \\:=\\: $$\\lambda{} x_{e} \\: . \\: {Cat}({x})$ <b>[by Monster]</b><br />"
      ]
     },
     "execution_count": 26,
     "metadata": {},
     "output_type": "execute_result"
    }
   ],
   "source": [
    "((lang.cat * i) * None).trace()"
   ]
  },
  {
   "cell_type": "code",
   "execution_count": 27,
   "metadata": {
    "collapsed": false
   },
   "outputs": [
    {
     "data": {
      "text/html": [
       "1 composition path.  Result:\n",
       "<br />&nbsp;&nbsp;&nbsp;&nbsp;[0]: $[\\![\\mathbf{\\text{M([cat john])}}]\\!]^{{speaker}_{e}, g}_{\\left\\langle{}e,t\\right\\rangle{}} \\:=\\: $$\\lambda{} x_{e} \\: . \\: {Cat}({John}_{e})$"
      ],
      "text/plain": [
       "CompositionResult(results=[⟦M([cat john])⟧[speaker_e, type e, g] = (λ x_e: Cat_<e,t>(John_e))], failures=[])"
      ]
     },
     "execution_count": 27,
     "metadata": {},
     "output_type": "execute_result"
    }
   ],
   "source": [
    "%lamb ||john|| = John_e\n",
    "(john * lang.cat) * None # results in vacuous binding"
   ]
  },
  {
   "cell_type": "code",
   "execution_count": 28,
   "metadata": {
    "collapsed": false
   },
   "outputs": [],
   "source": []
  }
 ],
 "metadata": {
  "kernelspec": {
   "display_name": "Lambda Notebook (Python 3)",
   "language": "python",
   "name": "lambda-notebook"
  },
  "language_info": {
   "codemirror_mode": {
    "name": "ipython",
    "version": 3
   },
   "file_extension": ".py",
   "mimetype": "text/x-python",
   "name": "python",
   "nbconvert_exporter": "python",
   "pygments_lexer": "ipython3",
   "version": "3.5.1"
  }
 },
 "nbformat": 4,
 "nbformat_minor": 0
}
