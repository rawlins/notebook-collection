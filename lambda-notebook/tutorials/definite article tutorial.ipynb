{
 "cells": [
  {
   "cell_type": "markdown",
   "metadata": {},
   "source": [
    "# Definite article tutorial\n",
    "### Authors: Liz Coppock, Kyle Rawlins\n",
    "\n",
    "This notebook goes through what is involved in adding a new variable-binding operator to the metalanguage and instantiating it in a lexical entry, by working through iota."
   ]
  },
  {
   "cell_type": "code",
   "execution_count": 1,
   "metadata": {
    "collapsed": true
   },
   "outputs": [],
   "source": [
    "#reload_lamb() # can be uncommented for debugging purposes (this will reload any changes made to the source files)"
   ]
  },
  {
   "cell_type": "markdown",
   "metadata": {},
   "source": [
    "This notebook walks through the process of adding a new operator, iota, to the lambda notebook.\n",
    "\n",
    "The notebook has two main parts: the metalanguage, and the object language.  To add iota, we need to modify the meta-language, and then using it in the object language is straightforward.\n",
    "\n",
    "Every expression in the metalanguage is represented by an object that inherits from the class _TypedExpr_.  Operators that bind a single variable and have a nuclear scope inherit from the subclass _BindingOp_, for example _ExistsUnary_ and _ForallUnary_.  To add Iota, we also subclass from _BindingOp_.  This basically involves specifying type constraints for the variable, the body, and the entire expression.  The default is that the body type and overal type are the same, but this is wrong for iota.  For iota, the body type is type t, and the variable / output type are equal.  A stricter version of this might enforce that both are type e.\n",
    "\n",
    "To add this to the parser, I also added a hook in the function _TypedExpr.try_parse_op_expr_ in meta.py.  (In the future this should happen more automatically.)"
   ]
  },
  {
   "cell_type": "code",
   "execution_count": 2,
   "metadata": {},
   "outputs": [
    {
     "name": "stderr",
     "output_type": "stream",
     "text": [
      "WARNING (meta): Overriding existing binding operator 'Iota' in registry\n"
     ]
    }
   ],
   "source": [
    "# note: IotaUnary has been added to meta.py, parallel code here for exemplification.\n",
    "class DemoIotaUnary(meta.BindingOp):\n",
    "    canonical_name = \"Iota\" # set the token for parsing this operator\n",
    "    op_name_uni = \"ι\"\n",
    "    op_name_latex = \"\\\\iota{}\"\n",
    "    secondary_names = {\"ι\"}\n",
    "    \n",
    "    def __init__(self, var_or_vtype, body, varname=None, assignment=None, type_check=True):\n",
    "        super().__init__(var_or_vtype=var_or_vtype, typ=None, varname=varname, body=body, body_type=types.type_t, assignment=assignment, type_check=type_check)\n",
    "        self.type = self.vartype # output type is the bound variable's type\n",
    "\n",
    "    def copy(self):\n",
    "        return DemoIotaUnary(self.vartype, self.body, varname=self.varname)\n",
    "    \n",
    "    def copy_local(self, var, arg, type_check=True):\n",
    "        return DemoIotaUnary(var, arg, type_check=type_check)\n",
    "\n",
    "meta.BindingOp.add_op(DemoIotaUnary) # add to the registry of binding operators so that it will be parsed.  This will trigger a warning as it overrides the existing IotaUnary class."
   ]
  },
  {
   "cell_type": "markdown",
   "metadata": {},
   "source": [
    "The following examples demonstrate instantiating this class through python class constructions.  (Recall that _lang.te_ calls the metalanguage parser.)"
   ]
  },
  {
   "cell_type": "code",
   "execution_count": 3,
   "metadata": {},
   "outputs": [
    {
     "name": "stdout",
     "output_type": "stream",
     "text": [
      "INFO (meta): Coerced guessed type for 'P_t' into <e,t>, to match argument 'x_e'\n"
     ]
    },
    {
     "data": {
      "text/latex": [
       "$\\iota{} x_{e} \\: . \\: {P}({x})$"
      ],
      "text/plain": [
       "(ι x_e: P_<e,t>(x_e))"
      ]
     },
     "execution_count": 3,
     "metadata": {},
     "output_type": "execute_result"
    }
   ],
   "source": [
    "test = DemoIotaUnary(\"x_e\", lang.te(\"P(x)\"))\n",
    "test"
   ]
  },
  {
   "cell_type": "code",
   "execution_count": 4,
   "metadata": {},
   "outputs": [
    {
     "data": {
      "text/latex": [
       "$\\lambda{} f_{\\left\\langle{}e,t\\right\\rangle{}} \\: . \\: \\iota{} x_{e} \\: . \\: {f}({x})$"
      ],
      "text/plain": [
       "(λ f_<e,t>: (ι x_e: f_<e,t>(x_e)))"
      ]
     },
     "execution_count": 4,
     "metadata": {},
     "output_type": "execute_result"
    }
   ],
   "source": [
    "test2 = meta.LFun(\"f_<e,t>\", DemoIotaUnary(\"x_e\", lang.te(\"f_<e,t>(x_e)\")))\n",
    "test2"
   ]
  },
  {
   "cell_type": "markdown",
   "metadata": {},
   "source": [
    "The following cells demonstrate instatiating iota via the metalanguage parser, and test out combining it with a property."
   ]
  },
  {
   "cell_type": "code",
   "execution_count": 5,
   "metadata": {},
   "outputs": [
    {
     "data": {
      "text/latex": [
       "$\\lambda{} f_{\\left\\langle{}e,t\\right\\rangle{}} \\: . \\: \\iota{} x_{e} \\: . \\: {f}({x})$"
      ],
      "text/plain": [
       "(λ f_<e,t>: (ι x_e: f_<e,t>(x_e)))"
      ]
     },
     "execution_count": 5,
     "metadata": {},
     "output_type": "execute_result"
    }
   ],
   "source": [
    "the = lang.te(\"L f_<e,t> : Iota x_e : f(x)\")\n",
    "the"
   ]
  },
  {
   "cell_type": "code",
   "execution_count": 6,
   "metadata": {},
   "outputs": [
    {
     "name": "stdout",
     "output_type": "stream",
     "text": [
      "INFO (meta): Coerced guessed type for 'Cat_t' into <e,t>, to match argument 'x_e'\n"
     ]
    },
    {
     "data": {
      "text/html": [
       "${catexpr}_{\\left\\langle{}e,t\\right\\rangle{}}\\:=\\:\\lambda{} x_{e} \\: . \\: {Cat}({x})$"
      ],
      "text/latex": [
       "${catexpr}_{\\left\\langle{}e,t\\right\\rangle{}}\\:=\\:\\lambda{} x_{e} \\: . \\: {Cat}({x})$"
      ],
      "text/plain": [
       "${catexpr}_{\\left\\langle{}e,t\\right\\rangle{}}\\:=\\:\\lambda{} x_{e} \\: . \\: {Cat}({x})$"
      ]
     },
     "execution_count": 6,
     "metadata": {},
     "output_type": "execute_result"
    }
   ],
   "source": [
    "%%lamb\n",
    "catexpr = L x_e : Cat(x) # build a property 'catexpr'"
   ]
  },
  {
   "cell_type": "code",
   "execution_count": 7,
   "metadata": {},
   "outputs": [
    {
     "data": {
      "text/latex": [
       "${[\\lambda{} f_{\\left\\langle{}e,t\\right\\rangle{}} \\: . \\: \\iota{} x_{e} \\: . \\: {f}({x})]}(\\lambda{} x_{e} \\: . \\: {Cat}({x}))$"
      ],
      "text/plain": [
       "((λ f_<e,t>: (ι x_e: f_<e,t>(x_e))))((λ x_e: Cat_<e,t>(x_e)))"
      ]
     },
     "execution_count": 7,
     "metadata": {},
     "output_type": "execute_result"
    }
   ],
   "source": [
    "dp = the(catexpr)\n",
    "dp"
   ]
  },
  {
   "cell_type": "code",
   "execution_count": 8,
   "metadata": {},
   "outputs": [
    {
     "data": {
      "text/latex": [
       "$\\iota{} x_{e} \\: . \\: {[\\lambda{} x_{e} \\: . \\: {Cat}({x})]}({x})$"
      ],
      "text/plain": [
       "(ι x_e: ((λ x_e: Cat_<e,t>(x_e)))(x_e))"
      ]
     },
     "execution_count": 8,
     "metadata": {},
     "output_type": "execute_result"
    }
   ],
   "source": [
    "dp.reduce()"
   ]
  },
  {
   "cell_type": "code",
   "execution_count": 9,
   "metadata": {},
   "outputs": [
    {
     "data": {
      "text/latex": [
       "$\\iota{} x_{e} \\: . \\: {Cat}({x})$"
      ],
      "text/plain": [
       "(ι x_e: Cat_<e,t>(x_e))"
      ]
     },
     "execution_count": 9,
     "metadata": {},
     "output_type": "execute_result"
    }
   ],
   "source": [
    "dp.reduce_all()"
   ]
  },
  {
   "cell_type": "code",
   "execution_count": 10,
   "metadata": {},
   "outputs": [
    {
     "data": {
      "text/html": [
       "<div align=\"left\" style=\"display:table;\"><div style=\"display:table-cell;vertical-align:bottom;padding-left:5px;padding-right:5px;padding-top:0.5em\"><div style=\"display:table;\"><div style=\"display:table-row;vertical-align:bottom;\"><div align=\"center\" style=\"display:table;border-collapse:collapse;\"><div style=\"display:table-row;border-bottom:1px solid #848482;\"><div style=\"display:table-cell;padding-right:5px;vertical-align:bottom;\"> 1. </div><div style=\"display:table-cell;vertical-align:bottom;border-right:1px solid #848482;padding-right:5px;\"><span>${[\\lambda{} f_{\\left\\langle{}e,t\\right\\rangle{}} \\: . \\: \\iota{} x_{e} \\: . \\: {f}({x})]}(\\lambda{} x_{e} \\: . \\: {Cat}({x}))$</span></div></div><div style=\"display:table-row;border-bottom:1px solid #848482;\"><div style=\"display:table-cell;padding-right:5px;vertical-align:bottom;\"> 2. </div><div style=\"display:table-cell;vertical-align:bottom;border-right:1px solid #848482;padding-right:5px;\"><span>$\\iota{} x_{e} \\: . \\: {[\\lambda{} x_{e} \\: . \\: {Cat}({x})]}({x})$</span></div><div style=\"display:table-cell;vertical-align:bottom;padding-left:5px;padding-right:5px;padding-top:0.5em\"><div style=\"display:table;\"><div style=\"display:table-row;\"><div style=\"color:blue;\"><span>Reduction</span></div></div></div></div></div><div style=\"display:table-row;\"><div style=\"display:table-cell;padding-right:5px;vertical-align:bottom;\"> 3. </div><div style=\"display:table-cell;vertical-align:bottom;border-right:1px solid #848482;padding-right:5px;\"><span>$\\iota{} x_{e} \\: . \\: {Cat}({x})$</span></div><div style=\"display:table-cell;vertical-align:bottom;padding-left:5px;padding-right:5px;padding-top:0.5em\"><div style=\"display:table;\"><div style=\"display:table-row;\"><div style=\"color:blue;\"><span>Recursive reduction of body</span></div></div></div></div></div></div></div></div></div></div>"
      ],
      "text/plain": [
       " 1. ((λ f_<e,t>: (ι x_e: f_<e,t>(x_e))))((λ x_e: Cat_<e,t>(x_e)))\n",
       " 2. (ι x_e: ((λ x_e: Cat_<e,t>(x_e)))(x_e))    (Reduction)\n",
       " 3. (ι x_e: Cat_<e,t>(x_e))    (Recursive reduction of body)"
      ]
     },
     "execution_count": 10,
     "metadata": {},
     "output_type": "execute_result"
    }
   ],
   "source": [
    "dp.reduce_all().derivation"
   ]
  },
  {
   "cell_type": "markdown",
   "metadata": {},
   "source": [
    "It's worth checking that the type inference is working correctly.  What happens when something not of type t is supplied as the body?  Is the output type right?\n",
    "\n",
    "The following code catches and displays a TypeMismatch if any.  (To see the full stack trace, you can remove the `try...except` part.)"
   ]
  },
  {
   "cell_type": "code",
   "execution_count": 11,
   "metadata": {},
   "outputs": [
    {
     "data": {
      "text/html": [
       "<span style=\"color:red\">Type mismatch</span>: '${x}_{e}$'/$e$ and type $t$ conflict (mode: type adjustment)"
      ],
      "text/plain": [
       "Type mismatch: 'x_e'/e and type t conflict (mode: type adjustment)"
      ]
     },
     "execution_count": 11,
     "metadata": {},
     "output_type": "execute_result"
    }
   ],
   "source": [
    "result = None\n",
    "try:\n",
    "    lang.te(\"Iota x_e : x\")\n",
    "except types.TypeMismatch as e:\n",
    "    result = e\n",
    "result"
   ]
  },
  {
   "cell_type": "code",
   "execution_count": 12,
   "metadata": {},
   "outputs": [
    {
     "name": "stdout",
     "output_type": "stream",
     "text": [
      "INFO (meta): Coerced guessed type for 'P_t' into <e,t>, to match argument 'x_e'\n"
     ]
    },
    {
     "data": {
      "text/latex": [
       "$e$"
      ],
      "text/plain": [
       "e"
      ]
     },
     "execution_count": 12,
     "metadata": {},
     "output_type": "execute_result"
    }
   ],
   "source": [
    "lang.te(\"Iota x_e : P(x)\").type"
   ]
  },
  {
   "cell_type": "code",
   "execution_count": 13,
   "metadata": {},
   "outputs": [
    {
     "name": "stdout",
     "output_type": "stream",
     "text": [
      "INFO (meta): Coerced guessed type for 'P_t' into <e,t>, to match argument 'x_e'\n"
     ]
    },
    {
     "data": {
      "text/plain": [
       "__main__.DemoIotaUnary"
      ]
     },
     "execution_count": 13,
     "metadata": {},
     "output_type": "execute_result"
    }
   ],
   "source": [
    "lang.te(\"Iota x_e : P(x)\").__class__"
   ]
  },
  {
   "cell_type": "code",
   "execution_count": 14,
   "metadata": {},
   "outputs": [
    {
     "name": "stdout",
     "output_type": "stream",
     "text": [
      "INFO (meta): Coerced guessed type for 'Q_t' into <e,t>, to match argument 'x_e'\n"
     ]
    },
    {
     "data": {
      "text/latex": [
       "${P}(\\iota{} x_{e} \\: . \\: {Q}({x}))$"
      ],
      "text/plain": [
       "P_<e,t>((ι x_e: Q_<e,t>(x_e)))"
      ]
     },
     "execution_count": 14,
     "metadata": {},
     "output_type": "execute_result"
    }
   ],
   "source": [
    "# another way of constructing this:\n",
    "#test3 = lang.te(\"P_<e,t>\")(lang.te(\"Iota x_e : Q(x)\"))\n",
    "test3 = lang.te(\"P_<e,t>(Iota x_e : Q(x))\")\n",
    "test3"
   ]
  },
  {
   "cell_type": "code",
   "execution_count": 15,
   "metadata": {},
   "outputs": [
    {
     "data": {
      "text/latex": [
       "$t$"
      ],
      "text/plain": [
       "t"
      ]
     },
     "execution_count": 15,
     "metadata": {},
     "output_type": "execute_result"
    }
   ],
   "source": [
    "test3.type"
   ]
  },
  {
   "cell_type": "markdown",
   "metadata": {},
   "source": [
    "Now let's use this in a lexical item.  With the metalanguage modifications in place, this is straightforward."
   ]
  },
  {
   "cell_type": "code",
   "execution_count": 16,
   "metadata": {},
   "outputs": [
    {
     "name": "stdout",
     "output_type": "stream",
     "text": [
      "INFO (meta): Coerced guessed type for 'Cat_t' into <e,t>, to match argument 'x_e'\n"
     ]
    },
    {
     "data": {
      "text/html": [
       "$[\\![\\mathbf{\\text{the}}]\\!]^{}_{\\left\\langle{}\\left\\langle{}e,t\\right\\rangle{},e\\right\\rangle{}} \\:=\\: $$\\lambda{} f_{\\left\\langle{}e,t\\right\\rangle{}} \\: . \\: \\iota{} x_{e} \\: . \\: {f}({x})$<br />\n",
       "$[\\![\\mathbf{\\text{cat}}]\\!]^{}_{\\left\\langle{}e,t\\right\\rangle{}} \\:=\\: $$\\lambda{} x_{e} \\: . \\: {Cat}({x})$"
      ],
      "text/latex": [
       "$[\\![\\mathbf{\\text{the}}]\\!]^{}_{\\left\\langle{}\\left\\langle{}e,t\\right\\rangle{},e\\right\\rangle{}} \\:=\\: $$\\lambda{} f_{\\left\\langle{}e,t\\right\\rangle{}} \\: . \\: \\iota{} x_{e} \\: . \\: {f}({x})$<br />\n",
       "$[\\![\\mathbf{\\text{cat}}]\\!]^{}_{\\left\\langle{}e,t\\right\\rangle{}} \\:=\\: $$\\lambda{} x_{e} \\: . \\: {Cat}({x})$"
      ],
      "text/plain": [
       "$[\\![\\mathbf{\\text{the}}]\\!]^{}_{\\left\\langle{}\\left\\langle{}e,t\\right\\rangle{},e\\right\\rangle{}} \\:=\\: $$\\lambda{} f_{\\left\\langle{}e,t\\right\\rangle{}} \\: . \\: \\iota{} x_{e} \\: . \\: {f}({x})$<br />\n",
       "$[\\![\\mathbf{\\text{cat}}]\\!]^{}_{\\left\\langle{}e,t\\right\\rangle{}} \\:=\\: $$\\lambda{} x_{e} \\: . \\: {Cat}({x})$"
      ]
     },
     "execution_count": 16,
     "metadata": {},
     "output_type": "execute_result"
    }
   ],
   "source": [
    "%%lamb\n",
    "||the|| = L f_<e,t> : Iota x_e : f(x)\n",
    "||cat|| = L x_e : Cat(x)"
   ]
  },
  {
   "cell_type": "code",
   "execution_count": 17,
   "metadata": {},
   "outputs": [
    {
     "data": {
      "text/html": [
       "1 composition path.  Result:\n",
       "<br />&nbsp;&nbsp;&nbsp;&nbsp;[0]: $[\\![\\mathbf{\\text{[the cat]}}]\\!]^{}_{e} \\:=\\: $$\\iota{} x_{e} \\: . \\: {Cat}({x})$"
      ],
      "text/plain": [
       "CompositionResult(results=[⟦[the cat]⟧ = (ι x_e: Cat_<e,t>(x_e))], failures=[⟦[cat the]⟧ = Type mismatch: '⟦cat⟧ = (λ x_e: Cat_<e,t>(x_e))'/<e,t> and '⟦the⟧ = (λ f_<e,t>: (ι x_e: f_<e,t>(x_e)))'/<<e,t>,e> conflict (mode: Function Application), ⟦[the cat]⟧ = Type mismatch: '⟦the⟧ = (λ f_<e,t>: (ι x_e: f_<e,t>(x_e)))'/<<e,t>,e> and '⟦cat⟧ = (λ x_e: Cat_<e,t>(x_e))'/<e,t> conflict (mode: Predicate Modification), ⟦[the cat]⟧ = Type mismatch: '⟦the⟧ = (λ f_<e,t>: (ι x_e: f_<e,t>(x_e)))'/<<e,t>,e> and '⟦cat⟧ = (λ x_e: Cat_<e,t>(x_e))'/<e,t> conflict (mode: Predicate Abstraction), ⟦[cat the]⟧ = Type mismatch: '⟦cat⟧ = (λ x_e: Cat_<e,t>(x_e))'/<e,t> and '⟦the⟧ = (λ f_<e,t>: (ι x_e: f_<e,t>(x_e)))'/<<e,t>,e> conflict (mode: Predicate Abstraction)])"
      ]
     },
     "execution_count": 17,
     "metadata": {},
     "output_type": "execute_result"
    }
   ],
   "source": [
    "r = the * cat\n",
    "r.reduce_all()\n",
    "r"
   ]
  },
  {
   "cell_type": "code",
   "execution_count": 18,
   "metadata": {},
   "outputs": [
    {
     "data": {
      "text/html": [
       "1 composition path:<br /><div align=\"center\" style=\"display:table; margin:5px; border-collapse: collapse;border: 1px solid #848482;\"><div align=\"center\" style=\"display:table-row;\"><div style=\"display:table-cell;vertical-align:middle;\"><div style=\"display: table;\"><div style=\"display:table-cell;vertical-align:middle;padding: 5px;\"><div align=\"left\" style=\"padding: 5px;display: inline-block;\"><div align=\"left\" style=\"padding: 5px;display: inline-block;\"><div><div align=\"center\" style=\"display: block;\"><span>$[\\![\\mathbf{\\text{the}}]\\!]^{}_{\\left\\langle{}\\left\\langle{}e,t\\right\\rangle{},e\\right\\rangle{}}$</span></div><div align=\"center\" style=\"display: block;\"><span>$\\lambda{} f_{\\left\\langle{}e,t\\right\\rangle{}} \\: . \\: \\iota{} x_{e} \\: . \\: {f}({x})$</span></div></div></div></div></div><div style=\"align: center; vertical-align: middle; display: table-cell;\"><span style=\"padding:1em;\">$\\circ$</span></div><div style=\"display:table-cell;vertical-align:middle;padding: 5px;\"><div align=\"left\" style=\"padding: 5px;display: inline-block;\"><div align=\"left\" style=\"padding: 5px;display: inline-block;\"><div><div align=\"center\" style=\"display: block;\"><span>$[\\![\\mathbf{\\text{cat}}]\\!]^{}_{\\left\\langle{}e,t\\right\\rangle{}}$</span></div><div align=\"center\" style=\"display: block;\"><span>$\\lambda{} x_{e} \\: . \\: {Cat}({x})$</span></div></div></div></div></div></div></div><div style=\"display:table-cell;vertical-align:middle;border-left:1px solid #848482;padding:0.5em\"><div style=\"color:blue;\"><b>[<span>FA</span>]</b></div></div></div><div align=\"center\" style=\"display:table-row; border:1px solid #848482;padding: 5px;\"><table><tr><td style=\"padding-right:5px\"></td><td align=\"left\" style=\"text-align:left;\"><span>$[\\![\\mathbf{\\text{[the cat]}}]\\!]^{}_{e}$</span></td></tr><tr><td style=\"padding-right:5px\"> $=$ </td><td align=\"left\" style=\"text-align:left;\"><span>${[\\lambda{} f_{\\left\\langle{}e,t\\right\\rangle{}} \\: . \\: \\iota{} x_{e} \\: . \\: {f}({x})]}(\\lambda{} x_{e} \\: . \\: {Cat}({x}))$</span></td></tr><tr><td style=\"padding-right:5px\"> $=$ </td><td align=\"left\" style=\"text-align:left;\"><span>$\\iota{} x_{e} \\: . \\: {[\\lambda{} x_{e} \\: . \\: {Cat}({x})]}({x})$</span></td></tr><tr><td style=\"padding-right:5px\"> $=$ </td><td align=\"left\" style=\"text-align:left;\"><span>$\\iota{} x_{e} \\: . \\: {Cat}({x})$</span></td></tr></table></div></div><br /><br />"
      ],
      "text/latex": [
       "1 composition path:<br /><div align=\"center\" style=\"display:table; margin:5px; border-collapse: collapse;border: 1px solid #848482;\"><div align=\"center\" style=\"display:table-row;\"><div style=\"display:table-cell;vertical-align:middle;\"><div style=\"display: table;\"><div style=\"display:table-cell;vertical-align:middle;padding: 5px;\"><div align=\"left\" style=\"padding: 5px;display: inline-block;\"><div align=\"left\" style=\"padding: 5px;display: inline-block;\"><div><div align=\"center\" style=\"display: block;\"><span>$[\\![\\mathbf{\\text{the}}]\\!]^{}_{\\left\\langle{}\\left\\langle{}e,t\\right\\rangle{},e\\right\\rangle{}}$</span></div><div align=\"center\" style=\"display: block;\"><span>$\\lambda{} f_{\\left\\langle{}e,t\\right\\rangle{}} \\: . \\: \\iota{} x_{e} \\: . \\: {f}({x})$</span></div></div></div></div></div><div style=\"align: center; vertical-align: middle; display: table-cell;\"><span style=\"padding:1em;\">$\\circ$</span></div><div style=\"display:table-cell;vertical-align:middle;padding: 5px;\"><div align=\"left\" style=\"padding: 5px;display: inline-block;\"><div align=\"left\" style=\"padding: 5px;display: inline-block;\"><div><div align=\"center\" style=\"display: block;\"><span>$[\\![\\mathbf{\\text{cat}}]\\!]^{}_{\\left\\langle{}e,t\\right\\rangle{}}$</span></div><div align=\"center\" style=\"display: block;\"><span>$\\lambda{} x_{e} \\: . \\: {Cat}({x})$</span></div></div></div></div></div></div></div><div style=\"display:table-cell;vertical-align:middle;border-left:1px solid #848482;padding:0.5em\"><div style=\"color:blue;\"><b>[<span>FA</span>]</b></div></div></div><div align=\"center\" style=\"display:table-row; border:1px solid #848482;padding: 5px;\"><table><tr><td style=\"padding-right:5px\"></td><td align=\"left\" style=\"text-align:left;\"><span>$[\\![\\mathbf{\\text{[the cat]}}]\\!]^{}_{e}$</span></td></tr><tr><td style=\"padding-right:5px\"> $=$ </td><td align=\"left\" style=\"text-align:left;\"><span>${[\\lambda{} f_{\\left\\langle{}e,t\\right\\rangle{}} \\: . \\: \\iota{} x_{e} \\: . \\: {f}({x})]}(\\lambda{} x_{e} \\: . \\: {Cat}({x}))$</span></td></tr><tr><td style=\"padding-right:5px\"> $=$ </td><td align=\"left\" style=\"text-align:left;\"><span>$\\iota{} x_{e} \\: . \\: {[\\lambda{} x_{e} \\: . \\: {Cat}({x})]}({x})$</span></td></tr><tr><td style=\"padding-right:5px\"> $=$ </td><td align=\"left\" style=\"text-align:left;\"><span>$\\iota{} x_{e} \\: . \\: {Cat}({x})$</span></td></tr></table></div></div><br /><br />"
      ],
      "text/plain": [
       "1 composition path:<br /><div align=\"center\" style=\"display:table; margin:5px; border-collapse: collapse;border: 1px solid #848482;\"><div align=\"center\" style=\"display:table-row;\"><div style=\"display:table-cell;vertical-align:middle;\"><div style=\"display: table;\"><div style=\"display:table-cell;vertical-align:middle;padding: 5px;\"><div align=\"left\" style=\"padding: 5px;display: inline-block;\"><div align=\"left\" style=\"padding: 5px;display: inline-block;\"><div><div align=\"center\" style=\"display: block;\"><span>$[\\![\\mathbf{\\text{the}}]\\!]^{}_{\\left\\langle{}\\left\\langle{}e,t\\right\\rangle{},e\\right\\rangle{}}$</span></div><div align=\"center\" style=\"display: block;\"><span>$\\lambda{} f_{\\left\\langle{}e,t\\right\\rangle{}} \\: . \\: \\iota{} x_{e} \\: . \\: {f}({x})$</span></div></div></div></div></div><div style=\"align: center; vertical-align: middle; display: table-cell;\"><span style=\"padding:1em;\">$\\circ$</span></div><div style=\"display:table-cell;vertical-align:middle;padding: 5px;\"><div align=\"left\" style=\"padding: 5px;display: inline-block;\"><div align=\"left\" style=\"padding: 5px;display: inline-block;\"><div><div align=\"center\" style=\"display: block;\"><span>$[\\![\\mathbf{\\text{cat}}]\\!]^{}_{\\left\\langle{}e,t\\right\\rangle{}}$</span></div><div align=\"center\" style=\"display: block;\"><span>$\\lambda{} x_{e} \\: . \\: {Cat}({x})$</span></div></div></div></div></div></div></div><div style=\"display:table-cell;vertical-align:middle;border-left:1px solid #848482;padding:0.5em\"><div style=\"color:blue;\"><b>[<span>FA</span>]</b></div></div></div><div align=\"center\" style=\"display:table-row; border:1px solid #848482;padding: 5px;\"><table><tr><td style=\"padding-right:5px\"></td><td align=\"left\" style=\"text-align:left;\"><span>$[\\![\\mathbf{\\text{[the cat]}}]\\!]^{}_{e}$</span></td></tr><tr><td style=\"padding-right:5px\"> $=$ </td><td align=\"left\" style=\"text-align:left;\"><span>${[\\lambda{} f_{\\left\\langle{}e,t\\right\\rangle{}} \\: . \\: \\iota{} x_{e} \\: . \\: {f}({x})]}(\\lambda{} x_{e} \\: . \\: {Cat}({x}))$</span></td></tr><tr><td style=\"padding-right:5px\"> $=$ </td><td align=\"left\" style=\"text-align:left;\"><span>$\\iota{} x_{e} \\: . \\: {[\\lambda{} x_{e} \\: . \\: {Cat}({x})]}({x})$</span></td></tr><tr><td style=\"padding-right:5px\"> $=$ </td><td align=\"left\" style=\"text-align:left;\"><span>$\\iota{} x_{e} \\: . \\: {Cat}({x})$</span></td></tr></table></div></div><br /><br />"
      ]
     },
     "execution_count": 18,
     "metadata": {},
     "output_type": "execute_result"
    }
   ],
   "source": [
    "r.tree(derivations=True)"
   ]
  },
  {
   "cell_type": "markdown",
   "metadata": {},
   "source": [
    "What is missing here?  The biggest thing is presuppositions, but interpretation of iota relative to a model would also be helpful.  See the version in lamb.meta for one take on presuppositions."
   ]
  },
  {
   "cell_type": "code",
   "execution_count": 19,
   "metadata": {
    "collapsed": true
   },
   "outputs": [],
   "source": []
  }
 ],
 "metadata": {
  "kernelspec": {
   "display_name": "Lambda Notebook (Python 3)",
   "language": "python",
   "name": "lambda-notebook"
  },
  "language_info": {
   "codemirror_mode": {
    "name": "ipython",
    "version": 3
   },
   "file_extension": ".py",
   "mimetype": "text/x-python",
   "name": "python",
   "nbconvert_exporter": "python",
   "pygments_lexer": "ipython3",
   "version": "3.6.2"
  }
 },
 "nbformat": 4,
 "nbformat_minor": 1
}
