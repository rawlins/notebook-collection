{
 "cells": [
  {
   "cell_type": "markdown",
   "metadata": {},
   "source": [
    "#Polymorphic types for computational linguistic semantics\n",
    "\n",
    "The lambda notebook supports polymorphic types (variables over types) in certain cases.  Specifically, what is implemented is a version of the Hindley-Milner type system\n",
    "\n",
    "Mechanically, you can write type variables using `X`, `Y`, and `Z` followed by any number or number of primes.  So for example, `<X,Y15>` is a function from some type `X` to some type `Y15`.  You also may occasionally see some variable types with the letter `I`; these are internal types and you cannot directly use such types.  See below for ways of dealing with them.\n",
    "\n",
    "In practice, much of formal semantics does not require variable types.  The main use in the lambda notebook is writing general-purpose combinators.  For example, here is a combinator for doing generalized _Predicate Modification_ over arbitrary property types:"
   ]
  },
  {
   "cell_type": "code",
   "execution_count": 1,
   "metadata": {
    "collapsed": false
   },
   "outputs": [
    {
     "data": {
      "text/html": [
       "${gpm}_{\\left\\langle{}\\left\\langle{}X,t\\right\\rangle{},\\left\\langle{}\\left\\langle{}X,t\\right\\rangle{},\\left\\langle{}X,t\\right\\rangle{}\\right\\rangle{}\\right\\rangle{}}\\:=\\:\\lambda{} f_{\\left\\langle{}X,t\\right\\rangle{}} \\: . \\: \\lambda{} g_{\\left\\langle{}X,t\\right\\rangle{}} \\: . \\: \\lambda{} x_{X} \\: . \\: ({f}({x}) \\wedge{} {g}({x}))$"
      ],
      "text/latex": [
       "${gpm}_{\\left\\langle{}\\left\\langle{}X,t\\right\\rangle{},\\left\\langle{}\\left\\langle{}X,t\\right\\rangle{},\\left\\langle{}X,t\\right\\rangle{}\\right\\rangle{}\\right\\rangle{}}\\:=\\:\\lambda{} f_{\\left\\langle{}X,t\\right\\rangle{}} \\: . \\: \\lambda{} g_{\\left\\langle{}X,t\\right\\rangle{}} \\: . \\: \\lambda{} x_{X} \\: . \\: ({f}({x}) \\wedge{} {g}({x}))$"
      ],
      "text/plain": [
       "${gpm}_{\\left\\langle{}\\left\\langle{}X,t\\right\\rangle{},\\left\\langle{}\\left\\langle{}X,t\\right\\rangle{},\\left\\langle{}X,t\\right\\rangle{}\\right\\rangle{}\\right\\rangle{}}\\:=\\:\\lambda{} f_{\\left\\langle{}X,t\\right\\rangle{}} \\: . \\: \\lambda{} g_{\\left\\langle{}X,t\\right\\rangle{}} \\: . \\: \\lambda{} x_{X} \\: . \\: ({f}({x}) \\wedge{} {g}({x}))$"
      ]
     },
     "execution_count": 1,
     "metadata": {},
     "output_type": "execute_result"
    }
   ],
   "source": [
    "%%lamb\n",
    "gpm = L f_<X,t> : L g_<X,t> : L x_X : f(x) & g(x)"
   ]
  },
  {
   "cell_type": "code",
   "execution_count": 2,
   "metadata": {
    "collapsed": false
   },
   "outputs": [
    {
     "data": {
      "text/latex": [
       "$\\lambda{} f_{\\left\\langle{}X,t\\right\\rangle{}} \\: . \\: \\lambda{} g_{\\left\\langle{}X,t\\right\\rangle{}} \\: . \\: \\lambda{} x_{X} \\: . \\: ({f}({x}) \\wedge{} {g}({x}))$"
      ],
      "text/plain": [
       "(λ f_<X,t>: (λ g_<X,t>: (λ x_X: (f_<X,t>(x_X) & g_<X,t>(x_X)))))"
      ]
     },
     "execution_count": 2,
     "metadata": {},
     "output_type": "execute_result"
    }
   ],
   "source": [
    "gpm"
   ]
  },
  {
   "cell_type": "markdown",
   "metadata": {},
   "source": [
    "The type variable here signals that the function gpm is underspecified for some type `X`.  All of the `X`s in this formula must be consistent, so whatever `X` is, `g` and `f` must have the same type.  We can see this by combining `gpm` with an argument:"
   ]
  },
  {
   "cell_type": "code",
   "execution_count": 3,
   "metadata": {
    "collapsed": false
   },
   "outputs": [
    {
     "data": {
      "text/latex": [
       "$\\lambda{} g_{\\left\\langle{}e,t\\right\\rangle{}} \\: . \\: \\lambda{} x_{e} \\: . \\: ({Cat}({x}) \\wedge{} {g}({x}))$"
      ],
      "text/plain": [
       "(λ g_<e,t>: (λ x_e: (Cat_<e,t>(x_e) & g_<e,t>(x_e))))"
      ]
     },
     "execution_count": 3,
     "metadata": {},
     "output_type": "execute_result"
    }
   ],
   "source": [
    "gpm(te(\"L x_e : Cat_<e,t>(x)\")).reduce_all()"
   ]
  },
  {
   "cell_type": "code",
   "execution_count": 4,
   "metadata": {
    "collapsed": false
   },
   "outputs": [
    {
     "data": {
      "text/html": [
       "<style>.rendered_html table, .rendered_html tr, .rendered_html td, .rendered_html th { border: 0px; text-align:center; }</style><table><tr><td style=\"border-left:1px solid #848482\"><div><table style=\"padding-bottom:5px\"><tr style=\"border-bottom:1px solid #848482;padding-bottom:5px\"><td style=\"padding-right:5px;vertical-align:bottom\"> 1. </td><td style=\"vertical-align:bottom;padding-right:10px\">${[\\lambda{} f_{\\left\\langle{}e,t\\right\\rangle{}} \\: . \\: \\lambda{} g_{\\left\\langle{}e,t\\right\\rangle{}} \\: . \\: \\lambda{} x_{e} \\: . \\: ({f}({x}) \\wedge{} {g}({x}))]}(\\lambda{} x_{e} \\: . \\: {Cat}({x}))$</td></tr><tr style=\"border-bottom:1px solid #848482;padding-bottom:5px\"><td style=\"padding-right:5px;vertical-align:bottom\"> 2. </td><td style=\"vertical-align:bottom;padding-right:10px\">$\\lambda{} g_{\\left\\langle{}e,t\\right\\rangle{}} \\: . \\: \\lambda{} x_{e} \\: . \\: ({[\\lambda{} x_{e} \\: . \\: {Cat}({x})]}({x}) \\wedge{} {g}({x}))$</td><td style=\"border-left:1px solid #848482\"><span style=\"color:blue\">Reduction</span></td></tr><tr style=\"padding-bottom:5px\"><td style=\"padding-right:5px;vertical-align:bottom\"> 3. </td><td style=\"vertical-align:bottom;padding-right:10px\">$\\lambda{} g_{\\left\\langle{}e,t\\right\\rangle{}} \\: . \\: \\lambda{} x_{e} \\: . \\: ({Cat}({x}) \\wedge{} {g}({x}))$</td><td style=\"border-left:1px solid #848482\"><span style=\"color:blue\">Recursive reduction of body</span></td></tr></table></div></td></tr></table>"
      ],
      "text/plain": [
       " 1. ((λ f_<e,t>: (λ g_<e,t>: (λ x_e: (f_<e,t>(x_e) & g_<e,t>(x_e))))))((λ x_e: Cat_<e,t>(x_e)))\n",
       " 2. (λ g_<e,t>: (λ x_e: (((λ x_e: Cat_<e,t>(x_e)))(x_e) & g_<e,t>(x_e))))    (Reduction)\n",
       " 3. (λ g_<e,t>: (λ x_e: (Cat_<e,t>(x_e) & g_<e,t>(x_e))))    (Recursive reduction of body)"
      ]
     },
     "execution_count": 4,
     "metadata": {},
     "output_type": "execute_result"
    }
   ],
   "source": [
    "gpm(te(\"L x_e : Cat_<e,t>(x)\")).reduce_all().derivation"
   ]
  },
  {
   "cell_type": "markdown",
   "metadata": {},
   "source": [
    "What has happened here?  The lambda notebook metalanguage inferred at the initial combination stage (reduction is not required) that `X` must be equal to `e`, a non-variable type, and systematically replaced the type variable across all instances in the function.\n",
    "\n",
    "A somewhat more sophisticated example is the implementation of type-checking for function-argument combination in the metalanguage.  The most straightforward algorithm you might imagine would go something like:\n",
    "\n",
    " 1. Is `fun.type` a functional type?  If not, fail.\n",
    " 2. Does `fun.type.left` equal `arg.type`?  If not, fail.\n",
    " 3. Otherwise, succeed.\n",
    " \n",
    "This is a perfectly fine procedure for simple types.  For variable types, we can do something a bit more interesting.\n",
    "\n",
    " 1. Does `fun.type` match `<arg.type,X>`, where `X` is new?  If not, fail.\n",
    " 2. Otherwise, succeed.\n",
    " \n",
    "The procedure for checking if two types match in Hindely-Milner is called _type unification_, and is an instance of first-order unification.  The algorithm for doing type unification is sometimes called _Algorithm U_, after Damas and Milner (1982), _Principal type-schemes for functional programs_, proceedings of ACM POPL.  For example, the type checking for a typical combination of `<e,t>` with `e` boils down to the following call to the type unification procedure (recall that `tp` invokes the type parser), which finds a variable assignment of `X` to `t` that can unify the two types:"
   ]
  },
  {
   "cell_type": "code",
   "execution_count": 5,
   "metadata": {
    "collapsed": false
   },
   "outputs": [
    {
     "data": {
      "text/latex": [
       "$\\left\\langle{}e,t\\right\\rangle{}$"
      ],
      "text/plain": [
       "<e,t>"
      ]
     },
     "execution_count": 5,
     "metadata": {},
     "output_type": "execute_result"
    }
   ],
   "source": [
    "types.poly_system.unify(tp(\"<e,t>\"), tp(\"<e,X>\"))"
   ]
  },
  {
   "cell_type": "markdown",
   "metadata": {},
   "source": [
    "It is possible to query the variable assignment that unification finds, though most of the time you wouldn't need to do this.  Here is the above example, as well as a somewhat more complicated example of type unification."
   ]
  },
  {
   "cell_type": "code",
   "execution_count": 6,
   "metadata": {
    "collapsed": false
   },
   "outputs": [
    {
     "data": {
      "text/html": [
       "<table><tr><td>Principal type:&nbsp;&nbsp; </td><td>$\\left\\langle{}e,t\\right\\rangle{}$</td></tr><tr><td>Inputs: </td><td>$\\left\\langle{}e,t\\right\\rangle{}$ and $\\left\\langle{}e,X\\right\\rangle{}$</td></tr><tr><td>Mapping: </td><td>{$X$: $t$}</td></tr></table>"
      ],
      "text/plain": [
       "<lamb.types.UnificationResult at 0x105051898>"
      ]
     },
     "execution_count": 6,
     "metadata": {},
     "output_type": "execute_result"
    }
   ],
   "source": [
    "types.poly_system.unify_details(tp(\"<e,t>\"), tp(\"<e,X>\"))"
   ]
  },
  {
   "cell_type": "code",
   "execution_count": 7,
   "metadata": {
    "collapsed": false
   },
   "outputs": [
    {
     "data": {
      "text/html": [
       "<table><tr><td>Principal type:&nbsp;&nbsp; </td><td>$\\left\\langle{}e,\\left\\langle{}X',e\\right\\rangle{}\\right\\rangle{}$</td></tr><tr><td>Inputs: </td><td>$\\left\\langle{}X,\\left\\langle{}Y,Z\\right\\rangle{}\\right\\rangle{}$ and $\\left\\langle{}Z,\\left\\langle{}X',e\\right\\rangle{}\\right\\rangle{}$</td></tr><tr><td>Mapping: </td><td>{$X$: $e$, $Y$: $X'$, $Z$: $e$}</td></tr></table>"
      ],
      "text/plain": [
       "<lamb.types.UnificationResult at 0x105051ac8>"
      ]
     },
     "execution_count": 7,
     "metadata": {},
     "output_type": "execute_result"
    }
   ],
   "source": [
    "types.poly_system.unify_details(tp(\"<X,<Y,Z>>\"), tp(\"<Z,<X',e>>\"))"
   ]
  },
  {
   "cell_type": "markdown",
   "metadata": {},
   "source": [
    "The algorithm for doing type inference in the metalanguage is an implementation of Damas and Milner's _Algorithm W_.  This amounts to unifying the constraints imposed by function-argument combination across an entire formula, rather than just a single type.  For example, in the generalized PM example above, we can infer both that `X` maps to `e` and that this is consistent across the formula.  In practice, most cases that are relevant to formal semantics are about this simple.\n",
    "\n",
    "Another example that is useful to consider is the basic function-argument combination of two variable types.  The function's variable gets mapped into a functional type over variables, where the first one matches the argument's variable type."
   ]
  },
  {
   "cell_type": "code",
   "execution_count": 8,
   "metadata": {
    "collapsed": false
   },
   "outputs": [
    {
     "data": {
      "text/latex": [
       "${f}_{\\left\\langle{}Y,X\\right\\rangle{}}({a}_{Y})$"
      ],
      "text/plain": [
       "f_<Y,X>(a_Y)"
      ]
     },
     "execution_count": 8,
     "metadata": {},
     "output_type": "execute_result"
    }
   ],
   "source": [
    "%te f_Z(a_Y)"
   ]
  },
  {
   "cell_type": "markdown",
   "metadata": {},
   "source": [
    "Further inference is of course possible in context, for example, binary truth-functional operators would force `X` in the above result to get mapped to `t`."
   ]
  },
  {
   "cell_type": "code",
   "execution_count": 9,
   "metadata": {
    "collapsed": false
   },
   "outputs": [
    {
     "data": {
      "text/latex": [
       "$({f}_{\\left\\langle{}Y,t\\right\\rangle{}}({a}_{I_{53}}) \\wedge{} {p}_{t})$"
      ],
      "text/plain": [
       "(f_<Y,t>(a_I53) & p_t)"
      ]
     },
     "execution_count": 9,
     "metadata": {},
     "output_type": "execute_result"
    }
   ],
   "source": [
    "%te f_X(a_Y) & p_t"
   ]
  },
  {
   "cell_type": "markdown",
   "metadata": {},
   "source": [
    "### Let scoping\n",
    "\n",
    "If you were to run pure type unification from the `types` module on `Z` and `Y` you would get a very different result."
   ]
  },
  {
   "cell_type": "code",
   "execution_count": 10,
   "metadata": {
    "collapsed": false
   },
   "outputs": [
    {
     "data": {
      "text/plain": [
       "(<Y,I54>, Y, I54)"
      ]
     },
     "execution_count": 10,
     "metadata": {},
     "output_type": "execute_result"
    }
   ],
   "source": [
    "types.poly_system.unify_fa(tp(\"Z\"), tp(\"Y\"))"
   ]
  },
  {
   "cell_type": "markdown",
   "metadata": {},
   "source": [
    "Here, the `I`-prefixed type variable is a new (sometimes termed _fresh_) type variable (the exact number may vary substantially).  For human readability, the output of the `%te` magic reduces the type variables it uses (via a version of alpha conversion) to have low numbers, and not be internal types.  Why is this legitimate?  The result of `%te` as well as assignment in the `%lamb` magic have their type variables in the scope of a `let` operator.  A `let` operator binds type variables and treats them as _generic_.  A variable inside a `let` operator does not have to obey constraints imposed on a variable of the same name not in the scope of that `let`.  Let-scoped expressions may therefore safely have their variables renamed as long as internal type constraints are obeyed.\n",
    "\n",
    "For purposes of formal semantics, one does not typically have to pay much attention to let-scoping or mess with it (in direct contrast to functional programming languages), and so the metalanguage does not indicate it or allow for much manipulation of it.  It is possible to disable let in direct calls to `te`, but currently I don't see that this should be much needed.  Here is the above function-argument example without a let operator, and then with expicit variable renaming performed.  Note that here the input `X` bears no relation to the output `X`."
   ]
  },
  {
   "cell_type": "code",
   "execution_count": 11,
   "metadata": {
    "collapsed": false
   },
   "outputs": [
    {
     "data": {
      "text/latex": [
       "${f}_{\\left\\langle{}Y,I_{55}\\right\\rangle{}}({a}_{Y})$"
      ],
      "text/plain": [
       "f_<Y,I55>(a_Y)"
      ]
     },
     "execution_count": 11,
     "metadata": {},
     "output_type": "execute_result"
    }
   ],
   "source": [
    "te(\"f_X(a_Y)\", let=False)"
   ]
  },
  {
   "cell_type": "code",
   "execution_count": 12,
   "metadata": {
    "collapsed": false
   },
   "outputs": [
    {
     "data": {
      "text/latex": [
       "${f}_{\\left\\langle{}Y,X\\right\\rangle{}}({a}_{Y})$"
      ],
      "text/plain": [
       "f_<Y,X>(a_Y)"
      ]
     },
     "execution_count": 12,
     "metadata": {},
     "output_type": "execute_result"
    }
   ],
   "source": [
    "te(\"f_X(a_Y)\", let=False).compact_type_vars()"
   ]
  },
  {
   "cell_type": "markdown",
   "metadata": {},
   "source": [
    "In programming languages (/programming language theory) a typical syntax for the let operator is something like:\n",
    "\n",
    "    let f = lambda x: x\n",
    "    in\n",
    "        f(y)\n",
    "    end\n",
    "\n",
    "The type of `x` in this sort of syntax would be treated as generic relative to any type constraints imposed or inferred in the body.  This syntax is implicit in the `%%lamb` magic: any assignment to a variable or lexical item is treated as in the definitional part of a `let` statement, and any use later of that variable/item is treated as having generic type variables.\n",
    "\n",
    "Here is another example, the so-called _Geach combinator_."
   ]
  },
  {
   "cell_type": "code",
   "execution_count": 13,
   "metadata": {
    "collapsed": false
   },
   "outputs": [
    {
     "data": {
      "text/html": [
       "${geach}_{\\left\\langle{}\\left\\langle{}Y,Z\\right\\rangle{},\\left\\langle{}\\left\\langle{}X,Y\\right\\rangle{},\\left\\langle{}X,Z\\right\\rangle{}\\right\\rangle{}\\right\\rangle{}}\\:=\\:\\lambda{} g_{\\left\\langle{}Y,Z\\right\\rangle{}} \\: . \\: \\lambda{} f_{\\left\\langle{}X,Y\\right\\rangle{}} \\: . \\: \\lambda{} x_{X} \\: . \\: {g}({f}({x}))$"
      ],
      "text/latex": [
       "${geach}_{\\left\\langle{}\\left\\langle{}Y,Z\\right\\rangle{},\\left\\langle{}\\left\\langle{}X,Y\\right\\rangle{},\\left\\langle{}X,Z\\right\\rangle{}\\right\\rangle{}\\right\\rangle{}}\\:=\\:\\lambda{} g_{\\left\\langle{}Y,Z\\right\\rangle{}} \\: . \\: \\lambda{} f_{\\left\\langle{}X,Y\\right\\rangle{}} \\: . \\: \\lambda{} x_{X} \\: . \\: {g}({f}({x}))$"
      ],
      "text/plain": [
       "${geach}_{\\left\\langle{}\\left\\langle{}Y,Z\\right\\rangle{},\\left\\langle{}\\left\\langle{}X,Y\\right\\rangle{},\\left\\langle{}X,Z\\right\\rangle{}\\right\\rangle{}\\right\\rangle{}}\\:=\\:\\lambda{} g_{\\left\\langle{}Y,Z\\right\\rangle{}} \\: . \\: \\lambda{} f_{\\left\\langle{}X,Y\\right\\rangle{}} \\: . \\: \\lambda{} x_{X} \\: . \\: {g}({f}({x}))$"
      ]
     },
     "execution_count": 13,
     "metadata": {},
     "output_type": "execute_result"
    }
   ],
   "source": [
    "%%lamb\n",
    "geach = L g_<Y,Z> : L f_<X,Y> : L x_X : g(f(x))"
   ]
  },
  {
   "cell_type": "markdown",
   "metadata": {},
   "source": [
    "This is a combinator version of function composition, for functions of arbitrary types.  `gc(g)(f)(x)` is equivalent to `(g * f)(x)` where `*` is function composition.  Since the metalanguage allows for `*` to signal function composition, we can see this directly:"
   ]
  },
  {
   "cell_type": "code",
   "execution_count": 14,
   "metadata": {
    "collapsed": false
   },
   "outputs": [
    {
     "data": {
      "text/html": [
       "${f}_{\\left\\langle{}n,n\\right\\rangle{}}\\:=\\:\\lambda{} x_{n} \\: . \\: ({x} + {1})$<br />\n",
       "${g}_{\\left\\langle{}n,t\\right\\rangle{}}\\:=\\:\\lambda{} x_{n} \\: . \\: ({x} > {3})$"
      ],
      "text/latex": [
       "${f}_{\\left\\langle{}n,n\\right\\rangle{}}\\:=\\:\\lambda{} x_{n} \\: . \\: ({x} + {1})$<br />\n",
       "${g}_{\\left\\langle{}n,t\\right\\rangle{}}\\:=\\:\\lambda{} x_{n} \\: . \\: ({x} > {3})$"
      ],
      "text/plain": [
       "${f}_{\\left\\langle{}n,n\\right\\rangle{}}\\:=\\:\\lambda{} x_{n} \\: . \\: ({x} + {1})$<br />\n",
       "${g}_{\\left\\langle{}n,t\\right\\rangle{}}\\:=\\:\\lambda{} x_{n} \\: . \\: ({x} > {3})$"
      ]
     },
     "execution_count": 14,
     "metadata": {},
     "output_type": "execute_result"
    }
   ],
   "source": [
    "%%lamb\n",
    "f = L x_n : x+1\n",
    "g = L x_n : x>3"
   ]
  },
  {
   "cell_type": "code",
   "execution_count": 15,
   "metadata": {
    "collapsed": false
   },
   "outputs": [
    {
     "data": {
      "text/latex": [
       "$\\lambda{} x_{n} \\: . \\: (({x} + {1}) > {3})$"
      ],
      "text/plain": [
       "(λ x_n: ((x_n + 1_n) > 3_n))"
      ]
     },
     "execution_count": 15,
     "metadata": {},
     "output_type": "execute_result"
    }
   ],
   "source": [
    "g * f"
   ]
  },
  {
   "cell_type": "code",
   "execution_count": 16,
   "metadata": {
    "collapsed": false
   },
   "outputs": [
    {
     "data": {
      "text/latex": [
       "$\\lambda{} x_{n} \\: . \\: (({x} + {1}) > {3})$"
      ],
      "text/plain": [
       "(λ x_n: ((x_n + 1_n) > 3_n))"
      ]
     },
     "execution_count": 16,
     "metadata": {},
     "output_type": "execute_result"
    }
   ],
   "source": [
    "geach(g)(f).reduce_all()"
   ]
  },
  {
   "cell_type": "code",
   "execution_count": 17,
   "metadata": {
    "collapsed": false
   },
   "outputs": [
    {
     "data": {
      "text/html": [
       "${h}_{\\left\\langle{}t,t\\right\\rangle{}}\\:=\\:\\lambda{} p_{t} \\: . \\: ({p} \\wedge{} {Q}_{t})$"
      ],
      "text/latex": [
       "${h}_{\\left\\langle{}t,t\\right\\rangle{}}\\:=\\:\\lambda{} p_{t} \\: . \\: ({p} \\wedge{} {Q}_{t})$"
      ],
      "text/plain": [
       "${h}_{\\left\\langle{}t,t\\right\\rangle{}}\\:=\\:\\lambda{} p_{t} \\: . \\: ({p} \\wedge{} {Q}_{t})$"
      ]
     },
     "execution_count": 17,
     "metadata": {},
     "output_type": "execute_result"
    }
   ],
   "source": [
    "%lamb h = L p_t : p & Q_t"
   ]
  },
  {
   "cell_type": "code",
   "execution_count": 18,
   "metadata": {
    "collapsed": false
   },
   "outputs": [
    {
     "data": {
      "text/latex": [
       "$\\lambda{} x_{n} \\: . \\: (({x} > {3}) \\wedge{} {Q}_{t})$"
      ],
      "text/plain": [
       "(λ x_n: ((x_n > 3_n) & Q_t))"
      ]
     },
     "execution_count": 18,
     "metadata": {},
     "output_type": "execute_result"
    }
   ],
   "source": [
    "h * g"
   ]
  },
  {
   "cell_type": "code",
   "execution_count": 19,
   "metadata": {
    "collapsed": false
   },
   "outputs": [
    {
     "data": {
      "text/html": [
       "<style>.rendered_html table, .rendered_html tr, .rendered_html td, .rendered_html th { border: 0px; text-align:center; }</style><table><tr><td style=\"border-left:1px solid #848482\"><div><table style=\"padding-bottom:5px\"><tr style=\"border-bottom:1px solid #848482;padding-bottom:5px\"><td style=\"padding-right:5px;vertical-align:bottom\"> 1. </td><td style=\"vertical-align:bottom;padding-right:10px\">${[\\lambda{} g_{\\left\\langle{}t,t\\right\\rangle{}} \\: . \\: \\lambda{} f_{\\left\\langle{}n,t\\right\\rangle{}} \\: . \\: \\lambda{} x_{n} \\: . \\: {g}({f}({x}))]}(\\lambda{} p_{t} \\: . \\: ({p} \\wedge{} {Q}_{t}))(\\lambda{} x_{n} \\: . \\: ({x} > {3}))$</td></tr><tr style=\"border-bottom:1px solid #848482;padding-bottom:5px\"><td style=\"padding-right:5px;vertical-align:bottom\"> 2. </td><td style=\"vertical-align:bottom;padding-right:10px\">${[\\lambda{} f_{\\left\\langle{}n,t\\right\\rangle{}} \\: . \\: \\lambda{} x_{n} \\: . \\: ({f}({x}) \\wedge{} {Q}_{t})]}(\\lambda{} x_{n} \\: . \\: ({x} > {3}))$</td><td style=\"border-left:1px solid #848482\"><div><span style=\"color:blue\">Recursive reduction of operand 0</span></div><div><table style=\"padding-bottom:5px\"><tr style=\"border-bottom:1px solid #848482;padding-bottom:5px\"><td style=\"padding-right:5px;vertical-align:bottom\"> 1. </td><td style=\"vertical-align:bottom;padding-right:10px\">${[\\lambda{} g_{\\left\\langle{}t,t\\right\\rangle{}} \\: . \\: \\lambda{} f_{\\left\\langle{}X,t\\right\\rangle{}} \\: . \\: \\lambda{} x_{X} \\: . \\: {g}({f}({x}))]}(\\lambda{} p_{t} \\: . \\: ({p} \\wedge{} {Q}_{t}))$</td></tr><tr style=\"border-bottom:1px solid #848482;padding-bottom:5px\"><td style=\"padding-right:5px;vertical-align:bottom\"> 2. </td><td style=\"vertical-align:bottom;padding-right:10px\">${[\\lambda{} g_{\\left\\langle{}t,t\\right\\rangle{}} \\: . \\: \\lambda{} f_{\\left\\langle{}n,t\\right\\rangle{}} \\: . \\: \\lambda{} x_{n} \\: . \\: {g}({f}({x}))]}(\\lambda{} p_{t} \\: . \\: ({p} \\wedge{} {Q}_{t}))$</td><td style=\"border-left:1px solid #848482\"><span style=\"color:blue\">Type inference (external)</span></td></tr><tr style=\"border-bottom:1px solid #848482;padding-bottom:5px\"><td style=\"padding-right:5px;vertical-align:bottom\"> 3. </td><td style=\"vertical-align:bottom;padding-right:10px\">$\\lambda{} f_{\\left\\langle{}n,t\\right\\rangle{}} \\: . \\: \\lambda{} x_{n} \\: . \\: {[\\lambda{} p_{t} \\: . \\: ({p} \\wedge{} {Q}_{t})]}({f}({x}))$</td><td style=\"border-left:1px solid #848482\"><span style=\"color:blue\">Reduction</span></td></tr><tr style=\"padding-bottom:5px\"><td style=\"padding-right:5px;vertical-align:bottom\"> 4. </td><td style=\"vertical-align:bottom;padding-right:10px\">$\\lambda{} f_{\\left\\langle{}n,t\\right\\rangle{}} \\: . \\: \\lambda{} x_{n} \\: . \\: ({f}({x}) \\wedge{} {Q}_{t})$</td><td style=\"border-left:1px solid #848482\"><div><span style=\"color:blue\">Recursive reduction of body</span></div><div><table style=\"padding-bottom:5px\"><tr style=\"border-bottom:1px solid #848482;padding-bottom:5px\"><td style=\"padding-right:5px;vertical-align:bottom\"> 1. </td><td style=\"vertical-align:bottom;padding-right:10px\">$\\lambda{} x_{n} \\: . \\: {[\\lambda{} p_{t} \\: . \\: ({p} \\wedge{} {Q}_{t})]}({f}_{\\left\\langle{}n,t\\right\\rangle{}}({x}))$</td></tr><tr style=\"padding-bottom:5px\"><td style=\"padding-right:5px;vertical-align:bottom\"> 2. </td><td style=\"vertical-align:bottom;padding-right:10px\">$\\lambda{} x_{n} \\: . \\: ({f}_{\\left\\langle{}n,t\\right\\rangle{}}({x}) \\wedge{} {Q}_{t})$</td><td style=\"border-left:1px solid #848482\"><div><span style=\"color:blue\">Recursive reduction of body</span></div><div><table style=\"padding-bottom:5px\"><tr style=\"border-bottom:1px solid #848482;padding-bottom:5px\"><td style=\"padding-right:5px;vertical-align:bottom\"> 1. </td><td style=\"vertical-align:bottom;padding-right:10px\">${[\\lambda{} p_{t} \\: . \\: ({p} \\wedge{} {Q}_{t})]}({f}_{\\left\\langle{}n,t\\right\\rangle{}}({x}_{n}))$</td></tr><tr style=\"padding-bottom:5px\"><td style=\"padding-right:5px;vertical-align:bottom\"> 2. </td><td style=\"vertical-align:bottom;padding-right:10px\">$({f}_{\\left\\langle{}n,t\\right\\rangle{}}({x}_{n}) \\wedge{} {Q}_{t})$</td><td style=\"border-left:1px solid #848482\"><span style=\"color:blue\">Reduction</span></td></tr></table></div></td></tr></table></div></td></tr></table></div></td></tr><tr style=\"border-bottom:1px solid #848482;padding-bottom:5px\"><td style=\"padding-right:5px;vertical-align:bottom\"> 3. </td><td style=\"vertical-align:bottom;padding-right:10px\">$\\lambda{} x_{n} \\: . \\: ({[\\lambda{} x_{n} \\: . \\: ({x} > {3})]}({x}) \\wedge{} {Q}_{t})$</td><td style=\"border-left:1px solid #848482\"><span style=\"color:blue\">Reduction</span></td></tr><tr style=\"padding-bottom:5px\"><td style=\"padding-right:5px;vertical-align:bottom\"> 4. </td><td style=\"vertical-align:bottom;padding-right:10px\">$\\lambda{} x_{n} \\: . \\: (({x} > {3}) \\wedge{} {Q}_{t})$</td><td style=\"border-left:1px solid #848482\"><div><span style=\"color:blue\">Recursive reduction of body</span></div><div><table style=\"padding-bottom:5px\"><tr style=\"border-bottom:1px solid #848482;padding-bottom:5px\"><td style=\"padding-right:5px;vertical-align:bottom\"> 1. </td><td style=\"vertical-align:bottom;padding-right:10px\">$({[\\lambda{} x_{n} \\: . \\: ({x} > {3})]}({x}_{n}) \\wedge{} {Q}_{t})$</td></tr><tr style=\"padding-bottom:5px\"><td style=\"padding-right:5px;vertical-align:bottom\"> 2. </td><td style=\"vertical-align:bottom;padding-right:10px\">$(({x}_{n} > {3}) \\wedge{} {Q}_{t})$</td><td style=\"border-left:1px solid #848482\"><div><span style=\"color:blue\">Recursive reduction of operand 0</span></div><div><table style=\"padding-bottom:5px\"><tr style=\"border-bottom:1px solid #848482;padding-bottom:5px\"><td style=\"padding-right:5px;vertical-align:bottom\"> 1. </td><td style=\"vertical-align:bottom;padding-right:10px\">${[\\lambda{} x_{n} \\: . \\: ({x} > {3})]}({x}_{n})$</td></tr><tr style=\"padding-bottom:5px\"><td style=\"padding-right:5px;vertical-align:bottom\"> 2. </td><td style=\"vertical-align:bottom;padding-right:10px\">$({x}_{n} > {3})$</td><td style=\"border-left:1px solid #848482\"><span style=\"color:blue\">Reduction</span></td></tr></table></div></td></tr></table></div></td></tr></table></div></td></tr></table>"
      ],
      "text/plain": [
       "RecursiveDerivationDisplay instance: HTML rendering only"
      ]
     },
     "execution_count": 19,
     "metadata": {},
     "output_type": "execute_result"
    }
   ],
   "source": [
    "geach(h)(g).reduce_all().derivation.trace()"
   ]
  },
  {
   "cell_type": "code",
   "execution_count": 20,
   "metadata": {
    "collapsed": false
   },
   "outputs": [],
   "source": [
    "geach(h)(g).derivation #[0].derivation[0].origin[0]"
   ]
  },
  {
   "cell_type": "code",
   "execution_count": 21,
   "metadata": {
    "collapsed": false
   },
   "outputs": [
    {
     "data": {
      "text/html": [
       "<style>.rendered_html table, .rendered_html tr, .rendered_html td, .rendered_html th { border: 0px; text-align:center; }</style><table><tr><td style=\"border-left:1px solid #848482\"><div><table style=\"padding-bottom:5px\"><tr style=\"border-bottom:1px solid #848482;padding-bottom:5px\"><td style=\"padding-right:5px;vertical-align:bottom\"> 1. </td><td style=\"vertical-align:bottom;padding-right:10px\">${[\\lambda{} g_{\\left\\langle{}t,t\\right\\rangle{}} \\: . \\: \\lambda{} f_{\\left\\langle{}I_{160},t\\right\\rangle{}} \\: . \\: \\lambda{} x_{I_{160}} \\: . \\: {g}({f}({x}))]}(\\lambda{} p_{t} \\: . \\: ({p} \\wedge{} {Q}_{t}))$</td></tr><tr style=\"border-bottom:1px solid #848482;padding-bottom:5px\"><td style=\"padding-right:5px;vertical-align:bottom\"> 2. </td><td style=\"vertical-align:bottom;padding-right:10px\">${[\\lambda{} g_{\\left\\langle{}t,t\\right\\rangle{}} \\: . \\: \\lambda{} f_{\\left\\langle{}I_{160},t\\right\\rangle{}} \\: . \\: \\lambda{} x_{I_{160}} \\: . \\: {g}({f}({x}))]}(\\lambda{} p_{t} \\: . \\: ({p} \\wedge{} {Q}_{t}))$</td><td style=\"border-left:1px solid #848482\"><span style=\"color:blue\">Type inference</span></td></tr><tr style=\"padding-bottom:5px\"><td style=\"padding-right:5px;vertical-align:bottom\"> 3. </td><td style=\"vertical-align:bottom;padding-right:10px\">${[\\lambda{} g_{\\left\\langle{}t,t\\right\\rangle{}} \\: . \\: \\lambda{} f_{\\left\\langle{}X,t\\right\\rangle{}} \\: . \\: \\lambda{} x_{X} \\: . \\: {g}({f}({x}))]}(\\lambda{} p_{t} \\: . \\: ({p} \\wedge{} {Q}_{t}))$</td><td style=\"border-left:1px solid #848482\"><span style=\"color:blue\">Let substitution</span></td></tr></table></div></td></tr></table>"
      ],
      "text/plain": [
       " 1. ((λ g_<t,t>: (λ f_<I160,t>: (λ x_I160: g_<t,t>(f_<I160,t>(x_I160))))))((λ p_t: (p_t & Q_t)))\n",
       " 2. ((λ g_<t,t>: (λ f_<I160,t>: (λ x_I160: g_<t,t>(f_<I160,t>(x_I160))))))((λ p_t: (p_t & Q_t)))    (Type inference)\n",
       " 3. ((λ g_<t,t>: (λ f_<X,t>: (λ x_X: g_<t,t>(f_<X,t>(x_X))))))((λ p_t: (p_t & Q_t)))    (Let substitution)"
      ]
     },
     "execution_count": 21,
     "metadata": {},
     "output_type": "execute_result"
    }
   ],
   "source": [
    "geach(h).derivation"
   ]
  },
  {
   "cell_type": "markdown",
   "metadata": {},
   "source": [
    "For the sake of convenience, there is a special variable notated and entered as `?`.  Simplifying slightly, instances of `?` types do not equal each other (i.e. it is a shorthand for using only fresh type variables).  You can use this when you simply don't know the type, for example, and the `?`s will get translated into regular type variables.  (Note that if you use this without `let`, you may get slightly counterintuitive results unless the type variables are renamed.)"
   ]
  },
  {
   "cell_type": "code",
   "execution_count": 22,
   "metadata": {
    "collapsed": false
   },
   "outputs": [
    {
     "data": {
      "text/latex": [
       "${f}_{\\left\\langle{}X,X'\\right\\rangle{}}({y}_{X})$"
      ],
      "text/plain": [
       "f_<X,X'>(y_X)"
      ]
     },
     "execution_count": 22,
     "metadata": {},
     "output_type": "execute_result"
    }
   ],
   "source": [
    "%te f_?(y_?)"
   ]
  },
  {
   "cell_type": "code",
   "execution_count": 23,
   "metadata": {
    "collapsed": true
   },
   "outputs": [],
   "source": []
  }
 ],
 "metadata": {
  "kernelspec": {
   "display_name": "Lambda Notebook (Python 3)",
   "language": "python",
   "name": "lambda-notebook"
  },
  "language_info": {
   "codemirror_mode": {
    "name": "ipython",
    "version": 3
   },
   "file_extension": ".py",
   "mimetype": "text/x-python",
   "name": "python",
   "nbconvert_exporter": "python",
   "pygments_lexer": "ipython3",
   "version": "3.5.1"
  }
 },
 "nbformat": 4,
 "nbformat_minor": 0
}
