{
 "cells": [
  {
   "cell_type": "markdown",
   "metadata": {},
   "source": [
    "## Quantifiers and scope tutorial\n",
    "\n",
    "### Kyle Rawlins  11/16\n",
    "\n",
    "This notebook walks through several basic techniques for handling quantifier scope, together with how to implement them in the Lambda Notebook."
   ]
  },
  {
   "cell_type": "markdown",
   "metadata": {},
   "source": [
    "### Quantifiers in object position\n"
   ]
  },
  {
   "cell_type": "code",
   "execution_count": 1,
   "metadata": {
    "collapsed": false
   },
   "outputs": [
    {
     "name": "stdout",
     "output_type": "stream",
     "text": [
      "INFO (meta): Coerced guessed type for 'Doctor_t' into <e,t>, to match argument 'x_e'\n",
      "INFO (meta): Coerced guessed type for 'Human_t' into <e,t>, to match argument 'x_e'\n",
      "INFO (meta): Coerced guessed type for 'Saw_t' into <(e,e),t>, to match argument '(y_e, x_e)'\n"
     ]
    },
    {
     "data": {
      "text/html": [
       "$[\\![\\mathbf{\\text{every}}]\\!]^{}_{\\left\\langle{}\\left\\langle{}e,t\\right\\rangle{},\\left\\langle{}\\left\\langle{}e,t\\right\\rangle{},t\\right\\rangle{}\\right\\rangle{}} \\:=\\: $$\\lambda{} f_{\\left\\langle{}e,t\\right\\rangle{}} \\: . \\: \\lambda{} g_{\\left\\langle{}e,t\\right\\rangle{}} \\: . \\: \\forall{} x_{e} \\: . \\: ({f}({x}) \\rightarrow{} {g}({x}))$<br />\n",
       "$[\\![\\mathbf{\\text{doctor}}]\\!]^{}_{\\left\\langle{}e,t\\right\\rangle{}} \\:=\\: $$\\lambda{} x_{e} \\: . \\: {Doctor}({x})$<br />\n",
       "$[\\![\\mathbf{\\text{someone}}]\\!]^{}_{\\left\\langle{}\\left\\langle{}e,t\\right\\rangle{},t\\right\\rangle{}} \\:=\\: $$\\lambda{} f_{\\left\\langle{}e,t\\right\\rangle{}} \\: . \\: \\exists{} x_{e} \\: . \\: ({Human}({x}) \\wedge{} {f}({x}))$<br />\n",
       "$[\\![\\mathbf{\\text{saw}}]\\!]^{}_{\\left\\langle{}e,\\left\\langle{}e,t\\right\\rangle{}\\right\\rangle{}} \\:=\\: $$\\lambda{} x_{e} \\: . \\: \\lambda{} y_{e} \\: . \\: {Saw}({y}, {x})$<br />\n",
       "$[\\![\\mathbf{\\text{alfonso}}]\\!]^{}_{e} \\:=\\: $${Alfonso}_{e}$"
      ],
      "text/latex": [
       "$[\\![\\mathbf{\\text{every}}]\\!]^{}_{\\left\\langle{}\\left\\langle{}e,t\\right\\rangle{},\\left\\langle{}\\left\\langle{}e,t\\right\\rangle{},t\\right\\rangle{}\\right\\rangle{}} \\:=\\: $$\\lambda{} f_{\\left\\langle{}e,t\\right\\rangle{}} \\: . \\: \\lambda{} g_{\\left\\langle{}e,t\\right\\rangle{}} \\: . \\: \\forall{} x_{e} \\: . \\: ({f}({x}) \\rightarrow{} {g}({x}))$<br />\n",
       "$[\\![\\mathbf{\\text{doctor}}]\\!]^{}_{\\left\\langle{}e,t\\right\\rangle{}} \\:=\\: $$\\lambda{} x_{e} \\: . \\: {Doctor}({x})$<br />\n",
       "$[\\![\\mathbf{\\text{someone}}]\\!]^{}_{\\left\\langle{}\\left\\langle{}e,t\\right\\rangle{},t\\right\\rangle{}} \\:=\\: $$\\lambda{} f_{\\left\\langle{}e,t\\right\\rangle{}} \\: . \\: \\exists{} x_{e} \\: . \\: ({Human}({x}) \\wedge{} {f}({x}))$<br />\n",
       "$[\\![\\mathbf{\\text{saw}}]\\!]^{}_{\\left\\langle{}e,\\left\\langle{}e,t\\right\\rangle{}\\right\\rangle{}} \\:=\\: $$\\lambda{} x_{e} \\: . \\: \\lambda{} y_{e} \\: . \\: {Saw}({y}, {x})$<br />\n",
       "$[\\![\\mathbf{\\text{alfonso}}]\\!]^{}_{e} \\:=\\: $${Alfonso}_{e}$"
      ],
      "text/plain": [
       "$[\\![\\mathbf{\\text{every}}]\\!]^{}_{\\left\\langle{}\\left\\langle{}e,t\\right\\rangle{},\\left\\langle{}\\left\\langle{}e,t\\right\\rangle{},t\\right\\rangle{}\\right\\rangle{}} \\:=\\: $$\\lambda{} f_{\\left\\langle{}e,t\\right\\rangle{}} \\: . \\: \\lambda{} g_{\\left\\langle{}e,t\\right\\rangle{}} \\: . \\: \\forall{} x_{e} \\: . \\: ({f}({x}) \\rightarrow{} {g}({x}))$<br />\n",
       "$[\\![\\mathbf{\\text{doctor}}]\\!]^{}_{\\left\\langle{}e,t\\right\\rangle{}} \\:=\\: $$\\lambda{} x_{e} \\: . \\: {Doctor}({x})$<br />\n",
       "$[\\![\\mathbf{\\text{someone}}]\\!]^{}_{\\left\\langle{}\\left\\langle{}e,t\\right\\rangle{},t\\right\\rangle{}} \\:=\\: $$\\lambda{} f_{\\left\\langle{}e,t\\right\\rangle{}} \\: . \\: \\exists{} x_{e} \\: . \\: ({Human}({x}) \\wedge{} {f}({x}))$<br />\n",
       "$[\\![\\mathbf{\\text{saw}}]\\!]^{}_{\\left\\langle{}e,\\left\\langle{}e,t\\right\\rangle{}\\right\\rangle{}} \\:=\\: $$\\lambda{} x_{e} \\: . \\: \\lambda{} y_{e} \\: . \\: {Saw}({y}, {x})$<br />\n",
       "$[\\![\\mathbf{\\text{alfonso}}]\\!]^{}_{e} \\:=\\: $${Alfonso}_{e}$"
      ]
     },
     "execution_count": 1,
     "metadata": {},
     "output_type": "execute_result"
    }
   ],
   "source": [
    "%%lamb\n",
    "||every|| = L f_<e,t> : L g_<e,t> : Forall x_e : f(x) >> g(x)\n",
    "||doctor|| = L x_e : Doctor(x)\n",
    "||someone|| = L f_<e,t> : Exists x_e : Human(x) & f(x)\n",
    "||saw|| = L x_e : L y_e : Saw(y,x)\n",
    "||alfonso|| = Alfonso_e"
   ]
  },
  {
   "cell_type": "code",
   "execution_count": 2,
   "metadata": {
    "collapsed": false
   },
   "outputs": [
    {
     "data": {
      "text/html": [
       "1 composition path:<br /><style>.rendered_html table, .rendered_html tr, .rendered_html td, .rendered_html th { border: 0px; text-align:center; }</style><table><tr style=\"border:1px solid #848482\"><td style=\"vertical-align:bottom;padding:0px 10px\" align=\"center\"><table><tr><td style=\"vertical-align:bottom;padding:5px\"><table><tr style=\"border:1px solid #848482\"><td style=\"vertical-align:bottom;padding:0px 10px\" align=\"center\"><table><tr><td style=\"vertical-align:bottom;padding:5px\"><div style=\"margin-top:10px;border-style:solid;border-color:#848482;border-width:0px\"><div style=\"vertical-align:bottom;text-align:center\">$[\\![\\mathbf{\\text{every}}]\\!]^{}_{\\left\\langle{}\\left\\langle{}e,t\\right\\rangle{},\\left\\langle{}\\left\\langle{}e,t\\right\\rangle{},t\\right\\rangle{}\\right\\rangle{}}$</div><div style=\"vertical-align:bottom;text-align:center\">$\\lambda{} f_{\\left\\langle{}e,t\\right\\rangle{}} \\: . \\: \\lambda{} g_{\\left\\langle{}e,t\\right\\rangle{}} \\: . \\: \\forall{} x_{e} \\: . \\: ({f}({x}) \\rightarrow{} {g}({x}))$</div></div></td><td style=\"vertical-align:bottom;padding:10px\">$\\circ$</td><td style=\"vertical-align:bottom;padding:5px\"><div style=\"margin-top:10px;border-style:solid;border-color:#848482;border-width:0px\"><div style=\"vertical-align:bottom;text-align:center\">$[\\![\\mathbf{\\text{doctor}}]\\!]^{}_{\\left\\langle{}e,t\\right\\rangle{}}$</div><div style=\"vertical-align:bottom;text-align:center\">$\\lambda{} x_{e} \\: . \\: {Doctor}({x})$</div></div></td></tr></table></td><td style=\"border-left:1px solid #848482;vertical-align:center;padding:10px\"><span style=\"color:blue\"><b>[FA]</b></span></td></tr><tr style=\"border-style:solid;border-color:#848482;border-width:0px 1px 1px 1px\"><td style=\"padding:5px\" align=\"center\"><div style=\"margin-top:10px;border-style:solid;border-color:#848482;border-width:0px\"><div style=\"vertical-align:bottom;text-align:center\">$[\\![\\mathbf{\\text{[every doctor]}}]\\!]^{}_{\\left\\langle{}\\left\\langle{}e,t\\right\\rangle{},t\\right\\rangle{}}$</div><div style=\"vertical-align:bottom;text-align:center\">$\\lambda{} g_{\\left\\langle{}e,t\\right\\rangle{}} \\: . \\: \\forall{} x_{e} \\: . \\: ({Doctor}({x}) \\rightarrow{} {g}({x}))$</div></div></td><td></td></tr></table></td><td style=\"vertical-align:bottom;padding:10px\">$\\circ$</td><td style=\"vertical-align:bottom;padding:5px\"><table><tr style=\"border:1px solid #848482\"><td style=\"vertical-align:bottom;padding:0px 10px\" align=\"center\"><table><tr><td style=\"vertical-align:bottom;padding:5px\"><div style=\"margin-top:10px;border-style:solid;border-color:#848482;border-width:0px\"><div style=\"vertical-align:bottom;text-align:center\">$[\\![\\mathbf{\\text{saw}}]\\!]^{}_{\\left\\langle{}e,\\left\\langle{}e,t\\right\\rangle{}\\right\\rangle{}}$</div><div style=\"vertical-align:bottom;text-align:center\">$\\lambda{} x_{e} \\: . \\: \\lambda{} y_{e} \\: . \\: {Saw}({y}, {x})$</div></div></td><td style=\"vertical-align:bottom;padding:10px\">$\\circ$</td><td style=\"vertical-align:bottom;padding:5px\"><div style=\"margin-top:10px;border-style:solid;border-color:#848482;border-width:0px\"><div style=\"vertical-align:bottom;text-align:center\">$[\\![\\mathbf{\\text{alfonso}}]\\!]^{}_{e}$</div><div style=\"vertical-align:bottom;text-align:center\">${Alfonso}_{e}$</div></div></td></tr></table></td><td style=\"border-left:1px solid #848482;vertical-align:center;padding:10px\"><span style=\"color:blue\"><b>[FA]</b></span></td></tr><tr style=\"border-style:solid;border-color:#848482;border-width:0px 1px 1px 1px\"><td style=\"padding:5px\" align=\"center\"><div style=\"margin-top:10px;border-style:solid;border-color:#848482;border-width:0px\"><div style=\"vertical-align:bottom;text-align:center\">$[\\![\\mathbf{\\text{[saw alfonso]}}]\\!]^{}_{\\left\\langle{}e,t\\right\\rangle{}}$</div><div style=\"vertical-align:bottom;text-align:center\">$\\lambda{} y_{e} \\: . \\: {Saw}({y}, {Alfonso}_{e})$</div></div></td><td></td></tr></table></td></tr></table></td><td style=\"border-left:1px solid #848482;vertical-align:center;padding:10px\"><span style=\"color:blue\"><b>[FA]</b></span></td></tr><tr style=\"border-style:solid;border-color:#848482;border-width:0px 1px 1px 1px\"><td style=\"padding:5px\" align=\"center\"><div style=\"margin-top:10px;border-style:solid;border-color:#848482;border-width:0px\"><div style=\"vertical-align:bottom;text-align:center\">$[\\![\\mathbf{\\text{[[every doctor] [saw alfonso]]}}]\\!]^{}_{t}$</div><div style=\"vertical-align:bottom;text-align:center\">$\\forall{} x_{e} \\: . \\: ({Doctor}({x}) \\rightarrow{} {Saw}({x}, {Alfonso}_{e}))$</div></div></td><td></td></tr></table><br /><br />"
      ],
      "text/latex": [
       "1 composition path:<br /><style>.rendered_html table, .rendered_html tr, .rendered_html td, .rendered_html th { border: 0px; text-align:center; }</style><table><tr style=\"border:1px solid #848482\"><td style=\"vertical-align:bottom;padding:0px 10px\" align=\"center\"><table><tr><td style=\"vertical-align:bottom;padding:5px\"><table><tr style=\"border:1px solid #848482\"><td style=\"vertical-align:bottom;padding:0px 10px\" align=\"center\"><table><tr><td style=\"vertical-align:bottom;padding:5px\"><div style=\"margin-top:10px;border-style:solid;border-color:#848482;border-width:0px\"><div style=\"vertical-align:bottom;text-align:center\">$[\\![\\mathbf{\\text{every}}]\\!]^{}_{\\left\\langle{}\\left\\langle{}e,t\\right\\rangle{},\\left\\langle{}\\left\\langle{}e,t\\right\\rangle{},t\\right\\rangle{}\\right\\rangle{}}$</div><div style=\"vertical-align:bottom;text-align:center\">$\\lambda{} f_{\\left\\langle{}e,t\\right\\rangle{}} \\: . \\: \\lambda{} g_{\\left\\langle{}e,t\\right\\rangle{}} \\: . \\: \\forall{} x_{e} \\: . \\: ({f}({x}) \\rightarrow{} {g}({x}))$</div></div></td><td style=\"vertical-align:bottom;padding:10px\">$\\circ$</td><td style=\"vertical-align:bottom;padding:5px\"><div style=\"margin-top:10px;border-style:solid;border-color:#848482;border-width:0px\"><div style=\"vertical-align:bottom;text-align:center\">$[\\![\\mathbf{\\text{doctor}}]\\!]^{}_{\\left\\langle{}e,t\\right\\rangle{}}$</div><div style=\"vertical-align:bottom;text-align:center\">$\\lambda{} x_{e} \\: . \\: {Doctor}({x})$</div></div></td></tr></table></td><td style=\"border-left:1px solid #848482;vertical-align:center;padding:10px\"><span style=\"color:blue\"><b>[FA]</b></span></td></tr><tr style=\"border-style:solid;border-color:#848482;border-width:0px 1px 1px 1px\"><td style=\"padding:5px\" align=\"center\"><div style=\"margin-top:10px;border-style:solid;border-color:#848482;border-width:0px\"><div style=\"vertical-align:bottom;text-align:center\">$[\\![\\mathbf{\\text{[every doctor]}}]\\!]^{}_{\\left\\langle{}\\left\\langle{}e,t\\right\\rangle{},t\\right\\rangle{}}$</div><div style=\"vertical-align:bottom;text-align:center\">$\\lambda{} g_{\\left\\langle{}e,t\\right\\rangle{}} \\: . \\: \\forall{} x_{e} \\: . \\: ({Doctor}({x}) \\rightarrow{} {g}({x}))$</div></div></td><td></td></tr></table></td><td style=\"vertical-align:bottom;padding:10px\">$\\circ$</td><td style=\"vertical-align:bottom;padding:5px\"><table><tr style=\"border:1px solid #848482\"><td style=\"vertical-align:bottom;padding:0px 10px\" align=\"center\"><table><tr><td style=\"vertical-align:bottom;padding:5px\"><div style=\"margin-top:10px;border-style:solid;border-color:#848482;border-width:0px\"><div style=\"vertical-align:bottom;text-align:center\">$[\\![\\mathbf{\\text{saw}}]\\!]^{}_{\\left\\langle{}e,\\left\\langle{}e,t\\right\\rangle{}\\right\\rangle{}}$</div><div style=\"vertical-align:bottom;text-align:center\">$\\lambda{} x_{e} \\: . \\: \\lambda{} y_{e} \\: . \\: {Saw}({y}, {x})$</div></div></td><td style=\"vertical-align:bottom;padding:10px\">$\\circ$</td><td style=\"vertical-align:bottom;padding:5px\"><div style=\"margin-top:10px;border-style:solid;border-color:#848482;border-width:0px\"><div style=\"vertical-align:bottom;text-align:center\">$[\\![\\mathbf{\\text{alfonso}}]\\!]^{}_{e}$</div><div style=\"vertical-align:bottom;text-align:center\">${Alfonso}_{e}$</div></div></td></tr></table></td><td style=\"border-left:1px solid #848482;vertical-align:center;padding:10px\"><span style=\"color:blue\"><b>[FA]</b></span></td></tr><tr style=\"border-style:solid;border-color:#848482;border-width:0px 1px 1px 1px\"><td style=\"padding:5px\" align=\"center\"><div style=\"margin-top:10px;border-style:solid;border-color:#848482;border-width:0px\"><div style=\"vertical-align:bottom;text-align:center\">$[\\![\\mathbf{\\text{[saw alfonso]}}]\\!]^{}_{\\left\\langle{}e,t\\right\\rangle{}}$</div><div style=\"vertical-align:bottom;text-align:center\">$\\lambda{} y_{e} \\: . \\: {Saw}({y}, {Alfonso}_{e})$</div></div></td><td></td></tr></table></td></tr></table></td><td style=\"border-left:1px solid #848482;vertical-align:center;padding:10px\"><span style=\"color:blue\"><b>[FA]</b></span></td></tr><tr style=\"border-style:solid;border-color:#848482;border-width:0px 1px 1px 1px\"><td style=\"padding:5px\" align=\"center\"><div style=\"margin-top:10px;border-style:solid;border-color:#848482;border-width:0px\"><div style=\"vertical-align:bottom;text-align:center\">$[\\![\\mathbf{\\text{[[every doctor] [saw alfonso]]}}]\\!]^{}_{t}$</div><div style=\"vertical-align:bottom;text-align:center\">$\\forall{} x_{e} \\: . \\: ({Doctor}({x}) \\rightarrow{} {Saw}({x}, {Alfonso}_{e}))$</div></div></td><td></td></tr></table><br /><br />"
      ],
      "text/plain": [
       "1 composition path:<br /><style>.rendered_html table, .rendered_html tr, .rendered_html td, .rendered_html th { border: 0px; text-align:center; }</style><table><tr style=\"border:1px solid #848482\"><td style=\"vertical-align:bottom;padding:0px 10px\" align=\"center\"><table><tr><td style=\"vertical-align:bottom;padding:5px\"><table><tr style=\"border:1px solid #848482\"><td style=\"vertical-align:bottom;padding:0px 10px\" align=\"center\"><table><tr><td style=\"vertical-align:bottom;padding:5px\"><div style=\"margin-top:10px;border-style:solid;border-color:#848482;border-width:0px\"><div style=\"vertical-align:bottom;text-align:center\">$[\\![\\mathbf{\\text{every}}]\\!]^{}_{\\left\\langle{}\\left\\langle{}e,t\\right\\rangle{},\\left\\langle{}\\left\\langle{}e,t\\right\\rangle{},t\\right\\rangle{}\\right\\rangle{}}$</div><div style=\"vertical-align:bottom;text-align:center\">$\\lambda{} f_{\\left\\langle{}e,t\\right\\rangle{}} \\: . \\: \\lambda{} g_{\\left\\langle{}e,t\\right\\rangle{}} \\: . \\: \\forall{} x_{e} \\: . \\: ({f}({x}) \\rightarrow{} {g}({x}))$</div></div></td><td style=\"vertical-align:bottom;padding:10px\">$\\circ$</td><td style=\"vertical-align:bottom;padding:5px\"><div style=\"margin-top:10px;border-style:solid;border-color:#848482;border-width:0px\"><div style=\"vertical-align:bottom;text-align:center\">$[\\![\\mathbf{\\text{doctor}}]\\!]^{}_{\\left\\langle{}e,t\\right\\rangle{}}$</div><div style=\"vertical-align:bottom;text-align:center\">$\\lambda{} x_{e} \\: . \\: {Doctor}({x})$</div></div></td></tr></table></td><td style=\"border-left:1px solid #848482;vertical-align:center;padding:10px\"><span style=\"color:blue\"><b>[FA]</b></span></td></tr><tr style=\"border-style:solid;border-color:#848482;border-width:0px 1px 1px 1px\"><td style=\"padding:5px\" align=\"center\"><div style=\"margin-top:10px;border-style:solid;border-color:#848482;border-width:0px\"><div style=\"vertical-align:bottom;text-align:center\">$[\\![\\mathbf{\\text{[every doctor]}}]\\!]^{}_{\\left\\langle{}\\left\\langle{}e,t\\right\\rangle{},t\\right\\rangle{}}$</div><div style=\"vertical-align:bottom;text-align:center\">$\\lambda{} g_{\\left\\langle{}e,t\\right\\rangle{}} \\: . \\: \\forall{} x_{e} \\: . \\: ({Doctor}({x}) \\rightarrow{} {g}({x}))$</div></div></td><td></td></tr></table></td><td style=\"vertical-align:bottom;padding:10px\">$\\circ$</td><td style=\"vertical-align:bottom;padding:5px\"><table><tr style=\"border:1px solid #848482\"><td style=\"vertical-align:bottom;padding:0px 10px\" align=\"center\"><table><tr><td style=\"vertical-align:bottom;padding:5px\"><div style=\"margin-top:10px;border-style:solid;border-color:#848482;border-width:0px\"><div style=\"vertical-align:bottom;text-align:center\">$[\\![\\mathbf{\\text{saw}}]\\!]^{}_{\\left\\langle{}e,\\left\\langle{}e,t\\right\\rangle{}\\right\\rangle{}}$</div><div style=\"vertical-align:bottom;text-align:center\">$\\lambda{} x_{e} \\: . \\: \\lambda{} y_{e} \\: . \\: {Saw}({y}, {x})$</div></div></td><td style=\"vertical-align:bottom;padding:10px\">$\\circ$</td><td style=\"vertical-align:bottom;padding:5px\"><div style=\"margin-top:10px;border-style:solid;border-color:#848482;border-width:0px\"><div style=\"vertical-align:bottom;text-align:center\">$[\\![\\mathbf{\\text{alfonso}}]\\!]^{}_{e}$</div><div style=\"vertical-align:bottom;text-align:center\">${Alfonso}_{e}$</div></div></td></tr></table></td><td style=\"border-left:1px solid #848482;vertical-align:center;padding:10px\"><span style=\"color:blue\"><b>[FA]</b></span></td></tr><tr style=\"border-style:solid;border-color:#848482;border-width:0px 1px 1px 1px\"><td style=\"padding:5px\" align=\"center\"><div style=\"margin-top:10px;border-style:solid;border-color:#848482;border-width:0px\"><div style=\"vertical-align:bottom;text-align:center\">$[\\![\\mathbf{\\text{[saw alfonso]}}]\\!]^{}_{\\left\\langle{}e,t\\right\\rangle{}}$</div><div style=\"vertical-align:bottom;text-align:center\">$\\lambda{} y_{e} \\: . \\: {Saw}({y}, {Alfonso}_{e})$</div></div></td><td></td></tr></table></td></tr></table></td><td style=\"border-left:1px solid #848482;vertical-align:center;padding:10px\"><span style=\"color:blue\"><b>[FA]</b></span></td></tr><tr style=\"border-style:solid;border-color:#848482;border-width:0px 1px 1px 1px\"><td style=\"padding:5px\" align=\"center\"><div style=\"margin-top:10px;border-style:solid;border-color:#848482;border-width:0px\"><div style=\"vertical-align:bottom;text-align:center\">$[\\![\\mathbf{\\text{[[every doctor] [saw alfonso]]}}]\\!]^{}_{t}$</div><div style=\"vertical-align:bottom;text-align:center\">$\\forall{} x_{e} \\: . \\: ({Doctor}({x}) \\rightarrow{} {Saw}({x}, {Alfonso}_{e}))$</div></div></td><td></td></tr></table><br /><br />"
      ]
     },
     "execution_count": 2,
     "metadata": {},
     "output_type": "execute_result"
    }
   ],
   "source": [
    "((every * doctor) * (saw * alfonso)).tree()"
   ]
  },
  {
   "cell_type": "code",
   "execution_count": 3,
   "metadata": {
    "collapsed": false
   },
   "outputs": [
    {
     "data": {
      "text/html": [
       "Composition failed.  Attempts:<br />\n",
       "&nbsp;&nbsp;&nbsp;&nbsp;<span style=\"color:red\">Type mismatch</span>: '$[\\![\\mathbf{\\text{saw}}]\\!]^{}_{\\left\\langle{}e,\\left\\langle{}e,t\\right\\rangle{}\\right\\rangle{}} \\:=\\: $$\\lambda{} x_{e} \\: . \\: \\lambda{} y_{e} \\: . \\: {Saw}({y}, {x})$'/$\\left\\langle{}e,\\left\\langle{}e,t\\right\\rangle{}\\right\\rangle{}$ and '$[\\![\\mathbf{\\text{[every doctor]}}]\\!]^{}_{\\left\\langle{}\\left\\langle{}e,t\\right\\rangle{},t\\right\\rangle{}} \\:=\\: $$\\lambda{} g_{\\left\\langle{}e,t\\right\\rangle{}} \\: . \\: \\forall{} x_{e} \\: . \\: ({Doctor}({x}) \\rightarrow{} {g}({x}))$'/$\\left\\langle{}\\left\\langle{}e,t\\right\\rangle{},t\\right\\rangle{}$ conflict (mode: Function Application)<br />\n",
       "&nbsp;&nbsp;&nbsp;&nbsp;<span style=\"color:red\">Type mismatch</span>: '$[\\![\\mathbf{\\text{[every doctor]}}]\\!]^{}_{\\left\\langle{}\\left\\langle{}e,t\\right\\rangle{},t\\right\\rangle{}} \\:=\\: $$\\lambda{} g_{\\left\\langle{}e,t\\right\\rangle{}} \\: . \\: \\forall{} x_{e} \\: . \\: ({Doctor}({x}) \\rightarrow{} {g}({x}))$'/$\\left\\langle{}\\left\\langle{}e,t\\right\\rangle{},t\\right\\rangle{}$ and '$[\\![\\mathbf{\\text{saw}}]\\!]^{}_{\\left\\langle{}e,\\left\\langle{}e,t\\right\\rangle{}\\right\\rangle{}} \\:=\\: $$\\lambda{} x_{e} \\: . \\: \\lambda{} y_{e} \\: . \\: {Saw}({y}, {x})$'/$\\left\\langle{}e,\\left\\langle{}e,t\\right\\rangle{}\\right\\rangle{}$ conflict (mode: Function Application)<br />\n",
       "&nbsp;&nbsp;&nbsp;&nbsp;<span style=\"color:red\">Type mismatch</span>: '$[\\![\\mathbf{\\text{saw}}]\\!]^{}_{\\left\\langle{}e,\\left\\langle{}e,t\\right\\rangle{}\\right\\rangle{}} \\:=\\: $$\\lambda{} x_{e} \\: . \\: \\lambda{} y_{e} \\: . \\: {Saw}({y}, {x})$'/$\\left\\langle{}e,\\left\\langle{}e,t\\right\\rangle{}\\right\\rangle{}$ and '$[\\![\\mathbf{\\text{[every doctor]}}]\\!]^{}_{\\left\\langle{}\\left\\langle{}e,t\\right\\rangle{},t\\right\\rangle{}} \\:=\\: $$\\lambda{} g_{\\left\\langle{}e,t\\right\\rangle{}} \\: . \\: \\forall{} x_{e} \\: . \\: ({Doctor}({x}) \\rightarrow{} {g}({x}))$'/$\\left\\langle{}\\left\\langle{}e,t\\right\\rangle{},t\\right\\rangle{}$ conflict (mode: Predicate Modification)<br />\n",
       "&nbsp;&nbsp;&nbsp;&nbsp;<span style=\"color:red\">Type mismatch</span>: '$[\\![\\mathbf{\\text{saw}}]\\!]^{}_{\\left\\langle{}e,\\left\\langle{}e,t\\right\\rangle{}\\right\\rangle{}} \\:=\\: $$\\lambda{} x_{e} \\: . \\: \\lambda{} y_{e} \\: . \\: {Saw}({y}, {x})$'/$\\left\\langle{}e,\\left\\langle{}e,t\\right\\rangle{}\\right\\rangle{}$ and '$[\\![\\mathbf{\\text{[every doctor]}}]\\!]^{}_{\\left\\langle{}\\left\\langle{}e,t\\right\\rangle{},t\\right\\rangle{}} \\:=\\: $$\\lambda{} g_{\\left\\langle{}e,t\\right\\rangle{}} \\: . \\: \\forall{} x_{e} \\: . \\: ({Doctor}({x}) \\rightarrow{} {g}({x}))$'/$\\left\\langle{}\\left\\langle{}e,t\\right\\rangle{},t\\right\\rangle{}$ conflict (mode: Predicate Abstraction)<br />\n",
       "&nbsp;&nbsp;&nbsp;&nbsp;<span style=\"color:red\">Type mismatch</span>: '$[\\![\\mathbf{\\text{[every doctor]}}]\\!]^{}_{\\left\\langle{}\\left\\langle{}e,t\\right\\rangle{},t\\right\\rangle{}} \\:=\\: $$\\lambda{} g_{\\left\\langle{}e,t\\right\\rangle{}} \\: . \\: \\forall{} x_{e} \\: . \\: ({Doctor}({x}) \\rightarrow{} {g}({x}))$'/$\\left\\langle{}\\left\\langle{}e,t\\right\\rangle{},t\\right\\rangle{}$ and '$[\\![\\mathbf{\\text{saw}}]\\!]^{}_{\\left\\langle{}e,\\left\\langle{}e,t\\right\\rangle{}\\right\\rangle{}} \\:=\\: $$\\lambda{} x_{e} \\: . \\: \\lambda{} y_{e} \\: . \\: {Saw}({y}, {x})$'/$\\left\\langle{}e,\\left\\langle{}e,t\\right\\rangle{}\\right\\rangle{}$ conflict (mode: Predicate Abstraction)<br />\n"
      ],
      "text/plain": [
       "CompositionResult(results=[], failures=[⟦[saw [every doctor]]⟧ = Type mismatch: '⟦saw⟧ = (λ x_e: (λ y_e: Saw_<(e,e),t>(y_e, x_e)))'/<e,<e,t>> and '⟦[every doctor]⟧ = (λ g_<e,t>: (Forall x_e: (Doctor_<e,t>(x_e) >> g_<e,t>(x_e))))'/<<e,t>,t> conflict (mode: Function Application), ⟦[[every doctor] saw]⟧ = Type mismatch: '⟦[every doctor]⟧ = (λ g_<e,t>: (Forall x_e: (Doctor_<e,t>(x_e) >> g_<e,t>(x_e))))'/<<e,t>,t> and '⟦saw⟧ = (λ x_e: (λ y_e: Saw_<(e,e),t>(y_e, x_e)))'/<e,<e,t>> conflict (mode: Function Application), ⟦[saw [every doctor]]⟧ = Type mismatch: '⟦saw⟧ = (λ x_e: (λ y_e: Saw_<(e,e),t>(y_e, x_e)))'/<e,<e,t>> and '⟦[every doctor]⟧ = (λ g_<e,t>: (Forall x_e: (Doctor_<e,t>(x_e) >> g_<e,t>(x_e))))'/<<e,t>,t> conflict (mode: Predicate Modification), ⟦[saw [every doctor]]⟧ = Type mismatch: '⟦saw⟧ = (λ x_e: (λ y_e: Saw_<(e,e),t>(y_e, x_e)))'/<e,<e,t>> and '⟦[every doctor]⟧ = (λ g_<e,t>: (Forall x_e: (Doctor_<e,t>(x_e) >> g_<e,t>(x_e))))'/<<e,t>,t> conflict (mode: Predicate Abstraction), ⟦[[every doctor] saw]⟧ = Type mismatch: '⟦[every doctor]⟧ = (λ g_<e,t>: (Forall x_e: (Doctor_<e,t>(x_e) >> g_<e,t>(x_e))))'/<<e,t>,t> and '⟦saw⟧ = (λ x_e: (λ y_e: Saw_<(e,e),t>(y_e, x_e)))'/<e,<e,t>> conflict (mode: Predicate Abstraction)])"
      ]
     },
     "execution_count": 3,
     "metadata": {},
     "output_type": "execute_result"
    }
   ],
   "source": [
    "(saw * (every * doctor))"
   ]
  },
  {
   "cell_type": "markdown",
   "metadata": {},
   "source": [
    "### Quantifiers in object position via QR\n",
    "\n",
    "The \"standard\" approach is to move an object position quantified DP so it scopes over its immediate TP.  The lambda notebook currently has no explicit syntax beyond order of composition, so this isn't done automatically for you (feel free to submit a pull request...).  However, it is easy to do \"by hand\".  We will need traces and binders.  A version of Predicate Abstraction (PA) is already present as a composition operation in the default system."
   ]
  },
  {
   "cell_type": "code",
   "execution_count": 4,
   "metadata": {
    "collapsed": false
   },
   "outputs": [
    {
     "data": {
      "text/html": [
       "$[\\![\\mathbf{\\text{t}}_{2}]\\!]^{}_{e} \\:=\\: $${var2}_{e}$"
      ],
      "text/latex": [
       "$[\\![\\mathbf{\\text{t}}_{2}]\\!]^{}_{e} \\:=\\: $${var2}_{e}$"
      ],
      "text/plain": [
       "⟦t2⟧ = var2_e"
      ]
     },
     "execution_count": 4,
     "metadata": {},
     "output_type": "execute_result"
    }
   ],
   "source": [
    "trace = lang.Trace(index=2, typ=tp(\"e\"))\n",
    "trace"
   ]
  },
  {
   "cell_type": "code",
   "execution_count": 5,
   "metadata": {
    "collapsed": false
   },
   "outputs": [
    {
     "data": {
      "text/html": [
       "$[\\![\\mathbf{\\text{2}}]\\!]^{}$"
      ],
      "text/latex": [
       "$[\\![\\mathbf{\\text{2}}]\\!]^{}$"
      ],
      "text/plain": [
       "⟦2⟧ = None"
      ]
     },
     "execution_count": 5,
     "metadata": {},
     "output_type": "execute_result"
    }
   ],
   "source": [
    "binder = lang.Binder(index=2)\n",
    "binder"
   ]
  },
  {
   "cell_type": "code",
   "execution_count": 6,
   "metadata": {
    "collapsed": false
   },
   "outputs": [
    {
     "data": {
      "text/html": [
       "Composition system 'H&K simple'<br />Operations: {<br />&nbsp;&nbsp;&nbsp;&nbsp;Binary composition rule <i>FA</i>, built on python function 'lamb.lang.fa_fun'<br />&nbsp;&nbsp;&nbsp;&nbsp;Binary composition rule <i>PM</i>, built on python function 'lamb.lang.pm_fun'<br />&nbsp;&nbsp;&nbsp;&nbsp;Binary composition rule <i>PA</i>, built on python function 'lamb.lang.pa_fun'<br />}"
      ],
      "text/plain": [
       "Composition system: H&K simple"
      ]
     },
     "execution_count": 6,
     "metadata": {},
     "output_type": "execute_result"
    }
   ],
   "source": [
    "lang.get_system()"
   ]
  },
  {
   "cell_type": "code",
   "execution_count": 7,
   "metadata": {
    "collapsed": false
   },
   "outputs": [
    {
     "data": {
      "text/html": [
       "1 composition path.  Result:\n",
       "<br />&nbsp;&nbsp;&nbsp;&nbsp;[0]: $[\\![\\mathbf{\\text{[[every doctor] [2 [[saw t2] alfonso]]]}}]\\!]^{}_{t} \\:=\\: $$\\forall{} x_{e} \\: . \\: ({Doctor}({x}) \\rightarrow{} {Saw}({Alfonso}_{e}, {x}))$"
      ],
      "text/plain": [
       "CompositionResult(results=[⟦[[every doctor] [2 [[saw t2] alfonso]]]⟧ = (Forall x_e: (Doctor_<e,t>(x_e) >> Saw_<(e,e),t>(Alfonso_e, x_e)))], failures=[⟦[[2 [[saw t2] alfonso]] [every doctor]]⟧ = Type mismatch: '⟦[2 [[saw t2] alfonso]]⟧ = (λ x_e: Saw_<(e,e),t>(Alfonso_e, x_e))'/<e,t> and '⟦[every doctor]⟧ = (λ g_<e,t>: (Forall x_e: (Doctor_<e,t>(x_e) >> g_<e,t>(x_e))))'/<<e,t>,t> conflict (mode: Function Application), ⟦[[every doctor] [2 [[saw t2] alfonso]]]⟧ = Type mismatch: '⟦[every doctor]⟧ = (λ g_<e,t>: (Forall x_e: (Doctor_<e,t>(x_e) >> g_<e,t>(x_e))))'/<<e,t>,t> and '⟦[2 [[saw t2] alfonso]]⟧ = (λ x_e: Saw_<(e,e),t>(Alfonso_e, x_e))'/<e,t> conflict (mode: Predicate Modification), ⟦[[every doctor] [2 [[saw t2] alfonso]]]⟧ = Type mismatch: '⟦[every doctor]⟧ = (λ g_<e,t>: (Forall x_e: (Doctor_<e,t>(x_e) >> g_<e,t>(x_e))))'/<<e,t>,t> and '⟦[2 [[saw t2] alfonso]]⟧ = (λ x_e: Saw_<(e,e),t>(Alfonso_e, x_e))'/<e,t> conflict (mode: Predicate Abstraction), ⟦[[2 [[saw t2] alfonso]] [every doctor]]⟧ = Type mismatch: '⟦[2 [[saw t2] alfonso]]⟧ = (λ x_e: Saw_<(e,e),t>(Alfonso_e, x_e))'/<e,t> and '⟦[every doctor]⟧ = (λ g_<e,t>: (Forall x_e: (Doctor_<e,t>(x_e) >> g_<e,t>(x_e))))'/<<e,t>,t> conflict (mode: Predicate Abstraction)])"
      ]
     },
     "execution_count": 7,
     "metadata": {},
     "output_type": "execute_result"
    }
   ],
   "source": [
    "(every * doctor) * (binder * (alfonso * (saw * trace)))"
   ]
  },
  {
   "cell_type": "code",
   "execution_count": 8,
   "metadata": {
    "collapsed": false
   },
   "outputs": [
    {
     "data": {
      "text/html": [
       "1 composition path:<br /><style>.rendered_html table, .rendered_html tr, .rendered_html td, .rendered_html th { border: 0px; text-align:center; }</style><table><tr style=\"border:1px solid #848482\"><td style=\"vertical-align:bottom;padding:0px 10px\" align=\"center\"><table><tr><td style=\"vertical-align:bottom;padding:5px\"><table><tr style=\"border:1px solid #848482\"><td style=\"vertical-align:bottom;padding:0px 10px\" align=\"center\"><table><tr><td style=\"vertical-align:bottom;padding:5px\"><div style=\"margin-top:10px;border-style:solid;border-color:#848482;border-width:0px\"><div style=\"vertical-align:bottom;text-align:center\">$[\\![\\mathbf{\\text{every}}]\\!]^{}_{\\left\\langle{}\\left\\langle{}e,t\\right\\rangle{},\\left\\langle{}\\left\\langle{}e,t\\right\\rangle{},t\\right\\rangle{}\\right\\rangle{}}$</div><div style=\"vertical-align:bottom;text-align:center\">$\\lambda{} f_{\\left\\langle{}e,t\\right\\rangle{}} \\: . \\: \\lambda{} g_{\\left\\langle{}e,t\\right\\rangle{}} \\: . \\: \\forall{} x_{e} \\: . \\: ({f}({x}) \\rightarrow{} {g}({x}))$</div></div></td><td style=\"vertical-align:bottom;padding:10px\">$\\circ$</td><td style=\"vertical-align:bottom;padding:5px\"><div style=\"margin-top:10px;border-style:solid;border-color:#848482;border-width:0px\"><div style=\"vertical-align:bottom;text-align:center\">$[\\![\\mathbf{\\text{doctor}}]\\!]^{}_{\\left\\langle{}e,t\\right\\rangle{}}$</div><div style=\"vertical-align:bottom;text-align:center\">$\\lambda{} x_{e} \\: . \\: {Doctor}({x})$</div></div></td></tr></table></td><td style=\"border-left:1px solid #848482;vertical-align:center;padding:10px\"><span style=\"color:blue\"><b>[FA]</b></span></td></tr><tr style=\"border-style:solid;border-color:#848482;border-width:0px 1px 1px 1px\"><td style=\"padding:5px\" align=\"center\"><div style=\"margin-top:10px;border-style:solid;border-color:#848482;border-width:0px\"><div style=\"vertical-align:bottom;text-align:center\">$[\\![\\mathbf{\\text{[every doctor]}}]\\!]^{}_{\\left\\langle{}\\left\\langle{}e,t\\right\\rangle{},t\\right\\rangle{}}$</div><div style=\"vertical-align:bottom;text-align:center\">$\\lambda{} g_{\\left\\langle{}e,t\\right\\rangle{}} \\: . \\: \\forall{} x_{e} \\: . \\: ({Doctor}({x}) \\rightarrow{} {g}({x}))$</div></div></td><td></td></tr></table></td><td style=\"vertical-align:bottom;padding:10px\">$\\circ$</td><td style=\"vertical-align:bottom;padding:5px\"><table><tr style=\"border:1px solid #848482\"><td style=\"vertical-align:bottom;padding:0px 10px\" align=\"center\"><table><tr><td style=\"vertical-align:bottom;padding:5px\"><div style=\"margin-top:10px;border-style:solid;border-color:#848482;border-width:0px\"><div style=\"vertical-align:bottom;text-align:center\">$[\\![\\mathbf{\\text{2}}]\\!]^{}$</div><div style=\"vertical-align:bottom;text-align:center\">N/A</div></div></td><td style=\"vertical-align:bottom;padding:10px\">$\\circ$</td><td style=\"vertical-align:bottom;padding:5px\"><table><tr style=\"border:1px solid #848482\"><td style=\"vertical-align:bottom;padding:0px 10px\" align=\"center\"><table><tr><td style=\"vertical-align:bottom;padding:5px\"><table><tr style=\"border:1px solid #848482\"><td style=\"vertical-align:bottom;padding:0px 10px\" align=\"center\"><table><tr><td style=\"vertical-align:bottom;padding:5px\"><div style=\"margin-top:10px;border-style:solid;border-color:#848482;border-width:0px\"><div style=\"vertical-align:bottom;text-align:center\">$[\\![\\mathbf{\\text{saw}}]\\!]^{}_{\\left\\langle{}e,\\left\\langle{}e,t\\right\\rangle{}\\right\\rangle{}}$</div><div style=\"vertical-align:bottom;text-align:center\">$\\lambda{} x_{e} \\: . \\: \\lambda{} y_{e} \\: . \\: {Saw}({y}, {x})$</div></div></td><td style=\"vertical-align:bottom;padding:10px\">$\\circ$</td><td style=\"vertical-align:bottom;padding:5px\"><div style=\"margin-top:10px;border-style:solid;border-color:#848482;border-width:0px\"><div style=\"vertical-align:bottom;text-align:center\">$[\\![\\mathbf{\\text{t}}_{2}]\\!]^{}_{e}$</div><div style=\"vertical-align:bottom;text-align:center\">${var2}_{e}$</div></div></td></tr></table></td><td style=\"border-left:1px solid #848482;vertical-align:center;padding:10px\"><span style=\"color:blue\"><b>[FA]</b></span></td></tr><tr style=\"border-style:solid;border-color:#848482;border-width:0px 1px 1px 1px\"><td style=\"padding:5px\" align=\"center\"><div style=\"margin-top:10px;border-style:solid;border-color:#848482;border-width:0px\"><div style=\"vertical-align:bottom;text-align:center\">$[\\![\\mathbf{\\text{[saw t2]}}]\\!]^{}_{\\left\\langle{}e,t\\right\\rangle{}}$</div><div style=\"vertical-align:bottom;text-align:center\">$\\lambda{} y_{e} \\: . \\: {Saw}({y}, {var2}_{e})$</div></div></td><td></td></tr></table></td><td style=\"vertical-align:bottom;padding:10px\">$\\circ$</td><td style=\"vertical-align:bottom;padding:5px\"><div style=\"margin-top:10px;border-style:solid;border-color:#848482;border-width:0px\"><div style=\"vertical-align:bottom;text-align:center\">$[\\![\\mathbf{\\text{alfonso}}]\\!]^{}_{e}$</div><div style=\"vertical-align:bottom;text-align:center\">${Alfonso}_{e}$</div></div></td></tr></table></td><td style=\"border-left:1px solid #848482;vertical-align:center;padding:10px\"><span style=\"color:blue\"><b>[FA]</b></span></td></tr><tr style=\"border-style:solid;border-color:#848482;border-width:0px 1px 1px 1px\"><td style=\"padding:5px\" align=\"center\"><div style=\"margin-top:10px;border-style:solid;border-color:#848482;border-width:0px\"><div style=\"vertical-align:bottom;text-align:center\">$[\\![\\mathbf{\\text{[[saw t2] alfonso]}}]\\!]^{}_{t}$</div><div style=\"vertical-align:bottom;text-align:center\">${Saw}({Alfonso}_{e}, {var2}_{e})$</div></div></td><td></td></tr></table></td></tr></table></td><td style=\"border-left:1px solid #848482;vertical-align:center;padding:10px\"><span style=\"color:blue\"><b>[PA]</b></span></td></tr><tr style=\"border-style:solid;border-color:#848482;border-width:0px 1px 1px 1px\"><td style=\"padding:5px\" align=\"center\"><div style=\"margin-top:10px;border-style:solid;border-color:#848482;border-width:0px\"><div style=\"vertical-align:bottom;text-align:center\">$[\\![\\mathbf{\\text{[2 [[saw t2] alfonso]]}}]\\!]^{}_{\\left\\langle{}e,t\\right\\rangle{}}$</div><div style=\"vertical-align:bottom;text-align:center\">$\\lambda{} x_{e} \\: . \\: {Saw}({Alfonso}_{e}, {x})$</div></div></td><td></td></tr></table></td></tr></table></td><td style=\"border-left:1px solid #848482;vertical-align:center;padding:10px\"><span style=\"color:blue\"><b>[FA]</b></span></td></tr><tr style=\"border-style:solid;border-color:#848482;border-width:0px 1px 1px 1px\"><td style=\"padding:5px\" align=\"center\"><div style=\"margin-top:10px;border-style:solid;border-color:#848482;border-width:0px\"><div style=\"vertical-align:bottom;text-align:center\">$[\\![\\mathbf{\\text{[[every doctor] [2 [[saw t2] alfonso]]]}}]\\!]^{}_{t}$</div><div style=\"vertical-align:bottom;text-align:center\">$\\forall{} x_{e} \\: . \\: ({Doctor}({x}) \\rightarrow{} {Saw}({Alfonso}_{e}, {x}))$</div></div></td><td></td></tr></table><br /><br />"
      ],
      "text/latex": [
       "1 composition path:<br /><style>.rendered_html table, .rendered_html tr, .rendered_html td, .rendered_html th { border: 0px; text-align:center; }</style><table><tr style=\"border:1px solid #848482\"><td style=\"vertical-align:bottom;padding:0px 10px\" align=\"center\"><table><tr><td style=\"vertical-align:bottom;padding:5px\"><table><tr style=\"border:1px solid #848482\"><td style=\"vertical-align:bottom;padding:0px 10px\" align=\"center\"><table><tr><td style=\"vertical-align:bottom;padding:5px\"><div style=\"margin-top:10px;border-style:solid;border-color:#848482;border-width:0px\"><div style=\"vertical-align:bottom;text-align:center\">$[\\![\\mathbf{\\text{every}}]\\!]^{}_{\\left\\langle{}\\left\\langle{}e,t\\right\\rangle{},\\left\\langle{}\\left\\langle{}e,t\\right\\rangle{},t\\right\\rangle{}\\right\\rangle{}}$</div><div style=\"vertical-align:bottom;text-align:center\">$\\lambda{} f_{\\left\\langle{}e,t\\right\\rangle{}} \\: . \\: \\lambda{} g_{\\left\\langle{}e,t\\right\\rangle{}} \\: . \\: \\forall{} x_{e} \\: . \\: ({f}({x}) \\rightarrow{} {g}({x}))$</div></div></td><td style=\"vertical-align:bottom;padding:10px\">$\\circ$</td><td style=\"vertical-align:bottom;padding:5px\"><div style=\"margin-top:10px;border-style:solid;border-color:#848482;border-width:0px\"><div style=\"vertical-align:bottom;text-align:center\">$[\\![\\mathbf{\\text{doctor}}]\\!]^{}_{\\left\\langle{}e,t\\right\\rangle{}}$</div><div style=\"vertical-align:bottom;text-align:center\">$\\lambda{} x_{e} \\: . \\: {Doctor}({x})$</div></div></td></tr></table></td><td style=\"border-left:1px solid #848482;vertical-align:center;padding:10px\"><span style=\"color:blue\"><b>[FA]</b></span></td></tr><tr style=\"border-style:solid;border-color:#848482;border-width:0px 1px 1px 1px\"><td style=\"padding:5px\" align=\"center\"><div style=\"margin-top:10px;border-style:solid;border-color:#848482;border-width:0px\"><div style=\"vertical-align:bottom;text-align:center\">$[\\![\\mathbf{\\text{[every doctor]}}]\\!]^{}_{\\left\\langle{}\\left\\langle{}e,t\\right\\rangle{},t\\right\\rangle{}}$</div><div style=\"vertical-align:bottom;text-align:center\">$\\lambda{} g_{\\left\\langle{}e,t\\right\\rangle{}} \\: . \\: \\forall{} x_{e} \\: . \\: ({Doctor}({x}) \\rightarrow{} {g}({x}))$</div></div></td><td></td></tr></table></td><td style=\"vertical-align:bottom;padding:10px\">$\\circ$</td><td style=\"vertical-align:bottom;padding:5px\"><table><tr style=\"border:1px solid #848482\"><td style=\"vertical-align:bottom;padding:0px 10px\" align=\"center\"><table><tr><td style=\"vertical-align:bottom;padding:5px\"><div style=\"margin-top:10px;border-style:solid;border-color:#848482;border-width:0px\"><div style=\"vertical-align:bottom;text-align:center\">$[\\![\\mathbf{\\text{2}}]\\!]^{}$</div><div style=\"vertical-align:bottom;text-align:center\">N/A</div></div></td><td style=\"vertical-align:bottom;padding:10px\">$\\circ$</td><td style=\"vertical-align:bottom;padding:5px\"><table><tr style=\"border:1px solid #848482\"><td style=\"vertical-align:bottom;padding:0px 10px\" align=\"center\"><table><tr><td style=\"vertical-align:bottom;padding:5px\"><table><tr style=\"border:1px solid #848482\"><td style=\"vertical-align:bottom;padding:0px 10px\" align=\"center\"><table><tr><td style=\"vertical-align:bottom;padding:5px\"><div style=\"margin-top:10px;border-style:solid;border-color:#848482;border-width:0px\"><div style=\"vertical-align:bottom;text-align:center\">$[\\![\\mathbf{\\text{saw}}]\\!]^{}_{\\left\\langle{}e,\\left\\langle{}e,t\\right\\rangle{}\\right\\rangle{}}$</div><div style=\"vertical-align:bottom;text-align:center\">$\\lambda{} x_{e} \\: . \\: \\lambda{} y_{e} \\: . \\: {Saw}({y}, {x})$</div></div></td><td style=\"vertical-align:bottom;padding:10px\">$\\circ$</td><td style=\"vertical-align:bottom;padding:5px\"><div style=\"margin-top:10px;border-style:solid;border-color:#848482;border-width:0px\"><div style=\"vertical-align:bottom;text-align:center\">$[\\![\\mathbf{\\text{t}}_{2}]\\!]^{}_{e}$</div><div style=\"vertical-align:bottom;text-align:center\">${var2}_{e}$</div></div></td></tr></table></td><td style=\"border-left:1px solid #848482;vertical-align:center;padding:10px\"><span style=\"color:blue\"><b>[FA]</b></span></td></tr><tr style=\"border-style:solid;border-color:#848482;border-width:0px 1px 1px 1px\"><td style=\"padding:5px\" align=\"center\"><div style=\"margin-top:10px;border-style:solid;border-color:#848482;border-width:0px\"><div style=\"vertical-align:bottom;text-align:center\">$[\\![\\mathbf{\\text{[saw t2]}}]\\!]^{}_{\\left\\langle{}e,t\\right\\rangle{}}$</div><div style=\"vertical-align:bottom;text-align:center\">$\\lambda{} y_{e} \\: . \\: {Saw}({y}, {var2}_{e})$</div></div></td><td></td></tr></table></td><td style=\"vertical-align:bottom;padding:10px\">$\\circ$</td><td style=\"vertical-align:bottom;padding:5px\"><div style=\"margin-top:10px;border-style:solid;border-color:#848482;border-width:0px\"><div style=\"vertical-align:bottom;text-align:center\">$[\\![\\mathbf{\\text{alfonso}}]\\!]^{}_{e}$</div><div style=\"vertical-align:bottom;text-align:center\">${Alfonso}_{e}$</div></div></td></tr></table></td><td style=\"border-left:1px solid #848482;vertical-align:center;padding:10px\"><span style=\"color:blue\"><b>[FA]</b></span></td></tr><tr style=\"border-style:solid;border-color:#848482;border-width:0px 1px 1px 1px\"><td style=\"padding:5px\" align=\"center\"><div style=\"margin-top:10px;border-style:solid;border-color:#848482;border-width:0px\"><div style=\"vertical-align:bottom;text-align:center\">$[\\![\\mathbf{\\text{[[saw t2] alfonso]}}]\\!]^{}_{t}$</div><div style=\"vertical-align:bottom;text-align:center\">${Saw}({Alfonso}_{e}, {var2}_{e})$</div></div></td><td></td></tr></table></td></tr></table></td><td style=\"border-left:1px solid #848482;vertical-align:center;padding:10px\"><span style=\"color:blue\"><b>[PA]</b></span></td></tr><tr style=\"border-style:solid;border-color:#848482;border-width:0px 1px 1px 1px\"><td style=\"padding:5px\" align=\"center\"><div style=\"margin-top:10px;border-style:solid;border-color:#848482;border-width:0px\"><div style=\"vertical-align:bottom;text-align:center\">$[\\![\\mathbf{\\text{[2 [[saw t2] alfonso]]}}]\\!]^{}_{\\left\\langle{}e,t\\right\\rangle{}}$</div><div style=\"vertical-align:bottom;text-align:center\">$\\lambda{} x_{e} \\: . \\: {Saw}({Alfonso}_{e}, {x})$</div></div></td><td></td></tr></table></td></tr></table></td><td style=\"border-left:1px solid #848482;vertical-align:center;padding:10px\"><span style=\"color:blue\"><b>[FA]</b></span></td></tr><tr style=\"border-style:solid;border-color:#848482;border-width:0px 1px 1px 1px\"><td style=\"padding:5px\" align=\"center\"><div style=\"margin-top:10px;border-style:solid;border-color:#848482;border-width:0px\"><div style=\"vertical-align:bottom;text-align:center\">$[\\![\\mathbf{\\text{[[every doctor] [2 [[saw t2] alfonso]]]}}]\\!]^{}_{t}$</div><div style=\"vertical-align:bottom;text-align:center\">$\\forall{} x_{e} \\: . \\: ({Doctor}({x}) \\rightarrow{} {Saw}({Alfonso}_{e}, {x}))$</div></div></td><td></td></tr></table><br /><br />"
      ],
      "text/plain": [
       "1 composition path:<br /><style>.rendered_html table, .rendered_html tr, .rendered_html td, .rendered_html th { border: 0px; text-align:center; }</style><table><tr style=\"border:1px solid #848482\"><td style=\"vertical-align:bottom;padding:0px 10px\" align=\"center\"><table><tr><td style=\"vertical-align:bottom;padding:5px\"><table><tr style=\"border:1px solid #848482\"><td style=\"vertical-align:bottom;padding:0px 10px\" align=\"center\"><table><tr><td style=\"vertical-align:bottom;padding:5px\"><div style=\"margin-top:10px;border-style:solid;border-color:#848482;border-width:0px\"><div style=\"vertical-align:bottom;text-align:center\">$[\\![\\mathbf{\\text{every}}]\\!]^{}_{\\left\\langle{}\\left\\langle{}e,t\\right\\rangle{},\\left\\langle{}\\left\\langle{}e,t\\right\\rangle{},t\\right\\rangle{}\\right\\rangle{}}$</div><div style=\"vertical-align:bottom;text-align:center\">$\\lambda{} f_{\\left\\langle{}e,t\\right\\rangle{}} \\: . \\: \\lambda{} g_{\\left\\langle{}e,t\\right\\rangle{}} \\: . \\: \\forall{} x_{e} \\: . \\: ({f}({x}) \\rightarrow{} {g}({x}))$</div></div></td><td style=\"vertical-align:bottom;padding:10px\">$\\circ$</td><td style=\"vertical-align:bottom;padding:5px\"><div style=\"margin-top:10px;border-style:solid;border-color:#848482;border-width:0px\"><div style=\"vertical-align:bottom;text-align:center\">$[\\![\\mathbf{\\text{doctor}}]\\!]^{}_{\\left\\langle{}e,t\\right\\rangle{}}$</div><div style=\"vertical-align:bottom;text-align:center\">$\\lambda{} x_{e} \\: . \\: {Doctor}({x})$</div></div></td></tr></table></td><td style=\"border-left:1px solid #848482;vertical-align:center;padding:10px\"><span style=\"color:blue\"><b>[FA]</b></span></td></tr><tr style=\"border-style:solid;border-color:#848482;border-width:0px 1px 1px 1px\"><td style=\"padding:5px\" align=\"center\"><div style=\"margin-top:10px;border-style:solid;border-color:#848482;border-width:0px\"><div style=\"vertical-align:bottom;text-align:center\">$[\\![\\mathbf{\\text{[every doctor]}}]\\!]^{}_{\\left\\langle{}\\left\\langle{}e,t\\right\\rangle{},t\\right\\rangle{}}$</div><div style=\"vertical-align:bottom;text-align:center\">$\\lambda{} g_{\\left\\langle{}e,t\\right\\rangle{}} \\: . \\: \\forall{} x_{e} \\: . \\: ({Doctor}({x}) \\rightarrow{} {g}({x}))$</div></div></td><td></td></tr></table></td><td style=\"vertical-align:bottom;padding:10px\">$\\circ$</td><td style=\"vertical-align:bottom;padding:5px\"><table><tr style=\"border:1px solid #848482\"><td style=\"vertical-align:bottom;padding:0px 10px\" align=\"center\"><table><tr><td style=\"vertical-align:bottom;padding:5px\"><div style=\"margin-top:10px;border-style:solid;border-color:#848482;border-width:0px\"><div style=\"vertical-align:bottom;text-align:center\">$[\\![\\mathbf{\\text{2}}]\\!]^{}$</div><div style=\"vertical-align:bottom;text-align:center\">N/A</div></div></td><td style=\"vertical-align:bottom;padding:10px\">$\\circ$</td><td style=\"vertical-align:bottom;padding:5px\"><table><tr style=\"border:1px solid #848482\"><td style=\"vertical-align:bottom;padding:0px 10px\" align=\"center\"><table><tr><td style=\"vertical-align:bottom;padding:5px\"><table><tr style=\"border:1px solid #848482\"><td style=\"vertical-align:bottom;padding:0px 10px\" align=\"center\"><table><tr><td style=\"vertical-align:bottom;padding:5px\"><div style=\"margin-top:10px;border-style:solid;border-color:#848482;border-width:0px\"><div style=\"vertical-align:bottom;text-align:center\">$[\\![\\mathbf{\\text{saw}}]\\!]^{}_{\\left\\langle{}e,\\left\\langle{}e,t\\right\\rangle{}\\right\\rangle{}}$</div><div style=\"vertical-align:bottom;text-align:center\">$\\lambda{} x_{e} \\: . \\: \\lambda{} y_{e} \\: . \\: {Saw}({y}, {x})$</div></div></td><td style=\"vertical-align:bottom;padding:10px\">$\\circ$</td><td style=\"vertical-align:bottom;padding:5px\"><div style=\"margin-top:10px;border-style:solid;border-color:#848482;border-width:0px\"><div style=\"vertical-align:bottom;text-align:center\">$[\\![\\mathbf{\\text{t}}_{2}]\\!]^{}_{e}$</div><div style=\"vertical-align:bottom;text-align:center\">${var2}_{e}$</div></div></td></tr></table></td><td style=\"border-left:1px solid #848482;vertical-align:center;padding:10px\"><span style=\"color:blue\"><b>[FA]</b></span></td></tr><tr style=\"border-style:solid;border-color:#848482;border-width:0px 1px 1px 1px\"><td style=\"padding:5px\" align=\"center\"><div style=\"margin-top:10px;border-style:solid;border-color:#848482;border-width:0px\"><div style=\"vertical-align:bottom;text-align:center\">$[\\![\\mathbf{\\text{[saw t2]}}]\\!]^{}_{\\left\\langle{}e,t\\right\\rangle{}}$</div><div style=\"vertical-align:bottom;text-align:center\">$\\lambda{} y_{e} \\: . \\: {Saw}({y}, {var2}_{e})$</div></div></td><td></td></tr></table></td><td style=\"vertical-align:bottom;padding:10px\">$\\circ$</td><td style=\"vertical-align:bottom;padding:5px\"><div style=\"margin-top:10px;border-style:solid;border-color:#848482;border-width:0px\"><div style=\"vertical-align:bottom;text-align:center\">$[\\![\\mathbf{\\text{alfonso}}]\\!]^{}_{e}$</div><div style=\"vertical-align:bottom;text-align:center\">${Alfonso}_{e}$</div></div></td></tr></table></td><td style=\"border-left:1px solid #848482;vertical-align:center;padding:10px\"><span style=\"color:blue\"><b>[FA]</b></span></td></tr><tr style=\"border-style:solid;border-color:#848482;border-width:0px 1px 1px 1px\"><td style=\"padding:5px\" align=\"center\"><div style=\"margin-top:10px;border-style:solid;border-color:#848482;border-width:0px\"><div style=\"vertical-align:bottom;text-align:center\">$[\\![\\mathbf{\\text{[[saw t2] alfonso]}}]\\!]^{}_{t}$</div><div style=\"vertical-align:bottom;text-align:center\">${Saw}({Alfonso}_{e}, {var2}_{e})$</div></div></td><td></td></tr></table></td></tr></table></td><td style=\"border-left:1px solid #848482;vertical-align:center;padding:10px\"><span style=\"color:blue\"><b>[PA]</b></span></td></tr><tr style=\"border-style:solid;border-color:#848482;border-width:0px 1px 1px 1px\"><td style=\"padding:5px\" align=\"center\"><div style=\"margin-top:10px;border-style:solid;border-color:#848482;border-width:0px\"><div style=\"vertical-align:bottom;text-align:center\">$[\\![\\mathbf{\\text{[2 [[saw t2] alfonso]]}}]\\!]^{}_{\\left\\langle{}e,t\\right\\rangle{}}$</div><div style=\"vertical-align:bottom;text-align:center\">$\\lambda{} x_{e} \\: . \\: {Saw}({Alfonso}_{e}, {x})$</div></div></td><td></td></tr></table></td></tr></table></td><td style=\"border-left:1px solid #848482;vertical-align:center;padding:10px\"><span style=\"color:blue\"><b>[FA]</b></span></td></tr><tr style=\"border-style:solid;border-color:#848482;border-width:0px 1px 1px 1px\"><td style=\"padding:5px\" align=\"center\"><div style=\"margin-top:10px;border-style:solid;border-color:#848482;border-width:0px\"><div style=\"vertical-align:bottom;text-align:center\">$[\\![\\mathbf{\\text{[[every doctor] [2 [[saw t2] alfonso]]]}}]\\!]^{}_{t}$</div><div style=\"vertical-align:bottom;text-align:center\">$\\forall{} x_{e} \\: . \\: ({Doctor}({x}) \\rightarrow{} {Saw}({Alfonso}_{e}, {x}))$</div></div></td><td></td></tr></table><br /><br />"
      ]
     },
     "execution_count": 8,
     "metadata": {},
     "output_type": "execute_result"
    }
   ],
   "source": [
    "((every * doctor) * (binder * (alfonso * (saw * trace)))).tree()"
   ]
  },
  {
   "cell_type": "code",
   "execution_count": 9,
   "metadata": {
    "collapsed": false
   },
   "outputs": [
    {
     "data": {
      "text/html": [
       "1 composition path.  Result:\n",
       "<br />&nbsp;&nbsp;&nbsp;&nbsp;[0]: $[\\![\\mathbf{\\text{[[every doctor] [2 [someone [saw t2]]]]}}]\\!]^{}_{t} \\:=\\: $$\\forall{} x_{e} \\: . \\: ({Doctor}({x}) \\rightarrow{} \\exists{} x2_{e} \\: . \\: ({Human}({x2}) \\wedge{} {Saw}({x2}, {x})))$"
      ],
      "text/plain": [
       "CompositionResult(results=[⟦[[every doctor] [2 [someone [saw t2]]]]⟧ = (Forall x_e: (Doctor_<e,t>(x_e) >> (Exists x2_e: (Human_<e,t>(x2_e) & Saw_<(e,e),t>(x2_e, x_e)))))], failures=[⟦[[2 [someone [saw t2]]] [every doctor]]⟧ = Type mismatch: '⟦[2 [someone [saw t2]]]⟧ = (λ x1_e: (Exists x_e: (Human_<e,t>(x_e) & Saw_<(e,e),t>(x_e, x1_e))))'/<e,t> and '⟦[every doctor]⟧ = (λ g_<e,t>: (Forall x_e: (Doctor_<e,t>(x_e) >> g_<e,t>(x_e))))'/<<e,t>,t> conflict (mode: Function Application), ⟦[[every doctor] [2 [someone [saw t2]]]]⟧ = Type mismatch: '⟦[every doctor]⟧ = (λ g_<e,t>: (Forall x_e: (Doctor_<e,t>(x_e) >> g_<e,t>(x_e))))'/<<e,t>,t> and '⟦[2 [someone [saw t2]]]⟧ = (λ x1_e: (Exists x_e: (Human_<e,t>(x_e) & Saw_<(e,e),t>(x_e, x1_e))))'/<e,t> conflict (mode: Predicate Modification), ⟦[[every doctor] [2 [someone [saw t2]]]]⟧ = Type mismatch: '⟦[every doctor]⟧ = (λ g_<e,t>: (Forall x_e: (Doctor_<e,t>(x_e) >> g_<e,t>(x_e))))'/<<e,t>,t> and '⟦[2 [someone [saw t2]]]⟧ = (λ x1_e: (Exists x_e: (Human_<e,t>(x_e) & Saw_<(e,e),t>(x_e, x1_e))))'/<e,t> conflict (mode: Predicate Abstraction), ⟦[[2 [someone [saw t2]]] [every doctor]]⟧ = Type mismatch: '⟦[2 [someone [saw t2]]]⟧ = (λ x1_e: (Exists x_e: (Human_<e,t>(x_e) & Saw_<(e,e),t>(x_e, x1_e))))'/<e,t> and '⟦[every doctor]⟧ = (λ g_<e,t>: (Forall x_e: (Doctor_<e,t>(x_e) >> g_<e,t>(x_e))))'/<<e,t>,t> conflict (mode: Predicate Abstraction)])"
      ]
     },
     "execution_count": 9,
     "metadata": {},
     "output_type": "execute_result"
    }
   ],
   "source": [
    "(every * doctor) * (binder * (someone * (saw * trace)))"
   ]
  },
  {
   "cell_type": "markdown",
   "metadata": {},
   "source": [
    "To get surface scope, you need to also move the subject (after moving the object).  This results in a second trace / binding operator."
   ]
  },
  {
   "cell_type": "code",
   "execution_count": 10,
   "metadata": {
    "collapsed": false
   },
   "outputs": [
    {
     "data": {
      "text/html": [
       "1 composition path.  Result:\n",
       "<br />&nbsp;&nbsp;&nbsp;&nbsp;[0]: $[\\![\\mathbf{\\text{[someone [5 [[every doctor] [2 [[saw t2] t5]]]]]}}]\\!]^{}_{t} \\:=\\: $$\\exists{} x_{e} \\: . \\: ({Human}({x}) \\wedge{} \\forall{} x2_{e} \\: . \\: ({Doctor}({x2}) \\rightarrow{} {Saw}({x}, {x2})))$"
      ],
      "text/plain": [
       "CompositionResult(results=[⟦[someone [5 [[every doctor] [2 [[saw t2] t5]]]]]⟧ = (Exists x_e: (Human_<e,t>(x_e) & (Forall x2_e: (Doctor_<e,t>(x2_e) >> Saw_<(e,e),t>(x_e, x2_e)))))], failures=[⟦[[5 [[every doctor] [2 [[saw t2] t5]]]] someone]⟧ = Type mismatch: '⟦[5 [[every doctor] [2 [[saw t2] t5]]]]⟧ = (λ x1_e: (Forall x_e: (Doctor_<e,t>(x_e) >> Saw_<(e,e),t>(x1_e, x_e))))'/<e,t> and '⟦someone⟧ = (λ f_<e,t>: (Exists x_e: (Human_<e,t>(x_e) & f_<e,t>(x_e))))'/<<e,t>,t> conflict (mode: Function Application), ⟦[someone [5 [[every doctor] [2 [[saw t2] t5]]]]]⟧ = Type mismatch: '⟦someone⟧ = (λ f_<e,t>: (Exists x_e: (Human_<e,t>(x_e) & f_<e,t>(x_e))))'/<<e,t>,t> and '⟦[5 [[every doctor] [2 [[saw t2] t5]]]]⟧ = (λ x1_e: (Forall x_e: (Doctor_<e,t>(x_e) >> Saw_<(e,e),t>(x1_e, x_e))))'/<e,t> conflict (mode: Predicate Modification), ⟦[someone [5 [[every doctor] [2 [[saw t2] t5]]]]]⟧ = Type mismatch: '⟦someone⟧ = (λ f_<e,t>: (Exists x_e: (Human_<e,t>(x_e) & f_<e,t>(x_e))))'/<<e,t>,t> and '⟦[5 [[every doctor] [2 [[saw t2] t5]]]]⟧ = (λ x1_e: (Forall x_e: (Doctor_<e,t>(x_e) >> Saw_<(e,e),t>(x1_e, x_e))))'/<e,t> conflict (mode: Predicate Abstraction), ⟦[[5 [[every doctor] [2 [[saw t2] t5]]]] someone]⟧ = Type mismatch: '⟦[5 [[every doctor] [2 [[saw t2] t5]]]]⟧ = (λ x1_e: (Forall x_e: (Doctor_<e,t>(x_e) >> Saw_<(e,e),t>(x1_e, x_e))))'/<e,t> and '⟦someone⟧ = (λ f_<e,t>: (Exists x_e: (Human_<e,t>(x_e) & f_<e,t>(x_e))))'/<<e,t>,t> conflict (mode: Predicate Abstraction)])"
      ]
     },
     "execution_count": 10,
     "metadata": {},
     "output_type": "execute_result"
    }
   ],
   "source": [
    "trace5 = lang.Trace(index=5, typ=tp(\"e\"))\n",
    "binder5 = lang.Binder(index=5)\n",
    "(someone * (binder5 * ((every * doctor) * (binder * (trace5 * (saw * trace))))))"
   ]
  },
  {
   "cell_type": "markdown",
   "metadata": {},
   "source": [
    "### Quantifiers in object position via type shifting\n",
    "\n",
    "An alternative approach is to type-shift the DP to a type where it can take a transitive predicate and ignore the external argument position.\n",
    "\n",
    "This would need to be generalized for n-ary predicates."
   ]
  },
  {
   "cell_type": "code",
   "execution_count": 11,
   "metadata": {
    "collapsed": false
   },
   "outputs": [
    {
     "name": "stdout",
     "output_type": "stream",
     "text": [
      "INFO (meta): Coerced guessed type for 'Doctor_t' into <e,t>, to match argument 'x_e'\n",
      "INFO (meta): Coerced guessed type for 'Human_t' into <e,t>, to match argument 'x_e'\n",
      "INFO (meta): Coerced guessed type for 'Saw_t' into <(e,e),t>, to match argument '(y_e, x_e)'\n"
     ]
    },
    {
     "data": {
      "text/html": [
       "$[\\![\\mathbf{\\text{every}}]\\!]^{}_{\\left\\langle{}\\left\\langle{}e,t\\right\\rangle{},\\left\\langle{}\\left\\langle{}e,t\\right\\rangle{},t\\right\\rangle{}\\right\\rangle{}} \\:=\\: $$\\lambda{} f_{\\left\\langle{}e,t\\right\\rangle{}} \\: . \\: \\lambda{} g_{\\left\\langle{}e,t\\right\\rangle{}} \\: . \\: \\forall{} x_{e} \\: . \\: ({f}({x}) \\rightarrow{} {g}({x}))$<br />\n",
       "$[\\![\\mathbf{\\text{doctor}}]\\!]^{}_{\\left\\langle{}e,t\\right\\rangle{}} \\:=\\: $$\\lambda{} x_{e} \\: . \\: {Doctor}({x})$<br />\n",
       "$[\\![\\mathbf{\\text{someone}}]\\!]^{}_{\\left\\langle{}\\left\\langle{}e,t\\right\\rangle{},t\\right\\rangle{}} \\:=\\: $$\\lambda{} f_{\\left\\langle{}e,t\\right\\rangle{}} \\: . \\: \\exists{} x_{e} \\: . \\: ({Human}({x}) \\wedge{} {f}({x}))$<br />\n",
       "$[\\![\\mathbf{\\text{saw}}]\\!]^{}_{\\left\\langle{}e,\\left\\langle{}e,t\\right\\rangle{}\\right\\rangle{}} \\:=\\: $$\\lambda{} x_{e} \\: . \\: \\lambda{} y_{e} \\: . \\: {Saw}({y}, {x})$<br />\n",
       "$[\\![\\mathbf{\\text{alfonso}}]\\!]^{}_{e} \\:=\\: $${Alfonso}_{e}$"
      ],
      "text/latex": [
       "$[\\![\\mathbf{\\text{every}}]\\!]^{}_{\\left\\langle{}\\left\\langle{}e,t\\right\\rangle{},\\left\\langle{}\\left\\langle{}e,t\\right\\rangle{},t\\right\\rangle{}\\right\\rangle{}} \\:=\\: $$\\lambda{} f_{\\left\\langle{}e,t\\right\\rangle{}} \\: . \\: \\lambda{} g_{\\left\\langle{}e,t\\right\\rangle{}} \\: . \\: \\forall{} x_{e} \\: . \\: ({f}({x}) \\rightarrow{} {g}({x}))$<br />\n",
       "$[\\![\\mathbf{\\text{doctor}}]\\!]^{}_{\\left\\langle{}e,t\\right\\rangle{}} \\:=\\: $$\\lambda{} x_{e} \\: . \\: {Doctor}({x})$<br />\n",
       "$[\\![\\mathbf{\\text{someone}}]\\!]^{}_{\\left\\langle{}\\left\\langle{}e,t\\right\\rangle{},t\\right\\rangle{}} \\:=\\: $$\\lambda{} f_{\\left\\langle{}e,t\\right\\rangle{}} \\: . \\: \\exists{} x_{e} \\: . \\: ({Human}({x}) \\wedge{} {f}({x}))$<br />\n",
       "$[\\![\\mathbf{\\text{saw}}]\\!]^{}_{\\left\\langle{}e,\\left\\langle{}e,t\\right\\rangle{}\\right\\rangle{}} \\:=\\: $$\\lambda{} x_{e} \\: . \\: \\lambda{} y_{e} \\: . \\: {Saw}({y}, {x})$<br />\n",
       "$[\\![\\mathbf{\\text{alfonso}}]\\!]^{}_{e} \\:=\\: $${Alfonso}_{e}$"
      ],
      "text/plain": [
       "$[\\![\\mathbf{\\text{every}}]\\!]^{}_{\\left\\langle{}\\left\\langle{}e,t\\right\\rangle{},\\left\\langle{}\\left\\langle{}e,t\\right\\rangle{},t\\right\\rangle{}\\right\\rangle{}} \\:=\\: $$\\lambda{} f_{\\left\\langle{}e,t\\right\\rangle{}} \\: . \\: \\lambda{} g_{\\left\\langle{}e,t\\right\\rangle{}} \\: . \\: \\forall{} x_{e} \\: . \\: ({f}({x}) \\rightarrow{} {g}({x}))$<br />\n",
       "$[\\![\\mathbf{\\text{doctor}}]\\!]^{}_{\\left\\langle{}e,t\\right\\rangle{}} \\:=\\: $$\\lambda{} x_{e} \\: . \\: {Doctor}({x})$<br />\n",
       "$[\\![\\mathbf{\\text{someone}}]\\!]^{}_{\\left\\langle{}\\left\\langle{}e,t\\right\\rangle{},t\\right\\rangle{}} \\:=\\: $$\\lambda{} f_{\\left\\langle{}e,t\\right\\rangle{}} \\: . \\: \\exists{} x_{e} \\: . \\: ({Human}({x}) \\wedge{} {f}({x}))$<br />\n",
       "$[\\![\\mathbf{\\text{saw}}]\\!]^{}_{\\left\\langle{}e,\\left\\langle{}e,t\\right\\rangle{}\\right\\rangle{}} \\:=\\: $$\\lambda{} x_{e} \\: . \\: \\lambda{} y_{e} \\: . \\: {Saw}({y}, {x})$<br />\n",
       "$[\\![\\mathbf{\\text{alfonso}}]\\!]^{}_{e} \\:=\\: $${Alfonso}_{e}$"
      ]
     },
     "execution_count": 11,
     "metadata": {},
     "output_type": "execute_result"
    }
   ],
   "source": [
    "%%lamb\n",
    "||every|| = L f_<e,t> : L g_<e,t> : Forall x_e : f(x) >> g(x)\n",
    "||doctor|| = L x_e : Doctor(x)\n",
    "||someone|| = L f_<e,t> : Exists x_e : Human(x) & f(x)\n",
    "||saw|| = L x_e : L y_e : Saw(y,x)\n",
    "||alfonso|| = Alfonso_e"
   ]
  },
  {
   "cell_type": "markdown",
   "metadata": {},
   "source": [
    "The following combinator shifts a GQ type into something that can handle a transitive verb."
   ]
  },
  {
   "cell_type": "code",
   "execution_count": 12,
   "metadata": {
    "collapsed": false
   },
   "outputs": [
    {
     "data": {
      "text/latex": [
       "$\\lambda{} f_{\\left\\langle{}\\left\\langle{}e,t\\right\\rangle{},t\\right\\rangle{}} \\: . \\: \\lambda{} g_{\\left\\langle{}e,\\left\\langle{}e,t\\right\\rangle{}\\right\\rangle{}} \\: . \\: \\lambda{} x_{e} \\: . \\: {f}(\\lambda{} y_{e} \\: . \\: {g}({y})({x}))$"
      ],
      "text/plain": [
       "(λ f_<<e,t>,t>: (λ g_<e,<e,t>>: (λ x_e: f_<<e,t>,t>((λ y_e: g_<e,<e,t>>(y_e)(x_e))))))"
      ]
     },
     "execution_count": 12,
     "metadata": {},
     "output_type": "execute_result"
    }
   ],
   "source": [
    "gq_lift_combinator = %te L f_<<e,t>,t> : L g_<e,<e,t>> : L x_e : f(L y_e : g(y)(x))\n",
    "gq_lift_combinator"
   ]
  },
  {
   "cell_type": "code",
   "execution_count": 13,
   "metadata": {
    "collapsed": false
   },
   "outputs": [
    {
     "data": {
      "text/latex": [
       "$\\left\\langle{}\\left\\langle{}\\left\\langle{}e,t\\right\\rangle{},t\\right\\rangle{},\\left\\langle{}\\left\\langle{}e,\\left\\langle{}e,t\\right\\rangle{}\\right\\rangle{},\\left\\langle{}e,t\\right\\rangle{}\\right\\rangle{}\\right\\rangle{}$"
      ],
      "text/plain": [
       "<<<e,t>,t>,<<e,<e,t>>,<e,t>>>"
      ]
     },
     "execution_count": 13,
     "metadata": {},
     "output_type": "execute_result"
    }
   ],
   "source": [
    "gq_lift_combinator.type"
   ]
  },
  {
   "cell_type": "code",
   "execution_count": 14,
   "metadata": {
    "collapsed": false
   },
   "outputs": [
    {
     "data": {
      "text/latex": [
       "$\\lambda{} g_{\\left\\langle{}e,\\left\\langle{}e,t\\right\\rangle{}\\right\\rangle{}} \\: . \\: \\lambda{} x_{e} \\: . \\: \\exists{} x1_{e} \\: . \\: ({Human}({x1}) \\wedge{} {g}({x1})({x}))$"
      ],
      "text/plain": [
       "(λ g_<e,<e,t>>: (λ x_e: (Exists x1_e: (Human_<e,t>(x1_e) & g_<e,<e,t>>(x1_e)(x_e)))))"
      ]
     },
     "execution_count": 14,
     "metadata": {},
     "output_type": "execute_result"
    }
   ],
   "source": [
    "gq_lift_combinator(someone.content).reduce_all()"
   ]
  },
  {
   "cell_type": "code",
   "execution_count": 15,
   "metadata": {
    "collapsed": false
   },
   "outputs": [
    {
     "data": {
      "text/html": [
       "Composition system 'H&K simple (copy)'<br />Operations: {<br />&nbsp;&nbsp;&nbsp;&nbsp;Binary composition rule <i>FA</i>, built on python function 'lamb.lang.fa_fun'<br />&nbsp;&nbsp;&nbsp;&nbsp;Binary composition rule <i>PM</i>, built on python function 'lamb.lang.pm_fun'<br />&nbsp;&nbsp;&nbsp;&nbsp;Binary composition rule <i>PA</i>, built on python function 'lamb.lang.pa_fun'<br />&nbsp;&nbsp;&nbsp;&nbsp;Typeshift <i>gq-lift-trans</i>, built on combinator '$\\lambda{} f_{\\left\\langle{}\\left\\langle{}e,t\\right\\rangle{},t\\right\\rangle{}} \\: . \\: \\lambda{} g_{\\left\\langle{}e,\\left\\langle{}e,t\\right\\rangle{}\\right\\rangle{}} \\: . \\: \\lambda{} x_{e} \\: . \\: {f}(\\lambda{} y_{e} \\: . \\: {g}({y})({x}))$'<br />}"
      ],
      "text/plain": [
       "Composition system: H&K simple (copy)"
      ]
     },
     "execution_count": 15,
     "metadata": {},
     "output_type": "execute_result"
    }
   ],
   "source": [
    "system = lang.td_system.copy()\n",
    "system.add_rule(lang.unary_factory(gq_lift_combinator, \"gq-lift-trans\", typeshift=True))\n",
    "system.typeshift = True\n",
    "lang.set_system(system)\n",
    "system"
   ]
  },
  {
   "cell_type": "code",
   "execution_count": 16,
   "metadata": {
    "collapsed": false
   },
   "outputs": [
    {
     "data": {
      "text/html": [
       "1 composition path.  Result:\n",
       "<br />&nbsp;&nbsp;&nbsp;&nbsp;[0]: $[\\![\\mathbf{\\text{[[[someone] saw] alfonso]}}]\\!]^{}_{t} \\:=\\: $$\\exists{} x1_{e} \\: . \\: ({Human}({x1}) \\wedge{} {Saw}({Alfonso}_{e}, {x1}))$"
      ],
      "text/plain": [
       "CompositionResult(results=[⟦[[[someone] saw] alfonso]⟧ = (Exists x1_e: (Human_<e,t>(x1_e) & Saw_<(e,e),t>(Alfonso_e, x1_e)))], failures=[⟦[alfonso [[someone] saw]]⟧ = Type mismatch: '⟦alfonso⟧ = Alfonso_e'/e and '⟦[[someone] saw]⟧ = (λ x_e: (Exists x1_e: (Human_<e,t>(x1_e) & Saw_<(e,e),t>(x_e, x1_e))))'/<e,t> conflict (mode: Function Application), ⟦[alfonso [[someone] saw]]⟧ = Type mismatch: '⟦alfonso⟧ = Alfonso_e'/e and '⟦[[someone] saw]⟧ = (λ x_e: (Exists x1_e: (Human_<e,t>(x1_e) & Saw_<(e,e),t>(x_e, x1_e))))'/<e,t> conflict (mode: Predicate Modification), ⟦[alfonso [[someone] saw]]⟧ = Type mismatch: '⟦alfonso⟧ = Alfonso_e'/e and '⟦[[someone] saw]⟧ = (λ x_e: (Exists x1_e: (Human_<e,t>(x1_e) & Saw_<(e,e),t>(x_e, x1_e))))'/<e,t> conflict (mode: Predicate Abstraction), ⟦[[[someone] saw] alfonso]⟧ = Type mismatch: '⟦[[someone] saw]⟧ = (λ x_e: (Exists x1_e: (Human_<e,t>(x1_e) & Saw_<(e,e),t>(x_e, x1_e))))'/<e,t> and '⟦alfonso⟧ = Alfonso_e'/e conflict (mode: Predicate Abstraction)])"
      ]
     },
     "execution_count": 16,
     "metadata": {},
     "output_type": "execute_result"
    }
   ],
   "source": [
    "(alfonso * (saw * someone))"
   ]
  },
  {
   "cell_type": "code",
   "execution_count": 17,
   "metadata": {
    "collapsed": false
   },
   "outputs": [
    {
     "data": {
      "text/html": [
       "1 composition path:<br /><style>.rendered_html table, .rendered_html tr, .rendered_html td, .rendered_html th { border: 0px; text-align:center; }</style><table><tr style=\"border:1px solid #848482\"><td style=\"vertical-align:bottom;padding:0px 10px\" align=\"center\"><table><tr><td style=\"vertical-align:bottom;padding:5px\"><table><tr style=\"border:1px solid #848482\"><td style=\"vertical-align:bottom;padding:0px 10px\" align=\"center\"><table><tr><td style=\"vertical-align:bottom;padding:5px\"><table><tr style=\"border:1px solid #848482\"><td style=\"vertical-align:bottom;padding:0px 10px\" align=\"center\"><table><tr><td style=\"vertical-align:bottom;padding:5px\"><div style=\"margin-top:10px;border-style:solid;border-color:#848482;border-width:0px\"><div style=\"vertical-align:bottom;text-align:center\">$[\\![\\mathbf{\\text{someone}}]\\!]^{}_{\\left\\langle{}\\left\\langle{}e,t\\right\\rangle{},t\\right\\rangle{}}$</div><div style=\"vertical-align:bottom;text-align:center\">$\\lambda{} f_{\\left\\langle{}e,t\\right\\rangle{}} \\: . \\: \\exists{} x_{e} \\: . \\: ({Human}({x}) \\wedge{} {f}({x}))$</div></div></td></tr></table></td><td style=\"border-left:1px solid #848482;vertical-align:center;padding:10px\"><span style=\"color:blue\"><b>[gq-lift-trans]</b></span></td></tr><tr style=\"border-style:solid;border-color:#848482;border-width:0px 1px 1px 1px\"><td style=\"padding:5px\" align=\"center\"><div style=\"margin-top:10px;border-style:solid;border-color:#848482;border-width:0px\"><div style=\"vertical-align:bottom;text-align:center\">$[\\![\\mathbf{\\text{[someone]}}]\\!]^{}_{\\left\\langle{}\\left\\langle{}e,\\left\\langle{}e,t\\right\\rangle{}\\right\\rangle{},\\left\\langle{}e,t\\right\\rangle{}\\right\\rangle{}}$</div><div style=\"vertical-align:bottom;text-align:center\">$\\lambda{} g_{\\left\\langle{}e,\\left\\langle{}e,t\\right\\rangle{}\\right\\rangle{}} \\: . \\: \\lambda{} x_{e} \\: . \\: \\exists{} x1_{e} \\: . \\: ({Human}({x1}) \\wedge{} {g}({x1})({x}))$</div></div></td><td></td></tr></table></td><td style=\"vertical-align:bottom;padding:10px\">$\\circ$</td><td style=\"vertical-align:bottom;padding:5px\"><div style=\"margin-top:10px;border-style:solid;border-color:#848482;border-width:0px\"><div style=\"vertical-align:bottom;text-align:center\">$[\\![\\mathbf{\\text{saw}}]\\!]^{}_{\\left\\langle{}e,\\left\\langle{}e,t\\right\\rangle{}\\right\\rangle{}}$</div><div style=\"vertical-align:bottom;text-align:center\">$\\lambda{} x_{e} \\: . \\: \\lambda{} y_{e} \\: . \\: {Saw}({y}, {x})$</div></div></td></tr></table></td><td style=\"border-left:1px solid #848482;vertical-align:center;padding:10px\"><span style=\"color:blue\"><b>[FA]</b></span></td></tr><tr style=\"border-style:solid;border-color:#848482;border-width:0px 1px 1px 1px\"><td style=\"padding:5px\" align=\"center\"><div style=\"margin-top:10px;border-style:solid;border-color:#848482;border-width:0px\"><div style=\"vertical-align:bottom;text-align:center\">$[\\![\\mathbf{\\text{[[someone] saw]}}]\\!]^{}_{\\left\\langle{}e,t\\right\\rangle{}}$</div><div style=\"vertical-align:bottom;text-align:center\">$\\lambda{} x_{e} \\: . \\: \\exists{} x1_{e} \\: . \\: ({Human}({x1}) \\wedge{} {Saw}({x}, {x1}))$</div></div></td><td></td></tr></table></td><td style=\"vertical-align:bottom;padding:10px\">$\\circ$</td><td style=\"vertical-align:bottom;padding:5px\"><div style=\"margin-top:10px;border-style:solid;border-color:#848482;border-width:0px\"><div style=\"vertical-align:bottom;text-align:center\">$[\\![\\mathbf{\\text{alfonso}}]\\!]^{}_{e}$</div><div style=\"vertical-align:bottom;text-align:center\">${Alfonso}_{e}$</div></div></td></tr></table></td><td style=\"border-left:1px solid #848482;vertical-align:center;padding:10px\"><span style=\"color:blue\"><b>[FA]</b></span></td></tr><tr style=\"border-style:solid;border-color:#848482;border-width:0px 1px 1px 1px\"><td style=\"padding:5px\" align=\"center\"><div style=\"margin-top:10px;border-style:solid;border-color:#848482;border-width:0px\"><div style=\"vertical-align:bottom;text-align:center\">$[\\![\\mathbf{\\text{[[[someone] saw] alfonso]}}]\\!]^{}_{t}$</div><div style=\"vertical-align:bottom;text-align:center\">$\\exists{} x1_{e} \\: . \\: ({Human}({x1}) \\wedge{} {Saw}({Alfonso}_{e}, {x1}))$</div></div></td><td></td></tr></table><br /><br />"
      ],
      "text/latex": [
       "1 composition path:<br /><style>.rendered_html table, .rendered_html tr, .rendered_html td, .rendered_html th { border: 0px; text-align:center; }</style><table><tr style=\"border:1px solid #848482\"><td style=\"vertical-align:bottom;padding:0px 10px\" align=\"center\"><table><tr><td style=\"vertical-align:bottom;padding:5px\"><table><tr style=\"border:1px solid #848482\"><td style=\"vertical-align:bottom;padding:0px 10px\" align=\"center\"><table><tr><td style=\"vertical-align:bottom;padding:5px\"><table><tr style=\"border:1px solid #848482\"><td style=\"vertical-align:bottom;padding:0px 10px\" align=\"center\"><table><tr><td style=\"vertical-align:bottom;padding:5px\"><div style=\"margin-top:10px;border-style:solid;border-color:#848482;border-width:0px\"><div style=\"vertical-align:bottom;text-align:center\">$[\\![\\mathbf{\\text{someone}}]\\!]^{}_{\\left\\langle{}\\left\\langle{}e,t\\right\\rangle{},t\\right\\rangle{}}$</div><div style=\"vertical-align:bottom;text-align:center\">$\\lambda{} f_{\\left\\langle{}e,t\\right\\rangle{}} \\: . \\: \\exists{} x_{e} \\: . \\: ({Human}({x}) \\wedge{} {f}({x}))$</div></div></td></tr></table></td><td style=\"border-left:1px solid #848482;vertical-align:center;padding:10px\"><span style=\"color:blue\"><b>[gq-lift-trans]</b></span></td></tr><tr style=\"border-style:solid;border-color:#848482;border-width:0px 1px 1px 1px\"><td style=\"padding:5px\" align=\"center\"><div style=\"margin-top:10px;border-style:solid;border-color:#848482;border-width:0px\"><div style=\"vertical-align:bottom;text-align:center\">$[\\![\\mathbf{\\text{[someone]}}]\\!]^{}_{\\left\\langle{}\\left\\langle{}e,\\left\\langle{}e,t\\right\\rangle{}\\right\\rangle{},\\left\\langle{}e,t\\right\\rangle{}\\right\\rangle{}}$</div><div style=\"vertical-align:bottom;text-align:center\">$\\lambda{} g_{\\left\\langle{}e,\\left\\langle{}e,t\\right\\rangle{}\\right\\rangle{}} \\: . \\: \\lambda{} x_{e} \\: . \\: \\exists{} x1_{e} \\: . \\: ({Human}({x1}) \\wedge{} {g}({x1})({x}))$</div></div></td><td></td></tr></table></td><td style=\"vertical-align:bottom;padding:10px\">$\\circ$</td><td style=\"vertical-align:bottom;padding:5px\"><div style=\"margin-top:10px;border-style:solid;border-color:#848482;border-width:0px\"><div style=\"vertical-align:bottom;text-align:center\">$[\\![\\mathbf{\\text{saw}}]\\!]^{}_{\\left\\langle{}e,\\left\\langle{}e,t\\right\\rangle{}\\right\\rangle{}}$</div><div style=\"vertical-align:bottom;text-align:center\">$\\lambda{} x_{e} \\: . \\: \\lambda{} y_{e} \\: . \\: {Saw}({y}, {x})$</div></div></td></tr></table></td><td style=\"border-left:1px solid #848482;vertical-align:center;padding:10px\"><span style=\"color:blue\"><b>[FA]</b></span></td></tr><tr style=\"border-style:solid;border-color:#848482;border-width:0px 1px 1px 1px\"><td style=\"padding:5px\" align=\"center\"><div style=\"margin-top:10px;border-style:solid;border-color:#848482;border-width:0px\"><div style=\"vertical-align:bottom;text-align:center\">$[\\![\\mathbf{\\text{[[someone] saw]}}]\\!]^{}_{\\left\\langle{}e,t\\right\\rangle{}}$</div><div style=\"vertical-align:bottom;text-align:center\">$\\lambda{} x_{e} \\: . \\: \\exists{} x1_{e} \\: . \\: ({Human}({x1}) \\wedge{} {Saw}({x}, {x1}))$</div></div></td><td></td></tr></table></td><td style=\"vertical-align:bottom;padding:10px\">$\\circ$</td><td style=\"vertical-align:bottom;padding:5px\"><div style=\"margin-top:10px;border-style:solid;border-color:#848482;border-width:0px\"><div style=\"vertical-align:bottom;text-align:center\">$[\\![\\mathbf{\\text{alfonso}}]\\!]^{}_{e}$</div><div style=\"vertical-align:bottom;text-align:center\">${Alfonso}_{e}$</div></div></td></tr></table></td><td style=\"border-left:1px solid #848482;vertical-align:center;padding:10px\"><span style=\"color:blue\"><b>[FA]</b></span></td></tr><tr style=\"border-style:solid;border-color:#848482;border-width:0px 1px 1px 1px\"><td style=\"padding:5px\" align=\"center\"><div style=\"margin-top:10px;border-style:solid;border-color:#848482;border-width:0px\"><div style=\"vertical-align:bottom;text-align:center\">$[\\![\\mathbf{\\text{[[[someone] saw] alfonso]}}]\\!]^{}_{t}$</div><div style=\"vertical-align:bottom;text-align:center\">$\\exists{} x1_{e} \\: . \\: ({Human}({x1}) \\wedge{} {Saw}({Alfonso}_{e}, {x1}))$</div></div></td><td></td></tr></table><br /><br />"
      ],
      "text/plain": [
       "1 composition path:<br /><style>.rendered_html table, .rendered_html tr, .rendered_html td, .rendered_html th { border: 0px; text-align:center; }</style><table><tr style=\"border:1px solid #848482\"><td style=\"vertical-align:bottom;padding:0px 10px\" align=\"center\"><table><tr><td style=\"vertical-align:bottom;padding:5px\"><table><tr style=\"border:1px solid #848482\"><td style=\"vertical-align:bottom;padding:0px 10px\" align=\"center\"><table><tr><td style=\"vertical-align:bottom;padding:5px\"><table><tr style=\"border:1px solid #848482\"><td style=\"vertical-align:bottom;padding:0px 10px\" align=\"center\"><table><tr><td style=\"vertical-align:bottom;padding:5px\"><div style=\"margin-top:10px;border-style:solid;border-color:#848482;border-width:0px\"><div style=\"vertical-align:bottom;text-align:center\">$[\\![\\mathbf{\\text{someone}}]\\!]^{}_{\\left\\langle{}\\left\\langle{}e,t\\right\\rangle{},t\\right\\rangle{}}$</div><div style=\"vertical-align:bottom;text-align:center\">$\\lambda{} f_{\\left\\langle{}e,t\\right\\rangle{}} \\: . \\: \\exists{} x_{e} \\: . \\: ({Human}({x}) \\wedge{} {f}({x}))$</div></div></td></tr></table></td><td style=\"border-left:1px solid #848482;vertical-align:center;padding:10px\"><span style=\"color:blue\"><b>[gq-lift-trans]</b></span></td></tr><tr style=\"border-style:solid;border-color:#848482;border-width:0px 1px 1px 1px\"><td style=\"padding:5px\" align=\"center\"><div style=\"margin-top:10px;border-style:solid;border-color:#848482;border-width:0px\"><div style=\"vertical-align:bottom;text-align:center\">$[\\![\\mathbf{\\text{[someone]}}]\\!]^{}_{\\left\\langle{}\\left\\langle{}e,\\left\\langle{}e,t\\right\\rangle{}\\right\\rangle{},\\left\\langle{}e,t\\right\\rangle{}\\right\\rangle{}}$</div><div style=\"vertical-align:bottom;text-align:center\">$\\lambda{} g_{\\left\\langle{}e,\\left\\langle{}e,t\\right\\rangle{}\\right\\rangle{}} \\: . \\: \\lambda{} x_{e} \\: . \\: \\exists{} x1_{e} \\: . \\: ({Human}({x1}) \\wedge{} {g}({x1})({x}))$</div></div></td><td></td></tr></table></td><td style=\"vertical-align:bottom;padding:10px\">$\\circ$</td><td style=\"vertical-align:bottom;padding:5px\"><div style=\"margin-top:10px;border-style:solid;border-color:#848482;border-width:0px\"><div style=\"vertical-align:bottom;text-align:center\">$[\\![\\mathbf{\\text{saw}}]\\!]^{}_{\\left\\langle{}e,\\left\\langle{}e,t\\right\\rangle{}\\right\\rangle{}}$</div><div style=\"vertical-align:bottom;text-align:center\">$\\lambda{} x_{e} \\: . \\: \\lambda{} y_{e} \\: . \\: {Saw}({y}, {x})$</div></div></td></tr></table></td><td style=\"border-left:1px solid #848482;vertical-align:center;padding:10px\"><span style=\"color:blue\"><b>[FA]</b></span></td></tr><tr style=\"border-style:solid;border-color:#848482;border-width:0px 1px 1px 1px\"><td style=\"padding:5px\" align=\"center\"><div style=\"margin-top:10px;border-style:solid;border-color:#848482;border-width:0px\"><div style=\"vertical-align:bottom;text-align:center\">$[\\![\\mathbf{\\text{[[someone] saw]}}]\\!]^{}_{\\left\\langle{}e,t\\right\\rangle{}}$</div><div style=\"vertical-align:bottom;text-align:center\">$\\lambda{} x_{e} \\: . \\: \\exists{} x1_{e} \\: . \\: ({Human}({x1}) \\wedge{} {Saw}({x}, {x1}))$</div></div></td><td></td></tr></table></td><td style=\"vertical-align:bottom;padding:10px\">$\\circ$</td><td style=\"vertical-align:bottom;padding:5px\"><div style=\"margin-top:10px;border-style:solid;border-color:#848482;border-width:0px\"><div style=\"vertical-align:bottom;text-align:center\">$[\\![\\mathbf{\\text{alfonso}}]\\!]^{}_{e}$</div><div style=\"vertical-align:bottom;text-align:center\">${Alfonso}_{e}$</div></div></td></tr></table></td><td style=\"border-left:1px solid #848482;vertical-align:center;padding:10px\"><span style=\"color:blue\"><b>[FA]</b></span></td></tr><tr style=\"border-style:solid;border-color:#848482;border-width:0px 1px 1px 1px\"><td style=\"padding:5px\" align=\"center\"><div style=\"margin-top:10px;border-style:solid;border-color:#848482;border-width:0px\"><div style=\"vertical-align:bottom;text-align:center\">$[\\![\\mathbf{\\text{[[[someone] saw] alfonso]}}]\\!]^{}_{t}$</div><div style=\"vertical-align:bottom;text-align:center\">$\\exists{} x1_{e} \\: . \\: ({Human}({x1}) \\wedge{} {Saw}({Alfonso}_{e}, {x1}))$</div></div></td><td></td></tr></table><br /><br />"
      ]
     },
     "execution_count": 17,
     "metadata": {},
     "output_type": "execute_result"
    }
   ],
   "source": [
    "(alfonso * (saw * someone)).tree()"
   ]
  },
  {
   "cell_type": "code",
   "execution_count": 18,
   "metadata": {
    "collapsed": false
   },
   "outputs": [
    {
     "data": {
      "text/html": [
       "1 composition path.  Result:\n",
       "<br />&nbsp;&nbsp;&nbsp;&nbsp;[0]: $[\\![\\mathbf{\\text{[someone [[[every doctor]] saw]]}}]\\!]^{}_{t} \\:=\\: $$\\exists{} x_{e} \\: . \\: ({Human}({x}) \\wedge{} \\forall{} x1_{e} \\: . \\: ({Doctor}({x1}) \\rightarrow{} {Saw}({x}, {x1})))$"
      ],
      "text/plain": [
       "CompositionResult(results=[⟦[someone [[[every doctor]] saw]]⟧ = (Exists x_e: (Human_<e,t>(x_e) & (Forall x1_e: (Doctor_<e,t>(x1_e) >> Saw_<(e,e),t>(x_e, x1_e)))))], failures=[⟦[[[[every doctor]] saw] someone]⟧ = Type mismatch: '⟦[[[every doctor]] saw]⟧ = (λ x_e: (Forall x1_e: (Doctor_<e,t>(x1_e) >> Saw_<(e,e),t>(x_e, x1_e))))'/<e,t> and '⟦someone⟧ = (λ f_<e,t>: (Exists x_e: (Human_<e,t>(x_e) & f_<e,t>(x_e))))'/<<e,t>,t> conflict (mode: Function Application), ⟦[someone [[[every doctor]] saw]]⟧ = Type mismatch: '⟦someone⟧ = (λ f_<e,t>: (Exists x_e: (Human_<e,t>(x_e) & f_<e,t>(x_e))))'/<<e,t>,t> and '⟦[[[every doctor]] saw]⟧ = (λ x_e: (Forall x1_e: (Doctor_<e,t>(x1_e) >> Saw_<(e,e),t>(x_e, x1_e))))'/<e,t> conflict (mode: Predicate Modification), ⟦[someone [[[every doctor]] saw]]⟧ = Type mismatch: '⟦someone⟧ = (λ f_<e,t>: (Exists x_e: (Human_<e,t>(x_e) & f_<e,t>(x_e))))'/<<e,t>,t> and '⟦[[[every doctor]] saw]⟧ = (λ x_e: (Forall x1_e: (Doctor_<e,t>(x1_e) >> Saw_<(e,e),t>(x_e, x1_e))))'/<e,t> conflict (mode: Predicate Abstraction), ⟦[[[[every doctor]] saw] someone]⟧ = Type mismatch: '⟦[[[every doctor]] saw]⟧ = (λ x_e: (Forall x1_e: (Doctor_<e,t>(x1_e) >> Saw_<(e,e),t>(x_e, x1_e))))'/<e,t> and '⟦someone⟧ = (λ f_<e,t>: (Exists x_e: (Human_<e,t>(x_e) & f_<e,t>(x_e))))'/<<e,t>,t> conflict (mode: Predicate Abstraction)])"
      ]
     },
     "execution_count": 18,
     "metadata": {},
     "output_type": "execute_result"
    }
   ],
   "source": [
    "(someone * (saw * (every * doctor)))"
   ]
  },
  {
   "cell_type": "code",
   "execution_count": 19,
   "metadata": {
    "collapsed": false
   },
   "outputs": [
    {
     "data": {
      "text/html": [
       "1 composition path.  Result:\n",
       "<br />&nbsp;&nbsp;&nbsp;&nbsp;[0]: $[\\![\\mathbf{\\text{[[every doctor] [[someone] saw]]}}]\\!]^{}_{t} \\:=\\: $$\\forall{} x_{e} \\: . \\: ({Doctor}({x}) \\rightarrow{} \\exists{} x1_{e} \\: . \\: ({Human}({x1}) \\wedge{} {Saw}({x}, {x1})))$"
      ],
      "text/plain": [
       "CompositionResult(results=[⟦[[every doctor] [[someone] saw]]⟧ = (Forall x_e: (Doctor_<e,t>(x_e) >> (Exists x1_e: (Human_<e,t>(x1_e) & Saw_<(e,e),t>(x_e, x1_e)))))], failures=[⟦[[[someone] saw] [every doctor]]⟧ = Type mismatch: '⟦[[someone] saw]⟧ = (λ x_e: (Exists x1_e: (Human_<e,t>(x1_e) & Saw_<(e,e),t>(x_e, x1_e))))'/<e,t> and '⟦[every doctor]⟧ = (λ g_<e,t>: (Forall x_e: (Doctor_<e,t>(x_e) >> g_<e,t>(x_e))))'/<<e,t>,t> conflict (mode: Function Application), ⟦[[every doctor] [[someone] saw]]⟧ = Type mismatch: '⟦[every doctor]⟧ = (λ g_<e,t>: (Forall x_e: (Doctor_<e,t>(x_e) >> g_<e,t>(x_e))))'/<<e,t>,t> and '⟦[[someone] saw]⟧ = (λ x_e: (Exists x1_e: (Human_<e,t>(x1_e) & Saw_<(e,e),t>(x_e, x1_e))))'/<e,t> conflict (mode: Predicate Modification), ⟦[[every doctor] [[someone] saw]]⟧ = Type mismatch: '⟦[every doctor]⟧ = (λ g_<e,t>: (Forall x_e: (Doctor_<e,t>(x_e) >> g_<e,t>(x_e))))'/<<e,t>,t> and '⟦[[someone] saw]⟧ = (λ x_e: (Exists x1_e: (Human_<e,t>(x1_e) & Saw_<(e,e),t>(x_e, x1_e))))'/<e,t> conflict (mode: Predicate Abstraction), ⟦[[[someone] saw] [every doctor]]⟧ = Type mismatch: '⟦[[someone] saw]⟧ = (λ x_e: (Exists x1_e: (Human_<e,t>(x1_e) & Saw_<(e,e),t>(x_e, x1_e))))'/<e,t> and '⟦[every doctor]⟧ = (λ g_<e,t>: (Forall x_e: (Doctor_<e,t>(x_e) >> g_<e,t>(x_e))))'/<<e,t>,t> conflict (mode: Predicate Abstraction)])"
      ]
     },
     "execution_count": 19,
     "metadata": {},
     "output_type": "execute_result"
    }
   ],
   "source": [
    "((every * doctor) * (saw * someone))"
   ]
  },
  {
   "cell_type": "markdown",
   "metadata": {},
   "source": [
    "### Quantifier scope via type shifting\n",
    "\n",
    "This so far produces only surface scope readings when there are multiple quantifiers.\n",
    "\n",
    "*Approach 1*: Following work in CCG, one might imagine that composition needn't match constituency; if the subject shifts and composes with the verb before the object we can get the other scoping.  (In CCG this is implemented using a function composition operation, not a type-shift.)"
   ]
  },
  {
   "cell_type": "markdown",
   "metadata": {},
   "source": [
    "*Approach 2*: Someone interested in constituency might find this unsatisfying.  How could this be resolved using a type-shift?  One idea (due to Hendriks) is to build scope-taking shifts that operate on verb meanings."
   ]
  },
  {
   "cell_type": "code",
   "execution_count": 20,
   "metadata": {
    "collapsed": false
   },
   "outputs": [
    {
     "data": {
      "text/latex": [
       "$\\lambda{} f_{\\left\\langle{}\\left\\langle{}e,t\\right\\rangle{},t\\right\\rangle{}} \\: . \\: \\lambda{} g_{\\left\\langle{}\\left\\langle{}e,t\\right\\rangle{},t\\right\\rangle{}} \\: . \\: {f}(\\lambda{} x_{e} \\: . \\: {g}(\\lambda{} y_{e} \\: . \\: {Saw}({y}, {x})))$"
      ],
      "text/plain": [
       "(λ f_<<e,t>,t>: (λ g_<<e,t>,t>: f_<<e,t>,t>((λ x_e: g_<<e,t>,t>((λ y_e: Saw_<(e,e),t>(y_e, x_e)))))))"
      ]
     },
     "execution_count": 20,
     "metadata": {},
     "output_type": "execute_result"
    }
   ],
   "source": [
    "surface_shift_comb = %te L v_<e,<e,t>> : L f_<<e,t>,t> : L g_<<e,t>,t> : g(L y_e : f(L x_e : (v(x)(y))))\n",
    "inverse_shift_comb = %te L v_<e,<e,t>> : L f_<<e,t>,t> : L g_<<e,t>,t> : f(L x_e : g(L y_e : (v(x)(y))))\n",
    "\n",
    "inverse_shift_comb(saw.content).reduce_all()"
   ]
  },
  {
   "cell_type": "code",
   "execution_count": 21,
   "metadata": {
    "collapsed": false
   },
   "outputs": [
    {
     "data": {
      "text/latex": [
       "$\\lambda{} f_{\\left\\langle{}\\left\\langle{}e,t\\right\\rangle{},t\\right\\rangle{}} \\: . \\: \\lambda{} g_{\\left\\langle{}\\left\\langle{}e,t\\right\\rangle{},t\\right\\rangle{}} \\: . \\: {g}(\\lambda{} y_{e} \\: . \\: {f}(\\lambda{} x_{e} \\: . \\: {Saw}({y}, {x})))$"
      ],
      "text/plain": [
       "(λ f_<<e,t>,t>: (λ g_<<e,t>,t>: g_<<e,t>,t>((λ y_e: f_<<e,t>,t>((λ x_e: Saw_<(e,e),t>(y_e, x_e)))))))"
      ]
     },
     "execution_count": 21,
     "metadata": {},
     "output_type": "execute_result"
    }
   ],
   "source": [
    "surface_shift_comb(saw.content).reduce_all()"
   ]
  },
  {
   "cell_type": "markdown",
   "metadata": {},
   "source": [
    "Let's create a new composition system with both of these combinators used as typeshifts."
   ]
  },
  {
   "cell_type": "code",
   "execution_count": 22,
   "metadata": {
    "collapsed": false
   },
   "outputs": [
    {
     "data": {
      "text/html": [
       "Composition system 'H&K simple (copy)'<br />Operations: {<br />&nbsp;&nbsp;&nbsp;&nbsp;Binary composition rule <i>FA</i>, built on python function 'lamb.lang.fa_fun'<br />&nbsp;&nbsp;&nbsp;&nbsp;Binary composition rule <i>PM</i>, built on python function 'lamb.lang.pm_fun'<br />&nbsp;&nbsp;&nbsp;&nbsp;Binary composition rule <i>PA</i>, built on python function 'lamb.lang.pa_fun'<br />&nbsp;&nbsp;&nbsp;&nbsp;Typeshift <i>surface</i>, built on combinator '$\\lambda{} v_{\\left\\langle{}e,\\left\\langle{}e,t\\right\\rangle{}\\right\\rangle{}} \\: . \\: \\lambda{} f_{\\left\\langle{}\\left\\langle{}e,t\\right\\rangle{},t\\right\\rangle{}} \\: . \\: \\lambda{} g_{\\left\\langle{}\\left\\langle{}e,t\\right\\rangle{},t\\right\\rangle{}} \\: . \\: {g}(\\lambda{} y_{e} \\: . \\: {f}(\\lambda{} x_{e} \\: . \\: {v}({x})({y})))$'<br />&nbsp;&nbsp;&nbsp;&nbsp;Typeshift <i>inverse</i>, built on combinator '$\\lambda{} v_{\\left\\langle{}e,\\left\\langle{}e,t\\right\\rangle{}\\right\\rangle{}} \\: . \\: \\lambda{} f_{\\left\\langle{}\\left\\langle{}e,t\\right\\rangle{},t\\right\\rangle{}} \\: . \\: \\lambda{} g_{\\left\\langle{}\\left\\langle{}e,t\\right\\rangle{},t\\right\\rangle{}} \\: . \\: {f}(\\lambda{} x_{e} \\: . \\: {g}(\\lambda{} y_{e} \\: . \\: {v}({x})({y})))$'<br />}"
      ],
      "text/plain": [
       "Composition system: H&K simple (copy)"
      ]
     },
     "execution_count": 22,
     "metadata": {},
     "output_type": "execute_result"
    }
   ],
   "source": [
    "system = lang.td_system.copy()\n",
    "system.add_rule(lang.unary_factory(surface_shift_comb, \"surface\", typeshift=True))\n",
    "system.add_rule(lang.unary_factory(inverse_shift_comb, \"inverse\", typeshift=True))\n",
    "system.typeshift = True\n",
    "lang.set_system(system)\n",
    "system"
   ]
  },
  {
   "cell_type": "code",
   "execution_count": 23,
   "metadata": {
    "collapsed": false
   },
   "outputs": [
    {
     "data": {
      "text/html": [
       "2 composition paths. Results:\n",
       "<br />&nbsp;&nbsp;&nbsp;&nbsp;[0]: $[\\![\\mathbf{\\text{[[[saw] [every doctor]] someone]}}]\\!]^{}_{t} \\:=\\: $$\\exists{} x_{e} \\: . \\: ({Human}({x}) \\wedge{} \\forall{} x1_{e} \\: . \\: ({Doctor}({x1}) \\rightarrow{} {Saw}({x}, {x1})))$\n",
       "<br />&nbsp;&nbsp;&nbsp;&nbsp;[1]: $[\\![\\mathbf{\\text{[[[saw] [every doctor]] someone]}}]\\!]^{}_{t} \\:=\\: $$\\forall{} x_{e} \\: . \\: ({Doctor}({x}) \\rightarrow{} \\exists{} x1_{e} \\: . \\: ({Human}({x1}) \\wedge{} {Saw}({x1}, {x})))$"
      ],
      "text/plain": [
       "CompositionResult(results=[⟦[[[saw] [every doctor]] someone]⟧ = (Exists x_e: (Human_<e,t>(x_e) & (Forall x1_e: (Doctor_<e,t>(x1_e) >> Saw_<(e,e),t>(x_e, x1_e))))), ⟦[[[saw] [every doctor]] someone]⟧ = (Forall x_e: (Doctor_<e,t>(x_e) >> (Exists x1_e: (Human_<e,t>(x1_e) & Saw_<(e,e),t>(x1_e, x_e)))))], failures=[⟦[someone [[saw] [every doctor]]]⟧ = Type mismatch: '⟦someone⟧ = (λ f_<e,t>: (Exists x_e: (Human_<e,t>(x_e) & f_<e,t>(x_e))))'/<<e,t>,t> and '⟦[[saw] [every doctor]]⟧ = (λ g_<<e,t>,t>: g_<<e,t>,t>((λ y_e: (Forall x_e: (Doctor_<e,t>(x_e) >> Saw_<(e,e),t>(y_e, x_e))))))'/<<<e,t>,t>,t> conflict (mode: Function Application), ⟦[someone [[saw] [every doctor]]]⟧ = Type mismatch: '⟦someone⟧ = (λ f_<e,t>: (Exists x_e: (Human_<e,t>(x_e) & f_<e,t>(x_e))))'/<<e,t>,t> and '⟦[[saw] [every doctor]]⟧ = (λ g_<<e,t>,t>: g_<<e,t>,t>((λ y_e: (Forall x_e: (Doctor_<e,t>(x_e) >> Saw_<(e,e),t>(y_e, x_e))))))'/<<<e,t>,t>,t> conflict (mode: Predicate Modification), ⟦[someone [[saw] [every doctor]]]⟧ = Type mismatch: '⟦someone⟧ = (λ f_<e,t>: (Exists x_e: (Human_<e,t>(x_e) & f_<e,t>(x_e))))'/<<e,t>,t> and '⟦[[saw] [every doctor]]⟧ = (λ g_<<e,t>,t>: g_<<e,t>,t>((λ y_e: (Forall x_e: (Doctor_<e,t>(x_e) >> Saw_<(e,e),t>(y_e, x_e))))))'/<<<e,t>,t>,t> conflict (mode: Predicate Abstraction), ⟦[[[saw] [every doctor]] someone]⟧ = Type mismatch: '⟦[[saw] [every doctor]]⟧ = (λ g_<<e,t>,t>: g_<<e,t>,t>((λ y_e: (Forall x_e: (Doctor_<e,t>(x_e) >> Saw_<(e,e),t>(y_e, x_e))))))'/<<<e,t>,t>,t> and '⟦someone⟧ = (λ f_<e,t>: (Exists x_e: (Human_<e,t>(x_e) & f_<e,t>(x_e))))'/<<e,t>,t> conflict (mode: Predicate Abstraction), ⟦[someone [[saw] [every doctor]]]⟧ = Type mismatch: '⟦someone⟧ = (λ f_<e,t>: (Exists x_e: (Human_<e,t>(x_e) & f_<e,t>(x_e))))'/<<e,t>,t> and '⟦[[saw] [every doctor]]⟧ = (λ g_<<e,t>,t>: (Forall x_e: (Doctor_<e,t>(x_e) >> g_<<e,t>,t>((λ y_e: Saw_<(e,e),t>(y_e, x_e))))))'/<<<e,t>,t>,t> conflict (mode: Function Application), ⟦[someone [[saw] [every doctor]]]⟧ = Type mismatch: '⟦someone⟧ = (λ f_<e,t>: (Exists x_e: (Human_<e,t>(x_e) & f_<e,t>(x_e))))'/<<e,t>,t> and '⟦[[saw] [every doctor]]⟧ = (λ g_<<e,t>,t>: (Forall x_e: (Doctor_<e,t>(x_e) >> g_<<e,t>,t>((λ y_e: Saw_<(e,e),t>(y_e, x_e))))))'/<<<e,t>,t>,t> conflict (mode: Predicate Modification), ⟦[someone [[saw] [every doctor]]]⟧ = Type mismatch: '⟦someone⟧ = (λ f_<e,t>: (Exists x_e: (Human_<e,t>(x_e) & f_<e,t>(x_e))))'/<<e,t>,t> and '⟦[[saw] [every doctor]]⟧ = (λ g_<<e,t>,t>: (Forall x_e: (Doctor_<e,t>(x_e) >> g_<<e,t>,t>((λ y_e: Saw_<(e,e),t>(y_e, x_e))))))'/<<<e,t>,t>,t> conflict (mode: Predicate Abstraction), ⟦[[[saw] [every doctor]] someone]⟧ = Type mismatch: '⟦[[saw] [every doctor]]⟧ = (λ g_<<e,t>,t>: (Forall x_e: (Doctor_<e,t>(x_e) >> g_<<e,t>,t>((λ y_e: Saw_<(e,e),t>(y_e, x_e))))))'/<<<e,t>,t>,t> and '⟦someone⟧ = (λ f_<e,t>: (Exists x_e: (Human_<e,t>(x_e) & f_<e,t>(x_e))))'/<<e,t>,t> conflict (mode: Predicate Abstraction)])"
      ]
     },
     "execution_count": 23,
     "metadata": {},
     "output_type": "execute_result"
    }
   ],
   "source": [
    "r = (someone * ((every * doctor) * saw))\n",
    "r"
   ]
  },
  {
   "cell_type": "code",
   "execution_count": 24,
   "metadata": {
    "collapsed": false
   },
   "outputs": [
    {
     "data": {
      "text/html": [
       "<style>.rendered_html table, .rendered_html tr, .rendered_html td, .rendered_html th { border: 0px; text-align:center; }</style><table><tr style=\"border:1px solid #848482\"><td style=\"vertical-align:bottom;padding:0px 10px\" align=\"center\"><table><tr><td style=\"vertical-align:bottom;padding:5px\"><table><tr style=\"border:1px solid #848482\"><td style=\"vertical-align:bottom;padding:0px 10px\" align=\"center\"><table><tr><td style=\"vertical-align:bottom;padding:5px\"><table><tr style=\"border:1px solid #848482\"><td style=\"vertical-align:bottom;padding:0px 10px\" align=\"center\"><table><tr><td style=\"vertical-align:bottom;padding:5px\"><div style=\"margin-top:10px;border-style:solid;border-color:#848482;border-width:0px\"><div style=\"vertical-align:bottom;text-align:center\">$[\\![\\mathbf{\\text{saw}}]\\!]^{}_{\\left\\langle{}e,\\left\\langle{}e,t\\right\\rangle{}\\right\\rangle{}}$</div><div style=\"vertical-align:bottom;text-align:center\">$\\lambda{} x_{e} \\: . \\: \\lambda{} y_{e} \\: . \\: {Saw}({y}, {x})$</div></div></td></tr></table></td><td style=\"border-left:1px solid #848482;vertical-align:center;padding:10px\"><span style=\"color:blue\"><b>[surface]</b></span></td></tr><tr style=\"border-style:solid;border-color:#848482;border-width:0px 1px 1px 1px\"><td style=\"padding:5px\" align=\"center\"><div style=\"margin-top:10px;border-style:solid;border-color:#848482;border-width:0px\"><div style=\"vertical-align:bottom;text-align:center\">$[\\![\\mathbf{\\text{[saw]}}]\\!]^{}_{\\left\\langle{}\\left\\langle{}\\left\\langle{}e,t\\right\\rangle{},t\\right\\rangle{},\\left\\langle{}\\left\\langle{}\\left\\langle{}e,t\\right\\rangle{},t\\right\\rangle{},t\\right\\rangle{}\\right\\rangle{}}$</div><div style=\"vertical-align:bottom;text-align:center\">$\\lambda{} f_{\\left\\langle{}\\left\\langle{}e,t\\right\\rangle{},t\\right\\rangle{}} \\: . \\: \\lambda{} g_{\\left\\langle{}\\left\\langle{}e,t\\right\\rangle{},t\\right\\rangle{}} \\: . \\: {g}(\\lambda{} y_{e} \\: . \\: {f}(\\lambda{} x_{e} \\: . \\: {Saw}({y}, {x})))$</div></div></td><td></td></tr></table></td><td style=\"vertical-align:bottom;padding:10px\">$\\circ$</td><td style=\"vertical-align:bottom;padding:5px\"><table><tr style=\"border:1px solid #848482\"><td style=\"vertical-align:bottom;padding:0px 10px\" align=\"center\"><table><tr><td style=\"vertical-align:bottom;padding:5px\"><div style=\"margin-top:10px;border-style:solid;border-color:#848482;border-width:0px\"><div style=\"vertical-align:bottom;text-align:center\">$[\\![\\mathbf{\\text{every}}]\\!]^{}_{\\left\\langle{}\\left\\langle{}e,t\\right\\rangle{},\\left\\langle{}\\left\\langle{}e,t\\right\\rangle{},t\\right\\rangle{}\\right\\rangle{}}$</div><div style=\"vertical-align:bottom;text-align:center\">$\\lambda{} f_{\\left\\langle{}e,t\\right\\rangle{}} \\: . \\: \\lambda{} g_{\\left\\langle{}e,t\\right\\rangle{}} \\: . \\: \\forall{} x_{e} \\: . \\: ({f}({x}) \\rightarrow{} {g}({x}))$</div></div></td><td style=\"vertical-align:bottom;padding:10px\">$\\circ$</td><td style=\"vertical-align:bottom;padding:5px\"><div style=\"margin-top:10px;border-style:solid;border-color:#848482;border-width:0px\"><div style=\"vertical-align:bottom;text-align:center\">$[\\![\\mathbf{\\text{doctor}}]\\!]^{}_{\\left\\langle{}e,t\\right\\rangle{}}$</div><div style=\"vertical-align:bottom;text-align:center\">$\\lambda{} x_{e} \\: . \\: {Doctor}({x})$</div></div></td></tr></table></td><td style=\"border-left:1px solid #848482;vertical-align:center;padding:10px\"><span style=\"color:blue\"><b>[FA]</b></span></td></tr><tr style=\"border-style:solid;border-color:#848482;border-width:0px 1px 1px 1px\"><td style=\"padding:5px\" align=\"center\"><div style=\"margin-top:10px;border-style:solid;border-color:#848482;border-width:0px\"><div style=\"vertical-align:bottom;text-align:center\">$[\\![\\mathbf{\\text{[every doctor]}}]\\!]^{}_{\\left\\langle{}\\left\\langle{}e,t\\right\\rangle{},t\\right\\rangle{}}$</div><div style=\"vertical-align:bottom;text-align:center\">$\\lambda{} g_{\\left\\langle{}e,t\\right\\rangle{}} \\: . \\: \\forall{} x_{e} \\: . \\: ({Doctor}({x}) \\rightarrow{} {g}({x}))$</div></div></td><td></td></tr></table></td></tr></table></td><td style=\"border-left:1px solid #848482;vertical-align:center;padding:10px\"><span style=\"color:blue\"><b>[FA]</b></span></td></tr><tr style=\"border-style:solid;border-color:#848482;border-width:0px 1px 1px 1px\"><td style=\"padding:5px\" align=\"center\"><div style=\"margin-top:10px;border-style:solid;border-color:#848482;border-width:0px\"><div style=\"vertical-align:bottom;text-align:center\">$[\\![\\mathbf{\\text{[[saw] [every doctor]]}}]\\!]^{}_{\\left\\langle{}\\left\\langle{}\\left\\langle{}e,t\\right\\rangle{},t\\right\\rangle{},t\\right\\rangle{}}$</div><div style=\"vertical-align:bottom;text-align:center\">$\\lambda{} g_{\\left\\langle{}\\left\\langle{}e,t\\right\\rangle{},t\\right\\rangle{}} \\: . \\: {g}(\\lambda{} y_{e} \\: . \\: \\forall{} x_{e} \\: . \\: ({Doctor}({x}) \\rightarrow{} {Saw}({y}, {x})))$</div></div></td><td></td></tr></table></td><td style=\"vertical-align:bottom;padding:10px\">$\\circ$</td><td style=\"vertical-align:bottom;padding:5px\"><div style=\"margin-top:10px;border-style:solid;border-color:#848482;border-width:0px\"><div style=\"vertical-align:bottom;text-align:center\">$[\\![\\mathbf{\\text{someone}}]\\!]^{}_{\\left\\langle{}\\left\\langle{}e,t\\right\\rangle{},t\\right\\rangle{}}$</div><div style=\"vertical-align:bottom;text-align:center\">$\\lambda{} f_{\\left\\langle{}e,t\\right\\rangle{}} \\: . \\: \\exists{} x_{e} \\: . \\: ({Human}({x}) \\wedge{} {f}({x}))$</div></div></td></tr></table></td><td style=\"border-left:1px solid #848482;vertical-align:center;padding:10px\"><span style=\"color:blue\"><b>[FA]</b></span></td></tr><tr style=\"border-style:solid;border-color:#848482;border-width:0px 1px 1px 1px\"><td style=\"padding:5px\" align=\"center\"><div style=\"margin-top:10px;border-style:solid;border-color:#848482;border-width:0px\"><div style=\"vertical-align:bottom;text-align:center\">$[\\![\\mathbf{\\text{[[[saw] [every doctor]] someone]}}]\\!]^{}_{t}$</div><div style=\"vertical-align:bottom;text-align:center\">$\\exists{} x_{e} \\: . \\: ({Human}({x}) \\wedge{} \\forall{} x1_{e} \\: . \\: ({Doctor}({x1}) \\rightarrow{} {Saw}({x}, {x1})))$</div></div></td><td></td></tr></table>"
      ],
      "text/plain": [
       "RecursiveDerivationDisplay instance: HTML rendering only"
      ]
     },
     "execution_count": 24,
     "metadata": {},
     "output_type": "execute_result"
    }
   ],
   "source": [
    "r[0].tree()"
   ]
  },
  {
   "cell_type": "code",
   "execution_count": 25,
   "metadata": {
    "collapsed": false
   },
   "outputs": [
    {
     "data": {
      "text/html": [
       "<style>.rendered_html table, .rendered_html tr, .rendered_html td, .rendered_html th { border: 0px; text-align:center; }</style><table><tr style=\"border:1px solid #848482\"><td style=\"vertical-align:bottom;padding:0px 10px\" align=\"center\"><table><tr><td style=\"vertical-align:bottom;padding:5px\"><table><tr style=\"border:1px solid #848482\"><td style=\"vertical-align:bottom;padding:0px 10px\" align=\"center\"><table><tr><td style=\"vertical-align:bottom;padding:5px\"><table><tr style=\"border:1px solid #848482\"><td style=\"vertical-align:bottom;padding:0px 10px\" align=\"center\"><table><tr><td style=\"vertical-align:bottom;padding:5px\"><div style=\"margin-top:10px;border-style:solid;border-color:#848482;border-width:0px\"><div style=\"vertical-align:bottom;text-align:center\">$[\\![\\mathbf{\\text{saw}}]\\!]^{}_{\\left\\langle{}e,\\left\\langle{}e,t\\right\\rangle{}\\right\\rangle{}}$</div><div style=\"vertical-align:bottom;text-align:center\">$\\lambda{} x_{e} \\: . \\: \\lambda{} y_{e} \\: . \\: {Saw}({y}, {x})$</div></div></td></tr></table></td><td style=\"border-left:1px solid #848482;vertical-align:center;padding:10px\"><span style=\"color:blue\"><b>[inverse]</b></span></td></tr><tr style=\"border-style:solid;border-color:#848482;border-width:0px 1px 1px 1px\"><td style=\"padding:5px\" align=\"center\"><div style=\"margin-top:10px;border-style:solid;border-color:#848482;border-width:0px\"><div style=\"vertical-align:bottom;text-align:center\">$[\\![\\mathbf{\\text{[saw]}}]\\!]^{}_{\\left\\langle{}\\left\\langle{}\\left\\langle{}e,t\\right\\rangle{},t\\right\\rangle{},\\left\\langle{}\\left\\langle{}\\left\\langle{}e,t\\right\\rangle{},t\\right\\rangle{},t\\right\\rangle{}\\right\\rangle{}}$</div><div style=\"vertical-align:bottom;text-align:center\">$\\lambda{} f_{\\left\\langle{}\\left\\langle{}e,t\\right\\rangle{},t\\right\\rangle{}} \\: . \\: \\lambda{} g_{\\left\\langle{}\\left\\langle{}e,t\\right\\rangle{},t\\right\\rangle{}} \\: . \\: {f}(\\lambda{} x_{e} \\: . \\: {g}(\\lambda{} y_{e} \\: . \\: {Saw}({y}, {x})))$</div></div></td><td></td></tr></table></td><td style=\"vertical-align:bottom;padding:10px\">$\\circ$</td><td style=\"vertical-align:bottom;padding:5px\"><table><tr style=\"border:1px solid #848482\"><td style=\"vertical-align:bottom;padding:0px 10px\" align=\"center\"><table><tr><td style=\"vertical-align:bottom;padding:5px\"><div style=\"margin-top:10px;border-style:solid;border-color:#848482;border-width:0px\"><div style=\"vertical-align:bottom;text-align:center\">$[\\![\\mathbf{\\text{every}}]\\!]^{}_{\\left\\langle{}\\left\\langle{}e,t\\right\\rangle{},\\left\\langle{}\\left\\langle{}e,t\\right\\rangle{},t\\right\\rangle{}\\right\\rangle{}}$</div><div style=\"vertical-align:bottom;text-align:center\">$\\lambda{} f_{\\left\\langle{}e,t\\right\\rangle{}} \\: . \\: \\lambda{} g_{\\left\\langle{}e,t\\right\\rangle{}} \\: . \\: \\forall{} x_{e} \\: . \\: ({f}({x}) \\rightarrow{} {g}({x}))$</div></div></td><td style=\"vertical-align:bottom;padding:10px\">$\\circ$</td><td style=\"vertical-align:bottom;padding:5px\"><div style=\"margin-top:10px;border-style:solid;border-color:#848482;border-width:0px\"><div style=\"vertical-align:bottom;text-align:center\">$[\\![\\mathbf{\\text{doctor}}]\\!]^{}_{\\left\\langle{}e,t\\right\\rangle{}}$</div><div style=\"vertical-align:bottom;text-align:center\">$\\lambda{} x_{e} \\: . \\: {Doctor}({x})$</div></div></td></tr></table></td><td style=\"border-left:1px solid #848482;vertical-align:center;padding:10px\"><span style=\"color:blue\"><b>[FA]</b></span></td></tr><tr style=\"border-style:solid;border-color:#848482;border-width:0px 1px 1px 1px\"><td style=\"padding:5px\" align=\"center\"><div style=\"margin-top:10px;border-style:solid;border-color:#848482;border-width:0px\"><div style=\"vertical-align:bottom;text-align:center\">$[\\![\\mathbf{\\text{[every doctor]}}]\\!]^{}_{\\left\\langle{}\\left\\langle{}e,t\\right\\rangle{},t\\right\\rangle{}}$</div><div style=\"vertical-align:bottom;text-align:center\">$\\lambda{} g_{\\left\\langle{}e,t\\right\\rangle{}} \\: . \\: \\forall{} x_{e} \\: . \\: ({Doctor}({x}) \\rightarrow{} {g}({x}))$</div></div></td><td></td></tr></table></td></tr></table></td><td style=\"border-left:1px solid #848482;vertical-align:center;padding:10px\"><span style=\"color:blue\"><b>[FA]</b></span></td></tr><tr style=\"border-style:solid;border-color:#848482;border-width:0px 1px 1px 1px\"><td style=\"padding:5px\" align=\"center\"><div style=\"margin-top:10px;border-style:solid;border-color:#848482;border-width:0px\"><div style=\"vertical-align:bottom;text-align:center\">$[\\![\\mathbf{\\text{[[saw] [every doctor]]}}]\\!]^{}_{\\left\\langle{}\\left\\langle{}\\left\\langle{}e,t\\right\\rangle{},t\\right\\rangle{},t\\right\\rangle{}}$</div><div style=\"vertical-align:bottom;text-align:center\">$\\lambda{} g_{\\left\\langle{}\\left\\langle{}e,t\\right\\rangle{},t\\right\\rangle{}} \\: . \\: \\forall{} x_{e} \\: . \\: ({Doctor}({x}) \\rightarrow{} {g}(\\lambda{} y_{e} \\: . \\: {Saw}({y}, {x})))$</div></div></td><td></td></tr></table></td><td style=\"vertical-align:bottom;padding:10px\">$\\circ$</td><td style=\"vertical-align:bottom;padding:5px\"><div style=\"margin-top:10px;border-style:solid;border-color:#848482;border-width:0px\"><div style=\"vertical-align:bottom;text-align:center\">$[\\![\\mathbf{\\text{someone}}]\\!]^{}_{\\left\\langle{}\\left\\langle{}e,t\\right\\rangle{},t\\right\\rangle{}}$</div><div style=\"vertical-align:bottom;text-align:center\">$\\lambda{} f_{\\left\\langle{}e,t\\right\\rangle{}} \\: . \\: \\exists{} x_{e} \\: . \\: ({Human}({x}) \\wedge{} {f}({x}))$</div></div></td></tr></table></td><td style=\"border-left:1px solid #848482;vertical-align:center;padding:10px\"><span style=\"color:blue\"><b>[FA]</b></span></td></tr><tr style=\"border-style:solid;border-color:#848482;border-width:0px 1px 1px 1px\"><td style=\"padding:5px\" align=\"center\"><div style=\"margin-top:10px;border-style:solid;border-color:#848482;border-width:0px\"><div style=\"vertical-align:bottom;text-align:center\">$[\\![\\mathbf{\\text{[[[saw] [every doctor]] someone]}}]\\!]^{}_{t}$</div><div style=\"vertical-align:bottom;text-align:center\">$\\forall{} x_{e} \\: . \\: ({Doctor}({x}) \\rightarrow{} \\exists{} x1_{e} \\: . \\: ({Human}({x1}) \\wedge{} {Saw}({x1}, {x})))$</div></div></td><td></td></tr></table>"
      ],
      "text/plain": [
       "RecursiveDerivationDisplay instance: HTML rendering only"
      ]
     },
     "execution_count": 25,
     "metadata": {},
     "output_type": "execute_result"
    }
   ],
   "source": [
    "r[1].tree()"
   ]
  },
  {
   "cell_type": "markdown",
   "metadata": {},
   "source": [
    "*Approach 3*: A final strategy would be to provide the first gq-shifter plus an even higher object type-lift that implements inverse scope.  This is effectively the combinator for Hendriks' inverse scope shifter with the order of arguments reversed."
   ]
  },
  {
   "cell_type": "code",
   "execution_count": 26,
   "metadata": {
    "collapsed": false
   },
   "outputs": [
    {
     "data": {
      "text/latex": [
       "$\\lambda{} f_{\\left\\langle{}\\left\\langle{}e,t\\right\\rangle{},t\\right\\rangle{}} \\: . \\: \\lambda{} g_{\\left\\langle{}e,\\left\\langle{}e,t\\right\\rangle{}\\right\\rangle{}} \\: . \\: \\lambda{} h_{\\left\\langle{}\\left\\langle{}e,t\\right\\rangle{},t\\right\\rangle{}} \\: . \\: {f}(\\lambda{} y_{e} \\: . \\: {h}(\\lambda{} x_{e} \\: . \\: {g}({y})({x})))$"
      ],
      "text/plain": [
       "(λ f_<<e,t>,t>: (λ g_<e,<e,t>>: (λ h_<<e,t>,t>: f_<<e,t>,t>((λ y_e: h_<<e,t>,t>((λ x_e: g_<e,<e,t>>(y_e)(x_e))))))))"
      ]
     },
     "execution_count": 26,
     "metadata": {},
     "output_type": "execute_result"
    }
   ],
   "source": [
    "gq_lift_combinator = te(\"L f_<<e,t>,t> : L g_<e,<e,t>> : L x_e : f(L y_e : g(y)(x))\")\n",
    "gq_lift_combinator2 = te(\"L f_<<e,t>,t> : L g_<e,<e,t>> : L h_<<e,t>,t> : f(L y_e : h(L x_e : g(y)(x)))\")\n",
    "\n",
    "gq_lift_combinator2 #.type"
   ]
  },
  {
   "cell_type": "code",
   "execution_count": 27,
   "metadata": {
    "collapsed": false
   },
   "outputs": [
    {
     "data": {
      "text/html": [
       "Composition system 'H&K simple (copy)'<br />Operations: {<br />&nbsp;&nbsp;&nbsp;&nbsp;Binary composition rule <i>FA</i>, built on python function 'lamb.lang.fa_fun'<br />&nbsp;&nbsp;&nbsp;&nbsp;Binary composition rule <i>PM</i>, built on python function 'lamb.lang.pm_fun'<br />&nbsp;&nbsp;&nbsp;&nbsp;Binary composition rule <i>PA</i>, built on python function 'lamb.lang.pa_fun'<br />&nbsp;&nbsp;&nbsp;&nbsp;Typeshift <i>gq-lift-trans</i>, built on combinator '$\\lambda{} f_{\\left\\langle{}\\left\\langle{}e,t\\right\\rangle{},t\\right\\rangle{}} \\: . \\: \\lambda{} g_{\\left\\langle{}e,\\left\\langle{}e,t\\right\\rangle{}\\right\\rangle{}} \\: . \\: \\lambda{} x_{e} \\: . \\: {f}(\\lambda{} y_{e} \\: . \\: {g}({y})({x}))$'<br />&nbsp;&nbsp;&nbsp;&nbsp;Typeshift <i>gq-lift2-trans</i>, built on combinator '$\\lambda{} f_{\\left\\langle{}\\left\\langle{}e,t\\right\\rangle{},t\\right\\rangle{}} \\: . \\: \\lambda{} g_{\\left\\langle{}e,\\left\\langle{}e,t\\right\\rangle{}\\right\\rangle{}} \\: . \\: \\lambda{} h_{\\left\\langle{}\\left\\langle{}e,t\\right\\rangle{},t\\right\\rangle{}} \\: . \\: {f}(\\lambda{} y_{e} \\: . \\: {h}(\\lambda{} x_{e} \\: . \\: {g}({y})({x})))$'<br />}"
      ],
      "text/plain": [
       "Composition system: H&K simple (copy)"
      ]
     },
     "execution_count": 27,
     "metadata": {},
     "output_type": "execute_result"
    }
   ],
   "source": [
    "system = lang.td_system.copy()\n",
    "system.add_rule(lang.unary_factory(gq_lift_combinator, \"gq-lift-trans\", typeshift=True))\n",
    "system.add_rule(lang.unary_factory(gq_lift_combinator2, \"gq-lift2-trans\", typeshift=True))\n",
    "system.typeshift = True\n",
    "lang.set_system(system)\n",
    "system"
   ]
  },
  {
   "cell_type": "code",
   "execution_count": 28,
   "metadata": {
    "collapsed": false
   },
   "outputs": [
    {
     "data": {
      "text/html": [
       "2 composition paths. Results:\n",
       "<br />&nbsp;&nbsp;&nbsp;&nbsp;[0]: $[\\![\\mathbf{\\text{[someone [[[every doctor]] saw]]}}]\\!]^{}_{t} \\:=\\: $$\\exists{} x_{e} \\: . \\: ({Human}({x}) \\wedge{} \\forall{} x1_{e} \\: . \\: ({Doctor}({x1}) \\rightarrow{} {Saw}({x}, {x1})))$\n",
       "<br />&nbsp;&nbsp;&nbsp;&nbsp;[1]: $[\\![\\mathbf{\\text{[[[[every doctor]] saw] someone]}}]\\!]^{}_{t} \\:=\\: $$\\forall{} x_{e} \\: . \\: ({Doctor}({x}) \\rightarrow{} \\exists{} x1_{e} \\: . \\: ({Human}({x1}) \\wedge{} {Saw}({x1}, {x})))$"
      ],
      "text/plain": [
       "CompositionResult(results=[⟦[someone [[[every doctor]] saw]]⟧ = (Exists x_e: (Human_<e,t>(x_e) & (Forall x1_e: (Doctor_<e,t>(x1_e) >> Saw_<(e,e),t>(x_e, x1_e))))), ⟦[[[[every doctor]] saw] someone]⟧ = (Forall x_e: (Doctor_<e,t>(x_e) >> (Exists x1_e: (Human_<e,t>(x1_e) & Saw_<(e,e),t>(x1_e, x_e)))))], failures=[⟦[[[[every doctor]] saw] someone]⟧ = Type mismatch: '⟦[[[every doctor]] saw]⟧ = (λ x_e: (Forall x1_e: (Doctor_<e,t>(x1_e) >> Saw_<(e,e),t>(x_e, x1_e))))'/<e,t> and '⟦someone⟧ = (λ f_<e,t>: (Exists x_e: (Human_<e,t>(x_e) & f_<e,t>(x_e))))'/<<e,t>,t> conflict (mode: Function Application), ⟦[someone [[[every doctor]] saw]]⟧ = Type mismatch: '⟦someone⟧ = (λ f_<e,t>: (Exists x_e: (Human_<e,t>(x_e) & f_<e,t>(x_e))))'/<<e,t>,t> and '⟦[[[every doctor]] saw]⟧ = (λ x_e: (Forall x1_e: (Doctor_<e,t>(x1_e) >> Saw_<(e,e),t>(x_e, x1_e))))'/<e,t> conflict (mode: Predicate Modification), ⟦[someone [[[every doctor]] saw]]⟧ = Type mismatch: '⟦someone⟧ = (λ f_<e,t>: (Exists x_e: (Human_<e,t>(x_e) & f_<e,t>(x_e))))'/<<e,t>,t> and '⟦[[[every doctor]] saw]⟧ = (λ x_e: (Forall x1_e: (Doctor_<e,t>(x1_e) >> Saw_<(e,e),t>(x_e, x1_e))))'/<e,t> conflict (mode: Predicate Abstraction), ⟦[[[[every doctor]] saw] someone]⟧ = Type mismatch: '⟦[[[every doctor]] saw]⟧ = (λ x_e: (Forall x1_e: (Doctor_<e,t>(x1_e) >> Saw_<(e,e),t>(x_e, x1_e))))'/<e,t> and '⟦someone⟧ = (λ f_<e,t>: (Exists x_e: (Human_<e,t>(x_e) & f_<e,t>(x_e))))'/<<e,t>,t> conflict (mode: Predicate Abstraction), ⟦[someone [[[every doctor]] saw]]⟧ = Type mismatch: '⟦someone⟧ = (λ f_<e,t>: (Exists x_e: (Human_<e,t>(x_e) & f_<e,t>(x_e))))'/<<e,t>,t> and '⟦[[[every doctor]] saw]⟧ = (λ h_<<e,t>,t>: (Forall x_e: (Doctor_<e,t>(x_e) >> h_<<e,t>,t>((λ x1_e: Saw_<(e,e),t>(x1_e, x_e))))))'/<<<e,t>,t>,t> conflict (mode: Function Application), ⟦[someone [[[every doctor]] saw]]⟧ = Type mismatch: '⟦someone⟧ = (λ f_<e,t>: (Exists x_e: (Human_<e,t>(x_e) & f_<e,t>(x_e))))'/<<e,t>,t> and '⟦[[[every doctor]] saw]⟧ = (λ h_<<e,t>,t>: (Forall x_e: (Doctor_<e,t>(x_e) >> h_<<e,t>,t>((λ x1_e: Saw_<(e,e),t>(x1_e, x_e))))))'/<<<e,t>,t>,t> conflict (mode: Predicate Modification), ⟦[someone [[[every doctor]] saw]]⟧ = Type mismatch: '⟦someone⟧ = (λ f_<e,t>: (Exists x_e: (Human_<e,t>(x_e) & f_<e,t>(x_e))))'/<<e,t>,t> and '⟦[[[every doctor]] saw]⟧ = (λ h_<<e,t>,t>: (Forall x_e: (Doctor_<e,t>(x_e) >> h_<<e,t>,t>((λ x1_e: Saw_<(e,e),t>(x1_e, x_e))))))'/<<<e,t>,t>,t> conflict (mode: Predicate Abstraction), ⟦[[[[every doctor]] saw] someone]⟧ = Type mismatch: '⟦[[[every doctor]] saw]⟧ = (λ h_<<e,t>,t>: (Forall x_e: (Doctor_<e,t>(x_e) >> h_<<e,t>,t>((λ x1_e: Saw_<(e,e),t>(x1_e, x_e))))))'/<<<e,t>,t>,t> and '⟦someone⟧ = (λ f_<e,t>: (Exists x_e: (Human_<e,t>(x_e) & f_<e,t>(x_e))))'/<<e,t>,t> conflict (mode: Predicate Abstraction)])"
      ]
     },
     "execution_count": 28,
     "metadata": {},
     "output_type": "execute_result"
    }
   ],
   "source": [
    "r = (someone * ((every * doctor) * saw))\n",
    "r"
   ]
  },
  {
   "cell_type": "code",
   "execution_count": 29,
   "metadata": {
    "collapsed": false
   },
   "outputs": [
    {
     "data": {
      "text/html": [
       "<style>.rendered_html table, .rendered_html tr, .rendered_html td, .rendered_html th { border: 0px; text-align:center; }</style><table><tr style=\"border:1px solid #848482\"><td style=\"vertical-align:bottom;padding:0px 10px\" align=\"center\"><table><tr><td style=\"vertical-align:bottom;padding:5px\"><table><tr style=\"border:1px solid #848482\"><td style=\"vertical-align:bottom;padding:0px 10px\" align=\"center\"><table><tr><td style=\"vertical-align:bottom;padding:5px\"><table><tr style=\"border:1px solid #848482\"><td style=\"vertical-align:bottom;padding:0px 10px\" align=\"center\"><table><tr><td style=\"vertical-align:bottom;padding:5px\"><table><tr style=\"border:1px solid #848482\"><td style=\"vertical-align:bottom;padding:0px 10px\" align=\"center\"><table><tr><td style=\"vertical-align:bottom;padding:5px\"><div style=\"margin-top:10px;border-style:solid;border-color:#848482;border-width:0px\"><div style=\"vertical-align:bottom;text-align:center\">$[\\![\\mathbf{\\text{every}}]\\!]^{}_{\\left\\langle{}\\left\\langle{}e,t\\right\\rangle{},\\left\\langle{}\\left\\langle{}e,t\\right\\rangle{},t\\right\\rangle{}\\right\\rangle{}}$</div><div style=\"vertical-align:bottom;text-align:center\">$\\lambda{} f_{\\left\\langle{}e,t\\right\\rangle{}} \\: . \\: \\lambda{} g_{\\left\\langle{}e,t\\right\\rangle{}} \\: . \\: \\forall{} x_{e} \\: . \\: ({f}({x}) \\rightarrow{} {g}({x}))$</div></div></td><td style=\"vertical-align:bottom;padding:10px\">$\\circ$</td><td style=\"vertical-align:bottom;padding:5px\"><div style=\"margin-top:10px;border-style:solid;border-color:#848482;border-width:0px\"><div style=\"vertical-align:bottom;text-align:center\">$[\\![\\mathbf{\\text{doctor}}]\\!]^{}_{\\left\\langle{}e,t\\right\\rangle{}}$</div><div style=\"vertical-align:bottom;text-align:center\">$\\lambda{} x_{e} \\: . \\: {Doctor}({x})$</div></div></td></tr></table></td><td style=\"border-left:1px solid #848482;vertical-align:center;padding:10px\"><span style=\"color:blue\"><b>[FA]</b></span></td></tr><tr style=\"border-style:solid;border-color:#848482;border-width:0px 1px 1px 1px\"><td style=\"padding:5px\" align=\"center\"><div style=\"margin-top:10px;border-style:solid;border-color:#848482;border-width:0px\"><div style=\"vertical-align:bottom;text-align:center\">$[\\![\\mathbf{\\text{[every doctor]}}]\\!]^{}_{\\left\\langle{}\\left\\langle{}e,t\\right\\rangle{},t\\right\\rangle{}}$</div><div style=\"vertical-align:bottom;text-align:center\">$\\lambda{} g_{\\left\\langle{}e,t\\right\\rangle{}} \\: . \\: \\forall{} x_{e} \\: . \\: ({Doctor}({x}) \\rightarrow{} {g}({x}))$</div></div></td><td></td></tr></table></td></tr></table></td><td style=\"border-left:1px solid #848482;vertical-align:center;padding:10px\"><span style=\"color:blue\"><b>[gq-lift2-trans]</b></span></td></tr><tr style=\"border-style:solid;border-color:#848482;border-width:0px 1px 1px 1px\"><td style=\"padding:5px\" align=\"center\"><div style=\"margin-top:10px;border-style:solid;border-color:#848482;border-width:0px\"><div style=\"vertical-align:bottom;text-align:center\">$[\\![\\mathbf{\\text{[[every doctor]]}}]\\!]^{}_{\\left\\langle{}\\left\\langle{}e,\\left\\langle{}e,t\\right\\rangle{}\\right\\rangle{},\\left\\langle{}\\left\\langle{}\\left\\langle{}e,t\\right\\rangle{},t\\right\\rangle{},t\\right\\rangle{}\\right\\rangle{}}$</div><div style=\"vertical-align:bottom;text-align:center\">$\\lambda{} g_{\\left\\langle{}e,\\left\\langle{}e,t\\right\\rangle{}\\right\\rangle{}} \\: . \\: \\lambda{} h_{\\left\\langle{}\\left\\langle{}e,t\\right\\rangle{},t\\right\\rangle{}} \\: . \\: \\forall{} x_{e} \\: . \\: ({Doctor}({x}) \\rightarrow{} {h}(\\lambda{} x1_{e} \\: . \\: {g}({x})({x1})))$</div></div></td><td></td></tr></table></td><td style=\"vertical-align:bottom;padding:10px\">$\\circ$</td><td style=\"vertical-align:bottom;padding:5px\"><div style=\"margin-top:10px;border-style:solid;border-color:#848482;border-width:0px\"><div style=\"vertical-align:bottom;text-align:center\">$[\\![\\mathbf{\\text{saw}}]\\!]^{}_{\\left\\langle{}e,\\left\\langle{}e,t\\right\\rangle{}\\right\\rangle{}}$</div><div style=\"vertical-align:bottom;text-align:center\">$\\lambda{} x_{e} \\: . \\: \\lambda{} y_{e} \\: . \\: {Saw}({y}, {x})$</div></div></td></tr></table></td><td style=\"border-left:1px solid #848482;vertical-align:center;padding:10px\"><span style=\"color:blue\"><b>[FA]</b></span></td></tr><tr style=\"border-style:solid;border-color:#848482;border-width:0px 1px 1px 1px\"><td style=\"padding:5px\" align=\"center\"><div style=\"margin-top:10px;border-style:solid;border-color:#848482;border-width:0px\"><div style=\"vertical-align:bottom;text-align:center\">$[\\![\\mathbf{\\text{[[[every doctor]] saw]}}]\\!]^{}_{\\left\\langle{}\\left\\langle{}\\left\\langle{}e,t\\right\\rangle{},t\\right\\rangle{},t\\right\\rangle{}}$</div><div style=\"vertical-align:bottom;text-align:center\">$\\lambda{} h_{\\left\\langle{}\\left\\langle{}e,t\\right\\rangle{},t\\right\\rangle{}} \\: . \\: \\forall{} x_{e} \\: . \\: ({Doctor}({x}) \\rightarrow{} {h}(\\lambda{} x1_{e} \\: . \\: {Saw}({x1}, {x})))$</div></div></td><td></td></tr></table></td><td style=\"vertical-align:bottom;padding:10px\">$\\circ$</td><td style=\"vertical-align:bottom;padding:5px\"><div style=\"margin-top:10px;border-style:solid;border-color:#848482;border-width:0px\"><div style=\"vertical-align:bottom;text-align:center\">$[\\![\\mathbf{\\text{someone}}]\\!]^{}_{\\left\\langle{}\\left\\langle{}e,t\\right\\rangle{},t\\right\\rangle{}}$</div><div style=\"vertical-align:bottom;text-align:center\">$\\lambda{} f_{\\left\\langle{}e,t\\right\\rangle{}} \\: . \\: \\exists{} x_{e} \\: . \\: ({Human}({x}) \\wedge{} {f}({x}))$</div></div></td></tr></table></td><td style=\"border-left:1px solid #848482;vertical-align:center;padding:10px\"><span style=\"color:blue\"><b>[FA]</b></span></td></tr><tr style=\"border-style:solid;border-color:#848482;border-width:0px 1px 1px 1px\"><td style=\"padding:5px\" align=\"center\"><div style=\"margin-top:10px;border-style:solid;border-color:#848482;border-width:0px\"><div style=\"vertical-align:bottom;text-align:center\">$[\\![\\mathbf{\\text{[[[[every doctor]] saw] someone]}}]\\!]^{}_{t}$</div><div style=\"vertical-align:bottom;text-align:center\">$\\forall{} x_{e} \\: . \\: ({Doctor}({x}) \\rightarrow{} \\exists{} x1_{e} \\: . \\: ({Human}({x1}) \\wedge{} {Saw}({x1}, {x})))$</div></div></td><td></td></tr></table>"
      ],
      "text/plain": [
       "RecursiveDerivationDisplay instance: HTML rendering only"
      ]
     },
     "execution_count": 29,
     "metadata": {},
     "output_type": "execute_result"
    }
   ],
   "source": [
    "r[1].tree()"
   ]
  },
  {
   "cell_type": "code",
   "execution_count": 30,
   "metadata": {
    "collapsed": true
   },
   "outputs": [],
   "source": []
  }
 ],
 "metadata": {
  "kernelspec": {
   "display_name": "Lambda Notebook (Python 3)",
   "language": "python",
   "name": "lambda-notebook"
  },
  "language_info": {
   "codemirror_mode": {
    "name": "ipython",
    "version": 3
   },
   "file_extension": ".py",
   "mimetype": "text/x-python",
   "name": "python",
   "nbconvert_exporter": "python",
   "pygments_lexer": "ipython3",
   "version": "3.5.1"
  }
 },
 "nbformat": 4,
 "nbformat_minor": 0
}
