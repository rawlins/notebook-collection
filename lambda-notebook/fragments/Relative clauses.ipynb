{
 "cells": [
  {
   "cell_type": "markdown",
   "metadata": {},
   "source": [
    "# Relative clauses\n",
    "## Author: Kyle Rawlins\n",
    "\n",
    "This notebook goes through the analysis of relative clauses in Heim & Kratzer (1998), \"Semantics in generative grammar\"."
   ]
  },
  {
   "cell_type": "code",
   "execution_count": 1,
   "metadata": {},
   "outputs": [
    {
     "data": {
      "text/html": [
       "Composition system 'H&K Tree version'<br />Operations: {<br />&nbsp;&nbsp;&nbsp;&nbsp;Tree composition rule <i>FA/left</i>, built on python function 'lamb.lang.tree_left_fa_fun'<br />&nbsp;&nbsp;&nbsp;&nbsp;Tree composition rule <i>FA/right</i>, built on python function 'lamb.lang.tree_right_fa_fun'<br />&nbsp;&nbsp;&nbsp;&nbsp;Tree composition rule <i>PM</i>, built on python function 'lamb.lang.tree_pm_fun'<br />&nbsp;&nbsp;&nbsp;&nbsp;Tree composition rule <i>PA</i>, built on python function 'lamb.lang.tree_pa_sbc_fun'<br />&nbsp;&nbsp;&nbsp;&nbsp;Tree composition rule <i>NN</i>, built on python function 'lamb.lang.tree_nn_fun'<br />&nbsp;&nbsp;&nbsp;&nbsp;Lexicon lookup<br />}"
      ],
      "text/plain": [
       "Composition system: H&K Tree version"
      ]
     },
     "execution_count": 1,
     "metadata": {},
     "output_type": "execute_result"
    }
   ],
   "source": [
    "reload_lamb()\n",
    "composition_system = lang.hk3_system.copy()\n",
    "lang.set_system(composition_system)\n",
    "composition_system"
   ]
  },
  {
   "cell_type": "code",
   "execution_count": 2,
   "metadata": {},
   "outputs": [
    {
     "name": "stdout",
     "output_type": "stream",
     "text": [
      "INFO (meta): Coerced guessed type for 'Gray_t' into <e,t>, to match argument 'x_e'\n",
      "INFO (meta): Coerced guessed type for 'Cat_t' into <e,t>, to match argument 'x_e'\n",
      "INFO (meta): Coerced guessed type for 'Likes_t' into <(e,e),t>, to match argument '(y_e, x_e)'\n"
     ]
    },
    {
     "data": {
      "text/html": [
       "$[\\![\\mathbf{\\text{gray}}]\\!]^{}_{\\left\\langle{}e,t\\right\\rangle{}} \\:=\\: $$\\lambda{} x_{e} \\: . \\: {Gray}({x})$<br />\n",
       "$[\\![\\mathbf{\\text{cat}}]\\!]^{}_{\\left\\langle{}e,t\\right\\rangle{}} \\:=\\: $$\\lambda{} x_{e} \\: . \\: {Cat}({x})$<br />\n",
       "$[\\![\\mathbf{\\text{bill}}]\\!]^{}_{e} \\:=\\: $${Bill}_{e}$<br />\n",
       "$[\\![\\mathbf{\\text{likes}}]\\!]^{}_{\\left\\langle{}e,\\left\\langle{}e,t\\right\\rangle{}\\right\\rangle{}} \\:=\\: $$\\lambda{} x_{e} \\: . \\: \\lambda{} y_{e} \\: . \\: {Likes}({y}, {x})$"
      ],
      "text/latex": [
       "$[\\![\\mathbf{\\text{gray}}]\\!]^{}_{\\left\\langle{}e,t\\right\\rangle{}} \\:=\\: $$\\lambda{} x_{e} \\: . \\: {Gray}({x})$<br />\n",
       "$[\\![\\mathbf{\\text{cat}}]\\!]^{}_{\\left\\langle{}e,t\\right\\rangle{}} \\:=\\: $$\\lambda{} x_{e} \\: . \\: {Cat}({x})$<br />\n",
       "$[\\![\\mathbf{\\text{bill}}]\\!]^{}_{e} \\:=\\: $${Bill}_{e}$<br />\n",
       "$[\\![\\mathbf{\\text{likes}}]\\!]^{}_{\\left\\langle{}e,\\left\\langle{}e,t\\right\\rangle{}\\right\\rangle{}} \\:=\\: $$\\lambda{} x_{e} \\: . \\: \\lambda{} y_{e} \\: . \\: {Likes}({y}, {x})$"
      ],
      "text/plain": [
       "$[\\![\\mathbf{\\text{gray}}]\\!]^{}_{\\left\\langle{}e,t\\right\\rangle{}} \\:=\\: $$\\lambda{} x_{e} \\: . \\: {Gray}({x})$<br />\n",
       "$[\\![\\mathbf{\\text{cat}}]\\!]^{}_{\\left\\langle{}e,t\\right\\rangle{}} \\:=\\: $$\\lambda{} x_{e} \\: . \\: {Cat}({x})$<br />\n",
       "$[\\![\\mathbf{\\text{bill}}]\\!]^{}_{e} \\:=\\: $${Bill}_{e}$<br />\n",
       "$[\\![\\mathbf{\\text{likes}}]\\!]^{}_{\\left\\langle{}e,\\left\\langle{}e,t\\right\\rangle{}\\right\\rangle{}} \\:=\\: $$\\lambda{} x_{e} \\: . \\: \\lambda{} y_{e} \\: . \\: {Likes}({y}, {x})$"
      ]
     },
     "execution_count": 2,
     "metadata": {},
     "output_type": "execute_result"
    }
   ],
   "source": [
    "%%lamb reset\n",
    "||gray|| = lambda x_e : Gray(x)\n",
    "||cat|| = lambda x_e : Cat(x)\n",
    "||bill|| = Bill_e\n",
    "||likes|| = lambda x_e : lambda y_e : Likes(y,x)"
   ]
  },
  {
   "cell_type": "code",
   "execution_count": 3,
   "metadata": {},
   "outputs": [
    {
     "data": {
      "text/html": [
       "1 composition path.  Result:\n",
       "<br />&nbsp;&nbsp;&nbsp;&nbsp;[0]: $[\\![\\mathbf{\\text{[gray cat]}}]\\!]^{}_{\\left\\langle{}e,t\\right\\rangle{}} \\:=\\: $$\\lambda{} x_{e} \\: . \\: ({Gray}({x}) \\wedge{} {Cat}({x}))$"
      ],
      "text/plain": [
       "CompositionTree('[gray cat]', [CompositionTree('gray', []), CompositionTree('cat', [])])"
      ]
     },
     "execution_count": 3,
     "metadata": {},
     "output_type": "execute_result"
    }
   ],
   "source": [
    "gray * cat"
   ]
  },
  {
   "cell_type": "markdown",
   "metadata": {},
   "source": [
    "What is needed for variable binding?  This takes two parts:\n",
    "\n",
    " * specialized Item classes for the binder and the traces/variables.\n",
    " * code to actually perform predicate abstraction.\n",
    " \n",
    "Both of these are provided as part of `lamb.lang`, in the form of the classes `Binder`, `Trace`, and `IndexedPronoun`, as well as several version of predicate abstraction.  The current composition system is using `lamb.lang.tree_pa_metalanguage_fun`, if you are curious.  (Side note: PA rules in the lambda notebook may not work as you expect; they operate by using variables named with a particular syntax and assignment functions in the metalanguage, rather than assignments for the object language.)"
   ]
  },
  {
   "cell_type": "markdown",
   "metadata": {},
   "source": [
    "Now let's use these things.  Binders and traces can easily be constructed around numeric indices, and used anywhere you would use a regular lexical item:"
   ]
  },
  {
   "cell_type": "code",
   "execution_count": 4,
   "metadata": {},
   "outputs": [
    {
     "data": {
      "text/html": [
       "$[\\![\\mathbf{\\text{t}}_{5}]\\!]^{}_{e} \\:=\\: $${var5}_{e}$"
      ],
      "text/latex": [
       "$[\\![\\mathbf{\\text{t}}_{5}]\\!]^{}_{e} \\:=\\: $${var5}_{e}$"
      ],
      "text/plain": [
       "⟦t5⟧ = var5_e"
      ]
     },
     "execution_count": 4,
     "metadata": {},
     "output_type": "execute_result"
    }
   ],
   "source": [
    "b = lang.Binder(5)\n",
    "t = lang.Trace(5)\n",
    "t"
   ]
  },
  {
   "cell_type": "code",
   "execution_count": 5,
   "metadata": {},
   "outputs": [
    {
     "data": {
      "text/html": [
       "1 composition path:<br /><div align=\"center\" style=\"display:table; margin:5px; border-collapse: collapse;border: 1px solid #848482;\"><div align=\"center\" style=\"display:table-row;\"><div style=\"display:table-cell;vertical-align:middle;\"><div style=\"display: table;\"><div style=\"display:table-cell;vertical-align:middle;padding: 5px;\"><div align=\"left\" style=\"padding: 5px;display: inline-block;\"><div><div align=\"center\" style=\"display: block;\"><span>$[\\![\\mathbf{\\text{5}}]\\!]^{}$</span></div><div align=\"center\" style=\"display: block;\"><span>N/A</span></div></div></div></div><div style=\"align: center; vertical-align: middle; display: table-cell;\"><span style=\"padding:1em;\">$\\circ$</span></div><div style=\"display:table-cell;vertical-align:middle;padding: 5px;\"><div align=\"left\" style=\"padding: 5px;display: inline-block;\"><div align=\"left\" style=\"padding: 5px;display: inline-block;\"><div><div align=\"center\" style=\"display: block;\"><span>$[\\![\\mathbf{\\text{t}}_{5}]\\!]^{}_{e}$</span></div><div align=\"center\" style=\"display: block;\"><span>${var5}_{e}$</span></div></div></div></div></div></div></div><div style=\"display:table-cell;vertical-align:middle;border-left:1px solid #848482;padding:0.5em\"><div style=\"color:blue;\"><b>[<span>PA</span>]</b></div></div></div><div align=\"center\" style=\"display:table-row; border:1px solid #848482;padding: 5px;\"><div align=\"center\" style=\"padding: 5px;display: inline-block;\"><div><div align=\"center\" style=\"display: block;\"><span>$[\\![\\mathbf{\\text{[5 t5]}}]\\!]^{}_{\\left\\langle{}e,e\\right\\rangle{}}$</span></div><div align=\"center\" style=\"display: block;\"><span>$\\lambda{} var5_{e} \\: . \\: {var5}$</span></div></div></div></div></div><br /><br />"
      ],
      "text/latex": [
       "1 composition path:<br /><div align=\"center\" style=\"display:table; margin:5px; border-collapse: collapse;border: 1px solid #848482;\"><div align=\"center\" style=\"display:table-row;\"><div style=\"display:table-cell;vertical-align:middle;\"><div style=\"display: table;\"><div style=\"display:table-cell;vertical-align:middle;padding: 5px;\"><div align=\"left\" style=\"padding: 5px;display: inline-block;\"><div><div align=\"center\" style=\"display: block;\"><span>$[\\![\\mathbf{\\text{5}}]\\!]^{}$</span></div><div align=\"center\" style=\"display: block;\"><span>N/A</span></div></div></div></div><div style=\"align: center; vertical-align: middle; display: table-cell;\"><span style=\"padding:1em;\">$\\circ$</span></div><div style=\"display:table-cell;vertical-align:middle;padding: 5px;\"><div align=\"left\" style=\"padding: 5px;display: inline-block;\"><div align=\"left\" style=\"padding: 5px;display: inline-block;\"><div><div align=\"center\" style=\"display: block;\"><span>$[\\![\\mathbf{\\text{t}}_{5}]\\!]^{}_{e}$</span></div><div align=\"center\" style=\"display: block;\"><span>${var5}_{e}$</span></div></div></div></div></div></div></div><div style=\"display:table-cell;vertical-align:middle;border-left:1px solid #848482;padding:0.5em\"><div style=\"color:blue;\"><b>[<span>PA</span>]</b></div></div></div><div align=\"center\" style=\"display:table-row; border:1px solid #848482;padding: 5px;\"><div align=\"center\" style=\"padding: 5px;display: inline-block;\"><div><div align=\"center\" style=\"display: block;\"><span>$[\\![\\mathbf{\\text{[5 t5]}}]\\!]^{}_{\\left\\langle{}e,e\\right\\rangle{}}$</span></div><div align=\"center\" style=\"display: block;\"><span>$\\lambda{} var5_{e} \\: . \\: {var5}$</span></div></div></div></div></div><br /><br />"
      ],
      "text/plain": [
       "1 composition path:<br /><div align=\"center\" style=\"display:table; margin:5px; border-collapse: collapse;border: 1px solid #848482;\"><div align=\"center\" style=\"display:table-row;\"><div style=\"display:table-cell;vertical-align:middle;\"><div style=\"display: table;\"><div style=\"display:table-cell;vertical-align:middle;padding: 5px;\"><div align=\"left\" style=\"padding: 5px;display: inline-block;\"><div><div align=\"center\" style=\"display: block;\"><span>$[\\![\\mathbf{\\text{5}}]\\!]^{}$</span></div><div align=\"center\" style=\"display: block;\"><span>N/A</span></div></div></div></div><div style=\"align: center; vertical-align: middle; display: table-cell;\"><span style=\"padding:1em;\">$\\circ$</span></div><div style=\"display:table-cell;vertical-align:middle;padding: 5px;\"><div align=\"left\" style=\"padding: 5px;display: inline-block;\"><div align=\"left\" style=\"padding: 5px;display: inline-block;\"><div><div align=\"center\" style=\"display: block;\"><span>$[\\![\\mathbf{\\text{t}}_{5}]\\!]^{}_{e}$</span></div><div align=\"center\" style=\"display: block;\"><span>${var5}_{e}$</span></div></div></div></div></div></div></div><div style=\"display:table-cell;vertical-align:middle;border-left:1px solid #848482;padding:0.5em\"><div style=\"color:blue;\"><b>[<span>PA</span>]</b></div></div></div><div align=\"center\" style=\"display:table-row; border:1px solid #848482;padding: 5px;\"><div align=\"center\" style=\"padding: 5px;display: inline-block;\"><div><div align=\"center\" style=\"display: block;\"><span>$[\\![\\mathbf{\\text{[5 t5]}}]\\!]^{}_{\\left\\langle{}e,e\\right\\rangle{}}$</span></div><div align=\"center\" style=\"display: block;\"><span>$\\lambda{} var5_{e} \\: . \\: {var5}$</span></div></div></div></div></div><br /><br />"
      ]
     },
     "execution_count": 5,
     "metadata": {},
     "output_type": "execute_result"
    }
   ],
   "source": [
    "(b * t).paths()"
   ]
  },
  {
   "cell_type": "code",
   "execution_count": 6,
   "metadata": {},
   "outputs": [
    {
     "data": {
      "text/html": [
       "1 composition path.  Result:\n",
       "<br />&nbsp;&nbsp;&nbsp;&nbsp;[0]: $[\\![\\mathbf{\\text{[bill [likes t5]]}}]\\!]^{}_{t} \\:=\\: $${Likes}({Bill}_{e}, {var5}_{e})$"
      ],
      "text/plain": [
       "CompositionTree('[bill [likes t5]]', [CompositionTree('bill', []), CompositionTree('[likes t5]', [CompositionTree('likes', []), CompositionTree('t5', [])])])"
      ]
     },
     "execution_count": 6,
     "metadata": {},
     "output_type": "execute_result"
    }
   ],
   "source": [
    "bill * (likes * t)"
   ]
  },
  {
   "cell_type": "markdown",
   "metadata": {},
   "source": [
    "A simple relative clause like \"that Bill likes\" can be represented as follows:"
   ]
  },
  {
   "cell_type": "code",
   "execution_count": 7,
   "metadata": {},
   "outputs": [
    {
     "data": {
      "text/html": [
       "1 composition path.  Result:\n",
       "<br />&nbsp;&nbsp;&nbsp;&nbsp;[0]: $[\\![\\mathbf{\\text{[5 [bill [likes t5]]]}}]\\!]^{}_{\\left\\langle{}e,t\\right\\rangle{}} \\:=\\: $$\\lambda{} var5_{e} \\: . \\: {Likes}({Bill}_{e}, {var5})$"
      ],
      "text/plain": [
       "CompositionTree('[5 [bill [likes t5]]]', [CompositionTree('5', []), CompositionTree('[bill [likes t5]]', [CompositionTree('bill', []), CompositionTree('[likes t5]', [CompositionTree('likes', []), CompositionTree('t5', [])])])])"
      ]
     },
     "execution_count": 7,
     "metadata": {},
     "output_type": "execute_result"
    }
   ],
   "source": [
    "r = b * (bill * (likes * t))\n",
    "r"
   ]
  },
  {
   "cell_type": "markdown",
   "metadata": {},
   "source": [
    "This would compose with a NP via Predicate Modification."
   ]
  },
  {
   "cell_type": "code",
   "execution_count": 8,
   "metadata": {},
   "outputs": [
    {
     "data": {
      "text/html": [
       "1 composition path.  Result:\n",
       "<br />&nbsp;&nbsp;&nbsp;&nbsp;[0]: $[\\![\\mathbf{\\text{[gray [cat [5 [bill [likes t5]]]]]}}]\\!]^{}_{\\left\\langle{}e,t\\right\\rangle{}} \\:=\\: $$\\lambda{} x_{e} \\: . \\: ({Gray}({x}) \\wedge{} ({Cat}({x}) \\wedge{} {Likes}({Bill}_{e}, {x})))$"
      ],
      "text/plain": [
       "CompositionTree('[gray [cat [5 [bill [likes t5]]]]]', [CompositionTree('gray', []), CompositionTree('[cat [5 [bill [likes t5]]]]', [CompositionTree('cat', []), CompositionTree('[5 [bill [likes t5]]]', [CompositionTree('5', []), CompositionTree('[bill [likes t5]]', [CompositionTree('bill', []), CompositionTree('[likes t5]', [CompositionTree('likes', []), CompositionTree('t5', [])])])])])])"
      ]
     },
     "execution_count": 8,
     "metadata": {},
     "output_type": "execute_result"
    }
   ],
   "source": [
    "r = gray * (cat * (b * (bill * (likes * t))))\n",
    "r"
   ]
  },
  {
   "cell_type": "code",
   "execution_count": 9,
   "metadata": {},
   "outputs": [
    {
     "data": {
      "text/html": [
       "1 composition path:<br /><div align=\"center\" style=\"display:table; margin:5px; border-collapse: collapse;border: 1px solid #848482;\"><div align=\"center\" style=\"display:table-row;\"><div style=\"display:table-cell;vertical-align:middle;\"><div style=\"display: table;\"><div style=\"display:table-cell;vertical-align:middle;padding: 5px;\"><div align=\"left\" style=\"padding: 5px;display: inline-block;\"><div align=\"left\" style=\"padding: 5px;display: inline-block;\"><div><div align=\"center\" style=\"display: block;\"><span>$[\\![\\mathbf{\\text{gray}}]\\!]^{}_{\\left\\langle{}e,t\\right\\rangle{}}$</span></div><div align=\"center\" style=\"display: block;\"><span>$\\lambda{} x_{e} \\: . \\: {Gray}({x})$</span></div></div></div></div></div><div style=\"align: center; vertical-align: middle; display: table-cell;\"><span style=\"padding:1em;\">$\\circ$</span></div><div style=\"display:table-cell;vertical-align:middle;padding: 5px;\"><div align=\"center\" style=\"display:table; margin:5px; border-collapse: collapse;border: 1px solid #848482;\"><div align=\"center\" style=\"display:table-row;\"><div style=\"display:table-cell;vertical-align:middle;\"><div style=\"display: table;\"><div style=\"display:table-cell;vertical-align:middle;padding: 5px;\"><div align=\"left\" style=\"padding: 5px;display: inline-block;\"><div align=\"left\" style=\"padding: 5px;display: inline-block;\"><div><div align=\"center\" style=\"display: block;\"><span>$[\\![\\mathbf{\\text{cat}}]\\!]^{}_{\\left\\langle{}e,t\\right\\rangle{}}$</span></div><div align=\"center\" style=\"display: block;\"><span>$\\lambda{} x_{e} \\: . \\: {Cat}({x})$</span></div></div></div></div></div><div style=\"align: center; vertical-align: middle; display: table-cell;\"><span style=\"padding:1em;\">$\\circ$</span></div><div style=\"display:table-cell;vertical-align:middle;padding: 5px;\"><div align=\"center\" style=\"display:table; margin:5px; border-collapse: collapse;border: 1px solid #848482;\"><div align=\"center\" style=\"display:table-row;\"><div style=\"display:table-cell;vertical-align:middle;\"><div style=\"display: table;\"><div style=\"display:table-cell;vertical-align:middle;padding: 5px;\"><div align=\"left\" style=\"padding: 5px;display: inline-block;\"><div><div align=\"center\" style=\"display: block;\"><span>$[\\![\\mathbf{\\text{5}}]\\!]^{}$</span></div><div align=\"center\" style=\"display: block;\"><span>N/A</span></div></div></div></div><div style=\"align: center; vertical-align: middle; display: table-cell;\"><span style=\"padding:1em;\">$\\circ$</span></div><div style=\"display:table-cell;vertical-align:middle;padding: 5px;\"><div align=\"center\" style=\"display:table; margin:5px; border-collapse: collapse;border: 1px solid #848482;\"><div align=\"center\" style=\"display:table-row;\"><div style=\"display:table-cell;vertical-align:middle;\"><div style=\"display: table;\"><div style=\"display:table-cell;vertical-align:middle;padding: 5px;\"><div align=\"left\" style=\"padding: 5px;display: inline-block;\"><div align=\"left\" style=\"padding: 5px;display: inline-block;\"><div><div align=\"center\" style=\"display: block;\"><span>$[\\![\\mathbf{\\text{bill}}]\\!]^{}_{e}$</span></div><div align=\"center\" style=\"display: block;\"><span>${Bill}_{e}$</span></div></div></div></div></div><div style=\"align: center; vertical-align: middle; display: table-cell;\"><span style=\"padding:1em;\">$\\circ$</span></div><div style=\"display:table-cell;vertical-align:middle;padding: 5px;\"><div align=\"center\" style=\"display:table; margin:5px; border-collapse: collapse;border: 1px solid #848482;\"><div align=\"center\" style=\"display:table-row;\"><div style=\"display:table-cell;vertical-align:middle;\"><div style=\"display: table;\"><div style=\"display:table-cell;vertical-align:middle;padding: 5px;\"><div align=\"left\" style=\"padding: 5px;display: inline-block;\"><div align=\"left\" style=\"padding: 5px;display: inline-block;\"><div><div align=\"center\" style=\"display: block;\"><span>$[\\![\\mathbf{\\text{likes}}]\\!]^{}_{\\left\\langle{}e,\\left\\langle{}e,t\\right\\rangle{}\\right\\rangle{}}$</span></div><div align=\"center\" style=\"display: block;\"><span>$\\lambda{} x_{e} \\: . \\: \\lambda{} y_{e} \\: . \\: {Likes}({y}, {x})$</span></div></div></div></div></div><div style=\"align: center; vertical-align: middle; display: table-cell;\"><span style=\"padding:1em;\">$\\circ$</span></div><div style=\"display:table-cell;vertical-align:middle;padding: 5px;\"><div align=\"left\" style=\"padding: 5px;display: inline-block;\"><div align=\"left\" style=\"padding: 5px;display: inline-block;\"><div><div align=\"center\" style=\"display: block;\"><span>$[\\![\\mathbf{\\text{t}}_{5}]\\!]^{}_{e}$</span></div><div align=\"center\" style=\"display: block;\"><span>${var5}_{e}$</span></div></div></div></div></div></div></div><div style=\"display:table-cell;vertical-align:middle;border-left:1px solid #848482;padding:0.5em\"><div style=\"color:blue;\"><b>[<span>FA/left</span>]</b></div></div></div><div align=\"center\" style=\"display:table-row; border:1px solid #848482;padding: 5px;\"><div align=\"center\" style=\"padding: 5px;display: inline-block;\"><div><div align=\"center\" style=\"display: block;\"><span>$[\\![\\mathbf{\\text{[likes t5]}}]\\!]^{}_{\\left\\langle{}e,t\\right\\rangle{}}$</span></div><div align=\"center\" style=\"display: block;\"><span>$\\lambda{} y_{e} \\: . \\: {Likes}({y}, {var5}_{e})$</span></div></div></div></div></div></div></div></div><div style=\"display:table-cell;vertical-align:middle;border-left:1px solid #848482;padding:0.5em\"><div style=\"color:blue;\"><b>[<span>FA/right</span>]</b></div></div></div><div align=\"center\" style=\"display:table-row; border:1px solid #848482;padding: 5px;\"><div align=\"center\" style=\"padding: 5px;display: inline-block;\"><div><div align=\"center\" style=\"display: block;\"><span>$[\\![\\mathbf{\\text{[bill [likes t5]]}}]\\!]^{}_{t}$</span></div><div align=\"center\" style=\"display: block;\"><span>${Likes}({Bill}_{e}, {var5}_{e})$</span></div></div></div></div></div></div></div></div><div style=\"display:table-cell;vertical-align:middle;border-left:1px solid #848482;padding:0.5em\"><div style=\"color:blue;\"><b>[<span>PA</span>]</b></div></div></div><div align=\"center\" style=\"display:table-row; border:1px solid #848482;padding: 5px;\"><div align=\"center\" style=\"padding: 5px;display: inline-block;\"><div><div align=\"center\" style=\"display: block;\"><span>$[\\![\\mathbf{\\text{[5 [bill [likes t5]]]}}]\\!]^{}_{\\left\\langle{}e,t\\right\\rangle{}}$</span></div><div align=\"center\" style=\"display: block;\"><span>$\\lambda{} var5_{e} \\: . \\: {Likes}({Bill}_{e}, {var5})$</span></div></div></div></div></div></div></div></div><div style=\"display:table-cell;vertical-align:middle;border-left:1px solid #848482;padding:0.5em\"><div style=\"color:blue;\"><b>[<span>PM</span>]</b></div></div></div><div align=\"center\" style=\"display:table-row; border:1px solid #848482;padding: 5px;\"><div align=\"center\" style=\"padding: 5px;display: inline-block;\"><div><div align=\"center\" style=\"display: block;\"><span>$[\\![\\mathbf{\\text{[cat [5 [bill [likes t5]]]]}}]\\!]^{}_{\\left\\langle{}e,t\\right\\rangle{}}$</span></div><div align=\"center\" style=\"display: block;\"><span>$\\lambda{} x_{e} \\: . \\: ({Cat}({x}) \\wedge{} {Likes}({Bill}_{e}, {x}))$</span></div></div></div></div></div></div></div></div><div style=\"display:table-cell;vertical-align:middle;border-left:1px solid #848482;padding:0.5em\"><div style=\"color:blue;\"><b>[<span>PM</span>]</b></div></div></div><div align=\"center\" style=\"display:table-row; border:1px solid #848482;padding: 5px;\"><div align=\"center\" style=\"padding: 5px;display: inline-block;\"><div><div align=\"center\" style=\"display: block;\"><span>$[\\![\\mathbf{\\text{[gray [cat [5 [bill [likes t5]]]]]}}]\\!]^{}_{\\left\\langle{}e,t\\right\\rangle{}}$</span></div><div align=\"center\" style=\"display: block;\"><span>$\\lambda{} x_{e} \\: . \\: ({Gray}({x}) \\wedge{} ({Cat}({x}) \\wedge{} {Likes}({Bill}_{e}, {x})))$</span></div></div></div></div></div><br /><br />"
      ],
      "text/latex": [
       "1 composition path:<br /><div align=\"center\" style=\"display:table; margin:5px; border-collapse: collapse;border: 1px solid #848482;\"><div align=\"center\" style=\"display:table-row;\"><div style=\"display:table-cell;vertical-align:middle;\"><div style=\"display: table;\"><div style=\"display:table-cell;vertical-align:middle;padding: 5px;\"><div align=\"left\" style=\"padding: 5px;display: inline-block;\"><div align=\"left\" style=\"padding: 5px;display: inline-block;\"><div><div align=\"center\" style=\"display: block;\"><span>$[\\![\\mathbf{\\text{gray}}]\\!]^{}_{\\left\\langle{}e,t\\right\\rangle{}}$</span></div><div align=\"center\" style=\"display: block;\"><span>$\\lambda{} x_{e} \\: . \\: {Gray}({x})$</span></div></div></div></div></div><div style=\"align: center; vertical-align: middle; display: table-cell;\"><span style=\"padding:1em;\">$\\circ$</span></div><div style=\"display:table-cell;vertical-align:middle;padding: 5px;\"><div align=\"center\" style=\"display:table; margin:5px; border-collapse: collapse;border: 1px solid #848482;\"><div align=\"center\" style=\"display:table-row;\"><div style=\"display:table-cell;vertical-align:middle;\"><div style=\"display: table;\"><div style=\"display:table-cell;vertical-align:middle;padding: 5px;\"><div align=\"left\" style=\"padding: 5px;display: inline-block;\"><div align=\"left\" style=\"padding: 5px;display: inline-block;\"><div><div align=\"center\" style=\"display: block;\"><span>$[\\![\\mathbf{\\text{cat}}]\\!]^{}_{\\left\\langle{}e,t\\right\\rangle{}}$</span></div><div align=\"center\" style=\"display: block;\"><span>$\\lambda{} x_{e} \\: . \\: {Cat}({x})$</span></div></div></div></div></div><div style=\"align: center; vertical-align: middle; display: table-cell;\"><span style=\"padding:1em;\">$\\circ$</span></div><div style=\"display:table-cell;vertical-align:middle;padding: 5px;\"><div align=\"center\" style=\"display:table; margin:5px; border-collapse: collapse;border: 1px solid #848482;\"><div align=\"center\" style=\"display:table-row;\"><div style=\"display:table-cell;vertical-align:middle;\"><div style=\"display: table;\"><div style=\"display:table-cell;vertical-align:middle;padding: 5px;\"><div align=\"left\" style=\"padding: 5px;display: inline-block;\"><div><div align=\"center\" style=\"display: block;\"><span>$[\\![\\mathbf{\\text{5}}]\\!]^{}$</span></div><div align=\"center\" style=\"display: block;\"><span>N/A</span></div></div></div></div><div style=\"align: center; vertical-align: middle; display: table-cell;\"><span style=\"padding:1em;\">$\\circ$</span></div><div style=\"display:table-cell;vertical-align:middle;padding: 5px;\"><div align=\"center\" style=\"display:table; margin:5px; border-collapse: collapse;border: 1px solid #848482;\"><div align=\"center\" style=\"display:table-row;\"><div style=\"display:table-cell;vertical-align:middle;\"><div style=\"display: table;\"><div style=\"display:table-cell;vertical-align:middle;padding: 5px;\"><div align=\"left\" style=\"padding: 5px;display: inline-block;\"><div align=\"left\" style=\"padding: 5px;display: inline-block;\"><div><div align=\"center\" style=\"display: block;\"><span>$[\\![\\mathbf{\\text{bill}}]\\!]^{}_{e}$</span></div><div align=\"center\" style=\"display: block;\"><span>${Bill}_{e}$</span></div></div></div></div></div><div style=\"align: center; vertical-align: middle; display: table-cell;\"><span style=\"padding:1em;\">$\\circ$</span></div><div style=\"display:table-cell;vertical-align:middle;padding: 5px;\"><div align=\"center\" style=\"display:table; margin:5px; border-collapse: collapse;border: 1px solid #848482;\"><div align=\"center\" style=\"display:table-row;\"><div style=\"display:table-cell;vertical-align:middle;\"><div style=\"display: table;\"><div style=\"display:table-cell;vertical-align:middle;padding: 5px;\"><div align=\"left\" style=\"padding: 5px;display: inline-block;\"><div align=\"left\" style=\"padding: 5px;display: inline-block;\"><div><div align=\"center\" style=\"display: block;\"><span>$[\\![\\mathbf{\\text{likes}}]\\!]^{}_{\\left\\langle{}e,\\left\\langle{}e,t\\right\\rangle{}\\right\\rangle{}}$</span></div><div align=\"center\" style=\"display: block;\"><span>$\\lambda{} x_{e} \\: . \\: \\lambda{} y_{e} \\: . \\: {Likes}({y}, {x})$</span></div></div></div></div></div><div style=\"align: center; vertical-align: middle; display: table-cell;\"><span style=\"padding:1em;\">$\\circ$</span></div><div style=\"display:table-cell;vertical-align:middle;padding: 5px;\"><div align=\"left\" style=\"padding: 5px;display: inline-block;\"><div align=\"left\" style=\"padding: 5px;display: inline-block;\"><div><div align=\"center\" style=\"display: block;\"><span>$[\\![\\mathbf{\\text{t}}_{5}]\\!]^{}_{e}$</span></div><div align=\"center\" style=\"display: block;\"><span>${var5}_{e}$</span></div></div></div></div></div></div></div><div style=\"display:table-cell;vertical-align:middle;border-left:1px solid #848482;padding:0.5em\"><div style=\"color:blue;\"><b>[<span>FA/left</span>]</b></div></div></div><div align=\"center\" style=\"display:table-row; border:1px solid #848482;padding: 5px;\"><div align=\"center\" style=\"padding: 5px;display: inline-block;\"><div><div align=\"center\" style=\"display: block;\"><span>$[\\![\\mathbf{\\text{[likes t5]}}]\\!]^{}_{\\left\\langle{}e,t\\right\\rangle{}}$</span></div><div align=\"center\" style=\"display: block;\"><span>$\\lambda{} y_{e} \\: . \\: {Likes}({y}, {var5}_{e})$</span></div></div></div></div></div></div></div></div><div style=\"display:table-cell;vertical-align:middle;border-left:1px solid #848482;padding:0.5em\"><div style=\"color:blue;\"><b>[<span>FA/right</span>]</b></div></div></div><div align=\"center\" style=\"display:table-row; border:1px solid #848482;padding: 5px;\"><div align=\"center\" style=\"padding: 5px;display: inline-block;\"><div><div align=\"center\" style=\"display: block;\"><span>$[\\![\\mathbf{\\text{[bill [likes t5]]}}]\\!]^{}_{t}$</span></div><div align=\"center\" style=\"display: block;\"><span>${Likes}({Bill}_{e}, {var5}_{e})$</span></div></div></div></div></div></div></div></div><div style=\"display:table-cell;vertical-align:middle;border-left:1px solid #848482;padding:0.5em\"><div style=\"color:blue;\"><b>[<span>PA</span>]</b></div></div></div><div align=\"center\" style=\"display:table-row; border:1px solid #848482;padding: 5px;\"><div align=\"center\" style=\"padding: 5px;display: inline-block;\"><div><div align=\"center\" style=\"display: block;\"><span>$[\\![\\mathbf{\\text{[5 [bill [likes t5]]]}}]\\!]^{}_{\\left\\langle{}e,t\\right\\rangle{}}$</span></div><div align=\"center\" style=\"display: block;\"><span>$\\lambda{} var5_{e} \\: . \\: {Likes}({Bill}_{e}, {var5})$</span></div></div></div></div></div></div></div></div><div style=\"display:table-cell;vertical-align:middle;border-left:1px solid #848482;padding:0.5em\"><div style=\"color:blue;\"><b>[<span>PM</span>]</b></div></div></div><div align=\"center\" style=\"display:table-row; border:1px solid #848482;padding: 5px;\"><div align=\"center\" style=\"padding: 5px;display: inline-block;\"><div><div align=\"center\" style=\"display: block;\"><span>$[\\![\\mathbf{\\text{[cat [5 [bill [likes t5]]]]}}]\\!]^{}_{\\left\\langle{}e,t\\right\\rangle{}}$</span></div><div align=\"center\" style=\"display: block;\"><span>$\\lambda{} x_{e} \\: . \\: ({Cat}({x}) \\wedge{} {Likes}({Bill}_{e}, {x}))$</span></div></div></div></div></div></div></div></div><div style=\"display:table-cell;vertical-align:middle;border-left:1px solid #848482;padding:0.5em\"><div style=\"color:blue;\"><b>[<span>PM</span>]</b></div></div></div><div align=\"center\" style=\"display:table-row; border:1px solid #848482;padding: 5px;\"><div align=\"center\" style=\"padding: 5px;display: inline-block;\"><div><div align=\"center\" style=\"display: block;\"><span>$[\\![\\mathbf{\\text{[gray [cat [5 [bill [likes t5]]]]]}}]\\!]^{}_{\\left\\langle{}e,t\\right\\rangle{}}$</span></div><div align=\"center\" style=\"display: block;\"><span>$\\lambda{} x_{e} \\: . \\: ({Gray}({x}) \\wedge{} ({Cat}({x}) \\wedge{} {Likes}({Bill}_{e}, {x})))$</span></div></div></div></div></div><br /><br />"
      ],
      "text/plain": [
       "1 composition path:<br /><div align=\"center\" style=\"display:table; margin:5px; border-collapse: collapse;border: 1px solid #848482;\"><div align=\"center\" style=\"display:table-row;\"><div style=\"display:table-cell;vertical-align:middle;\"><div style=\"display: table;\"><div style=\"display:table-cell;vertical-align:middle;padding: 5px;\"><div align=\"left\" style=\"padding: 5px;display: inline-block;\"><div align=\"left\" style=\"padding: 5px;display: inline-block;\"><div><div align=\"center\" style=\"display: block;\"><span>$[\\![\\mathbf{\\text{gray}}]\\!]^{}_{\\left\\langle{}e,t\\right\\rangle{}}$</span></div><div align=\"center\" style=\"display: block;\"><span>$\\lambda{} x_{e} \\: . \\: {Gray}({x})$</span></div></div></div></div></div><div style=\"align: center; vertical-align: middle; display: table-cell;\"><span style=\"padding:1em;\">$\\circ$</span></div><div style=\"display:table-cell;vertical-align:middle;padding: 5px;\"><div align=\"center\" style=\"display:table; margin:5px; border-collapse: collapse;border: 1px solid #848482;\"><div align=\"center\" style=\"display:table-row;\"><div style=\"display:table-cell;vertical-align:middle;\"><div style=\"display: table;\"><div style=\"display:table-cell;vertical-align:middle;padding: 5px;\"><div align=\"left\" style=\"padding: 5px;display: inline-block;\"><div align=\"left\" style=\"padding: 5px;display: inline-block;\"><div><div align=\"center\" style=\"display: block;\"><span>$[\\![\\mathbf{\\text{cat}}]\\!]^{}_{\\left\\langle{}e,t\\right\\rangle{}}$</span></div><div align=\"center\" style=\"display: block;\"><span>$\\lambda{} x_{e} \\: . \\: {Cat}({x})$</span></div></div></div></div></div><div style=\"align: center; vertical-align: middle; display: table-cell;\"><span style=\"padding:1em;\">$\\circ$</span></div><div style=\"display:table-cell;vertical-align:middle;padding: 5px;\"><div align=\"center\" style=\"display:table; margin:5px; border-collapse: collapse;border: 1px solid #848482;\"><div align=\"center\" style=\"display:table-row;\"><div style=\"display:table-cell;vertical-align:middle;\"><div style=\"display: table;\"><div style=\"display:table-cell;vertical-align:middle;padding: 5px;\"><div align=\"left\" style=\"padding: 5px;display: inline-block;\"><div><div align=\"center\" style=\"display: block;\"><span>$[\\![\\mathbf{\\text{5}}]\\!]^{}$</span></div><div align=\"center\" style=\"display: block;\"><span>N/A</span></div></div></div></div><div style=\"align: center; vertical-align: middle; display: table-cell;\"><span style=\"padding:1em;\">$\\circ$</span></div><div style=\"display:table-cell;vertical-align:middle;padding: 5px;\"><div align=\"center\" style=\"display:table; margin:5px; border-collapse: collapse;border: 1px solid #848482;\"><div align=\"center\" style=\"display:table-row;\"><div style=\"display:table-cell;vertical-align:middle;\"><div style=\"display: table;\"><div style=\"display:table-cell;vertical-align:middle;padding: 5px;\"><div align=\"left\" style=\"padding: 5px;display: inline-block;\"><div align=\"left\" style=\"padding: 5px;display: inline-block;\"><div><div align=\"center\" style=\"display: block;\"><span>$[\\![\\mathbf{\\text{bill}}]\\!]^{}_{e}$</span></div><div align=\"center\" style=\"display: block;\"><span>${Bill}_{e}$</span></div></div></div></div></div><div style=\"align: center; vertical-align: middle; display: table-cell;\"><span style=\"padding:1em;\">$\\circ$</span></div><div style=\"display:table-cell;vertical-align:middle;padding: 5px;\"><div align=\"center\" style=\"display:table; margin:5px; border-collapse: collapse;border: 1px solid #848482;\"><div align=\"center\" style=\"display:table-row;\"><div style=\"display:table-cell;vertical-align:middle;\"><div style=\"display: table;\"><div style=\"display:table-cell;vertical-align:middle;padding: 5px;\"><div align=\"left\" style=\"padding: 5px;display: inline-block;\"><div align=\"left\" style=\"padding: 5px;display: inline-block;\"><div><div align=\"center\" style=\"display: block;\"><span>$[\\![\\mathbf{\\text{likes}}]\\!]^{}_{\\left\\langle{}e,\\left\\langle{}e,t\\right\\rangle{}\\right\\rangle{}}$</span></div><div align=\"center\" style=\"display: block;\"><span>$\\lambda{} x_{e} \\: . \\: \\lambda{} y_{e} \\: . \\: {Likes}({y}, {x})$</span></div></div></div></div></div><div style=\"align: center; vertical-align: middle; display: table-cell;\"><span style=\"padding:1em;\">$\\circ$</span></div><div style=\"display:table-cell;vertical-align:middle;padding: 5px;\"><div align=\"left\" style=\"padding: 5px;display: inline-block;\"><div align=\"left\" style=\"padding: 5px;display: inline-block;\"><div><div align=\"center\" style=\"display: block;\"><span>$[\\![\\mathbf{\\text{t}}_{5}]\\!]^{}_{e}$</span></div><div align=\"center\" style=\"display: block;\"><span>${var5}_{e}$</span></div></div></div></div></div></div></div><div style=\"display:table-cell;vertical-align:middle;border-left:1px solid #848482;padding:0.5em\"><div style=\"color:blue;\"><b>[<span>FA/left</span>]</b></div></div></div><div align=\"center\" style=\"display:table-row; border:1px solid #848482;padding: 5px;\"><div align=\"center\" style=\"padding: 5px;display: inline-block;\"><div><div align=\"center\" style=\"display: block;\"><span>$[\\![\\mathbf{\\text{[likes t5]}}]\\!]^{}_{\\left\\langle{}e,t\\right\\rangle{}}$</span></div><div align=\"center\" style=\"display: block;\"><span>$\\lambda{} y_{e} \\: . \\: {Likes}({y}, {var5}_{e})$</span></div></div></div></div></div></div></div></div><div style=\"display:table-cell;vertical-align:middle;border-left:1px solid #848482;padding:0.5em\"><div style=\"color:blue;\"><b>[<span>FA/right</span>]</b></div></div></div><div align=\"center\" style=\"display:table-row; border:1px solid #848482;padding: 5px;\"><div align=\"center\" style=\"padding: 5px;display: inline-block;\"><div><div align=\"center\" style=\"display: block;\"><span>$[\\![\\mathbf{\\text{[bill [likes t5]]}}]\\!]^{}_{t}$</span></div><div align=\"center\" style=\"display: block;\"><span>${Likes}({Bill}_{e}, {var5}_{e})$</span></div></div></div></div></div></div></div></div><div style=\"display:table-cell;vertical-align:middle;border-left:1px solid #848482;padding:0.5em\"><div style=\"color:blue;\"><b>[<span>PA</span>]</b></div></div></div><div align=\"center\" style=\"display:table-row; border:1px solid #848482;padding: 5px;\"><div align=\"center\" style=\"padding: 5px;display: inline-block;\"><div><div align=\"center\" style=\"display: block;\"><span>$[\\![\\mathbf{\\text{[5 [bill [likes t5]]]}}]\\!]^{}_{\\left\\langle{}e,t\\right\\rangle{}}$</span></div><div align=\"center\" style=\"display: block;\"><span>$\\lambda{} var5_{e} \\: . \\: {Likes}({Bill}_{e}, {var5})$</span></div></div></div></div></div></div></div></div><div style=\"display:table-cell;vertical-align:middle;border-left:1px solid #848482;padding:0.5em\"><div style=\"color:blue;\"><b>[<span>PM</span>]</b></div></div></div><div align=\"center\" style=\"display:table-row; border:1px solid #848482;padding: 5px;\"><div align=\"center\" style=\"padding: 5px;display: inline-block;\"><div><div align=\"center\" style=\"display: block;\"><span>$[\\![\\mathbf{\\text{[cat [5 [bill [likes t5]]]]}}]\\!]^{}_{\\left\\langle{}e,t\\right\\rangle{}}$</span></div><div align=\"center\" style=\"display: block;\"><span>$\\lambda{} x_{e} \\: . \\: ({Cat}({x}) \\wedge{} {Likes}({Bill}_{e}, {x}))$</span></div></div></div></div></div></div></div></div><div style=\"display:table-cell;vertical-align:middle;border-left:1px solid #848482;padding:0.5em\"><div style=\"color:blue;\"><b>[<span>PM</span>]</b></div></div></div><div align=\"center\" style=\"display:table-row; border:1px solid #848482;padding: 5px;\"><div align=\"center\" style=\"padding: 5px;display: inline-block;\"><div><div align=\"center\" style=\"display: block;\"><span>$[\\![\\mathbf{\\text{[gray [cat [5 [bill [likes t5]]]]]}}]\\!]^{}_{\\left\\langle{}e,t\\right\\rangle{}}$</span></div><div align=\"center\" style=\"display: block;\"><span>$\\lambda{} x_{e} \\: . \\: ({Gray}({x}) \\wedge{} ({Cat}({x}) \\wedge{} {Likes}({Bill}_{e}, {x})))$</span></div></div></div></div></div><br /><br />"
      ]
     },
     "execution_count": 9,
     "metadata": {},
     "output_type": "execute_result"
    }
   ],
   "source": [
    "r.paths()"
   ]
  },
  {
   "cell_type": "markdown",
   "metadata": {},
   "source": [
    "Now for a very complicated example.  This is one of the more challenging examples from Heim and Kratzer, the such-that relative \"the man such that Mary reviewed a book that he wrote\"."
   ]
  },
  {
   "cell_type": "code",
   "execution_count": 10,
   "metadata": {},
   "outputs": [
    {
     "data": {
      "text/html": [
       "$[\\![\\mathbf{\\text{he}}_{2}]\\!]^{}_{e} \\:=\\: $${var2}_{e}$"
      ],
      "text/latex": [
       "$[\\![\\mathbf{\\text{he}}_{2}]\\!]^{}_{e} \\:=\\: $${var2}_{e}$"
      ],
      "text/plain": [
       "⟦he2⟧ = var2_e"
      ]
     },
     "execution_count": 10,
     "metadata": {},
     "output_type": "execute_result"
    }
   ],
   "source": [
    "he = lang.IndexedPronoun(\"he\", 2, types.type_e)\n",
    "he"
   ]
  },
  {
   "cell_type": "code",
   "execution_count": 11,
   "metadata": {},
   "outputs": [
    {
     "name": "stdout",
     "output_type": "stream",
     "text": [
      "INFO (meta): Coerced guessed type for 'Man_t' into <e,t>, to match argument 'x_e'\n",
      "INFO (meta): Coerced guessed type for 'Book_t' into <e,t>, to match argument 'x_e'\n",
      "INFO (meta): Coerced guessed type for 'Wrote_t' into <(e,e),t>, to match argument '(y_e, x_e)'\n",
      "INFO (meta): Coerced guessed type for 'Reviewed_t' into <(e,e),t>, to match argument '(y_e, x_e)'\n"
     ]
    },
    {
     "data": {
      "text/html": [
       "$[\\![\\mathbf{\\text{mary}}]\\!]^{}_{e} \\:=\\: $${Mary}_{e}$<br />\n",
       "$[\\![\\mathbf{\\text{man}}]\\!]^{}_{\\left\\langle{}e,t\\right\\rangle{}} \\:=\\: $$\\lambda{} x_{e} \\: . \\: {Man}({x})$<br />\n",
       "$[\\![\\mathbf{\\text{book}}]\\!]^{}_{\\left\\langle{}e,t\\right\\rangle{}} \\:=\\: $$\\lambda{} x_{e} \\: . \\: {Book}({x})$<br />\n",
       "$[\\![\\mathbf{\\text{wrote}}]\\!]^{}_{\\left\\langle{}e,\\left\\langle{}e,t\\right\\rangle{}\\right\\rangle{}} \\:=\\: $$\\lambda{} x_{e} \\: . \\: \\lambda{} y_{e} \\: . \\: {Wrote}({y}, {x})$<br />\n",
       "$[\\![\\mathbf{\\text{reviewed}}]\\!]^{}_{\\left\\langle{}e,\\left\\langle{}e,t\\right\\rangle{}\\right\\rangle{}} \\:=\\: $$\\lambda{} x_{e} \\: . \\: \\lambda{} y_{e} \\: . \\: {Reviewed}({y}, {x})$<br />\n",
       "$[\\![\\mathbf{\\text{that}}]\\!]^{}_{\\left\\langle{}t,t\\right\\rangle{}} \\:=\\: $$\\lambda{} p_{t} \\: . \\: {p}$<br />\n",
       "$[\\![\\mathbf{\\text{such}}]\\!]^{}_{\\left\\langle{}t,t\\right\\rangle{}} \\:=\\: $$\\lambda{} p_{t} \\: . \\: {p}$<br />\n",
       "$[\\![\\mathbf{\\text{a}}]\\!]^{}_{\\left\\langle{}\\left\\langle{}e,t\\right\\rangle{},\\left\\langle{}\\left\\langle{}e,\\left\\langle{}e,t\\right\\rangle{}\\right\\rangle{},\\left\\langle{}e,t\\right\\rangle{}\\right\\rangle{}\\right\\rangle{}} \\:=\\: $$\\lambda{} f_{\\left\\langle{}e,t\\right\\rangle{}} \\: . \\: \\lambda{} g_{\\left\\langle{}e,\\left\\langle{}e,t\\right\\rangle{}\\right\\rangle{}} \\: . \\: \\lambda{} y_{e} \\: . \\: \\exists{} x_{e} \\: . \\: ({f}({x}) \\wedge{} {g}({x})({y}))$"
      ],
      "text/latex": [
       "$[\\![\\mathbf{\\text{mary}}]\\!]^{}_{e} \\:=\\: $${Mary}_{e}$<br />\n",
       "$[\\![\\mathbf{\\text{man}}]\\!]^{}_{\\left\\langle{}e,t\\right\\rangle{}} \\:=\\: $$\\lambda{} x_{e} \\: . \\: {Man}({x})$<br />\n",
       "$[\\![\\mathbf{\\text{book}}]\\!]^{}_{\\left\\langle{}e,t\\right\\rangle{}} \\:=\\: $$\\lambda{} x_{e} \\: . \\: {Book}({x})$<br />\n",
       "$[\\![\\mathbf{\\text{wrote}}]\\!]^{}_{\\left\\langle{}e,\\left\\langle{}e,t\\right\\rangle{}\\right\\rangle{}} \\:=\\: $$\\lambda{} x_{e} \\: . \\: \\lambda{} y_{e} \\: . \\: {Wrote}({y}, {x})$<br />\n",
       "$[\\![\\mathbf{\\text{reviewed}}]\\!]^{}_{\\left\\langle{}e,\\left\\langle{}e,t\\right\\rangle{}\\right\\rangle{}} \\:=\\: $$\\lambda{} x_{e} \\: . \\: \\lambda{} y_{e} \\: . \\: {Reviewed}({y}, {x})$<br />\n",
       "$[\\![\\mathbf{\\text{that}}]\\!]^{}_{\\left\\langle{}t,t\\right\\rangle{}} \\:=\\: $$\\lambda{} p_{t} \\: . \\: {p}$<br />\n",
       "$[\\![\\mathbf{\\text{such}}]\\!]^{}_{\\left\\langle{}t,t\\right\\rangle{}} \\:=\\: $$\\lambda{} p_{t} \\: . \\: {p}$<br />\n",
       "$[\\![\\mathbf{\\text{a}}]\\!]^{}_{\\left\\langle{}\\left\\langle{}e,t\\right\\rangle{},\\left\\langle{}\\left\\langle{}e,\\left\\langle{}e,t\\right\\rangle{}\\right\\rangle{},\\left\\langle{}e,t\\right\\rangle{}\\right\\rangle{}\\right\\rangle{}} \\:=\\: $$\\lambda{} f_{\\left\\langle{}e,t\\right\\rangle{}} \\: . \\: \\lambda{} g_{\\left\\langle{}e,\\left\\langle{}e,t\\right\\rangle{}\\right\\rangle{}} \\: . \\: \\lambda{} y_{e} \\: . \\: \\exists{} x_{e} \\: . \\: ({f}({x}) \\wedge{} {g}({x})({y}))$"
      ],
      "text/plain": [
       "$[\\![\\mathbf{\\text{mary}}]\\!]^{}_{e} \\:=\\: $${Mary}_{e}$<br />\n",
       "$[\\![\\mathbf{\\text{man}}]\\!]^{}_{\\left\\langle{}e,t\\right\\rangle{}} \\:=\\: $$\\lambda{} x_{e} \\: . \\: {Man}({x})$<br />\n",
       "$[\\![\\mathbf{\\text{book}}]\\!]^{}_{\\left\\langle{}e,t\\right\\rangle{}} \\:=\\: $$\\lambda{} x_{e} \\: . \\: {Book}({x})$<br />\n",
       "$[\\![\\mathbf{\\text{wrote}}]\\!]^{}_{\\left\\langle{}e,\\left\\langle{}e,t\\right\\rangle{}\\right\\rangle{}} \\:=\\: $$\\lambda{} x_{e} \\: . \\: \\lambda{} y_{e} \\: . \\: {Wrote}({y}, {x})$<br />\n",
       "$[\\![\\mathbf{\\text{reviewed}}]\\!]^{}_{\\left\\langle{}e,\\left\\langle{}e,t\\right\\rangle{}\\right\\rangle{}} \\:=\\: $$\\lambda{} x_{e} \\: . \\: \\lambda{} y_{e} \\: . \\: {Reviewed}({y}, {x})$<br />\n",
       "$[\\![\\mathbf{\\text{that}}]\\!]^{}_{\\left\\langle{}t,t\\right\\rangle{}} \\:=\\: $$\\lambda{} p_{t} \\: . \\: {p}$<br />\n",
       "$[\\![\\mathbf{\\text{such}}]\\!]^{}_{\\left\\langle{}t,t\\right\\rangle{}} \\:=\\: $$\\lambda{} p_{t} \\: . \\: {p}$<br />\n",
       "$[\\![\\mathbf{\\text{a}}]\\!]^{}_{\\left\\langle{}\\left\\langle{}e,t\\right\\rangle{},\\left\\langle{}\\left\\langle{}e,\\left\\langle{}e,t\\right\\rangle{}\\right\\rangle{},\\left\\langle{}e,t\\right\\rangle{}\\right\\rangle{}\\right\\rangle{}} \\:=\\: $$\\lambda{} f_{\\left\\langle{}e,t\\right\\rangle{}} \\: . \\: \\lambda{} g_{\\left\\langle{}e,\\left\\langle{}e,t\\right\\rangle{}\\right\\rangle{}} \\: . \\: \\lambda{} y_{e} \\: . \\: \\exists{} x_{e} \\: . \\: ({f}({x}) \\wedge{} {g}({x})({y}))$"
      ]
     },
     "execution_count": 11,
     "metadata": {},
     "output_type": "execute_result"
    }
   ],
   "source": [
    "%%lamb\n",
    "||mary|| = Mary_e\n",
    "||man|| = L x_e : Man(x)\n",
    "||book|| = L x_e : Book(x)\n",
    "||wrote|| = L x_e : L y_e : Wrote(y,x)\n",
    "||reviewed|| = L x_e : L y_e : Reviewed(y,x)\n",
    "||that|| = L p_t : p\n",
    "||such|| = L p_t : p\n",
    "||a|| = L f_<e,t> : L g_<e,<e,t>> : L y_e : Exists x_e : f(x) & g(x)(y)"
   ]
  },
  {
   "cell_type": "code",
   "execution_count": 12,
   "metadata": {},
   "outputs": [
    {
     "data": {
      "text/html": [
       "1 composition path.  Result:\n",
       "<br />&nbsp;&nbsp;&nbsp;&nbsp;[0]: $[\\![\\mathbf{\\text{[2 [such [that [mary [reviewed [a [book [1 [he2 [wrote t1]]]]]]]]]]}}]\\!]^{}_{\\left\\langle{}e,t\\right\\rangle{}} \\:=\\: $$\\lambda{} var2_{e} \\: . \\: \\exists{} x_{e} \\: . \\: (({Book}({x}) \\wedge{} {Wrote}({var2}, {x})) \\wedge{} {Reviewed}({Mary}_{e}, {x}))$"
      ],
      "text/plain": [
       "CompositionTree('[2 [such [that [mary [reviewed [a [book [1 [he2 [wrote t1]]]]]]]]]]', [CompositionTree('2', []), CompositionTree('[such [that [mary [reviewed [a [book [1 [he2 [wrote t1]]]]]]]]]', [CompositionTree('such', []), CompositionTree('[that [mary [reviewed [a [book [1 [he2 [wrote t1]]]]]]]]', [CompositionTree('that', []), CompositionTree('[mary [reviewed [a [book [1 [he2 [wrote t1]]]]]]]', [CompositionTree('mary', []), CompositionTree('[reviewed [a [book [1 [he2 [wrote t1]]]]]]', [CompositionTree('reviewed', []), CompositionTree('[a [book [1 [he2 [wrote t1]]]]]', [CompositionTree('a', []), CompositionTree('[book [1 [he2 [wrote t1]]]]', [CompositionTree('book', []), CompositionTree('[1 [he2 [wrote t1]]]', [CompositionTree('1', []), CompositionTree('[he2 [wrote t1]]', [CompositionTree('he2', []), CompositionTree('[wrote t1]', [CompositionTree('wrote', []), CompositionTree('t1', [])])])])])])])])])])])"
      ]
     },
     "execution_count": 12,
     "metadata": {},
     "output_type": "execute_result"
    }
   ],
   "source": [
    "(lang.Binder(2) * (such * (that * (mary * (reviewed * (a * (book * (lang.Binder(1) * (he * (wrote * lang.Trace(1)))))))))))"
   ]
  },
  {
   "cell_type": "code",
   "execution_count": 13,
   "metadata": {},
   "outputs": [],
   "source": []
  },
  {
   "cell_type": "code",
   "execution_count": 13,
   "metadata": {},
   "outputs": [
    {
     "data": {
      "text/html": [
       "<div align=\"center\" style=\"display:table; margin:5px; border-collapse: collapse;border: 1px solid #848482;\"><div align=\"center\" style=\"display:table-row;\"><div style=\"display:table-cell;vertical-align:middle;\"><div style=\"display: table;\"><div style=\"display:table-cell;vertical-align:middle;padding: 5px;\"><div align=\"left\" style=\"padding: 5px;display: inline-block;\"><div align=\"left\" style=\"padding: 5px;display: inline-block;\"><div align=\"left\" style=\"padding: 5px;display: inline-block;\"><div><div align=\"center\" style=\"display: block;\"><span>$[\\![\\mathbf{\\text{man}}]\\!]^{}_{\\left\\langle{}e,t\\right\\rangle{}}$</span></div><div align=\"center\" style=\"display: block;\"><span>$\\lambda{} x_{e} \\: . \\: {Man}({x})$</span></div></div></div></div></div></div><div style=\"align: center; vertical-align: middle; display: table-cell;\"><span style=\"padding:1em;\">$\\circ$</span></div><div style=\"display:table-cell;vertical-align:middle;padding: 5px;\"><div align=\"center\" style=\"display:table; margin:5px; border-collapse: collapse;border: 1px solid #848482;\"><div align=\"center\" style=\"display:table-row;\"><div style=\"display:table-cell;vertical-align:middle;\"><div style=\"display: table;\"><div style=\"display:table-cell;vertical-align:middle;padding: 5px;\"><div align=\"left\" style=\"padding: 5px;display: inline-block;\"><div align=\"left\" style=\"border: 1px solid #848482;padding: 5px;display: inline-block;\"><div><div align=\"center\" style=\"\"><span>$[\\![\\mathbf{\\text{2}}]\\!]^{}$</span></div><div align=\"center\" style=\"\"><span>N/A</span></div></div></div></div></div><div style=\"align: center; vertical-align: middle; display: table-cell;\"><span style=\"padding:1em;\">$\\circ$</span></div><div style=\"display:table-cell;vertical-align:middle;padding: 5px;\"><div align=\"center\" style=\"display:table; margin:5px; border-collapse: collapse;border: 1px solid #848482;\"><div align=\"center\" style=\"display:table-row;\"><div style=\"display:table-cell;vertical-align:middle;\"><div style=\"display: table;\"><div style=\"display:table-cell;vertical-align:middle;padding: 5px;\"><div align=\"left\" style=\"padding: 5px;display: inline-block;\"><div align=\"left\" style=\"padding: 5px;display: inline-block;\"><div align=\"left\" style=\"padding: 5px;display: inline-block;\"><div><div align=\"center\" style=\"display: block;\"><span>$[\\![\\mathbf{\\text{such}}]\\!]^{}_{\\left\\langle{}t,t\\right\\rangle{}}$</span></div><div align=\"center\" style=\"display: block;\"><span>$\\lambda{} p_{t} \\: . \\: {p}$</span></div></div></div></div></div></div><div style=\"align: center; vertical-align: middle; display: table-cell;\"><span style=\"padding:1em;\">$\\circ$</span></div><div style=\"display:table-cell;vertical-align:middle;padding: 5px;\"><div align=\"center\" style=\"display:table; margin:5px; border-collapse: collapse;border: 1px solid #848482;\"><div align=\"center\" style=\"display:table-row;\"><div style=\"display:table-cell;vertical-align:middle;\"><div style=\"display: table;\"><div style=\"display:table-cell;vertical-align:middle;padding: 5px;\"><div align=\"left\" style=\"padding: 5px;display: inline-block;\"><div align=\"left\" style=\"padding: 5px;display: inline-block;\"><div align=\"left\" style=\"padding: 5px;display: inline-block;\"><div><div align=\"center\" style=\"display: block;\"><span>$[\\![\\mathbf{\\text{that}}]\\!]^{}_{\\left\\langle{}t,t\\right\\rangle{}}$</span></div><div align=\"center\" style=\"display: block;\"><span>$\\lambda{} p_{t} \\: . \\: {p}$</span></div></div></div></div></div></div><div style=\"align: center; vertical-align: middle; display: table-cell;\"><span style=\"padding:1em;\">$\\circ$</span></div><div style=\"display:table-cell;vertical-align:middle;padding: 5px;\"><div align=\"center\" style=\"display:table; margin:5px; border-collapse: collapse;border: 1px solid #848482;\"><div align=\"center\" style=\"display:table-row;\"><div style=\"display:table-cell;vertical-align:middle;\"><div style=\"display: table;\"><div style=\"display:table-cell;vertical-align:middle;padding: 5px;\"><div align=\"left\" style=\"padding: 5px;display: inline-block;\"><div align=\"left\" style=\"padding: 5px;display: inline-block;\"><div align=\"left\" style=\"padding: 5px;display: inline-block;\"><div><div align=\"center\" style=\"display: block;\"><span>$[\\![\\mathbf{\\text{mary}}]\\!]^{}_{e}$</span></div><div align=\"center\" style=\"display: block;\"><span>${Mary}_{e}$</span></div></div></div></div></div></div><div style=\"align: center; vertical-align: middle; display: table-cell;\"><span style=\"padding:1em;\">$\\circ$</span></div><div style=\"display:table-cell;vertical-align:middle;padding: 5px;\"><div align=\"center\" style=\"display:table; margin:5px; border-collapse: collapse;border: 1px solid #848482;\"><div align=\"center\" style=\"display:table-row;\"><div style=\"display:table-cell;vertical-align:middle;\"><div style=\"display: table;\"><div style=\"display:table-cell;vertical-align:middle;padding: 5px;\"><div align=\"left\" style=\"padding: 5px;display: inline-block;\"><div align=\"left\" style=\"padding: 5px;display: inline-block;\"><div align=\"left\" style=\"padding: 5px;display: inline-block;\"><div><div align=\"center\" style=\"display: block;\"><span>$[\\![\\mathbf{\\text{reviewed}}]\\!]^{}_{\\left\\langle{}e,\\left\\langle{}e,t\\right\\rangle{}\\right\\rangle{}}$</span></div><div align=\"center\" style=\"display: block;\"><span>$\\lambda{} x_{e} \\: . \\: \\lambda{} y_{e} \\: . \\: {Reviewed}({y}, {x})$</span></div></div></div></div></div></div><div style=\"align: center; vertical-align: middle; display: table-cell;\"><span style=\"padding:1em;\">$\\circ$</span></div><div style=\"display:table-cell;vertical-align:middle;padding: 5px;\"><div align=\"center\" style=\"display:table; margin:5px; border-collapse: collapse;border: 1px solid #848482;\"><div align=\"center\" style=\"display:table-row;\"><div style=\"display:table-cell;vertical-align:middle;\"><div style=\"display: table;\"><div style=\"display:table-cell;vertical-align:middle;padding: 5px;\"><div align=\"left\" style=\"padding: 5px;display: inline-block;\"><div align=\"left\" style=\"padding: 5px;display: inline-block;\"><div align=\"left\" style=\"padding: 5px;display: inline-block;\"><div><div align=\"center\" style=\"display: block;\"><span>$[\\![\\mathbf{\\text{a}}]\\!]^{}_{\\left\\langle{}\\left\\langle{}e,t\\right\\rangle{},\\left\\langle{}\\left\\langle{}e,\\left\\langle{}e,t\\right\\rangle{}\\right\\rangle{},\\left\\langle{}e,t\\right\\rangle{}\\right\\rangle{}\\right\\rangle{}}$</span></div><div align=\"center\" style=\"display: block;\"><span>$\\lambda{} f_{\\left\\langle{}e,t\\right\\rangle{}} \\: . \\: \\lambda{} g_{\\left\\langle{}e,\\left\\langle{}e,t\\right\\rangle{}\\right\\rangle{}} \\: . \\: \\lambda{} y_{e} \\: . \\: \\exists{} x_{e} \\: . \\: ({f}({x}) \\wedge{} {g}({x})({y}))$</span></div></div></div></div></div></div><div style=\"align: center; vertical-align: middle; display: table-cell;\"><span style=\"padding:1em;\">$\\circ$</span></div><div style=\"display:table-cell;vertical-align:middle;padding: 5px;\"><div align=\"center\" style=\"display:table; margin:5px; border-collapse: collapse;border: 1px solid #848482;\"><div align=\"center\" style=\"display:table-row;\"><div style=\"display:table-cell;vertical-align:middle;\"><div style=\"display: table;\"><div style=\"display:table-cell;vertical-align:middle;padding: 5px;\"><div align=\"left\" style=\"padding: 5px;display: inline-block;\"><div align=\"left\" style=\"padding: 5px;display: inline-block;\"><div align=\"left\" style=\"padding: 5px;display: inline-block;\"><div><div align=\"center\" style=\"display: block;\"><span>$[\\![\\mathbf{\\text{book}}]\\!]^{}_{\\left\\langle{}e,t\\right\\rangle{}}$</span></div><div align=\"center\" style=\"display: block;\"><span>$\\lambda{} x_{e} \\: . \\: {Book}({x})$</span></div></div></div></div></div></div><div style=\"align: center; vertical-align: middle; display: table-cell;\"><span style=\"padding:1em;\">$\\circ$</span></div><div style=\"display:table-cell;vertical-align:middle;padding: 5px;\"><div align=\"center\" style=\"display:table; margin:5px; border-collapse: collapse;border: 1px solid #848482;\"><div align=\"center\" style=\"display:table-row;\"><div style=\"display:table-cell;vertical-align:middle;\"><div style=\"display: table;\"><div style=\"display:table-cell;vertical-align:middle;padding: 5px;\"><div align=\"left\" style=\"padding: 5px;display: inline-block;\"><div align=\"left\" style=\"border: 1px solid #848482;padding: 5px;display: inline-block;\"><div><div align=\"center\" style=\"\"><span>$[\\![\\mathbf{\\text{1}}]\\!]^{}$</span></div><div align=\"center\" style=\"\"><span>N/A</span></div></div></div></div></div><div style=\"align: center; vertical-align: middle; display: table-cell;\"><span style=\"padding:1em;\">$\\circ$</span></div><div style=\"display:table-cell;vertical-align:middle;padding: 5px;\"><div align=\"center\" style=\"display:table; margin:5px; border-collapse: collapse;border: 1px solid #848482;\"><div align=\"center\" style=\"display:table-row;\"><div style=\"display:table-cell;vertical-align:middle;\"><div style=\"display: table;\"><div style=\"display:table-cell;vertical-align:middle;padding: 5px;\"><div align=\"left\" style=\"padding: 5px;display: inline-block;\"><div align=\"left\" style=\"padding: 5px;display: inline-block;\"><div align=\"left\" style=\"padding: 5px;display: inline-block;\"><div><div align=\"center\" style=\"display: block;\"><span>$[\\![\\mathbf{\\text{he}}_{2}]\\!]^{}_{e}$</span></div><div align=\"center\" style=\"display: block;\"><span>${var2}_{e}$</span></div></div></div></div></div></div><div style=\"align: center; vertical-align: middle; display: table-cell;\"><span style=\"padding:1em;\">$\\circ$</span></div><div style=\"display:table-cell;vertical-align:middle;padding: 5px;\"><div align=\"center\" style=\"display:table; margin:5px; border-collapse: collapse;border: 1px solid #848482;\"><div align=\"center\" style=\"display:table-row;\"><div style=\"display:table-cell;vertical-align:middle;\"><div style=\"display: table;\"><div style=\"display:table-cell;vertical-align:middle;padding: 5px;\"><div align=\"left\" style=\"padding: 5px;display: inline-block;\"><div align=\"left\" style=\"padding: 5px;display: inline-block;\"><div align=\"left\" style=\"padding: 5px;display: inline-block;\"><div><div align=\"center\" style=\"display: block;\"><span>$[\\![\\mathbf{\\text{wrote}}]\\!]^{}_{\\left\\langle{}e,\\left\\langle{}e,t\\right\\rangle{}\\right\\rangle{}}$</span></div><div align=\"center\" style=\"display: block;\"><span>$\\lambda{} x_{e} \\: . \\: \\lambda{} y_{e} \\: . \\: {Wrote}({y}, {x})$</span></div></div></div></div></div></div><div style=\"align: center; vertical-align: middle; display: table-cell;\"><span style=\"padding:1em;\">$\\circ$</span></div><div style=\"display:table-cell;vertical-align:middle;padding: 5px;\"><div align=\"left\" style=\"padding: 5px;display: inline-block;\"><div align=\"left\" style=\"padding: 5px;display: inline-block;\"><div align=\"left\" style=\"padding: 5px;display: inline-block;\"><div><div align=\"center\" style=\"display: block;\"><span>$[\\![\\mathbf{\\text{t}}_{1}]\\!]^{}_{e}$</span></div><div align=\"center\" style=\"display: block;\"><span>${var1}_{e}$</span></div></div></div></div></div></div></div></div></div><div align=\"center\" style=\"display:table-row; border:1px solid #848482;padding: 5px;\"><div align=\"center\" style=\"padding: 5px;display: inline-block;\"><div><div align=\"center\" style=\"\"><span>$[\\![\\mathbf{\\text{[[wrote t1]]}}]\\!]$</span></div><div align=\"center\" style=\"\"><div align=\"center\" style=\"padding: 5px;display: inline-block;\"><div><div align=\"center\" style=\"\"><span style=\"color:blue\">[path 0]</span>: $[\\![\\mathbf{\\text{[wrote t1]}}]\\!]^{}_{\\left\\langle{}e,t\\right\\rangle{}} \\:=\\: $$\\lambda{} y_{e} \\: . \\: {Wrote}({y}, {var1}_{e})$</div></div></div></div></div></div></div></div></div></div></div></div><div align=\"center\" style=\"display:table-row; border:1px solid #848482;padding: 5px;\"><div align=\"center\" style=\"padding: 5px;display: inline-block;\"><div><div align=\"center\" style=\"\"><span>$[\\![\\mathbf{\\text{[[he2 [wrote t1]]]}}]\\!]$</span></div><div align=\"center\" style=\"\"><div align=\"center\" style=\"padding: 5px;display: inline-block;\"><div><div align=\"center\" style=\"\"><span style=\"color:blue\">[path 0]</span>: $[\\![\\mathbf{\\text{[he2 [wrote t1]]}}]\\!]^{}_{t} \\:=\\: $${Wrote}({var2}_{e}, {var1}_{e})$</div></div></div></div></div></div></div></div></div></div></div></div><div align=\"center\" style=\"display:table-row; border:1px solid #848482;padding: 5px;\"><div align=\"center\" style=\"padding: 5px;display: inline-block;\"><div><div align=\"center\" style=\"\"><span>$[\\![\\mathbf{\\text{[[1 [he2 [wrote t1]]]]}}]\\!]$</span></div><div align=\"center\" style=\"\"><div align=\"center\" style=\"padding: 5px;display: inline-block;\"><div><div align=\"center\" style=\"\"><span style=\"color:blue\">[path 0]</span>: $[\\![\\mathbf{\\text{[1 [he2 [wrote t1]]]}}]\\!]^{}_{\\left\\langle{}e,t\\right\\rangle{}} \\:=\\: $$\\lambda{} var1_{e} \\: . \\: {Wrote}({var2}_{e}, {var1})$</div></div></div></div></div></div></div></div></div></div></div></div><div align=\"center\" style=\"display:table-row; border:1px solid #848482;padding: 5px;\"><div align=\"center\" style=\"padding: 5px;display: inline-block;\"><div><div align=\"center\" style=\"\"><span>$[\\![\\mathbf{\\text{[[book [1 [he2 [wrote t1]]]]]}}]\\!]$</span></div><div align=\"center\" style=\"\"><div align=\"center\" style=\"padding: 5px;display: inline-block;\"><div><div align=\"center\" style=\"\"><span style=\"color:blue\">[path 0]</span>: $[\\![\\mathbf{\\text{[book [1 [he2 [wrote t1]]]]}}]\\!]^{}_{\\left\\langle{}e,t\\right\\rangle{}} \\:=\\: $$\\lambda{} x_{e} \\: . \\: ({Book}({x}) \\wedge{} {Wrote}({var2}_{e}, {x}))$</div></div></div></div></div></div></div></div></div></div></div></div><div align=\"center\" style=\"display:table-row; border:1px solid #848482;padding: 5px;\"><div align=\"center\" style=\"padding: 5px;display: inline-block;\"><div><div align=\"center\" style=\"\"><span>$[\\![\\mathbf{\\text{[[a [book [1 [he2 [wrote t1]]]]]]}}]\\!]$</span></div><div align=\"center\" style=\"\"><div align=\"center\" style=\"padding: 5px;display: inline-block;\"><div><div align=\"center\" style=\"\"><span style=\"color:blue\">[path 0]</span>: $[\\![\\mathbf{\\text{[a [book [1 [he2 [wrote t1]]]]]}}]\\!]^{}_{\\left\\langle{}\\left\\langle{}e,\\left\\langle{}e,t\\right\\rangle{}\\right\\rangle{},\\left\\langle{}e,t\\right\\rangle{}\\right\\rangle{}} \\:=\\: $$\\lambda{} g_{\\left\\langle{}e,\\left\\langle{}e,t\\right\\rangle{}\\right\\rangle{}} \\: . \\: \\lambda{} y_{e} \\: . \\: \\exists{} x_{e} \\: . \\: (({Book}({x}) \\wedge{} {Wrote}({var2}_{e}, {x})) \\wedge{} {g}({x})({y}))$</div></div></div></div></div></div></div></div></div></div></div></div><div align=\"center\" style=\"display:table-row; border:1px solid #848482;padding: 5px;\"><div align=\"center\" style=\"padding: 5px;display: inline-block;\"><div><div align=\"center\" style=\"\"><span>$[\\![\\mathbf{\\text{[[reviewed [a [book [1 [he2 [wrote t1]]]]]]]}}]\\!]$</span></div><div align=\"center\" style=\"\"><div align=\"center\" style=\"padding: 5px;display: inline-block;\"><div><div align=\"center\" style=\"\"><span style=\"color:blue\">[path 0]</span>: $[\\![\\mathbf{\\text{[reviewed [a [book [1 [he2 [wrote t1]]]]]]}}]\\!]^{}_{\\left\\langle{}e,t\\right\\rangle{}} \\:=\\: $$\\lambda{} y_{e} \\: . \\: \\exists{} x_{e} \\: . \\: (({Book}({x}) \\wedge{} {Wrote}({var2}_{e}, {x})) \\wedge{} {Reviewed}({y}, {x}))$</div></div></div></div></div></div></div></div></div></div></div></div><div align=\"center\" style=\"display:table-row; border:1px solid #848482;padding: 5px;\"><div align=\"center\" style=\"padding: 5px;display: inline-block;\"><div><div align=\"center\" style=\"\"><span>$[\\![\\mathbf{\\text{[[mary [reviewed [a [book [1 [he2 [wrote t1]]]]]]]]}}]\\!]$</span></div><div align=\"center\" style=\"\"><div align=\"center\" style=\"padding: 5px;display: inline-block;\"><div><div align=\"center\" style=\"\"><span style=\"color:blue\">[path 0]</span>: $[\\![\\mathbf{\\text{[mary [reviewed [a [book [1 [he2 [wrote t1]]]]]]]}}]\\!]^{}_{t} \\:=\\: $$\\exists{} x_{e} \\: . \\: (({Book}({x}) \\wedge{} {Wrote}({var2}_{e}, {x})) \\wedge{} {Reviewed}({Mary}_{e}, {x}))$</div></div></div></div></div></div></div></div></div></div></div></div><div align=\"center\" style=\"display:table-row; border:1px solid #848482;padding: 5px;\"><div align=\"center\" style=\"padding: 5px;display: inline-block;\"><div><div align=\"center\" style=\"\"><span>$[\\![\\mathbf{\\text{[[that [mary [reviewed [a [book [1 [he2 [wrote t1]]]]]]]]]}}]\\!]$</span></div><div align=\"center\" style=\"\"><div align=\"center\" style=\"padding: 5px;display: inline-block;\"><div><div align=\"center\" style=\"\"><span style=\"color:blue\">[path 0]</span>: $[\\![\\mathbf{\\text{[that [mary [reviewed [a [book [1 [he2 [wrote t1]]]]]]]]}}]\\!]^{}_{t} \\:=\\: $$\\exists{} x_{e} \\: . \\: (({Book}({x}) \\wedge{} {Wrote}({var2}_{e}, {x})) \\wedge{} {Reviewed}({Mary}_{e}, {x}))$</div></div></div></div></div></div></div></div></div></div></div></div><div align=\"center\" style=\"display:table-row; border:1px solid #848482;padding: 5px;\"><div align=\"center\" style=\"padding: 5px;display: inline-block;\"><div><div align=\"center\" style=\"\"><span>$[\\![\\mathbf{\\text{[[such [that [mary [reviewed [a [book [1 [he2 [wrote t1]]]]]]]]]]}}]\\!]$</span></div><div align=\"center\" style=\"\"><div align=\"center\" style=\"padding: 5px;display: inline-block;\"><div><div align=\"center\" style=\"\"><span style=\"color:blue\">[path 0]</span>: $[\\![\\mathbf{\\text{[such [that [mary [reviewed [a [book [1 [he2 [wrote t1]]]]]]]]]}}]\\!]^{}_{t} \\:=\\: $$\\exists{} x_{e} \\: . \\: (({Book}({x}) \\wedge{} {Wrote}({var2}_{e}, {x})) \\wedge{} {Reviewed}({Mary}_{e}, {x}))$</div></div></div></div></div></div></div></div></div></div></div></div><div align=\"center\" style=\"display:table-row; border:1px solid #848482;padding: 5px;\"><div align=\"center\" style=\"padding: 5px;display: inline-block;\"><div><div align=\"center\" style=\"\"><span>$[\\![\\mathbf{\\text{[[2 [such [that [mary [reviewed [a [book [1 [he2 [wrote t1]]]]]]]]]]]}}]\\!]$</span></div><div align=\"center\" style=\"\"><div align=\"center\" style=\"padding: 5px;display: inline-block;\"><div><div align=\"center\" style=\"\"><span style=\"color:blue\">[path 0]</span>: $[\\![\\mathbf{\\text{[2 [such [that [mary [reviewed [a [book [1 [he2 [wrote t1]]]]]]]]]]}}]\\!]^{}_{\\left\\langle{}e,t\\right\\rangle{}} \\:=\\: $$\\lambda{} var2_{e} \\: . \\: \\exists{} x_{e} \\: . \\: (({Book}({x}) \\wedge{} {Wrote}({var2}, {x})) \\wedge{} {Reviewed}({Mary}_{e}, {x}))$</div></div></div></div></div></div></div></div></div></div></div></div><div align=\"center\" style=\"display:table-row; border:1px solid #848482;padding: 5px;\"><div align=\"center\" style=\"padding: 5px;display: inline-block;\"><div><div align=\"center\" style=\"\"><span>$[\\![\\mathbf{\\text{[[man [2 [such [that [mary [reviewed [a [book [1 [he2 [wrote t1]]]]]]]]]]]]}}]\\!]$</span></div><div align=\"center\" style=\"\"><div align=\"center\" style=\"padding: 5px;display: inline-block;\"><div><div align=\"center\" style=\"\"><span style=\"color:blue\">[path 0]</span>: $[\\![\\mathbf{\\text{[man [2 [such [that [mary [reviewed [a [book [1 [he2 [wrote t1]]]]]]]]]]]}}]\\!]^{}_{\\left\\langle{}e,t\\right\\rangle{}} \\:=\\: $$\\lambda{} x_{e} \\: . \\: ({Man}({x}) \\wedge{} \\exists{} x1_{e} \\: . \\: (({Book}({x1}) \\wedge{} {Wrote}({x}, {x1})) \\wedge{} {Reviewed}({Mary}_{e}, {x1})))$</div></div></div></div></div></div></div></div>"
      ],
      "text/plain": [
       "<lamb.display.DisplayNode at 0x107616860>"
      ]
     },
     "execution_count": 13,
     "metadata": {},
     "output_type": "execute_result"
    }
   ],
   "source": [
    "r = man * (lang.Binder(2) * (such * (that * (mary * (reviewed * (a * (book * (lang.Binder(1) * (he * (wrote * lang.Trace(1)))))))))))\n",
    "r.tree()"
   ]
  },
  {
   "cell_type": "markdown",
   "metadata": {},
   "source": [
    "### Using presuppositional pronouns\n",
    "\n",
    "The partiality calculation process in this case is somewhat buggy, resulting in redundant partiality conditions being multiplied."
   ]
  },
  {
   "cell_type": "code",
   "execution_count": 14,
   "metadata": {},
   "outputs": [
    {
     "data": {
      "text/html": [
       "Composition system 'Type-driven with partiality'<br />Operations: {<br />&nbsp;&nbsp;&nbsp;&nbsp;Binary composition rule <i>FA</i>, built on python function 'lamb.lang.presup_fa'<br />&nbsp;&nbsp;&nbsp;&nbsp;Binary composition rule <i>PM</i>, built on python function 'lamb.lang.presup_pm'<br />&nbsp;&nbsp;&nbsp;&nbsp;Binary composition rule <i>PA</i>, built on python function 'lamb.lang.presup_pa'<br />}"
      ],
      "text/plain": [
       "Composition system: Type-driven with partiality"
      ]
     },
     "execution_count": 14,
     "metadata": {},
     "output_type": "execute_result"
    }
   ],
   "source": [
    "from lamb.meta import Partial\n",
    "lang.set_system(lang.td_presup)\n",
    "lang.get_system()"
   ]
  },
  {
   "cell_type": "code",
   "execution_count": 15,
   "metadata": {},
   "outputs": [
    {
     "data": {
      "text/html": [
       "$[\\![\\mathbf{\\text{he}}_{2}]\\!]^{}_{e} \\:=\\: $$\\left|\\begin{array}{l}{var2}_{e}\\\\{Male}({var2}_{e})\\end{array}\\right|$"
      ],
      "text/latex": [
       "$[\\![\\mathbf{\\text{he}}_{2}]\\!]^{}_{e} \\:=\\: $$\\left|\\begin{array}{l}{var2}_{e}\\\\{Male}({var2}_{e})\\end{array}\\right|$"
      ],
      "text/plain": [
       "⟦he2⟧ = (var2_e Partial Male_<e,t>(var2_e))"
      ]
     },
     "execution_count": 15,
     "metadata": {},
     "output_type": "execute_result"
    }
   ],
   "source": [
    "male_prop = %te L x_e : Male_<e,t>(x)\n",
    "hei = lang.PresupPronoun.index_factory(\"he\", male_prop)\n",
    "hei(2)"
   ]
  },
  {
   "cell_type": "code",
   "execution_count": 16,
   "metadata": {},
   "outputs": [
    {
     "name": "stdout",
     "output_type": "stream",
     "text": [
      "INFO (meta): Coerced guessed type for 'Man_t' into <e,t>, to match argument 'x_e'\n",
      "INFO (meta): Coerced guessed type for 'Book_t' into <e,t>, to match argument 'x_e'\n",
      "INFO (meta): Coerced guessed type for 'Wrote_t' into <(e,e),t>, to match argument '(y_e, x_e)'\n",
      "INFO (meta): Coerced guessed type for 'Reviewed_t' into <(e,e),t>, to match argument '(y_e, x_e)'\n"
     ]
    },
    {
     "data": {
      "text/html": [
       "$[\\![\\mathbf{\\text{mary}}]\\!]^{}_{e} \\:=\\: $${Mary}_{e}$<br />\n",
       "$[\\![\\mathbf{\\text{man}}]\\!]^{}_{\\left\\langle{}e,t\\right\\rangle{}} \\:=\\: $$\\lambda{} x_{e} \\: . \\: {Man}({x})$<br />\n",
       "$[\\![\\mathbf{\\text{book}}]\\!]^{}_{\\left\\langle{}e,t\\right\\rangle{}} \\:=\\: $$\\lambda{} x_{e} \\: . \\: {Book}({x})$<br />\n",
       "$[\\![\\mathbf{\\text{wrote}}]\\!]^{}_{\\left\\langle{}e,\\left\\langle{}e,t\\right\\rangle{}\\right\\rangle{}} \\:=\\: $$\\lambda{} x_{e} \\: . \\: \\lambda{} y_{e} \\: . \\: {Wrote}({y}, {x})$<br />\n",
       "$[\\![\\mathbf{\\text{reviewed}}]\\!]^{}_{\\left\\langle{}e,\\left\\langle{}e,t\\right\\rangle{}\\right\\rangle{}} \\:=\\: $$\\lambda{} x_{e} \\: . \\: \\lambda{} y_{e} \\: . \\: {Reviewed}({y}, {x})$<br />\n",
       "$[\\![\\mathbf{\\text{that}}]\\!]^{}_{\\left\\langle{}t,t\\right\\rangle{}} \\:=\\: $$\\lambda{} p_{t} \\: . \\: {p}$<br />\n",
       "$[\\![\\mathbf{\\text{such}}]\\!]^{}_{\\left\\langle{}t,t\\right\\rangle{}} \\:=\\: $$\\lambda{} p_{t} \\: . \\: {p}$<br />\n",
       "$[\\![\\mathbf{\\text{a}}]\\!]^{}_{\\left\\langle{}\\left\\langle{}e,t\\right\\rangle{},\\left\\langle{}\\left\\langle{}e,\\left\\langle{}e,t\\right\\rangle{}\\right\\rangle{},\\left\\langle{}e,t\\right\\rangle{}\\right\\rangle{}\\right\\rangle{}} \\:=\\: $$\\lambda{} f_{\\left\\langle{}e,t\\right\\rangle{}} \\: . \\: \\lambda{} g_{\\left\\langle{}e,\\left\\langle{}e,t\\right\\rangle{}\\right\\rangle{}} \\: . \\: \\lambda{} y_{e} \\: . \\: \\exists{} x_{e} \\: . \\: ({f}({x}) \\wedge{} {g}({x})({y}))$<br />\n",
       "$[\\![\\mathbf{\\text{the}}]\\!]^{}_{\\left\\langle{}\\left\\langle{}e,t\\right\\rangle{},e\\right\\rangle{}} \\:=\\: $$\\lambda{} f_{\\left\\langle{}e,t\\right\\rangle{}} \\: . \\: \\iota{} x_{e} \\: . \\: {f}({x})$"
      ],
      "text/latex": [
       "$[\\![\\mathbf{\\text{mary}}]\\!]^{}_{e} \\:=\\: $${Mary}_{e}$<br />\n",
       "$[\\![\\mathbf{\\text{man}}]\\!]^{}_{\\left\\langle{}e,t\\right\\rangle{}} \\:=\\: $$\\lambda{} x_{e} \\: . \\: {Man}({x})$<br />\n",
       "$[\\![\\mathbf{\\text{book}}]\\!]^{}_{\\left\\langle{}e,t\\right\\rangle{}} \\:=\\: $$\\lambda{} x_{e} \\: . \\: {Book}({x})$<br />\n",
       "$[\\![\\mathbf{\\text{wrote}}]\\!]^{}_{\\left\\langle{}e,\\left\\langle{}e,t\\right\\rangle{}\\right\\rangle{}} \\:=\\: $$\\lambda{} x_{e} \\: . \\: \\lambda{} y_{e} \\: . \\: {Wrote}({y}, {x})$<br />\n",
       "$[\\![\\mathbf{\\text{reviewed}}]\\!]^{}_{\\left\\langle{}e,\\left\\langle{}e,t\\right\\rangle{}\\right\\rangle{}} \\:=\\: $$\\lambda{} x_{e} \\: . \\: \\lambda{} y_{e} \\: . \\: {Reviewed}({y}, {x})$<br />\n",
       "$[\\![\\mathbf{\\text{that}}]\\!]^{}_{\\left\\langle{}t,t\\right\\rangle{}} \\:=\\: $$\\lambda{} p_{t} \\: . \\: {p}$<br />\n",
       "$[\\![\\mathbf{\\text{such}}]\\!]^{}_{\\left\\langle{}t,t\\right\\rangle{}} \\:=\\: $$\\lambda{} p_{t} \\: . \\: {p}$<br />\n",
       "$[\\![\\mathbf{\\text{a}}]\\!]^{}_{\\left\\langle{}\\left\\langle{}e,t\\right\\rangle{},\\left\\langle{}\\left\\langle{}e,\\left\\langle{}e,t\\right\\rangle{}\\right\\rangle{},\\left\\langle{}e,t\\right\\rangle{}\\right\\rangle{}\\right\\rangle{}} \\:=\\: $$\\lambda{} f_{\\left\\langle{}e,t\\right\\rangle{}} \\: . \\: \\lambda{} g_{\\left\\langle{}e,\\left\\langle{}e,t\\right\\rangle{}\\right\\rangle{}} \\: . \\: \\lambda{} y_{e} \\: . \\: \\exists{} x_{e} \\: . \\: ({f}({x}) \\wedge{} {g}({x})({y}))$<br />\n",
       "$[\\![\\mathbf{\\text{the}}]\\!]^{}_{\\left\\langle{}\\left\\langle{}e,t\\right\\rangle{},e\\right\\rangle{}} \\:=\\: $$\\lambda{} f_{\\left\\langle{}e,t\\right\\rangle{}} \\: . \\: \\iota{} x_{e} \\: . \\: {f}({x})$"
      ],
      "text/plain": [
       "$[\\![\\mathbf{\\text{mary}}]\\!]^{}_{e} \\:=\\: $${Mary}_{e}$<br />\n",
       "$[\\![\\mathbf{\\text{man}}]\\!]^{}_{\\left\\langle{}e,t\\right\\rangle{}} \\:=\\: $$\\lambda{} x_{e} \\: . \\: {Man}({x})$<br />\n",
       "$[\\![\\mathbf{\\text{book}}]\\!]^{}_{\\left\\langle{}e,t\\right\\rangle{}} \\:=\\: $$\\lambda{} x_{e} \\: . \\: {Book}({x})$<br />\n",
       "$[\\![\\mathbf{\\text{wrote}}]\\!]^{}_{\\left\\langle{}e,\\left\\langle{}e,t\\right\\rangle{}\\right\\rangle{}} \\:=\\: $$\\lambda{} x_{e} \\: . \\: \\lambda{} y_{e} \\: . \\: {Wrote}({y}, {x})$<br />\n",
       "$[\\![\\mathbf{\\text{reviewed}}]\\!]^{}_{\\left\\langle{}e,\\left\\langle{}e,t\\right\\rangle{}\\right\\rangle{}} \\:=\\: $$\\lambda{} x_{e} \\: . \\: \\lambda{} y_{e} \\: . \\: {Reviewed}({y}, {x})$<br />\n",
       "$[\\![\\mathbf{\\text{that}}]\\!]^{}_{\\left\\langle{}t,t\\right\\rangle{}} \\:=\\: $$\\lambda{} p_{t} \\: . \\: {p}$<br />\n",
       "$[\\![\\mathbf{\\text{such}}]\\!]^{}_{\\left\\langle{}t,t\\right\\rangle{}} \\:=\\: $$\\lambda{} p_{t} \\: . \\: {p}$<br />\n",
       "$[\\![\\mathbf{\\text{a}}]\\!]^{}_{\\left\\langle{}\\left\\langle{}e,t\\right\\rangle{},\\left\\langle{}\\left\\langle{}e,\\left\\langle{}e,t\\right\\rangle{}\\right\\rangle{},\\left\\langle{}e,t\\right\\rangle{}\\right\\rangle{}\\right\\rangle{}} \\:=\\: $$\\lambda{} f_{\\left\\langle{}e,t\\right\\rangle{}} \\: . \\: \\lambda{} g_{\\left\\langle{}e,\\left\\langle{}e,t\\right\\rangle{}\\right\\rangle{}} \\: . \\: \\lambda{} y_{e} \\: . \\: \\exists{} x_{e} \\: . \\: ({f}({x}) \\wedge{} {g}({x})({y}))$<br />\n",
       "$[\\![\\mathbf{\\text{the}}]\\!]^{}_{\\left\\langle{}\\left\\langle{}e,t\\right\\rangle{},e\\right\\rangle{}} \\:=\\: $$\\lambda{} f_{\\left\\langle{}e,t\\right\\rangle{}} \\: . \\: \\iota{} x_{e} \\: . \\: {f}({x})$"
      ]
     },
     "execution_count": 16,
     "metadata": {},
     "output_type": "execute_result"
    }
   ],
   "source": [
    "%%lamb\n",
    "||mary|| = Mary_e\n",
    "||man|| = L x_e : Man(x)\n",
    "||book|| = L x_e : Book(x)\n",
    "||wrote|| = L x_e : L y_e : Wrote(y,x)\n",
    "||reviewed|| = L x_e : L y_e : Reviewed(y,x)\n",
    "||that|| = L p_t : p\n",
    "||such|| = L p_t : p\n",
    "||a|| = L f_<e,t> : L g_<e,<e,t>> : L y_e : Exists x_e : f(x) & g(x)(y)\n",
    "||the|| = lambda f_<e,t> : Iota x : f(x)"
   ]
  },
  {
   "cell_type": "code",
   "execution_count": 17,
   "metadata": {},
   "outputs": [
    {
     "data": {
      "text/html": [
       "1 composition path.  Result:\n",
       "<br />&nbsp;&nbsp;&nbsp;&nbsp;[0]: $[\\![\\mathbf{\\text{[the [man [2 [such [that [[[a [book [1 [[wrote t1] he2]]]] reviewed] mary]]]]]]}}]\\!]^{}_{e} \\:=\\: $$\\left|\\begin{array}{l}\\iota{} x_{e} \\: . \\: (({Man}({x}) \\wedge{} \\exists{} x2_{e} \\: . \\: (({Book}({x2}) \\wedge{} {Wrote}({x}, {x2})) \\wedge{} {Reviewed}({Mary}_{e}, {x2}))) \\wedge{} {Male}({x}))\\\\\\exists{} x_{e} \\: . \\: {Male}({x})\\end{array}\\right|$"
      ],
      "text/plain": [
       "CompositionResult(results=[⟦[the [man [2 [such [that [[[a [book [1 [[wrote t1] he2]]]] reviewed] mary]]]]]]⟧ = ((ι x_e: ((Man_<e,t>(x_e) & (Exists x2_e: ((Book_<e,t>(x2_e) & Wrote_<(e,e),t>(x_e, x2_e)) & Reviewed_<(e,e),t>(Mary_e, x2_e)))) & Male_<e,t>(x_e))) Partial (Exists x_e: Male_<e,t>(x_e)))], failures=[⟦[[man [2 [such [that [[[a [book [1 [[wrote t1] he2]]]] reviewed] mary]]]]] the]⟧ = Type mismatch: '(λ x_e: (Man_<e,t>(x_e) & ((Exists x2_e: ((Book_<e,t>(x2_e) & Wrote_<(e,e),t>(x_e, x2_e)) & Reviewed_<(e,e),t>(Mary_e, x2_e))) Partial Male_<e,t>(x_e))))'/<e,t> and '(λ f_<e,t>: (ι x_e: f_<e,t>(x_e)))'/<<e,t>,e> conflict (mode: Function argument combination (unification failed)), ⟦[the [man [2 [such [that [[[a [book [1 [[wrote t1] he2]]]] reviewed] mary]]]]]]⟧ = Type mismatch: '(λ f_<e,t>: (λ g_<e,t>: (λ x_e: (f_<e,t>(x_e) & g_<e,t>(x_e)))))'/<<e,t>,<<e,t>,<e,t>>> and '(λ f_<e,t>: (ι x_e: f_<e,t>(x_e)))'/<<e,t>,e> conflict (mode: Function argument combination (unification failed)), ⟦[the [man [2 [such [that [[[a [book [1 [[wrote t1] he2]]]] reviewed] mary]]]]]]⟧ = Type mismatch: '⟦the⟧ = (λ f_<e,t>: (ι x_e: f_<e,t>(x_e)))'/<<e,t>,e> and '⟦[man [2 [such [that [[[a [book [1 [[wrote t1] he2]]]] reviewed] mary]]]]]⟧ = (λ x_e: (Man_<e,t>(x_e) & ((Exists x2_e: ((Book_<e,t>(x2_e) & Wrote_<(e,e),t>(x_e, x2_e)) & Reviewed_<(e,e),t>(Mary_e, x2_e))) Partial Male_<e,t>(x_e))))'/<e,t> conflict (mode: Predicate Abstraction), ⟦[[man [2 [such [that [[[a [book [1 [[wrote t1] he2]]]] reviewed] mary]]]]] the]⟧ = Type mismatch: '⟦[man [2 [such [that [[[a [book [1 [[wrote t1] he2]]]] reviewed] mary]]]]]⟧ = (λ x_e: (Man_<e,t>(x_e) & ((Exists x2_e: ((Book_<e,t>(x2_e) & Wrote_<(e,e),t>(x_e, x2_e)) & Reviewed_<(e,e),t>(Mary_e, x2_e))) Partial Male_<e,t>(x_e))))'/<e,t> and '⟦the⟧ = (λ f_<e,t>: (ι x_e: f_<e,t>(x_e)))'/<<e,t>,e> conflict (mode: Predicate Abstraction)])"
      ]
     },
     "execution_count": 17,
     "metadata": {},
     "output_type": "execute_result"
    }
   ],
   "source": [
    "r = man * (lang.Binder(2) * (such * (that * (mary * (reviewed * (a * (book * (lang.Binder(1) * (hei(2) * (wrote * lang.Trace(1)))))))))))\n",
    "the * r"
   ]
  },
  {
   "cell_type": "code",
   "execution_count": 18,
   "metadata": {},
   "outputs": [],
   "source": []
  }
 ],
 "metadata": {
  "kernelspec": {
   "display_name": "Lambda Notebook (Python 3)",
   "language": "python",
   "name": "lambda-notebook"
  },
  "language_info": {
   "codemirror_mode": {
    "name": "ipython",
    "version": 3
   },
   "file_extension": ".py",
   "mimetype": "text/x-python",
   "name": "python",
   "nbconvert_exporter": "python",
   "pygments_lexer": "ipython3",
   "version": "3.6.4"
  }
 },
 "nbformat": 4,
 "nbformat_minor": 1
}
