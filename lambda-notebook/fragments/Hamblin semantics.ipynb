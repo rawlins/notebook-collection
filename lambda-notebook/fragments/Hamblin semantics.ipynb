{
 "cells": [
  {
   "cell_type": "markdown",
   "metadata": {},
   "source": [
    "# Hamblin semantics introductory fragment\n",
    "## Author: Kyle Rawlins\n",
    "### Updated: 7/11/16\n",
    "\n",
    "This is an implementation of Hamblin semantics.  It is currently quite incomplete, but walks through the basic principles.  It also may be useful for describing some lexicon manipulation techniques in the lambda notebook (see also the appendix)."
   ]
  },
  {
   "cell_type": "code",
   "execution_count": 1,
   "metadata": {},
   "outputs": [],
   "source": [
    "reload_lamb()\n",
    "%lambctl reset"
   ]
  },
  {
   "cell_type": "code",
   "execution_count": 2,
   "metadata": {},
   "outputs": [
    {
     "data": {
      "text/latex": [
       "Type system with atomic types: $t, s, e, n$"
      ],
      "text/plain": [
       "<lamb.types.PolyTypeSystem at 0x112834c50>"
      ]
     },
     "execution_count": 2,
     "metadata": {},
     "output_type": "execute_result"
    }
   ],
   "source": [
    "type_e = types.type_e\n",
    "type_t = types.type_t\n",
    "type_n = types.type_n\n",
    "type_s = types.BasicType(\"s\")\n",
    "ts = meta.get_type_system()\n",
    "ts.add_atomic(type_s)\n",
    "ts"
   ]
  },
  {
   "cell_type": "markdown",
   "metadata": {},
   "source": [
    "The first thing to do is to 'hamblinize' the lexicon.  This amounts to converting ordinary meanings to singleton sets with their contents.\n",
    "\n",
    "There are a number of options for how to implement this in a typed lambda calculus.  Here, we will exploit the fact that the Lambda Notebook has a type for sets.  If $\\alpha$ is a type, then $\\{\\alpha\\}$ is the type of sets containing elements of type $\\alpha$.\n",
    "\n",
    "The next bit of code defines a special operation `hamblinize` to simplify the process a bit; it can be safely ignored."
   ]
  },
  {
   "cell_type": "code",
   "execution_count": 3,
   "metadata": {},
   "outputs": [],
   "source": [
    "def hamblinize_te(te):\n",
    "    \"\"\"Hamblinize a single lexical item.  Do so by building a singleton set out of it.\"\"\"\n",
    "    if meta.get_type_system().unify(te.type, meta.tp(\"{X}\")): \n",
    "        # assume this item is already hamblinized\n",
    "        return te\n",
    "    elif meta.get_type_system().unify(te.type, meta.tp(\"<{X},Y>\")): \n",
    "        # heuristic: if function whose domain is a set of some sort, assume that this is a Hamblin operator.\n",
    "        # may miss cases.  Better to just run this on content items...\n",
    "        return te\n",
    "    # wrap the content of the lexical item as a singleton set.\n",
    "    return meta.ListedSet([te])    \n",
    "\n",
    "#continuize_lex(cat1.content)\n",
    "lamb.parsing.eq_transforms[\"hamblin\"] = hamblinize_te"
   ]
  },
  {
   "cell_type": "code",
   "execution_count": 4,
   "metadata": {},
   "outputs": [
    {
     "name": "stdout",
     "output_type": "stream",
     "text": [
      "INFO (meta): Coerced guessed type for 'Cat_t' into <e,t>, to match argument 'x_e'\n"
     ]
    },
    {
     "data": {
      "text/latex": [
       "$\\{\\lambda{} x_{e} \\: . \\: {Cat}({x})\\}$"
      ],
      "text/plain": [
       "{(λ x_e: Cat_<e,t>(x_e))}"
      ]
     },
     "execution_count": 4,
     "metadata": {},
     "output_type": "execute_result"
    }
   ],
   "source": [
    "hamblinize_te(te(\"L x: Cat(x)\"))"
   ]
  },
  {
   "cell_type": "markdown",
   "metadata": {},
   "source": [
    "Let's see this in operation:"
   ]
  },
  {
   "cell_type": "code",
   "execution_count": 5,
   "metadata": {},
   "outputs": [
    {
     "name": "stdout",
     "output_type": "stream",
     "text": [
      "INFO (meta): Coerced guessed type for 'Cat_t' into <(s,e),t>, to match argument '(w_s, x_e)'\n",
      "INFO (meta): Coerced guessed type for 'Gray_t' into <(s,e),t>, to match argument '(w_s, x_e)'\n",
      "INFO (meta): Coerced guessed type for 'Test_t' into <e,t>, to match argument 'x_e'\n"
     ]
    },
    {
     "data": {
      "text/html": [
       "$[\\![\\mathbf{\\text{cat}}]\\!]^{}_{\\left\\{\\left\\langle{}e,\\left\\langle{}s,t\\right\\rangle{}\\right\\rangle{}\\right\\}} \\:=\\: $$\\{\\lambda{} x_{e} \\: . \\: \\lambda{} w_{s} \\: . \\: {Cat}({w}, {x})\\}$<br />\n",
       "$[\\![\\mathbf{\\text{gray}}]\\!]^{}_{\\left\\{\\left\\langle{}e,\\left\\langle{}s,t\\right\\rangle{}\\right\\rangle{}\\right\\}} \\:=\\: $$\\{\\lambda{} x_{e} \\: . \\: \\lambda{} w_{s} \\: . \\: {Gray}({w}, {x})\\}$<br />\n",
       "$[\\![\\mathbf{\\text{john}}]\\!]^{}_{\\left\\{e\\right\\}} \\:=\\: $$\\{{John}_{e}\\}$<br />\n",
       "${x}_{\\left\\{\\left\\langle{}e,e\\right\\rangle{}\\right\\}}\\:=\\:\\{\\lambda{} y_{e} \\: . \\: {y}\\}$<br />\n",
       "$[\\![\\mathbf{\\text{test}}]\\!]^{}_{\\left\\langle{}e,t\\right\\rangle{}} \\:=\\: $$\\lambda{} x_{e} \\: . \\: {Test}({x})$"
      ],
      "text/latex": [
       "$[\\![\\mathbf{\\text{cat}}]\\!]^{}_{\\left\\{\\left\\langle{}e,\\left\\langle{}s,t\\right\\rangle{}\\right\\rangle{}\\right\\}} \\:=\\: $$\\{\\lambda{} x_{e} \\: . \\: \\lambda{} w_{s} \\: . \\: {Cat}({w}, {x})\\}$<br />\n",
       "$[\\![\\mathbf{\\text{gray}}]\\!]^{}_{\\left\\{\\left\\langle{}e,\\left\\langle{}s,t\\right\\rangle{}\\right\\rangle{}\\right\\}} \\:=\\: $$\\{\\lambda{} x_{e} \\: . \\: \\lambda{} w_{s} \\: . \\: {Gray}({w}, {x})\\}$<br />\n",
       "$[\\![\\mathbf{\\text{john}}]\\!]^{}_{\\left\\{e\\right\\}} \\:=\\: $$\\{{John}_{e}\\}$<br />\n",
       "${x}_{\\left\\{\\left\\langle{}e,e\\right\\rangle{}\\right\\}}\\:=\\:\\{\\lambda{} y_{e} \\: . \\: {y}\\}$<br />\n",
       "$[\\![\\mathbf{\\text{test}}]\\!]^{}_{\\left\\langle{}e,t\\right\\rangle{}} \\:=\\: $$\\lambda{} x_{e} \\: . \\: {Test}({x})$"
      ],
      "text/plain": [
       "$[\\![\\mathbf{\\text{cat}}]\\!]^{}_{\\left\\{\\left\\langle{}e,\\left\\langle{}s,t\\right\\rangle{}\\right\\rangle{}\\right\\}} \\:=\\: $$\\{\\lambda{} x_{e} \\: . \\: \\lambda{} w_{s} \\: . \\: {Cat}({w}, {x})\\}$<br />\n",
       "$[\\![\\mathbf{\\text{gray}}]\\!]^{}_{\\left\\{\\left\\langle{}e,\\left\\langle{}s,t\\right\\rangle{}\\right\\rangle{}\\right\\}} \\:=\\: $$\\{\\lambda{} x_{e} \\: . \\: \\lambda{} w_{s} \\: . \\: {Gray}({w}, {x})\\}$<br />\n",
       "$[\\![\\mathbf{\\text{john}}]\\!]^{}_{\\left\\{e\\right\\}} \\:=\\: $$\\{{John}_{e}\\}$<br />\n",
       "${x}_{\\left\\{\\left\\langle{}e,e\\right\\rangle{}\\right\\}}\\:=\\:\\{\\lambda{} y_{e} \\: . \\: {y}\\}$<br />\n",
       "$[\\![\\mathbf{\\text{test}}]\\!]^{}_{\\left\\langle{}e,t\\right\\rangle{}} \\:=\\: $$\\lambda{} x_{e} \\: . \\: {Test}({x})$"
      ]
     },
     "execution_count": 5,
     "metadata": {},
     "output_type": "execute_result"
    }
   ],
   "source": [
    "%%lamb\n",
    "||cat|| =<hamblin> L x_e : L w_s : Cat(w,x)\n",
    "||gray|| =<hamblin> L x_e : L w_s : Gray(w,x)\n",
    "||john|| =<hamblin> John_e\n",
    "x =<hamblin> L y_e : y\n",
    "||test|| = L x_e : Test(x) # don't hamblinize this"
   ]
  },
  {
   "cell_type": "code",
   "execution_count": 6,
   "metadata": {},
   "outputs": [],
   "source": []
  },
  {
   "cell_type": "markdown",
   "metadata": {},
   "source": [
    "Next, we need to add a way of composing entries *pointwise*.  The following code implements the most general case of Pointwise FA.\n",
    "\n",
    "In the long run, one would want to automatically simplify these expressions; this is easy to do by hand, but it is a hard problem in the general case, so things are left mostly unsimplified."
   ]
  },
  {
   "cell_type": "code",
   "execution_count": 6,
   "metadata": {},
   "outputs": [
    {
     "data": {
      "text/latex": [
       "$\\lambda{} f_{\\left\\{\\left\\langle{}I_{37},Y\\right\\rangle{}\\right\\}} \\: . \\: \\lambda{} a_{\\left\\{I_{37}\\right\\}} \\: . \\: \\{x_{Y}\\:|\\: \\exists{} f1_{\\left\\langle{}I_{37},Y\\right\\rangle{}} \\: . \\: \\exists{} a1_{I_{37}} \\: . \\: ((({f1} \\in{} {f}) \\wedge{} ({a1} \\in{} {a})) \\wedge{} ({x}_{Y} = {f1}({a1})))\\}$"
      ],
      "text/plain": [
       "(λ f_{<I37,Y>}: (λ a_{I37}: (Set x_Y: (Exists f1_<I37,Y>: (Exists a1_I37: (((f1_<I37,Y> << f_{<I37,Y>}) & (a1_I37 << a_{I37})) & (x_Y <=> f1_<I37,Y>(a1_I40))))))))"
      ]
     },
     "execution_count": 6,
     "metadata": {},
     "output_type": "execute_result"
    }
   ],
   "source": [
    "pfa_combinator = %te L f_{<X,Y>} : L a_{X} : Set x_Y : Exists f1_<X,Y> : (Exists a1_X : (f1 << f & a1 << a) & x <=> f1(a1))\n",
    "\n",
    "def pfa_combinator2(funtype, argtype):\n",
    "    return te(\"L f_{%s} : L a_{%s} : Set x_%s : Exists f1_%s : (Exists a1_%s : (f1 << f & a1 << a) & x <=> f1(a1))\" % (repr(funtype), repr(argtype), repr(funtype.right), repr(funtype), repr(argtype)))\n",
    "\n",
    "pfa_combinator2(tp(\"<e,<s,t>>\"), types.type_e)\n",
    "pfa_combinator"
   ]
  },
  {
   "cell_type": "code",
   "execution_count": 7,
   "metadata": {},
   "outputs": [
    {
     "data": {
      "text/html": [
       "Composition system 'H&K simple (copy)'<br />Operations: {<br />&nbsp;&nbsp;&nbsp;&nbsp;Binary composition rule <i>FA</i>, built on python function 'lamb.lang.fa_fun'<br />&nbsp;&nbsp;&nbsp;&nbsp;Binary composition rule <i>PM</i>, built on python function 'lamb.lang.pm_fun'<br />&nbsp;&nbsp;&nbsp;&nbsp;Binary composition rule <i>PA</i>, built on python function 'lamb.lang.pa_fun'<br />&nbsp;&nbsp;&nbsp;&nbsp;Binary composition rule <i>PFA</i>, built on combinator '$\\lambda{} f_{\\left\\{\\left\\langle{}I_{37},Y\\right\\rangle{}\\right\\}} \\: . \\: \\lambda{} a_{\\left\\{I_{37}\\right\\}} \\: . \\: \\{x_{Y}\\:|\\: \\exists{} f1_{\\left\\langle{}I_{37},Y\\right\\rangle{}} \\: . \\: \\exists{} a1_{I_{37}} \\: . \\: ((({f1} \\in{} {f}) \\wedge{} ({a1} \\in{} {a})) \\wedge{} ({x}_{Y} = {f1}({a1})))\\}$'<br />}"
      ],
      "text/plain": [
       "Composition system: H&K simple (copy)"
      ]
     },
     "execution_count": 7,
     "metadata": {},
     "output_type": "execute_result"
    }
   ],
   "source": [
    "def pfa_worstcase(fun, arg):\n",
    "    ts = meta.get_type_system()\n",
    "    if not (isinstance(fun.type, types.SetType) \n",
    "            and isinstance(arg.type, types.SetType)):\n",
    "        raise types.TypeMismatch(fun, arg, \"Pointwise Function Application\")\n",
    "    if not (ts.fun_arg_check_types_bool(fun.type.content_type, arg.type.content_type)):\n",
    "        raise types.TypeMismatch(fun, arg, \"Pointwise Function Application\")\n",
    "    return pfa_combinator(fun.type.content_type, arg.type.content_type)(fun)(arg)\n",
    "\n",
    "system = lang.td_system.copy()\n",
    "#system.add_rule(lang.binary_factory(pfa_worstcase, \"PFA\"))\n",
    "system.add_binary_rule(pfa_combinator, \"PFA\")\n",
    "lang.set_system(system)\n",
    "system"
   ]
  },
  {
   "cell_type": "code",
   "execution_count": 8,
   "metadata": {},
   "outputs": [],
   "source": []
  },
  {
   "cell_type": "code",
   "execution_count": 8,
   "metadata": {},
   "outputs": [
    {
     "data": {
      "text/html": [
       "1 composition path.  Result:\n",
       "<br />&nbsp;&nbsp;&nbsp;&nbsp;[0]: $[\\![\\mathbf{\\text{[cat john]}}]\\!]^{}_{\\left\\{\\left\\langle{}s,t\\right\\rangle{}\\right\\}} \\:=\\: $$\\{x_{\\left\\langle{}s,t\\right\\rangle{}}\\:|\\: \\exists{} f1_{\\left\\langle{}e,\\left\\langle{}s,t\\right\\rangle{}\\right\\rangle{}} \\: . \\: \\exists{} a1_{e} \\: . \\: ((({f1} \\in{} \\{\\lambda{} x_{e} \\: . \\: \\lambda{} w_{s} \\: . \\: {Cat}({w}, {x})\\}) \\wedge{} ({a1} \\in{} \\{{John}_{e}\\})) \\wedge{} ({x}_{\\left\\langle{}s,t\\right\\rangle{}} = {f1}({a1})))\\}$"
      ],
      "text/plain": [
       "CompositionResult(results=[⟦[cat john]⟧ = (Set x_<s,t>: (Exists f1_<e,<s,t>>: (Exists a1_e: (((f1_<e,<s,t>> << {(λ x_e: (λ w_s: Cat_<(s,e),t>(w_s, x_e)))}) & (a1_e << {John_e})) & (x_<s,t> <=> f1_<e,<s,t>>(a1_e))))))], failures=[⟦[john cat]⟧ = Type mismatch: '⟦john⟧ = {John_e}'/{e} and '⟦cat⟧ = {(λ x_e: (λ w_s: Cat_<(s,e),t>(w_s, x_e)))}'/{<e,<s,t>>} conflict (mode: Function Application), ⟦[cat john]⟧ = Type mismatch: '⟦cat⟧ = {(λ x_e: (λ w_s: Cat_<(s,e),t>(w_s, x_e)))}'/{<e,<s,t>>} and '⟦john⟧ = {John_e}'/{e} conflict (mode: Function Application), ⟦[john cat]⟧ = Type mismatch: '⟦john⟧ = {John_e}'/{e} and '⟦cat⟧ = {(λ x_e: (λ w_s: Cat_<(s,e),t>(w_s, x_e)))}'/{<e,<s,t>>} conflict (mode: Predicate Modification), ⟦[john cat]⟧ = Type mismatch: '⟦john⟧ = {John_e}'/{e} and '⟦cat⟧ = {(λ x_e: (λ w_s: Cat_<(s,e),t>(w_s, x_e)))}'/{<e,<s,t>>} conflict (mode: Predicate Abstraction), ⟦[cat john]⟧ = Type mismatch: '⟦cat⟧ = {(λ x_e: (λ w_s: Cat_<(s,e),t>(w_s, x_e)))}'/{<e,<s,t>>} and '⟦john⟧ = {John_e}'/{e} conflict (mode: Predicate Abstraction), ⟦[john cat]⟧ = Type mismatch: '(λ f_{<I37,Y>}: (λ a_{I37}: (Set x_Y: (Exists f1_<I37,Y>: (Exists a1_I37: (((f1_<I37,Y> << f_{<I37,Y>}) & (a1_I37 << a_{I37})) & (x_Y <=> f1_<I37,Y>(a1_I40))))))))'/<{<I37,Y>},<{I37},{Y}>> and '{John_e}'/{e} conflict (mode: Function argument combination (unification failed))])"
      ]
     },
     "execution_count": 8,
     "metadata": {},
     "output_type": "execute_result"
    }
   ],
   "source": [
    "john * cat"
   ]
  },
  {
   "cell_type": "markdown",
   "metadata": {},
   "source": [
    "Instead of automatically simplifying things, I'll exploit the fact that sets are represented differently (as a list) if they are finite, so we can special-case PFA for ListedSets, and fall back on the combinator for the general case.\n",
    "\n",
    "Note that some limited reduction does occur with the $\\in$ operator; $x \\in \\{y \\:|\\: \\phi\\}$ gets converted to $(\\lambda y : \\phi)(x)$ and reduced, illustrated in the next cell."
   ]
  },
  {
   "cell_type": "code",
   "execution_count": 9,
   "metadata": {},
   "outputs": [
    {
     "data": {
      "text/html": [
       "<div align=\"left\" style=\"display:table;\"><div style=\"display:table-cell;vertical-align:bottom;padding-left:5px;padding-right:5px;padding-top:0.5em\"><div style=\"display:table;\"><div style=\"display:table-row;vertical-align:bottom;\"><div align=\"left\" style=\"display:table;border-collapse:collapse;\"><div style=\"display:table-row;border-bottom:1px solid #848482;\"><div style=\"display:table-cell;padding-right:5px;vertical-align:bottom;\"> 1. </div><div style=\"display:table-cell;vertical-align:bottom;border-right:1px solid #848482;padding-right:5px;\"><span>$({x}_{e} \\in{} \\{y_{e}\\:|\\: {Test}({y}_{e})\\})$</span></div></div><div style=\"display:table-row;\"><div style=\"display:table-cell;padding-right:5px;vertical-align:bottom;\"> 2. </div><div style=\"display:table-cell;vertical-align:bottom;border-right:1px solid #848482;padding-right:5px;\"><span>${Test}({x}_{e})$</span></div><div style=\"display:table-cell;vertical-align:bottom;padding-left:5px;padding-right:5px;padding-top:0.5em\"><div style=\"display:table;\"><div style=\"display:table-row;\"><div style=\"white-space:nowrap; color:blue;\"><span>∈ reduction</span></div></div></div></div></div></div></div></div></div></div>"
      ],
      "text/plain": [
       " 1. (x_e << (Set y_e: Test_<e,t>(y_e)))\n",
       " 2. Test_<e,t>(x_e)    (∈ reduction)"
      ]
     },
     "execution_count": 9,
     "metadata": {},
     "output_type": "execute_result"
    }
   ],
   "source": [
    "r = te(\"x_e << (Set y_e : Test_<e,t>(y))\")\n",
    "r.reduce_all().derivation"
   ]
  },
  {
   "cell_type": "code",
   "execution_count": 10,
   "metadata": {},
   "outputs": [
    {
     "data": {
      "text/html": [
       "Composition system 'H&K simple (copy)'<br />Operations: {<br />&nbsp;&nbsp;&nbsp;&nbsp;Binary composition rule <i>FA</i>, built on python function 'lamb.lang.fa_fun'<br />&nbsp;&nbsp;&nbsp;&nbsp;Binary composition rule <i>PM</i>, built on python function 'lamb.lang.pm_fun'<br />&nbsp;&nbsp;&nbsp;&nbsp;Binary composition rule <i>PA</i>, built on python function 'lamb.lang.pa_fun'<br />&nbsp;&nbsp;&nbsp;&nbsp;Binary composition rule <i>PFA</i>, built on python function '__main__.pfa_general'<br />}"
      ],
      "text/plain": [
       "Composition system: H&K simple (copy)"
      ]
     },
     "execution_count": 10,
     "metadata": {},
     "output_type": "execute_result"
    }
   ],
   "source": [
    "def pfa_listed(fun, arg):\n",
    "    result = list()\n",
    "    for felem in fun.args:\n",
    "        for aelem in arg.args:\n",
    "            result.append(felem(aelem))\n",
    "    return meta.ListedSet(result)\n",
    "\n",
    "def pfa_general(fun, arg):\n",
    "    ts = meta.get_type_system()\n",
    "    general = pfa_combinator(fun)(arg) # do this for type checking\n",
    "    if isinstance(fun, meta.ListedSet) and isinstance(arg, meta.ListedSet):\n",
    "        return pfa_listed(fun, arg)\n",
    "    else:\n",
    "        return general.reduce_all()\n",
    "    \n",
    "system = lang.td_system.copy()\n",
    "system.add_binary_rule_uncurried(pfa_general, \"PFA\")\n",
    "lang.set_system(system)\n",
    "system"
   ]
  },
  {
   "cell_type": "code",
   "execution_count": 11,
   "metadata": {},
   "outputs": [
    {
     "data": {
      "text/html": [
       "1 composition path.  Result:\n",
       "<br />&nbsp;&nbsp;&nbsp;&nbsp;[0]: $[\\![\\mathbf{\\text{[cat john]}}]\\!]^{}_{\\left\\{\\left\\langle{}s,t\\right\\rangle{}\\right\\}} \\:=\\: $$\\{\\lambda{} w_{s} \\: . \\: {Cat}({w}, {John}_{e})\\}$"
      ],
      "text/plain": [
       "CompositionResult(results=[⟦[cat john]⟧ = {(λ w_s: Cat_<(s,e),t>(w_s, John_e))}], failures=[⟦[john cat]⟧ = Type mismatch: '⟦john⟧ = {John_e}'/{e} and '⟦cat⟧ = {(λ x_e: (λ w_s: Cat_<(s,e),t>(w_s, x_e)))}'/{<e,<s,t>>} conflict (mode: Function Application), ⟦[cat john]⟧ = Type mismatch: '⟦cat⟧ = {(λ x_e: (λ w_s: Cat_<(s,e),t>(w_s, x_e)))}'/{<e,<s,t>>} and '⟦john⟧ = {John_e}'/{e} conflict (mode: Function Application), ⟦[john cat]⟧ = Type mismatch: '⟦john⟧ = {John_e}'/{e} and '⟦cat⟧ = {(λ x_e: (λ w_s: Cat_<(s,e),t>(w_s, x_e)))}'/{<e,<s,t>>} conflict (mode: Predicate Modification), ⟦[john cat]⟧ = Type mismatch: '⟦john⟧ = {John_e}'/{e} and '⟦cat⟧ = {(λ x_e: (λ w_s: Cat_<(s,e),t>(w_s, x_e)))}'/{<e,<s,t>>} conflict (mode: Predicate Abstraction), ⟦[cat john]⟧ = Type mismatch: '⟦cat⟧ = {(λ x_e: (λ w_s: Cat_<(s,e),t>(w_s, x_e)))}'/{<e,<s,t>>} and '⟦john⟧ = {John_e}'/{e} conflict (mode: Predicate Abstraction), ⟦[john cat]⟧ = Type mismatch: '(λ f_{<I37,Y>}: (λ a_{I37}: (Set x_Y: (Exists f1_<I37,Y>: (Exists a1_I37: (((f1_<I37,Y> << f_{<I37,Y>}) & (a1_I37 << a_{I37})) & (x_Y <=> f1_<I37,Y>(a1_I40))))))))'/<{<I37,Y>},<{I37},{Y}>> and '{John_e}'/{e} conflict (mode: Function argument combination (unification failed))])"
      ]
     },
     "execution_count": 11,
     "metadata": {},
     "output_type": "execute_result"
    }
   ],
   "source": [
    "john * cat"
   ]
  },
  {
   "cell_type": "code",
   "execution_count": 12,
   "metadata": {
    "collapsed": true
   },
   "outputs": [],
   "source": []
  },
  {
   "cell_type": "code",
   "execution_count": 12,
   "metadata": {},
   "outputs": [
    {
     "name": "stdout",
     "output_type": "stream",
     "text": [
      "INFO (meta): Coerced guessed type for 'Saw_t' into <(s,e,e),t>, to match argument '(w_s, y_e, x_e)'\n"
     ]
    },
    {
     "data": {
      "text/html": [
       "$[\\![\\mathbf{\\text{who}}]\\!]^{}_{\\left\\{e\\right\\}} \\:=\\: $$\\{{John}_{e}, {Mary}_{e}, {Sue}_{e}\\}$<br />\n",
       "$[\\![\\mathbf{\\text{saw}}]\\!]^{}_{\\left\\{\\left\\langle{}e,\\left\\langle{}e,\\left\\langle{}s,t\\right\\rangle{}\\right\\rangle{}\\right\\rangle{}\\right\\}} \\:=\\: $$\\{\\lambda{} x_{e} \\: . \\: \\lambda{} y_{e} \\: . \\: \\lambda{} w_{s} \\: . \\: {Saw}({w}, {y}, {x})\\}$"
      ],
      "text/latex": [
       "$[\\![\\mathbf{\\text{who}}]\\!]^{}_{\\left\\{e\\right\\}} \\:=\\: $$\\{{John}_{e}, {Mary}_{e}, {Sue}_{e}\\}$<br />\n",
       "$[\\![\\mathbf{\\text{saw}}]\\!]^{}_{\\left\\{\\left\\langle{}e,\\left\\langle{}e,\\left\\langle{}s,t\\right\\rangle{}\\right\\rangle{}\\right\\rangle{}\\right\\}} \\:=\\: $$\\{\\lambda{} x_{e} \\: . \\: \\lambda{} y_{e} \\: . \\: \\lambda{} w_{s} \\: . \\: {Saw}({w}, {y}, {x})\\}$"
      ],
      "text/plain": [
       "$[\\![\\mathbf{\\text{who}}]\\!]^{}_{\\left\\{e\\right\\}} \\:=\\: $$\\{{John}_{e}, {Mary}_{e}, {Sue}_{e}\\}$<br />\n",
       "$[\\![\\mathbf{\\text{saw}}]\\!]^{}_{\\left\\{\\left\\langle{}e,\\left\\langle{}e,\\left\\langle{}s,t\\right\\rangle{}\\right\\rangle{}\\right\\rangle{}\\right\\}} \\:=\\: $$\\{\\lambda{} x_{e} \\: . \\: \\lambda{} y_{e} \\: . \\: \\lambda{} w_{s} \\: . \\: {Saw}({w}, {y}, {x})\\}$"
      ]
     },
     "execution_count": 12,
     "metadata": {},
     "output_type": "execute_result"
    }
   ],
   "source": [
    "%%lamb\n",
    "## To simplify, let's take there to only be three human-like entities in the universe.\n",
    "||who|| = {John_e, Mary_e, Sue_e}\n",
    "||saw|| =<hamblin> L x_e : L y_e : L w_s : Saw(w,y,x)"
   ]
  },
  {
   "cell_type": "code",
   "execution_count": 13,
   "metadata": {},
   "outputs": [
    {
     "data": {
      "text/html": [
       "1 composition path:<br /><div align=\"center\" style=\"display:table; margin:5px; border-collapse: collapse;border: 1px solid #848482;\"><div align=\"center\" style=\"display:table-row;border-bottom:1px solid #848482\"><div style=\"display:table-cell;vertical-align:middle;\"><div style=\"display: table;\"><div style=\"display:table-cell;vertical-align:middle;padding: 5px;\"><div align=\"center\" style=\"display:inline-block;padding: 5px;\"><div align=\"center\" style=\"display:table;table-layout:auto;\"><div style=\"display:table-row;\"><div align=\"center\" style=\"display:table-cell;padding-right:2px; padding-left:2px;\"><span>$[\\![\\mathbf{\\text{cat}}]\\!]^{}_{\\left\\{\\left\\langle{}e,\\left\\langle{}s,t\\right\\rangle{}\\right\\rangle{}\\right\\}}$</span></div></div><div style=\"display:table-row;\"><div align=\"center\" style=\"display:table-cell;padding-right:2px; padding-left:2px;\"><span>$\\{\\lambda{} x_{e} \\: . \\: \\lambda{} w_{s} \\: . \\: {Cat}({w}, {x})\\}$</span></div></div></div></div></div><div style=\"align: center; vertical-align: middle; display: table-cell;\"><span style=\"padding:1em;\">*</span></div><div style=\"display:table-cell;vertical-align:middle;padding: 5px;\"><div align=\"center\" style=\"display:inline-block;padding: 5px;\"><div align=\"center\" style=\"display:table;table-layout:auto;\"><div style=\"display:table-row;\"><div align=\"center\" style=\"display:table-cell;padding-right:2px; padding-left:2px;\"><span>$[\\![\\mathbf{\\text{who}}]\\!]^{}_{\\left\\{e\\right\\}}$</span></div></div><div style=\"display:table-row;\"><div align=\"center\" style=\"display:table-cell;padding-right:2px; padding-left:2px;\"><span>$\\{{John}_{e}, {Mary}_{e}, {Sue}_{e}\\}$</span></div></div></div></div></div></div></div><div style=\"display:table-cell;vertical-align:middle;border-left:1px solid #848482;padding:0.5em\"><div style=\"white-space:nowrap; color:blue;\"><b>[<span>PFA</span>]</b></div></div></div><div align=\"center\" style=\"display:table-row;padding: 5px;\"><div align=\"center\" style=\"display:table-cell;\"><div align=\"center\" style=\"display:inline-block;padding: 5px;\"><div align=\"center\" style=\"display:table;table-layout:auto;\"><div style=\"display:table-row;\"><div align=\"center\" style=\"display:table-cell;padding-right:2px; padding-left:2px;\"><span>$[\\![\\mathbf{\\text{[cat who]}}]\\!]^{}_{\\left\\{\\left\\langle{}s,t\\right\\rangle{}\\right\\}}$</span></div></div><div style=\"display:table-row;\"><div align=\"center\" style=\"display:table-cell;padding-right:2px; padding-left:2px;\"><span>$\\{\\lambda{} w_{s} \\: . \\: {Cat}({w}, {John}_{e}), \\lambda{} w_{s} \\: . \\: {Cat}({w}, {Mary}_{e}), \\lambda{} w_{s} \\: . \\: {Cat}({w}, {Sue}_{e})\\}$</span></div></div></div></div></div><div style=\"display:table-cell;\"></div></div></div><br /><br />"
      ],
      "text/latex": [
       "1 composition path:<br /><div align=\"center\" style=\"display:table; margin:5px; border-collapse: collapse;border: 1px solid #848482;\"><div align=\"center\" style=\"display:table-row;border-bottom:1px solid #848482\"><div style=\"display:table-cell;vertical-align:middle;\"><div style=\"display: table;\"><div style=\"display:table-cell;vertical-align:middle;padding: 5px;\"><div align=\"center\" style=\"display:inline-block;padding: 5px;\"><div align=\"center\" style=\"display:table;table-layout:auto;\"><div style=\"display:table-row;\"><div align=\"center\" style=\"display:table-cell;padding-right:2px; padding-left:2px;\"><span>$[\\![\\mathbf{\\text{cat}}]\\!]^{}_{\\left\\{\\left\\langle{}e,\\left\\langle{}s,t\\right\\rangle{}\\right\\rangle{}\\right\\}}$</span></div></div><div style=\"display:table-row;\"><div align=\"center\" style=\"display:table-cell;padding-right:2px; padding-left:2px;\"><span>$\\{\\lambda{} x_{e} \\: . \\: \\lambda{} w_{s} \\: . \\: {Cat}({w}, {x})\\}$</span></div></div></div></div></div><div style=\"align: center; vertical-align: middle; display: table-cell;\"><span style=\"padding:1em;\">*</span></div><div style=\"display:table-cell;vertical-align:middle;padding: 5px;\"><div align=\"center\" style=\"display:inline-block;padding: 5px;\"><div align=\"center\" style=\"display:table;table-layout:auto;\"><div style=\"display:table-row;\"><div align=\"center\" style=\"display:table-cell;padding-right:2px; padding-left:2px;\"><span>$[\\![\\mathbf{\\text{who}}]\\!]^{}_{\\left\\{e\\right\\}}$</span></div></div><div style=\"display:table-row;\"><div align=\"center\" style=\"display:table-cell;padding-right:2px; padding-left:2px;\"><span>$\\{{John}_{e}, {Mary}_{e}, {Sue}_{e}\\}$</span></div></div></div></div></div></div></div><div style=\"display:table-cell;vertical-align:middle;border-left:1px solid #848482;padding:0.5em\"><div style=\"white-space:nowrap; color:blue;\"><b>[<span>PFA</span>]</b></div></div></div><div align=\"center\" style=\"display:table-row;padding: 5px;\"><div align=\"center\" style=\"display:table-cell;\"><div align=\"center\" style=\"display:inline-block;padding: 5px;\"><div align=\"center\" style=\"display:table;table-layout:auto;\"><div style=\"display:table-row;\"><div align=\"center\" style=\"display:table-cell;padding-right:2px; padding-left:2px;\"><span>$[\\![\\mathbf{\\text{[cat who]}}]\\!]^{}_{\\left\\{\\left\\langle{}s,t\\right\\rangle{}\\right\\}}$</span></div></div><div style=\"display:table-row;\"><div align=\"center\" style=\"display:table-cell;padding-right:2px; padding-left:2px;\"><span>$\\{\\lambda{} w_{s} \\: . \\: {Cat}({w}, {John}_{e}), \\lambda{} w_{s} \\: . \\: {Cat}({w}, {Mary}_{e}), \\lambda{} w_{s} \\: . \\: {Cat}({w}, {Sue}_{e})\\}$</span></div></div></div></div></div><div style=\"display:table-cell;\"></div></div></div><br /><br />"
      ],
      "text/plain": [
       "1 composition path:<br /><div align=\"center\" style=\"display:table; margin:5px; border-collapse: collapse;border: 1px solid #848482;\"><div align=\"center\" style=\"display:table-row;border-bottom:1px solid #848482\"><div style=\"display:table-cell;vertical-align:middle;\"><div style=\"display: table;\"><div style=\"display:table-cell;vertical-align:middle;padding: 5px;\"><div align=\"center\" style=\"display:inline-block;padding: 5px;\"><div align=\"center\" style=\"display:table;table-layout:auto;\"><div style=\"display:table-row;\"><div align=\"center\" style=\"display:table-cell;padding-right:2px; padding-left:2px;\"><span>$[\\![\\mathbf{\\text{cat}}]\\!]^{}_{\\left\\{\\left\\langle{}e,\\left\\langle{}s,t\\right\\rangle{}\\right\\rangle{}\\right\\}}$</span></div></div><div style=\"display:table-row;\"><div align=\"center\" style=\"display:table-cell;padding-right:2px; padding-left:2px;\"><span>$\\{\\lambda{} x_{e} \\: . \\: \\lambda{} w_{s} \\: . \\: {Cat}({w}, {x})\\}$</span></div></div></div></div></div><div style=\"align: center; vertical-align: middle; display: table-cell;\"><span style=\"padding:1em;\">*</span></div><div style=\"display:table-cell;vertical-align:middle;padding: 5px;\"><div align=\"center\" style=\"display:inline-block;padding: 5px;\"><div align=\"center\" style=\"display:table;table-layout:auto;\"><div style=\"display:table-row;\"><div align=\"center\" style=\"display:table-cell;padding-right:2px; padding-left:2px;\"><span>$[\\![\\mathbf{\\text{who}}]\\!]^{}_{\\left\\{e\\right\\}}$</span></div></div><div style=\"display:table-row;\"><div align=\"center\" style=\"display:table-cell;padding-right:2px; padding-left:2px;\"><span>$\\{{John}_{e}, {Mary}_{e}, {Sue}_{e}\\}$</span></div></div></div></div></div></div></div><div style=\"display:table-cell;vertical-align:middle;border-left:1px solid #848482;padding:0.5em\"><div style=\"white-space:nowrap; color:blue;\"><b>[<span>PFA</span>]</b></div></div></div><div align=\"center\" style=\"display:table-row;padding: 5px;\"><div align=\"center\" style=\"display:table-cell;\"><div align=\"center\" style=\"display:inline-block;padding: 5px;\"><div align=\"center\" style=\"display:table;table-layout:auto;\"><div style=\"display:table-row;\"><div align=\"center\" style=\"display:table-cell;padding-right:2px; padding-left:2px;\"><span>$[\\![\\mathbf{\\text{[cat who]}}]\\!]^{}_{\\left\\{\\left\\langle{}s,t\\right\\rangle{}\\right\\}}$</span></div></div><div style=\"display:table-row;\"><div align=\"center\" style=\"display:table-cell;padding-right:2px; padding-left:2px;\"><span>$\\{\\lambda{} w_{s} \\: . \\: {Cat}({w}, {John}_{e}), \\lambda{} w_{s} \\: . \\: {Cat}({w}, {Mary}_{e}), \\lambda{} w_{s} \\: . \\: {Cat}({w}, {Sue}_{e})\\}$</span></div></div></div></div></div><div style=\"display:table-cell;\"></div></div></div><br /><br />"
      ]
     },
     "execution_count": 13,
     "metadata": {},
     "output_type": "execute_result"
    }
   ],
   "source": [
    "(cat * who).tree()"
   ]
  },
  {
   "cell_type": "markdown",
   "metadata": {},
   "source": [
    "Wh-items compose in situ.  Intuitively, this leads to sets that percolate up the tree."
   ]
  },
  {
   "cell_type": "code",
   "execution_count": 14,
   "metadata": {},
   "outputs": [
    {
     "data": {
      "text/html": [
       "1 composition path.  Result:\n",
       "<br />&nbsp;&nbsp;&nbsp;&nbsp;[0]: $[\\![\\mathbf{\\text{[[saw who] john]}}]\\!]^{}_{\\left\\{\\left\\langle{}s,t\\right\\rangle{}\\right\\}} \\:=\\: $$\\{\\lambda{} w_{s} \\: . \\: {Saw}({w}, {John}_{e}, {John}_{e}), \\lambda{} w_{s} \\: . \\: {Saw}({w}, {John}_{e}, {Mary}_{e}), \\lambda{} w_{s} \\: . \\: {Saw}({w}, {John}_{e}, {Sue}_{e})\\}$"
      ],
      "text/plain": [
       "CompositionResult(results=[⟦[[saw who] john]⟧ = {(λ w_s: Saw_<(s,e,e),t>(w_s, John_e, Mary_e)), (λ w_s: Saw_<(s,e,e),t>(w_s, John_e, Sue_e)), (λ w_s: Saw_<(s,e,e),t>(w_s, John_e, John_e))}], failures=[⟦[john [saw who]]⟧ = Type mismatch: '⟦john⟧ = {John_e}'/{e} and '⟦[saw who]⟧ = {(λ y_e: (λ w_s: Saw_<(s,e,e),t>(w_s, y_e, Sue_e))), (λ y_e: (λ w_s: Saw_<(s,e,e),t>(w_s, y_e, Mary_e))), (λ y_e: (λ w_s: Saw_<(s,e,e),t>(w_s, y_e, John_e)))}'/{<e,<s,t>>} conflict (mode: Function Application), ⟦[[saw who] john]⟧ = Type mismatch: '⟦[saw who]⟧ = {(λ y_e: (λ w_s: Saw_<(s,e,e),t>(w_s, y_e, Sue_e))), (λ y_e: (λ w_s: Saw_<(s,e,e),t>(w_s, y_e, Mary_e))), (λ y_e: (λ w_s: Saw_<(s,e,e),t>(w_s, y_e, John_e)))}'/{<e,<s,t>>} and '⟦john⟧ = {John_e}'/{e} conflict (mode: Function Application), ⟦[john [saw who]]⟧ = Type mismatch: '⟦john⟧ = {John_e}'/{e} and '⟦[saw who]⟧ = {(λ y_e: (λ w_s: Saw_<(s,e,e),t>(w_s, y_e, Sue_e))), (λ y_e: (λ w_s: Saw_<(s,e,e),t>(w_s, y_e, Mary_e))), (λ y_e: (λ w_s: Saw_<(s,e,e),t>(w_s, y_e, John_e)))}'/{<e,<s,t>>} conflict (mode: Predicate Modification), ⟦[john [saw who]]⟧ = Type mismatch: '⟦john⟧ = {John_e}'/{e} and '⟦[saw who]⟧ = {(λ y_e: (λ w_s: Saw_<(s,e,e),t>(w_s, y_e, Sue_e))), (λ y_e: (λ w_s: Saw_<(s,e,e),t>(w_s, y_e, Mary_e))), (λ y_e: (λ w_s: Saw_<(s,e,e),t>(w_s, y_e, John_e)))}'/{<e,<s,t>>} conflict (mode: Predicate Abstraction), ⟦[[saw who] john]⟧ = Type mismatch: '⟦[saw who]⟧ = {(λ y_e: (λ w_s: Saw_<(s,e,e),t>(w_s, y_e, Sue_e))), (λ y_e: (λ w_s: Saw_<(s,e,e),t>(w_s, y_e, Mary_e))), (λ y_e: (λ w_s: Saw_<(s,e,e),t>(w_s, y_e, John_e)))}'/{<e,<s,t>>} and '⟦john⟧ = {John_e}'/{e} conflict (mode: Predicate Abstraction), ⟦[john [saw who]]⟧ = Type mismatch: '(λ f_{<I37,Y>}: (λ a_{I37}: (Set x_Y: (Exists f1_<I37,Y>: (Exists a1_I37: (((f1_<I37,Y> << f_{<I37,Y>}) & (a1_I37 << a_{I37})) & (x_Y <=> f1_<I37,Y>(a1_I40))))))))'/<{<I37,Y>},<{I37},{Y}>> and '{John_e}'/{e} conflict (mode: Function argument combination (unification failed))])"
      ]
     },
     "execution_count": 14,
     "metadata": {},
     "output_type": "execute_result"
    }
   ],
   "source": [
    "john * (saw * who)"
   ]
  },
  {
   "cell_type": "code",
   "execution_count": 15,
   "metadata": {},
   "outputs": [
    {
     "data": {
      "text/html": [
       "1 composition path:<br /><div align=\"center\" style=\"display:table; margin:5px; border-collapse: collapse;border: 1px solid #848482;\"><div align=\"center\" style=\"display:table-row;border-bottom:1px solid #848482\"><div style=\"display:table-cell;vertical-align:middle;\"><div style=\"display: table;\"><div style=\"display:table-cell;vertical-align:middle;padding: 5px;\"><div align=\"center\" style=\"display:table; margin:5px; border-collapse: collapse;border: 1px solid #848482;\"><div align=\"center\" style=\"display:table-row;border-bottom:1px solid #848482\"><div style=\"display:table-cell;vertical-align:middle;\"><div style=\"display: table;\"><div style=\"display:table-cell;vertical-align:middle;padding: 5px;\"><div align=\"center\" style=\"display:inline-block;padding: 5px;\"><div align=\"center\" style=\"display:table;table-layout:auto;\"><div style=\"display:table-row;\"><div align=\"center\" style=\"display:table-cell;padding-right:2px; padding-left:2px;\"><span>$[\\![\\mathbf{\\text{saw}}]\\!]^{}_{\\left\\{\\left\\langle{}e,\\left\\langle{}e,\\left\\langle{}s,t\\right\\rangle{}\\right\\rangle{}\\right\\rangle{}\\right\\}}$</span></div></div><div style=\"display:table-row;\"><div align=\"center\" style=\"display:table-cell;padding-right:2px; padding-left:2px;\"><span>$\\{\\lambda{} x_{e} \\: . \\: \\lambda{} y_{e} \\: . \\: \\lambda{} w_{s} \\: . \\: {Saw}({w}, {y}, {x})\\}$</span></div></div></div></div></div><div style=\"align: center; vertical-align: middle; display: table-cell;\"><span style=\"padding:1em;\">*</span></div><div style=\"display:table-cell;vertical-align:middle;padding: 5px;\"><div align=\"center\" style=\"display:inline-block;padding: 5px;\"><div align=\"center\" style=\"display:table;table-layout:auto;\"><div style=\"display:table-row;\"><div align=\"center\" style=\"display:table-cell;padding-right:2px; padding-left:2px;\"><span>$[\\![\\mathbf{\\text{who}}]\\!]^{}_{\\left\\{e\\right\\}}$</span></div></div><div style=\"display:table-row;\"><div align=\"center\" style=\"display:table-cell;padding-right:2px; padding-left:2px;\"><span>$\\{{John}_{e}, {Mary}_{e}, {Sue}_{e}\\}$</span></div></div></div></div></div></div></div><div style=\"display:table-cell;vertical-align:middle;border-left:1px solid #848482;padding:0.5em\"><div style=\"white-space:nowrap; color:blue;\"><b>[<span>PFA</span>]</b></div></div></div><div align=\"center\" style=\"display:table-row;padding: 5px;\"><div align=\"center\" style=\"display:table-cell;\"><div align=\"center\" style=\"display:inline-block;padding: 5px;\"><div align=\"center\" style=\"display:table;table-layout:auto;\"><div style=\"display:table-row;\"><div align=\"center\" style=\"display:table-cell;padding-right:2px; padding-left:2px;\"><span>$[\\![\\mathbf{\\text{[saw who]}}]\\!]^{}_{\\left\\{\\left\\langle{}e,\\left\\langle{}s,t\\right\\rangle{}\\right\\rangle{}\\right\\}}$</span></div></div><div style=\"display:table-row;\"><div align=\"center\" style=\"display:table-cell;padding-right:2px; padding-left:2px;\"><span>$\\{\\lambda{} y_{e} \\: . \\: \\lambda{} w_{s} \\: . \\: {Saw}({w}, {y}, {John}_{e}), \\lambda{} y_{e} \\: . \\: \\lambda{} w_{s} \\: . \\: {Saw}({w}, {y}, {Mary}_{e}), \\lambda{} y_{e} \\: . \\: \\lambda{} w_{s} \\: . \\: {Saw}({w}, {y}, {Sue}_{e})\\}$</span></div></div></div></div></div><div style=\"display:table-cell;\"></div></div></div></div><div style=\"align: center; vertical-align: middle; display: table-cell;\"><span style=\"padding:1em;\">*</span></div><div style=\"display:table-cell;vertical-align:middle;padding: 5px;\"><div align=\"center\" style=\"display:inline-block;padding: 5px;\"><div align=\"center\" style=\"display:table;table-layout:auto;\"><div style=\"display:table-row;\"><div align=\"center\" style=\"display:table-cell;padding-right:2px; padding-left:2px;\"><span>$[\\![\\mathbf{\\text{john}}]\\!]^{}_{\\left\\{e\\right\\}}$</span></div></div><div style=\"display:table-row;\"><div align=\"center\" style=\"display:table-cell;padding-right:2px; padding-left:2px;\"><span>$\\{{John}_{e}\\}$</span></div></div></div></div></div></div></div><div style=\"display:table-cell;vertical-align:middle;border-left:1px solid #848482;padding:0.5em\"><div style=\"white-space:nowrap; color:blue;\"><b>[<span>PFA</span>]</b></div></div></div><div align=\"center\" style=\"display:table-row;padding: 5px;\"><div align=\"center\" style=\"display:table-cell;\"><div align=\"center\" style=\"display:inline-block;padding: 5px;\"><div align=\"center\" style=\"display:table;table-layout:auto;\"><div style=\"display:table-row;\"><div align=\"center\" style=\"display:table-cell;padding-right:2px; padding-left:2px;\"><span>$[\\![\\mathbf{\\text{[[saw who] john]}}]\\!]^{}_{\\left\\{\\left\\langle{}s,t\\right\\rangle{}\\right\\}}$</span></div></div><div style=\"display:table-row;\"><div align=\"center\" style=\"display:table-cell;padding-right:2px; padding-left:2px;\"><span>$\\{\\lambda{} w_{s} \\: . \\: {Saw}({w}, {John}_{e}, {John}_{e}), \\lambda{} w_{s} \\: . \\: {Saw}({w}, {John}_{e}, {Mary}_{e}), \\lambda{} w_{s} \\: . \\: {Saw}({w}, {John}_{e}, {Sue}_{e})\\}$</span></div></div></div></div></div><div style=\"display:table-cell;\"></div></div></div><br /><br />"
      ],
      "text/latex": [
       "1 composition path:<br /><div align=\"center\" style=\"display:table; margin:5px; border-collapse: collapse;border: 1px solid #848482;\"><div align=\"center\" style=\"display:table-row;border-bottom:1px solid #848482\"><div style=\"display:table-cell;vertical-align:middle;\"><div style=\"display: table;\"><div style=\"display:table-cell;vertical-align:middle;padding: 5px;\"><div align=\"center\" style=\"display:table; margin:5px; border-collapse: collapse;border: 1px solid #848482;\"><div align=\"center\" style=\"display:table-row;border-bottom:1px solid #848482\"><div style=\"display:table-cell;vertical-align:middle;\"><div style=\"display: table;\"><div style=\"display:table-cell;vertical-align:middle;padding: 5px;\"><div align=\"center\" style=\"display:inline-block;padding: 5px;\"><div align=\"center\" style=\"display:table;table-layout:auto;\"><div style=\"display:table-row;\"><div align=\"center\" style=\"display:table-cell;padding-right:2px; padding-left:2px;\"><span>$[\\![\\mathbf{\\text{saw}}]\\!]^{}_{\\left\\{\\left\\langle{}e,\\left\\langle{}e,\\left\\langle{}s,t\\right\\rangle{}\\right\\rangle{}\\right\\rangle{}\\right\\}}$</span></div></div><div style=\"display:table-row;\"><div align=\"center\" style=\"display:table-cell;padding-right:2px; padding-left:2px;\"><span>$\\{\\lambda{} x_{e} \\: . \\: \\lambda{} y_{e} \\: . \\: \\lambda{} w_{s} \\: . \\: {Saw}({w}, {y}, {x})\\}$</span></div></div></div></div></div><div style=\"align: center; vertical-align: middle; display: table-cell;\"><span style=\"padding:1em;\">*</span></div><div style=\"display:table-cell;vertical-align:middle;padding: 5px;\"><div align=\"center\" style=\"display:inline-block;padding: 5px;\"><div align=\"center\" style=\"display:table;table-layout:auto;\"><div style=\"display:table-row;\"><div align=\"center\" style=\"display:table-cell;padding-right:2px; padding-left:2px;\"><span>$[\\![\\mathbf{\\text{who}}]\\!]^{}_{\\left\\{e\\right\\}}$</span></div></div><div style=\"display:table-row;\"><div align=\"center\" style=\"display:table-cell;padding-right:2px; padding-left:2px;\"><span>$\\{{John}_{e}, {Mary}_{e}, {Sue}_{e}\\}$</span></div></div></div></div></div></div></div><div style=\"display:table-cell;vertical-align:middle;border-left:1px solid #848482;padding:0.5em\"><div style=\"white-space:nowrap; color:blue;\"><b>[<span>PFA</span>]</b></div></div></div><div align=\"center\" style=\"display:table-row;padding: 5px;\"><div align=\"center\" style=\"display:table-cell;\"><div align=\"center\" style=\"display:inline-block;padding: 5px;\"><div align=\"center\" style=\"display:table;table-layout:auto;\"><div style=\"display:table-row;\"><div align=\"center\" style=\"display:table-cell;padding-right:2px; padding-left:2px;\"><span>$[\\![\\mathbf{\\text{[saw who]}}]\\!]^{}_{\\left\\{\\left\\langle{}e,\\left\\langle{}s,t\\right\\rangle{}\\right\\rangle{}\\right\\}}$</span></div></div><div style=\"display:table-row;\"><div align=\"center\" style=\"display:table-cell;padding-right:2px; padding-left:2px;\"><span>$\\{\\lambda{} y_{e} \\: . \\: \\lambda{} w_{s} \\: . \\: {Saw}({w}, {y}, {John}_{e}), \\lambda{} y_{e} \\: . \\: \\lambda{} w_{s} \\: . \\: {Saw}({w}, {y}, {Mary}_{e}), \\lambda{} y_{e} \\: . \\: \\lambda{} w_{s} \\: . \\: {Saw}({w}, {y}, {Sue}_{e})\\}$</span></div></div></div></div></div><div style=\"display:table-cell;\"></div></div></div></div><div style=\"align: center; vertical-align: middle; display: table-cell;\"><span style=\"padding:1em;\">*</span></div><div style=\"display:table-cell;vertical-align:middle;padding: 5px;\"><div align=\"center\" style=\"display:inline-block;padding: 5px;\"><div align=\"center\" style=\"display:table;table-layout:auto;\"><div style=\"display:table-row;\"><div align=\"center\" style=\"display:table-cell;padding-right:2px; padding-left:2px;\"><span>$[\\![\\mathbf{\\text{john}}]\\!]^{}_{\\left\\{e\\right\\}}$</span></div></div><div style=\"display:table-row;\"><div align=\"center\" style=\"display:table-cell;padding-right:2px; padding-left:2px;\"><span>$\\{{John}_{e}\\}$</span></div></div></div></div></div></div></div><div style=\"display:table-cell;vertical-align:middle;border-left:1px solid #848482;padding:0.5em\"><div style=\"white-space:nowrap; color:blue;\"><b>[<span>PFA</span>]</b></div></div></div><div align=\"center\" style=\"display:table-row;padding: 5px;\"><div align=\"center\" style=\"display:table-cell;\"><div align=\"center\" style=\"display:inline-block;padding: 5px;\"><div align=\"center\" style=\"display:table;table-layout:auto;\"><div style=\"display:table-row;\"><div align=\"center\" style=\"display:table-cell;padding-right:2px; padding-left:2px;\"><span>$[\\![\\mathbf{\\text{[[saw who] john]}}]\\!]^{}_{\\left\\{\\left\\langle{}s,t\\right\\rangle{}\\right\\}}$</span></div></div><div style=\"display:table-row;\"><div align=\"center\" style=\"display:table-cell;padding-right:2px; padding-left:2px;\"><span>$\\{\\lambda{} w_{s} \\: . \\: {Saw}({w}, {John}_{e}, {John}_{e}), \\lambda{} w_{s} \\: . \\: {Saw}({w}, {John}_{e}, {Mary}_{e}), \\lambda{} w_{s} \\: . \\: {Saw}({w}, {John}_{e}, {Sue}_{e})\\}$</span></div></div></div></div></div><div style=\"display:table-cell;\"></div></div></div><br /><br />"
      ],
      "text/plain": [
       "1 composition path:<br /><div align=\"center\" style=\"display:table; margin:5px; border-collapse: collapse;border: 1px solid #848482;\"><div align=\"center\" style=\"display:table-row;border-bottom:1px solid #848482\"><div style=\"display:table-cell;vertical-align:middle;\"><div style=\"display: table;\"><div style=\"display:table-cell;vertical-align:middle;padding: 5px;\"><div align=\"center\" style=\"display:table; margin:5px; border-collapse: collapse;border: 1px solid #848482;\"><div align=\"center\" style=\"display:table-row;border-bottom:1px solid #848482\"><div style=\"display:table-cell;vertical-align:middle;\"><div style=\"display: table;\"><div style=\"display:table-cell;vertical-align:middle;padding: 5px;\"><div align=\"center\" style=\"display:inline-block;padding: 5px;\"><div align=\"center\" style=\"display:table;table-layout:auto;\"><div style=\"display:table-row;\"><div align=\"center\" style=\"display:table-cell;padding-right:2px; padding-left:2px;\"><span>$[\\![\\mathbf{\\text{saw}}]\\!]^{}_{\\left\\{\\left\\langle{}e,\\left\\langle{}e,\\left\\langle{}s,t\\right\\rangle{}\\right\\rangle{}\\right\\rangle{}\\right\\}}$</span></div></div><div style=\"display:table-row;\"><div align=\"center\" style=\"display:table-cell;padding-right:2px; padding-left:2px;\"><span>$\\{\\lambda{} x_{e} \\: . \\: \\lambda{} y_{e} \\: . \\: \\lambda{} w_{s} \\: . \\: {Saw}({w}, {y}, {x})\\}$</span></div></div></div></div></div><div style=\"align: center; vertical-align: middle; display: table-cell;\"><span style=\"padding:1em;\">*</span></div><div style=\"display:table-cell;vertical-align:middle;padding: 5px;\"><div align=\"center\" style=\"display:inline-block;padding: 5px;\"><div align=\"center\" style=\"display:table;table-layout:auto;\"><div style=\"display:table-row;\"><div align=\"center\" style=\"display:table-cell;padding-right:2px; padding-left:2px;\"><span>$[\\![\\mathbf{\\text{who}}]\\!]^{}_{\\left\\{e\\right\\}}$</span></div></div><div style=\"display:table-row;\"><div align=\"center\" style=\"display:table-cell;padding-right:2px; padding-left:2px;\"><span>$\\{{John}_{e}, {Mary}_{e}, {Sue}_{e}\\}$</span></div></div></div></div></div></div></div><div style=\"display:table-cell;vertical-align:middle;border-left:1px solid #848482;padding:0.5em\"><div style=\"white-space:nowrap; color:blue;\"><b>[<span>PFA</span>]</b></div></div></div><div align=\"center\" style=\"display:table-row;padding: 5px;\"><div align=\"center\" style=\"display:table-cell;\"><div align=\"center\" style=\"display:inline-block;padding: 5px;\"><div align=\"center\" style=\"display:table;table-layout:auto;\"><div style=\"display:table-row;\"><div align=\"center\" style=\"display:table-cell;padding-right:2px; padding-left:2px;\"><span>$[\\![\\mathbf{\\text{[saw who]}}]\\!]^{}_{\\left\\{\\left\\langle{}e,\\left\\langle{}s,t\\right\\rangle{}\\right\\rangle{}\\right\\}}$</span></div></div><div style=\"display:table-row;\"><div align=\"center\" style=\"display:table-cell;padding-right:2px; padding-left:2px;\"><span>$\\{\\lambda{} y_{e} \\: . \\: \\lambda{} w_{s} \\: . \\: {Saw}({w}, {y}, {John}_{e}), \\lambda{} y_{e} \\: . \\: \\lambda{} w_{s} \\: . \\: {Saw}({w}, {y}, {Mary}_{e}), \\lambda{} y_{e} \\: . \\: \\lambda{} w_{s} \\: . \\: {Saw}({w}, {y}, {Sue}_{e})\\}$</span></div></div></div></div></div><div style=\"display:table-cell;\"></div></div></div></div><div style=\"align: center; vertical-align: middle; display: table-cell;\"><span style=\"padding:1em;\">*</span></div><div style=\"display:table-cell;vertical-align:middle;padding: 5px;\"><div align=\"center\" style=\"display:inline-block;padding: 5px;\"><div align=\"center\" style=\"display:table;table-layout:auto;\"><div style=\"display:table-row;\"><div align=\"center\" style=\"display:table-cell;padding-right:2px; padding-left:2px;\"><span>$[\\![\\mathbf{\\text{john}}]\\!]^{}_{\\left\\{e\\right\\}}$</span></div></div><div style=\"display:table-row;\"><div align=\"center\" style=\"display:table-cell;padding-right:2px; padding-left:2px;\"><span>$\\{{John}_{e}\\}$</span></div></div></div></div></div></div></div><div style=\"display:table-cell;vertical-align:middle;border-left:1px solid #848482;padding:0.5em\"><div style=\"white-space:nowrap; color:blue;\"><b>[<span>PFA</span>]</b></div></div></div><div align=\"center\" style=\"display:table-row;padding: 5px;\"><div align=\"center\" style=\"display:table-cell;\"><div align=\"center\" style=\"display:inline-block;padding: 5px;\"><div align=\"center\" style=\"display:table;table-layout:auto;\"><div style=\"display:table-row;\"><div align=\"center\" style=\"display:table-cell;padding-right:2px; padding-left:2px;\"><span>$[\\![\\mathbf{\\text{[[saw who] john]}}]\\!]^{}_{\\left\\{\\left\\langle{}s,t\\right\\rangle{}\\right\\}}$</span></div></div><div style=\"display:table-row;\"><div align=\"center\" style=\"display:table-cell;padding-right:2px; padding-left:2px;\"><span>$\\{\\lambda{} w_{s} \\: . \\: {Saw}({w}, {John}_{e}, {John}_{e}), \\lambda{} w_{s} \\: . \\: {Saw}({w}, {John}_{e}, {Mary}_{e}), \\lambda{} w_{s} \\: . \\: {Saw}({w}, {John}_{e}, {Sue}_{e})\\}$</span></div></div></div></div></div><div style=\"display:table-cell;\"></div></div></div><br /><br />"
      ]
     },
     "execution_count": 15,
     "metadata": {},
     "output_type": "execute_result"
    }
   ],
   "source": [
    "(john * (saw * who)).tree()"
   ]
  },
  {
   "cell_type": "code",
   "execution_count": 16,
   "metadata": {},
   "outputs": [
    {
     "data": {
      "text/html": [
       "1 composition path.  Result:\n",
       "<br />&nbsp;&nbsp;&nbsp;&nbsp;[0]: $[\\![\\mathbf{\\text{[[saw john] who]}}]\\!]^{}_{\\left\\{\\left\\langle{}s,t\\right\\rangle{}\\right\\}} \\:=\\: $$\\{\\lambda{} w_{s} \\: . \\: {Saw}({w}, {John}_{e}, {John}_{e}), \\lambda{} w_{s} \\: . \\: {Saw}({w}, {Mary}_{e}, {John}_{e}), \\lambda{} w_{s} \\: . \\: {Saw}({w}, {Sue}_{e}, {John}_{e})\\}$"
      ],
      "text/plain": [
       "CompositionResult(results=[⟦[[saw john] who]⟧ = {(λ w_s: Saw_<(s,e,e),t>(w_s, Mary_e, John_e)), (λ w_s: Saw_<(s,e,e),t>(w_s, John_e, John_e)), (λ w_s: Saw_<(s,e,e),t>(w_s, Sue_e, John_e))}], failures=[⟦[who [saw john]]⟧ = Type mismatch: '⟦who⟧ = {Mary_e, Sue_e, John_e}'/{e} and '⟦[saw john]⟧ = {(λ y_e: (λ w_s: Saw_<(s,e,e),t>(w_s, y_e, John_e)))}'/{<e,<s,t>>} conflict (mode: Function Application), ⟦[[saw john] who]⟧ = Type mismatch: '⟦[saw john]⟧ = {(λ y_e: (λ w_s: Saw_<(s,e,e),t>(w_s, y_e, John_e)))}'/{<e,<s,t>>} and '⟦who⟧ = {Mary_e, Sue_e, John_e}'/{e} conflict (mode: Function Application), ⟦[who [saw john]]⟧ = Type mismatch: '⟦who⟧ = {Mary_e, Sue_e, John_e}'/{e} and '⟦[saw john]⟧ = {(λ y_e: (λ w_s: Saw_<(s,e,e),t>(w_s, y_e, John_e)))}'/{<e,<s,t>>} conflict (mode: Predicate Modification), ⟦[who [saw john]]⟧ = Type mismatch: '⟦who⟧ = {Mary_e, Sue_e, John_e}'/{e} and '⟦[saw john]⟧ = {(λ y_e: (λ w_s: Saw_<(s,e,e),t>(w_s, y_e, John_e)))}'/{<e,<s,t>>} conflict (mode: Predicate Abstraction), ⟦[[saw john] who]⟧ = Type mismatch: '⟦[saw john]⟧ = {(λ y_e: (λ w_s: Saw_<(s,e,e),t>(w_s, y_e, John_e)))}'/{<e,<s,t>>} and '⟦who⟧ = {Mary_e, Sue_e, John_e}'/{e} conflict (mode: Predicate Abstraction), ⟦[who [saw john]]⟧ = Type mismatch: '(λ f_{<I37,Y>}: (λ a_{I37}: (Set x_Y: (Exists f1_<I37,Y>: (Exists a1_I37: (((f1_<I37,Y> << f_{<I37,Y>}) & (a1_I37 << a_{I37})) & (x_Y <=> f1_<I37,Y>(a1_I40))))))))'/<{<I37,Y>},<{I37},{Y}>> and '{Mary_e, Sue_e, John_e}'/{e} conflict (mode: Function argument combination (unification failed))])"
      ]
     },
     "execution_count": 16,
     "metadata": {},
     "output_type": "execute_result"
    }
   ],
   "source": [
    "who * (saw * john)"
   ]
  },
  {
   "cell_type": "markdown",
   "metadata": {},
   "source": [
    "The analysis of existentials in a compositional Hamblin semantics (e.g. for Japanese) can be illustrated in this simple example by adding Hamblin 1-place quantificational operators that compose via ordinary FA."
   ]
  },
  {
   "cell_type": "code",
   "execution_count": 17,
   "metadata": {},
   "outputs": [
    {
     "data": {
      "text/html": [
       "$[\\![\\mathbf{\\text{HExists}}]\\!]^{}_{\\left\\langle{}\\left\\{\\left\\langle{}s,t\\right\\rangle{}\\right\\},\\left\\{\\left\\langle{}s,t\\right\\rangle{}\\right\\}\\right\\rangle{}} \\:=\\: $$\\lambda{} p_{\\left\\{\\left\\langle{}s,t\\right\\rangle{}\\right\\}} \\: . \\: \\{\\lambda{} w_{s} \\: . \\: \\exists{} q_{\\left\\langle{}s,t\\right\\rangle{}} \\: . \\: ({q}({w}) \\wedge{} ({q} \\in{} {p}))\\}$<br />\n",
       "$[\\![\\mathbf{\\text{HForall}}]\\!]^{}_{\\left\\langle{}\\left\\{\\left\\langle{}s,t\\right\\rangle{}\\right\\},\\left\\{\\left\\langle{}s,t\\right\\rangle{}\\right\\}\\right\\rangle{}} \\:=\\: $$\\lambda{} p_{\\left\\{\\left\\langle{}s,t\\right\\rangle{}\\right\\}} \\: . \\: \\{\\lambda{} w_{s} \\: . \\: \\forall{} q_{\\left\\langle{}s,t\\right\\rangle{}} \\: . \\: ({q}({w}) \\rightarrow{} ({q} \\in{} {p}))\\}$"
      ],
      "text/latex": [
       "$[\\![\\mathbf{\\text{HExists}}]\\!]^{}_{\\left\\langle{}\\left\\{\\left\\langle{}s,t\\right\\rangle{}\\right\\},\\left\\{\\left\\langle{}s,t\\right\\rangle{}\\right\\}\\right\\rangle{}} \\:=\\: $$\\lambda{} p_{\\left\\{\\left\\langle{}s,t\\right\\rangle{}\\right\\}} \\: . \\: \\{\\lambda{} w_{s} \\: . \\: \\exists{} q_{\\left\\langle{}s,t\\right\\rangle{}} \\: . \\: ({q}({w}) \\wedge{} ({q} \\in{} {p}))\\}$<br />\n",
       "$[\\![\\mathbf{\\text{HForall}}]\\!]^{}_{\\left\\langle{}\\left\\{\\left\\langle{}s,t\\right\\rangle{}\\right\\},\\left\\{\\left\\langle{}s,t\\right\\rangle{}\\right\\}\\right\\rangle{}} \\:=\\: $$\\lambda{} p_{\\left\\{\\left\\langle{}s,t\\right\\rangle{}\\right\\}} \\: . \\: \\{\\lambda{} w_{s} \\: . \\: \\forall{} q_{\\left\\langle{}s,t\\right\\rangle{}} \\: . \\: ({q}({w}) \\rightarrow{} ({q} \\in{} {p}))\\}$"
      ],
      "text/plain": [
       "$[\\![\\mathbf{\\text{HExists}}]\\!]^{}_{\\left\\langle{}\\left\\{\\left\\langle{}s,t\\right\\rangle{}\\right\\},\\left\\{\\left\\langle{}s,t\\right\\rangle{}\\right\\}\\right\\rangle{}} \\:=\\: $$\\lambda{} p_{\\left\\{\\left\\langle{}s,t\\right\\rangle{}\\right\\}} \\: . \\: \\{\\lambda{} w_{s} \\: . \\: \\exists{} q_{\\left\\langle{}s,t\\right\\rangle{}} \\: . \\: ({q}({w}) \\wedge{} ({q} \\in{} {p}))\\}$<br />\n",
       "$[\\![\\mathbf{\\text{HForall}}]\\!]^{}_{\\left\\langle{}\\left\\{\\left\\langle{}s,t\\right\\rangle{}\\right\\},\\left\\{\\left\\langle{}s,t\\right\\rangle{}\\right\\}\\right\\rangle{}} \\:=\\: $$\\lambda{} p_{\\left\\{\\left\\langle{}s,t\\right\\rangle{}\\right\\}} \\: . \\: \\{\\lambda{} w_{s} \\: . \\: \\forall{} q_{\\left\\langle{}s,t\\right\\rangle{}} \\: . \\: ({q}({w}) \\rightarrow{} ({q} \\in{} {p}))\\}$"
      ]
     },
     "execution_count": 17,
     "metadata": {},
     "output_type": "execute_result"
    }
   ],
   "source": [
    "%%lamb\n",
    "||HExists|| = L p_{<s,t>} : {(Lambda w_s  : Exists q_<s,t> : q(w) & (q << p))}\n",
    "||HForall|| = L p_{<s,t>} : {(Lambda w_s  : Forall q_<s,t> : q(w) >> (q << p))}"
   ]
  },
  {
   "cell_type": "code",
   "execution_count": 18,
   "metadata": {},
   "outputs": [
    {
     "data": {
      "text/html": [
       "1 composition path.  Result:\n",
       "<br />&nbsp;&nbsp;&nbsp;&nbsp;[0]: $[\\![\\mathbf{\\text{[HExists [[saw john] who]]}}]\\!]^{}_{\\left\\{\\left\\langle{}s,t\\right\\rangle{}\\right\\}} \\:=\\: $$\\{\\lambda{} w_{s} \\: . \\: \\exists{} q_{\\left\\langle{}s,t\\right\\rangle{}} \\: . \\: ({q}({w}) \\wedge{} ({q} \\in{} \\{\\lambda{} w_{s} \\: . \\: {Saw}({w}, {John}_{e}, {John}_{e}), \\lambda{} w_{s} \\: . \\: {Saw}({w}, {Mary}_{e}, {John}_{e}), \\lambda{} w_{s} \\: . \\: {Saw}({w}, {Sue}_{e}, {John}_{e})\\}))\\}$"
      ],
      "text/plain": [
       "CompositionResult(results=[⟦[HExists [[saw john] who]]⟧ = {(λ w_s: (Exists q_<s,t>: (q_<s,t>(w_s) & (q_<s,t> << {(λ w_s: Saw_<(s,e,e),t>(w_s, Mary_e, John_e)), (λ w_s: Saw_<(s,e,e),t>(w_s, John_e, John_e)), (λ w_s: Saw_<(s,e,e),t>(w_s, Sue_e, John_e))}))))}], failures=[⟦[[[saw john] who] HExists]⟧ = Type mismatch: '⟦[[saw john] who]⟧ = {(λ w_s: Saw_<(s,e,e),t>(w_s, Mary_e, John_e)), (λ w_s: Saw_<(s,e,e),t>(w_s, John_e, John_e)), (λ w_s: Saw_<(s,e,e),t>(w_s, Sue_e, John_e))}'/{<s,t>} and '⟦HExists⟧ = (λ p_{<s,t>}: {(λ w_s: (Exists q_<s,t>: (q_<s,t>(w_s) & (q_<s,t> << p_{<s,t>}))))})'/<{<s,t>},{<s,t>}> conflict (mode: Function Application), ⟦[HExists [[saw john] who]]⟧ = Type mismatch: '⟦HExists⟧ = (λ p_{<s,t>}: {(λ w_s: (Exists q_<s,t>: (q_<s,t>(w_s) & (q_<s,t> << p_{<s,t>}))))})'/<{<s,t>},{<s,t>}> and '⟦[[saw john] who]⟧ = {(λ w_s: Saw_<(s,e,e),t>(w_s, Mary_e, John_e)), (λ w_s: Saw_<(s,e,e),t>(w_s, John_e, John_e)), (λ w_s: Saw_<(s,e,e),t>(w_s, Sue_e, John_e))}'/{<s,t>} conflict (mode: Predicate Modification), ⟦[HExists [[saw john] who]]⟧ = Type mismatch: '⟦HExists⟧ = (λ p_{<s,t>}: {(λ w_s: (Exists q_<s,t>: (q_<s,t>(w_s) & (q_<s,t> << p_{<s,t>}))))})'/<{<s,t>},{<s,t>}> and '⟦[[saw john] who]⟧ = {(λ w_s: Saw_<(s,e,e),t>(w_s, Mary_e, John_e)), (λ w_s: Saw_<(s,e,e),t>(w_s, John_e, John_e)), (λ w_s: Saw_<(s,e,e),t>(w_s, Sue_e, John_e))}'/{<s,t>} conflict (mode: Predicate Abstraction), ⟦[[[saw john] who] HExists]⟧ = Type mismatch: '⟦[[saw john] who]⟧ = {(λ w_s: Saw_<(s,e,e),t>(w_s, Mary_e, John_e)), (λ w_s: Saw_<(s,e,e),t>(w_s, John_e, John_e)), (λ w_s: Saw_<(s,e,e),t>(w_s, Sue_e, John_e))}'/{<s,t>} and '⟦HExists⟧ = (λ p_{<s,t>}: {(λ w_s: (Exists q_<s,t>: (q_<s,t>(w_s) & (q_<s,t> << p_{<s,t>}))))})'/<{<s,t>},{<s,t>}> conflict (mode: Predicate Abstraction), ⟦[HExists [[saw john] who]]⟧ = Type mismatch: '(λ f_{<I37,Y>}: (λ a_{I37}: (Set x_Y: (Exists f1_<I37,Y>: (Exists a1_I37: (((f1_<I37,Y> << f_{<I37,Y>}) & (a1_I37 << a_{I37})) & (x_Y <=> f1_<I37,Y>(a1_I40))))))))'/<{<I37,Y>},<{I37},{Y}>> and '(λ p_{<s,t>}: {(λ w_s: (Exists q_<s,t>: (q_<s,t>(w_s) & (q_<s,t> << p_{<s,t>}))))})'/<{<s,t>},{<s,t>}> conflict (mode: Function argument combination (unification failed)), ⟦[[[saw john] who] HExists]⟧ = Type mismatch: '((λ f_{<s,t>}: (λ a_{s}: (Set x_t: (Exists f1_<s,t>: (Exists a1_s: (((f1_<s,t> << f_{<s,t>}) & (a1_s << a_{s})) & (x_t <=> f1_<s,t>(a1_s)))))))))({(λ w_s: Saw_<(s,e,e),t>(w_s, Mary_e, John_e)), (λ w_s: Saw_<(s,e,e),t>(w_s, John_e, John_e)), (λ w_s: Saw_<(s,e,e),t>(w_s, Sue_e, John_e))})'/<{s},{t}> and '(λ p_{<s,t>}: {(λ w_s: (Exists q_<s,t>: (q_<s,t>(w_s) & (q_<s,t> << p_{<s,t>}))))})'/<{<s,t>},{<s,t>}> conflict (mode: Function argument combination (unification failed))])"
      ]
     },
     "execution_count": 18,
     "metadata": {},
     "output_type": "execute_result"
    }
   ],
   "source": [
    "HExists * (who * (saw * john))"
   ]
  },
  {
   "cell_type": "code",
   "execution_count": 19,
   "metadata": {},
   "outputs": [
    {
     "data": {
      "text/html": [
       "1 composition path.  Result:\n",
       "<br />&nbsp;&nbsp;&nbsp;&nbsp;[0]: $[\\![\\mathbf{\\text{[HExists [[saw who] john]]}}]\\!]^{}_{\\left\\{\\left\\langle{}s,t\\right\\rangle{}\\right\\}} \\:=\\: $$\\{\\lambda{} w_{s} \\: . \\: \\exists{} q_{\\left\\langle{}s,t\\right\\rangle{}} \\: . \\: ({q}({w}) \\wedge{} ({q} \\in{} \\{\\lambda{} w_{s} \\: . \\: {Saw}({w}, {John}_{e}, {John}_{e}), \\lambda{} w_{s} \\: . \\: {Saw}({w}, {John}_{e}, {Mary}_{e}), \\lambda{} w_{s} \\: . \\: {Saw}({w}, {John}_{e}, {Sue}_{e})\\}))\\}$"
      ],
      "text/plain": [
       "CompositionResult(results=[⟦[HExists [[saw who] john]]⟧ = {(λ w_s: (Exists q_<s,t>: (q_<s,t>(w_s) & (q_<s,t> << {(λ w_s: Saw_<(s,e,e),t>(w_s, John_e, Mary_e)), (λ w_s: Saw_<(s,e,e),t>(w_s, John_e, Sue_e)), (λ w_s: Saw_<(s,e,e),t>(w_s, John_e, John_e))}))))}], failures=[⟦[[[saw who] john] HExists]⟧ = Type mismatch: '⟦[[saw who] john]⟧ = {(λ w_s: Saw_<(s,e,e),t>(w_s, John_e, Mary_e)), (λ w_s: Saw_<(s,e,e),t>(w_s, John_e, Sue_e)), (λ w_s: Saw_<(s,e,e),t>(w_s, John_e, John_e))}'/{<s,t>} and '⟦HExists⟧ = (λ p_{<s,t>}: {(λ w_s: (Exists q_<s,t>: (q_<s,t>(w_s) & (q_<s,t> << p_{<s,t>}))))})'/<{<s,t>},{<s,t>}> conflict (mode: Function Application), ⟦[HExists [[saw who] john]]⟧ = Type mismatch: '⟦HExists⟧ = (λ p_{<s,t>}: {(λ w_s: (Exists q_<s,t>: (q_<s,t>(w_s) & (q_<s,t> << p_{<s,t>}))))})'/<{<s,t>},{<s,t>}> and '⟦[[saw who] john]⟧ = {(λ w_s: Saw_<(s,e,e),t>(w_s, John_e, Mary_e)), (λ w_s: Saw_<(s,e,e),t>(w_s, John_e, Sue_e)), (λ w_s: Saw_<(s,e,e),t>(w_s, John_e, John_e))}'/{<s,t>} conflict (mode: Predicate Modification), ⟦[HExists [[saw who] john]]⟧ = Type mismatch: '⟦HExists⟧ = (λ p_{<s,t>}: {(λ w_s: (Exists q_<s,t>: (q_<s,t>(w_s) & (q_<s,t> << p_{<s,t>}))))})'/<{<s,t>},{<s,t>}> and '⟦[[saw who] john]⟧ = {(λ w_s: Saw_<(s,e,e),t>(w_s, John_e, Mary_e)), (λ w_s: Saw_<(s,e,e),t>(w_s, John_e, Sue_e)), (λ w_s: Saw_<(s,e,e),t>(w_s, John_e, John_e))}'/{<s,t>} conflict (mode: Predicate Abstraction), ⟦[[[saw who] john] HExists]⟧ = Type mismatch: '⟦[[saw who] john]⟧ = {(λ w_s: Saw_<(s,e,e),t>(w_s, John_e, Mary_e)), (λ w_s: Saw_<(s,e,e),t>(w_s, John_e, Sue_e)), (λ w_s: Saw_<(s,e,e),t>(w_s, John_e, John_e))}'/{<s,t>} and '⟦HExists⟧ = (λ p_{<s,t>}: {(λ w_s: (Exists q_<s,t>: (q_<s,t>(w_s) & (q_<s,t> << p_{<s,t>}))))})'/<{<s,t>},{<s,t>}> conflict (mode: Predicate Abstraction), ⟦[HExists [[saw who] john]]⟧ = Type mismatch: '(λ f_{<I37,Y>}: (λ a_{I37}: (Set x_Y: (Exists f1_<I37,Y>: (Exists a1_I37: (((f1_<I37,Y> << f_{<I37,Y>}) & (a1_I37 << a_{I37})) & (x_Y <=> f1_<I37,Y>(a1_I40))))))))'/<{<I37,Y>},<{I37},{Y}>> and '(λ p_{<s,t>}: {(λ w_s: (Exists q_<s,t>: (q_<s,t>(w_s) & (q_<s,t> << p_{<s,t>}))))})'/<{<s,t>},{<s,t>}> conflict (mode: Function argument combination (unification failed)), ⟦[[[saw who] john] HExists]⟧ = Type mismatch: '((λ f_{<s,t>}: (λ a_{s}: (Set x_t: (Exists f1_<s,t>: (Exists a1_s: (((f1_<s,t> << f_{<s,t>}) & (a1_s << a_{s})) & (x_t <=> f1_<s,t>(a1_s)))))))))({(λ w_s: Saw_<(s,e,e),t>(w_s, John_e, Mary_e)), (λ w_s: Saw_<(s,e,e),t>(w_s, John_e, Sue_e)), (λ w_s: Saw_<(s,e,e),t>(w_s, John_e, John_e))})'/<{s},{t}> and '(λ p_{<s,t>}: {(λ w_s: (Exists q_<s,t>: (q_<s,t>(w_s) & (q_<s,t> << p_{<s,t>}))))})'/<{<s,t>},{<s,t>}> conflict (mode: Function argument combination (unification failed))])"
      ]
     },
     "execution_count": 19,
     "metadata": {},
     "output_type": "execute_result"
    }
   ],
   "source": [
    "HExists * (john * (saw * who))"
   ]
  },
  {
   "cell_type": "code",
   "execution_count": 20,
   "metadata": {},
   "outputs": [
    {
     "data": {
      "text/html": [
       "1 composition path:<br /><div align=\"center\" style=\"display:table; margin:5px; border-collapse: collapse;border: 1px solid #848482;\"><div align=\"center\" style=\"display:table-row;border-bottom:1px solid #848482\"><div style=\"display:table-cell;vertical-align:middle;\"><div style=\"display: table;\"><div style=\"display:table-cell;vertical-align:middle;padding: 5px;\"><div align=\"center\" style=\"display:inline-block;padding: 5px;\"><div align=\"center\" style=\"display:table;table-layout:auto;\"><div style=\"display:table-row;\"><div align=\"center\" style=\"display:table-cell;padding-right:2px; padding-left:2px;\"><span>$[\\![\\mathbf{\\text{HExists}}]\\!]^{}_{\\left\\langle{}\\left\\{\\left\\langle{}s,t\\right\\rangle{}\\right\\},\\left\\{\\left\\langle{}s,t\\right\\rangle{}\\right\\}\\right\\rangle{}}$</span></div></div><div style=\"display:table-row;\"><div align=\"center\" style=\"display:table-cell;padding-right:2px; padding-left:2px;\"><span>$\\lambda{} p_{\\left\\{\\left\\langle{}s,t\\right\\rangle{}\\right\\}} \\: . \\: \\{\\lambda{} w_{s} \\: . \\: \\exists{} q_{\\left\\langle{}s,t\\right\\rangle{}} \\: . \\: ({q}({w}) \\wedge{} ({q} \\in{} {p}))\\}$</span></div></div></div></div></div><div style=\"align: center; vertical-align: middle; display: table-cell;\"><span style=\"padding:1em;\">*</span></div><div style=\"display:table-cell;vertical-align:middle;padding: 5px;\"><div align=\"center\" style=\"display:table; margin:5px; border-collapse: collapse;border: 1px solid #848482;\"><div align=\"center\" style=\"display:table-row;border-bottom:1px solid #848482\"><div style=\"display:table-cell;vertical-align:middle;\"><div style=\"display: table;\"><div style=\"display:table-cell;vertical-align:middle;padding: 5px;\"><div align=\"center\" style=\"display:table; margin:5px; border-collapse: collapse;border: 1px solid #848482;\"><div align=\"center\" style=\"display:table-row;border-bottom:1px solid #848482\"><div style=\"display:table-cell;vertical-align:middle;\"><div style=\"display: table;\"><div style=\"display:table-cell;vertical-align:middle;padding: 5px;\"><div align=\"center\" style=\"display:inline-block;padding: 5px;\"><div align=\"center\" style=\"display:table;table-layout:auto;\"><div style=\"display:table-row;\"><div align=\"center\" style=\"display:table-cell;padding-right:2px; padding-left:2px;\"><span>$[\\![\\mathbf{\\text{saw}}]\\!]^{}_{\\left\\{\\left\\langle{}e,\\left\\langle{}e,\\left\\langle{}s,t\\right\\rangle{}\\right\\rangle{}\\right\\rangle{}\\right\\}}$</span></div></div><div style=\"display:table-row;\"><div align=\"center\" style=\"display:table-cell;padding-right:2px; padding-left:2px;\"><span>$\\{\\lambda{} x_{e} \\: . \\: \\lambda{} y_{e} \\: . \\: \\lambda{} w_{s} \\: . \\: {Saw}({w}, {y}, {x})\\}$</span></div></div></div></div></div><div style=\"align: center; vertical-align: middle; display: table-cell;\"><span style=\"padding:1em;\">*</span></div><div style=\"display:table-cell;vertical-align:middle;padding: 5px;\"><div align=\"center\" style=\"display:inline-block;padding: 5px;\"><div align=\"center\" style=\"display:table;table-layout:auto;\"><div style=\"display:table-row;\"><div align=\"center\" style=\"display:table-cell;padding-right:2px; padding-left:2px;\"><span>$[\\![\\mathbf{\\text{who}}]\\!]^{}_{\\left\\{e\\right\\}}$</span></div></div><div style=\"display:table-row;\"><div align=\"center\" style=\"display:table-cell;padding-right:2px; padding-left:2px;\"><span>$\\{{John}_{e}, {Mary}_{e}, {Sue}_{e}\\}$</span></div></div></div></div></div></div></div><div style=\"display:table-cell;vertical-align:middle;border-left:1px solid #848482;padding:0.5em\"><div style=\"white-space:nowrap; color:blue;\"><b>[<span>PFA</span>]</b></div></div></div><div align=\"center\" style=\"display:table-row;padding: 5px;\"><div align=\"center\" style=\"display:table-cell;\"><div align=\"center\" style=\"display:inline-block;padding: 5px;\"><div align=\"center\" style=\"display:table;table-layout:auto;\"><div style=\"display:table-row;\"><div align=\"center\" style=\"display:table-cell;padding-right:2px; padding-left:2px;\"><span>$[\\![\\mathbf{\\text{[saw who]}}]\\!]^{}_{\\left\\{\\left\\langle{}e,\\left\\langle{}s,t\\right\\rangle{}\\right\\rangle{}\\right\\}}$</span></div></div><div style=\"display:table-row;\"><div align=\"center\" style=\"display:table-cell;padding-right:2px; padding-left:2px;\"><span>$\\{\\lambda{} y_{e} \\: . \\: \\lambda{} w_{s} \\: . \\: {Saw}({w}, {y}, {John}_{e}), \\lambda{} y_{e} \\: . \\: \\lambda{} w_{s} \\: . \\: {Saw}({w}, {y}, {Mary}_{e}), \\lambda{} y_{e} \\: . \\: \\lambda{} w_{s} \\: . \\: {Saw}({w}, {y}, {Sue}_{e})\\}$</span></div></div></div></div></div><div style=\"display:table-cell;\"></div></div></div></div><div style=\"align: center; vertical-align: middle; display: table-cell;\"><span style=\"padding:1em;\">*</span></div><div style=\"display:table-cell;vertical-align:middle;padding: 5px;\"><div align=\"center\" style=\"display:inline-block;padding: 5px;\"><div align=\"center\" style=\"display:table;table-layout:auto;\"><div style=\"display:table-row;\"><div align=\"center\" style=\"display:table-cell;padding-right:2px; padding-left:2px;\"><span>$[\\![\\mathbf{\\text{john}}]\\!]^{}_{\\left\\{e\\right\\}}$</span></div></div><div style=\"display:table-row;\"><div align=\"center\" style=\"display:table-cell;padding-right:2px; padding-left:2px;\"><span>$\\{{John}_{e}\\}$</span></div></div></div></div></div></div></div><div style=\"display:table-cell;vertical-align:middle;border-left:1px solid #848482;padding:0.5em\"><div style=\"white-space:nowrap; color:blue;\"><b>[<span>PFA</span>]</b></div></div></div><div align=\"center\" style=\"display:table-row;padding: 5px;\"><div align=\"center\" style=\"display:table-cell;\"><div align=\"center\" style=\"display:inline-block;padding: 5px;\"><div align=\"center\" style=\"display:table;table-layout:auto;\"><div style=\"display:table-row;\"><div align=\"center\" style=\"display:table-cell;padding-right:2px; padding-left:2px;\"><span>$[\\![\\mathbf{\\text{[[saw who] john]}}]\\!]^{}_{\\left\\{\\left\\langle{}s,t\\right\\rangle{}\\right\\}}$</span></div></div><div style=\"display:table-row;\"><div align=\"center\" style=\"display:table-cell;padding-right:2px; padding-left:2px;\"><span>$\\{\\lambda{} w_{s} \\: . \\: {Saw}({w}, {John}_{e}, {John}_{e}), \\lambda{} w_{s} \\: . \\: {Saw}({w}, {John}_{e}, {Mary}_{e}), \\lambda{} w_{s} \\: . \\: {Saw}({w}, {John}_{e}, {Sue}_{e})\\}$</span></div></div></div></div></div><div style=\"display:table-cell;\"></div></div></div></div></div></div><div style=\"display:table-cell;vertical-align:middle;border-left:1px solid #848482;padding:0.5em\"><div style=\"white-space:nowrap; color:blue;\"><b>[<span>FA</span>]</b></div></div></div><div align=\"center\" style=\"display:table-row;padding: 5px;\"><div align=\"center\" style=\"display:table-cell;\"><div align=\"center\" style=\"display:inline-block;padding: 5px;\"><div align=\"center\" style=\"display:table;table-layout:auto;\"><div style=\"display:table-row;\"><div align=\"center\" style=\"display:table-cell;padding-right:2px; padding-left:2px;\"><span>$[\\![\\mathbf{\\text{[HExists [[saw who] john]]}}]\\!]^{}_{\\left\\{\\left\\langle{}s,t\\right\\rangle{}\\right\\}}$</span></div></div><div style=\"display:table-row;\"><div align=\"center\" style=\"display:table-cell;padding-right:2px; padding-left:2px;\"><span>$\\{\\lambda{} w_{s} \\: . \\: \\exists{} q_{\\left\\langle{}s,t\\right\\rangle{}} \\: . \\: ({q}({w}) \\wedge{} ({q} \\in{} \\{\\lambda{} w_{s} \\: . \\: {Saw}({w}, {John}_{e}, {John}_{e}), \\lambda{} w_{s} \\: . \\: {Saw}({w}, {John}_{e}, {Mary}_{e}), \\lambda{} w_{s} \\: . \\: {Saw}({w}, {John}_{e}, {Sue}_{e})\\}))\\}$</span></div></div></div></div></div><div style=\"display:table-cell;\"></div></div></div><br /><br />"
      ],
      "text/latex": [
       "1 composition path:<br /><div align=\"center\" style=\"display:table; margin:5px; border-collapse: collapse;border: 1px solid #848482;\"><div align=\"center\" style=\"display:table-row;border-bottom:1px solid #848482\"><div style=\"display:table-cell;vertical-align:middle;\"><div style=\"display: table;\"><div style=\"display:table-cell;vertical-align:middle;padding: 5px;\"><div align=\"center\" style=\"display:inline-block;padding: 5px;\"><div align=\"center\" style=\"display:table;table-layout:auto;\"><div style=\"display:table-row;\"><div align=\"center\" style=\"display:table-cell;padding-right:2px; padding-left:2px;\"><span>$[\\![\\mathbf{\\text{HExists}}]\\!]^{}_{\\left\\langle{}\\left\\{\\left\\langle{}s,t\\right\\rangle{}\\right\\},\\left\\{\\left\\langle{}s,t\\right\\rangle{}\\right\\}\\right\\rangle{}}$</span></div></div><div style=\"display:table-row;\"><div align=\"center\" style=\"display:table-cell;padding-right:2px; padding-left:2px;\"><span>$\\lambda{} p_{\\left\\{\\left\\langle{}s,t\\right\\rangle{}\\right\\}} \\: . \\: \\{\\lambda{} w_{s} \\: . \\: \\exists{} q_{\\left\\langle{}s,t\\right\\rangle{}} \\: . \\: ({q}({w}) \\wedge{} ({q} \\in{} {p}))\\}$</span></div></div></div></div></div><div style=\"align: center; vertical-align: middle; display: table-cell;\"><span style=\"padding:1em;\">*</span></div><div style=\"display:table-cell;vertical-align:middle;padding: 5px;\"><div align=\"center\" style=\"display:table; margin:5px; border-collapse: collapse;border: 1px solid #848482;\"><div align=\"center\" style=\"display:table-row;border-bottom:1px solid #848482\"><div style=\"display:table-cell;vertical-align:middle;\"><div style=\"display: table;\"><div style=\"display:table-cell;vertical-align:middle;padding: 5px;\"><div align=\"center\" style=\"display:table; margin:5px; border-collapse: collapse;border: 1px solid #848482;\"><div align=\"center\" style=\"display:table-row;border-bottom:1px solid #848482\"><div style=\"display:table-cell;vertical-align:middle;\"><div style=\"display: table;\"><div style=\"display:table-cell;vertical-align:middle;padding: 5px;\"><div align=\"center\" style=\"display:inline-block;padding: 5px;\"><div align=\"center\" style=\"display:table;table-layout:auto;\"><div style=\"display:table-row;\"><div align=\"center\" style=\"display:table-cell;padding-right:2px; padding-left:2px;\"><span>$[\\![\\mathbf{\\text{saw}}]\\!]^{}_{\\left\\{\\left\\langle{}e,\\left\\langle{}e,\\left\\langle{}s,t\\right\\rangle{}\\right\\rangle{}\\right\\rangle{}\\right\\}}$</span></div></div><div style=\"display:table-row;\"><div align=\"center\" style=\"display:table-cell;padding-right:2px; padding-left:2px;\"><span>$\\{\\lambda{} x_{e} \\: . \\: \\lambda{} y_{e} \\: . \\: \\lambda{} w_{s} \\: . \\: {Saw}({w}, {y}, {x})\\}$</span></div></div></div></div></div><div style=\"align: center; vertical-align: middle; display: table-cell;\"><span style=\"padding:1em;\">*</span></div><div style=\"display:table-cell;vertical-align:middle;padding: 5px;\"><div align=\"center\" style=\"display:inline-block;padding: 5px;\"><div align=\"center\" style=\"display:table;table-layout:auto;\"><div style=\"display:table-row;\"><div align=\"center\" style=\"display:table-cell;padding-right:2px; padding-left:2px;\"><span>$[\\![\\mathbf{\\text{who}}]\\!]^{}_{\\left\\{e\\right\\}}$</span></div></div><div style=\"display:table-row;\"><div align=\"center\" style=\"display:table-cell;padding-right:2px; padding-left:2px;\"><span>$\\{{John}_{e}, {Mary}_{e}, {Sue}_{e}\\}$</span></div></div></div></div></div></div></div><div style=\"display:table-cell;vertical-align:middle;border-left:1px solid #848482;padding:0.5em\"><div style=\"white-space:nowrap; color:blue;\"><b>[<span>PFA</span>]</b></div></div></div><div align=\"center\" style=\"display:table-row;padding: 5px;\"><div align=\"center\" style=\"display:table-cell;\"><div align=\"center\" style=\"display:inline-block;padding: 5px;\"><div align=\"center\" style=\"display:table;table-layout:auto;\"><div style=\"display:table-row;\"><div align=\"center\" style=\"display:table-cell;padding-right:2px; padding-left:2px;\"><span>$[\\![\\mathbf{\\text{[saw who]}}]\\!]^{}_{\\left\\{\\left\\langle{}e,\\left\\langle{}s,t\\right\\rangle{}\\right\\rangle{}\\right\\}}$</span></div></div><div style=\"display:table-row;\"><div align=\"center\" style=\"display:table-cell;padding-right:2px; padding-left:2px;\"><span>$\\{\\lambda{} y_{e} \\: . \\: \\lambda{} w_{s} \\: . \\: {Saw}({w}, {y}, {John}_{e}), \\lambda{} y_{e} \\: . \\: \\lambda{} w_{s} \\: . \\: {Saw}({w}, {y}, {Mary}_{e}), \\lambda{} y_{e} \\: . \\: \\lambda{} w_{s} \\: . \\: {Saw}({w}, {y}, {Sue}_{e})\\}$</span></div></div></div></div></div><div style=\"display:table-cell;\"></div></div></div></div><div style=\"align: center; vertical-align: middle; display: table-cell;\"><span style=\"padding:1em;\">*</span></div><div style=\"display:table-cell;vertical-align:middle;padding: 5px;\"><div align=\"center\" style=\"display:inline-block;padding: 5px;\"><div align=\"center\" style=\"display:table;table-layout:auto;\"><div style=\"display:table-row;\"><div align=\"center\" style=\"display:table-cell;padding-right:2px; padding-left:2px;\"><span>$[\\![\\mathbf{\\text{john}}]\\!]^{}_{\\left\\{e\\right\\}}$</span></div></div><div style=\"display:table-row;\"><div align=\"center\" style=\"display:table-cell;padding-right:2px; padding-left:2px;\"><span>$\\{{John}_{e}\\}$</span></div></div></div></div></div></div></div><div style=\"display:table-cell;vertical-align:middle;border-left:1px solid #848482;padding:0.5em\"><div style=\"white-space:nowrap; color:blue;\"><b>[<span>PFA</span>]</b></div></div></div><div align=\"center\" style=\"display:table-row;padding: 5px;\"><div align=\"center\" style=\"display:table-cell;\"><div align=\"center\" style=\"display:inline-block;padding: 5px;\"><div align=\"center\" style=\"display:table;table-layout:auto;\"><div style=\"display:table-row;\"><div align=\"center\" style=\"display:table-cell;padding-right:2px; padding-left:2px;\"><span>$[\\![\\mathbf{\\text{[[saw who] john]}}]\\!]^{}_{\\left\\{\\left\\langle{}s,t\\right\\rangle{}\\right\\}}$</span></div></div><div style=\"display:table-row;\"><div align=\"center\" style=\"display:table-cell;padding-right:2px; padding-left:2px;\"><span>$\\{\\lambda{} w_{s} \\: . \\: {Saw}({w}, {John}_{e}, {John}_{e}), \\lambda{} w_{s} \\: . \\: {Saw}({w}, {John}_{e}, {Mary}_{e}), \\lambda{} w_{s} \\: . \\: {Saw}({w}, {John}_{e}, {Sue}_{e})\\}$</span></div></div></div></div></div><div style=\"display:table-cell;\"></div></div></div></div></div></div><div style=\"display:table-cell;vertical-align:middle;border-left:1px solid #848482;padding:0.5em\"><div style=\"white-space:nowrap; color:blue;\"><b>[<span>FA</span>]</b></div></div></div><div align=\"center\" style=\"display:table-row;padding: 5px;\"><div align=\"center\" style=\"display:table-cell;\"><div align=\"center\" style=\"display:inline-block;padding: 5px;\"><div align=\"center\" style=\"display:table;table-layout:auto;\"><div style=\"display:table-row;\"><div align=\"center\" style=\"display:table-cell;padding-right:2px; padding-left:2px;\"><span>$[\\![\\mathbf{\\text{[HExists [[saw who] john]]}}]\\!]^{}_{\\left\\{\\left\\langle{}s,t\\right\\rangle{}\\right\\}}$</span></div></div><div style=\"display:table-row;\"><div align=\"center\" style=\"display:table-cell;padding-right:2px; padding-left:2px;\"><span>$\\{\\lambda{} w_{s} \\: . \\: \\exists{} q_{\\left\\langle{}s,t\\right\\rangle{}} \\: . \\: ({q}({w}) \\wedge{} ({q} \\in{} \\{\\lambda{} w_{s} \\: . \\: {Saw}({w}, {John}_{e}, {John}_{e}), \\lambda{} w_{s} \\: . \\: {Saw}({w}, {John}_{e}, {Mary}_{e}), \\lambda{} w_{s} \\: . \\: {Saw}({w}, {John}_{e}, {Sue}_{e})\\}))\\}$</span></div></div></div></div></div><div style=\"display:table-cell;\"></div></div></div><br /><br />"
      ],
      "text/plain": [
       "1 composition path:<br /><div align=\"center\" style=\"display:table; margin:5px; border-collapse: collapse;border: 1px solid #848482;\"><div align=\"center\" style=\"display:table-row;border-bottom:1px solid #848482\"><div style=\"display:table-cell;vertical-align:middle;\"><div style=\"display: table;\"><div style=\"display:table-cell;vertical-align:middle;padding: 5px;\"><div align=\"center\" style=\"display:inline-block;padding: 5px;\"><div align=\"center\" style=\"display:table;table-layout:auto;\"><div style=\"display:table-row;\"><div align=\"center\" style=\"display:table-cell;padding-right:2px; padding-left:2px;\"><span>$[\\![\\mathbf{\\text{HExists}}]\\!]^{}_{\\left\\langle{}\\left\\{\\left\\langle{}s,t\\right\\rangle{}\\right\\},\\left\\{\\left\\langle{}s,t\\right\\rangle{}\\right\\}\\right\\rangle{}}$</span></div></div><div style=\"display:table-row;\"><div align=\"center\" style=\"display:table-cell;padding-right:2px; padding-left:2px;\"><span>$\\lambda{} p_{\\left\\{\\left\\langle{}s,t\\right\\rangle{}\\right\\}} \\: . \\: \\{\\lambda{} w_{s} \\: . \\: \\exists{} q_{\\left\\langle{}s,t\\right\\rangle{}} \\: . \\: ({q}({w}) \\wedge{} ({q} \\in{} {p}))\\}$</span></div></div></div></div></div><div style=\"align: center; vertical-align: middle; display: table-cell;\"><span style=\"padding:1em;\">*</span></div><div style=\"display:table-cell;vertical-align:middle;padding: 5px;\"><div align=\"center\" style=\"display:table; margin:5px; border-collapse: collapse;border: 1px solid #848482;\"><div align=\"center\" style=\"display:table-row;border-bottom:1px solid #848482\"><div style=\"display:table-cell;vertical-align:middle;\"><div style=\"display: table;\"><div style=\"display:table-cell;vertical-align:middle;padding: 5px;\"><div align=\"center\" style=\"display:table; margin:5px; border-collapse: collapse;border: 1px solid #848482;\"><div align=\"center\" style=\"display:table-row;border-bottom:1px solid #848482\"><div style=\"display:table-cell;vertical-align:middle;\"><div style=\"display: table;\"><div style=\"display:table-cell;vertical-align:middle;padding: 5px;\"><div align=\"center\" style=\"display:inline-block;padding: 5px;\"><div align=\"center\" style=\"display:table;table-layout:auto;\"><div style=\"display:table-row;\"><div align=\"center\" style=\"display:table-cell;padding-right:2px; padding-left:2px;\"><span>$[\\![\\mathbf{\\text{saw}}]\\!]^{}_{\\left\\{\\left\\langle{}e,\\left\\langle{}e,\\left\\langle{}s,t\\right\\rangle{}\\right\\rangle{}\\right\\rangle{}\\right\\}}$</span></div></div><div style=\"display:table-row;\"><div align=\"center\" style=\"display:table-cell;padding-right:2px; padding-left:2px;\"><span>$\\{\\lambda{} x_{e} \\: . \\: \\lambda{} y_{e} \\: . \\: \\lambda{} w_{s} \\: . \\: {Saw}({w}, {y}, {x})\\}$</span></div></div></div></div></div><div style=\"align: center; vertical-align: middle; display: table-cell;\"><span style=\"padding:1em;\">*</span></div><div style=\"display:table-cell;vertical-align:middle;padding: 5px;\"><div align=\"center\" style=\"display:inline-block;padding: 5px;\"><div align=\"center\" style=\"display:table;table-layout:auto;\"><div style=\"display:table-row;\"><div align=\"center\" style=\"display:table-cell;padding-right:2px; padding-left:2px;\"><span>$[\\![\\mathbf{\\text{who}}]\\!]^{}_{\\left\\{e\\right\\}}$</span></div></div><div style=\"display:table-row;\"><div align=\"center\" style=\"display:table-cell;padding-right:2px; padding-left:2px;\"><span>$\\{{John}_{e}, {Mary}_{e}, {Sue}_{e}\\}$</span></div></div></div></div></div></div></div><div style=\"display:table-cell;vertical-align:middle;border-left:1px solid #848482;padding:0.5em\"><div style=\"white-space:nowrap; color:blue;\"><b>[<span>PFA</span>]</b></div></div></div><div align=\"center\" style=\"display:table-row;padding: 5px;\"><div align=\"center\" style=\"display:table-cell;\"><div align=\"center\" style=\"display:inline-block;padding: 5px;\"><div align=\"center\" style=\"display:table;table-layout:auto;\"><div style=\"display:table-row;\"><div align=\"center\" style=\"display:table-cell;padding-right:2px; padding-left:2px;\"><span>$[\\![\\mathbf{\\text{[saw who]}}]\\!]^{}_{\\left\\{\\left\\langle{}e,\\left\\langle{}s,t\\right\\rangle{}\\right\\rangle{}\\right\\}}$</span></div></div><div style=\"display:table-row;\"><div align=\"center\" style=\"display:table-cell;padding-right:2px; padding-left:2px;\"><span>$\\{\\lambda{} y_{e} \\: . \\: \\lambda{} w_{s} \\: . \\: {Saw}({w}, {y}, {John}_{e}), \\lambda{} y_{e} \\: . \\: \\lambda{} w_{s} \\: . \\: {Saw}({w}, {y}, {Mary}_{e}), \\lambda{} y_{e} \\: . \\: \\lambda{} w_{s} \\: . \\: {Saw}({w}, {y}, {Sue}_{e})\\}$</span></div></div></div></div></div><div style=\"display:table-cell;\"></div></div></div></div><div style=\"align: center; vertical-align: middle; display: table-cell;\"><span style=\"padding:1em;\">*</span></div><div style=\"display:table-cell;vertical-align:middle;padding: 5px;\"><div align=\"center\" style=\"display:inline-block;padding: 5px;\"><div align=\"center\" style=\"display:table;table-layout:auto;\"><div style=\"display:table-row;\"><div align=\"center\" style=\"display:table-cell;padding-right:2px; padding-left:2px;\"><span>$[\\![\\mathbf{\\text{john}}]\\!]^{}_{\\left\\{e\\right\\}}$</span></div></div><div style=\"display:table-row;\"><div align=\"center\" style=\"display:table-cell;padding-right:2px; padding-left:2px;\"><span>$\\{{John}_{e}\\}$</span></div></div></div></div></div></div></div><div style=\"display:table-cell;vertical-align:middle;border-left:1px solid #848482;padding:0.5em\"><div style=\"white-space:nowrap; color:blue;\"><b>[<span>PFA</span>]</b></div></div></div><div align=\"center\" style=\"display:table-row;padding: 5px;\"><div align=\"center\" style=\"display:table-cell;\"><div align=\"center\" style=\"display:inline-block;padding: 5px;\"><div align=\"center\" style=\"display:table;table-layout:auto;\"><div style=\"display:table-row;\"><div align=\"center\" style=\"display:table-cell;padding-right:2px; padding-left:2px;\"><span>$[\\![\\mathbf{\\text{[[saw who] john]}}]\\!]^{}_{\\left\\{\\left\\langle{}s,t\\right\\rangle{}\\right\\}}$</span></div></div><div style=\"display:table-row;\"><div align=\"center\" style=\"display:table-cell;padding-right:2px; padding-left:2px;\"><span>$\\{\\lambda{} w_{s} \\: . \\: {Saw}({w}, {John}_{e}, {John}_{e}), \\lambda{} w_{s} \\: . \\: {Saw}({w}, {John}_{e}, {Mary}_{e}), \\lambda{} w_{s} \\: . \\: {Saw}({w}, {John}_{e}, {Sue}_{e})\\}$</span></div></div></div></div></div><div style=\"display:table-cell;\"></div></div></div></div></div></div><div style=\"display:table-cell;vertical-align:middle;border-left:1px solid #848482;padding:0.5em\"><div style=\"white-space:nowrap; color:blue;\"><b>[<span>FA</span>]</b></div></div></div><div align=\"center\" style=\"display:table-row;padding: 5px;\"><div align=\"center\" style=\"display:table-cell;\"><div align=\"center\" style=\"display:inline-block;padding: 5px;\"><div align=\"center\" style=\"display:table;table-layout:auto;\"><div style=\"display:table-row;\"><div align=\"center\" style=\"display:table-cell;padding-right:2px; padding-left:2px;\"><span>$[\\![\\mathbf{\\text{[HExists [[saw who] john]]}}]\\!]^{}_{\\left\\{\\left\\langle{}s,t\\right\\rangle{}\\right\\}}$</span></div></div><div style=\"display:table-row;\"><div align=\"center\" style=\"display:table-cell;padding-right:2px; padding-left:2px;\"><span>$\\{\\lambda{} w_{s} \\: . \\: \\exists{} q_{\\left\\langle{}s,t\\right\\rangle{}} \\: . \\: ({q}({w}) \\wedge{} ({q} \\in{} \\{\\lambda{} w_{s} \\: . \\: {Saw}({w}, {John}_{e}, {John}_{e}), \\lambda{} w_{s} \\: . \\: {Saw}({w}, {John}_{e}, {Mary}_{e}), \\lambda{} w_{s} \\: . \\: {Saw}({w}, {John}_{e}, {Sue}_{e})\\}))\\}$</span></div></div></div></div></div><div style=\"display:table-cell;\"></div></div></div><br /><br />"
      ]
     },
     "execution_count": 20,
     "metadata": {},
     "output_type": "execute_result"
    }
   ],
   "source": [
    "(HExists * (john * (saw * who))).tree()"
   ]
  },
  {
   "cell_type": "markdown",
   "metadata": {},
   "source": [
    "More generally, the listed versions of this won't do, because we don't want to assume that the relevant sets are finite.  Or in other words, we don't want to define 'who' extensionally:"
   ]
  },
  {
   "cell_type": "code",
   "execution_count": 21,
   "metadata": {},
   "outputs": [
    {
     "name": "stdout",
     "output_type": "stream",
     "text": [
      "INFO (meta): Coerced guessed type for 'Human_t' into <e,t>, to match argument 'x_e'\n"
     ]
    },
    {
     "data": {
      "text/html": [
       "$[\\![\\mathbf{\\text{who}}]\\!]^{}_{\\left\\{e\\right\\}} \\:=\\: $$\\{x_{e}\\:|\\: {Human}({x}_{e})\\}$"
      ],
      "text/latex": [
       "$[\\![\\mathbf{\\text{who}}]\\!]^{}_{\\left\\{e\\right\\}} \\:=\\: $$\\{x_{e}\\:|\\: {Human}({x}_{e})\\}$"
      ],
      "text/plain": [
       "$[\\![\\mathbf{\\text{who}}]\\!]^{}_{\\left\\{e\\right\\}} \\:=\\: $$\\{x_{e}\\:|\\: {Human}({x}_{e})\\}$"
      ]
     },
     "execution_count": 21,
     "metadata": {},
     "output_type": "execute_result"
    }
   ],
   "source": [
    "%%lamb\n",
    "||who|| = Set x_e : Human(x)"
   ]
  },
  {
   "cell_type": "markdown",
   "metadata": {},
   "source": [
    "At the moment the lambda notebook doesn't do much simplification of these expressions, so they will be a bit unwieldy."
   ]
  },
  {
   "cell_type": "code",
   "execution_count": 22,
   "metadata": {},
   "outputs": [
    {
     "data": {
      "text/html": [
       "1 composition path:<br /><div align=\"center\" style=\"display:table; margin:5px; border-collapse: collapse;border: 1px solid #848482;\"><div align=\"center\" style=\"display:table-row;border-bottom:1px solid #848482\"><div style=\"display:table-cell;vertical-align:middle;\"><div style=\"display: table;\"><div style=\"display:table-cell;vertical-align:middle;padding: 5px;\"><div align=\"center\" style=\"display:inline-block;padding: 5px;\"><div align=\"center\" style=\"display:table;table-layout:auto;\"><div style=\"display:table-row;\"><div align=\"center\" style=\"display:table-cell;padding-right:2px; padding-left:2px;\"><span>$[\\![\\mathbf{\\text{cat}}]\\!]^{}_{\\left\\{\\left\\langle{}e,\\left\\langle{}s,t\\right\\rangle{}\\right\\rangle{}\\right\\}}$</span></div></div><div style=\"display:table-row;\"><div align=\"center\" style=\"display:table-cell;padding-right:2px; padding-left:2px;\"><span>$\\{\\lambda{} x_{e} \\: . \\: \\lambda{} w_{s} \\: . \\: {Cat}({w}, {x})\\}$</span></div></div></div></div></div><div style=\"align: center; vertical-align: middle; display: table-cell;\"><span style=\"padding:1em;\">*</span></div><div style=\"display:table-cell;vertical-align:middle;padding: 5px;\"><div align=\"center\" style=\"display:inline-block;padding: 5px;\"><div align=\"center\" style=\"display:table;table-layout:auto;\"><div style=\"display:table-row;\"><div align=\"center\" style=\"display:table-cell;padding-right:2px; padding-left:2px;\"><span>$[\\![\\mathbf{\\text{who}}]\\!]^{}_{\\left\\{e\\right\\}}$</span></div></div><div style=\"display:table-row;\"><div align=\"center\" style=\"display:table-cell;padding-right:2px; padding-left:2px;\"><span>$\\{x_{e}\\:|\\: {Human}({x}_{e})\\}$</span></div></div></div></div></div></div></div><div style=\"display:table-cell;vertical-align:middle;border-left:1px solid #848482;padding:0.5em\"><div style=\"white-space:nowrap; color:blue;\"><b>[<span>PFA</span>]</b></div></div></div><div align=\"center\" style=\"display:table-row;padding: 5px;\"><div align=\"center\" style=\"display:table-cell;\"><div align=\"center\" style=\"display:inline-block;padding: 5px;\"><div align=\"center\" style=\"display:table;table-layout:auto;\"><div style=\"display:table-row;\"><div align=\"center\" style=\"display:table-cell;padding-right:2px; padding-left:2px;\"><span>$[\\![\\mathbf{\\text{[cat who]}}]\\!]^{}_{\\left\\{\\left\\langle{}s,t\\right\\rangle{}\\right\\}}$</span></div></div><div style=\"display:table-row;\"><div align=\"center\" style=\"display:table-cell;padding-right:2px; padding-left:2px;\"><span>$\\{x_{\\left\\langle{}s,t\\right\\rangle{}}\\:|\\: \\exists{} f1_{\\left\\langle{}e,\\left\\langle{}s,t\\right\\rangle{}\\right\\rangle{}} \\: . \\: \\exists{} a1_{e} \\: . \\: ((({f1} \\in{} \\{\\lambda{} x_{e} \\: . \\: \\lambda{} w_{s} \\: . \\: {Cat}({w}, {x})\\}) \\wedge{} {Human}({a1})) \\wedge{} ({x}_{\\left\\langle{}s,t\\right\\rangle{}} = {f1}({a1})))\\}$</span></div></div></div></div></div><div style=\"display:table-cell;\"></div></div></div><br /><br />"
      ],
      "text/latex": [
       "1 composition path:<br /><div align=\"center\" style=\"display:table; margin:5px; border-collapse: collapse;border: 1px solid #848482;\"><div align=\"center\" style=\"display:table-row;border-bottom:1px solid #848482\"><div style=\"display:table-cell;vertical-align:middle;\"><div style=\"display: table;\"><div style=\"display:table-cell;vertical-align:middle;padding: 5px;\"><div align=\"center\" style=\"display:inline-block;padding: 5px;\"><div align=\"center\" style=\"display:table;table-layout:auto;\"><div style=\"display:table-row;\"><div align=\"center\" style=\"display:table-cell;padding-right:2px; padding-left:2px;\"><span>$[\\![\\mathbf{\\text{cat}}]\\!]^{}_{\\left\\{\\left\\langle{}e,\\left\\langle{}s,t\\right\\rangle{}\\right\\rangle{}\\right\\}}$</span></div></div><div style=\"display:table-row;\"><div align=\"center\" style=\"display:table-cell;padding-right:2px; padding-left:2px;\"><span>$\\{\\lambda{} x_{e} \\: . \\: \\lambda{} w_{s} \\: . \\: {Cat}({w}, {x})\\}$</span></div></div></div></div></div><div style=\"align: center; vertical-align: middle; display: table-cell;\"><span style=\"padding:1em;\">*</span></div><div style=\"display:table-cell;vertical-align:middle;padding: 5px;\"><div align=\"center\" style=\"display:inline-block;padding: 5px;\"><div align=\"center\" style=\"display:table;table-layout:auto;\"><div style=\"display:table-row;\"><div align=\"center\" style=\"display:table-cell;padding-right:2px; padding-left:2px;\"><span>$[\\![\\mathbf{\\text{who}}]\\!]^{}_{\\left\\{e\\right\\}}$</span></div></div><div style=\"display:table-row;\"><div align=\"center\" style=\"display:table-cell;padding-right:2px; padding-left:2px;\"><span>$\\{x_{e}\\:|\\: {Human}({x}_{e})\\}$</span></div></div></div></div></div></div></div><div style=\"display:table-cell;vertical-align:middle;border-left:1px solid #848482;padding:0.5em\"><div style=\"white-space:nowrap; color:blue;\"><b>[<span>PFA</span>]</b></div></div></div><div align=\"center\" style=\"display:table-row;padding: 5px;\"><div align=\"center\" style=\"display:table-cell;\"><div align=\"center\" style=\"display:inline-block;padding: 5px;\"><div align=\"center\" style=\"display:table;table-layout:auto;\"><div style=\"display:table-row;\"><div align=\"center\" style=\"display:table-cell;padding-right:2px; padding-left:2px;\"><span>$[\\![\\mathbf{\\text{[cat who]}}]\\!]^{}_{\\left\\{\\left\\langle{}s,t\\right\\rangle{}\\right\\}}$</span></div></div><div style=\"display:table-row;\"><div align=\"center\" style=\"display:table-cell;padding-right:2px; padding-left:2px;\"><span>$\\{x_{\\left\\langle{}s,t\\right\\rangle{}}\\:|\\: \\exists{} f1_{\\left\\langle{}e,\\left\\langle{}s,t\\right\\rangle{}\\right\\rangle{}} \\: . \\: \\exists{} a1_{e} \\: . \\: ((({f1} \\in{} \\{\\lambda{} x_{e} \\: . \\: \\lambda{} w_{s} \\: . \\: {Cat}({w}, {x})\\}) \\wedge{} {Human}({a1})) \\wedge{} ({x}_{\\left\\langle{}s,t\\right\\rangle{}} = {f1}({a1})))\\}$</span></div></div></div></div></div><div style=\"display:table-cell;\"></div></div></div><br /><br />"
      ],
      "text/plain": [
       "1 composition path:<br /><div align=\"center\" style=\"display:table; margin:5px; border-collapse: collapse;border: 1px solid #848482;\"><div align=\"center\" style=\"display:table-row;border-bottom:1px solid #848482\"><div style=\"display:table-cell;vertical-align:middle;\"><div style=\"display: table;\"><div style=\"display:table-cell;vertical-align:middle;padding: 5px;\"><div align=\"center\" style=\"display:inline-block;padding: 5px;\"><div align=\"center\" style=\"display:table;table-layout:auto;\"><div style=\"display:table-row;\"><div align=\"center\" style=\"display:table-cell;padding-right:2px; padding-left:2px;\"><span>$[\\![\\mathbf{\\text{cat}}]\\!]^{}_{\\left\\{\\left\\langle{}e,\\left\\langle{}s,t\\right\\rangle{}\\right\\rangle{}\\right\\}}$</span></div></div><div style=\"display:table-row;\"><div align=\"center\" style=\"display:table-cell;padding-right:2px; padding-left:2px;\"><span>$\\{\\lambda{} x_{e} \\: . \\: \\lambda{} w_{s} \\: . \\: {Cat}({w}, {x})\\}$</span></div></div></div></div></div><div style=\"align: center; vertical-align: middle; display: table-cell;\"><span style=\"padding:1em;\">*</span></div><div style=\"display:table-cell;vertical-align:middle;padding: 5px;\"><div align=\"center\" style=\"display:inline-block;padding: 5px;\"><div align=\"center\" style=\"display:table;table-layout:auto;\"><div style=\"display:table-row;\"><div align=\"center\" style=\"display:table-cell;padding-right:2px; padding-left:2px;\"><span>$[\\![\\mathbf{\\text{who}}]\\!]^{}_{\\left\\{e\\right\\}}$</span></div></div><div style=\"display:table-row;\"><div align=\"center\" style=\"display:table-cell;padding-right:2px; padding-left:2px;\"><span>$\\{x_{e}\\:|\\: {Human}({x}_{e})\\}$</span></div></div></div></div></div></div></div><div style=\"display:table-cell;vertical-align:middle;border-left:1px solid #848482;padding:0.5em\"><div style=\"white-space:nowrap; color:blue;\"><b>[<span>PFA</span>]</b></div></div></div><div align=\"center\" style=\"display:table-row;padding: 5px;\"><div align=\"center\" style=\"display:table-cell;\"><div align=\"center\" style=\"display:inline-block;padding: 5px;\"><div align=\"center\" style=\"display:table;table-layout:auto;\"><div style=\"display:table-row;\"><div align=\"center\" style=\"display:table-cell;padding-right:2px; padding-left:2px;\"><span>$[\\![\\mathbf{\\text{[cat who]}}]\\!]^{}_{\\left\\{\\left\\langle{}s,t\\right\\rangle{}\\right\\}}$</span></div></div><div style=\"display:table-row;\"><div align=\"center\" style=\"display:table-cell;padding-right:2px; padding-left:2px;\"><span>$\\{x_{\\left\\langle{}s,t\\right\\rangle{}}\\:|\\: \\exists{} f1_{\\left\\langle{}e,\\left\\langle{}s,t\\right\\rangle{}\\right\\rangle{}} \\: . \\: \\exists{} a1_{e} \\: . \\: ((({f1} \\in{} \\{\\lambda{} x_{e} \\: . \\: \\lambda{} w_{s} \\: . \\: {Cat}({w}, {x})\\}) \\wedge{} {Human}({a1})) \\wedge{} ({x}_{\\left\\langle{}s,t\\right\\rangle{}} = {f1}({a1})))\\}$</span></div></div></div></div></div><div style=\"display:table-cell;\"></div></div></div><br /><br />"
      ]
     },
     "execution_count": 22,
     "metadata": {},
     "output_type": "execute_result"
    }
   ],
   "source": [
    "(cat * who).tree()"
   ]
  },
  {
   "cell_type": "code",
   "execution_count": 23,
   "metadata": {},
   "outputs": [
    {
     "data": {
      "text/html": [
       "1 composition path.  Result:\n",
       "<br />&nbsp;&nbsp;&nbsp;&nbsp;[0]: $[\\![\\mathbf{\\text{[[saw who] john]}}]\\!]^{}_{\\left\\{\\left\\langle{}s,t\\right\\rangle{}\\right\\}} \\:=\\: $$\\{x_{\\left\\langle{}s,t\\right\\rangle{}}\\:|\\: \\exists{} f1_{\\left\\langle{}e,\\left\\langle{}s,t\\right\\rangle{}\\right\\rangle{}} \\: . \\: \\exists{} a1_{e} \\: . \\: ((\\exists{} f2_{\\left\\langle{}e,\\left\\langle{}e,\\left\\langle{}s,t\\right\\rangle{}\\right\\rangle{}\\right\\rangle{}} \\: . \\: \\exists{} a1_{e} \\: . \\: ((({f2} \\in{} \\{\\lambda{} x_{e} \\: . \\: \\lambda{} y_{e} \\: . \\: \\lambda{} w_{s} \\: . \\: {Saw}({w}, {y}, {x})\\}) \\wedge{} {Human}({a1})) \\wedge{} ({f1} = {f2}({a1}))) \\wedge{} ({a1} \\in{} \\{{John}_{e}\\})) \\wedge{} ({x}_{\\left\\langle{}s,t\\right\\rangle{}} = {f1}({a1})))\\}$"
      ],
      "text/plain": [
       "CompositionResult(results=[⟦[[saw who] john]⟧ = (Set x_<s,t>: (Exists f1_<e,<s,t>>: (Exists a1_e: (((Exists f2_<e,<e,<s,t>>>: (Exists a1_e: (((f2_<e,<e,<s,t>>> << {(λ x_e: (λ y_e: (λ w_s: Saw_<(s,e,e),t>(w_s, y_e, x_e))))}) & Human_<e,t>(a1_e)) & (f1_<e,<s,t>> <=> f2_<e,<e,<s,t>>>(a1_e))))) & (a1_e << {John_e})) & (x_<s,t> <=> f1_<e,<s,t>>(a1_e))))))], failures=[⟦[john [saw who]]⟧ = Type mismatch: '⟦john⟧ = {John_e}'/{e} and '⟦[saw who]⟧ = (Set x_<e,<s,t>>: (Exists f1_<e,<e,<s,t>>>: (Exists a1_e: (((f1_<e,<e,<s,t>>> << {(λ x_e: (λ y_e: (λ w_s: Saw_<(s,e,e),t>(w_s, y_e, x_e))))}) & Human_<e,t>(a1_e)) & (x_<e,<s,t>> <=> f1_<e,<e,<s,t>>>(a1_e))))))'/{<e,<s,t>>} conflict (mode: Function Application), ⟦[[saw who] john]⟧ = Type mismatch: '⟦[saw who]⟧ = (Set x_<e,<s,t>>: (Exists f1_<e,<e,<s,t>>>: (Exists a1_e: (((f1_<e,<e,<s,t>>> << {(λ x_e: (λ y_e: (λ w_s: Saw_<(s,e,e),t>(w_s, y_e, x_e))))}) & Human_<e,t>(a1_e)) & (x_<e,<s,t>> <=> f1_<e,<e,<s,t>>>(a1_e))))))'/{<e,<s,t>>} and '⟦john⟧ = {John_e}'/{e} conflict (mode: Function Application), ⟦[john [saw who]]⟧ = Type mismatch: '⟦john⟧ = {John_e}'/{e} and '⟦[saw who]⟧ = (Set x_<e,<s,t>>: (Exists f1_<e,<e,<s,t>>>: (Exists a1_e: (((f1_<e,<e,<s,t>>> << {(λ x_e: (λ y_e: (λ w_s: Saw_<(s,e,e),t>(w_s, y_e, x_e))))}) & Human_<e,t>(a1_e)) & (x_<e,<s,t>> <=> f1_<e,<e,<s,t>>>(a1_e))))))'/{<e,<s,t>>} conflict (mode: Predicate Modification), ⟦[john [saw who]]⟧ = Type mismatch: '⟦john⟧ = {John_e}'/{e} and '⟦[saw who]⟧ = (Set x_<e,<s,t>>: (Exists f1_<e,<e,<s,t>>>: (Exists a1_e: (((f1_<e,<e,<s,t>>> << {(λ x_e: (λ y_e: (λ w_s: Saw_<(s,e,e),t>(w_s, y_e, x_e))))}) & Human_<e,t>(a1_e)) & (x_<e,<s,t>> <=> f1_<e,<e,<s,t>>>(a1_e))))))'/{<e,<s,t>>} conflict (mode: Predicate Abstraction), ⟦[[saw who] john]⟧ = Type mismatch: '⟦[saw who]⟧ = (Set x_<e,<s,t>>: (Exists f1_<e,<e,<s,t>>>: (Exists a1_e: (((f1_<e,<e,<s,t>>> << {(λ x_e: (λ y_e: (λ w_s: Saw_<(s,e,e),t>(w_s, y_e, x_e))))}) & Human_<e,t>(a1_e)) & (x_<e,<s,t>> <=> f1_<e,<e,<s,t>>>(a1_e))))))'/{<e,<s,t>>} and '⟦john⟧ = {John_e}'/{e} conflict (mode: Predicate Abstraction), ⟦[john [saw who]]⟧ = Type mismatch: '(λ f_{<I37,Y>}: (λ a_{I37}: (Set x_Y: (Exists f1_<I37,Y>: (Exists a1_I37: (((f1_<I37,Y> << f_{<I37,Y>}) & (a1_I37 << a_{I37})) & (x_Y <=> f1_<I37,Y>(a1_I40))))))))'/<{<I37,Y>},<{I37},{Y}>> and '{John_e}'/{e} conflict (mode: Function argument combination (unification failed))])"
      ]
     },
     "execution_count": 23,
     "metadata": {},
     "output_type": "execute_result"
    }
   ],
   "source": [
    "john * (saw * who)"
   ]
  },
  {
   "cell_type": "code",
   "execution_count": 24,
   "metadata": {},
   "outputs": [
    {
     "data": {
      "text/html": [
       "1 composition path.  Result:\n",
       "<br />&nbsp;&nbsp;&nbsp;&nbsp;[0]: $[\\![\\mathbf{\\text{[[saw john] who]}}]\\!]^{}_{\\left\\{\\left\\langle{}s,t\\right\\rangle{}\\right\\}} \\:=\\: $$\\{x_{\\left\\langle{}s,t\\right\\rangle{}}\\:|\\: \\exists{} f1_{\\left\\langle{}e,\\left\\langle{}s,t\\right\\rangle{}\\right\\rangle{}} \\: . \\: \\exists{} a1_{e} \\: . \\: ((({f1} \\in{} \\{\\lambda{} y_{e} \\: . \\: \\lambda{} w_{s} \\: . \\: {Saw}({w}, {y}, {John}_{e})\\}) \\wedge{} {Human}({a1})) \\wedge{} ({x}_{\\left\\langle{}s,t\\right\\rangle{}} = {f1}({a1})))\\}$"
      ],
      "text/plain": [
       "CompositionResult(results=[⟦[[saw john] who]⟧ = (Set x_<s,t>: (Exists f1_<e,<s,t>>: (Exists a1_e: (((f1_<e,<s,t>> << {(λ y_e: (λ w_s: Saw_<(s,e,e),t>(w_s, y_e, John_e)))}) & Human_<e,t>(a1_e)) & (x_<s,t> <=> f1_<e,<s,t>>(a1_e))))))], failures=[⟦[who [saw john]]⟧ = Type mismatch: '⟦who⟧ = (Set x_e: Human_<e,t>(x_e))'/{e} and '⟦[saw john]⟧ = {(λ y_e: (λ w_s: Saw_<(s,e,e),t>(w_s, y_e, John_e)))}'/{<e,<s,t>>} conflict (mode: Function Application), ⟦[[saw john] who]⟧ = Type mismatch: '⟦[saw john]⟧ = {(λ y_e: (λ w_s: Saw_<(s,e,e),t>(w_s, y_e, John_e)))}'/{<e,<s,t>>} and '⟦who⟧ = (Set x_e: Human_<e,t>(x_e))'/{e} conflict (mode: Function Application), ⟦[who [saw john]]⟧ = Type mismatch: '⟦who⟧ = (Set x_e: Human_<e,t>(x_e))'/{e} and '⟦[saw john]⟧ = {(λ y_e: (λ w_s: Saw_<(s,e,e),t>(w_s, y_e, John_e)))}'/{<e,<s,t>>} conflict (mode: Predicate Modification), ⟦[who [saw john]]⟧ = Type mismatch: '⟦who⟧ = (Set x_e: Human_<e,t>(x_e))'/{e} and '⟦[saw john]⟧ = {(λ y_e: (λ w_s: Saw_<(s,e,e),t>(w_s, y_e, John_e)))}'/{<e,<s,t>>} conflict (mode: Predicate Abstraction), ⟦[[saw john] who]⟧ = Type mismatch: '⟦[saw john]⟧ = {(λ y_e: (λ w_s: Saw_<(s,e,e),t>(w_s, y_e, John_e)))}'/{<e,<s,t>>} and '⟦who⟧ = (Set x_e: Human_<e,t>(x_e))'/{e} conflict (mode: Predicate Abstraction), ⟦[who [saw john]]⟧ = Type mismatch: '(λ f_{<I37,Y>}: (λ a_{I37}: (Set x_Y: (Exists f1_<I37,Y>: (Exists a1_I37: (((f1_<I37,Y> << f_{<I37,Y>}) & (a1_I37 << a_{I37})) & (x_Y <=> f1_<I37,Y>(a1_I40))))))))'/<{<I37,Y>},<{I37},{Y}>> and '(Set x_e: Human_<e,t>(x_e))'/{e} conflict (mode: Function argument combination (unification failed))])"
      ]
     },
     "execution_count": 24,
     "metadata": {},
     "output_type": "execute_result"
    }
   ],
   "source": [
    "who * (saw * john)"
   ]
  },
  {
   "cell_type": "code",
   "execution_count": 25,
   "metadata": {},
   "outputs": [
    {
     "data": {
      "text/html": [
       "1 composition path.  Result:\n",
       "<br />&nbsp;&nbsp;&nbsp;&nbsp;[0]: $[\\![\\mathbf{\\text{[HExists [[saw john] who]]}}]\\!]^{}_{\\left\\{\\left\\langle{}s,t\\right\\rangle{}\\right\\}} \\:=\\: $$\\{\\lambda{} w_{s} \\: . \\: \\exists{} q_{\\left\\langle{}s,t\\right\\rangle{}} \\: . \\: ({q}({w}) \\wedge{} \\exists{} f1_{\\left\\langle{}e,\\left\\langle{}s,t\\right\\rangle{}\\right\\rangle{}} \\: . \\: \\exists{} a1_{e} \\: . \\: ((({f1} \\in{} \\{\\lambda{} y_{e} \\: . \\: \\lambda{} w_{s} \\: . \\: {Saw}({w}, {y}, {John}_{e})\\}) \\wedge{} {Human}({a1})) \\wedge{} ({q} = {f1}({a1}))))\\}$"
      ],
      "text/plain": [
       "CompositionResult(results=[⟦[HExists [[saw john] who]]⟧ = {(λ w_s: (Exists q_<s,t>: (q_<s,t>(w_s) & (Exists f1_<e,<s,t>>: (Exists a1_e: (((f1_<e,<s,t>> << {(λ y_e: (λ w_s: Saw_<(s,e,e),t>(w_s, y_e, John_e)))}) & Human_<e,t>(a1_e)) & (q_<s,t> <=> f1_<e,<s,t>>(a1_e))))))))}], failures=[⟦[[[saw john] who] HExists]⟧ = Type mismatch: '⟦[[saw john] who]⟧ = (Set x_<s,t>: (Exists f1_<e,<s,t>>: (Exists a1_e: (((f1_<e,<s,t>> << {(λ y_e: (λ w_s: Saw_<(s,e,e),t>(w_s, y_e, John_e)))}) & Human_<e,t>(a1_e)) & (x_<s,t> <=> f1_<e,<s,t>>(a1_e))))))'/{<s,t>} and '⟦HExists⟧ = (λ p_{<s,t>}: {(λ w_s: (Exists q_<s,t>: (q_<s,t>(w_s) & (q_<s,t> << p_{<s,t>}))))})'/<{<s,t>},{<s,t>}> conflict (mode: Function Application), ⟦[HExists [[saw john] who]]⟧ = Type mismatch: '⟦HExists⟧ = (λ p_{<s,t>}: {(λ w_s: (Exists q_<s,t>: (q_<s,t>(w_s) & (q_<s,t> << p_{<s,t>}))))})'/<{<s,t>},{<s,t>}> and '⟦[[saw john] who]⟧ = (Set x_<s,t>: (Exists f1_<e,<s,t>>: (Exists a1_e: (((f1_<e,<s,t>> << {(λ y_e: (λ w_s: Saw_<(s,e,e),t>(w_s, y_e, John_e)))}) & Human_<e,t>(a1_e)) & (x_<s,t> <=> f1_<e,<s,t>>(a1_e))))))'/{<s,t>} conflict (mode: Predicate Modification), ⟦[HExists [[saw john] who]]⟧ = Type mismatch: '⟦HExists⟧ = (λ p_{<s,t>}: {(λ w_s: (Exists q_<s,t>: (q_<s,t>(w_s) & (q_<s,t> << p_{<s,t>}))))})'/<{<s,t>},{<s,t>}> and '⟦[[saw john] who]⟧ = (Set x_<s,t>: (Exists f1_<e,<s,t>>: (Exists a1_e: (((f1_<e,<s,t>> << {(λ y_e: (λ w_s: Saw_<(s,e,e),t>(w_s, y_e, John_e)))}) & Human_<e,t>(a1_e)) & (x_<s,t> <=> f1_<e,<s,t>>(a1_e))))))'/{<s,t>} conflict (mode: Predicate Abstraction), ⟦[[[saw john] who] HExists]⟧ = Type mismatch: '⟦[[saw john] who]⟧ = (Set x_<s,t>: (Exists f1_<e,<s,t>>: (Exists a1_e: (((f1_<e,<s,t>> << {(λ y_e: (λ w_s: Saw_<(s,e,e),t>(w_s, y_e, John_e)))}) & Human_<e,t>(a1_e)) & (x_<s,t> <=> f1_<e,<s,t>>(a1_e))))))'/{<s,t>} and '⟦HExists⟧ = (λ p_{<s,t>}: {(λ w_s: (Exists q_<s,t>: (q_<s,t>(w_s) & (q_<s,t> << p_{<s,t>}))))})'/<{<s,t>},{<s,t>}> conflict (mode: Predicate Abstraction), ⟦[HExists [[saw john] who]]⟧ = Type mismatch: '(λ f_{<I37,Y>}: (λ a_{I37}: (Set x_Y: (Exists f1_<I37,Y>: (Exists a1_I37: (((f1_<I37,Y> << f_{<I37,Y>}) & (a1_I37 << a_{I37})) & (x_Y <=> f1_<I37,Y>(a1_I40))))))))'/<{<I37,Y>},<{I37},{Y}>> and '(λ p_{<s,t>}: {(λ w_s: (Exists q_<s,t>: (q_<s,t>(w_s) & (q_<s,t> << p_{<s,t>}))))})'/<{<s,t>},{<s,t>}> conflict (mode: Function argument combination (unification failed)), ⟦[[[saw john] who] HExists]⟧ = Type mismatch: '((λ f_{<s,t>}: (λ a_{s}: (Set x_t: (Exists f1_<s,t>: (Exists a1_s: (((f1_<s,t> << f_{<s,t>}) & (a1_s << a_{s})) & (x_t <=> f1_<s,t>(a1_s)))))))))((Set x_<s,t>: (Exists f1_<e,<s,t>>: (Exists a1_e: (((f1_<e,<s,t>> << {(λ y_e: (λ w_s: Saw_<(s,e,e),t>(w_s, y_e, John_e)))}) & Human_<e,t>(a1_e)) & (x_<s,t> <=> f1_<e,<s,t>>(a1_e)))))))'/<{s},{t}> and '(λ p_{<s,t>}: {(λ w_s: (Exists q_<s,t>: (q_<s,t>(w_s) & (q_<s,t> << p_{<s,t>}))))})'/<{<s,t>},{<s,t>}> conflict (mode: Function argument combination (unification failed))])"
      ]
     },
     "execution_count": 25,
     "metadata": {},
     "output_type": "execute_result"
    }
   ],
   "source": [
    "HExists * (who * (saw * john))"
   ]
  },
  {
   "cell_type": "markdown",
   "metadata": {},
   "source": [
    "The above formulas are somewhat involved, so it is slightly more convenient to simply define a toy example with a finite set of individuals:"
   ]
  },
  {
   "cell_type": "markdown",
   "metadata": {},
   "source": [
    "### Appendix: another technique for Hamblinization\n",
    "\n",
    "Another way of Hamblinizing a lexicon would be to write extra magics for converting whole lexicons at once.  Here's a sketch of how to do this."
   ]
  },
  {
   "cell_type": "code",
   "execution_count": 26,
   "metadata": {},
   "outputs": [],
   "source": [
    "def hamblinize_item(item):\n",
    "    \"\"\"Hamblinize a single lexical item.  Do so by building a singleton set out of it.\"\"\"\n",
    "    if meta.ts_compatible(item.type, meta.tp(\"{?}\")): #isinstance(item.type, types.SetType):\n",
    "        # assume this item is already hamblinized\n",
    "        return item\n",
    "    elif meta.ts_compatible(item.type, meta.tp(\"<{?},?>\")): #item.type.functional() and isinstance(item.type.left, types.SetType):\n",
    "        # heuristic: if function whose domain is a set of some sort, assume that this is a Hamblin operator.\n",
    "        # may miss cases.  Better to just run this on content items...\n",
    "        return item\n",
    "    new_i = item.copy()\n",
    "    # wrap the content of the lexical item as a singleton set.\n",
    "    new_i.content = meta.ListedSet([item.content])\n",
    "    return new_i\n",
    "\n",
    "# in the following two magics, variables that are not lexical items are ignored.  To change this, modify the else case above.\n",
    "def h_magic(self, accum):\n",
    "    \"\"\"Hamblinize the accumulated definitions from a single cell, as a post-processing step\"\"\"\n",
    "    new_accum = lamb.magics.process_items(hamblinize_item, accum)[0]\n",
    "    for k in new_accum.keys():\n",
    "        self.env[k] = new_accum[k]\n",
    "    return new_accum\n",
    "\n",
    "def h_magic_env(self):\n",
    "    \"\"\"Hamblinize the entire env\"\"\"\n",
    "    self.env = lamb.magics.process_items(hamblinize_item, self.env)[0] # hamblinize every variable\n",
    "    self.shell.push(self.env) # export the new variables to the interactive shell\n",
    "    return parsing.latex_output(self.env, self.env)\n",
    "\n",
    "lamb.magics.LambMagics.specials_post[\"hamblinize\"] = h_magic\n",
    "lamb.magics.LambMagics.specials[\"hamblinize_all\"] = h_magic_env"
   ]
  },
  {
   "cell_type": "code",
   "execution_count": 27,
   "metadata": {},
   "outputs": [
    {
     "name": "stdout",
     "output_type": "stream",
     "text": [
      "INFO (meta): Coerced guessed type for 'Cat_t' into <(s,e),t>, to match argument '(w_s, x_e)'\n",
      "INFO (meta): Coerced guessed type for 'Gray_t' into <(s,e),t>, to match argument '(w_s, x_e)'\n"
     ]
    },
    {
     "data": {
      "text/html": [
       "$[\\![\\mathbf{\\text{cat}}]\\!]^{}_{\\left\\{\\left\\langle{}e,\\left\\langle{}s,t\\right\\rangle{}\\right\\rangle{}\\right\\}} \\:=\\: $$\\{\\lambda{} x_{e} \\: . \\: \\lambda{} w_{s} \\: . \\: {Cat}({w}, {x})\\}$<br />\n",
       "$[\\![\\mathbf{\\text{gray}}]\\!]^{}_{\\left\\{\\left\\langle{}e,\\left\\langle{}s,t\\right\\rangle{}\\right\\rangle{}\\right\\}} \\:=\\: $$\\{\\lambda{} x_{e} \\: . \\: \\lambda{} w_{s} \\: . \\: {Gray}({w}, {x})\\}$<br />\n",
       "$[\\![\\mathbf{\\text{john}}]\\!]^{}_{\\left\\{e\\right\\}} \\:=\\: $$\\{{J}_{e}\\}$<br />\n",
       "${x}_{\\left\\langle{}e,e\\right\\rangle{}}\\:=\\:\\lambda{} y_{e} \\: . \\: {y}$"
      ],
      "text/latex": [
       "$[\\![\\mathbf{\\text{cat}}]\\!]^{}_{\\left\\{\\left\\langle{}e,\\left\\langle{}s,t\\right\\rangle{}\\right\\rangle{}\\right\\}} \\:=\\: $$\\{\\lambda{} x_{e} \\: . \\: \\lambda{} w_{s} \\: . \\: {Cat}({w}, {x})\\}$<br />\n",
       "$[\\![\\mathbf{\\text{gray}}]\\!]^{}_{\\left\\{\\left\\langle{}e,\\left\\langle{}s,t\\right\\rangle{}\\right\\rangle{}\\right\\}} \\:=\\: $$\\{\\lambda{} x_{e} \\: . \\: \\lambda{} w_{s} \\: . \\: {Gray}({w}, {x})\\}$<br />\n",
       "$[\\![\\mathbf{\\text{john}}]\\!]^{}_{\\left\\{e\\right\\}} \\:=\\: $$\\{{J}_{e}\\}$<br />\n",
       "${x}_{\\left\\langle{}e,e\\right\\rangle{}}\\:=\\:\\lambda{} y_{e} \\: . \\: {y}$"
      ],
      "text/plain": [
       "$[\\![\\mathbf{\\text{cat}}]\\!]^{}_{\\left\\{\\left\\langle{}e,\\left\\langle{}s,t\\right\\rangle{}\\right\\rangle{}\\right\\}} \\:=\\: $$\\{\\lambda{} x_{e} \\: . \\: \\lambda{} w_{s} \\: . \\: {Cat}({w}, {x})\\}$<br />\n",
       "$[\\![\\mathbf{\\text{gray}}]\\!]^{}_{\\left\\{\\left\\langle{}e,\\left\\langle{}s,t\\right\\rangle{}\\right\\rangle{}\\right\\}} \\:=\\: $$\\{\\lambda{} x_{e} \\: . \\: \\lambda{} w_{s} \\: . \\: {Gray}({w}, {x})\\}$<br />\n",
       "$[\\![\\mathbf{\\text{john}}]\\!]^{}_{\\left\\{e\\right\\}} \\:=\\: $$\\{{J}_{e}\\}$<br />\n",
       "${x}_{\\left\\langle{}e,e\\right\\rangle{}}\\:=\\:\\lambda{} y_{e} \\: . \\: {y}$"
      ]
     },
     "execution_count": 27,
     "metadata": {},
     "output_type": "execute_result"
    }
   ],
   "source": [
    "%%lamb hamblinize\n",
    "||cat|| = L x_e : L w_s : Cat(w,x)\n",
    "||gray|| = L x_e : L w_s : Gray(w,x)\n",
    "||john|| = J_e\n",
    "x = L y_e : y"
   ]
  },
  {
   "cell_type": "code",
   "execution_count": 28,
   "metadata": {},
   "outputs": [
    {
     "name": "stdout",
     "output_type": "stream",
     "text": [
      "INFO (meta): Coerced guessed type for 'Test_t' into <e,t>, to match argument 'x_e'\n"
     ]
    },
    {
     "data": {
      "text/html": [
       "$[\\![\\mathbf{\\text{test}}]\\!]^{}_{\\left\\langle{}e,t\\right\\rangle{}} \\:=\\: $$\\lambda{} x_{e} \\: . \\: {Test}({x})$"
      ],
      "text/latex": [
       "$[\\![\\mathbf{\\text{test}}]\\!]^{}_{\\left\\langle{}e,t\\right\\rangle{}} \\:=\\: $$\\lambda{} x_{e} \\: . \\: {Test}({x})$"
      ],
      "text/plain": [
       "$[\\![\\mathbf{\\text{test}}]\\!]^{}_{\\left\\langle{}e,t\\right\\rangle{}} \\:=\\: $$\\lambda{} x_{e} \\: . \\: {Test}({x})$"
      ]
     },
     "execution_count": 28,
     "metadata": {},
     "output_type": "execute_result"
    }
   ],
   "source": [
    "%%lamb\n",
    "||test|| = L x_e : Test(x)"
   ]
  },
  {
   "cell_type": "code",
   "execution_count": 29,
   "metadata": {},
   "outputs": [
    {
     "data": {
      "text/html": [
       "$[\\![\\mathbf{\\text{cat}}]\\!]^{}_{\\left\\{\\left\\langle{}e,\\left\\langle{}s,t\\right\\rangle{}\\right\\rangle{}\\right\\}} \\:=\\: $$\\{\\lambda{} x_{e} \\: . \\: \\lambda{} w_{s} \\: . \\: {Cat}({w}, {x})\\}$<br />\n",
       "$[\\![\\mathbf{\\text{gray}}]\\!]^{}_{\\left\\{\\left\\langle{}e,\\left\\langle{}s,t\\right\\rangle{}\\right\\rangle{}\\right\\}} \\:=\\: $$\\{\\lambda{} x_{e} \\: . \\: \\lambda{} w_{s} \\: . \\: {Gray}({w}, {x})\\}$<br />\n",
       "$[\\![\\mathbf{\\text{john}}]\\!]^{}_{\\left\\{e\\right\\}} \\:=\\: $$\\{{J}_{e}\\}$<br />\n",
       "${x}_{\\left\\langle{}e,e\\right\\rangle{}}\\:=\\:\\lambda{} y_{e} \\: . \\: {y}$<br />\n",
       "$[\\![\\mathbf{\\text{test}}]\\!]^{}_{\\left\\{\\left\\langle{}e,t\\right\\rangle{}\\right\\}} \\:=\\: $$\\{\\lambda{} x_{e} \\: . \\: {Test}({x})\\}$<br />\n",
       "$[\\![\\mathbf{\\text{who}}]\\!]^{}_{\\left\\{e\\right\\}} \\:=\\: $$\\{x_{e}\\:|\\: {Human}({x}_{e})\\}$<br />\n",
       "$[\\![\\mathbf{\\text{saw}}]\\!]^{}_{\\left\\{\\left\\langle{}e,\\left\\langle{}e,\\left\\langle{}s,t\\right\\rangle{}\\right\\rangle{}\\right\\rangle{}\\right\\}} \\:=\\: $$\\{\\lambda{} x_{e} \\: . \\: \\lambda{} y_{e} \\: . \\: \\lambda{} w_{s} \\: . \\: {Saw}({w}, {y}, {x})\\}$<br />\n",
       "$[\\![\\mathbf{\\text{HExists}}]\\!]^{}_{\\left\\langle{}\\left\\{\\left\\langle{}s,t\\right\\rangle{}\\right\\},\\left\\{\\left\\langle{}s,t\\right\\rangle{}\\right\\}\\right\\rangle{}} \\:=\\: $$\\lambda{} p_{\\left\\{\\left\\langle{}s,t\\right\\rangle{}\\right\\}} \\: . \\: \\{\\lambda{} w_{s} \\: . \\: \\exists{} q_{\\left\\langle{}s,t\\right\\rangle{}} \\: . \\: ({q}({w}) \\wedge{} ({q} \\in{} {p}))\\}$<br />\n",
       "$[\\![\\mathbf{\\text{HForall}}]\\!]^{}_{\\left\\langle{}\\left\\{\\left\\langle{}s,t\\right\\rangle{}\\right\\},\\left\\{\\left\\langle{}s,t\\right\\rangle{}\\right\\}\\right\\rangle{}} \\:=\\: $$\\lambda{} p_{\\left\\{\\left\\langle{}s,t\\right\\rangle{}\\right\\}} \\: . \\: \\{\\lambda{} w_{s} \\: . \\: \\forall{} q_{\\left\\langle{}s,t\\right\\rangle{}} \\: . \\: ({q}({w}) \\rightarrow{} ({q} \\in{} {p}))\\}$"
      ],
      "text/latex": [
       "$[\\![\\mathbf{\\text{cat}}]\\!]^{}_{\\left\\{\\left\\langle{}e,\\left\\langle{}s,t\\right\\rangle{}\\right\\rangle{}\\right\\}} \\:=\\: $$\\{\\lambda{} x_{e} \\: . \\: \\lambda{} w_{s} \\: . \\: {Cat}({w}, {x})\\}$<br />\n",
       "$[\\![\\mathbf{\\text{gray}}]\\!]^{}_{\\left\\{\\left\\langle{}e,\\left\\langle{}s,t\\right\\rangle{}\\right\\rangle{}\\right\\}} \\:=\\: $$\\{\\lambda{} x_{e} \\: . \\: \\lambda{} w_{s} \\: . \\: {Gray}({w}, {x})\\}$<br />\n",
       "$[\\![\\mathbf{\\text{john}}]\\!]^{}_{\\left\\{e\\right\\}} \\:=\\: $$\\{{J}_{e}\\}$<br />\n",
       "${x}_{\\left\\langle{}e,e\\right\\rangle{}}\\:=\\:\\lambda{} y_{e} \\: . \\: {y}$<br />\n",
       "$[\\![\\mathbf{\\text{test}}]\\!]^{}_{\\left\\{\\left\\langle{}e,t\\right\\rangle{}\\right\\}} \\:=\\: $$\\{\\lambda{} x_{e} \\: . \\: {Test}({x})\\}$<br />\n",
       "$[\\![\\mathbf{\\text{who}}]\\!]^{}_{\\left\\{e\\right\\}} \\:=\\: $$\\{x_{e}\\:|\\: {Human}({x}_{e})\\}$<br />\n",
       "$[\\![\\mathbf{\\text{saw}}]\\!]^{}_{\\left\\{\\left\\langle{}e,\\left\\langle{}e,\\left\\langle{}s,t\\right\\rangle{}\\right\\rangle{}\\right\\rangle{}\\right\\}} \\:=\\: $$\\{\\lambda{} x_{e} \\: . \\: \\lambda{} y_{e} \\: . \\: \\lambda{} w_{s} \\: . \\: {Saw}({w}, {y}, {x})\\}$<br />\n",
       "$[\\![\\mathbf{\\text{HExists}}]\\!]^{}_{\\left\\langle{}\\left\\{\\left\\langle{}s,t\\right\\rangle{}\\right\\},\\left\\{\\left\\langle{}s,t\\right\\rangle{}\\right\\}\\right\\rangle{}} \\:=\\: $$\\lambda{} p_{\\left\\{\\left\\langle{}s,t\\right\\rangle{}\\right\\}} \\: . \\: \\{\\lambda{} w_{s} \\: . \\: \\exists{} q_{\\left\\langle{}s,t\\right\\rangle{}} \\: . \\: ({q}({w}) \\wedge{} ({q} \\in{} {p}))\\}$<br />\n",
       "$[\\![\\mathbf{\\text{HForall}}]\\!]^{}_{\\left\\langle{}\\left\\{\\left\\langle{}s,t\\right\\rangle{}\\right\\},\\left\\{\\left\\langle{}s,t\\right\\rangle{}\\right\\}\\right\\rangle{}} \\:=\\: $$\\lambda{} p_{\\left\\{\\left\\langle{}s,t\\right\\rangle{}\\right\\}} \\: . \\: \\{\\lambda{} w_{s} \\: . \\: \\forall{} q_{\\left\\langle{}s,t\\right\\rangle{}} \\: . \\: ({q}({w}) \\rightarrow{} ({q} \\in{} {p}))\\}$"
      ],
      "text/plain": [
       "$[\\![\\mathbf{\\text{cat}}]\\!]^{}_{\\left\\{\\left\\langle{}e,\\left\\langle{}s,t\\right\\rangle{}\\right\\rangle{}\\right\\}} \\:=\\: $$\\{\\lambda{} x_{e} \\: . \\: \\lambda{} w_{s} \\: . \\: {Cat}({w}, {x})\\}$<br />\n",
       "$[\\![\\mathbf{\\text{gray}}]\\!]^{}_{\\left\\{\\left\\langle{}e,\\left\\langle{}s,t\\right\\rangle{}\\right\\rangle{}\\right\\}} \\:=\\: $$\\{\\lambda{} x_{e} \\: . \\: \\lambda{} w_{s} \\: . \\: {Gray}({w}, {x})\\}$<br />\n",
       "$[\\![\\mathbf{\\text{john}}]\\!]^{}_{\\left\\{e\\right\\}} \\:=\\: $$\\{{J}_{e}\\}$<br />\n",
       "${x}_{\\left\\langle{}e,e\\right\\rangle{}}\\:=\\:\\lambda{} y_{e} \\: . \\: {y}$<br />\n",
       "$[\\![\\mathbf{\\text{test}}]\\!]^{}_{\\left\\{\\left\\langle{}e,t\\right\\rangle{}\\right\\}} \\:=\\: $$\\{\\lambda{} x_{e} \\: . \\: {Test}({x})\\}$<br />\n",
       "$[\\![\\mathbf{\\text{who}}]\\!]^{}_{\\left\\{e\\right\\}} \\:=\\: $$\\{x_{e}\\:|\\: {Human}({x}_{e})\\}$<br />\n",
       "$[\\![\\mathbf{\\text{saw}}]\\!]^{}_{\\left\\{\\left\\langle{}e,\\left\\langle{}e,\\left\\langle{}s,t\\right\\rangle{}\\right\\rangle{}\\right\\rangle{}\\right\\}} \\:=\\: $$\\{\\lambda{} x_{e} \\: . \\: \\lambda{} y_{e} \\: . \\: \\lambda{} w_{s} \\: . \\: {Saw}({w}, {y}, {x})\\}$<br />\n",
       "$[\\![\\mathbf{\\text{HExists}}]\\!]^{}_{\\left\\langle{}\\left\\{\\left\\langle{}s,t\\right\\rangle{}\\right\\},\\left\\{\\left\\langle{}s,t\\right\\rangle{}\\right\\}\\right\\rangle{}} \\:=\\: $$\\lambda{} p_{\\left\\{\\left\\langle{}s,t\\right\\rangle{}\\right\\}} \\: . \\: \\{\\lambda{} w_{s} \\: . \\: \\exists{} q_{\\left\\langle{}s,t\\right\\rangle{}} \\: . \\: ({q}({w}) \\wedge{} ({q} \\in{} {p}))\\}$<br />\n",
       "$[\\![\\mathbf{\\text{HForall}}]\\!]^{}_{\\left\\langle{}\\left\\{\\left\\langle{}s,t\\right\\rangle{}\\right\\},\\left\\{\\left\\langle{}s,t\\right\\rangle{}\\right\\}\\right\\rangle{}} \\:=\\: $$\\lambda{} p_{\\left\\{\\left\\langle{}s,t\\right\\rangle{}\\right\\}} \\: . \\: \\{\\lambda{} w_{s} \\: . \\: \\forall{} q_{\\left\\langle{}s,t\\right\\rangle{}} \\: . \\: ({q}({w}) \\rightarrow{} ({q} \\in{} {p}))\\}$"
      ]
     },
     "execution_count": 29,
     "metadata": {},
     "output_type": "execute_result"
    }
   ],
   "source": [
    "%lambctl hamblinize_all"
   ]
  },
  {
   "cell_type": "code",
   "execution_count": 30,
   "metadata": {
    "collapsed": true
   },
   "outputs": [],
   "source": []
  }
 ],
 "metadata": {
  "kernelspec": {
   "display_name": "Lambda Notebook (Python 3)",
   "language": "python",
   "name": "lambda-notebook"
  },
  "language_info": {
   "codemirror_mode": {
    "name": "ipython",
    "version": 3
   },
   "file_extension": ".py",
   "mimetype": "text/x-python",
   "name": "python",
   "nbconvert_exporter": "python",
   "pygments_lexer": "ipython3",
   "version": "3.6.4"
  }
 },
 "nbformat": 4,
 "nbformat_minor": 1
}
