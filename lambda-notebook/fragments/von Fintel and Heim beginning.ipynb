{
 "cells": [
  {
   "cell_type": "markdown",
   "metadata": {},
   "source": [
    "This notebook implements the very beginning of the von Fintel and Heim lecture notes on intensional semantics.  Lots more to do here!\n",
    "\n",
    "I'm providing it mainly as an example of how to use type s in the lambda notebook and how to add an intensionalization operation, but it really doesn't get past the first example."
   ]
  },
  {
   "cell_type": "code",
   "execution_count": 1,
   "metadata": {},
   "outputs": [],
   "source": [
    "reload_lamb()"
   ]
  },
  {
   "cell_type": "code",
   "execution_count": 2,
   "metadata": {},
   "outputs": [
    {
     "data": {
      "text/latex": [
       "Type system with atomic types: $t, n, e, s$"
      ],
      "text/plain": [
       "<lamb.types.PolyTypeSystem at 0x104d43278>"
      ]
     },
     "execution_count": 2,
     "metadata": {},
     "output_type": "execute_result"
    }
   ],
   "source": [
    "type_s = types.BasicType(\"s\")\n",
    "lang.get_system().add_basic_type(type_s)\n",
    "intensional_types = meta.get_type_system()\n",
    "intensional_types"
   ]
  },
  {
   "cell_type": "code",
   "execution_count": 3,
   "metadata": {},
   "outputs": [
    {
     "name": "stdout",
     "output_type": "stream",
     "text": [
      "INFO (meta): Coerced guessed type for 'In_t' into <(e,e),t>, to match argument '(y_e, x_e)'\n",
      "INFO (meta): Coerced guessed type for 'See_t' into <(e,e),t>, to match argument '(y_e, x_e)'\n"
     ]
    },
    {
     "data": {
      "text/html": [
       "$[\\![\\mathbf{\\text{cat}}]\\!]^{}_{\\left\\langle{}e,t\\right\\rangle{}} \\:=\\: $$\\lambda{} x_{e} \\: . \\: {Cat}({x})$<br />\n",
       "$[\\![\\mathbf{\\text{gray}}]\\!]^{}_{\\left\\langle{}e,t\\right\\rangle{}} \\:=\\: $$\\lambda{} x_{e} \\: . \\: {Gray}({x})$<br />\n",
       "$[\\![\\mathbf{\\text{john}}]\\!]^{}_{e} \\:=\\: $${John}_{e}$<br />\n",
       "$[\\![\\mathbf{\\text{julius}}]\\!]^{}_{e} \\:=\\: $${Julius}_{e}$<br />\n",
       "$[\\![\\mathbf{\\text{inP}}]\\!]^{}_{\\left\\langle{}e,\\left\\langle{}e,t\\right\\rangle{}\\right\\rangle{}} \\:=\\: $$\\lambda{} x_{e} \\: . \\: \\lambda{} y_{e} \\: . \\: {In}({y}, {x})$<br />\n",
       "$[\\![\\mathbf{\\text{texas}}]\\!]^{}_{e} \\:=\\: $${Texas}_{e}$<br />\n",
       "$[\\![\\mathbf{\\text{isV}}]\\!]^{}_{\\left\\langle{}\\left\\langle{}e,t\\right\\rangle{},\\left\\langle{}e,t\\right\\rangle{}\\right\\rangle{}} \\:=\\: $$\\lambda{} f_{\\left\\langle{}e,t\\right\\rangle{}} \\: . \\: {f}$<br />\n",
       "$[\\![\\mathbf{\\text{dance}}]\\!]^{}_{\\left\\langle{}e,t\\right\\rangle{}} \\:=\\: $$\\lambda{} x_{e} \\: . \\: {Dance}({x})$<br />\n",
       "$[\\![\\mathbf{\\text{see}}]\\!]^{}_{\\left\\langle{}e,\\left\\langle{}e,t\\right\\rangle{}\\right\\rangle{}} \\:=\\: $$\\lambda{} x_{e} \\: . \\: \\lambda{} y_{e} \\: . \\: {See}({y}, {x})$<br />\n",
       "$[\\![\\mathbf{\\text{Alfonso}}]\\!]^{}_{e} \\:=\\: $${Alfonso}_{e}$"
      ],
      "text/latex": [
       "$[\\![\\mathbf{\\text{cat}}]\\!]^{}_{\\left\\langle{}e,t\\right\\rangle{}} \\:=\\: $$\\lambda{} x_{e} \\: . \\: {Cat}({x})$<br />\n",
       "$[\\![\\mathbf{\\text{gray}}]\\!]^{}_{\\left\\langle{}e,t\\right\\rangle{}} \\:=\\: $$\\lambda{} x_{e} \\: . \\: {Gray}({x})$<br />\n",
       "$[\\![\\mathbf{\\text{john}}]\\!]^{}_{e} \\:=\\: $${John}_{e}$<br />\n",
       "$[\\![\\mathbf{\\text{julius}}]\\!]^{}_{e} \\:=\\: $${Julius}_{e}$<br />\n",
       "$[\\![\\mathbf{\\text{inP}}]\\!]^{}_{\\left\\langle{}e,\\left\\langle{}e,t\\right\\rangle{}\\right\\rangle{}} \\:=\\: $$\\lambda{} x_{e} \\: . \\: \\lambda{} y_{e} \\: . \\: {In}({y}, {x})$<br />\n",
       "$[\\![\\mathbf{\\text{texas}}]\\!]^{}_{e} \\:=\\: $${Texas}_{e}$<br />\n",
       "$[\\![\\mathbf{\\text{isV}}]\\!]^{}_{\\left\\langle{}\\left\\langle{}e,t\\right\\rangle{},\\left\\langle{}e,t\\right\\rangle{}\\right\\rangle{}} \\:=\\: $$\\lambda{} f_{\\left\\langle{}e,t\\right\\rangle{}} \\: . \\: {f}$<br />\n",
       "$[\\![\\mathbf{\\text{dance}}]\\!]^{}_{\\left\\langle{}e,t\\right\\rangle{}} \\:=\\: $$\\lambda{} x_{e} \\: . \\: {Dance}({x})$<br />\n",
       "$[\\![\\mathbf{\\text{see}}]\\!]^{}_{\\left\\langle{}e,\\left\\langle{}e,t\\right\\rangle{}\\right\\rangle{}} \\:=\\: $$\\lambda{} x_{e} \\: . \\: \\lambda{} y_{e} \\: . \\: {See}({y}, {x})$<br />\n",
       "$[\\![\\mathbf{\\text{Alfonso}}]\\!]^{}_{e} \\:=\\: $${Alfonso}_{e}$"
      ],
      "text/plain": [
       "$[\\![\\mathbf{\\text{cat}}]\\!]^{}_{\\left\\langle{}e,t\\right\\rangle{}} \\:=\\: $$\\lambda{} x_{e} \\: . \\: {Cat}({x})$<br />\n",
       "$[\\![\\mathbf{\\text{gray}}]\\!]^{}_{\\left\\langle{}e,t\\right\\rangle{}} \\:=\\: $$\\lambda{} x_{e} \\: . \\: {Gray}({x})$<br />\n",
       "$[\\![\\mathbf{\\text{john}}]\\!]^{}_{e} \\:=\\: $${John}_{e}$<br />\n",
       "$[\\![\\mathbf{\\text{julius}}]\\!]^{}_{e} \\:=\\: $${Julius}_{e}$<br />\n",
       "$[\\![\\mathbf{\\text{inP}}]\\!]^{}_{\\left\\langle{}e,\\left\\langle{}e,t\\right\\rangle{}\\right\\rangle{}} \\:=\\: $$\\lambda{} x_{e} \\: . \\: \\lambda{} y_{e} \\: . \\: {In}({y}, {x})$<br />\n",
       "$[\\![\\mathbf{\\text{texas}}]\\!]^{}_{e} \\:=\\: $${Texas}_{e}$<br />\n",
       "$[\\![\\mathbf{\\text{isV}}]\\!]^{}_{\\left\\langle{}\\left\\langle{}e,t\\right\\rangle{},\\left\\langle{}e,t\\right\\rangle{}\\right\\rangle{}} \\:=\\: $$\\lambda{} f_{\\left\\langle{}e,t\\right\\rangle{}} \\: . \\: {f}$<br />\n",
       "$[\\![\\mathbf{\\text{dance}}]\\!]^{}_{\\left\\langle{}e,t\\right\\rangle{}} \\:=\\: $$\\lambda{} x_{e} \\: . \\: {Dance}({x})$<br />\n",
       "$[\\![\\mathbf{\\text{see}}]\\!]^{}_{\\left\\langle{}e,\\left\\langle{}e,t\\right\\rangle{}\\right\\rangle{}} \\:=\\: $$\\lambda{} x_{e} \\: . \\: \\lambda{} y_{e} \\: . \\: {See}({y}, {x})$<br />\n",
       "$[\\![\\mathbf{\\text{Alfonso}}]\\!]^{}_{e} \\:=\\: $${Alfonso}_{e}$"
      ]
     },
     "execution_count": 3,
     "metadata": {},
     "output_type": "execute_result"
    }
   ],
   "source": [
    "%%lamb\n",
    "# some standard extensional entries\n",
    "||cat|| = L x_e: Cat_<e,t>(x)\n",
    "||gray|| = L x_e: Gray_<e,t>(x)\n",
    "||john|| = John_e\n",
    "||julius|| = Julius_e\n",
    "||inP|| = L x_e: L y: In(y, x)\n",
    "||texas|| = Texas_e\n",
    "||isV|| = L f_<e,t> : f\n",
    "||dance|| = L x_e: Dance_<e,t>(x)\n",
    "||see|| = L x_e : L y_e : See(y, x)\n",
    "||Alfonso|| = Alfonso_e"
   ]
  },
  {
   "cell_type": "code",
   "execution_count": 4,
   "metadata": {},
   "outputs": [
    {
     "data": {
      "text/html": [
       "1 composition path.  Result:\n",
       "<br />&nbsp;&nbsp;&nbsp;&nbsp;[0]: $[\\![\\mathbf{\\text{[[inP texas] julius]}}]\\!]^{}_{t} \\:=\\: $${In}({Julius}_{e}, {Texas}_{e})$"
      ],
      "text/plain": [
       "CompositionResult(results=[⟦[[inP texas] julius]⟧ = In_<(e,e),t>(Julius_e, Texas_e)], failures=[⟦[julius [inP texas]]⟧ = Type mismatch: '⟦julius⟧ = Julius_e'/e and '⟦[inP texas]⟧ = (λ y_e: In_<(e,e),t>(y_e, Texas_e))'/<e,t> conflict (mode: Function Application), ⟦[[inP texas] julius]⟧ = Type mismatch: '⟦[inP texas]⟧ = (λ y_e: In_<(e,e),t>(y_e, Texas_e))'/<e,t> and '⟦julius⟧ = Julius_e'/e conflict (mode: Predicate Modification), ⟦[[inP texas] julius]⟧ = Type mismatch: '⟦[inP texas]⟧ = (λ y_e: In_<(e,e),t>(y_e, Texas_e))'/<e,t> and '⟦julius⟧ = Julius_e'/e conflict (mode: Predicate Abstraction), ⟦[julius [inP texas]]⟧ = Type mismatch: '⟦julius⟧ = Julius_e'/e and '⟦[inP texas]⟧ = (λ y_e: In_<(e,e),t>(y_e, Texas_e))'/<e,t> conflict (mode: Predicate Abstraction)])"
      ]
     },
     "execution_count": 4,
     "metadata": {},
     "output_type": "execute_result"
    }
   ],
   "source": [
    "(inP * texas) * julius"
   ]
  },
  {
   "cell_type": "markdown",
   "metadata": {},
   "source": [
    "How could an item like `must` be accounted for in this sort of extensional system?  Let's see what type inference gets us:"
   ]
  },
  {
   "cell_type": "code",
   "execution_count": 5,
   "metadata": {},
   "outputs": [
    {
     "data": {
      "text/html": [
       "$[\\![\\mathbf{\\text{must}}]\\!]^{}_{\\left\\langle{}X,t\\right\\rangle{}} \\:=\\: $$\\lambda{} x_{X} \\: . \\: {Must}_{\\left\\langle{}X',t\\right\\rangle{}}({x})$"
      ],
      "text/latex": [
       "$[\\![\\mathbf{\\text{must}}]\\!]^{}_{\\left\\langle{}X,t\\right\\rangle{}} \\:=\\: $$\\lambda{} x_{X} \\: . \\: {Must}_{\\left\\langle{}X',t\\right\\rangle{}}({x})$"
      ],
      "text/plain": [
       "$[\\![\\mathbf{\\text{must}}]\\!]^{}_{\\left\\langle{}X,t\\right\\rangle{}} \\:=\\: $$\\lambda{} x_{X} \\: . \\: {Must}_{\\left\\langle{}X',t\\right\\rangle{}}({x})$"
      ]
     },
     "execution_count": 5,
     "metadata": {},
     "output_type": "execute_result"
    }
   ],
   "source": [
    "%%lamb\n",
    "||must|| = L x_? : Must_<?,t>(x)"
   ]
  },
  {
   "cell_type": "code",
   "execution_count": 6,
   "metadata": {},
   "outputs": [
    {
     "data": {
      "text/html": [
       "1 composition path.  Result:\n",
       "<br />&nbsp;&nbsp;&nbsp;&nbsp;[0]: $[\\![\\mathbf{\\text{[must [dance julius]]}}]\\!]^{}_{t} \\:=\\: $${Must}_{\\left\\langle{}t,t\\right\\rangle{}}({Dance}({Julius}_{e}))$"
      ],
      "text/plain": [
       "CompositionResult(results=[⟦[must [dance julius]]⟧ = Must_<t,t>(Dance_<e,t>(Julius_e))], failures=[⟦[[dance julius] must]⟧ = Type mismatch: '⟦[dance julius]⟧ = Dance_<e,t>(Julius_e)'/t and '⟦must⟧ = (λ x_X: Must_<X',t>(x_X))'/<X,t> conflict (mode: Function Application), ⟦[must [dance julius]]⟧ = Type mismatch: '⟦must⟧ = (λ x_X: Must_<X',t>(x_X))'/<X,t> and '⟦[dance julius]⟧ = Dance_<e,t>(Julius_e)'/t conflict (mode: Predicate Modification), ⟦[must [dance julius]]⟧ = Type mismatch: '⟦must⟧ = (λ x_X: Must_<X',t>(x_X))'/<X,t> and '⟦[dance julius]⟧ = Dance_<e,t>(Julius_e)'/t conflict (mode: Predicate Abstraction), ⟦[[dance julius] must]⟧ = Type mismatch: '⟦[dance julius]⟧ = Dance_<e,t>(Julius_e)'/t and '⟦must⟧ = (λ x_X: Must_<X',t>(x_X))'/<X,t> conflict (mode: Predicate Abstraction)])"
      ]
     },
     "execution_count": 6,
     "metadata": {},
     "output_type": "execute_result"
    }
   ],
   "source": [
    "must_test_result = must * (julius * dance)\n",
    "must_test_result"
   ]
  },
  {
   "cell_type": "code",
   "execution_count": 7,
   "metadata": {},
   "outputs": [],
   "source": []
  },
  {
   "cell_type": "code",
   "execution_count": 7,
   "metadata": {},
   "outputs": [
    {
     "data": {
      "text/html": [
       "1 composition path:<br /><style>.rendered_html table, .rendered_html tr, .rendered_html td, .rendered_html th { border: 0px; text-align:center; }</style><table><tr style=\"border:1px solid #848482\"><td style=\"vertical-align:bottom;padding:0px 10px\" align=\"center\"><table><tr><td style=\"vertical-align:bottom;padding:5px\"><table style=\"padding-bottom:5px\"><tr style=\"padding-bottom:5px\"><td style=\"padding-right:5px\"></td><td style=\"text-align:center\">$[\\![\\mathbf{\\text{must}}]\\!]^{}_{\\left\\langle{}X,t\\right\\rangle{}}$</td></tr><tr style=\"padding-bottom:5px\"><td style=\"padding-right:5px\"> $=$ </td><td style=\"text-align:center\">$\\lambda{} x_{?} \\: . \\: {Must}_{\\left\\langle{}?,t\\right\\rangle{}}({x})$</td></tr><tr style=\"padding-bottom:5px\"><td style=\"padding-right:5px\"> $=$ </td><td style=\"text-align:center\">$\\lambda{} x_{X} \\: . \\: {Must}_{\\left\\langle{}X',t\\right\\rangle{}}({x})$</td></tr></table></td><td style=\"vertical-align:bottom;padding:10px\">$\\circ$</td><td style=\"vertical-align:bottom;padding:5px\"><table><tr style=\"border:1px solid #848482\"><td style=\"vertical-align:bottom;padding:0px 10px\" align=\"center\"><table><tr><td style=\"vertical-align:bottom;padding:5px\"><div style=\"margin-top:10px;border-style:solid;border-color:#848482;border-width:0px\"><div style=\"vertical-align:bottom;text-align:center\">$[\\![\\mathbf{\\text{dance}}]\\!]^{}_{\\left\\langle{}e,t\\right\\rangle{}}$</div><div style=\"vertical-align:bottom;text-align:center\">$\\lambda{} x_{e} \\: . \\: {Dance}({x})$</div></div></td><td style=\"vertical-align:bottom;padding:10px\">$\\circ$</td><td style=\"vertical-align:bottom;padding:5px\"><div style=\"margin-top:10px;border-style:solid;border-color:#848482;border-width:0px\"><div style=\"vertical-align:bottom;text-align:center\">$[\\![\\mathbf{\\text{julius}}]\\!]^{}_{e}$</div><div style=\"vertical-align:bottom;text-align:center\">${Julius}_{e}$</div></div></td></tr></table></td><td style=\"border-left:1px solid #848482;vertical-align:center;padding:10px\"><span style=\"color:blue\"><b>[FA]</b></span></td></tr><tr style=\"border-style:solid;border-color:#848482;border-width:0px 1px 1px 1px\"><td style=\"padding:5px\" align=\"center\"><table style=\"padding-bottom:5px\"><tr style=\"padding-bottom:5px\"><td style=\"padding-right:5px\"></td><td style=\"text-align:center\">$[\\![\\mathbf{\\text{[dance julius]}}]\\!]^{}_{t}$</td></tr><tr style=\"padding-bottom:5px\"><td style=\"padding-right:5px\"> $=$ </td><td style=\"text-align:center\">${[\\lambda{} x_{e} \\: . \\: {Dance}({x})]}({Julius}_{e})$</td></tr><tr style=\"padding-bottom:5px\"><td style=\"padding-right:5px\"> $=$ </td><td style=\"text-align:center\">${Dance}({Julius}_{e})$</td></tr></table></td><td></td></tr></table></td></tr></table></td><td style=\"border-left:1px solid #848482;vertical-align:center;padding:10px\"><span style=\"color:blue\"><b>[FA]</b></span></td></tr><tr style=\"border-style:solid;border-color:#848482;border-width:0px 1px 1px 1px\"><td style=\"padding:5px\" align=\"center\"><table style=\"padding-bottom:5px\"><tr style=\"padding-bottom:5px\"><td style=\"padding-right:5px\"></td><td style=\"text-align:center\">$[\\![\\mathbf{\\text{[must [dance julius]]}}]\\!]^{}_{t}$</td></tr><tr style=\"padding-bottom:5px\"><td style=\"padding-right:5px\"> $=$ </td><td style=\"text-align:center\">${[\\lambda{} x_{t} \\: . \\: {Must}_{\\left\\langle{}t,t\\right\\rangle{}}({x})]}({Dance}({Julius}_{e}))$</td></tr><tr style=\"padding-bottom:5px\"><td style=\"padding-right:5px\"> $=$ </td><td style=\"text-align:center\">${Must}_{\\left\\langle{}t,t\\right\\rangle{}}({Dance}({Julius}_{e}))$</td></tr></table></td><td></td></tr></table><br /><br />"
      ],
      "text/latex": [
       "1 composition path:<br /><style>.rendered_html table, .rendered_html tr, .rendered_html td, .rendered_html th { border: 0px; text-align:center; }</style><table><tr style=\"border:1px solid #848482\"><td style=\"vertical-align:bottom;padding:0px 10px\" align=\"center\"><table><tr><td style=\"vertical-align:bottom;padding:5px\"><table style=\"padding-bottom:5px\"><tr style=\"padding-bottom:5px\"><td style=\"padding-right:5px\"></td><td style=\"text-align:center\">$[\\![\\mathbf{\\text{must}}]\\!]^{}_{\\left\\langle{}X,t\\right\\rangle{}}$</td></tr><tr style=\"padding-bottom:5px\"><td style=\"padding-right:5px\"> $=$ </td><td style=\"text-align:center\">$\\lambda{} x_{?} \\: . \\: {Must}_{\\left\\langle{}?,t\\right\\rangle{}}({x})$</td></tr><tr style=\"padding-bottom:5px\"><td style=\"padding-right:5px\"> $=$ </td><td style=\"text-align:center\">$\\lambda{} x_{X} \\: . \\: {Must}_{\\left\\langle{}X',t\\right\\rangle{}}({x})$</td></tr></table></td><td style=\"vertical-align:bottom;padding:10px\">$\\circ$</td><td style=\"vertical-align:bottom;padding:5px\"><table><tr style=\"border:1px solid #848482\"><td style=\"vertical-align:bottom;padding:0px 10px\" align=\"center\"><table><tr><td style=\"vertical-align:bottom;padding:5px\"><div style=\"margin-top:10px;border-style:solid;border-color:#848482;border-width:0px\"><div style=\"vertical-align:bottom;text-align:center\">$[\\![\\mathbf{\\text{dance}}]\\!]^{}_{\\left\\langle{}e,t\\right\\rangle{}}$</div><div style=\"vertical-align:bottom;text-align:center\">$\\lambda{} x_{e} \\: . \\: {Dance}({x})$</div></div></td><td style=\"vertical-align:bottom;padding:10px\">$\\circ$</td><td style=\"vertical-align:bottom;padding:5px\"><div style=\"margin-top:10px;border-style:solid;border-color:#848482;border-width:0px\"><div style=\"vertical-align:bottom;text-align:center\">$[\\![\\mathbf{\\text{julius}}]\\!]^{}_{e}$</div><div style=\"vertical-align:bottom;text-align:center\">${Julius}_{e}$</div></div></td></tr></table></td><td style=\"border-left:1px solid #848482;vertical-align:center;padding:10px\"><span style=\"color:blue\"><b>[FA]</b></span></td></tr><tr style=\"border-style:solid;border-color:#848482;border-width:0px 1px 1px 1px\"><td style=\"padding:5px\" align=\"center\"><table style=\"padding-bottom:5px\"><tr style=\"padding-bottom:5px\"><td style=\"padding-right:5px\"></td><td style=\"text-align:center\">$[\\![\\mathbf{\\text{[dance julius]}}]\\!]^{}_{t}$</td></tr><tr style=\"padding-bottom:5px\"><td style=\"padding-right:5px\"> $=$ </td><td style=\"text-align:center\">${[\\lambda{} x_{e} \\: . \\: {Dance}({x})]}({Julius}_{e})$</td></tr><tr style=\"padding-bottom:5px\"><td style=\"padding-right:5px\"> $=$ </td><td style=\"text-align:center\">${Dance}({Julius}_{e})$</td></tr></table></td><td></td></tr></table></td></tr></table></td><td style=\"border-left:1px solid #848482;vertical-align:center;padding:10px\"><span style=\"color:blue\"><b>[FA]</b></span></td></tr><tr style=\"border-style:solid;border-color:#848482;border-width:0px 1px 1px 1px\"><td style=\"padding:5px\" align=\"center\"><table style=\"padding-bottom:5px\"><tr style=\"padding-bottom:5px\"><td style=\"padding-right:5px\"></td><td style=\"text-align:center\">$[\\![\\mathbf{\\text{[must [dance julius]]}}]\\!]^{}_{t}$</td></tr><tr style=\"padding-bottom:5px\"><td style=\"padding-right:5px\"> $=$ </td><td style=\"text-align:center\">${[\\lambda{} x_{t} \\: . \\: {Must}_{\\left\\langle{}t,t\\right\\rangle{}}({x})]}({Dance}({Julius}_{e}))$</td></tr><tr style=\"padding-bottom:5px\"><td style=\"padding-right:5px\"> $=$ </td><td style=\"text-align:center\">${Must}_{\\left\\langle{}t,t\\right\\rangle{}}({Dance}({Julius}_{e}))$</td></tr></table></td><td></td></tr></table><br /><br />"
      ],
      "text/plain": [
       "1 composition path:<br /><style>.rendered_html table, .rendered_html tr, .rendered_html td, .rendered_html th { border: 0px; text-align:center; }</style><table><tr style=\"border:1px solid #848482\"><td style=\"vertical-align:bottom;padding:0px 10px\" align=\"center\"><table><tr><td style=\"vertical-align:bottom;padding:5px\"><table style=\"padding-bottom:5px\"><tr style=\"padding-bottom:5px\"><td style=\"padding-right:5px\"></td><td style=\"text-align:center\">$[\\![\\mathbf{\\text{must}}]\\!]^{}_{\\left\\langle{}X,t\\right\\rangle{}}$</td></tr><tr style=\"padding-bottom:5px\"><td style=\"padding-right:5px\"> $=$ </td><td style=\"text-align:center\">$\\lambda{} x_{?} \\: . \\: {Must}_{\\left\\langle{}?,t\\right\\rangle{}}({x})$</td></tr><tr style=\"padding-bottom:5px\"><td style=\"padding-right:5px\"> $=$ </td><td style=\"text-align:center\">$\\lambda{} x_{X} \\: . \\: {Must}_{\\left\\langle{}X',t\\right\\rangle{}}({x})$</td></tr></table></td><td style=\"vertical-align:bottom;padding:10px\">$\\circ$</td><td style=\"vertical-align:bottom;padding:5px\"><table><tr style=\"border:1px solid #848482\"><td style=\"vertical-align:bottom;padding:0px 10px\" align=\"center\"><table><tr><td style=\"vertical-align:bottom;padding:5px\"><div style=\"margin-top:10px;border-style:solid;border-color:#848482;border-width:0px\"><div style=\"vertical-align:bottom;text-align:center\">$[\\![\\mathbf{\\text{dance}}]\\!]^{}_{\\left\\langle{}e,t\\right\\rangle{}}$</div><div style=\"vertical-align:bottom;text-align:center\">$\\lambda{} x_{e} \\: . \\: {Dance}({x})$</div></div></td><td style=\"vertical-align:bottom;padding:10px\">$\\circ$</td><td style=\"vertical-align:bottom;padding:5px\"><div style=\"margin-top:10px;border-style:solid;border-color:#848482;border-width:0px\"><div style=\"vertical-align:bottom;text-align:center\">$[\\![\\mathbf{\\text{julius}}]\\!]^{}_{e}$</div><div style=\"vertical-align:bottom;text-align:center\">${Julius}_{e}$</div></div></td></tr></table></td><td style=\"border-left:1px solid #848482;vertical-align:center;padding:10px\"><span style=\"color:blue\"><b>[FA]</b></span></td></tr><tr style=\"border-style:solid;border-color:#848482;border-width:0px 1px 1px 1px\"><td style=\"padding:5px\" align=\"center\"><table style=\"padding-bottom:5px\"><tr style=\"padding-bottom:5px\"><td style=\"padding-right:5px\"></td><td style=\"text-align:center\">$[\\![\\mathbf{\\text{[dance julius]}}]\\!]^{}_{t}$</td></tr><tr style=\"padding-bottom:5px\"><td style=\"padding-right:5px\"> $=$ </td><td style=\"text-align:center\">${[\\lambda{} x_{e} \\: . \\: {Dance}({x})]}({Julius}_{e})$</td></tr><tr style=\"padding-bottom:5px\"><td style=\"padding-right:5px\"> $=$ </td><td style=\"text-align:center\">${Dance}({Julius}_{e})$</td></tr></table></td><td></td></tr></table></td></tr></table></td><td style=\"border-left:1px solid #848482;vertical-align:center;padding:10px\"><span style=\"color:blue\"><b>[FA]</b></span></td></tr><tr style=\"border-style:solid;border-color:#848482;border-width:0px 1px 1px 1px\"><td style=\"padding:5px\" align=\"center\"><table style=\"padding-bottom:5px\"><tr style=\"padding-bottom:5px\"><td style=\"padding-right:5px\"></td><td style=\"text-align:center\">$[\\![\\mathbf{\\text{[must [dance julius]]}}]\\!]^{}_{t}$</td></tr><tr style=\"padding-bottom:5px\"><td style=\"padding-right:5px\"> $=$ </td><td style=\"text-align:center\">${[\\lambda{} x_{t} \\: . \\: {Must}_{\\left\\langle{}t,t\\right\\rangle{}}({x})]}({Dance}({Julius}_{e}))$</td></tr><tr style=\"padding-bottom:5px\"><td style=\"padding-right:5px\"> $=$ </td><td style=\"text-align:center\">${Must}_{\\left\\langle{}t,t\\right\\rangle{}}({Dance}({Julius}_{e}))$</td></tr></table></td><td></td></tr></table><br /><br />"
      ]
     },
     "execution_count": 7,
     "metadata": {},
     "output_type": "execute_result"
    }
   ],
   "source": [
    "must_test_result.tree(derivations=True)"
   ]
  },
  {
   "cell_type": "code",
   "execution_count": 8,
   "metadata": {},
   "outputs": [
    {
     "data": {
      "text/html": [
       "<style>.rendered_html table, .rendered_html tr, .rendered_html td, .rendered_html th { border: 0px; text-align:center; }</style><table><tr><td style=\"border-left:1px solid #848482\"><div><table style=\"padding-bottom:5px\"><tr style=\"border-bottom:1px solid #848482;padding-bottom:5px\"><td style=\"padding-right:5px;vertical-align:bottom\"> 1. </td><td style=\"vertical-align:bottom;padding-right:10px\">${[\\lambda{} x_{t} \\: . \\: {Must}_{\\left\\langle{}t,t\\right\\rangle{}}({x})]}({Dance}({Julius}_{e}))$</td></tr><tr style=\"padding-bottom:5px\"><td style=\"padding-right:5px;vertical-align:bottom\"> 2. </td><td style=\"vertical-align:bottom;padding-right:10px\">${Must}_{\\left\\langle{}t,t\\right\\rangle{}}({Dance}({Julius}_{e}))$</td><td style=\"border-left:1px solid #848482\"><span style=\"color:blue\">Reduction</span></td></tr></table></div></td></tr></table>"
      ],
      "text/plain": [
       " 1. ((λ x_t: Must_<t,t>(x_t)))(Dance_<e,t>(Julius_e))\n",
       " 2. Must_<t,t>(Dance_<e,t>(Julius_e))    (Reduction)"
      ]
     },
     "execution_count": 8,
     "metadata": {},
     "output_type": "execute_result"
    }
   ],
   "source": [
    "# Zoom in on what's happening in the final step\n",
    "must_test_result[0].content.derivation"
   ]
  },
  {
   "cell_type": "markdown",
   "metadata": {},
   "source": [
    "Type &lt;t,t&gt; is the only inferrable option.  This is not really satisfactory, as &lt;t,t&gt; describes a very small set.  In fact, there are just four functions:\n",
    "\n",
    " * 1 $\\rightarrow$ 1, 0 $\\rightarrow$ 0\n",
    " * 1 $\\rightarrow$ 0, 0 $\\rightarrow$ 1\n",
    " * 1 $\\rightarrow$ 0, 0 $\\rightarrow$ 0\n",
    " * 1 $\\rightarrow$ 1, 0 $\\rightarrow$ 1\n",
    "\n",
    "Hence, some richer (\"intensional\") representation is needed.  Possible worlds are involved in one kind of analysis of intensionality."
   ]
  },
  {
   "cell_type": "code",
   "execution_count": 9,
   "metadata": {},
   "outputs": [
    {
     "data": {
      "text/latex": [
       "Type system with atomic types: $t, n, e, s$"
      ],
      "text/plain": [
       "<lamb.types.PolyTypeSystem at 0x104d43278>"
      ]
     },
     "execution_count": 9,
     "metadata": {},
     "output_type": "execute_result"
    }
   ],
   "source": [
    "intensional_types"
   ]
  },
  {
   "cell_type": "code",
   "execution_count": 10,
   "metadata": {},
   "outputs": [],
   "source": []
  },
  {
   "cell_type": "code",
   "execution_count": 10,
   "metadata": {},
   "outputs": [],
   "source": [
    "# set up evaluation world as a parameter to the interpretation function\n",
    "int_system = lang.get_system().copy()\n",
    "eval_w = lang.te(\"w_s\")\n",
    "int_system.assign_controller = lang.AssignmentController(specials=[eval_w])\n",
    "lang.set_system(int_system)"
   ]
  },
  {
   "cell_type": "code",
   "execution_count": 11,
   "metadata": {},
   "outputs": [
    {
     "name": "stdout",
     "output_type": "stream",
     "text": [
      "INFO (meta): Coerced guessed type for 'Dance_t' into <(s,e),t>, to match argument '(w_s, x_e)'\n"
     ]
    },
    {
     "data": {
      "text/html": [
       "$[\\![\\mathbf{\\text{dance}}]\\!]^{{w}_{s}, g}_{\\left\\langle{}e,t\\right\\rangle{}} \\:=\\: $$\\lambda{} x_{e} \\: . \\: {Dance}({w}_{s}, {x})$<br />\n",
       "$[\\![\\mathbf{\\text{Alfonso}}]\\!]^{{w}_{s}, g}_{e} \\:=\\: $${Alfonso}_{e}$"
      ],
      "text/latex": [
       "$[\\![\\mathbf{\\text{dance}}]\\!]^{{w}_{s}, g}_{\\left\\langle{}e,t\\right\\rangle{}} \\:=\\: $$\\lambda{} x_{e} \\: . \\: {Dance}({w}_{s}, {x})$<br />\n",
       "$[\\![\\mathbf{\\text{Alfonso}}]\\!]^{{w}_{s}, g}_{e} \\:=\\: $${Alfonso}_{e}$"
      ],
      "text/plain": [
       "$[\\![\\mathbf{\\text{dance}}]\\!]^{{w}_{s}, g}_{\\left\\langle{}e,t\\right\\rangle{}} \\:=\\: $$\\lambda{} x_{e} \\: . \\: {Dance}({w}_{s}, {x})$<br />\n",
       "$[\\![\\mathbf{\\text{Alfonso}}]\\!]^{{w}_{s}, g}_{e} \\:=\\: $${Alfonso}_{e}$"
      ]
     },
     "execution_count": 11,
     "metadata": {},
     "output_type": "execute_result"
    }
   ],
   "source": [
    "%%lamb \n",
    "||dance|| = L x_e: Dance(w, x)\n",
    "||Alfonso|| = Alfonso_e"
   ]
  },
  {
   "cell_type": "code",
   "execution_count": 12,
   "metadata": {},
   "outputs": [
    {
     "data": {
      "text/html": [
       "1 composition path.  Result:\n",
       "<br />&nbsp;&nbsp;&nbsp;&nbsp;[0]: $[\\![\\mathbf{\\text{[dance Alfonso]}}]\\!]^{{w}_{s}, g}_{t} \\:=\\: $${Dance}({w}_{s}, {Alfonso}_{e})$"
      ],
      "text/plain": [
       "CompositionResult(results=[⟦[dance Alfonso]⟧[w_s, type s, g] = Dance_<(s,e),t>(w_s, Alfonso_e)], failures=[⟦[Alfonso dance]⟧[w_s, type s, g] = Type mismatch: '⟦Alfonso⟧[w_s, type s, g] = Alfonso_e'/e and '⟦dance⟧[w_s, type s, g] = (λ x_e: Dance_<(s,e),t>(w_s, x_e))'/<e,t> conflict (mode: Function Application), ⟦[Alfonso dance]⟧[w_s, type s, g] = Type mismatch: '⟦Alfonso⟧[w_s, type s, g] = Alfonso_e'/e and '⟦dance⟧[w_s, type s, g] = (λ x_e: Dance_<(s,e),t>(w_s, x_e))'/<e,t> conflict (mode: Predicate Modification), ⟦[Alfonso dance]⟧[w_s, type s, g] = Type mismatch: '⟦Alfonso⟧[w_s, type s, g] = Alfonso_e'/e and '⟦dance⟧[w_s, type s, g] = (λ x_e: Dance_<(s,e),t>(w_s, x_e))'/<e,t> conflict (mode: Predicate Abstraction), ⟦[dance Alfonso]⟧[w_s, type s, g] = Type mismatch: '⟦dance⟧[w_s, type s, g] = (λ x_e: Dance_<(s,e),t>(w_s, x_e))'/<e,t> and '⟦Alfonso⟧[w_s, type s, g] = Alfonso_e'/e conflict (mode: Predicate Abstraction)])"
      ]
     },
     "execution_count": 12,
     "metadata": {},
     "output_type": "execute_result"
    }
   ],
   "source": [
    "(Alfonso * dance)"
   ]
  },
  {
   "cell_type": "code",
   "execution_count": 13,
   "metadata": {},
   "outputs": [
    {
     "data": {
      "text/html": [
       "1 composition path:<br /><style>.rendered_html table, .rendered_html tr, .rendered_html td, .rendered_html th { border: 0px; text-align:center; }</style><table><tr style=\"border:1px solid #848482\"><td style=\"vertical-align:bottom;padding:0px 10px\" align=\"center\"><table><tr><td style=\"vertical-align:bottom;padding:5px\"><div style=\"margin-top:10px;border-style:solid;border-color:#848482;border-width:0px\"><div style=\"vertical-align:bottom;text-align:center\">$[\\![\\mathbf{\\text{dance}}]\\!]^{{w}_{s}, g}_{\\left\\langle{}e,t\\right\\rangle{}}$</div><div style=\"vertical-align:bottom;text-align:center\">$\\lambda{} x_{e} \\: . \\: {Dance}({w}_{s}, {x})$</div></div></td><td style=\"vertical-align:bottom;padding:10px\">$\\circ$</td><td style=\"vertical-align:bottom;padding:5px\"><div style=\"margin-top:10px;border-style:solid;border-color:#848482;border-width:0px\"><div style=\"vertical-align:bottom;text-align:center\">$[\\![\\mathbf{\\text{Alfonso}}]\\!]^{{w}_{s}, g}_{e}$</div><div style=\"vertical-align:bottom;text-align:center\">${Alfonso}_{e}$</div></div></td></tr></table></td><td style=\"border-left:1px solid #848482;vertical-align:center;padding:10px\"><span style=\"color:blue\"><b>[FA]</b></span></td></tr><tr style=\"border-style:solid;border-color:#848482;border-width:0px 1px 1px 1px\"><td style=\"padding:5px\" align=\"center\"><div style=\"margin-top:10px;border-style:solid;border-color:#848482;border-width:0px\"><div style=\"vertical-align:bottom;text-align:center\">$[\\![\\mathbf{\\text{[dance Alfonso]}}]\\!]^{{w}_{s}, g}_{t}$</div><div style=\"vertical-align:bottom;text-align:center\">${Dance}({w}_{s}, {Alfonso}_{e})$</div></div></td><td></td></tr></table><br /><br />"
      ],
      "text/latex": [
       "1 composition path:<br /><style>.rendered_html table, .rendered_html tr, .rendered_html td, .rendered_html th { border: 0px; text-align:center; }</style><table><tr style=\"border:1px solid #848482\"><td style=\"vertical-align:bottom;padding:0px 10px\" align=\"center\"><table><tr><td style=\"vertical-align:bottom;padding:5px\"><div style=\"margin-top:10px;border-style:solid;border-color:#848482;border-width:0px\"><div style=\"vertical-align:bottom;text-align:center\">$[\\![\\mathbf{\\text{dance}}]\\!]^{{w}_{s}, g}_{\\left\\langle{}e,t\\right\\rangle{}}$</div><div style=\"vertical-align:bottom;text-align:center\">$\\lambda{} x_{e} \\: . \\: {Dance}({w}_{s}, {x})$</div></div></td><td style=\"vertical-align:bottom;padding:10px\">$\\circ$</td><td style=\"vertical-align:bottom;padding:5px\"><div style=\"margin-top:10px;border-style:solid;border-color:#848482;border-width:0px\"><div style=\"vertical-align:bottom;text-align:center\">$[\\![\\mathbf{\\text{Alfonso}}]\\!]^{{w}_{s}, g}_{e}$</div><div style=\"vertical-align:bottom;text-align:center\">${Alfonso}_{e}$</div></div></td></tr></table></td><td style=\"border-left:1px solid #848482;vertical-align:center;padding:10px\"><span style=\"color:blue\"><b>[FA]</b></span></td></tr><tr style=\"border-style:solid;border-color:#848482;border-width:0px 1px 1px 1px\"><td style=\"padding:5px\" align=\"center\"><div style=\"margin-top:10px;border-style:solid;border-color:#848482;border-width:0px\"><div style=\"vertical-align:bottom;text-align:center\">$[\\![\\mathbf{\\text{[dance Alfonso]}}]\\!]^{{w}_{s}, g}_{t}$</div><div style=\"vertical-align:bottom;text-align:center\">${Dance}({w}_{s}, {Alfonso}_{e})$</div></div></td><td></td></tr></table><br /><br />"
      ],
      "text/plain": [
       "1 composition path:<br /><style>.rendered_html table, .rendered_html tr, .rendered_html td, .rendered_html th { border: 0px; text-align:center; }</style><table><tr style=\"border:1px solid #848482\"><td style=\"vertical-align:bottom;padding:0px 10px\" align=\"center\"><table><tr><td style=\"vertical-align:bottom;padding:5px\"><div style=\"margin-top:10px;border-style:solid;border-color:#848482;border-width:0px\"><div style=\"vertical-align:bottom;text-align:center\">$[\\![\\mathbf{\\text{dance}}]\\!]^{{w}_{s}, g}_{\\left\\langle{}e,t\\right\\rangle{}}$</div><div style=\"vertical-align:bottom;text-align:center\">$\\lambda{} x_{e} \\: . \\: {Dance}({w}_{s}, {x})$</div></div></td><td style=\"vertical-align:bottom;padding:10px\">$\\circ$</td><td style=\"vertical-align:bottom;padding:5px\"><div style=\"margin-top:10px;border-style:solid;border-color:#848482;border-width:0px\"><div style=\"vertical-align:bottom;text-align:center\">$[\\![\\mathbf{\\text{Alfonso}}]\\!]^{{w}_{s}, g}_{e}$</div><div style=\"vertical-align:bottom;text-align:center\">${Alfonso}_{e}$</div></div></td></tr></table></td><td style=\"border-left:1px solid #848482;vertical-align:center;padding:10px\"><span style=\"color:blue\"><b>[FA]</b></span></td></tr><tr style=\"border-style:solid;border-color:#848482;border-width:0px 1px 1px 1px\"><td style=\"padding:5px\" align=\"center\"><div style=\"margin-top:10px;border-style:solid;border-color:#848482;border-width:0px\"><div style=\"vertical-align:bottom;text-align:center\">$[\\![\\mathbf{\\text{[dance Alfonso]}}]\\!]^{{w}_{s}, g}_{t}$</div><div style=\"vertical-align:bottom;text-align:center\">${Dance}({w}_{s}, {Alfonso}_{e})$</div></div></td><td></td></tr></table><br /><br />"
      ]
     },
     "execution_count": 13,
     "metadata": {},
     "output_type": "execute_result"
    }
   ],
   "source": [
    "(Alfonso * dance).tree()"
   ]
  },
  {
   "cell_type": "code",
   "execution_count": 14,
   "metadata": {},
   "outputs": [],
   "source": []
  },
  {
   "cell_type": "code",
   "execution_count": 14,
   "metadata": {},
   "outputs": [
    {
     "data": {
      "text/html": [
       "$[\\![\\mathbf{\\text{INT(dance)}}]\\!]^{{w}_{s}, g}_{\\left\\langle{}s,\\left\\langle{}e,t\\right\\rangle{}\\right\\rangle{}} \\:=\\: $$\\lambda{} w_{s} \\: . \\: \\lambda{} x_{e} \\: . \\: {Dance}({w}, {x})$"
      ],
      "text/latex": [
       "$[\\![\\mathbf{\\text{INT(dance)}}]\\!]^{{w}_{s}, g}_{\\left\\langle{}s,\\left\\langle{}e,t\\right\\rangle{}\\right\\rangle{}} \\:=\\: $$\\lambda{} w_{s} \\: . \\: \\lambda{} x_{e} \\: . \\: {Dance}({w}, {x})$"
      ],
      "text/plain": [
       "⟦INT(dance)⟧[w_s, type s, g] = (λ w_s: (λ x_e: Dance_<(s,e),t>(w_s, x_e)))"
      ]
     },
     "execution_count": 14,
     "metadata": {},
     "output_type": "execute_result"
    }
   ],
   "source": [
    "def intension_fun(f, assignment=None):\n",
    "    new_a = lang.Assignment(assignment)\n",
    "    new_a.update({\"w\": lang.te(\"w_s\")})\n",
    "    result = meta.LFun(\"w_s\", f.content.under_assignment(new_a))\n",
    "    return lang.UnaryComposite(f, result, source=\"INT(%s)\" % (f.name))\n",
    "\n",
    "intension_fun(dance)"
   ]
  },
  {
   "cell_type": "code",
   "execution_count": 15,
   "metadata": {},
   "outputs": [
    {
     "data": {
      "text/html": [
       "$[\\![\\mathbf{\\text{INT(julius)}}]\\!]^{{w}_{s}, g}_{\\left\\langle{}s,e\\right\\rangle{}} \\:=\\: $$\\lambda{} w_{s} \\: . \\: {Julius}_{e}$"
      ],
      "text/latex": [
       "$[\\![\\mathbf{\\text{INT(julius)}}]\\!]^{{w}_{s}, g}_{\\left\\langle{}s,e\\right\\rangle{}} \\:=\\: $$\\lambda{} w_{s} \\: . \\: {Julius}_{e}$"
      ],
      "text/plain": [
       "⟦INT(julius)⟧[w_s, type s, g] = (λ w_s: Julius_e)"
      ]
     },
     "execution_count": 15,
     "metadata": {},
     "output_type": "execute_result"
    }
   ],
   "source": [
    "intension_fun(julius)"
   ]
  },
  {
   "cell_type": "code",
   "execution_count": 16,
   "metadata": {},
   "outputs": [
    {
     "data": {
      "text/html": [
       "Composition system 'H&K simple (copy)'<br />Operations: {<br />&nbsp;&nbsp;&nbsp;&nbsp;Binary composition rule <i>FA</i>, built on python function 'lamb.lang.fa_fun'<br />&nbsp;&nbsp;&nbsp;&nbsp;Binary composition rule <i>PM</i>, built on python function 'lamb.lang.pm_fun'<br />&nbsp;&nbsp;&nbsp;&nbsp;Binary composition rule <i>PA</i>, built on python function 'lamb.lang.pa_fun'<br />&nbsp;&nbsp;&nbsp;&nbsp;Unary composition rule <i>INT</i>, built on python function '__main__.intension_fun'<br />}"
      ],
      "text/plain": [
       "Composition system: H&K simple (copy)"
      ]
     },
     "execution_count": 16,
     "metadata": {},
     "output_type": "execute_result"
    }
   ],
   "source": [
    "int_system.add_rule(lang.UnaryCompositionOp(\"INT\", intension_fun))\n",
    "int_system"
   ]
  },
  {
   "cell_type": "code",
   "execution_count": 17,
   "metadata": {},
   "outputs": [],
   "source": []
  },
  {
   "cell_type": "code",
   "execution_count": 17,
   "metadata": {},
   "outputs": [
    {
     "data": {
      "text/html": [
       "$[\\![\\mathbf{\\text{a}}]\\!]^{{w}_{s}, g}_{\\left\\langle{}\\left\\langle{}e,t\\right\\rangle{},\\left\\langle{}\\left\\langle{}e,t\\right\\rangle{},t\\right\\rangle{}\\right\\rangle{}} \\:=\\: $$\\lambda{} f_{\\left\\langle{}e,t\\right\\rangle{}} \\: . \\: \\lambda{} g_{\\left\\langle{}e,t\\right\\rangle{}} \\: . \\: \\exists{} x_{e} \\: . \\: ({f}({x}) \\wedge{} {g}({x}))$"
      ],
      "text/latex": [
       "$[\\![\\mathbf{\\text{a}}]\\!]^{{w}_{s}, g}_{\\left\\langle{}\\left\\langle{}e,t\\right\\rangle{},\\left\\langle{}\\left\\langle{}e,t\\right\\rangle{},t\\right\\rangle{}\\right\\rangle{}} \\:=\\: $$\\lambda{} f_{\\left\\langle{}e,t\\right\\rangle{}} \\: . \\: \\lambda{} g_{\\left\\langle{}e,t\\right\\rangle{}} \\: . \\: \\exists{} x_{e} \\: . \\: ({f}({x}) \\wedge{} {g}({x}))$"
      ],
      "text/plain": [
       "$[\\![\\mathbf{\\text{a}}]\\!]^{{w}_{s}, g}_{\\left\\langle{}\\left\\langle{}e,t\\right\\rangle{},\\left\\langle{}\\left\\langle{}e,t\\right\\rangle{},t\\right\\rangle{}\\right\\rangle{}} \\:=\\: $$\\lambda{} f_{\\left\\langle{}e,t\\right\\rangle{}} \\: . \\: \\lambda{} g_{\\left\\langle{}e,t\\right\\rangle{}} \\: . \\: \\exists{} x_{e} \\: . \\: ({f}({x}) \\wedge{} {g}({x}))$"
      ]
     },
     "execution_count": 17,
     "metadata": {},
     "output_type": "execute_result"
    }
   ],
   "source": [
    "%%lamb\n",
    "||a|| = L f_<e,t> : L g_<e,t> : Exists x_e : f(x) & g(x)"
   ]
  },
  {
   "cell_type": "code",
   "execution_count": 18,
   "metadata": {},
   "outputs": [
    {
     "name": "stdout",
     "output_type": "stream",
     "text": [
      "INFO (meta): Coerced guessed type for 'Famous_t' into <(s,e),t>, to match argument '(w_s, x_e)'\n",
      "INFO (meta): Coerced guessed type for 'Detective_t' into <(s,e),t>, to match argument '(w_s, x_e)'\n",
      "INFO (parsing): Exporting item ||baker street 221B|| to python variable `baker_street_221B`.\n",
      "INFO (meta): Coerced guessed type for 'LivesAt_t' into <(s,e,e),t>, to match argument '(w_s, x_e, y_e)'\n"
     ]
    },
    {
     "data": {
      "text/html": [
       "$[\\![\\mathbf{\\text{famous}}]\\!]^{{w}_{s}, g}_{\\left\\langle{}e,t\\right\\rangle{}} \\:=\\: $$\\lambda{} x_{e} \\: . \\: {Famous}({w}_{s}, {x})$<br />\n",
       "$[\\![\\mathbf{\\text{detective}}]\\!]^{{w}_{s}, g}_{\\left\\langle{}e,t\\right\\rangle{}} \\:=\\: $$\\lambda{} x_{e} \\: . \\: {Detective}({w}_{s}, {x})$<br />\n",
       "$[\\![\\mathbf{\\text{baker_street_221B}}]\\!]^{{w}_{s}, g}_{e} \\:=\\: $${BakerSt221B}_{e}$<br />\n",
       "$[\\![\\mathbf{\\text{lives}}]\\!]^{{w}_{s}, g}_{\\left\\langle{}e,\\left\\langle{}e,t\\right\\rangle{}\\right\\rangle{}} \\:=\\: $$\\lambda{} y_{e} \\: . \\: \\lambda{} x_{e} \\: . \\: {LivesAt}({w}_{s}, {x}, {y})$"
      ],
      "text/latex": [
       "$[\\![\\mathbf{\\text{famous}}]\\!]^{{w}_{s}, g}_{\\left\\langle{}e,t\\right\\rangle{}} \\:=\\: $$\\lambda{} x_{e} \\: . \\: {Famous}({w}_{s}, {x})$<br />\n",
       "$[\\![\\mathbf{\\text{detective}}]\\!]^{{w}_{s}, g}_{\\left\\langle{}e,t\\right\\rangle{}} \\:=\\: $$\\lambda{} x_{e} \\: . \\: {Detective}({w}_{s}, {x})$<br />\n",
       "$[\\![\\mathbf{\\text{baker_street_221B}}]\\!]^{{w}_{s}, g}_{e} \\:=\\: $${BakerSt221B}_{e}$<br />\n",
       "$[\\![\\mathbf{\\text{lives}}]\\!]^{{w}_{s}, g}_{\\left\\langle{}e,\\left\\langle{}e,t\\right\\rangle{}\\right\\rangle{}} \\:=\\: $$\\lambda{} y_{e} \\: . \\: \\lambda{} x_{e} \\: . \\: {LivesAt}({w}_{s}, {x}, {y})$"
      ],
      "text/plain": [
       "$[\\![\\mathbf{\\text{famous}}]\\!]^{{w}_{s}, g}_{\\left\\langle{}e,t\\right\\rangle{}} \\:=\\: $$\\lambda{} x_{e} \\: . \\: {Famous}({w}_{s}, {x})$<br />\n",
       "$[\\![\\mathbf{\\text{detective}}]\\!]^{{w}_{s}, g}_{\\left\\langle{}e,t\\right\\rangle{}} \\:=\\: $$\\lambda{} x_{e} \\: . \\: {Detective}({w}_{s}, {x})$<br />\n",
       "$[\\![\\mathbf{\\text{baker_street_221B}}]\\!]^{{w}_{s}, g}_{e} \\:=\\: $${BakerSt221B}_{e}$<br />\n",
       "$[\\![\\mathbf{\\text{lives}}]\\!]^{{w}_{s}, g}_{\\left\\langle{}e,\\left\\langle{}e,t\\right\\rangle{}\\right\\rangle{}} \\:=\\: $$\\lambda{} y_{e} \\: . \\: \\lambda{} x_{e} \\: . \\: {LivesAt}({w}_{s}, {x}, {y})$"
      ]
     },
     "execution_count": 18,
     "metadata": {},
     "output_type": "execute_result"
    }
   ],
   "source": [
    "%%lamb\n",
    "||famous|| = L x_e : Famous(w,x)\n",
    "||detective|| = L x_e : Detective(w,x)\n",
    "||baker street 221B|| = BakerSt221B_e\n",
    "||lives|| = L y_e : L x_e : LivesAt(w,x,y)"
   ]
  },
  {
   "cell_type": "code",
   "execution_count": 19,
   "metadata": {},
   "outputs": [],
   "source": []
  },
  {
   "cell_type": "code",
   "execution_count": 19,
   "metadata": {},
   "outputs": [
    {
     "data": {
      "text/html": [
       "1 composition path.  Result:\n",
       "<br />&nbsp;&nbsp;&nbsp;&nbsp;[0]: $[\\![\\mathbf{\\text{[[a detective] [lives baker_street_221B]]}}]\\!]^{{w}_{s}, g}_{t} \\:=\\: $$\\exists{} x_{e} \\: . \\: ({Detective}({w}_{s}, {x}) \\wedge{} {LivesAt}({w}_{s}, {x}, {BakerSt221B}_{e}))$"
      ],
      "text/plain": [
       "CompositionResult(results=[⟦[[a detective] [lives baker_street_221B]]⟧[w_s, type s, g] = (Exists x_e: (Detective_<(s,e),t>(w_s, x_e) & LivesAt_<(s,e,e),t>(w_s, x_e, BakerSt221B_e)))], failures=[⟦[[lives baker_street_221B] [a detective]]⟧[w_s, type s, g] = Type mismatch: '⟦[lives baker_street_221B]⟧[w_s, type s, g] = (λ x_e: LivesAt_<(s,e,e),t>(w_s, x_e, BakerSt221B_e))'/<e,t> and '⟦[a detective]⟧[w_s, type s, g] = (λ g_<e,t>: (Exists x_e: (Detective_<(s,e),t>(w_s, x_e) & g_<e,t>(x_e))))'/<<e,t>,t> conflict (mode: Function Application), ⟦[[a detective] [lives baker_street_221B]]⟧[w_s, type s, g] = Type mismatch: '⟦[a detective]⟧[w_s, type s, g] = (λ g_<e,t>: (Exists x_e: (Detective_<(s,e),t>(w_s, x_e) & g_<e,t>(x_e))))'/<<e,t>,t> and '⟦[lives baker_street_221B]⟧[w_s, type s, g] = (λ x_e: LivesAt_<(s,e,e),t>(w_s, x_e, BakerSt221B_e))'/<e,t> conflict (mode: Predicate Modification), ⟦[[a detective] [lives baker_street_221B]]⟧[w_s, type s, g] = Type mismatch: '⟦[a detective]⟧[w_s, type s, g] = (λ g_<e,t>: (Exists x_e: (Detective_<(s,e),t>(w_s, x_e) & g_<e,t>(x_e))))'/<<e,t>,t> and '⟦[lives baker_street_221B]⟧[w_s, type s, g] = (λ x_e: LivesAt_<(s,e,e),t>(w_s, x_e, BakerSt221B_e))'/<e,t> conflict (mode: Predicate Abstraction), ⟦[[lives baker_street_221B] [a detective]]⟧[w_s, type s, g] = Type mismatch: '⟦[lives baker_street_221B]⟧[w_s, type s, g] = (λ x_e: LivesAt_<(s,e,e),t>(w_s, x_e, BakerSt221B_e))'/<e,t> and '⟦[a detective]⟧[w_s, type s, g] = (λ g_<e,t>: (Exists x_e: (Detective_<(s,e),t>(w_s, x_e) & g_<e,t>(x_e))))'/<<e,t>,t> conflict (mode: Predicate Abstraction)])"
      ]
     },
     "execution_count": 19,
     "metadata": {},
     "output_type": "execute_result"
    }
   ],
   "source": [
    "simple = (a * detective) * (lives * baker_street_221B)\n",
    "simple"
   ]
  },
  {
   "cell_type": "code",
   "execution_count": 20,
   "metadata": {},
   "outputs": [
    {
     "data": {
      "text/html": [
       "<style>.rendered_html table, .rendered_html tr, .rendered_html td, .rendered_html th { border: 0px; text-align:center; }</style><table><tr style=\"border:1px solid #848482\"><td style=\"vertical-align:bottom;padding:0px 10px\" align=\"center\"><table><tr><td style=\"vertical-align:bottom;padding:5px\"><table><tr style=\"border:1px solid #848482\"><td style=\"vertical-align:bottom;padding:0px 10px\" align=\"center\"><table><tr><td style=\"vertical-align:bottom;padding:5px\"><div style=\"margin-top:10px;border-style:solid;border-color:#848482;border-width:0px\"><div style=\"vertical-align:bottom;text-align:center\">$[\\![\\mathbf{\\text{a}}]\\!]^{{w}_{s}, g}_{\\left\\langle{}\\left\\langle{}e,t\\right\\rangle{},\\left\\langle{}\\left\\langle{}e,t\\right\\rangle{},t\\right\\rangle{}\\right\\rangle{}}$</div><div style=\"vertical-align:bottom;text-align:center\">$\\lambda{} f_{\\left\\langle{}e,t\\right\\rangle{}} \\: . \\: \\lambda{} g_{\\left\\langle{}e,t\\right\\rangle{}} \\: . \\: \\exists{} x_{e} \\: . \\: ({f}({x}) \\wedge{} {g}({x}))$</div></div></td><td style=\"vertical-align:bottom;padding:10px\">$\\circ$</td><td style=\"vertical-align:bottom;padding:5px\"><div style=\"margin-top:10px;border-style:solid;border-color:#848482;border-width:0px\"><div style=\"vertical-align:bottom;text-align:center\">$[\\![\\mathbf{\\text{detective}}]\\!]^{{w}_{s}, g}_{\\left\\langle{}e,t\\right\\rangle{}}$</div><div style=\"vertical-align:bottom;text-align:center\">$\\lambda{} x_{e} \\: . \\: {Detective}({w}_{s}, {x})$</div></div></td></tr></table></td><td style=\"border-left:1px solid #848482;vertical-align:center;padding:10px\"><span style=\"color:blue\"><b>[FA]</b></span></td></tr><tr style=\"border-style:solid;border-color:#848482;border-width:0px 1px 1px 1px\"><td style=\"padding:5px\" align=\"center\"><table style=\"padding-bottom:5px\"><tr style=\"padding-bottom:5px\"><td style=\"padding-right:5px\"></td><td style=\"text-align:center\">$[\\![\\mathbf{\\text{[a detective]}}]\\!]^{{w}_{s}, g}_{\\left\\langle{}\\left\\langle{}e,t\\right\\rangle{},t\\right\\rangle{}}$</td></tr><tr style=\"padding-bottom:5px\"><td style=\"padding-right:5px\"> $=$ </td><td style=\"text-align:center\">${[\\lambda{} f_{\\left\\langle{}e,t\\right\\rangle{}} \\: . \\: \\lambda{} g_{\\left\\langle{}e,t\\right\\rangle{}} \\: . \\: \\exists{} x_{e} \\: . \\: ({f}({x}) \\wedge{} {g}({x}))]}(\\lambda{} x_{e} \\: . \\: {Detective}({w}_{s}, {x}))$</td></tr><tr style=\"padding-bottom:5px\"><td style=\"padding-right:5px\"> $=$ </td><td style=\"text-align:center\">$\\lambda{} g_{\\left\\langle{}e,t\\right\\rangle{}} \\: . \\: \\exists{} x_{e} \\: . \\: ({[\\lambda{} x_{e} \\: . \\: {Detective}({w}_{s}, {x})]}({x}) \\wedge{} {g}({x}))$</td></tr><tr style=\"padding-bottom:5px\"><td style=\"padding-right:5px\"> $=$ </td><td style=\"text-align:center\">$\\lambda{} g_{\\left\\langle{}e,t\\right\\rangle{}} \\: . \\: \\exists{} x_{e} \\: . \\: ({Detective}({w}_{s}, {x}) \\wedge{} {g}({x}))$</td></tr></table></td><td></td></tr></table></td><td style=\"vertical-align:bottom;padding:10px\">$\\circ$</td><td style=\"vertical-align:bottom;padding:5px\"><table><tr style=\"border:1px solid #848482\"><td style=\"vertical-align:bottom;padding:0px 10px\" align=\"center\"><table><tr><td style=\"vertical-align:bottom;padding:5px\"><div style=\"margin-top:10px;border-style:solid;border-color:#848482;border-width:0px\"><div style=\"vertical-align:bottom;text-align:center\">$[\\![\\mathbf{\\text{lives}}]\\!]^{{w}_{s}, g}_{\\left\\langle{}e,\\left\\langle{}e,t\\right\\rangle{}\\right\\rangle{}}$</div><div style=\"vertical-align:bottom;text-align:center\">$\\lambda{} y_{e} \\: . \\: \\lambda{} x_{e} \\: . \\: {LivesAt}({w}_{s}, {x}, {y})$</div></div></td><td style=\"vertical-align:bottom;padding:10px\">$\\circ$</td><td style=\"vertical-align:bottom;padding:5px\"><div style=\"margin-top:10px;border-style:solid;border-color:#848482;border-width:0px\"><div style=\"vertical-align:bottom;text-align:center\">$[\\![\\mathbf{\\text{baker_street_221B}}]\\!]^{{w}_{s}, g}_{e}$</div><div style=\"vertical-align:bottom;text-align:center\">${BakerSt221B}_{e}$</div></div></td></tr></table></td><td style=\"border-left:1px solid #848482;vertical-align:center;padding:10px\"><span style=\"color:blue\"><b>[FA]</b></span></td></tr><tr style=\"border-style:solid;border-color:#848482;border-width:0px 1px 1px 1px\"><td style=\"padding:5px\" align=\"center\"><table style=\"padding-bottom:5px\"><tr style=\"padding-bottom:5px\"><td style=\"padding-right:5px\"></td><td style=\"text-align:center\">$[\\![\\mathbf{\\text{[lives baker_street_221B]}}]\\!]^{{w}_{s}, g}_{\\left\\langle{}e,t\\right\\rangle{}}$</td></tr><tr style=\"padding-bottom:5px\"><td style=\"padding-right:5px\"> $=$ </td><td style=\"text-align:center\">${[\\lambda{} y_{e} \\: . \\: \\lambda{} x_{e} \\: . \\: {LivesAt}({w}_{s}, {x}, {y})]}({BakerSt221B}_{e})$</td></tr><tr style=\"padding-bottom:5px\"><td style=\"padding-right:5px\"> $=$ </td><td style=\"text-align:center\">$\\lambda{} x_{e} \\: . \\: {LivesAt}({w}_{s}, {x}, {BakerSt221B}_{e})$</td></tr></table></td><td></td></tr></table></td></tr></table></td><td style=\"border-left:1px solid #848482;vertical-align:center;padding:10px\"><span style=\"color:blue\"><b>[FA]</b></span></td></tr><tr style=\"border-style:solid;border-color:#848482;border-width:0px 1px 1px 1px\"><td style=\"padding:5px\" align=\"center\"><table style=\"padding-bottom:5px\"><tr style=\"padding-bottom:5px\"><td style=\"padding-right:5px\"></td><td style=\"text-align:center\">$[\\![\\mathbf{\\text{[[a detective] [lives baker_street_221B]]}}]\\!]^{{w}_{s}, g}_{t}$</td></tr><tr style=\"padding-bottom:5px\"><td style=\"padding-right:5px\"> $=$ </td><td style=\"text-align:center\">${[\\lambda{} g_{\\left\\langle{}e,t\\right\\rangle{}} \\: . \\: \\exists{} x_{e} \\: . \\: ({Detective}({w}_{s}, {x}) \\wedge{} {g}({x}))]}(\\lambda{} x_{e} \\: . \\: {LivesAt}({w}_{s}, {x}, {BakerSt221B}_{e}))$</td></tr><tr style=\"padding-bottom:5px\"><td style=\"padding-right:5px\"> $=$ </td><td style=\"text-align:center\">$\\exists{} x_{e} \\: . \\: ({Detective}({w}_{s}, {x}) \\wedge{} {[\\lambda{} x_{e} \\: . \\: {LivesAt}({w}_{s}, {x}, {BakerSt221B}_{e})]}({x}))$</td></tr><tr style=\"padding-bottom:5px\"><td style=\"padding-right:5px\"> $=$ </td><td style=\"text-align:center\">$\\exists{} x_{e} \\: . \\: ({Detective}({w}_{s}, {x}) \\wedge{} {LivesAt}({w}_{s}, {x}, {BakerSt221B}_{e}))$</td></tr></table></td><td></td></tr></table>"
      ],
      "text/plain": [
       "RecursiveDerivationDisplay instance: HTML rendering only"
      ]
     },
     "execution_count": 20,
     "metadata": {},
     "output_type": "execute_result"
    }
   ],
   "source": [
    "simple.results[0].tree(derivations=True)"
   ]
  },
  {
   "cell_type": "code",
   "execution_count": 21,
   "metadata": {},
   "outputs": [
    {
     "data": {
      "text/html": [
       "1 composition path.  Result:\n",
       "<br />&nbsp;&nbsp;&nbsp;&nbsp;[0]: $[\\![\\mathbf{\\text{INT([[a detective] [lives baker_street_221B]])}}]\\!]^{{w}_{s}, g}_{\\left\\langle{}s,t\\right\\rangle{}} \\:=\\: $$\\lambda{} w_{s} \\: . \\: \\exists{} x_{e} \\: . \\: ({Detective}({w}, {x}) \\wedge{} {LivesAt}({w}, {x}, {BakerSt221B}_{e}))$"
      ],
      "text/plain": [
       "CompositionResult(results=[⟦INT([[a detective] [lives baker_street_221B]])⟧[w_s, type s, g] = (λ w_s: (Exists x_e: (Detective_<(s,e),t>(w_s, x_e) & LivesAt_<(s,e,e),t>(w_s, x_e, BakerSt221B_e))))], failures=[])"
      ]
     },
     "execution_count": 21,
     "metadata": {},
     "output_type": "execute_result"
    }
   ],
   "source": [
    "simple.compose()"
   ]
  },
  {
   "cell_type": "code",
   "execution_count": 22,
   "metadata": {},
   "outputs": [
    {
     "name": "stdout",
     "output_type": "stream",
     "text": [
      "INFO (meta): Coerced guessed type for 'CompatibleWithSHStories_t' into <(s,s),t>, to match argument '(w_s, w2_s)'\n"
     ]
    },
    {
     "data": {
      "text/html": [
       "$[\\![\\mathbf{\\text{In the world of S.H.}}]\\!]^{{w}_{s}, g}_{\\left\\langle{}\\left\\langle{}s,t\\right\\rangle{},t\\right\\rangle{}} \\:=\\: $$\\lambda{} p_{\\left\\langle{}s,t\\right\\rangle{}} \\: . \\: \\forall{} w2_{s} \\: . \\: ({CompatibleWithSHStories}({w}_{s}, {w2}) \\rightarrow{} {p}({w2}))$"
      ],
      "text/latex": [
       "$[\\![\\mathbf{\\text{In the world of S.H.}}]\\!]^{{w}_{s}, g}_{\\left\\langle{}\\left\\langle{}s,t\\right\\rangle{},t\\right\\rangle{}} \\:=\\: $$\\lambda{} p_{\\left\\langle{}s,t\\right\\rangle{}} \\: . \\: \\forall{} w2_{s} \\: . \\: ({CompatibleWithSHStories}({w}_{s}, {w2}) \\rightarrow{} {p}({w2}))$"
      ],
      "text/plain": [
       "⟦In the world of S.H.⟧[w_s, type s, g] = (λ p_<s,t>: (Forall w2_s: (CompatibleWithSHStories_<(s,s),t>(w_s, w2_s) >> p_<s,t>(w2_s))))"
      ]
     },
     "execution_count": 22,
     "metadata": {},
     "output_type": "execute_result"
    }
   ],
   "source": [
    "itw = lang.Item(\"In the world of S.H.\", lang.te(\"L p_<s,t> : Forall w2_s : CompatibleWithSHStories(w_s, w2_s) >> p_<s,t>(w2_s)\"))\n",
    "itw"
   ]
  },
  {
   "cell_type": "code",
   "execution_count": 23,
   "metadata": {},
   "outputs": [
    {
     "name": "stdout",
     "output_type": "stream",
     "text": [
      "INFO (parsing): Exporting item ||in the world of Sherlock Holmes|| to python variable `in_the_world_of_Sherlock_Holmes`.\n",
      "INFO (meta): Coerced guessed type for 'CompatibleWithSHStories_t' into <(s,s),t>, to match argument '(w_s, w2_s)'\n"
     ]
    },
    {
     "data": {
      "text/html": [
       "$[\\![\\mathbf{\\text{in_the_world_of_Sherlock_Holmes}}]\\!]^{{w}_{s}, g}_{\\left\\langle{}\\left\\langle{}s,t\\right\\rangle{},t\\right\\rangle{}} \\:=\\: $$\\lambda{} p_{\\left\\langle{}s,t\\right\\rangle{}} \\: . \\: \\forall{} w2_{s} \\: . \\: ({CompatibleWithSHStories}({w}_{s}, {w2}) \\rightarrow{} {p}({w2}))$"
      ],
      "text/latex": [
       "$[\\![\\mathbf{\\text{in_the_world_of_Sherlock_Holmes}}]\\!]^{{w}_{s}, g}_{\\left\\langle{}\\left\\langle{}s,t\\right\\rangle{},t\\right\\rangle{}} \\:=\\: $$\\lambda{} p_{\\left\\langle{}s,t\\right\\rangle{}} \\: . \\: \\forall{} w2_{s} \\: . \\: ({CompatibleWithSHStories}({w}_{s}, {w2}) \\rightarrow{} {p}({w2}))$"
      ],
      "text/plain": [
       "$[\\![\\mathbf{\\text{in_the_world_of_Sherlock_Holmes}}]\\!]^{{w}_{s}, g}_{\\left\\langle{}\\left\\langle{}s,t\\right\\rangle{},t\\right\\rangle{}} \\:=\\: $$\\lambda{} p_{\\left\\langle{}s,t\\right\\rangle{}} \\: . \\: \\forall{} w2_{s} \\: . \\: ({CompatibleWithSHStories}({w}_{s}, {w2}) \\rightarrow{} {p}({w2}))$"
      ]
     },
     "execution_count": 23,
     "metadata": {},
     "output_type": "execute_result"
    }
   ],
   "source": [
    "%%lamb\n",
    "||in the world of Sherlock Holmes|| = L p_<s,t> : Forall w2_s : CompatibleWithSHStories(w_s, w2_s) >> p_<s,t>(w2_s)"
   ]
  },
  {
   "cell_type": "code",
   "execution_count": 24,
   "metadata": {},
   "outputs": [
    {
     "data": {
      "text/html": [
       "Composition failed.  Attempts:<br />\n",
       "&nbsp;&nbsp;&nbsp;&nbsp;<span style=\"color:red\">Type mismatch</span>: '$[\\![\\mathbf{\\text{in_the_world_of_Sherlock_Holmes}}]\\!]^{{w}_{s}, g}_{\\left\\langle{}\\left\\langle{}s,t\\right\\rangle{},t\\right\\rangle{}} \\:=\\: $$\\lambda{} p_{\\left\\langle{}s,t\\right\\rangle{}} \\: . \\: \\forall{} w2_{s} \\: . \\: ({CompatibleWithSHStories}({w}_{s}, {w2}) \\rightarrow{} {p}({w2}))$'/$\\left\\langle{}\\left\\langle{}s,t\\right\\rangle{},t\\right\\rangle{}$ and '$[\\![\\mathbf{\\text{[[a detective] [lives baker_street_221B]]}}]\\!]^{{w}_{s}, g}_{t} \\:=\\: $$\\exists{} x_{e} \\: . \\: ({Detective}({w}_{s}, {x}) \\wedge{} {LivesAt}({w}_{s}, {x}, {BakerSt221B}_{e}))$'/$t$ conflict (mode: Function Application)<br />\n",
       "&nbsp;&nbsp;&nbsp;&nbsp;<span style=\"color:red\">Type mismatch</span>: '$[\\![\\mathbf{\\text{[[a detective] [lives baker_street_221B]]}}]\\!]^{{w}_{s}, g}_{t} \\:=\\: $$\\exists{} x_{e} \\: . \\: ({Detective}({w}_{s}, {x}) \\wedge{} {LivesAt}({w}_{s}, {x}, {BakerSt221B}_{e}))$'/$t$ and '$[\\![\\mathbf{\\text{in_the_world_of_Sherlock_Holmes}}]\\!]^{{w}_{s}, g}_{\\left\\langle{}\\left\\langle{}s,t\\right\\rangle{},t\\right\\rangle{}} \\:=\\: $$\\lambda{} p_{\\left\\langle{}s,t\\right\\rangle{}} \\: . \\: \\forall{} w2_{s} \\: . \\: ({CompatibleWithSHStories}({w}_{s}, {w2}) \\rightarrow{} {p}({w2}))$'/$\\left\\langle{}\\left\\langle{}s,t\\right\\rangle{},t\\right\\rangle{}$ conflict (mode: Function Application)<br />\n",
       "&nbsp;&nbsp;&nbsp;&nbsp;<span style=\"color:red\">Type mismatch</span>: '$[\\![\\mathbf{\\text{in_the_world_of_Sherlock_Holmes}}]\\!]^{{w}_{s}, g}_{\\left\\langle{}\\left\\langle{}s,t\\right\\rangle{},t\\right\\rangle{}} \\:=\\: $$\\lambda{} p_{\\left\\langle{}s,t\\right\\rangle{}} \\: . \\: \\forall{} w2_{s} \\: . \\: ({CompatibleWithSHStories}({w}_{s}, {w2}) \\rightarrow{} {p}({w2}))$'/$\\left\\langle{}\\left\\langle{}s,t\\right\\rangle{},t\\right\\rangle{}$ and '$[\\![\\mathbf{\\text{[[a detective] [lives baker_street_221B]]}}]\\!]^{{w}_{s}, g}_{t} \\:=\\: $$\\exists{} x_{e} \\: . \\: ({Detective}({w}_{s}, {x}) \\wedge{} {LivesAt}({w}_{s}, {x}, {BakerSt221B}_{e}))$'/$t$ conflict (mode: Predicate Modification)<br />\n",
       "&nbsp;&nbsp;&nbsp;&nbsp;<span style=\"color:red\">Type mismatch</span>: '$[\\![\\mathbf{\\text{in_the_world_of_Sherlock_Holmes}}]\\!]^{{w}_{s}, g}_{\\left\\langle{}\\left\\langle{}s,t\\right\\rangle{},t\\right\\rangle{}} \\:=\\: $$\\lambda{} p_{\\left\\langle{}s,t\\right\\rangle{}} \\: . \\: \\forall{} w2_{s} \\: . \\: ({CompatibleWithSHStories}({w}_{s}, {w2}) \\rightarrow{} {p}({w2}))$'/$\\left\\langle{}\\left\\langle{}s,t\\right\\rangle{},t\\right\\rangle{}$ and '$[\\![\\mathbf{\\text{[[a detective] [lives baker_street_221B]]}}]\\!]^{{w}_{s}, g}_{t} \\:=\\: $$\\exists{} x_{e} \\: . \\: ({Detective}({w}_{s}, {x}) \\wedge{} {LivesAt}({w}_{s}, {x}, {BakerSt221B}_{e}))$'/$t$ conflict (mode: Predicate Abstraction)<br />\n",
       "&nbsp;&nbsp;&nbsp;&nbsp;<span style=\"color:red\">Type mismatch</span>: '$[\\![\\mathbf{\\text{[[a detective] [lives baker_street_221B]]}}]\\!]^{{w}_{s}, g}_{t} \\:=\\: $$\\exists{} x_{e} \\: . \\: ({Detective}({w}_{s}, {x}) \\wedge{} {LivesAt}({w}_{s}, {x}, {BakerSt221B}_{e}))$'/$t$ and '$[\\![\\mathbf{\\text{in_the_world_of_Sherlock_Holmes}}]\\!]^{{w}_{s}, g}_{\\left\\langle{}\\left\\langle{}s,t\\right\\rangle{},t\\right\\rangle{}} \\:=\\: $$\\lambda{} p_{\\left\\langle{}s,t\\right\\rangle{}} \\: . \\: \\forall{} w2_{s} \\: . \\: ({CompatibleWithSHStories}({w}_{s}, {w2}) \\rightarrow{} {p}({w2}))$'/$\\left\\langle{}\\left\\langle{}s,t\\right\\rangle{},t\\right\\rangle{}$ conflict (mode: Predicate Abstraction)<br />\n"
      ],
      "text/plain": [
       "CompositionResult(results=[], failures=[⟦[in_the_world_of_Sherlock_Holmes [[a detective] [lives baker_street_221B]]]⟧[w_s, type s, g] = Type mismatch: '⟦in_the_world_of_Sherlock_Holmes⟧[w_s, type s, g] = (λ p_<s,t>: (Forall w2_s: (CompatibleWithSHStories_<(s,s),t>(w_s, w2_s) >> p_<s,t>(w2_s))))'/<<s,t>,t> and '⟦[[a detective] [lives baker_street_221B]]⟧[w_s, type s, g] = (Exists x_e: (Detective_<(s,e),t>(w_s, x_e) & LivesAt_<(s,e,e),t>(w_s, x_e, BakerSt221B_e)))'/t conflict (mode: Function Application), ⟦[[[a detective] [lives baker_street_221B]] in_the_world_of_Sherlock_Holmes]⟧[w_s, type s, g] = Type mismatch: '⟦[[a detective] [lives baker_street_221B]]⟧[w_s, type s, g] = (Exists x_e: (Detective_<(s,e),t>(w_s, x_e) & LivesAt_<(s,e,e),t>(w_s, x_e, BakerSt221B_e)))'/t and '⟦in_the_world_of_Sherlock_Holmes⟧[w_s, type s, g] = (λ p_<s,t>: (Forall w2_s: (CompatibleWithSHStories_<(s,s),t>(w_s, w2_s) >> p_<s,t>(w2_s))))'/<<s,t>,t> conflict (mode: Function Application), ⟦[in_the_world_of_Sherlock_Holmes [[a detective] [lives baker_street_221B]]]⟧[w_s, type s, g] = Type mismatch: '⟦in_the_world_of_Sherlock_Holmes⟧[w_s, type s, g] = (λ p_<s,t>: (Forall w2_s: (CompatibleWithSHStories_<(s,s),t>(w_s, w2_s) >> p_<s,t>(w2_s))))'/<<s,t>,t> and '⟦[[a detective] [lives baker_street_221B]]⟧[w_s, type s, g] = (Exists x_e: (Detective_<(s,e),t>(w_s, x_e) & LivesAt_<(s,e,e),t>(w_s, x_e, BakerSt221B_e)))'/t conflict (mode: Predicate Modification), ⟦[in_the_world_of_Sherlock_Holmes [[a detective] [lives baker_street_221B]]]⟧[w_s, type s, g] = Type mismatch: '⟦in_the_world_of_Sherlock_Holmes⟧[w_s, type s, g] = (λ p_<s,t>: (Forall w2_s: (CompatibleWithSHStories_<(s,s),t>(w_s, w2_s) >> p_<s,t>(w2_s))))'/<<s,t>,t> and '⟦[[a detective] [lives baker_street_221B]]⟧[w_s, type s, g] = (Exists x_e: (Detective_<(s,e),t>(w_s, x_e) & LivesAt_<(s,e,e),t>(w_s, x_e, BakerSt221B_e)))'/t conflict (mode: Predicate Abstraction), ⟦[[[a detective] [lives baker_street_221B]] in_the_world_of_Sherlock_Holmes]⟧[w_s, type s, g] = Type mismatch: '⟦[[a detective] [lives baker_street_221B]]⟧[w_s, type s, g] = (Exists x_e: (Detective_<(s,e),t>(w_s, x_e) & LivesAt_<(s,e,e),t>(w_s, x_e, BakerSt221B_e)))'/t and '⟦in_the_world_of_Sherlock_Holmes⟧[w_s, type s, g] = (λ p_<s,t>: (Forall w2_s: (CompatibleWithSHStories_<(s,s),t>(w_s, w2_s) >> p_<s,t>(w2_s))))'/<<s,t>,t> conflict (mode: Predicate Abstraction)])"
      ]
     },
     "execution_count": 24,
     "metadata": {},
     "output_type": "execute_result"
    }
   ],
   "source": [
    "# In the current setup, INT must be triggered explicitly by a unary compose step.\n",
    "# Otherwise, it produces a composition failure.\n",
    "in_the_world_of_Sherlock_Holmes * simple"
   ]
  },
  {
   "cell_type": "code",
   "execution_count": 25,
   "metadata": {},
   "outputs": [
    {
     "data": {
      "text/html": [
       "1 composition path.  Result:\n",
       "<br />&nbsp;&nbsp;&nbsp;&nbsp;[0]: $[\\![\\mathbf{\\text{[in_the_world_of_Sherlock_Holmes INT([[a detective] [lives baker_street_221B]])]}}]\\!]^{{w}_{s}, g}_{t} \\:=\\: $$\\forall{} w2_{s} \\: . \\: ({CompatibleWithSHStories}({w}_{s}, {w2}) \\rightarrow{} \\exists{} x_{e} \\: . \\: ({Detective}({w2}, {x}) \\wedge{} {LivesAt}({w2}, {x}, {BakerSt221B}_{e})))$"
      ],
      "text/plain": [
       "CompositionResult(results=[⟦[in_the_world_of_Sherlock_Holmes INT([[a detective] [lives baker_street_221B]])]⟧[w_s, type s, g] = (Forall w2_s: (CompatibleWithSHStories_<(s,s),t>(w_s, w2_s) >> (Exists x_e: (Detective_<(s,e),t>(w2_s, x_e) & LivesAt_<(s,e,e),t>(w2_s, x_e, BakerSt221B_e)))))], failures=[⟦[INT([[a detective] [lives baker_street_221B]]) in_the_world_of_Sherlock_Holmes]⟧[w_s, type s, g] = Type mismatch: '⟦INT([[a detective] [lives baker_street_221B]])⟧[w_s, type s, g] = (λ w_s: (Exists x_e: (Detective_<(s,e),t>(w_s, x_e) & LivesAt_<(s,e,e),t>(w_s, x_e, BakerSt221B_e))))'/<s,t> and '⟦in_the_world_of_Sherlock_Holmes⟧[w_s, type s, g] = (λ p_<s,t>: (Forall w2_s: (CompatibleWithSHStories_<(s,s),t>(w_s, w2_s) >> p_<s,t>(w2_s))))'/<<s,t>,t> conflict (mode: Function Application), ⟦[in_the_world_of_Sherlock_Holmes INT([[a detective] [lives baker_street_221B]])]⟧[w_s, type s, g] = Type mismatch: '⟦in_the_world_of_Sherlock_Holmes⟧[w_s, type s, g] = (λ p_<s,t>: (Forall w2_s: (CompatibleWithSHStories_<(s,s),t>(w_s, w2_s) >> p_<s,t>(w2_s))))'/<<s,t>,t> and '⟦INT([[a detective] [lives baker_street_221B]])⟧[w_s, type s, g] = (λ w_s: (Exists x_e: (Detective_<(s,e),t>(w_s, x_e) & LivesAt_<(s,e,e),t>(w_s, x_e, BakerSt221B_e))))'/<s,t> conflict (mode: Predicate Modification), ⟦[in_the_world_of_Sherlock_Holmes INT([[a detective] [lives baker_street_221B]])]⟧[w_s, type s, g] = Type mismatch: '⟦in_the_world_of_Sherlock_Holmes⟧[w_s, type s, g] = (λ p_<s,t>: (Forall w2_s: (CompatibleWithSHStories_<(s,s),t>(w_s, w2_s) >> p_<s,t>(w2_s))))'/<<s,t>,t> and '⟦INT([[a detective] [lives baker_street_221B]])⟧[w_s, type s, g] = (λ w_s: (Exists x_e: (Detective_<(s,e),t>(w_s, x_e) & LivesAt_<(s,e,e),t>(w_s, x_e, BakerSt221B_e))))'/<s,t> conflict (mode: Predicate Abstraction), ⟦[INT([[a detective] [lives baker_street_221B]]) in_the_world_of_Sherlock_Holmes]⟧[w_s, type s, g] = Type mismatch: '⟦INT([[a detective] [lives baker_street_221B]])⟧[w_s, type s, g] = (λ w_s: (Exists x_e: (Detective_<(s,e),t>(w_s, x_e) & LivesAt_<(s,e,e),t>(w_s, x_e, BakerSt221B_e))))'/<s,t> and '⟦in_the_world_of_Sherlock_Holmes⟧[w_s, type s, g] = (λ p_<s,t>: (Forall w2_s: (CompatibleWithSHStories_<(s,s),t>(w_s, w2_s) >> p_<s,t>(w2_s))))'/<<s,t>,t> conflict (mode: Predicate Abstraction)])"
      ]
     },
     "execution_count": 25,
     "metadata": {},
     "output_type": "execute_result"
    }
   ],
   "source": [
    "result = in_the_world_of_Sherlock_Holmes * (simple.compose())\n",
    "result.reduce_all()\n",
    "result"
   ]
  },
  {
   "cell_type": "code",
   "execution_count": 26,
   "metadata": {},
   "outputs": [
    {
     "data": {
      "text/html": [
       "<style>.rendered_html table, .rendered_html tr, .rendered_html td, .rendered_html th { border: 0px; text-align:center; }</style><table><tr style=\"border:1px solid #848482\"><td style=\"vertical-align:bottom;padding:0px 10px\" align=\"center\"><table><tr><td style=\"vertical-align:bottom;padding:5px\"><div style=\"margin-top:10px;border-style:solid;border-color:#848482;border-width:0px\"><div style=\"vertical-align:bottom;text-align:center\">$[\\![\\mathbf{\\text{in_the_world_of_Sherlock_Holmes}}]\\!]^{{w}_{s}, g}_{\\left\\langle{}\\left\\langle{}s,t\\right\\rangle{},t\\right\\rangle{}}$</div><div style=\"vertical-align:bottom;text-align:center\">$\\lambda{} p_{\\left\\langle{}s,t\\right\\rangle{}} \\: . \\: \\forall{} w2_{s} \\: . \\: ({CompatibleWithSHStories}({w}_{s}, {w2}) \\rightarrow{} {p}({w2}))$</div></div></td><td style=\"vertical-align:bottom;padding:10px\">$\\circ$</td><td style=\"vertical-align:bottom;padding:5px\"><table><tr style=\"border:1px solid #848482\"><td style=\"vertical-align:bottom;padding:0px 10px\" align=\"center\"><table><tr><td style=\"vertical-align:bottom;padding:5px\"><table><tr style=\"border:1px solid #848482\"><td style=\"vertical-align:bottom;padding:0px 10px\" align=\"center\"><table><tr><td style=\"vertical-align:bottom;padding:5px\"><table><tr style=\"border:1px solid #848482\"><td style=\"vertical-align:bottom;padding:0px 10px\" align=\"center\"><table><tr><td style=\"vertical-align:bottom;padding:5px\"><div style=\"margin-top:10px;border-style:solid;border-color:#848482;border-width:0px\"><div style=\"vertical-align:bottom;text-align:center\">$[\\![\\mathbf{\\text{a}}]\\!]^{{w}_{s}, g}_{\\left\\langle{}\\left\\langle{}e,t\\right\\rangle{},\\left\\langle{}\\left\\langle{}e,t\\right\\rangle{},t\\right\\rangle{}\\right\\rangle{}}$</div><div style=\"vertical-align:bottom;text-align:center\">$\\lambda{} f_{\\left\\langle{}e,t\\right\\rangle{}} \\: . \\: \\lambda{} g_{\\left\\langle{}e,t\\right\\rangle{}} \\: . \\: \\exists{} x_{e} \\: . \\: ({f}({x}) \\wedge{} {g}({x}))$</div></div></td><td style=\"vertical-align:bottom;padding:10px\">$\\circ$</td><td style=\"vertical-align:bottom;padding:5px\"><div style=\"margin-top:10px;border-style:solid;border-color:#848482;border-width:0px\"><div style=\"vertical-align:bottom;text-align:center\">$[\\![\\mathbf{\\text{detective}}]\\!]^{{w}_{s}, g}_{\\left\\langle{}e,t\\right\\rangle{}}$</div><div style=\"vertical-align:bottom;text-align:center\">$\\lambda{} x_{e} \\: . \\: {Detective}({w}_{s}, {x})$</div></div></td></tr></table></td><td style=\"border-left:1px solid #848482;vertical-align:center;padding:10px\"><span style=\"color:blue\"><b>[FA]</b></span></td></tr><tr style=\"border-style:solid;border-color:#848482;border-width:0px 1px 1px 1px\"><td style=\"padding:5px\" align=\"center\"><table style=\"padding-bottom:5px\"><tr style=\"padding-bottom:5px\"><td style=\"padding-right:5px\"></td><td style=\"text-align:center\">$[\\![\\mathbf{\\text{[a detective]}}]\\!]^{{w}_{s}, g}_{\\left\\langle{}\\left\\langle{}e,t\\right\\rangle{},t\\right\\rangle{}}$</td></tr><tr style=\"padding-bottom:5px\"><td style=\"padding-right:5px\"> $=$ </td><td style=\"text-align:center\">${[\\lambda{} f_{\\left\\langle{}e,t\\right\\rangle{}} \\: . \\: \\lambda{} g_{\\left\\langle{}e,t\\right\\rangle{}} \\: . \\: \\exists{} x_{e} \\: . \\: ({f}({x}) \\wedge{} {g}({x}))]}(\\lambda{} x_{e} \\: . \\: {Detective}({w}_{s}, {x}))$</td></tr><tr style=\"padding-bottom:5px\"><td style=\"padding-right:5px\"> $=$ </td><td style=\"text-align:center\">$\\lambda{} g_{\\left\\langle{}e,t\\right\\rangle{}} \\: . \\: \\exists{} x_{e} \\: . \\: ({[\\lambda{} x_{e} \\: . \\: {Detective}({w}_{s}, {x})]}({x}) \\wedge{} {g}({x}))$</td></tr><tr style=\"padding-bottom:5px\"><td style=\"padding-right:5px\"> $=$ </td><td style=\"text-align:center\">$\\lambda{} g_{\\left\\langle{}e,t\\right\\rangle{}} \\: . \\: \\exists{} x_{e} \\: . \\: ({Detective}({w}_{s}, {x}) \\wedge{} {g}({x}))$</td></tr></table></td><td></td></tr></table></td><td style=\"vertical-align:bottom;padding:10px\">$\\circ$</td><td style=\"vertical-align:bottom;padding:5px\"><table><tr style=\"border:1px solid #848482\"><td style=\"vertical-align:bottom;padding:0px 10px\" align=\"center\"><table><tr><td style=\"vertical-align:bottom;padding:5px\"><div style=\"margin-top:10px;border-style:solid;border-color:#848482;border-width:0px\"><div style=\"vertical-align:bottom;text-align:center\">$[\\![\\mathbf{\\text{lives}}]\\!]^{{w}_{s}, g}_{\\left\\langle{}e,\\left\\langle{}e,t\\right\\rangle{}\\right\\rangle{}}$</div><div style=\"vertical-align:bottom;text-align:center\">$\\lambda{} y_{e} \\: . \\: \\lambda{} x_{e} \\: . \\: {LivesAt}({w}_{s}, {x}, {y})$</div></div></td><td style=\"vertical-align:bottom;padding:10px\">$\\circ$</td><td style=\"vertical-align:bottom;padding:5px\"><div style=\"margin-top:10px;border-style:solid;border-color:#848482;border-width:0px\"><div style=\"vertical-align:bottom;text-align:center\">$[\\![\\mathbf{\\text{baker_street_221B}}]\\!]^{{w}_{s}, g}_{e}$</div><div style=\"vertical-align:bottom;text-align:center\">${BakerSt221B}_{e}$</div></div></td></tr></table></td><td style=\"border-left:1px solid #848482;vertical-align:center;padding:10px\"><span style=\"color:blue\"><b>[FA]</b></span></td></tr><tr style=\"border-style:solid;border-color:#848482;border-width:0px 1px 1px 1px\"><td style=\"padding:5px\" align=\"center\"><table style=\"padding-bottom:5px\"><tr style=\"padding-bottom:5px\"><td style=\"padding-right:5px\"></td><td style=\"text-align:center\">$[\\![\\mathbf{\\text{[lives baker_street_221B]}}]\\!]^{{w}_{s}, g}_{\\left\\langle{}e,t\\right\\rangle{}}$</td></tr><tr style=\"padding-bottom:5px\"><td style=\"padding-right:5px\"> $=$ </td><td style=\"text-align:center\">${[\\lambda{} y_{e} \\: . \\: \\lambda{} x_{e} \\: . \\: {LivesAt}({w}_{s}, {x}, {y})]}({BakerSt221B}_{e})$</td></tr><tr style=\"padding-bottom:5px\"><td style=\"padding-right:5px\"> $=$ </td><td style=\"text-align:center\">$\\lambda{} x_{e} \\: . \\: {LivesAt}({w}_{s}, {x}, {BakerSt221B}_{e})$</td></tr></table></td><td></td></tr></table></td></tr></table></td><td style=\"border-left:1px solid #848482;vertical-align:center;padding:10px\"><span style=\"color:blue\"><b>[FA]</b></span></td></tr><tr style=\"border-style:solid;border-color:#848482;border-width:0px 1px 1px 1px\"><td style=\"padding:5px\" align=\"center\"><table style=\"padding-bottom:5px\"><tr style=\"padding-bottom:5px\"><td style=\"padding-right:5px\"></td><td style=\"text-align:center\">$[\\![\\mathbf{\\text{[[a detective] [lives baker_street_221B]]}}]\\!]^{{w}_{s}, g}_{t}$</td></tr><tr style=\"padding-bottom:5px\"><td style=\"padding-right:5px\"> $=$ </td><td style=\"text-align:center\">${[\\lambda{} g_{\\left\\langle{}e,t\\right\\rangle{}} \\: . \\: \\exists{} x_{e} \\: . \\: ({Detective}({w}_{s}, {x}) \\wedge{} {g}({x}))]}(\\lambda{} x_{e} \\: . \\: {LivesAt}({w}_{s}, {x}, {BakerSt221B}_{e}))$</td></tr><tr style=\"padding-bottom:5px\"><td style=\"padding-right:5px\"> $=$ </td><td style=\"text-align:center\">$\\exists{} x_{e} \\: . \\: ({Detective}({w}_{s}, {x}) \\wedge{} {[\\lambda{} x_{e} \\: . \\: {LivesAt}({w}_{s}, {x}, {BakerSt221B}_{e})]}({x}))$</td></tr><tr style=\"padding-bottom:5px\"><td style=\"padding-right:5px\"> $=$ </td><td style=\"text-align:center\">$\\exists{} x_{e} \\: . \\: ({Detective}({w}_{s}, {x}) \\wedge{} {LivesAt}({w}_{s}, {x}, {BakerSt221B}_{e}))$</td></tr></table></td><td></td></tr></table></td></tr></table></td><td style=\"border-left:1px solid #848482;vertical-align:center;padding:10px\"><span style=\"color:blue\"><b>[INT]</b></span></td></tr><tr style=\"border-style:solid;border-color:#848482;border-width:0px 1px 1px 1px\"><td style=\"padding:5px\" align=\"center\"><div style=\"margin-top:10px;border-style:solid;border-color:#848482;border-width:0px\"><div style=\"vertical-align:bottom;text-align:center\">$[\\![\\mathbf{\\text{INT([[a detective] [lives baker_street_221B]])}}]\\!]^{{w}_{s}, g}_{\\left\\langle{}s,t\\right\\rangle{}}$</div><div style=\"vertical-align:bottom;text-align:center\">$\\lambda{} w_{s} \\: . \\: \\exists{} x_{e} \\: . \\: ({Detective}({w}, {x}) \\wedge{} {LivesAt}({w}, {x}, {BakerSt221B}_{e}))$</div></div></td><td></td></tr></table></td></tr></table></td><td style=\"border-left:1px solid #848482;vertical-align:center;padding:10px\"><span style=\"color:blue\"><b>[FA]</b></span></td></tr><tr style=\"border-style:solid;border-color:#848482;border-width:0px 1px 1px 1px\"><td style=\"padding:5px\" align=\"center\"><table style=\"padding-bottom:5px\"><tr style=\"padding-bottom:5px\"><td style=\"padding-right:5px\"></td><td style=\"text-align:center\">$[\\![\\mathbf{\\text{[in_the_world_of_Sherlock_Holmes INT([[a detective] [lives baker_street_221B]])]}}]\\!]^{{w}_{s}, g}_{t}$</td></tr><tr style=\"padding-bottom:5px\"><td style=\"padding-right:5px\"> $=$ </td><td style=\"text-align:center\">${[\\lambda{} p_{\\left\\langle{}s,t\\right\\rangle{}} \\: . \\: \\forall{} w2_{s} \\: . \\: ({CompatibleWithSHStories}({w}_{s}, {w2}) \\rightarrow{} {p}({w2}))]}(\\lambda{} w_{s} \\: . \\: \\exists{} x_{e} \\: . \\: ({Detective}({w}, {x}) \\wedge{} {LivesAt}({w}, {x}, {BakerSt221B}_{e})))$</td></tr><tr style=\"padding-bottom:5px\"><td style=\"padding-right:5px\"> $=$ </td><td style=\"text-align:center\">$\\forall{} w2_{s} \\: . \\: ({CompatibleWithSHStories}({w}_{s}, {w2}) \\rightarrow{} {[\\lambda{} w_{s} \\: . \\: \\exists{} x_{e} \\: . \\: ({Detective}({w}, {x}) \\wedge{} {LivesAt}({w}, {x}, {BakerSt221B}_{e}))]}({w2}))$</td></tr><tr style=\"padding-bottom:5px\"><td style=\"padding-right:5px\"> $=$ </td><td style=\"text-align:center\">$\\forall{} w2_{s} \\: . \\: ({CompatibleWithSHStories}({w}_{s}, {w2}) \\rightarrow{} \\exists{} x_{e} \\: . \\: ({Detective}({w2}, {x}) \\wedge{} {LivesAt}({w2}, {x}, {BakerSt221B}_{e})))$</td></tr></table></td><td></td></tr></table>"
      ],
      "text/plain": [
       "RecursiveDerivationDisplay instance: HTML rendering only"
      ]
     },
     "execution_count": 26,
     "metadata": {},
     "output_type": "execute_result"
    }
   ],
   "source": [
    "result.results[0].tree(derivations=True)"
   ]
  },
  {
   "cell_type": "code",
   "execution_count": 27,
   "metadata": {},
   "outputs": [],
   "source": []
  },
  {
   "cell_type": "markdown",
   "metadata": {},
   "source": [
    "Beginnings of attitude verbs, still needs work:"
   ]
  },
  {
   "cell_type": "code",
   "execution_count": 27,
   "metadata": {},
   "outputs": [
    {
     "data": {
      "text/html": [
       "${dox}_{\\left\\langle{}\\left(e, s, s\\right),t\\right\\rangle{}}\\:=\\:{Dox}$<br />\n",
       "$[\\![\\mathbf{\\text{believe}}]\\!]^{{w}_{s}, g}_{\\left\\langle{}\\left\\langle{}s,t\\right\\rangle{},\\left\\langle{}e,t\\right\\rangle{}\\right\\rangle{}} \\:=\\: $$\\lambda{} p_{\\left\\langle{}s,t\\right\\rangle{}} \\: . \\: \\lambda{} x_{e} \\: . \\: \\forall{} w2_{s} \\: . \\: ({Dox}({x}, {w}_{s}, {w2}) \\rightarrow{} {p}({w2}))$"
      ],
      "text/latex": [
       "${dox}_{\\left\\langle{}\\left(e, s, s\\right),t\\right\\rangle{}}\\:=\\:{Dox}$<br />\n",
       "$[\\![\\mathbf{\\text{believe}}]\\!]^{{w}_{s}, g}_{\\left\\langle{}\\left\\langle{}s,t\\right\\rangle{},\\left\\langle{}e,t\\right\\rangle{}\\right\\rangle{}} \\:=\\: $$\\lambda{} p_{\\left\\langle{}s,t\\right\\rangle{}} \\: . \\: \\lambda{} x_{e} \\: . \\: \\forall{} w2_{s} \\: . \\: ({Dox}({x}, {w}_{s}, {w2}) \\rightarrow{} {p}({w2}))$"
      ],
      "text/plain": [
       "${dox}_{\\left\\langle{}\\left(e, s, s\\right),t\\right\\rangle{}}\\:=\\:{Dox}$<br />\n",
       "$[\\![\\mathbf{\\text{believe}}]\\!]^{{w}_{s}, g}_{\\left\\langle{}\\left\\langle{}s,t\\right\\rangle{},\\left\\langle{}e,t\\right\\rangle{}\\right\\rangle{}} \\:=\\: $$\\lambda{} p_{\\left\\langle{}s,t\\right\\rangle{}} \\: . \\: \\lambda{} x_{e} \\: . \\: \\forall{} w2_{s} \\: . \\: ({Dox}({x}, {w}_{s}, {w2}) \\rightarrow{} {p}({w2}))$"
      ]
     },
     "execution_count": 27,
     "metadata": {},
     "output_type": "execute_result"
    }
   ],
   "source": [
    "%%lamb \n",
    "dox = Dox_<(e,s,s),t>\n",
    "||believe|| = L p_<s,t> : L x_e : Forall w2_s : dox(x, w, w2) >> p(w2)"
   ]
  },
  {
   "cell_type": "code",
   "execution_count": 28,
   "metadata": {},
   "outputs": [
    {
     "data": {
      "text/latex": [
       "$\\left\\langle{}\\left(e, s, s\\right),t\\right\\rangle{}$"
      ],
      "text/plain": [
       "<(e,s,s),t>"
      ]
     },
     "execution_count": 28,
     "metadata": {},
     "output_type": "execute_result"
    }
   ],
   "source": [
    "lang.tp(\"<(e,s,s),t>\")"
   ]
  },
  {
   "cell_type": "code",
   "execution_count": 29,
   "metadata": {},
   "outputs": [
    {
     "data": {
      "text/latex": [
       "${f}_{\\left\\langle{}s,\\left\\{\\left\\langle{}s,t\\right\\rangle{}\\right\\}\\right\\rangle{}}$"
      ],
      "text/plain": [
       "f_<s,{<s,t>}>"
      ]
     },
     "execution_count": 29,
     "metadata": {},
     "output_type": "execute_result"
    }
   ],
   "source": [
    "lang.te(\"f_<s,{<s,t>}>\")"
   ]
  },
  {
   "cell_type": "code",
   "execution_count": 30,
   "metadata": {},
   "outputs": [
    {
     "data": {
      "text/html": [
       "${dox}_{\\left\\langle{}\\left(e, s\\right),\\left\\langle{}s,t\\right\\rangle{}\\right\\rangle{}}\\:=\\:{Dox}_{\\left\\langle{}\\left(e, s\\right),\\left\\langle{}s,t\\right\\rangle{}\\right\\rangle{}}$<br />\n",
       "$[\\![\\mathbf{\\text{believe}}]\\!]^{{w}_{s}, g}_{\\left\\langle{}\\left\\langle{}s,t\\right\\rangle{},\\left\\langle{}e,t\\right\\rangle{}\\right\\rangle{}} \\:=\\: $$\\lambda{} p_{\\left\\langle{}s,t\\right\\rangle{}} \\: . \\: \\lambda{} x_{e} \\: . \\: \\forall{} w2_{s} \\: . \\: ({Dox}_{\\left\\langle{}\\left(e, s\\right),\\left\\langle{}s,t\\right\\rangle{}\\right\\rangle{}}({x}, {w}_{s})({w2}) \\rightarrow{} {p}({w2}))$"
      ],
      "text/latex": [
       "${dox}_{\\left\\langle{}\\left(e, s\\right),\\left\\langle{}s,t\\right\\rangle{}\\right\\rangle{}}\\:=\\:{Dox}_{\\left\\langle{}\\left(e, s\\right),\\left\\langle{}s,t\\right\\rangle{}\\right\\rangle{}}$<br />\n",
       "$[\\![\\mathbf{\\text{believe}}]\\!]^{{w}_{s}, g}_{\\left\\langle{}\\left\\langle{}s,t\\right\\rangle{},\\left\\langle{}e,t\\right\\rangle{}\\right\\rangle{}} \\:=\\: $$\\lambda{} p_{\\left\\langle{}s,t\\right\\rangle{}} \\: . \\: \\lambda{} x_{e} \\: . \\: \\forall{} w2_{s} \\: . \\: ({Dox}_{\\left\\langle{}\\left(e, s\\right),\\left\\langle{}s,t\\right\\rangle{}\\right\\rangle{}}({x}, {w}_{s})({w2}) \\rightarrow{} {p}({w2}))$"
      ],
      "text/plain": [
       "${dox}_{\\left\\langle{}\\left(e, s\\right),\\left\\langle{}s,t\\right\\rangle{}\\right\\rangle{}}\\:=\\:{Dox}_{\\left\\langle{}\\left(e, s\\right),\\left\\langle{}s,t\\right\\rangle{}\\right\\rangle{}}$<br />\n",
       "$[\\![\\mathbf{\\text{believe}}]\\!]^{{w}_{s}, g}_{\\left\\langle{}\\left\\langle{}s,t\\right\\rangle{},\\left\\langle{}e,t\\right\\rangle{}\\right\\rangle{}} \\:=\\: $$\\lambda{} p_{\\left\\langle{}s,t\\right\\rangle{}} \\: . \\: \\lambda{} x_{e} \\: . \\: \\forall{} w2_{s} \\: . \\: ({Dox}_{\\left\\langle{}\\left(e, s\\right),\\left\\langle{}s,t\\right\\rangle{}\\right\\rangle{}}({x}, {w}_{s})({w2}) \\rightarrow{} {p}({w2}))$"
      ]
     },
     "execution_count": 30,
     "metadata": {},
     "output_type": "execute_result"
    }
   ],
   "source": [
    "%%lamb\n",
    "dox = Dox_<(e,s),<s,t>>\n",
    "||believe|| = L p_<s,t> : L x_e : Forall w2_s : dox(x, w)(w2) >> p(w2)"
   ]
  },
  {
   "cell_type": "code",
   "execution_count": 31,
   "metadata": {},
   "outputs": [
    {
     "data": {
      "text/html": [
       "${dox}_{\\left\\langle{}\\left(e, s\\right),\\left\\{\\left\\langle{}s,t\\right\\rangle{}\\right\\}\\right\\rangle{}}\\:=\\:{Dox}_{\\left\\langle{}\\left(e, s\\right),\\left\\{\\left\\langle{}s,t\\right\\rangle{}\\right\\}\\right\\rangle{}}$<br />\n",
       "${bigcap}_{\\left\\langle{}\\left\\{\\left\\langle{}s,t\\right\\rangle{}\\right\\},\\left\\{s\\right\\}\\right\\rangle{}}\\:=\\:\\lambda{} a_{\\left\\{\\left\\langle{}s,t\\right\\rangle{}\\right\\}} \\: . \\: \\{w_{s}\\:|\\: \\forall{} p_{\\left\\langle{}s,t\\right\\rangle{}} \\: . \\: (({p} \\in{} {a}) \\wedge{} {p}({w}_{s}))\\}$<br />\n",
       "$[\\![\\mathbf{\\text{believe}}]\\!]^{{w}_{s}, g}_{\\left\\langle{}\\left\\langle{}s,t\\right\\rangle{},\\left\\langle{}e,t\\right\\rangle{}\\right\\rangle{}} \\:=\\: $$\\lambda{} p_{\\left\\langle{}s,t\\right\\rangle{}} \\: . \\: \\lambda{} x_{e} \\: . \\: \\forall{} w2_{s} \\: . \\: (({w2} \\in{} {[\\lambda{} a_{\\left\\{\\left\\langle{}s,t\\right\\rangle{}\\right\\}} \\: . \\: \\{w_{s}\\:|\\: \\forall{} p_{\\left\\langle{}s,t\\right\\rangle{}} \\: . \\: (({p} \\in{} {a}) \\wedge{} {p}({w}_{s}))\\}]}({Dox}_{\\left\\langle{}\\left(e, s\\right),\\left\\{\\left\\langle{}s,t\\right\\rangle{}\\right\\}\\right\\rangle{}}({x}, {w}_{s}))) \\rightarrow{} {p}({w2}))$"
      ],
      "text/latex": [
       "${dox}_{\\left\\langle{}\\left(e, s\\right),\\left\\{\\left\\langle{}s,t\\right\\rangle{}\\right\\}\\right\\rangle{}}\\:=\\:{Dox}_{\\left\\langle{}\\left(e, s\\right),\\left\\{\\left\\langle{}s,t\\right\\rangle{}\\right\\}\\right\\rangle{}}$<br />\n",
       "${bigcap}_{\\left\\langle{}\\left\\{\\left\\langle{}s,t\\right\\rangle{}\\right\\},\\left\\{s\\right\\}\\right\\rangle{}}\\:=\\:\\lambda{} a_{\\left\\{\\left\\langle{}s,t\\right\\rangle{}\\right\\}} \\: . \\: \\{w_{s}\\:|\\: \\forall{} p_{\\left\\langle{}s,t\\right\\rangle{}} \\: . \\: (({p} \\in{} {a}) \\wedge{} {p}({w}_{s}))\\}$<br />\n",
       "$[\\![\\mathbf{\\text{believe}}]\\!]^{{w}_{s}, g}_{\\left\\langle{}\\left\\langle{}s,t\\right\\rangle{},\\left\\langle{}e,t\\right\\rangle{}\\right\\rangle{}} \\:=\\: $$\\lambda{} p_{\\left\\langle{}s,t\\right\\rangle{}} \\: . \\: \\lambda{} x_{e} \\: . \\: \\forall{} w2_{s} \\: . \\: (({w2} \\in{} {[\\lambda{} a_{\\left\\{\\left\\langle{}s,t\\right\\rangle{}\\right\\}} \\: . \\: \\{w_{s}\\:|\\: \\forall{} p_{\\left\\langle{}s,t\\right\\rangle{}} \\: . \\: (({p} \\in{} {a}) \\wedge{} {p}({w}_{s}))\\}]}({Dox}_{\\left\\langle{}\\left(e, s\\right),\\left\\{\\left\\langle{}s,t\\right\\rangle{}\\right\\}\\right\\rangle{}}({x}, {w}_{s}))) \\rightarrow{} {p}({w2}))$"
      ],
      "text/plain": [
       "${dox}_{\\left\\langle{}\\left(e, s\\right),\\left\\{\\left\\langle{}s,t\\right\\rangle{}\\right\\}\\right\\rangle{}}\\:=\\:{Dox}_{\\left\\langle{}\\left(e, s\\right),\\left\\{\\left\\langle{}s,t\\right\\rangle{}\\right\\}\\right\\rangle{}}$<br />\n",
       "${bigcap}_{\\left\\langle{}\\left\\{\\left\\langle{}s,t\\right\\rangle{}\\right\\},\\left\\{s\\right\\}\\right\\rangle{}}\\:=\\:\\lambda{} a_{\\left\\{\\left\\langle{}s,t\\right\\rangle{}\\right\\}} \\: . \\: \\{w_{s}\\:|\\: \\forall{} p_{\\left\\langle{}s,t\\right\\rangle{}} \\: . \\: (({p} \\in{} {a}) \\wedge{} {p}({w}_{s}))\\}$<br />\n",
       "$[\\![\\mathbf{\\text{believe}}]\\!]^{{w}_{s}, g}_{\\left\\langle{}\\left\\langle{}s,t\\right\\rangle{},\\left\\langle{}e,t\\right\\rangle{}\\right\\rangle{}} \\:=\\: $$\\lambda{} p_{\\left\\langle{}s,t\\right\\rangle{}} \\: . \\: \\lambda{} x_{e} \\: . \\: \\forall{} w2_{s} \\: . \\: (({w2} \\in{} {[\\lambda{} a_{\\left\\{\\left\\langle{}s,t\\right\\rangle{}\\right\\}} \\: . \\: \\{w_{s}\\:|\\: \\forall{} p_{\\left\\langle{}s,t\\right\\rangle{}} \\: . \\: (({p} \\in{} {a}) \\wedge{} {p}({w}_{s}))\\}]}({Dox}_{\\left\\langle{}\\left(e, s\\right),\\left\\{\\left\\langle{}s,t\\right\\rangle{}\\right\\}\\right\\rangle{}}({x}, {w}_{s}))) \\rightarrow{} {p}({w2}))$"
      ]
     },
     "execution_count": 31,
     "metadata": {},
     "output_type": "execute_result"
    }
   ],
   "source": [
    "%%lamb\n",
    "dox = Dox_<(e,s),{<s,t>}>\n",
    "bigcap = L a_{<s,t>} : Set w_s : Forall p_<s,t> : (p << a) & p(w)\n",
    "||believe|| = L p_<s,t> : L x_e : Forall w2_s : w2 << bigcap(dox(x, w_s)) >> p(w2)"
   ]
  },
  {
   "cell_type": "code",
   "execution_count": 32,
   "metadata": {},
   "outputs": [
    {
     "data": {
      "text/html": [
       "$[\\![\\mathbf{\\text{believe}}]\\!]^{{w}_{s}, g}_{\\left\\langle{}\\left\\langle{}s,t\\right\\rangle{},\\left\\langle{}e,t\\right\\rangle{}\\right\\rangle{}} \\:=\\: $$\\lambda{} p_{\\left\\langle{}s,t\\right\\rangle{}} \\: . \\: \\lambda{} x_{e} \\: . \\: \\forall{} w2_{s} \\: . \\: (\\forall{} p_{\\left\\langle{}s,t\\right\\rangle{}} \\: . \\: (({p} \\in{} {Dox}_{\\left\\langle{}\\left(e, s\\right),\\left\\{\\left\\langle{}s,t\\right\\rangle{}\\right\\}\\right\\rangle{}}({x}, {w}_{s})) \\wedge{} {p}({w2})) \\rightarrow{} {p}({w2}))$"
      ],
      "text/latex": [
       "$[\\![\\mathbf{\\text{believe}}]\\!]^{{w}_{s}, g}_{\\left\\langle{}\\left\\langle{}s,t\\right\\rangle{},\\left\\langle{}e,t\\right\\rangle{}\\right\\rangle{}} \\:=\\: $$\\lambda{} p_{\\left\\langle{}s,t\\right\\rangle{}} \\: . \\: \\lambda{} x_{e} \\: . \\: \\forall{} w2_{s} \\: . \\: (\\forall{} p_{\\left\\langle{}s,t\\right\\rangle{}} \\: . \\: (({p} \\in{} {Dox}_{\\left\\langle{}\\left(e, s\\right),\\left\\{\\left\\langle{}s,t\\right\\rangle{}\\right\\}\\right\\rangle{}}({x}, {w}_{s})) \\wedge{} {p}({w2})) \\rightarrow{} {p}({w2}))$"
      ],
      "text/plain": [
       "⟦believe⟧[w_s, type s, g] = (λ p_<s,t>: (λ x_e: (Forall w2_s: ((Forall p_<s,t>: ((p_<s,t> << Dox_<(e,s),{<s,t>}>(x_e, w_s)) & p_<s,t>(w2_s))) >> p_<s,t>(w2_s)))))"
      ]
     },
     "execution_count": 32,
     "metadata": {},
     "output_type": "execute_result"
    }
   ],
   "source": [
    "believe.reduce_all() # can simplify this one slightly"
   ]
  },
  {
   "cell_type": "code",
   "execution_count": 33,
   "metadata": {},
   "outputs": [
    {
     "data": {
      "text/html": [
       "1 composition path.  Result:\n",
       "<br />&nbsp;&nbsp;&nbsp;&nbsp;[0]: $[\\![\\mathbf{\\text{[believe INT([[a detective] [lives baker_street_221B]])]}}]\\!]^{{w}_{s}, g}_{\\left\\langle{}e,t\\right\\rangle{}} \\:=\\: $$\\lambda{} x_{e} \\: . \\: \\forall{} w2_{s} \\: . \\: (\\forall{} p_{\\left\\langle{}s,t\\right\\rangle{}} \\: . \\: (({p} \\in{} {Dox}_{\\left\\langle{}\\left(e, s\\right),\\left\\{\\left\\langle{}s,t\\right\\rangle{}\\right\\}\\right\\rangle{}}({x}, {w}_{s})) \\wedge{} {p}({w2})) \\rightarrow{} \\exists{} x_{e} \\: . \\: ({Detective}({w2}, {x}) \\wedge{} {LivesAt}({w2}, {x}, {BakerSt221B}_{e})))$"
      ],
      "text/plain": [
       "CompositionResult(results=[⟦[believe INT([[a detective] [lives baker_street_221B]])]⟧[w_s, type s, g] = (λ x_e: (Forall w2_s: ((Forall p_<s,t>: ((p_<s,t> << Dox_<(e,s),{<s,t>}>(x_e, w_s)) & p_<s,t>(w2_s))) >> (Exists x_e: (Detective_<(s,e),t>(w2_s, x_e) & LivesAt_<(s,e,e),t>(w2_s, x_e, BakerSt221B_e))))))], failures=[⟦[INT([[a detective] [lives baker_street_221B]]) believe]⟧[w_s, type s, g] = Type mismatch: '⟦INT([[a detective] [lives baker_street_221B]])⟧[w_s, type s, g] = (λ w_s: (Exists x_e: (Detective_<(s,e),t>(w_s, x_e) & LivesAt_<(s,e,e),t>(w_s, x_e, BakerSt221B_e))))'/<s,t> and '⟦believe⟧[w_s, type s, g] = (λ p_<s,t>: (λ x_e: (Forall w2_s: ((Forall p_<s,t>: ((p_<s,t> << Dox_<(e,s),{<s,t>}>(x_e, w_s)) & p_<s,t>(w2_s))) >> p_<s,t>(w2_s)))))'/<<s,t>,<e,t>> conflict (mode: Function Application), ⟦[believe INT([[a detective] [lives baker_street_221B]])]⟧[w_s, type s, g] = Type mismatch: '⟦believe⟧[w_s, type s, g] = (λ p_<s,t>: (λ x_e: (Forall w2_s: ((Forall p_<s,t>: ((p_<s,t> << Dox_<(e,s),{<s,t>}>(x_e, w_s)) & p_<s,t>(w2_s))) >> p_<s,t>(w2_s)))))'/<<s,t>,<e,t>> and '⟦INT([[a detective] [lives baker_street_221B]])⟧[w_s, type s, g] = (λ w_s: (Exists x_e: (Detective_<(s,e),t>(w_s, x_e) & LivesAt_<(s,e,e),t>(w_s, x_e, BakerSt221B_e))))'/<s,t> conflict (mode: Predicate Modification), ⟦[believe INT([[a detective] [lives baker_street_221B]])]⟧[w_s, type s, g] = Type mismatch: '⟦believe⟧[w_s, type s, g] = (λ p_<s,t>: (λ x_e: (Forall w2_s: ((Forall p_<s,t>: ((p_<s,t> << Dox_<(e,s),{<s,t>}>(x_e, w_s)) & p_<s,t>(w2_s))) >> p_<s,t>(w2_s)))))'/<<s,t>,<e,t>> and '⟦INT([[a detective] [lives baker_street_221B]])⟧[w_s, type s, g] = (λ w_s: (Exists x_e: (Detective_<(s,e),t>(w_s, x_e) & LivesAt_<(s,e,e),t>(w_s, x_e, BakerSt221B_e))))'/<s,t> conflict (mode: Predicate Abstraction), ⟦[INT([[a detective] [lives baker_street_221B]]) believe]⟧[w_s, type s, g] = Type mismatch: '⟦INT([[a detective] [lives baker_street_221B]])⟧[w_s, type s, g] = (λ w_s: (Exists x_e: (Detective_<(s,e),t>(w_s, x_e) & LivesAt_<(s,e,e),t>(w_s, x_e, BakerSt221B_e))))'/<s,t> and '⟦believe⟧[w_s, type s, g] = (λ p_<s,t>: (λ x_e: (Forall w2_s: ((Forall p_<s,t>: ((p_<s,t> << Dox_<(e,s),{<s,t>}>(x_e, w_s)) & p_<s,t>(w2_s))) >> p_<s,t>(w2_s)))))'/<<s,t>,<e,t>> conflict (mode: Predicate Abstraction)])"
      ]
     },
     "execution_count": 33,
     "metadata": {},
     "output_type": "execute_result"
    }
   ],
   "source": [
    "(believe * (simple * None))"
   ]
  },
  {
   "cell_type": "code",
   "execution_count": 34,
   "metadata": {},
   "outputs": [],
   "source": []
  }
 ],
 "metadata": {
  "kernelspec": {
   "display_name": "Lambda Notebook (Python 3)",
   "language": "python",
   "name": "lambda-notebook"
  },
  "language_info": {
   "codemirror_mode": {
    "name": "ipython",
    "version": 3
   },
   "file_extension": ".py",
   "mimetype": "text/x-python",
   "name": "python",
   "nbconvert_exporter": "python",
   "pygments_lexer": "ipython3",
   "version": "3.6.4"
  }
 },
 "nbformat": 4,
 "nbformat_minor": 1
}
