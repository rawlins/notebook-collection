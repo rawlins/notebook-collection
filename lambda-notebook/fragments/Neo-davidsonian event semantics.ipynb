{
 "cells": [
  {
   "cell_type": "markdown",
   "metadata": {},
   "source": [
    "# Neo-davidsonian composition\n",
    "## Author: Kyle Rawlins\n",
    "\n",
    "This notebook demonstrates an implementation of a basic neo-Davidsonian treatment of semantic composition."
   ]
  },
  {
   "cell_type": "code",
   "execution_count": 1,
   "metadata": {
    "collapsed": true
   },
   "outputs": [],
   "source": [
    "#reload_lamb() # may be useful if you edit this notebook"
   ]
  },
  {
   "cell_type": "markdown",
   "metadata": {},
   "source": [
    "The classic account of verb meaning is that it a verb relates individuals.  A transitive verb is a two-place relation in type e."
   ]
  },
  {
   "cell_type": "code",
   "execution_count": 2,
   "metadata": {
    "collapsed": true
   },
   "outputs": [],
   "source": [
    "type_e = types.type_e\n",
    "type_t = types.type_t\n",
    "type_n = types.type_n"
   ]
  },
  {
   "cell_type": "code",
   "execution_count": 3,
   "metadata": {},
   "outputs": [
    {
     "name": "stdout",
     "output_type": "stream",
     "text": [
      "INFO (meta): Coerced guessed type for 'Smokes_t' into <e,t>, to match argument 'x_e'\n",
      "INFO (meta): Coerced guessed type for 'Sees_t' into <(e,e),t>, to match argument '(x_e, y_e)'\n"
     ]
    },
    {
     "data": {
      "text/html": [
       "$[\\![\\mathbf{\\text{smokes}}]\\!]^{}_{\\left\\langle{}e,t\\right\\rangle{}} \\:=\\: $$\\lambda{} x_{e} \\: . \\: {Smokes}({x})$<br />\n",
       "$[\\![\\mathbf{\\text{sees}}]\\!]^{}_{\\left\\langle{}e,\\left\\langle{}e,t\\right\\rangle{}\\right\\rangle{}} \\:=\\: $$\\lambda{} y_{e} \\: . \\: \\lambda{} x_{e} \\: . \\: {Sees}({x}, {y})$<br />\n",
       "$[\\![\\mathbf{\\text{alfonso}}]\\!]^{}_{e} \\:=\\: $${Alfonso}_{e}$<br />\n",
       "$[\\![\\mathbf{\\text{joanna}}]\\!]^{}_{e} \\:=\\: $${Joanna}_{e}$"
      ],
      "text/latex": [
       "$[\\![\\mathbf{\\text{smokes}}]\\!]^{}_{\\left\\langle{}e,t\\right\\rangle{}} \\:=\\: $$\\lambda{} x_{e} \\: . \\: {Smokes}({x})$<br />\n",
       "$[\\![\\mathbf{\\text{sees}}]\\!]^{}_{\\left\\langle{}e,\\left\\langle{}e,t\\right\\rangle{}\\right\\rangle{}} \\:=\\: $$\\lambda{} y_{e} \\: . \\: \\lambda{} x_{e} \\: . \\: {Sees}({x}, {y})$<br />\n",
       "$[\\![\\mathbf{\\text{alfonso}}]\\!]^{}_{e} \\:=\\: $${Alfonso}_{e}$<br />\n",
       "$[\\![\\mathbf{\\text{joanna}}]\\!]^{}_{e} \\:=\\: $${Joanna}_{e}$"
      ],
      "text/plain": [
       "$[\\![\\mathbf{\\text{smokes}}]\\!]^{}_{\\left\\langle{}e,t\\right\\rangle{}} \\:=\\: $$\\lambda{} x_{e} \\: . \\: {Smokes}({x})$<br />\n",
       "$[\\![\\mathbf{\\text{sees}}]\\!]^{}_{\\left\\langle{}e,\\left\\langle{}e,t\\right\\rangle{}\\right\\rangle{}} \\:=\\: $$\\lambda{} y_{e} \\: . \\: \\lambda{} x_{e} \\: . \\: {Sees}({x}, {y})$<br />\n",
       "$[\\![\\mathbf{\\text{alfonso}}]\\!]^{}_{e} \\:=\\: $${Alfonso}_{e}$<br />\n",
       "$[\\![\\mathbf{\\text{joanna}}]\\!]^{}_{e} \\:=\\: $${Joanna}_{e}$"
      ]
     },
     "execution_count": 3,
     "metadata": {},
     "output_type": "execute_result"
    }
   ],
   "source": [
    "%%lamb\n",
    "||smokes|| = L x_e : Smokes(x)\n",
    "||sees|| = L y_e : L x_e : Sees(x, y)\n",
    "||alfonso|| = Alfonso_e\n",
    "||joanna|| = Joanna_e"
   ]
  },
  {
   "cell_type": "code",
   "execution_count": 4,
   "metadata": {},
   "outputs": [
    {
     "data": {
      "text/html": [
       "1 composition path.  Result:\n",
       "<br />&nbsp;&nbsp;&nbsp;&nbsp;[0]: $[\\![\\mathbf{\\text{[smokes alfonso]}}]\\!]^{}_{t} \\:=\\: $${Smokes}({Alfonso}_{e})$"
      ],
      "text/plain": [
       "CompositionResult(results=[⟦[smokes alfonso]⟧ = Smokes_<e,t>(Alfonso_e)], failures=[⟦[alfonso smokes]⟧ = Type mismatch: '⟦alfonso⟧ = Alfonso_e'/e and '⟦smokes⟧ = (λ x_e: Smokes_<e,t>(x_e))'/<e,t> conflict (mode: Function Application), ⟦[smokes alfonso]⟧ = Type mismatch: '⟦smokes⟧ = (λ x_e: Smokes_<e,t>(x_e))'/<e,t> and '⟦alfonso⟧ = Alfonso_e'/e conflict (mode: Predicate Modification), ⟦[smokes alfonso]⟧ = Type mismatch: '⟦smokes⟧ = (λ x_e: Smokes_<e,t>(x_e))'/<e,t> and '⟦alfonso⟧ = Alfonso_e'/e conflict (mode: Predicate Abstraction), ⟦[alfonso smokes]⟧ = Type mismatch: '⟦alfonso⟧ = Alfonso_e'/e and '⟦smokes⟧ = (λ x_e: Smokes_<e,t>(x_e))'/<e,t> conflict (mode: Predicate Abstraction)])"
      ]
     },
     "execution_count": 4,
     "metadata": {},
     "output_type": "execute_result"
    }
   ],
   "source": [
    "smokes * alfonso"
   ]
  },
  {
   "cell_type": "code",
   "execution_count": 5,
   "metadata": {},
   "outputs": [
    {
     "data": {
      "text/html": [
       "1 composition path.  Result:\n",
       "<br />&nbsp;&nbsp;&nbsp;&nbsp;[0]: $[\\![\\mathbf{\\text{[[sees joanna] alfonso]}}]\\!]^{}_{t} \\:=\\: $${Sees}({Alfonso}_{e}, {Joanna}_{e})$"
      ],
      "text/plain": [
       "CompositionResult(results=[⟦[[sees joanna] alfonso]⟧ = Sees_<(e,e),t>(Alfonso_e, Joanna_e)], failures=[⟦[alfonso [sees joanna]]⟧ = Type mismatch: '⟦alfonso⟧ = Alfonso_e'/e and '⟦[sees joanna]⟧ = (λ x_e: Sees_<(e,e),t>(x_e, Joanna_e))'/<e,t> conflict (mode: Function Application), ⟦[alfonso [sees joanna]]⟧ = Type mismatch: '⟦alfonso⟧ = Alfonso_e'/e and '⟦[sees joanna]⟧ = (λ x_e: Sees_<(e,e),t>(x_e, Joanna_e))'/<e,t> conflict (mode: Predicate Modification), ⟦[alfonso [sees joanna]]⟧ = Type mismatch: '⟦alfonso⟧ = Alfonso_e'/e and '⟦[sees joanna]⟧ = (λ x_e: Sees_<(e,e),t>(x_e, Joanna_e))'/<e,t> conflict (mode: Predicate Abstraction), ⟦[[sees joanna] alfonso]⟧ = Type mismatch: '⟦[sees joanna]⟧ = (λ x_e: Sees_<(e,e),t>(x_e, Joanna_e))'/<e,t> and '⟦alfonso⟧ = Alfonso_e'/e conflict (mode: Predicate Abstraction)])"
      ]
     },
     "execution_count": 5,
     "metadata": {},
     "output_type": "execute_result"
    }
   ],
   "source": [
    "alfonso * (sees * joanna)"
   ]
  },
  {
   "cell_type": "code",
   "execution_count": 6,
   "metadata": {},
   "outputs": [
    {
     "data": {
      "text/html": [
       "1 composition path:<br /><style>.rendered_html table, .rendered_html tr, .rendered_html td, .rendered_html th { border: 0px; text-align:center; }</style><table><tr style=\"border:1px solid #848482\"><td style=\"vertical-align:bottom;padding:0px 10px\" align=\"center\"><table><tr><td style=\"vertical-align:bottom;padding:5px\"><table><tr style=\"border:1px solid #848482\"><td style=\"vertical-align:bottom;padding:0px 10px\" align=\"center\"><table><tr><td style=\"vertical-align:bottom;padding:5px\"><div style=\"margin-top:10px;border-style:solid;border-color:#848482;border-width:0px\"><div style=\"vertical-align:bottom;text-align:center\">$[\\![\\mathbf{\\text{sees}}]\\!]^{}_{\\left\\langle{}e,\\left\\langle{}e,t\\right\\rangle{}\\right\\rangle{}}$</div><div style=\"vertical-align:bottom;text-align:center\">$\\lambda{} y_{e} \\: . \\: \\lambda{} x_{e} \\: . \\: {Sees}({x}, {y})$</div></div></td><td style=\"vertical-align:bottom;padding:10px\">$\\circ$</td><td style=\"vertical-align:bottom;padding:5px\"><div style=\"margin-top:10px;border-style:solid;border-color:#848482;border-width:0px\"><div style=\"vertical-align:bottom;text-align:center\">$[\\![\\mathbf{\\text{joanna}}]\\!]^{}_{e}$</div><div style=\"vertical-align:bottom;text-align:center\">${Joanna}_{e}$</div></div></td></tr></table></td><td style=\"border-left:1px solid #848482;vertical-align:center;padding:10px\"><span style=\"color:blue\"><b>[FA]</b></span></td></tr><tr style=\"border-style:solid;border-color:#848482;border-width:0px 1px 1px 1px\"><td style=\"padding:5px\" align=\"center\"><div style=\"margin-top:10px;border-style:solid;border-color:#848482;border-width:0px\"><div style=\"vertical-align:bottom;text-align:center\">$[\\![\\mathbf{\\text{[sees joanna]}}]\\!]^{}_{\\left\\langle{}e,t\\right\\rangle{}}$</div><div style=\"vertical-align:bottom;text-align:center\">$\\lambda{} x_{e} \\: . \\: {Sees}({x}, {Joanna}_{e})$</div></div></td><td></td></tr></table></td><td style=\"vertical-align:bottom;padding:10px\">$\\circ$</td><td style=\"vertical-align:bottom;padding:5px\"><div style=\"margin-top:10px;border-style:solid;border-color:#848482;border-width:0px\"><div style=\"vertical-align:bottom;text-align:center\">$[\\![\\mathbf{\\text{alfonso}}]\\!]^{}_{e}$</div><div style=\"vertical-align:bottom;text-align:center\">${Alfonso}_{e}$</div></div></td></tr></table></td><td style=\"border-left:1px solid #848482;vertical-align:center;padding:10px\"><span style=\"color:blue\"><b>[FA]</b></span></td></tr><tr style=\"border-style:solid;border-color:#848482;border-width:0px 1px 1px 1px\"><td style=\"padding:5px\" align=\"center\"><div style=\"margin-top:10px;border-style:solid;border-color:#848482;border-width:0px\"><div style=\"vertical-align:bottom;text-align:center\">$[\\![\\mathbf{\\text{[[sees joanna] alfonso]}}]\\!]^{}_{t}$</div><div style=\"vertical-align:bottom;text-align:center\">${Sees}({Alfonso}_{e}, {Joanna}_{e})$</div></div></td><td></td></tr></table><br /><br />"
      ],
      "text/latex": [
       "1 composition path:<br /><style>.rendered_html table, .rendered_html tr, .rendered_html td, .rendered_html th { border: 0px; text-align:center; }</style><table><tr style=\"border:1px solid #848482\"><td style=\"vertical-align:bottom;padding:0px 10px\" align=\"center\"><table><tr><td style=\"vertical-align:bottom;padding:5px\"><table><tr style=\"border:1px solid #848482\"><td style=\"vertical-align:bottom;padding:0px 10px\" align=\"center\"><table><tr><td style=\"vertical-align:bottom;padding:5px\"><div style=\"margin-top:10px;border-style:solid;border-color:#848482;border-width:0px\"><div style=\"vertical-align:bottom;text-align:center\">$[\\![\\mathbf{\\text{sees}}]\\!]^{}_{\\left\\langle{}e,\\left\\langle{}e,t\\right\\rangle{}\\right\\rangle{}}$</div><div style=\"vertical-align:bottom;text-align:center\">$\\lambda{} y_{e} \\: . \\: \\lambda{} x_{e} \\: . \\: {Sees}({x}, {y})$</div></div></td><td style=\"vertical-align:bottom;padding:10px\">$\\circ$</td><td style=\"vertical-align:bottom;padding:5px\"><div style=\"margin-top:10px;border-style:solid;border-color:#848482;border-width:0px\"><div style=\"vertical-align:bottom;text-align:center\">$[\\![\\mathbf{\\text{joanna}}]\\!]^{}_{e}$</div><div style=\"vertical-align:bottom;text-align:center\">${Joanna}_{e}$</div></div></td></tr></table></td><td style=\"border-left:1px solid #848482;vertical-align:center;padding:10px\"><span style=\"color:blue\"><b>[FA]</b></span></td></tr><tr style=\"border-style:solid;border-color:#848482;border-width:0px 1px 1px 1px\"><td style=\"padding:5px\" align=\"center\"><div style=\"margin-top:10px;border-style:solid;border-color:#848482;border-width:0px\"><div style=\"vertical-align:bottom;text-align:center\">$[\\![\\mathbf{\\text{[sees joanna]}}]\\!]^{}_{\\left\\langle{}e,t\\right\\rangle{}}$</div><div style=\"vertical-align:bottom;text-align:center\">$\\lambda{} x_{e} \\: . \\: {Sees}({x}, {Joanna}_{e})$</div></div></td><td></td></tr></table></td><td style=\"vertical-align:bottom;padding:10px\">$\\circ$</td><td style=\"vertical-align:bottom;padding:5px\"><div style=\"margin-top:10px;border-style:solid;border-color:#848482;border-width:0px\"><div style=\"vertical-align:bottom;text-align:center\">$[\\![\\mathbf{\\text{alfonso}}]\\!]^{}_{e}$</div><div style=\"vertical-align:bottom;text-align:center\">${Alfonso}_{e}$</div></div></td></tr></table></td><td style=\"border-left:1px solid #848482;vertical-align:center;padding:10px\"><span style=\"color:blue\"><b>[FA]</b></span></td></tr><tr style=\"border-style:solid;border-color:#848482;border-width:0px 1px 1px 1px\"><td style=\"padding:5px\" align=\"center\"><div style=\"margin-top:10px;border-style:solid;border-color:#848482;border-width:0px\"><div style=\"vertical-align:bottom;text-align:center\">$[\\![\\mathbf{\\text{[[sees joanna] alfonso]}}]\\!]^{}_{t}$</div><div style=\"vertical-align:bottom;text-align:center\">${Sees}({Alfonso}_{e}, {Joanna}_{e})$</div></div></td><td></td></tr></table><br /><br />"
      ],
      "text/plain": [
       "1 composition path:<br /><style>.rendered_html table, .rendered_html tr, .rendered_html td, .rendered_html th { border: 0px; text-align:center; }</style><table><tr style=\"border:1px solid #848482\"><td style=\"vertical-align:bottom;padding:0px 10px\" align=\"center\"><table><tr><td style=\"vertical-align:bottom;padding:5px\"><table><tr style=\"border:1px solid #848482\"><td style=\"vertical-align:bottom;padding:0px 10px\" align=\"center\"><table><tr><td style=\"vertical-align:bottom;padding:5px\"><div style=\"margin-top:10px;border-style:solid;border-color:#848482;border-width:0px\"><div style=\"vertical-align:bottom;text-align:center\">$[\\![\\mathbf{\\text{sees}}]\\!]^{}_{\\left\\langle{}e,\\left\\langle{}e,t\\right\\rangle{}\\right\\rangle{}}$</div><div style=\"vertical-align:bottom;text-align:center\">$\\lambda{} y_{e} \\: . \\: \\lambda{} x_{e} \\: . \\: {Sees}({x}, {y})$</div></div></td><td style=\"vertical-align:bottom;padding:10px\">$\\circ$</td><td style=\"vertical-align:bottom;padding:5px\"><div style=\"margin-top:10px;border-style:solid;border-color:#848482;border-width:0px\"><div style=\"vertical-align:bottom;text-align:center\">$[\\![\\mathbf{\\text{joanna}}]\\!]^{}_{e}$</div><div style=\"vertical-align:bottom;text-align:center\">${Joanna}_{e}$</div></div></td></tr></table></td><td style=\"border-left:1px solid #848482;vertical-align:center;padding:10px\"><span style=\"color:blue\"><b>[FA]</b></span></td></tr><tr style=\"border-style:solid;border-color:#848482;border-width:0px 1px 1px 1px\"><td style=\"padding:5px\" align=\"center\"><div style=\"margin-top:10px;border-style:solid;border-color:#848482;border-width:0px\"><div style=\"vertical-align:bottom;text-align:center\">$[\\![\\mathbf{\\text{[sees joanna]}}]\\!]^{}_{\\left\\langle{}e,t\\right\\rangle{}}$</div><div style=\"vertical-align:bottom;text-align:center\">$\\lambda{} x_{e} \\: . \\: {Sees}({x}, {Joanna}_{e})$</div></div></td><td></td></tr></table></td><td style=\"vertical-align:bottom;padding:10px\">$\\circ$</td><td style=\"vertical-align:bottom;padding:5px\"><div style=\"margin-top:10px;border-style:solid;border-color:#848482;border-width:0px\"><div style=\"vertical-align:bottom;text-align:center\">$[\\![\\mathbf{\\text{alfonso}}]\\!]^{}_{e}$</div><div style=\"vertical-align:bottom;text-align:center\">${Alfonso}_{e}$</div></div></td></tr></table></td><td style=\"border-left:1px solid #848482;vertical-align:center;padding:10px\"><span style=\"color:blue\"><b>[FA]</b></span></td></tr><tr style=\"border-style:solid;border-color:#848482;border-width:0px 1px 1px 1px\"><td style=\"padding:5px\" align=\"center\"><div style=\"margin-top:10px;border-style:solid;border-color:#848482;border-width:0px\"><div style=\"vertical-align:bottom;text-align:center\">$[\\![\\mathbf{\\text{[[sees joanna] alfonso]}}]\\!]^{}_{t}$</div><div style=\"vertical-align:bottom;text-align:center\">${Sees}({Alfonso}_{e}, {Joanna}_{e})$</div></div></td><td></td></tr></table><br /><br />"
      ]
     },
     "execution_count": 6,
     "metadata": {},
     "output_type": "execute_result"
    }
   ],
   "source": [
    "(alfonso * (sees * joanna)).tree()"
   ]
  },
  {
   "cell_type": "markdown",
   "metadata": {},
   "source": [
    "There are many things that are tricky on this classical account.  The best argument is probably from adverbs.  I will not repeat the arguments in detail here, but the most basic one is what is sometimes called the 'diamond' entailment pattern (see e.g. Parsons 1990).  (1) illustrates the basic pattern, and (2)-(5) illustrate the diamond pattern.\n",
    "\n",
    "(1) Alfonso danced slowly $\\leadsto$ Alfonso danced\n",
    "\n",
    "(2) Alfonso danced slowly in the kitchen.\n",
    "\n",
    "(3) $\\leadsto$ Alfonso danced slowly.\n",
    "\n",
    "(4) $\\leadsto$ Alfonso danced in the kitchen.\n",
    "\n",
    "(5) $\\leadsto$ Alfonso danced.\n",
    "\n",
    "In general, core arguments do not show this sort of pattern, and it is not straightforward to handle under the relation account.  The pattern in (2)-(5) in fact resembles what happens with conjunction, which led Davidson to propose a somewhat different logical form for sentences like (2):\n",
    "\n",
    "(6) $\\exists e : Dancing(e, Alfonso) \\wedge Slow(e) \\wedge In(e, kitchen)$\n",
    "\n",
    "$e$ here is an event variable, and on Davidson's original account, verbs denote a relation on events and event participants.  In the neo-Davidsonian account, developed below, even participant combination is separated out.\n",
    "\n",
    "First we add a type for events ($v$):"
   ]
  },
  {
   "cell_type": "code",
   "execution_count": 7,
   "metadata": {},
   "outputs": [
    {
     "data": {
      "text/latex": [
       "Type system with atomic types: $n, t, v, e$"
      ],
      "text/plain": [
       "<lamb.types.PolyTypeSystem at 0x104d3f400>"
      ]
     },
     "execution_count": 7,
     "metadata": {},
     "output_type": "execute_result"
    }
   ],
   "source": [
    "type_v = types.BasicType(\"v\")\n",
    "ts = meta.get_type_system()\n",
    "ts.add_atomic(type_v)\n",
    "ts"
   ]
  },
  {
   "cell_type": "markdown",
   "metadata": {},
   "source": [
    "On this neo-Davidsonian treatment, VPs denote properties of events.  Predicates such as $Agent$ and $Patient$ in the meta-language relate events with participants.  Composition with a subject is mediated by a Kratzer-inspired little v, and composition with a direct object happens classically (though still mediated by a thematic predicate).\n",
    "\n",
    "To keep things simple, I have done everything here via Function Application."
   ]
  },
  {
   "cell_type": "code",
   "execution_count": 8,
   "metadata": {},
   "outputs": [
    {
     "name": "stdout",
     "output_type": "stream",
     "text": [
      "INFO (meta): Coerced guessed type for 'Smoking_t' into <v,t>, to match argument 'e_v'\n",
      "INFO (meta): Coerced guessed type for 'Seeing_t' into <v,t>, to match argument 'e_v'\n"
     ]
    },
    {
     "data": {
      "text/html": [
       "${agent}_{\\left\\langle{}\\left(v, e\\right),t\\right\\rangle{}}\\:=\\:{Agent}$<br />\n",
       "${patient}_{\\left\\langle{}\\left(v, e\\right),t\\right\\rangle{}}\\:=\\:{Patient}$<br />\n",
       "$[\\![\\mathbf{\\text{smokes}}]\\!]^{}_{\\left\\langle{}v,t\\right\\rangle{}} \\:=\\: $$\\lambda{} e_{v} \\: . \\: {Smoking}_{\\left\\langle{}v,t\\right\\rangle{}}({e})$<br />\n",
       "$[\\![\\mathbf{\\text{sees}}]\\!]^{}_{\\left\\langle{}e,\\left\\langle{}v,t\\right\\rangle{}\\right\\rangle{}} \\:=\\: $$\\lambda{} y_{e} \\: . \\: \\lambda{} e_{v} \\: . \\: ({Seeing}_{\\left\\langle{}v,t\\right\\rangle{}}({e}) \\wedge{} {Patient}({e}, {y}))$<br />\n",
       "$[\\![\\mathbf{\\text{ACTIVE}}]\\!]^{}_{\\left\\langle{}\\left\\langle{}v,t\\right\\rangle{},\\left\\langle{}e,\\left\\langle{}v,t\\right\\rangle{}\\right\\rangle{}\\right\\rangle{}} \\:=\\: $$\\lambda{} f_{\\left\\langle{}v,t\\right\\rangle{}} \\: . \\: \\lambda{} x_{e} \\: . \\: \\lambda{} e_{v} \\: . \\: ({f}({e}) \\wedge{} {Agent}({e}, {x}))$"
      ],
      "text/latex": [
       "${agent}_{\\left\\langle{}\\left(v, e\\right),t\\right\\rangle{}}\\:=\\:{Agent}$<br />\n",
       "${patient}_{\\left\\langle{}\\left(v, e\\right),t\\right\\rangle{}}\\:=\\:{Patient}$<br />\n",
       "$[\\![\\mathbf{\\text{smokes}}]\\!]^{}_{\\left\\langle{}v,t\\right\\rangle{}} \\:=\\: $$\\lambda{} e_{v} \\: . \\: {Smoking}_{\\left\\langle{}v,t\\right\\rangle{}}({e})$<br />\n",
       "$[\\![\\mathbf{\\text{sees}}]\\!]^{}_{\\left\\langle{}e,\\left\\langle{}v,t\\right\\rangle{}\\right\\rangle{}} \\:=\\: $$\\lambda{} y_{e} \\: . \\: \\lambda{} e_{v} \\: . \\: ({Seeing}_{\\left\\langle{}v,t\\right\\rangle{}}({e}) \\wedge{} {Patient}({e}, {y}))$<br />\n",
       "$[\\![\\mathbf{\\text{ACTIVE}}]\\!]^{}_{\\left\\langle{}\\left\\langle{}v,t\\right\\rangle{},\\left\\langle{}e,\\left\\langle{}v,t\\right\\rangle{}\\right\\rangle{}\\right\\rangle{}} \\:=\\: $$\\lambda{} f_{\\left\\langle{}v,t\\right\\rangle{}} \\: . \\: \\lambda{} x_{e} \\: . \\: \\lambda{} e_{v} \\: . \\: ({f}({e}) \\wedge{} {Agent}({e}, {x}))$"
      ],
      "text/plain": [
       "${agent}_{\\left\\langle{}\\left(v, e\\right),t\\right\\rangle{}}\\:=\\:{Agent}$<br />\n",
       "${patient}_{\\left\\langle{}\\left(v, e\\right),t\\right\\rangle{}}\\:=\\:{Patient}$<br />\n",
       "$[\\![\\mathbf{\\text{smokes}}]\\!]^{}_{\\left\\langle{}v,t\\right\\rangle{}} \\:=\\: $$\\lambda{} e_{v} \\: . \\: {Smoking}_{\\left\\langle{}v,t\\right\\rangle{}}({e})$<br />\n",
       "$[\\![\\mathbf{\\text{sees}}]\\!]^{}_{\\left\\langle{}e,\\left\\langle{}v,t\\right\\rangle{}\\right\\rangle{}} \\:=\\: $$\\lambda{} y_{e} \\: . \\: \\lambda{} e_{v} \\: . \\: ({Seeing}_{\\left\\langle{}v,t\\right\\rangle{}}({e}) \\wedge{} {Patient}({e}, {y}))$<br />\n",
       "$[\\![\\mathbf{\\text{ACTIVE}}]\\!]^{}_{\\left\\langle{}\\left\\langle{}v,t\\right\\rangle{},\\left\\langle{}e,\\left\\langle{}v,t\\right\\rangle{}\\right\\rangle{}\\right\\rangle{}} \\:=\\: $$\\lambda{} f_{\\left\\langle{}v,t\\right\\rangle{}} \\: . \\: \\lambda{} x_{e} \\: . \\: \\lambda{} e_{v} \\: . \\: ({f}({e}) \\wedge{} {Agent}({e}, {x}))$"
      ]
     },
     "execution_count": 8,
     "metadata": {},
     "output_type": "execute_result"
    }
   ],
   "source": [
    "%%lamb\n",
    "agent = Agent_<(v,e),t> # this is a way of enforcing consistent types for this predicate.\n",
    "patient = Patient_<(v,e),t>\n",
    "||smokes|| = L e_v : Smoking(e)\n",
    "||sees|| = L y_e : L e_v : Seeing(e) & patient(e,y)\n",
    "||ACTIVE|| = L f_<v,t> : L x_e : L e_v : f(e) & agent(e,x)"
   ]
  },
  {
   "cell_type": "code",
   "execution_count": 9,
   "metadata": {},
   "outputs": [
    {
     "data": {
      "text/html": [
       "1 composition path.  Result:\n",
       "<br />&nbsp;&nbsp;&nbsp;&nbsp;[0]: $[\\![\\mathbf{\\text{[[ACTIVE smokes] alfonso]}}]\\!]^{}_{\\left\\langle{}v,t\\right\\rangle{}} \\:=\\: $$\\lambda{} e_{v} \\: . \\: ({Smoking}_{\\left\\langle{}v,t\\right\\rangle{}}({e}) \\wedge{} {Agent}({e}, {Alfonso}_{e}))$"
      ],
      "text/plain": [
       "CompositionResult(results=[⟦[[ACTIVE smokes] alfonso]⟧ = (λ e_v: (Smoking_<v,t>(e_v) & Agent_<(v,e),t>(e_v, Alfonso_e)))], failures=[⟦[alfonso [ACTIVE smokes]]⟧ = Type mismatch: '⟦alfonso⟧ = Alfonso_e'/e and '⟦[ACTIVE smokes]⟧ = (λ x_e: (λ e_v: (Smoking_<v,t>(e_v) & Agent_<(v,e),t>(e_v, x_e))))'/<e,<v,t>> conflict (mode: Function Application), ⟦[alfonso [ACTIVE smokes]]⟧ = Type mismatch: '⟦alfonso⟧ = Alfonso_e'/e and '⟦[ACTIVE smokes]⟧ = (λ x_e: (λ e_v: (Smoking_<v,t>(e_v) & Agent_<(v,e),t>(e_v, x_e))))'/<e,<v,t>> conflict (mode: Predicate Modification), ⟦[alfonso [ACTIVE smokes]]⟧ = Type mismatch: '⟦alfonso⟧ = Alfonso_e'/e and '⟦[ACTIVE smokes]⟧ = (λ x_e: (λ e_v: (Smoking_<v,t>(e_v) & Agent_<(v,e),t>(e_v, x_e))))'/<e,<v,t>> conflict (mode: Predicate Abstraction), ⟦[[ACTIVE smokes] alfonso]⟧ = Type mismatch: '⟦[ACTIVE smokes]⟧ = (λ x_e: (λ e_v: (Smoking_<v,t>(e_v) & Agent_<(v,e),t>(e_v, x_e))))'/<e,<v,t>> and '⟦alfonso⟧ = Alfonso_e'/e conflict (mode: Predicate Abstraction)])"
      ]
     },
     "execution_count": 9,
     "metadata": {},
     "output_type": "execute_result"
    }
   ],
   "source": [
    "v = ACTIVE\n",
    "r = (alfonso * (v * smokes))\n",
    "r"
   ]
  },
  {
   "cell_type": "code",
   "execution_count": 10,
   "metadata": {},
   "outputs": [
    {
     "data": {
      "text/html": [
       "1 composition path.  Result:\n",
       "<br />&nbsp;&nbsp;&nbsp;&nbsp;[0]: $[\\![\\mathbf{\\text{[[ACTIVE [sees joanna]] alfonso]}}]\\!]^{}_{\\left\\langle{}v,t\\right\\rangle{}} \\:=\\: $$\\lambda{} e_{v} \\: . \\: (({Seeing}_{\\left\\langle{}v,t\\right\\rangle{}}({e}) \\wedge{} {Patient}({e}, {Joanna}_{e})) \\wedge{} {Agent}({e}, {Alfonso}_{e}))$"
      ],
      "text/plain": [
       "CompositionResult(results=[⟦[[ACTIVE [sees joanna]] alfonso]⟧ = (λ e_v: ((Seeing_<v,t>(e_v) & Patient_<(v,e),t>(e_v, Joanna_e)) & Agent_<(v,e),t>(e_v, Alfonso_e)))], failures=[⟦[alfonso [ACTIVE [sees joanna]]]⟧ = Type mismatch: '⟦alfonso⟧ = Alfonso_e'/e and '⟦[ACTIVE [sees joanna]]⟧ = (λ x_e: (λ e_v: ((Seeing_<v,t>(e_v) & Patient_<(v,e),t>(e_v, Joanna_e)) & Agent_<(v,e),t>(e_v, x_e))))'/<e,<v,t>> conflict (mode: Function Application), ⟦[alfonso [ACTIVE [sees joanna]]]⟧ = Type mismatch: '⟦alfonso⟧ = Alfonso_e'/e and '⟦[ACTIVE [sees joanna]]⟧ = (λ x_e: (λ e_v: ((Seeing_<v,t>(e_v) & Patient_<(v,e),t>(e_v, Joanna_e)) & Agent_<(v,e),t>(e_v, x_e))))'/<e,<v,t>> conflict (mode: Predicate Modification), ⟦[alfonso [ACTIVE [sees joanna]]]⟧ = Type mismatch: '⟦alfonso⟧ = Alfonso_e'/e and '⟦[ACTIVE [sees joanna]]⟧ = (λ x_e: (λ e_v: ((Seeing_<v,t>(e_v) & Patient_<(v,e),t>(e_v, Joanna_e)) & Agent_<(v,e),t>(e_v, x_e))))'/<e,<v,t>> conflict (mode: Predicate Abstraction), ⟦[[ACTIVE [sees joanna]] alfonso]⟧ = Type mismatch: '⟦[ACTIVE [sees joanna]]⟧ = (λ x_e: (λ e_v: ((Seeing_<v,t>(e_v) & Patient_<(v,e),t>(e_v, Joanna_e)) & Agent_<(v,e),t>(e_v, x_e))))'/<e,<v,t>> and '⟦alfonso⟧ = Alfonso_e'/e conflict (mode: Predicate Abstraction)])"
      ]
     },
     "execution_count": 10,
     "metadata": {},
     "output_type": "execute_result"
    }
   ],
   "source": [
    "r2 = (alfonso * (v * (sees * joanna)))\n",
    "r2"
   ]
  },
  {
   "cell_type": "code",
   "execution_count": 11,
   "metadata": {},
   "outputs": [
    {
     "data": {
      "text/html": [
       "1 composition path:<br /><style>.rendered_html table, .rendered_html tr, .rendered_html td, .rendered_html th { border: 0px; text-align:center; }</style><table><tr style=\"border:1px solid #848482\"><td style=\"vertical-align:bottom;padding:0px 10px\" align=\"center\"><table><tr><td style=\"vertical-align:bottom;padding:5px\"><table><tr style=\"border:1px solid #848482\"><td style=\"vertical-align:bottom;padding:0px 10px\" align=\"center\"><table><tr><td style=\"vertical-align:bottom;padding:5px\"><div style=\"margin-top:10px;border-style:solid;border-color:#848482;border-width:0px\"><div style=\"vertical-align:bottom;text-align:center\">$[\\![\\mathbf{\\text{ACTIVE}}]\\!]^{}_{\\left\\langle{}\\left\\langle{}v,t\\right\\rangle{},\\left\\langle{}e,\\left\\langle{}v,t\\right\\rangle{}\\right\\rangle{}\\right\\rangle{}}$</div><div style=\"vertical-align:bottom;text-align:center\">$\\lambda{} f_{\\left\\langle{}v,t\\right\\rangle{}} \\: . \\: \\lambda{} x_{e} \\: . \\: \\lambda{} e_{v} \\: . \\: ({f}({e}) \\wedge{} {Agent}({e}, {x}))$</div></div></td><td style=\"vertical-align:bottom;padding:10px\">$\\circ$</td><td style=\"vertical-align:bottom;padding:5px\"><table><tr style=\"border:1px solid #848482\"><td style=\"vertical-align:bottom;padding:0px 10px\" align=\"center\"><table><tr><td style=\"vertical-align:bottom;padding:5px\"><div style=\"margin-top:10px;border-style:solid;border-color:#848482;border-width:0px\"><div style=\"vertical-align:bottom;text-align:center\">$[\\![\\mathbf{\\text{sees}}]\\!]^{}_{\\left\\langle{}e,\\left\\langle{}v,t\\right\\rangle{}\\right\\rangle{}}$</div><div style=\"vertical-align:bottom;text-align:center\">$\\lambda{} y_{e} \\: . \\: \\lambda{} e_{v} \\: . \\: ({Seeing}_{\\left\\langle{}v,t\\right\\rangle{}}({e}) \\wedge{} {Patient}({e}, {y}))$</div></div></td><td style=\"vertical-align:bottom;padding:10px\">$\\circ$</td><td style=\"vertical-align:bottom;padding:5px\"><div style=\"margin-top:10px;border-style:solid;border-color:#848482;border-width:0px\"><div style=\"vertical-align:bottom;text-align:center\">$[\\![\\mathbf{\\text{joanna}}]\\!]^{}_{e}$</div><div style=\"vertical-align:bottom;text-align:center\">${Joanna}_{e}$</div></div></td></tr></table></td><td style=\"border-left:1px solid #848482;vertical-align:center;padding:10px\"><span style=\"color:blue\"><b>[FA]</b></span></td></tr><tr style=\"border-style:solid;border-color:#848482;border-width:0px 1px 1px 1px\"><td style=\"padding:5px\" align=\"center\"><div style=\"margin-top:10px;border-style:solid;border-color:#848482;border-width:0px\"><div style=\"vertical-align:bottom;text-align:center\">$[\\![\\mathbf{\\text{[sees joanna]}}]\\!]^{}_{\\left\\langle{}v,t\\right\\rangle{}}$</div><div style=\"vertical-align:bottom;text-align:center\">$\\lambda{} e_{v} \\: . \\: ({Seeing}_{\\left\\langle{}v,t\\right\\rangle{}}({e}) \\wedge{} {Patient}({e}, {Joanna}_{e}))$</div></div></td><td></td></tr></table></td></tr></table></td><td style=\"border-left:1px solid #848482;vertical-align:center;padding:10px\"><span style=\"color:blue\"><b>[FA]</b></span></td></tr><tr style=\"border-style:solid;border-color:#848482;border-width:0px 1px 1px 1px\"><td style=\"padding:5px\" align=\"center\"><div style=\"margin-top:10px;border-style:solid;border-color:#848482;border-width:0px\"><div style=\"vertical-align:bottom;text-align:center\">$[\\![\\mathbf{\\text{[ACTIVE [sees joanna]]}}]\\!]^{}_{\\left\\langle{}e,\\left\\langle{}v,t\\right\\rangle{}\\right\\rangle{}}$</div><div style=\"vertical-align:bottom;text-align:center\">$\\lambda{} x_{e} \\: . \\: \\lambda{} e_{v} \\: . \\: (({Seeing}_{\\left\\langle{}v,t\\right\\rangle{}}({e}) \\wedge{} {Patient}({e}, {Joanna}_{e})) \\wedge{} {Agent}({e}, {x}))$</div></div></td><td></td></tr></table></td><td style=\"vertical-align:bottom;padding:10px\">$\\circ$</td><td style=\"vertical-align:bottom;padding:5px\"><div style=\"margin-top:10px;border-style:solid;border-color:#848482;border-width:0px\"><div style=\"vertical-align:bottom;text-align:center\">$[\\![\\mathbf{\\text{alfonso}}]\\!]^{}_{e}$</div><div style=\"vertical-align:bottom;text-align:center\">${Alfonso}_{e}$</div></div></td></tr></table></td><td style=\"border-left:1px solid #848482;vertical-align:center;padding:10px\"><span style=\"color:blue\"><b>[FA]</b></span></td></tr><tr style=\"border-style:solid;border-color:#848482;border-width:0px 1px 1px 1px\"><td style=\"padding:5px\" align=\"center\"><div style=\"margin-top:10px;border-style:solid;border-color:#848482;border-width:0px\"><div style=\"vertical-align:bottom;text-align:center\">$[\\![\\mathbf{\\text{[[ACTIVE [sees joanna]] alfonso]}}]\\!]^{}_{\\left\\langle{}v,t\\right\\rangle{}}$</div><div style=\"vertical-align:bottom;text-align:center\">$\\lambda{} e_{v} \\: . \\: (({Seeing}_{\\left\\langle{}v,t\\right\\rangle{}}({e}) \\wedge{} {Patient}({e}, {Joanna}_{e})) \\wedge{} {Agent}({e}, {Alfonso}_{e}))$</div></div></td><td></td></tr></table><br /><br />"
      ],
      "text/latex": [
       "1 composition path:<br /><style>.rendered_html table, .rendered_html tr, .rendered_html td, .rendered_html th { border: 0px; text-align:center; }</style><table><tr style=\"border:1px solid #848482\"><td style=\"vertical-align:bottom;padding:0px 10px\" align=\"center\"><table><tr><td style=\"vertical-align:bottom;padding:5px\"><table><tr style=\"border:1px solid #848482\"><td style=\"vertical-align:bottom;padding:0px 10px\" align=\"center\"><table><tr><td style=\"vertical-align:bottom;padding:5px\"><div style=\"margin-top:10px;border-style:solid;border-color:#848482;border-width:0px\"><div style=\"vertical-align:bottom;text-align:center\">$[\\![\\mathbf{\\text{ACTIVE}}]\\!]^{}_{\\left\\langle{}\\left\\langle{}v,t\\right\\rangle{},\\left\\langle{}e,\\left\\langle{}v,t\\right\\rangle{}\\right\\rangle{}\\right\\rangle{}}$</div><div style=\"vertical-align:bottom;text-align:center\">$\\lambda{} f_{\\left\\langle{}v,t\\right\\rangle{}} \\: . \\: \\lambda{} x_{e} \\: . \\: \\lambda{} e_{v} \\: . \\: ({f}({e}) \\wedge{} {Agent}({e}, {x}))$</div></div></td><td style=\"vertical-align:bottom;padding:10px\">$\\circ$</td><td style=\"vertical-align:bottom;padding:5px\"><table><tr style=\"border:1px solid #848482\"><td style=\"vertical-align:bottom;padding:0px 10px\" align=\"center\"><table><tr><td style=\"vertical-align:bottom;padding:5px\"><div style=\"margin-top:10px;border-style:solid;border-color:#848482;border-width:0px\"><div style=\"vertical-align:bottom;text-align:center\">$[\\![\\mathbf{\\text{sees}}]\\!]^{}_{\\left\\langle{}e,\\left\\langle{}v,t\\right\\rangle{}\\right\\rangle{}}$</div><div style=\"vertical-align:bottom;text-align:center\">$\\lambda{} y_{e} \\: . \\: \\lambda{} e_{v} \\: . \\: ({Seeing}_{\\left\\langle{}v,t\\right\\rangle{}}({e}) \\wedge{} {Patient}({e}, {y}))$</div></div></td><td style=\"vertical-align:bottom;padding:10px\">$\\circ$</td><td style=\"vertical-align:bottom;padding:5px\"><div style=\"margin-top:10px;border-style:solid;border-color:#848482;border-width:0px\"><div style=\"vertical-align:bottom;text-align:center\">$[\\![\\mathbf{\\text{joanna}}]\\!]^{}_{e}$</div><div style=\"vertical-align:bottom;text-align:center\">${Joanna}_{e}$</div></div></td></tr></table></td><td style=\"border-left:1px solid #848482;vertical-align:center;padding:10px\"><span style=\"color:blue\"><b>[FA]</b></span></td></tr><tr style=\"border-style:solid;border-color:#848482;border-width:0px 1px 1px 1px\"><td style=\"padding:5px\" align=\"center\"><div style=\"margin-top:10px;border-style:solid;border-color:#848482;border-width:0px\"><div style=\"vertical-align:bottom;text-align:center\">$[\\![\\mathbf{\\text{[sees joanna]}}]\\!]^{}_{\\left\\langle{}v,t\\right\\rangle{}}$</div><div style=\"vertical-align:bottom;text-align:center\">$\\lambda{} e_{v} \\: . \\: ({Seeing}_{\\left\\langle{}v,t\\right\\rangle{}}({e}) \\wedge{} {Patient}({e}, {Joanna}_{e}))$</div></div></td><td></td></tr></table></td></tr></table></td><td style=\"border-left:1px solid #848482;vertical-align:center;padding:10px\"><span style=\"color:blue\"><b>[FA]</b></span></td></tr><tr style=\"border-style:solid;border-color:#848482;border-width:0px 1px 1px 1px\"><td style=\"padding:5px\" align=\"center\"><div style=\"margin-top:10px;border-style:solid;border-color:#848482;border-width:0px\"><div style=\"vertical-align:bottom;text-align:center\">$[\\![\\mathbf{\\text{[ACTIVE [sees joanna]]}}]\\!]^{}_{\\left\\langle{}e,\\left\\langle{}v,t\\right\\rangle{}\\right\\rangle{}}$</div><div style=\"vertical-align:bottom;text-align:center\">$\\lambda{} x_{e} \\: . \\: \\lambda{} e_{v} \\: . \\: (({Seeing}_{\\left\\langle{}v,t\\right\\rangle{}}({e}) \\wedge{} {Patient}({e}, {Joanna}_{e})) \\wedge{} {Agent}({e}, {x}))$</div></div></td><td></td></tr></table></td><td style=\"vertical-align:bottom;padding:10px\">$\\circ$</td><td style=\"vertical-align:bottom;padding:5px\"><div style=\"margin-top:10px;border-style:solid;border-color:#848482;border-width:0px\"><div style=\"vertical-align:bottom;text-align:center\">$[\\![\\mathbf{\\text{alfonso}}]\\!]^{}_{e}$</div><div style=\"vertical-align:bottom;text-align:center\">${Alfonso}_{e}$</div></div></td></tr></table></td><td style=\"border-left:1px solid #848482;vertical-align:center;padding:10px\"><span style=\"color:blue\"><b>[FA]</b></span></td></tr><tr style=\"border-style:solid;border-color:#848482;border-width:0px 1px 1px 1px\"><td style=\"padding:5px\" align=\"center\"><div style=\"margin-top:10px;border-style:solid;border-color:#848482;border-width:0px\"><div style=\"vertical-align:bottom;text-align:center\">$[\\![\\mathbf{\\text{[[ACTIVE [sees joanna]] alfonso]}}]\\!]^{}_{\\left\\langle{}v,t\\right\\rangle{}}$</div><div style=\"vertical-align:bottom;text-align:center\">$\\lambda{} e_{v} \\: . \\: (({Seeing}_{\\left\\langle{}v,t\\right\\rangle{}}({e}) \\wedge{} {Patient}({e}, {Joanna}_{e})) \\wedge{} {Agent}({e}, {Alfonso}_{e}))$</div></div></td><td></td></tr></table><br /><br />"
      ],
      "text/plain": [
       "1 composition path:<br /><style>.rendered_html table, .rendered_html tr, .rendered_html td, .rendered_html th { border: 0px; text-align:center; }</style><table><tr style=\"border:1px solid #848482\"><td style=\"vertical-align:bottom;padding:0px 10px\" align=\"center\"><table><tr><td style=\"vertical-align:bottom;padding:5px\"><table><tr style=\"border:1px solid #848482\"><td style=\"vertical-align:bottom;padding:0px 10px\" align=\"center\"><table><tr><td style=\"vertical-align:bottom;padding:5px\"><div style=\"margin-top:10px;border-style:solid;border-color:#848482;border-width:0px\"><div style=\"vertical-align:bottom;text-align:center\">$[\\![\\mathbf{\\text{ACTIVE}}]\\!]^{}_{\\left\\langle{}\\left\\langle{}v,t\\right\\rangle{},\\left\\langle{}e,\\left\\langle{}v,t\\right\\rangle{}\\right\\rangle{}\\right\\rangle{}}$</div><div style=\"vertical-align:bottom;text-align:center\">$\\lambda{} f_{\\left\\langle{}v,t\\right\\rangle{}} \\: . \\: \\lambda{} x_{e} \\: . \\: \\lambda{} e_{v} \\: . \\: ({f}({e}) \\wedge{} {Agent}({e}, {x}))$</div></div></td><td style=\"vertical-align:bottom;padding:10px\">$\\circ$</td><td style=\"vertical-align:bottom;padding:5px\"><table><tr style=\"border:1px solid #848482\"><td style=\"vertical-align:bottom;padding:0px 10px\" align=\"center\"><table><tr><td style=\"vertical-align:bottom;padding:5px\"><div style=\"margin-top:10px;border-style:solid;border-color:#848482;border-width:0px\"><div style=\"vertical-align:bottom;text-align:center\">$[\\![\\mathbf{\\text{sees}}]\\!]^{}_{\\left\\langle{}e,\\left\\langle{}v,t\\right\\rangle{}\\right\\rangle{}}$</div><div style=\"vertical-align:bottom;text-align:center\">$\\lambda{} y_{e} \\: . \\: \\lambda{} e_{v} \\: . \\: ({Seeing}_{\\left\\langle{}v,t\\right\\rangle{}}({e}) \\wedge{} {Patient}({e}, {y}))$</div></div></td><td style=\"vertical-align:bottom;padding:10px\">$\\circ$</td><td style=\"vertical-align:bottom;padding:5px\"><div style=\"margin-top:10px;border-style:solid;border-color:#848482;border-width:0px\"><div style=\"vertical-align:bottom;text-align:center\">$[\\![\\mathbf{\\text{joanna}}]\\!]^{}_{e}$</div><div style=\"vertical-align:bottom;text-align:center\">${Joanna}_{e}$</div></div></td></tr></table></td><td style=\"border-left:1px solid #848482;vertical-align:center;padding:10px\"><span style=\"color:blue\"><b>[FA]</b></span></td></tr><tr style=\"border-style:solid;border-color:#848482;border-width:0px 1px 1px 1px\"><td style=\"padding:5px\" align=\"center\"><div style=\"margin-top:10px;border-style:solid;border-color:#848482;border-width:0px\"><div style=\"vertical-align:bottom;text-align:center\">$[\\![\\mathbf{\\text{[sees joanna]}}]\\!]^{}_{\\left\\langle{}v,t\\right\\rangle{}}$</div><div style=\"vertical-align:bottom;text-align:center\">$\\lambda{} e_{v} \\: . \\: ({Seeing}_{\\left\\langle{}v,t\\right\\rangle{}}({e}) \\wedge{} {Patient}({e}, {Joanna}_{e}))$</div></div></td><td></td></tr></table></td></tr></table></td><td style=\"border-left:1px solid #848482;vertical-align:center;padding:10px\"><span style=\"color:blue\"><b>[FA]</b></span></td></tr><tr style=\"border-style:solid;border-color:#848482;border-width:0px 1px 1px 1px\"><td style=\"padding:5px\" align=\"center\"><div style=\"margin-top:10px;border-style:solid;border-color:#848482;border-width:0px\"><div style=\"vertical-align:bottom;text-align:center\">$[\\![\\mathbf{\\text{[ACTIVE [sees joanna]]}}]\\!]^{}_{\\left\\langle{}e,\\left\\langle{}v,t\\right\\rangle{}\\right\\rangle{}}$</div><div style=\"vertical-align:bottom;text-align:center\">$\\lambda{} x_{e} \\: . \\: \\lambda{} e_{v} \\: . \\: (({Seeing}_{\\left\\langle{}v,t\\right\\rangle{}}({e}) \\wedge{} {Patient}({e}, {Joanna}_{e})) \\wedge{} {Agent}({e}, {x}))$</div></div></td><td></td></tr></table></td><td style=\"vertical-align:bottom;padding:10px\">$\\circ$</td><td style=\"vertical-align:bottom;padding:5px\"><div style=\"margin-top:10px;border-style:solid;border-color:#848482;border-width:0px\"><div style=\"vertical-align:bottom;text-align:center\">$[\\![\\mathbf{\\text{alfonso}}]\\!]^{}_{e}$</div><div style=\"vertical-align:bottom;text-align:center\">${Alfonso}_{e}$</div></div></td></tr></table></td><td style=\"border-left:1px solid #848482;vertical-align:center;padding:10px\"><span style=\"color:blue\"><b>[FA]</b></span></td></tr><tr style=\"border-style:solid;border-color:#848482;border-width:0px 1px 1px 1px\"><td style=\"padding:5px\" align=\"center\"><div style=\"margin-top:10px;border-style:solid;border-color:#848482;border-width:0px\"><div style=\"vertical-align:bottom;text-align:center\">$[\\![\\mathbf{\\text{[[ACTIVE [sees joanna]] alfonso]}}]\\!]^{}_{\\left\\langle{}v,t\\right\\rangle{}}$</div><div style=\"vertical-align:bottom;text-align:center\">$\\lambda{} e_{v} \\: . \\: (({Seeing}_{\\left\\langle{}v,t\\right\\rangle{}}({e}) \\wedge{} {Patient}({e}, {Joanna}_{e})) \\wedge{} {Agent}({e}, {Alfonso}_{e}))$</div></div></td><td></td></tr></table><br /><br />"
      ]
     },
     "execution_count": 11,
     "metadata": {},
     "output_type": "execute_result"
    }
   ],
   "source": [
    "r2.tree()"
   ]
  },
  {
   "cell_type": "markdown",
   "metadata": {},
   "source": [
    "Despite the complicated sequence of composition, the end result is just a conjunction of event properties (more or less).\n",
    "\n",
    "Now, adverbs have a simple treatment, analogous to adjectives:"
   ]
  },
  {
   "cell_type": "code",
   "execution_count": 12,
   "metadata": {},
   "outputs": [
    {
     "name": "stdout",
     "output_type": "stream",
     "text": [
      "INFO (meta): Coerced guessed type for 'Dancing_t' into <v,t>, to match argument 'e_v'\n",
      "INFO (meta): Coerced guessed type for 'Slow_t' into <v,t>, to match argument 'e_v'\n",
      "INFO (meta): Coerced guessed type for 'Loc_t' into <(v,e),t>, to match argument '(e_v, x_e)'\n",
      "INFO (meta): Coerced guessed type for 'Kitchen_t' into <e,t>, to match argument 'x_e'\n"
     ]
    },
    {
     "data": {
      "text/html": [
       "$[\\![\\mathbf{\\text{dance}}]\\!]^{}_{\\left\\langle{}v,t\\right\\rangle{}} \\:=\\: $$\\lambda{} e_{v} \\: . \\: {Dancing}_{\\left\\langle{}v,t\\right\\rangle{}}({e})$<br />\n",
       "$[\\![\\mathbf{\\text{slowly}}]\\!]^{}_{\\left\\langle{}\\left\\langle{}v,t\\right\\rangle{},\\left\\langle{}v,t\\right\\rangle{}\\right\\rangle{}} \\:=\\: $$\\lambda{} f_{\\left\\langle{}v,t\\right\\rangle{}} \\: . \\: \\lambda{} e_{v} \\: . \\: ({f}({e}) \\wedge{} {Slow}_{\\left\\langle{}v,t\\right\\rangle{}}({e}))$<br />\n",
       "$[\\![\\mathbf{\\text{inP}}]\\!]^{}_{\\left\\langle{}e,\\left\\langle{}\\left\\langle{}v,t\\right\\rangle{},\\left\\langle{}v,t\\right\\rangle{}\\right\\rangle{}\\right\\rangle{}} \\:=\\: $$\\lambda{} x_{e} \\: . \\: \\lambda{} f_{\\left\\langle{}v,t\\right\\rangle{}} \\: . \\: \\lambda{} e_{v} \\: . \\: ({f}({e}) \\wedge{} {Loc}({e}, {x}))$<br />\n",
       "$[\\![\\mathbf{\\text{the}}]\\!]^{}_{\\left\\langle{}\\left\\langle{}e,t\\right\\rangle{},e\\right\\rangle{}} \\:=\\: $$\\lambda{} f_{\\left\\langle{}e,t\\right\\rangle{}} \\: . \\: \\iota{} x_{e} \\: . \\: {f}({x})$<br />\n",
       "$[\\![\\mathbf{\\text{kitchen}}]\\!]^{}_{\\left\\langle{}e,t\\right\\rangle{}} \\:=\\: $$\\lambda{} x_{e} \\: . \\: {Kitchen}({x})$"
      ],
      "text/latex": [
       "$[\\![\\mathbf{\\text{dance}}]\\!]^{}_{\\left\\langle{}v,t\\right\\rangle{}} \\:=\\: $$\\lambda{} e_{v} \\: . \\: {Dancing}_{\\left\\langle{}v,t\\right\\rangle{}}({e})$<br />\n",
       "$[\\![\\mathbf{\\text{slowly}}]\\!]^{}_{\\left\\langle{}\\left\\langle{}v,t\\right\\rangle{},\\left\\langle{}v,t\\right\\rangle{}\\right\\rangle{}} \\:=\\: $$\\lambda{} f_{\\left\\langle{}v,t\\right\\rangle{}} \\: . \\: \\lambda{} e_{v} \\: . \\: ({f}({e}) \\wedge{} {Slow}_{\\left\\langle{}v,t\\right\\rangle{}}({e}))$<br />\n",
       "$[\\![\\mathbf{\\text{inP}}]\\!]^{}_{\\left\\langle{}e,\\left\\langle{}\\left\\langle{}v,t\\right\\rangle{},\\left\\langle{}v,t\\right\\rangle{}\\right\\rangle{}\\right\\rangle{}} \\:=\\: $$\\lambda{} x_{e} \\: . \\: \\lambda{} f_{\\left\\langle{}v,t\\right\\rangle{}} \\: . \\: \\lambda{} e_{v} \\: . \\: ({f}({e}) \\wedge{} {Loc}({e}, {x}))$<br />\n",
       "$[\\![\\mathbf{\\text{the}}]\\!]^{}_{\\left\\langle{}\\left\\langle{}e,t\\right\\rangle{},e\\right\\rangle{}} \\:=\\: $$\\lambda{} f_{\\left\\langle{}e,t\\right\\rangle{}} \\: . \\: \\iota{} x_{e} \\: . \\: {f}({x})$<br />\n",
       "$[\\![\\mathbf{\\text{kitchen}}]\\!]^{}_{\\left\\langle{}e,t\\right\\rangle{}} \\:=\\: $$\\lambda{} x_{e} \\: . \\: {Kitchen}({x})$"
      ],
      "text/plain": [
       "$[\\![\\mathbf{\\text{dance}}]\\!]^{}_{\\left\\langle{}v,t\\right\\rangle{}} \\:=\\: $$\\lambda{} e_{v} \\: . \\: {Dancing}_{\\left\\langle{}v,t\\right\\rangle{}}({e})$<br />\n",
       "$[\\![\\mathbf{\\text{slowly}}]\\!]^{}_{\\left\\langle{}\\left\\langle{}v,t\\right\\rangle{},\\left\\langle{}v,t\\right\\rangle{}\\right\\rangle{}} \\:=\\: $$\\lambda{} f_{\\left\\langle{}v,t\\right\\rangle{}} \\: . \\: \\lambda{} e_{v} \\: . \\: ({f}({e}) \\wedge{} {Slow}_{\\left\\langle{}v,t\\right\\rangle{}}({e}))$<br />\n",
       "$[\\![\\mathbf{\\text{inP}}]\\!]^{}_{\\left\\langle{}e,\\left\\langle{}\\left\\langle{}v,t\\right\\rangle{},\\left\\langle{}v,t\\right\\rangle{}\\right\\rangle{}\\right\\rangle{}} \\:=\\: $$\\lambda{} x_{e} \\: . \\: \\lambda{} f_{\\left\\langle{}v,t\\right\\rangle{}} \\: . \\: \\lambda{} e_{v} \\: . \\: ({f}({e}) \\wedge{} {Loc}({e}, {x}))$<br />\n",
       "$[\\![\\mathbf{\\text{the}}]\\!]^{}_{\\left\\langle{}\\left\\langle{}e,t\\right\\rangle{},e\\right\\rangle{}} \\:=\\: $$\\lambda{} f_{\\left\\langle{}e,t\\right\\rangle{}} \\: . \\: \\iota{} x_{e} \\: . \\: {f}({x})$<br />\n",
       "$[\\![\\mathbf{\\text{kitchen}}]\\!]^{}_{\\left\\langle{}e,t\\right\\rangle{}} \\:=\\: $$\\lambda{} x_{e} \\: . \\: {Kitchen}({x})$"
      ]
     },
     "execution_count": 12,
     "metadata": {},
     "output_type": "execute_result"
    }
   ],
   "source": [
    "%%lamb\n",
    "||dance|| = L e_v : Dancing(e)\n",
    "||slowly|| = L f_<v,t> : L e_v : f(e) & Slow(e)\n",
    "||inP|| = L x_e : L f_<v,t> : L e_v : f(e) & Loc(e, x)\n",
    "||the|| = L f_<e,t> : Iota x_e : f(x)\n",
    "||kitchen|| = L x_e : Kitchen(x)"
   ]
  },
  {
   "cell_type": "code",
   "execution_count": 13,
   "metadata": {},
   "outputs": [
    {
     "data": {
      "text/html": [
       "1 composition path.  Result:\n",
       "<br />&nbsp;&nbsp;&nbsp;&nbsp;[0]: $[\\![\\mathbf{\\text{[inP [the kitchen]]}}]\\!]^{}_{\\left\\langle{}\\left\\langle{}v,t\\right\\rangle{},\\left\\langle{}v,t\\right\\rangle{}\\right\\rangle{}} \\:=\\: $$\\lambda{} f_{\\left\\langle{}v,t\\right\\rangle{}} \\: . \\: \\lambda{} e_{v} \\: . \\: ({f}({e}) \\wedge{} {Loc}({e}, \\iota{} x_{e} \\: . \\: {Kitchen}({x})))$"
      ],
      "text/plain": [
       "CompositionResult(results=[⟦[inP [the kitchen]]⟧ = (λ f_<v,t>: (λ e_v: (f_<v,t>(e_v) & Loc_<(v,e),t>(e_v, (ι x_e: Kitchen_<e,t>(x_e))))))], failures=[⟦[[the kitchen] inP]⟧ = Type mismatch: '⟦[the kitchen]⟧ = (ι x_e: Kitchen_<e,t>(x_e))'/e and '⟦inP⟧ = (λ x_e: (λ f_<v,t>: (λ e_v: (f_<v,t>(e_v) & Loc_<(v,e),t>(e_v, x_e)))))'/<e,<<v,t>,<v,t>>> conflict (mode: Function Application), ⟦[inP [the kitchen]]⟧ = Type mismatch: '⟦inP⟧ = (λ x_e: (λ f_<v,t>: (λ e_v: (f_<v,t>(e_v) & Loc_<(v,e),t>(e_v, x_e)))))'/<e,<<v,t>,<v,t>>> and '⟦[the kitchen]⟧ = (ι x_e: Kitchen_<e,t>(x_e))'/e conflict (mode: Predicate Modification), ⟦[inP [the kitchen]]⟧ = Type mismatch: '⟦inP⟧ = (λ x_e: (λ f_<v,t>: (λ e_v: (f_<v,t>(e_v) & Loc_<(v,e),t>(e_v, x_e)))))'/<e,<<v,t>,<v,t>>> and '⟦[the kitchen]⟧ = (ι x_e: Kitchen_<e,t>(x_e))'/e conflict (mode: Predicate Abstraction), ⟦[[the kitchen] inP]⟧ = Type mismatch: '⟦[the kitchen]⟧ = (ι x_e: Kitchen_<e,t>(x_e))'/e and '⟦inP⟧ = (λ x_e: (λ f_<v,t>: (λ e_v: (f_<v,t>(e_v) & Loc_<(v,e),t>(e_v, x_e)))))'/<e,<<v,t>,<v,t>>> conflict (mode: Predicate Abstraction)])"
      ]
     },
     "execution_count": 13,
     "metadata": {},
     "output_type": "execute_result"
    }
   ],
   "source": [
    "itk = inP * (the * kitchen)\n",
    "itk"
   ]
  },
  {
   "cell_type": "code",
   "execution_count": 14,
   "metadata": {},
   "outputs": [
    {
     "data": {
      "text/html": [
       "1 composition path.  Result:\n",
       "<br />&nbsp;&nbsp;&nbsp;&nbsp;[0]: $[\\![\\mathbf{\\text{[[ACTIVE dance] alfonso]}}]\\!]^{}_{\\left\\langle{}v,t\\right\\rangle{}} \\:=\\: $$\\lambda{} e_{v} \\: . \\: ({Dancing}_{\\left\\langle{}v,t\\right\\rangle{}}({e}) \\wedge{} {Agent}({e}, {Alfonso}_{e}))$<br />1 composition path.  Result:\n",
       "<br />&nbsp;&nbsp;&nbsp;&nbsp;[0]: $[\\![\\mathbf{\\text{[[ACTIVE [slowly dance]] alfonso]}}]\\!]^{}_{\\left\\langle{}v,t\\right\\rangle{}} \\:=\\: $$\\lambda{} e_{v} \\: . \\: (({Dancing}_{\\left\\langle{}v,t\\right\\rangle{}}({e}) \\wedge{} {Slow}_{\\left\\langle{}v,t\\right\\rangle{}}({e})) \\wedge{} {Agent}({e}, {Alfonso}_{e}))$<br />1 composition path.  Result:\n",
       "<br />&nbsp;&nbsp;&nbsp;&nbsp;[0]: $[\\![\\mathbf{\\text{[[ACTIVE [[inP [the kitchen]] dance]] alfonso]}}]\\!]^{}_{\\left\\langle{}v,t\\right\\rangle{}} \\:=\\: $$\\lambda{} e_{v} \\: . \\: (({Dancing}_{\\left\\langle{}v,t\\right\\rangle{}}({e}) \\wedge{} {Loc}({e}, \\iota{} x_{e} \\: . \\: {Kitchen}({x}))) \\wedge{} {Agent}({e}, {Alfonso}_{e}))$<br />1 composition path.  Result:\n",
       "<br />&nbsp;&nbsp;&nbsp;&nbsp;[0]: $[\\![\\mathbf{\\text{[[ACTIVE [[inP [the kitchen]] [slowly dance]]] alfonso]}}]\\!]^{}_{\\left\\langle{}v,t\\right\\rangle{}} \\:=\\: $$\\lambda{} e_{v} \\: . \\: ((({Dancing}_{\\left\\langle{}v,t\\right\\rangle{}}({e}) \\wedge{} {Slow}_{\\left\\langle{}v,t\\right\\rangle{}}({e})) \\wedge{} {Loc}({e}, \\iota{} x_{e} \\: . \\: {Kitchen}({x}))) \\wedge{} {Agent}({e}, {Alfonso}_{e}))$<br />"
      ],
      "text/latex": [
       "1 composition path.  Result:\n",
       "<br />&nbsp;&nbsp;&nbsp;&nbsp;[0]: $[\\![\\mathbf{\\text{[[ACTIVE dance] alfonso]}}]\\!]^{}_{\\left\\langle{}v,t\\right\\rangle{}} \\:=\\: $$\\lambda{} e_{v} \\: . \\: ({Dancing}_{\\left\\langle{}v,t\\right\\rangle{}}({e}) \\wedge{} {Agent}({e}, {Alfonso}_{e}))$<br />1 composition path.  Result:\n",
       "<br />&nbsp;&nbsp;&nbsp;&nbsp;[0]: $[\\![\\mathbf{\\text{[[ACTIVE [slowly dance]] alfonso]}}]\\!]^{}_{\\left\\langle{}v,t\\right\\rangle{}} \\:=\\: $$\\lambda{} e_{v} \\: . \\: (({Dancing}_{\\left\\langle{}v,t\\right\\rangle{}}({e}) \\wedge{} {Slow}_{\\left\\langle{}v,t\\right\\rangle{}}({e})) \\wedge{} {Agent}({e}, {Alfonso}_{e}))$<br />1 composition path.  Result:\n",
       "<br />&nbsp;&nbsp;&nbsp;&nbsp;[0]: $[\\![\\mathbf{\\text{[[ACTIVE [[inP [the kitchen]] dance]] alfonso]}}]\\!]^{}_{\\left\\langle{}v,t\\right\\rangle{}} \\:=\\: $$\\lambda{} e_{v} \\: . \\: (({Dancing}_{\\left\\langle{}v,t\\right\\rangle{}}({e}) \\wedge{} {Loc}({e}, \\iota{} x_{e} \\: . \\: {Kitchen}({x}))) \\wedge{} {Agent}({e}, {Alfonso}_{e}))$<br />1 composition path.  Result:\n",
       "<br />&nbsp;&nbsp;&nbsp;&nbsp;[0]: $[\\![\\mathbf{\\text{[[ACTIVE [[inP [the kitchen]] [slowly dance]]] alfonso]}}]\\!]^{}_{\\left\\langle{}v,t\\right\\rangle{}} \\:=\\: $$\\lambda{} e_{v} \\: . \\: ((({Dancing}_{\\left\\langle{}v,t\\right\\rangle{}}({e}) \\wedge{} {Slow}_{\\left\\langle{}v,t\\right\\rangle{}}({e})) \\wedge{} {Loc}({e}, \\iota{} x_{e} \\: . \\: {Kitchen}({x}))) \\wedge{} {Agent}({e}, {Alfonso}_{e}))$<br />"
      ],
      "text/plain": [
       "1 composition path.  Result:\n",
       "<br />&nbsp;&nbsp;&nbsp;&nbsp;[0]: $[\\![\\mathbf{\\text{[[ACTIVE dance] alfonso]}}]\\!]^{}_{\\left\\langle{}v,t\\right\\rangle{}} \\:=\\: $$\\lambda{} e_{v} \\: . \\: ({Dancing}_{\\left\\langle{}v,t\\right\\rangle{}}({e}) \\wedge{} {Agent}({e}, {Alfonso}_{e}))$<br />1 composition path.  Result:\n",
       "<br />&nbsp;&nbsp;&nbsp;&nbsp;[0]: $[\\![\\mathbf{\\text{[[ACTIVE [slowly dance]] alfonso]}}]\\!]^{}_{\\left\\langle{}v,t\\right\\rangle{}} \\:=\\: $$\\lambda{} e_{v} \\: . \\: (({Dancing}_{\\left\\langle{}v,t\\right\\rangle{}}({e}) \\wedge{} {Slow}_{\\left\\langle{}v,t\\right\\rangle{}}({e})) \\wedge{} {Agent}({e}, {Alfonso}_{e}))$<br />1 composition path.  Result:\n",
       "<br />&nbsp;&nbsp;&nbsp;&nbsp;[0]: $[\\![\\mathbf{\\text{[[ACTIVE [[inP [the kitchen]] dance]] alfonso]}}]\\!]^{}_{\\left\\langle{}v,t\\right\\rangle{}} \\:=\\: $$\\lambda{} e_{v} \\: . \\: (({Dancing}_{\\left\\langle{}v,t\\right\\rangle{}}({e}) \\wedge{} {Loc}({e}, \\iota{} x_{e} \\: . \\: {Kitchen}({x}))) \\wedge{} {Agent}({e}, {Alfonso}_{e}))$<br />1 composition path.  Result:\n",
       "<br />&nbsp;&nbsp;&nbsp;&nbsp;[0]: $[\\![\\mathbf{\\text{[[ACTIVE [[inP [the kitchen]] [slowly dance]]] alfonso]}}]\\!]^{}_{\\left\\langle{}v,t\\right\\rangle{}} \\:=\\: $$\\lambda{} e_{v} \\: . \\: ((({Dancing}_{\\left\\langle{}v,t\\right\\rangle{}}({e}) \\wedge{} {Slow}_{\\left\\langle{}v,t\\right\\rangle{}}({e})) \\wedge{} {Loc}({e}, \\iota{} x_{e} \\: . \\: {Kitchen}({x}))) \\wedge{} {Agent}({e}, {Alfonso}_{e}))$<br />"
      ]
     },
     "execution_count": 14,
     "metadata": {},
     "output_type": "execute_result"
    }
   ],
   "source": [
    "dance0 = (alfonso * (v * dance))\n",
    "dance1 = (alfonso * (v * (dance * slowly)))\n",
    "dance2 = (alfonso * (v * (dance * itk)))\n",
    "dance3 = (alfonso * (v * ((dance * slowly) * itk)))\n",
    "ltx_print(dance0, dance1, dance2, dance3)"
   ]
  },
  {
   "cell_type": "code",
   "execution_count": 15,
   "metadata": {},
   "outputs": [
    {
     "data": {
      "text/html": [
       "1 composition path:<br /><style>.rendered_html table, .rendered_html tr, .rendered_html td, .rendered_html th { border: 0px; text-align:center; }</style><table><tr style=\"border:1px solid #848482\"><td style=\"vertical-align:bottom;padding:0px 10px\" align=\"center\"><table><tr><td style=\"vertical-align:bottom;padding:5px\"><table><tr style=\"border:1px solid #848482\"><td style=\"vertical-align:bottom;padding:0px 10px\" align=\"center\"><table><tr><td style=\"vertical-align:bottom;padding:5px\"><div style=\"margin-top:10px;border-style:solid;border-color:#848482;border-width:0px\"><div style=\"vertical-align:bottom;text-align:center\">$[\\![\\mathbf{\\text{ACTIVE}}]\\!]^{}_{\\left\\langle{}\\left\\langle{}v,t\\right\\rangle{},\\left\\langle{}e,\\left\\langle{}v,t\\right\\rangle{}\\right\\rangle{}\\right\\rangle{}}$</div><div style=\"vertical-align:bottom;text-align:center\">$\\lambda{} f_{\\left\\langle{}v,t\\right\\rangle{}} \\: . \\: \\lambda{} x_{e} \\: . \\: \\lambda{} e_{v} \\: . \\: ({f}({e}) \\wedge{} {Agent}({e}, {x}))$</div></div></td><td style=\"vertical-align:bottom;padding:10px\">$\\circ$</td><td style=\"vertical-align:bottom;padding:5px\"><table><tr style=\"border:1px solid #848482\"><td style=\"vertical-align:bottom;padding:0px 10px\" align=\"center\"><table><tr><td style=\"vertical-align:bottom;padding:5px\"><table><tr style=\"border:1px solid #848482\"><td style=\"vertical-align:bottom;padding:0px 10px\" align=\"center\"><table><tr><td style=\"vertical-align:bottom;padding:5px\"><div style=\"margin-top:10px;border-style:solid;border-color:#848482;border-width:0px\"><div style=\"vertical-align:bottom;text-align:center\">$[\\![\\mathbf{\\text{inP}}]\\!]^{}_{\\left\\langle{}e,\\left\\langle{}\\left\\langle{}v,t\\right\\rangle{},\\left\\langle{}v,t\\right\\rangle{}\\right\\rangle{}\\right\\rangle{}}$</div><div style=\"vertical-align:bottom;text-align:center\">$\\lambda{} x_{e} \\: . \\: \\lambda{} f_{\\left\\langle{}v,t\\right\\rangle{}} \\: . \\: \\lambda{} e_{v} \\: . \\: ({f}({e}) \\wedge{} {Loc}({e}, {x}))$</div></div></td><td style=\"vertical-align:bottom;padding:10px\">$\\circ$</td><td style=\"vertical-align:bottom;padding:5px\"><table><tr style=\"border:1px solid #848482\"><td style=\"vertical-align:bottom;padding:0px 10px\" align=\"center\"><table><tr><td style=\"vertical-align:bottom;padding:5px\"><div style=\"margin-top:10px;border-style:solid;border-color:#848482;border-width:0px\"><div style=\"vertical-align:bottom;text-align:center\">$[\\![\\mathbf{\\text{the}}]\\!]^{}_{\\left\\langle{}\\left\\langle{}e,t\\right\\rangle{},e\\right\\rangle{}}$</div><div style=\"vertical-align:bottom;text-align:center\">$\\lambda{} f_{\\left\\langle{}e,t\\right\\rangle{}} \\: . \\: \\iota{} x_{e} \\: . \\: {f}({x})$</div></div></td><td style=\"vertical-align:bottom;padding:10px\">$\\circ$</td><td style=\"vertical-align:bottom;padding:5px\"><div style=\"margin-top:10px;border-style:solid;border-color:#848482;border-width:0px\"><div style=\"vertical-align:bottom;text-align:center\">$[\\![\\mathbf{\\text{kitchen}}]\\!]^{}_{\\left\\langle{}e,t\\right\\rangle{}}$</div><div style=\"vertical-align:bottom;text-align:center\">$\\lambda{} x_{e} \\: . \\: {Kitchen}({x})$</div></div></td></tr></table></td><td style=\"border-left:1px solid #848482;vertical-align:center;padding:10px\"><span style=\"color:blue\"><b>[FA]</b></span></td></tr><tr style=\"border-style:solid;border-color:#848482;border-width:0px 1px 1px 1px\"><td style=\"padding:5px\" align=\"center\"><div style=\"margin-top:10px;border-style:solid;border-color:#848482;border-width:0px\"><div style=\"vertical-align:bottom;text-align:center\">$[\\![\\mathbf{\\text{[the kitchen]}}]\\!]^{}_{e}$</div><div style=\"vertical-align:bottom;text-align:center\">$\\iota{} x_{e} \\: . \\: {Kitchen}({x})$</div></div></td><td></td></tr></table></td></tr></table></td><td style=\"border-left:1px solid #848482;vertical-align:center;padding:10px\"><span style=\"color:blue\"><b>[FA]</b></span></td></tr><tr style=\"border-style:solid;border-color:#848482;border-width:0px 1px 1px 1px\"><td style=\"padding:5px\" align=\"center\"><div style=\"margin-top:10px;border-style:solid;border-color:#848482;border-width:0px\"><div style=\"vertical-align:bottom;text-align:center\">$[\\![\\mathbf{\\text{[inP [the kitchen]]}}]\\!]^{}_{\\left\\langle{}\\left\\langle{}v,t\\right\\rangle{},\\left\\langle{}v,t\\right\\rangle{}\\right\\rangle{}}$</div><div style=\"vertical-align:bottom;text-align:center\">$\\lambda{} f_{\\left\\langle{}v,t\\right\\rangle{}} \\: . \\: \\lambda{} e_{v} \\: . \\: ({f}({e}) \\wedge{} {Loc}({e}, \\iota{} x_{e} \\: . \\: {Kitchen}({x})))$</div></div></td><td></td></tr></table></td><td style=\"vertical-align:bottom;padding:10px\">$\\circ$</td><td style=\"vertical-align:bottom;padding:5px\"><table><tr style=\"border:1px solid #848482\"><td style=\"vertical-align:bottom;padding:0px 10px\" align=\"center\"><table><tr><td style=\"vertical-align:bottom;padding:5px\"><div style=\"margin-top:10px;border-style:solid;border-color:#848482;border-width:0px\"><div style=\"vertical-align:bottom;text-align:center\">$[\\![\\mathbf{\\text{slowly}}]\\!]^{}_{\\left\\langle{}\\left\\langle{}v,t\\right\\rangle{},\\left\\langle{}v,t\\right\\rangle{}\\right\\rangle{}}$</div><div style=\"vertical-align:bottom;text-align:center\">$\\lambda{} f_{\\left\\langle{}v,t\\right\\rangle{}} \\: . \\: \\lambda{} e_{v} \\: . \\: ({f}({e}) \\wedge{} {Slow}_{\\left\\langle{}v,t\\right\\rangle{}}({e}))$</div></div></td><td style=\"vertical-align:bottom;padding:10px\">$\\circ$</td><td style=\"vertical-align:bottom;padding:5px\"><div style=\"margin-top:10px;border-style:solid;border-color:#848482;border-width:0px\"><div style=\"vertical-align:bottom;text-align:center\">$[\\![\\mathbf{\\text{dance}}]\\!]^{}_{\\left\\langle{}v,t\\right\\rangle{}}$</div><div style=\"vertical-align:bottom;text-align:center\">$\\lambda{} e_{v} \\: . \\: {Dancing}_{\\left\\langle{}v,t\\right\\rangle{}}({e})$</div></div></td></tr></table></td><td style=\"border-left:1px solid #848482;vertical-align:center;padding:10px\"><span style=\"color:blue\"><b>[FA]</b></span></td></tr><tr style=\"border-style:solid;border-color:#848482;border-width:0px 1px 1px 1px\"><td style=\"padding:5px\" align=\"center\"><div style=\"margin-top:10px;border-style:solid;border-color:#848482;border-width:0px\"><div style=\"vertical-align:bottom;text-align:center\">$[\\![\\mathbf{\\text{[slowly dance]}}]\\!]^{}_{\\left\\langle{}v,t\\right\\rangle{}}$</div><div style=\"vertical-align:bottom;text-align:center\">$\\lambda{} e_{v} \\: . \\: ({Dancing}_{\\left\\langle{}v,t\\right\\rangle{}}({e}) \\wedge{} {Slow}_{\\left\\langle{}v,t\\right\\rangle{}}({e}))$</div></div></td><td></td></tr></table></td></tr></table></td><td style=\"border-left:1px solid #848482;vertical-align:center;padding:10px\"><span style=\"color:blue\"><b>[FA]</b></span></td></tr><tr style=\"border-style:solid;border-color:#848482;border-width:0px 1px 1px 1px\"><td style=\"padding:5px\" align=\"center\"><div style=\"margin-top:10px;border-style:solid;border-color:#848482;border-width:0px\"><div style=\"vertical-align:bottom;text-align:center\">$[\\![\\mathbf{\\text{[[inP [the kitchen]] [slowly dance]]}}]\\!]^{}_{\\left\\langle{}v,t\\right\\rangle{}}$</div><div style=\"vertical-align:bottom;text-align:center\">$\\lambda{} e_{v} \\: . \\: (({Dancing}_{\\left\\langle{}v,t\\right\\rangle{}}({e}) \\wedge{} {Slow}_{\\left\\langle{}v,t\\right\\rangle{}}({e})) \\wedge{} {Loc}({e}, \\iota{} x_{e} \\: . \\: {Kitchen}({x})))$</div></div></td><td></td></tr></table></td></tr></table></td><td style=\"border-left:1px solid #848482;vertical-align:center;padding:10px\"><span style=\"color:blue\"><b>[FA]</b></span></td></tr><tr style=\"border-style:solid;border-color:#848482;border-width:0px 1px 1px 1px\"><td style=\"padding:5px\" align=\"center\"><div style=\"margin-top:10px;border-style:solid;border-color:#848482;border-width:0px\"><div style=\"vertical-align:bottom;text-align:center\">$[\\![\\mathbf{\\text{[ACTIVE [[inP [the kitchen]] [slowly dance]]]}}]\\!]^{}_{\\left\\langle{}e,\\left\\langle{}v,t\\right\\rangle{}\\right\\rangle{}}$</div><div style=\"vertical-align:bottom;text-align:center\">$\\lambda{} x_{e} \\: . \\: \\lambda{} e_{v} \\: . \\: ((({Dancing}_{\\left\\langle{}v,t\\right\\rangle{}}({e}) \\wedge{} {Slow}_{\\left\\langle{}v,t\\right\\rangle{}}({e})) \\wedge{} {Loc}({e}, \\iota{} x_{e} \\: . \\: {Kitchen}({x}))) \\wedge{} {Agent}({e}, {x}))$</div></div></td><td></td></tr></table></td><td style=\"vertical-align:bottom;padding:10px\">$\\circ$</td><td style=\"vertical-align:bottom;padding:5px\"><div style=\"margin-top:10px;border-style:solid;border-color:#848482;border-width:0px\"><div style=\"vertical-align:bottom;text-align:center\">$[\\![\\mathbf{\\text{alfonso}}]\\!]^{}_{e}$</div><div style=\"vertical-align:bottom;text-align:center\">${Alfonso}_{e}$</div></div></td></tr></table></td><td style=\"border-left:1px solid #848482;vertical-align:center;padding:10px\"><span style=\"color:blue\"><b>[FA]</b></span></td></tr><tr style=\"border-style:solid;border-color:#848482;border-width:0px 1px 1px 1px\"><td style=\"padding:5px\" align=\"center\"><div style=\"margin-top:10px;border-style:solid;border-color:#848482;border-width:0px\"><div style=\"vertical-align:bottom;text-align:center\">$[\\![\\mathbf{\\text{[[ACTIVE [[inP [the kitchen]] [slowly dance]]] alfonso]}}]\\!]^{}_{\\left\\langle{}v,t\\right\\rangle{}}$</div><div style=\"vertical-align:bottom;text-align:center\">$\\lambda{} e_{v} \\: . \\: ((({Dancing}_{\\left\\langle{}v,t\\right\\rangle{}}({e}) \\wedge{} {Slow}_{\\left\\langle{}v,t\\right\\rangle{}}({e})) \\wedge{} {Loc}({e}, \\iota{} x_{e} \\: . \\: {Kitchen}({x}))) \\wedge{} {Agent}({e}, {Alfonso}_{e}))$</div></div></td><td></td></tr></table><br /><br />"
      ],
      "text/latex": [
       "1 composition path:<br /><style>.rendered_html table, .rendered_html tr, .rendered_html td, .rendered_html th { border: 0px; text-align:center; }</style><table><tr style=\"border:1px solid #848482\"><td style=\"vertical-align:bottom;padding:0px 10px\" align=\"center\"><table><tr><td style=\"vertical-align:bottom;padding:5px\"><table><tr style=\"border:1px solid #848482\"><td style=\"vertical-align:bottom;padding:0px 10px\" align=\"center\"><table><tr><td style=\"vertical-align:bottom;padding:5px\"><div style=\"margin-top:10px;border-style:solid;border-color:#848482;border-width:0px\"><div style=\"vertical-align:bottom;text-align:center\">$[\\![\\mathbf{\\text{ACTIVE}}]\\!]^{}_{\\left\\langle{}\\left\\langle{}v,t\\right\\rangle{},\\left\\langle{}e,\\left\\langle{}v,t\\right\\rangle{}\\right\\rangle{}\\right\\rangle{}}$</div><div style=\"vertical-align:bottom;text-align:center\">$\\lambda{} f_{\\left\\langle{}v,t\\right\\rangle{}} \\: . \\: \\lambda{} x_{e} \\: . \\: \\lambda{} e_{v} \\: . \\: ({f}({e}) \\wedge{} {Agent}({e}, {x}))$</div></div></td><td style=\"vertical-align:bottom;padding:10px\">$\\circ$</td><td style=\"vertical-align:bottom;padding:5px\"><table><tr style=\"border:1px solid #848482\"><td style=\"vertical-align:bottom;padding:0px 10px\" align=\"center\"><table><tr><td style=\"vertical-align:bottom;padding:5px\"><table><tr style=\"border:1px solid #848482\"><td style=\"vertical-align:bottom;padding:0px 10px\" align=\"center\"><table><tr><td style=\"vertical-align:bottom;padding:5px\"><div style=\"margin-top:10px;border-style:solid;border-color:#848482;border-width:0px\"><div style=\"vertical-align:bottom;text-align:center\">$[\\![\\mathbf{\\text{inP}}]\\!]^{}_{\\left\\langle{}e,\\left\\langle{}\\left\\langle{}v,t\\right\\rangle{},\\left\\langle{}v,t\\right\\rangle{}\\right\\rangle{}\\right\\rangle{}}$</div><div style=\"vertical-align:bottom;text-align:center\">$\\lambda{} x_{e} \\: . \\: \\lambda{} f_{\\left\\langle{}v,t\\right\\rangle{}} \\: . \\: \\lambda{} e_{v} \\: . \\: ({f}({e}) \\wedge{} {Loc}({e}, {x}))$</div></div></td><td style=\"vertical-align:bottom;padding:10px\">$\\circ$</td><td style=\"vertical-align:bottom;padding:5px\"><table><tr style=\"border:1px solid #848482\"><td style=\"vertical-align:bottom;padding:0px 10px\" align=\"center\"><table><tr><td style=\"vertical-align:bottom;padding:5px\"><div style=\"margin-top:10px;border-style:solid;border-color:#848482;border-width:0px\"><div style=\"vertical-align:bottom;text-align:center\">$[\\![\\mathbf{\\text{the}}]\\!]^{}_{\\left\\langle{}\\left\\langle{}e,t\\right\\rangle{},e\\right\\rangle{}}$</div><div style=\"vertical-align:bottom;text-align:center\">$\\lambda{} f_{\\left\\langle{}e,t\\right\\rangle{}} \\: . \\: \\iota{} x_{e} \\: . \\: {f}({x})$</div></div></td><td style=\"vertical-align:bottom;padding:10px\">$\\circ$</td><td style=\"vertical-align:bottom;padding:5px\"><div style=\"margin-top:10px;border-style:solid;border-color:#848482;border-width:0px\"><div style=\"vertical-align:bottom;text-align:center\">$[\\![\\mathbf{\\text{kitchen}}]\\!]^{}_{\\left\\langle{}e,t\\right\\rangle{}}$</div><div style=\"vertical-align:bottom;text-align:center\">$\\lambda{} x_{e} \\: . \\: {Kitchen}({x})$</div></div></td></tr></table></td><td style=\"border-left:1px solid #848482;vertical-align:center;padding:10px\"><span style=\"color:blue\"><b>[FA]</b></span></td></tr><tr style=\"border-style:solid;border-color:#848482;border-width:0px 1px 1px 1px\"><td style=\"padding:5px\" align=\"center\"><div style=\"margin-top:10px;border-style:solid;border-color:#848482;border-width:0px\"><div style=\"vertical-align:bottom;text-align:center\">$[\\![\\mathbf{\\text{[the kitchen]}}]\\!]^{}_{e}$</div><div style=\"vertical-align:bottom;text-align:center\">$\\iota{} x_{e} \\: . \\: {Kitchen}({x})$</div></div></td><td></td></tr></table></td></tr></table></td><td style=\"border-left:1px solid #848482;vertical-align:center;padding:10px\"><span style=\"color:blue\"><b>[FA]</b></span></td></tr><tr style=\"border-style:solid;border-color:#848482;border-width:0px 1px 1px 1px\"><td style=\"padding:5px\" align=\"center\"><div style=\"margin-top:10px;border-style:solid;border-color:#848482;border-width:0px\"><div style=\"vertical-align:bottom;text-align:center\">$[\\![\\mathbf{\\text{[inP [the kitchen]]}}]\\!]^{}_{\\left\\langle{}\\left\\langle{}v,t\\right\\rangle{},\\left\\langle{}v,t\\right\\rangle{}\\right\\rangle{}}$</div><div style=\"vertical-align:bottom;text-align:center\">$\\lambda{} f_{\\left\\langle{}v,t\\right\\rangle{}} \\: . \\: \\lambda{} e_{v} \\: . \\: ({f}({e}) \\wedge{} {Loc}({e}, \\iota{} x_{e} \\: . \\: {Kitchen}({x})))$</div></div></td><td></td></tr></table></td><td style=\"vertical-align:bottom;padding:10px\">$\\circ$</td><td style=\"vertical-align:bottom;padding:5px\"><table><tr style=\"border:1px solid #848482\"><td style=\"vertical-align:bottom;padding:0px 10px\" align=\"center\"><table><tr><td style=\"vertical-align:bottom;padding:5px\"><div style=\"margin-top:10px;border-style:solid;border-color:#848482;border-width:0px\"><div style=\"vertical-align:bottom;text-align:center\">$[\\![\\mathbf{\\text{slowly}}]\\!]^{}_{\\left\\langle{}\\left\\langle{}v,t\\right\\rangle{},\\left\\langle{}v,t\\right\\rangle{}\\right\\rangle{}}$</div><div style=\"vertical-align:bottom;text-align:center\">$\\lambda{} f_{\\left\\langle{}v,t\\right\\rangle{}} \\: . \\: \\lambda{} e_{v} \\: . \\: ({f}({e}) \\wedge{} {Slow}_{\\left\\langle{}v,t\\right\\rangle{}}({e}))$</div></div></td><td style=\"vertical-align:bottom;padding:10px\">$\\circ$</td><td style=\"vertical-align:bottom;padding:5px\"><div style=\"margin-top:10px;border-style:solid;border-color:#848482;border-width:0px\"><div style=\"vertical-align:bottom;text-align:center\">$[\\![\\mathbf{\\text{dance}}]\\!]^{}_{\\left\\langle{}v,t\\right\\rangle{}}$</div><div style=\"vertical-align:bottom;text-align:center\">$\\lambda{} e_{v} \\: . \\: {Dancing}_{\\left\\langle{}v,t\\right\\rangle{}}({e})$</div></div></td></tr></table></td><td style=\"border-left:1px solid #848482;vertical-align:center;padding:10px\"><span style=\"color:blue\"><b>[FA]</b></span></td></tr><tr style=\"border-style:solid;border-color:#848482;border-width:0px 1px 1px 1px\"><td style=\"padding:5px\" align=\"center\"><div style=\"margin-top:10px;border-style:solid;border-color:#848482;border-width:0px\"><div style=\"vertical-align:bottom;text-align:center\">$[\\![\\mathbf{\\text{[slowly dance]}}]\\!]^{}_{\\left\\langle{}v,t\\right\\rangle{}}$</div><div style=\"vertical-align:bottom;text-align:center\">$\\lambda{} e_{v} \\: . \\: ({Dancing}_{\\left\\langle{}v,t\\right\\rangle{}}({e}) \\wedge{} {Slow}_{\\left\\langle{}v,t\\right\\rangle{}}({e}))$</div></div></td><td></td></tr></table></td></tr></table></td><td style=\"border-left:1px solid #848482;vertical-align:center;padding:10px\"><span style=\"color:blue\"><b>[FA]</b></span></td></tr><tr style=\"border-style:solid;border-color:#848482;border-width:0px 1px 1px 1px\"><td style=\"padding:5px\" align=\"center\"><div style=\"margin-top:10px;border-style:solid;border-color:#848482;border-width:0px\"><div style=\"vertical-align:bottom;text-align:center\">$[\\![\\mathbf{\\text{[[inP [the kitchen]] [slowly dance]]}}]\\!]^{}_{\\left\\langle{}v,t\\right\\rangle{}}$</div><div style=\"vertical-align:bottom;text-align:center\">$\\lambda{} e_{v} \\: . \\: (({Dancing}_{\\left\\langle{}v,t\\right\\rangle{}}({e}) \\wedge{} {Slow}_{\\left\\langle{}v,t\\right\\rangle{}}({e})) \\wedge{} {Loc}({e}, \\iota{} x_{e} \\: . \\: {Kitchen}({x})))$</div></div></td><td></td></tr></table></td></tr></table></td><td style=\"border-left:1px solid #848482;vertical-align:center;padding:10px\"><span style=\"color:blue\"><b>[FA]</b></span></td></tr><tr style=\"border-style:solid;border-color:#848482;border-width:0px 1px 1px 1px\"><td style=\"padding:5px\" align=\"center\"><div style=\"margin-top:10px;border-style:solid;border-color:#848482;border-width:0px\"><div style=\"vertical-align:bottom;text-align:center\">$[\\![\\mathbf{\\text{[ACTIVE [[inP [the kitchen]] [slowly dance]]]}}]\\!]^{}_{\\left\\langle{}e,\\left\\langle{}v,t\\right\\rangle{}\\right\\rangle{}}$</div><div style=\"vertical-align:bottom;text-align:center\">$\\lambda{} x_{e} \\: . \\: \\lambda{} e_{v} \\: . \\: ((({Dancing}_{\\left\\langle{}v,t\\right\\rangle{}}({e}) \\wedge{} {Slow}_{\\left\\langle{}v,t\\right\\rangle{}}({e})) \\wedge{} {Loc}({e}, \\iota{} x_{e} \\: . \\: {Kitchen}({x}))) \\wedge{} {Agent}({e}, {x}))$</div></div></td><td></td></tr></table></td><td style=\"vertical-align:bottom;padding:10px\">$\\circ$</td><td style=\"vertical-align:bottom;padding:5px\"><div style=\"margin-top:10px;border-style:solid;border-color:#848482;border-width:0px\"><div style=\"vertical-align:bottom;text-align:center\">$[\\![\\mathbf{\\text{alfonso}}]\\!]^{}_{e}$</div><div style=\"vertical-align:bottom;text-align:center\">${Alfonso}_{e}$</div></div></td></tr></table></td><td style=\"border-left:1px solid #848482;vertical-align:center;padding:10px\"><span style=\"color:blue\"><b>[FA]</b></span></td></tr><tr style=\"border-style:solid;border-color:#848482;border-width:0px 1px 1px 1px\"><td style=\"padding:5px\" align=\"center\"><div style=\"margin-top:10px;border-style:solid;border-color:#848482;border-width:0px\"><div style=\"vertical-align:bottom;text-align:center\">$[\\![\\mathbf{\\text{[[ACTIVE [[inP [the kitchen]] [slowly dance]]] alfonso]}}]\\!]^{}_{\\left\\langle{}v,t\\right\\rangle{}}$</div><div style=\"vertical-align:bottom;text-align:center\">$\\lambda{} e_{v} \\: . \\: ((({Dancing}_{\\left\\langle{}v,t\\right\\rangle{}}({e}) \\wedge{} {Slow}_{\\left\\langle{}v,t\\right\\rangle{}}({e})) \\wedge{} {Loc}({e}, \\iota{} x_{e} \\: . \\: {Kitchen}({x}))) \\wedge{} {Agent}({e}, {Alfonso}_{e}))$</div></div></td><td></td></tr></table><br /><br />"
      ],
      "text/plain": [
       "1 composition path:<br /><style>.rendered_html table, .rendered_html tr, .rendered_html td, .rendered_html th { border: 0px; text-align:center; }</style><table><tr style=\"border:1px solid #848482\"><td style=\"vertical-align:bottom;padding:0px 10px\" align=\"center\"><table><tr><td style=\"vertical-align:bottom;padding:5px\"><table><tr style=\"border:1px solid #848482\"><td style=\"vertical-align:bottom;padding:0px 10px\" align=\"center\"><table><tr><td style=\"vertical-align:bottom;padding:5px\"><div style=\"margin-top:10px;border-style:solid;border-color:#848482;border-width:0px\"><div style=\"vertical-align:bottom;text-align:center\">$[\\![\\mathbf{\\text{ACTIVE}}]\\!]^{}_{\\left\\langle{}\\left\\langle{}v,t\\right\\rangle{},\\left\\langle{}e,\\left\\langle{}v,t\\right\\rangle{}\\right\\rangle{}\\right\\rangle{}}$</div><div style=\"vertical-align:bottom;text-align:center\">$\\lambda{} f_{\\left\\langle{}v,t\\right\\rangle{}} \\: . \\: \\lambda{} x_{e} \\: . \\: \\lambda{} e_{v} \\: . \\: ({f}({e}) \\wedge{} {Agent}({e}, {x}))$</div></div></td><td style=\"vertical-align:bottom;padding:10px\">$\\circ$</td><td style=\"vertical-align:bottom;padding:5px\"><table><tr style=\"border:1px solid #848482\"><td style=\"vertical-align:bottom;padding:0px 10px\" align=\"center\"><table><tr><td style=\"vertical-align:bottom;padding:5px\"><table><tr style=\"border:1px solid #848482\"><td style=\"vertical-align:bottom;padding:0px 10px\" align=\"center\"><table><tr><td style=\"vertical-align:bottom;padding:5px\"><div style=\"margin-top:10px;border-style:solid;border-color:#848482;border-width:0px\"><div style=\"vertical-align:bottom;text-align:center\">$[\\![\\mathbf{\\text{inP}}]\\!]^{}_{\\left\\langle{}e,\\left\\langle{}\\left\\langle{}v,t\\right\\rangle{},\\left\\langle{}v,t\\right\\rangle{}\\right\\rangle{}\\right\\rangle{}}$</div><div style=\"vertical-align:bottom;text-align:center\">$\\lambda{} x_{e} \\: . \\: \\lambda{} f_{\\left\\langle{}v,t\\right\\rangle{}} \\: . \\: \\lambda{} e_{v} \\: . \\: ({f}({e}) \\wedge{} {Loc}({e}, {x}))$</div></div></td><td style=\"vertical-align:bottom;padding:10px\">$\\circ$</td><td style=\"vertical-align:bottom;padding:5px\"><table><tr style=\"border:1px solid #848482\"><td style=\"vertical-align:bottom;padding:0px 10px\" align=\"center\"><table><tr><td style=\"vertical-align:bottom;padding:5px\"><div style=\"margin-top:10px;border-style:solid;border-color:#848482;border-width:0px\"><div style=\"vertical-align:bottom;text-align:center\">$[\\![\\mathbf{\\text{the}}]\\!]^{}_{\\left\\langle{}\\left\\langle{}e,t\\right\\rangle{},e\\right\\rangle{}}$</div><div style=\"vertical-align:bottom;text-align:center\">$\\lambda{} f_{\\left\\langle{}e,t\\right\\rangle{}} \\: . \\: \\iota{} x_{e} \\: . \\: {f}({x})$</div></div></td><td style=\"vertical-align:bottom;padding:10px\">$\\circ$</td><td style=\"vertical-align:bottom;padding:5px\"><div style=\"margin-top:10px;border-style:solid;border-color:#848482;border-width:0px\"><div style=\"vertical-align:bottom;text-align:center\">$[\\![\\mathbf{\\text{kitchen}}]\\!]^{}_{\\left\\langle{}e,t\\right\\rangle{}}$</div><div style=\"vertical-align:bottom;text-align:center\">$\\lambda{} x_{e} \\: . \\: {Kitchen}({x})$</div></div></td></tr></table></td><td style=\"border-left:1px solid #848482;vertical-align:center;padding:10px\"><span style=\"color:blue\"><b>[FA]</b></span></td></tr><tr style=\"border-style:solid;border-color:#848482;border-width:0px 1px 1px 1px\"><td style=\"padding:5px\" align=\"center\"><div style=\"margin-top:10px;border-style:solid;border-color:#848482;border-width:0px\"><div style=\"vertical-align:bottom;text-align:center\">$[\\![\\mathbf{\\text{[the kitchen]}}]\\!]^{}_{e}$</div><div style=\"vertical-align:bottom;text-align:center\">$\\iota{} x_{e} \\: . \\: {Kitchen}({x})$</div></div></td><td></td></tr></table></td></tr></table></td><td style=\"border-left:1px solid #848482;vertical-align:center;padding:10px\"><span style=\"color:blue\"><b>[FA]</b></span></td></tr><tr style=\"border-style:solid;border-color:#848482;border-width:0px 1px 1px 1px\"><td style=\"padding:5px\" align=\"center\"><div style=\"margin-top:10px;border-style:solid;border-color:#848482;border-width:0px\"><div style=\"vertical-align:bottom;text-align:center\">$[\\![\\mathbf{\\text{[inP [the kitchen]]}}]\\!]^{}_{\\left\\langle{}\\left\\langle{}v,t\\right\\rangle{},\\left\\langle{}v,t\\right\\rangle{}\\right\\rangle{}}$</div><div style=\"vertical-align:bottom;text-align:center\">$\\lambda{} f_{\\left\\langle{}v,t\\right\\rangle{}} \\: . \\: \\lambda{} e_{v} \\: . \\: ({f}({e}) \\wedge{} {Loc}({e}, \\iota{} x_{e} \\: . \\: {Kitchen}({x})))$</div></div></td><td></td></tr></table></td><td style=\"vertical-align:bottom;padding:10px\">$\\circ$</td><td style=\"vertical-align:bottom;padding:5px\"><table><tr style=\"border:1px solid #848482\"><td style=\"vertical-align:bottom;padding:0px 10px\" align=\"center\"><table><tr><td style=\"vertical-align:bottom;padding:5px\"><div style=\"margin-top:10px;border-style:solid;border-color:#848482;border-width:0px\"><div style=\"vertical-align:bottom;text-align:center\">$[\\![\\mathbf{\\text{slowly}}]\\!]^{}_{\\left\\langle{}\\left\\langle{}v,t\\right\\rangle{},\\left\\langle{}v,t\\right\\rangle{}\\right\\rangle{}}$</div><div style=\"vertical-align:bottom;text-align:center\">$\\lambda{} f_{\\left\\langle{}v,t\\right\\rangle{}} \\: . \\: \\lambda{} e_{v} \\: . \\: ({f}({e}) \\wedge{} {Slow}_{\\left\\langle{}v,t\\right\\rangle{}}({e}))$</div></div></td><td style=\"vertical-align:bottom;padding:10px\">$\\circ$</td><td style=\"vertical-align:bottom;padding:5px\"><div style=\"margin-top:10px;border-style:solid;border-color:#848482;border-width:0px\"><div style=\"vertical-align:bottom;text-align:center\">$[\\![\\mathbf{\\text{dance}}]\\!]^{}_{\\left\\langle{}v,t\\right\\rangle{}}$</div><div style=\"vertical-align:bottom;text-align:center\">$\\lambda{} e_{v} \\: . \\: {Dancing}_{\\left\\langle{}v,t\\right\\rangle{}}({e})$</div></div></td></tr></table></td><td style=\"border-left:1px solid #848482;vertical-align:center;padding:10px\"><span style=\"color:blue\"><b>[FA]</b></span></td></tr><tr style=\"border-style:solid;border-color:#848482;border-width:0px 1px 1px 1px\"><td style=\"padding:5px\" align=\"center\"><div style=\"margin-top:10px;border-style:solid;border-color:#848482;border-width:0px\"><div style=\"vertical-align:bottom;text-align:center\">$[\\![\\mathbf{\\text{[slowly dance]}}]\\!]^{}_{\\left\\langle{}v,t\\right\\rangle{}}$</div><div style=\"vertical-align:bottom;text-align:center\">$\\lambda{} e_{v} \\: . \\: ({Dancing}_{\\left\\langle{}v,t\\right\\rangle{}}({e}) \\wedge{} {Slow}_{\\left\\langle{}v,t\\right\\rangle{}}({e}))$</div></div></td><td></td></tr></table></td></tr></table></td><td style=\"border-left:1px solid #848482;vertical-align:center;padding:10px\"><span style=\"color:blue\"><b>[FA]</b></span></td></tr><tr style=\"border-style:solid;border-color:#848482;border-width:0px 1px 1px 1px\"><td style=\"padding:5px\" align=\"center\"><div style=\"margin-top:10px;border-style:solid;border-color:#848482;border-width:0px\"><div style=\"vertical-align:bottom;text-align:center\">$[\\![\\mathbf{\\text{[[inP [the kitchen]] [slowly dance]]}}]\\!]^{}_{\\left\\langle{}v,t\\right\\rangle{}}$</div><div style=\"vertical-align:bottom;text-align:center\">$\\lambda{} e_{v} \\: . \\: (({Dancing}_{\\left\\langle{}v,t\\right\\rangle{}}({e}) \\wedge{} {Slow}_{\\left\\langle{}v,t\\right\\rangle{}}({e})) \\wedge{} {Loc}({e}, \\iota{} x_{e} \\: . \\: {Kitchen}({x})))$</div></div></td><td></td></tr></table></td></tr></table></td><td style=\"border-left:1px solid #848482;vertical-align:center;padding:10px\"><span style=\"color:blue\"><b>[FA]</b></span></td></tr><tr style=\"border-style:solid;border-color:#848482;border-width:0px 1px 1px 1px\"><td style=\"padding:5px\" align=\"center\"><div style=\"margin-top:10px;border-style:solid;border-color:#848482;border-width:0px\"><div style=\"vertical-align:bottom;text-align:center\">$[\\![\\mathbf{\\text{[ACTIVE [[inP [the kitchen]] [slowly dance]]]}}]\\!]^{}_{\\left\\langle{}e,\\left\\langle{}v,t\\right\\rangle{}\\right\\rangle{}}$</div><div style=\"vertical-align:bottom;text-align:center\">$\\lambda{} x_{e} \\: . \\: \\lambda{} e_{v} \\: . \\: ((({Dancing}_{\\left\\langle{}v,t\\right\\rangle{}}({e}) \\wedge{} {Slow}_{\\left\\langle{}v,t\\right\\rangle{}}({e})) \\wedge{} {Loc}({e}, \\iota{} x_{e} \\: . \\: {Kitchen}({x}))) \\wedge{} {Agent}({e}, {x}))$</div></div></td><td></td></tr></table></td><td style=\"vertical-align:bottom;padding:10px\">$\\circ$</td><td style=\"vertical-align:bottom;padding:5px\"><div style=\"margin-top:10px;border-style:solid;border-color:#848482;border-width:0px\"><div style=\"vertical-align:bottom;text-align:center\">$[\\![\\mathbf{\\text{alfonso}}]\\!]^{}_{e}$</div><div style=\"vertical-align:bottom;text-align:center\">${Alfonso}_{e}$</div></div></td></tr></table></td><td style=\"border-left:1px solid #848482;vertical-align:center;padding:10px\"><span style=\"color:blue\"><b>[FA]</b></span></td></tr><tr style=\"border-style:solid;border-color:#848482;border-width:0px 1px 1px 1px\"><td style=\"padding:5px\" align=\"center\"><div style=\"margin-top:10px;border-style:solid;border-color:#848482;border-width:0px\"><div style=\"vertical-align:bottom;text-align:center\">$[\\![\\mathbf{\\text{[[ACTIVE [[inP [the kitchen]] [slowly dance]]] alfonso]}}]\\!]^{}_{\\left\\langle{}v,t\\right\\rangle{}}$</div><div style=\"vertical-align:bottom;text-align:center\">$\\lambda{} e_{v} \\: . \\: ((({Dancing}_{\\left\\langle{}v,t\\right\\rangle{}}({e}) \\wedge{} {Slow}_{\\left\\langle{}v,t\\right\\rangle{}}({e})) \\wedge{} {Loc}({e}, \\iota{} x_{e} \\: . \\: {Kitchen}({x}))) \\wedge{} {Agent}({e}, {Alfonso}_{e}))$</div></div></td><td></td></tr></table><br /><br />"
      ]
     },
     "execution_count": 15,
     "metadata": {},
     "output_type": "execute_result"
    }
   ],
   "source": [
    "dance3.tree()"
   ]
  },
  {
   "cell_type": "markdown",
   "metadata": {},
   "source": [
    "The denotations above remain unsaturated.  Part of Davidson's idea is that the truth-conditions of an \"action sentence\" involve existentially quantifying over an event.  There are a number of proposals as to how these existential quantifier is introduced compositionally, but the simplest is to treat it as a type shift (or unary composition operation).\n",
    "\n",
    "We can first do this by defining a function that performs \"existential closure\", and then defining a composition operation using that function."
   ]
  },
  {
   "cell_type": "code",
   "execution_count": 16,
   "metadata": {},
   "outputs": [
    {
     "data": {
      "text/latex": [
       "$\\lambda{} f_{\\left\\langle{}v,t\\right\\rangle{}} \\: . \\: \\exists{} e_{v} \\: . \\: {f}({e})$"
      ],
      "text/plain": [
       "(λ f_<v,t>: (Exists e_v: f_<v,t>(e_v)))"
      ]
     },
     "execution_count": 16,
     "metadata": {},
     "output_type": "execute_result"
    }
   ],
   "source": [
    "ec_fun = te(\"L f_<v,t> : Exists e_v : f(e)\")\n",
    "ec_fun"
   ]
  },
  {
   "cell_type": "code",
   "execution_count": 17,
   "metadata": {},
   "outputs": [
    {
     "data": {
      "text/latex": [
       "$\\exists{} e_{v} \\: . \\: ((({Dancing}_{\\left\\langle{}v,t\\right\\rangle{}}({e}) \\wedge{} {Slow}_{\\left\\langle{}v,t\\right\\rangle{}}({e})) \\wedge{} {Loc}({e}, \\iota{} x_{e} \\: . \\: {Kitchen}({x}))) \\wedge{} {Agent}({e}, {Alfonso}_{e}))$"
      ],
      "text/plain": [
       "(Exists e_v: (((Dancing_<v,t>(e_v) & Slow_<v,t>(e_v)) & Loc_<(v,e),t>(e_v, (ι x_e: Kitchen_<e,t>(x_e)))) & Agent_<(v,e),t>(e_v, Alfonso_e)))"
      ]
     },
     "execution_count": 17,
     "metadata": {},
     "output_type": "execute_result"
    }
   ],
   "source": [
    "(ec_fun(dance3[0].content)).reduce_all()"
   ]
  },
  {
   "cell_type": "code",
   "execution_count": 18,
   "metadata": {},
   "outputs": [
    {
     "data": {
      "text/html": [
       "Composition system 'H&K simple (copy)'<br />Operations: {<br />&nbsp;&nbsp;&nbsp;&nbsp;Binary composition rule <i>FA</i>, built on python function 'lamb.lang.fa_fun'<br />&nbsp;&nbsp;&nbsp;&nbsp;Binary composition rule <i>PM</i>, built on python function 'lamb.lang.pm_fun'<br />&nbsp;&nbsp;&nbsp;&nbsp;Binary composition rule <i>PA</i>, built on python function 'lamb.lang.pa_fun'<br />&nbsp;&nbsp;&nbsp;&nbsp;Unary composition rule <i>EC</i>, built on combinator '$\\lambda{} f_{\\left\\langle{}v,t\\right\\rangle{}} \\: . \\: \\exists{} e_{v} \\: . \\: {f}({e})$'<br />}"
      ],
      "text/plain": [
       "Composition system: H&K simple (copy)"
      ]
     },
     "execution_count": 18,
     "metadata": {},
     "output_type": "execute_result"
    }
   ],
   "source": [
    "system = lang.td_system.copy()\n",
    "system.add_unary_rule(ec_fun, \"EC\")\n",
    "lang.set_system(system)\n",
    "system"
   ]
  },
  {
   "cell_type": "markdown",
   "metadata": {},
   "source": [
    "The way to force unary composition (at the moment) is to compose with None."
   ]
  },
  {
   "cell_type": "code",
   "execution_count": 19,
   "metadata": {},
   "outputs": [
    {
     "data": {
      "text/html": [
       "1 composition path.  Result:\n",
       "<br />&nbsp;&nbsp;&nbsp;&nbsp;[0]: $[\\![\\mathbf{\\text{[[[ACTIVE [[inP [the kitchen]] [slowly dance]]] alfonso]]}}]\\!]^{}_{t} \\:=\\: $$\\exists{} e_{v} \\: . \\: ((({Dancing}_{\\left\\langle{}v,t\\right\\rangle{}}({e}) \\wedge{} {Slow}_{\\left\\langle{}v,t\\right\\rangle{}}({e})) \\wedge{} {Loc}({e}, \\iota{} x_{e} \\: . \\: {Kitchen}({x}))) \\wedge{} {Agent}({e}, {Alfonso}_{e}))$"
      ],
      "text/plain": [
       "CompositionResult(results=[⟦[[[ACTIVE [[inP [the kitchen]] [slowly dance]]] alfonso]]⟧ = (Exists e_v: (((Dancing_<v,t>(e_v) & Slow_<v,t>(e_v)) & Loc_<(v,e),t>(e_v, (ι x_e: Kitchen_<e,t>(x_e)))) & Agent_<(v,e),t>(e_v, Alfonso_e)))], failures=[])"
      ]
     },
     "execution_count": 19,
     "metadata": {},
     "output_type": "execute_result"
    }
   ],
   "source": [
    "dance4 = (dance3 * None)\n",
    "dance4"
   ]
  },
  {
   "cell_type": "code",
   "execution_count": 20,
   "metadata": {},
   "outputs": [
    {
     "data": {
      "text/html": [
       "1 composition path:<br /><style>.rendered_html table, .rendered_html tr, .rendered_html td, .rendered_html th { border: 0px; text-align:center; }</style><table><tr style=\"border:1px solid #848482\"><td style=\"vertical-align:bottom;padding:0px 10px\" align=\"center\"><table><tr><td style=\"vertical-align:bottom;padding:5px\"><table><tr style=\"border:1px solid #848482\"><td style=\"vertical-align:bottom;padding:0px 10px\" align=\"center\"><table><tr><td style=\"vertical-align:bottom;padding:5px\"><table><tr style=\"border:1px solid #848482\"><td style=\"vertical-align:bottom;padding:0px 10px\" align=\"center\"><table><tr><td style=\"vertical-align:bottom;padding:5px\"><div style=\"margin-top:10px;border-style:solid;border-color:#848482;border-width:0px\"><div style=\"vertical-align:bottom;text-align:center\">$[\\![\\mathbf{\\text{ACTIVE}}]\\!]^{}_{\\left\\langle{}\\left\\langle{}v,t\\right\\rangle{},\\left\\langle{}e,\\left\\langle{}v,t\\right\\rangle{}\\right\\rangle{}\\right\\rangle{}}$</div><div style=\"vertical-align:bottom;text-align:center\">$\\lambda{} f_{\\left\\langle{}v,t\\right\\rangle{}} \\: . \\: \\lambda{} x_{e} \\: . \\: \\lambda{} e_{v} \\: . \\: ({f}({e}) \\wedge{} {Agent}({e}, {x}))$</div></div></td><td style=\"vertical-align:bottom;padding:10px\">$\\circ$</td><td style=\"vertical-align:bottom;padding:5px\"><table><tr style=\"border:1px solid #848482\"><td style=\"vertical-align:bottom;padding:0px 10px\" align=\"center\"><table><tr><td style=\"vertical-align:bottom;padding:5px\"><table><tr style=\"border:1px solid #848482\"><td style=\"vertical-align:bottom;padding:0px 10px\" align=\"center\"><table><tr><td style=\"vertical-align:bottom;padding:5px\"><div style=\"margin-top:10px;border-style:solid;border-color:#848482;border-width:0px\"><div style=\"vertical-align:bottom;text-align:center\">$[\\![\\mathbf{\\text{inP}}]\\!]^{}_{\\left\\langle{}e,\\left\\langle{}\\left\\langle{}v,t\\right\\rangle{},\\left\\langle{}v,t\\right\\rangle{}\\right\\rangle{}\\right\\rangle{}}$</div><div style=\"vertical-align:bottom;text-align:center\">$\\lambda{} x_{e} \\: . \\: \\lambda{} f_{\\left\\langle{}v,t\\right\\rangle{}} \\: . \\: \\lambda{} e_{v} \\: . \\: ({f}({e}) \\wedge{} {Loc}({e}, {x}))$</div></div></td><td style=\"vertical-align:bottom;padding:10px\">$\\circ$</td><td style=\"vertical-align:bottom;padding:5px\"><table><tr style=\"border:1px solid #848482\"><td style=\"vertical-align:bottom;padding:0px 10px\" align=\"center\"><table><tr><td style=\"vertical-align:bottom;padding:5px\"><div style=\"margin-top:10px;border-style:solid;border-color:#848482;border-width:0px\"><div style=\"vertical-align:bottom;text-align:center\">$[\\![\\mathbf{\\text{the}}]\\!]^{}_{\\left\\langle{}\\left\\langle{}e,t\\right\\rangle{},e\\right\\rangle{}}$</div><div style=\"vertical-align:bottom;text-align:center\">$\\lambda{} f_{\\left\\langle{}e,t\\right\\rangle{}} \\: . \\: \\iota{} x_{e} \\: . \\: {f}({x})$</div></div></td><td style=\"vertical-align:bottom;padding:10px\">$\\circ$</td><td style=\"vertical-align:bottom;padding:5px\"><div style=\"margin-top:10px;border-style:solid;border-color:#848482;border-width:0px\"><div style=\"vertical-align:bottom;text-align:center\">$[\\![\\mathbf{\\text{kitchen}}]\\!]^{}_{\\left\\langle{}e,t\\right\\rangle{}}$</div><div style=\"vertical-align:bottom;text-align:center\">$\\lambda{} x_{e} \\: . \\: {Kitchen}({x})$</div></div></td></tr></table></td><td style=\"border-left:1px solid #848482;vertical-align:center;padding:10px\"><span style=\"color:blue\"><b>[FA]</b></span></td></tr><tr style=\"border-style:solid;border-color:#848482;border-width:0px 1px 1px 1px\"><td style=\"padding:5px\" align=\"center\"><div style=\"margin-top:10px;border-style:solid;border-color:#848482;border-width:0px\"><div style=\"vertical-align:bottom;text-align:center\">$[\\![\\mathbf{\\text{[the kitchen]}}]\\!]^{}_{e}$</div><div style=\"vertical-align:bottom;text-align:center\">$\\iota{} x_{e} \\: . \\: {Kitchen}({x})$</div></div></td><td></td></tr></table></td></tr></table></td><td style=\"border-left:1px solid #848482;vertical-align:center;padding:10px\"><span style=\"color:blue\"><b>[FA]</b></span></td></tr><tr style=\"border-style:solid;border-color:#848482;border-width:0px 1px 1px 1px\"><td style=\"padding:5px\" align=\"center\"><div style=\"margin-top:10px;border-style:solid;border-color:#848482;border-width:0px\"><div style=\"vertical-align:bottom;text-align:center\">$[\\![\\mathbf{\\text{[inP [the kitchen]]}}]\\!]^{}_{\\left\\langle{}\\left\\langle{}v,t\\right\\rangle{},\\left\\langle{}v,t\\right\\rangle{}\\right\\rangle{}}$</div><div style=\"vertical-align:bottom;text-align:center\">$\\lambda{} f_{\\left\\langle{}v,t\\right\\rangle{}} \\: . \\: \\lambda{} e_{v} \\: . \\: ({f}({e}) \\wedge{} {Loc}({e}, \\iota{} x_{e} \\: . \\: {Kitchen}({x})))$</div></div></td><td></td></tr></table></td><td style=\"vertical-align:bottom;padding:10px\">$\\circ$</td><td style=\"vertical-align:bottom;padding:5px\"><table><tr style=\"border:1px solid #848482\"><td style=\"vertical-align:bottom;padding:0px 10px\" align=\"center\"><table><tr><td style=\"vertical-align:bottom;padding:5px\"><div style=\"margin-top:10px;border-style:solid;border-color:#848482;border-width:0px\"><div style=\"vertical-align:bottom;text-align:center\">$[\\![\\mathbf{\\text{slowly}}]\\!]^{}_{\\left\\langle{}\\left\\langle{}v,t\\right\\rangle{},\\left\\langle{}v,t\\right\\rangle{}\\right\\rangle{}}$</div><div style=\"vertical-align:bottom;text-align:center\">$\\lambda{} f_{\\left\\langle{}v,t\\right\\rangle{}} \\: . \\: \\lambda{} e_{v} \\: . \\: ({f}({e}) \\wedge{} {Slow}_{\\left\\langle{}v,t\\right\\rangle{}}({e}))$</div></div></td><td style=\"vertical-align:bottom;padding:10px\">$\\circ$</td><td style=\"vertical-align:bottom;padding:5px\"><div style=\"margin-top:10px;border-style:solid;border-color:#848482;border-width:0px\"><div style=\"vertical-align:bottom;text-align:center\">$[\\![\\mathbf{\\text{dance}}]\\!]^{}_{\\left\\langle{}v,t\\right\\rangle{}}$</div><div style=\"vertical-align:bottom;text-align:center\">$\\lambda{} e_{v} \\: . \\: {Dancing}_{\\left\\langle{}v,t\\right\\rangle{}}({e})$</div></div></td></tr></table></td><td style=\"border-left:1px solid #848482;vertical-align:center;padding:10px\"><span style=\"color:blue\"><b>[FA]</b></span></td></tr><tr style=\"border-style:solid;border-color:#848482;border-width:0px 1px 1px 1px\"><td style=\"padding:5px\" align=\"center\"><div style=\"margin-top:10px;border-style:solid;border-color:#848482;border-width:0px\"><div style=\"vertical-align:bottom;text-align:center\">$[\\![\\mathbf{\\text{[slowly dance]}}]\\!]^{}_{\\left\\langle{}v,t\\right\\rangle{}}$</div><div style=\"vertical-align:bottom;text-align:center\">$\\lambda{} e_{v} \\: . \\: ({Dancing}_{\\left\\langle{}v,t\\right\\rangle{}}({e}) \\wedge{} {Slow}_{\\left\\langle{}v,t\\right\\rangle{}}({e}))$</div></div></td><td></td></tr></table></td></tr></table></td><td style=\"border-left:1px solid #848482;vertical-align:center;padding:10px\"><span style=\"color:blue\"><b>[FA]</b></span></td></tr><tr style=\"border-style:solid;border-color:#848482;border-width:0px 1px 1px 1px\"><td style=\"padding:5px\" align=\"center\"><div style=\"margin-top:10px;border-style:solid;border-color:#848482;border-width:0px\"><div style=\"vertical-align:bottom;text-align:center\">$[\\![\\mathbf{\\text{[[inP [the kitchen]] [slowly dance]]}}]\\!]^{}_{\\left\\langle{}v,t\\right\\rangle{}}$</div><div style=\"vertical-align:bottom;text-align:center\">$\\lambda{} e_{v} \\: . \\: (({Dancing}_{\\left\\langle{}v,t\\right\\rangle{}}({e}) \\wedge{} {Slow}_{\\left\\langle{}v,t\\right\\rangle{}}({e})) \\wedge{} {Loc}({e}, \\iota{} x_{e} \\: . \\: {Kitchen}({x})))$</div></div></td><td></td></tr></table></td></tr></table></td><td style=\"border-left:1px solid #848482;vertical-align:center;padding:10px\"><span style=\"color:blue\"><b>[FA]</b></span></td></tr><tr style=\"border-style:solid;border-color:#848482;border-width:0px 1px 1px 1px\"><td style=\"padding:5px\" align=\"center\"><div style=\"margin-top:10px;border-style:solid;border-color:#848482;border-width:0px\"><div style=\"vertical-align:bottom;text-align:center\">$[\\![\\mathbf{\\text{[ACTIVE [[inP [the kitchen]] [slowly dance]]]}}]\\!]^{}_{\\left\\langle{}e,\\left\\langle{}v,t\\right\\rangle{}\\right\\rangle{}}$</div><div style=\"vertical-align:bottom;text-align:center\">$\\lambda{} x_{e} \\: . \\: \\lambda{} e_{v} \\: . \\: ((({Dancing}_{\\left\\langle{}v,t\\right\\rangle{}}({e}) \\wedge{} {Slow}_{\\left\\langle{}v,t\\right\\rangle{}}({e})) \\wedge{} {Loc}({e}, \\iota{} x_{e} \\: . \\: {Kitchen}({x}))) \\wedge{} {Agent}({e}, {x}))$</div></div></td><td></td></tr></table></td><td style=\"vertical-align:bottom;padding:10px\">$\\circ$</td><td style=\"vertical-align:bottom;padding:5px\"><div style=\"margin-top:10px;border-style:solid;border-color:#848482;border-width:0px\"><div style=\"vertical-align:bottom;text-align:center\">$[\\![\\mathbf{\\text{alfonso}}]\\!]^{}_{e}$</div><div style=\"vertical-align:bottom;text-align:center\">${Alfonso}_{e}$</div></div></td></tr></table></td><td style=\"border-left:1px solid #848482;vertical-align:center;padding:10px\"><span style=\"color:blue\"><b>[FA]</b></span></td></tr><tr style=\"border-style:solid;border-color:#848482;border-width:0px 1px 1px 1px\"><td style=\"padding:5px\" align=\"center\"><div style=\"margin-top:10px;border-style:solid;border-color:#848482;border-width:0px\"><div style=\"vertical-align:bottom;text-align:center\">$[\\![\\mathbf{\\text{[[ACTIVE [[inP [the kitchen]] [slowly dance]]] alfonso]}}]\\!]^{}_{\\left\\langle{}v,t\\right\\rangle{}}$</div><div style=\"vertical-align:bottom;text-align:center\">$\\lambda{} e_{v} \\: . \\: ((({Dancing}_{\\left\\langle{}v,t\\right\\rangle{}}({e}) \\wedge{} {Slow}_{\\left\\langle{}v,t\\right\\rangle{}}({e})) \\wedge{} {Loc}({e}, \\iota{} x_{e} \\: . \\: {Kitchen}({x}))) \\wedge{} {Agent}({e}, {Alfonso}_{e}))$</div></div></td><td></td></tr></table></td></tr></table></td><td style=\"border-left:1px solid #848482;vertical-align:center;padding:10px\"><span style=\"color:blue\"><b>[EC]</b></span></td></tr><tr style=\"border-style:solid;border-color:#848482;border-width:0px 1px 1px 1px\"><td style=\"padding:5px\" align=\"center\"><div style=\"margin-top:10px;border-style:solid;border-color:#848482;border-width:0px\"><div style=\"vertical-align:bottom;text-align:center\">$[\\![\\mathbf{\\text{[[[ACTIVE [[inP [the kitchen]] [slowly dance]]] alfonso]]}}]\\!]^{}_{t}$</div><div style=\"vertical-align:bottom;text-align:center\">$\\exists{} e_{v} \\: . \\: ((({Dancing}_{\\left\\langle{}v,t\\right\\rangle{}}({e}) \\wedge{} {Slow}_{\\left\\langle{}v,t\\right\\rangle{}}({e})) \\wedge{} {Loc}({e}, \\iota{} x_{e} \\: . \\: {Kitchen}({x}))) \\wedge{} {Agent}({e}, {Alfonso}_{e}))$</div></div></td><td></td></tr></table><br /><br />"
      ],
      "text/latex": [
       "1 composition path:<br /><style>.rendered_html table, .rendered_html tr, .rendered_html td, .rendered_html th { border: 0px; text-align:center; }</style><table><tr style=\"border:1px solid #848482\"><td style=\"vertical-align:bottom;padding:0px 10px\" align=\"center\"><table><tr><td style=\"vertical-align:bottom;padding:5px\"><table><tr style=\"border:1px solid #848482\"><td style=\"vertical-align:bottom;padding:0px 10px\" align=\"center\"><table><tr><td style=\"vertical-align:bottom;padding:5px\"><table><tr style=\"border:1px solid #848482\"><td style=\"vertical-align:bottom;padding:0px 10px\" align=\"center\"><table><tr><td style=\"vertical-align:bottom;padding:5px\"><div style=\"margin-top:10px;border-style:solid;border-color:#848482;border-width:0px\"><div style=\"vertical-align:bottom;text-align:center\">$[\\![\\mathbf{\\text{ACTIVE}}]\\!]^{}_{\\left\\langle{}\\left\\langle{}v,t\\right\\rangle{},\\left\\langle{}e,\\left\\langle{}v,t\\right\\rangle{}\\right\\rangle{}\\right\\rangle{}}$</div><div style=\"vertical-align:bottom;text-align:center\">$\\lambda{} f_{\\left\\langle{}v,t\\right\\rangle{}} \\: . \\: \\lambda{} x_{e} \\: . \\: \\lambda{} e_{v} \\: . \\: ({f}({e}) \\wedge{} {Agent}({e}, {x}))$</div></div></td><td style=\"vertical-align:bottom;padding:10px\">$\\circ$</td><td style=\"vertical-align:bottom;padding:5px\"><table><tr style=\"border:1px solid #848482\"><td style=\"vertical-align:bottom;padding:0px 10px\" align=\"center\"><table><tr><td style=\"vertical-align:bottom;padding:5px\"><table><tr style=\"border:1px solid #848482\"><td style=\"vertical-align:bottom;padding:0px 10px\" align=\"center\"><table><tr><td style=\"vertical-align:bottom;padding:5px\"><div style=\"margin-top:10px;border-style:solid;border-color:#848482;border-width:0px\"><div style=\"vertical-align:bottom;text-align:center\">$[\\![\\mathbf{\\text{inP}}]\\!]^{}_{\\left\\langle{}e,\\left\\langle{}\\left\\langle{}v,t\\right\\rangle{},\\left\\langle{}v,t\\right\\rangle{}\\right\\rangle{}\\right\\rangle{}}$</div><div style=\"vertical-align:bottom;text-align:center\">$\\lambda{} x_{e} \\: . \\: \\lambda{} f_{\\left\\langle{}v,t\\right\\rangle{}} \\: . \\: \\lambda{} e_{v} \\: . \\: ({f}({e}) \\wedge{} {Loc}({e}, {x}))$</div></div></td><td style=\"vertical-align:bottom;padding:10px\">$\\circ$</td><td style=\"vertical-align:bottom;padding:5px\"><table><tr style=\"border:1px solid #848482\"><td style=\"vertical-align:bottom;padding:0px 10px\" align=\"center\"><table><tr><td style=\"vertical-align:bottom;padding:5px\"><div style=\"margin-top:10px;border-style:solid;border-color:#848482;border-width:0px\"><div style=\"vertical-align:bottom;text-align:center\">$[\\![\\mathbf{\\text{the}}]\\!]^{}_{\\left\\langle{}\\left\\langle{}e,t\\right\\rangle{},e\\right\\rangle{}}$</div><div style=\"vertical-align:bottom;text-align:center\">$\\lambda{} f_{\\left\\langle{}e,t\\right\\rangle{}} \\: . \\: \\iota{} x_{e} \\: . \\: {f}({x})$</div></div></td><td style=\"vertical-align:bottom;padding:10px\">$\\circ$</td><td style=\"vertical-align:bottom;padding:5px\"><div style=\"margin-top:10px;border-style:solid;border-color:#848482;border-width:0px\"><div style=\"vertical-align:bottom;text-align:center\">$[\\![\\mathbf{\\text{kitchen}}]\\!]^{}_{\\left\\langle{}e,t\\right\\rangle{}}$</div><div style=\"vertical-align:bottom;text-align:center\">$\\lambda{} x_{e} \\: . \\: {Kitchen}({x})$</div></div></td></tr></table></td><td style=\"border-left:1px solid #848482;vertical-align:center;padding:10px\"><span style=\"color:blue\"><b>[FA]</b></span></td></tr><tr style=\"border-style:solid;border-color:#848482;border-width:0px 1px 1px 1px\"><td style=\"padding:5px\" align=\"center\"><div style=\"margin-top:10px;border-style:solid;border-color:#848482;border-width:0px\"><div style=\"vertical-align:bottom;text-align:center\">$[\\![\\mathbf{\\text{[the kitchen]}}]\\!]^{}_{e}$</div><div style=\"vertical-align:bottom;text-align:center\">$\\iota{} x_{e} \\: . \\: {Kitchen}({x})$</div></div></td><td></td></tr></table></td></tr></table></td><td style=\"border-left:1px solid #848482;vertical-align:center;padding:10px\"><span style=\"color:blue\"><b>[FA]</b></span></td></tr><tr style=\"border-style:solid;border-color:#848482;border-width:0px 1px 1px 1px\"><td style=\"padding:5px\" align=\"center\"><div style=\"margin-top:10px;border-style:solid;border-color:#848482;border-width:0px\"><div style=\"vertical-align:bottom;text-align:center\">$[\\![\\mathbf{\\text{[inP [the kitchen]]}}]\\!]^{}_{\\left\\langle{}\\left\\langle{}v,t\\right\\rangle{},\\left\\langle{}v,t\\right\\rangle{}\\right\\rangle{}}$</div><div style=\"vertical-align:bottom;text-align:center\">$\\lambda{} f_{\\left\\langle{}v,t\\right\\rangle{}} \\: . \\: \\lambda{} e_{v} \\: . \\: ({f}({e}) \\wedge{} {Loc}({e}, \\iota{} x_{e} \\: . \\: {Kitchen}({x})))$</div></div></td><td></td></tr></table></td><td style=\"vertical-align:bottom;padding:10px\">$\\circ$</td><td style=\"vertical-align:bottom;padding:5px\"><table><tr style=\"border:1px solid #848482\"><td style=\"vertical-align:bottom;padding:0px 10px\" align=\"center\"><table><tr><td style=\"vertical-align:bottom;padding:5px\"><div style=\"margin-top:10px;border-style:solid;border-color:#848482;border-width:0px\"><div style=\"vertical-align:bottom;text-align:center\">$[\\![\\mathbf{\\text{slowly}}]\\!]^{}_{\\left\\langle{}\\left\\langle{}v,t\\right\\rangle{},\\left\\langle{}v,t\\right\\rangle{}\\right\\rangle{}}$</div><div style=\"vertical-align:bottom;text-align:center\">$\\lambda{} f_{\\left\\langle{}v,t\\right\\rangle{}} \\: . \\: \\lambda{} e_{v} \\: . \\: ({f}({e}) \\wedge{} {Slow}_{\\left\\langle{}v,t\\right\\rangle{}}({e}))$</div></div></td><td style=\"vertical-align:bottom;padding:10px\">$\\circ$</td><td style=\"vertical-align:bottom;padding:5px\"><div style=\"margin-top:10px;border-style:solid;border-color:#848482;border-width:0px\"><div style=\"vertical-align:bottom;text-align:center\">$[\\![\\mathbf{\\text{dance}}]\\!]^{}_{\\left\\langle{}v,t\\right\\rangle{}}$</div><div style=\"vertical-align:bottom;text-align:center\">$\\lambda{} e_{v} \\: . \\: {Dancing}_{\\left\\langle{}v,t\\right\\rangle{}}({e})$</div></div></td></tr></table></td><td style=\"border-left:1px solid #848482;vertical-align:center;padding:10px\"><span style=\"color:blue\"><b>[FA]</b></span></td></tr><tr style=\"border-style:solid;border-color:#848482;border-width:0px 1px 1px 1px\"><td style=\"padding:5px\" align=\"center\"><div style=\"margin-top:10px;border-style:solid;border-color:#848482;border-width:0px\"><div style=\"vertical-align:bottom;text-align:center\">$[\\![\\mathbf{\\text{[slowly dance]}}]\\!]^{}_{\\left\\langle{}v,t\\right\\rangle{}}$</div><div style=\"vertical-align:bottom;text-align:center\">$\\lambda{} e_{v} \\: . \\: ({Dancing}_{\\left\\langle{}v,t\\right\\rangle{}}({e}) \\wedge{} {Slow}_{\\left\\langle{}v,t\\right\\rangle{}}({e}))$</div></div></td><td></td></tr></table></td></tr></table></td><td style=\"border-left:1px solid #848482;vertical-align:center;padding:10px\"><span style=\"color:blue\"><b>[FA]</b></span></td></tr><tr style=\"border-style:solid;border-color:#848482;border-width:0px 1px 1px 1px\"><td style=\"padding:5px\" align=\"center\"><div style=\"margin-top:10px;border-style:solid;border-color:#848482;border-width:0px\"><div style=\"vertical-align:bottom;text-align:center\">$[\\![\\mathbf{\\text{[[inP [the kitchen]] [slowly dance]]}}]\\!]^{}_{\\left\\langle{}v,t\\right\\rangle{}}$</div><div style=\"vertical-align:bottom;text-align:center\">$\\lambda{} e_{v} \\: . \\: (({Dancing}_{\\left\\langle{}v,t\\right\\rangle{}}({e}) \\wedge{} {Slow}_{\\left\\langle{}v,t\\right\\rangle{}}({e})) \\wedge{} {Loc}({e}, \\iota{} x_{e} \\: . \\: {Kitchen}({x})))$</div></div></td><td></td></tr></table></td></tr></table></td><td style=\"border-left:1px solid #848482;vertical-align:center;padding:10px\"><span style=\"color:blue\"><b>[FA]</b></span></td></tr><tr style=\"border-style:solid;border-color:#848482;border-width:0px 1px 1px 1px\"><td style=\"padding:5px\" align=\"center\"><div style=\"margin-top:10px;border-style:solid;border-color:#848482;border-width:0px\"><div style=\"vertical-align:bottom;text-align:center\">$[\\![\\mathbf{\\text{[ACTIVE [[inP [the kitchen]] [slowly dance]]]}}]\\!]^{}_{\\left\\langle{}e,\\left\\langle{}v,t\\right\\rangle{}\\right\\rangle{}}$</div><div style=\"vertical-align:bottom;text-align:center\">$\\lambda{} x_{e} \\: . \\: \\lambda{} e_{v} \\: . \\: ((({Dancing}_{\\left\\langle{}v,t\\right\\rangle{}}({e}) \\wedge{} {Slow}_{\\left\\langle{}v,t\\right\\rangle{}}({e})) \\wedge{} {Loc}({e}, \\iota{} x_{e} \\: . \\: {Kitchen}({x}))) \\wedge{} {Agent}({e}, {x}))$</div></div></td><td></td></tr></table></td><td style=\"vertical-align:bottom;padding:10px\">$\\circ$</td><td style=\"vertical-align:bottom;padding:5px\"><div style=\"margin-top:10px;border-style:solid;border-color:#848482;border-width:0px\"><div style=\"vertical-align:bottom;text-align:center\">$[\\![\\mathbf{\\text{alfonso}}]\\!]^{}_{e}$</div><div style=\"vertical-align:bottom;text-align:center\">${Alfonso}_{e}$</div></div></td></tr></table></td><td style=\"border-left:1px solid #848482;vertical-align:center;padding:10px\"><span style=\"color:blue\"><b>[FA]</b></span></td></tr><tr style=\"border-style:solid;border-color:#848482;border-width:0px 1px 1px 1px\"><td style=\"padding:5px\" align=\"center\"><div style=\"margin-top:10px;border-style:solid;border-color:#848482;border-width:0px\"><div style=\"vertical-align:bottom;text-align:center\">$[\\![\\mathbf{\\text{[[ACTIVE [[inP [the kitchen]] [slowly dance]]] alfonso]}}]\\!]^{}_{\\left\\langle{}v,t\\right\\rangle{}}$</div><div style=\"vertical-align:bottom;text-align:center\">$\\lambda{} e_{v} \\: . \\: ((({Dancing}_{\\left\\langle{}v,t\\right\\rangle{}}({e}) \\wedge{} {Slow}_{\\left\\langle{}v,t\\right\\rangle{}}({e})) \\wedge{} {Loc}({e}, \\iota{} x_{e} \\: . \\: {Kitchen}({x}))) \\wedge{} {Agent}({e}, {Alfonso}_{e}))$</div></div></td><td></td></tr></table></td></tr></table></td><td style=\"border-left:1px solid #848482;vertical-align:center;padding:10px\"><span style=\"color:blue\"><b>[EC]</b></span></td></tr><tr style=\"border-style:solid;border-color:#848482;border-width:0px 1px 1px 1px\"><td style=\"padding:5px\" align=\"center\"><div style=\"margin-top:10px;border-style:solid;border-color:#848482;border-width:0px\"><div style=\"vertical-align:bottom;text-align:center\">$[\\![\\mathbf{\\text{[[[ACTIVE [[inP [the kitchen]] [slowly dance]]] alfonso]]}}]\\!]^{}_{t}$</div><div style=\"vertical-align:bottom;text-align:center\">$\\exists{} e_{v} \\: . \\: ((({Dancing}_{\\left\\langle{}v,t\\right\\rangle{}}({e}) \\wedge{} {Slow}_{\\left\\langle{}v,t\\right\\rangle{}}({e})) \\wedge{} {Loc}({e}, \\iota{} x_{e} \\: . \\: {Kitchen}({x}))) \\wedge{} {Agent}({e}, {Alfonso}_{e}))$</div></div></td><td></td></tr></table><br /><br />"
      ],
      "text/plain": [
       "1 composition path:<br /><style>.rendered_html table, .rendered_html tr, .rendered_html td, .rendered_html th { border: 0px; text-align:center; }</style><table><tr style=\"border:1px solid #848482\"><td style=\"vertical-align:bottom;padding:0px 10px\" align=\"center\"><table><tr><td style=\"vertical-align:bottom;padding:5px\"><table><tr style=\"border:1px solid #848482\"><td style=\"vertical-align:bottom;padding:0px 10px\" align=\"center\"><table><tr><td style=\"vertical-align:bottom;padding:5px\"><table><tr style=\"border:1px solid #848482\"><td style=\"vertical-align:bottom;padding:0px 10px\" align=\"center\"><table><tr><td style=\"vertical-align:bottom;padding:5px\"><div style=\"margin-top:10px;border-style:solid;border-color:#848482;border-width:0px\"><div style=\"vertical-align:bottom;text-align:center\">$[\\![\\mathbf{\\text{ACTIVE}}]\\!]^{}_{\\left\\langle{}\\left\\langle{}v,t\\right\\rangle{},\\left\\langle{}e,\\left\\langle{}v,t\\right\\rangle{}\\right\\rangle{}\\right\\rangle{}}$</div><div style=\"vertical-align:bottom;text-align:center\">$\\lambda{} f_{\\left\\langle{}v,t\\right\\rangle{}} \\: . \\: \\lambda{} x_{e} \\: . \\: \\lambda{} e_{v} \\: . \\: ({f}({e}) \\wedge{} {Agent}({e}, {x}))$</div></div></td><td style=\"vertical-align:bottom;padding:10px\">$\\circ$</td><td style=\"vertical-align:bottom;padding:5px\"><table><tr style=\"border:1px solid #848482\"><td style=\"vertical-align:bottom;padding:0px 10px\" align=\"center\"><table><tr><td style=\"vertical-align:bottom;padding:5px\"><table><tr style=\"border:1px solid #848482\"><td style=\"vertical-align:bottom;padding:0px 10px\" align=\"center\"><table><tr><td style=\"vertical-align:bottom;padding:5px\"><div style=\"margin-top:10px;border-style:solid;border-color:#848482;border-width:0px\"><div style=\"vertical-align:bottom;text-align:center\">$[\\![\\mathbf{\\text{inP}}]\\!]^{}_{\\left\\langle{}e,\\left\\langle{}\\left\\langle{}v,t\\right\\rangle{},\\left\\langle{}v,t\\right\\rangle{}\\right\\rangle{}\\right\\rangle{}}$</div><div style=\"vertical-align:bottom;text-align:center\">$\\lambda{} x_{e} \\: . \\: \\lambda{} f_{\\left\\langle{}v,t\\right\\rangle{}} \\: . \\: \\lambda{} e_{v} \\: . \\: ({f}({e}) \\wedge{} {Loc}({e}, {x}))$</div></div></td><td style=\"vertical-align:bottom;padding:10px\">$\\circ$</td><td style=\"vertical-align:bottom;padding:5px\"><table><tr style=\"border:1px solid #848482\"><td style=\"vertical-align:bottom;padding:0px 10px\" align=\"center\"><table><tr><td style=\"vertical-align:bottom;padding:5px\"><div style=\"margin-top:10px;border-style:solid;border-color:#848482;border-width:0px\"><div style=\"vertical-align:bottom;text-align:center\">$[\\![\\mathbf{\\text{the}}]\\!]^{}_{\\left\\langle{}\\left\\langle{}e,t\\right\\rangle{},e\\right\\rangle{}}$</div><div style=\"vertical-align:bottom;text-align:center\">$\\lambda{} f_{\\left\\langle{}e,t\\right\\rangle{}} \\: . \\: \\iota{} x_{e} \\: . \\: {f}({x})$</div></div></td><td style=\"vertical-align:bottom;padding:10px\">$\\circ$</td><td style=\"vertical-align:bottom;padding:5px\"><div style=\"margin-top:10px;border-style:solid;border-color:#848482;border-width:0px\"><div style=\"vertical-align:bottom;text-align:center\">$[\\![\\mathbf{\\text{kitchen}}]\\!]^{}_{\\left\\langle{}e,t\\right\\rangle{}}$</div><div style=\"vertical-align:bottom;text-align:center\">$\\lambda{} x_{e} \\: . \\: {Kitchen}({x})$</div></div></td></tr></table></td><td style=\"border-left:1px solid #848482;vertical-align:center;padding:10px\"><span style=\"color:blue\"><b>[FA]</b></span></td></tr><tr style=\"border-style:solid;border-color:#848482;border-width:0px 1px 1px 1px\"><td style=\"padding:5px\" align=\"center\"><div style=\"margin-top:10px;border-style:solid;border-color:#848482;border-width:0px\"><div style=\"vertical-align:bottom;text-align:center\">$[\\![\\mathbf{\\text{[the kitchen]}}]\\!]^{}_{e}$</div><div style=\"vertical-align:bottom;text-align:center\">$\\iota{} x_{e} \\: . \\: {Kitchen}({x})$</div></div></td><td></td></tr></table></td></tr></table></td><td style=\"border-left:1px solid #848482;vertical-align:center;padding:10px\"><span style=\"color:blue\"><b>[FA]</b></span></td></tr><tr style=\"border-style:solid;border-color:#848482;border-width:0px 1px 1px 1px\"><td style=\"padding:5px\" align=\"center\"><div style=\"margin-top:10px;border-style:solid;border-color:#848482;border-width:0px\"><div style=\"vertical-align:bottom;text-align:center\">$[\\![\\mathbf{\\text{[inP [the kitchen]]}}]\\!]^{}_{\\left\\langle{}\\left\\langle{}v,t\\right\\rangle{},\\left\\langle{}v,t\\right\\rangle{}\\right\\rangle{}}$</div><div style=\"vertical-align:bottom;text-align:center\">$\\lambda{} f_{\\left\\langle{}v,t\\right\\rangle{}} \\: . \\: \\lambda{} e_{v} \\: . \\: ({f}({e}) \\wedge{} {Loc}({e}, \\iota{} x_{e} \\: . \\: {Kitchen}({x})))$</div></div></td><td></td></tr></table></td><td style=\"vertical-align:bottom;padding:10px\">$\\circ$</td><td style=\"vertical-align:bottom;padding:5px\"><table><tr style=\"border:1px solid #848482\"><td style=\"vertical-align:bottom;padding:0px 10px\" align=\"center\"><table><tr><td style=\"vertical-align:bottom;padding:5px\"><div style=\"margin-top:10px;border-style:solid;border-color:#848482;border-width:0px\"><div style=\"vertical-align:bottom;text-align:center\">$[\\![\\mathbf{\\text{slowly}}]\\!]^{}_{\\left\\langle{}\\left\\langle{}v,t\\right\\rangle{},\\left\\langle{}v,t\\right\\rangle{}\\right\\rangle{}}$</div><div style=\"vertical-align:bottom;text-align:center\">$\\lambda{} f_{\\left\\langle{}v,t\\right\\rangle{}} \\: . \\: \\lambda{} e_{v} \\: . \\: ({f}({e}) \\wedge{} {Slow}_{\\left\\langle{}v,t\\right\\rangle{}}({e}))$</div></div></td><td style=\"vertical-align:bottom;padding:10px\">$\\circ$</td><td style=\"vertical-align:bottom;padding:5px\"><div style=\"margin-top:10px;border-style:solid;border-color:#848482;border-width:0px\"><div style=\"vertical-align:bottom;text-align:center\">$[\\![\\mathbf{\\text{dance}}]\\!]^{}_{\\left\\langle{}v,t\\right\\rangle{}}$</div><div style=\"vertical-align:bottom;text-align:center\">$\\lambda{} e_{v} \\: . \\: {Dancing}_{\\left\\langle{}v,t\\right\\rangle{}}({e})$</div></div></td></tr></table></td><td style=\"border-left:1px solid #848482;vertical-align:center;padding:10px\"><span style=\"color:blue\"><b>[FA]</b></span></td></tr><tr style=\"border-style:solid;border-color:#848482;border-width:0px 1px 1px 1px\"><td style=\"padding:5px\" align=\"center\"><div style=\"margin-top:10px;border-style:solid;border-color:#848482;border-width:0px\"><div style=\"vertical-align:bottom;text-align:center\">$[\\![\\mathbf{\\text{[slowly dance]}}]\\!]^{}_{\\left\\langle{}v,t\\right\\rangle{}}$</div><div style=\"vertical-align:bottom;text-align:center\">$\\lambda{} e_{v} \\: . \\: ({Dancing}_{\\left\\langle{}v,t\\right\\rangle{}}({e}) \\wedge{} {Slow}_{\\left\\langle{}v,t\\right\\rangle{}}({e}))$</div></div></td><td></td></tr></table></td></tr></table></td><td style=\"border-left:1px solid #848482;vertical-align:center;padding:10px\"><span style=\"color:blue\"><b>[FA]</b></span></td></tr><tr style=\"border-style:solid;border-color:#848482;border-width:0px 1px 1px 1px\"><td style=\"padding:5px\" align=\"center\"><div style=\"margin-top:10px;border-style:solid;border-color:#848482;border-width:0px\"><div style=\"vertical-align:bottom;text-align:center\">$[\\![\\mathbf{\\text{[[inP [the kitchen]] [slowly dance]]}}]\\!]^{}_{\\left\\langle{}v,t\\right\\rangle{}}$</div><div style=\"vertical-align:bottom;text-align:center\">$\\lambda{} e_{v} \\: . \\: (({Dancing}_{\\left\\langle{}v,t\\right\\rangle{}}({e}) \\wedge{} {Slow}_{\\left\\langle{}v,t\\right\\rangle{}}({e})) \\wedge{} {Loc}({e}, \\iota{} x_{e} \\: . \\: {Kitchen}({x})))$</div></div></td><td></td></tr></table></td></tr></table></td><td style=\"border-left:1px solid #848482;vertical-align:center;padding:10px\"><span style=\"color:blue\"><b>[FA]</b></span></td></tr><tr style=\"border-style:solid;border-color:#848482;border-width:0px 1px 1px 1px\"><td style=\"padding:5px\" align=\"center\"><div style=\"margin-top:10px;border-style:solid;border-color:#848482;border-width:0px\"><div style=\"vertical-align:bottom;text-align:center\">$[\\![\\mathbf{\\text{[ACTIVE [[inP [the kitchen]] [slowly dance]]]}}]\\!]^{}_{\\left\\langle{}e,\\left\\langle{}v,t\\right\\rangle{}\\right\\rangle{}}$</div><div style=\"vertical-align:bottom;text-align:center\">$\\lambda{} x_{e} \\: . \\: \\lambda{} e_{v} \\: . \\: ((({Dancing}_{\\left\\langle{}v,t\\right\\rangle{}}({e}) \\wedge{} {Slow}_{\\left\\langle{}v,t\\right\\rangle{}}({e})) \\wedge{} {Loc}({e}, \\iota{} x_{e} \\: . \\: {Kitchen}({x}))) \\wedge{} {Agent}({e}, {x}))$</div></div></td><td></td></tr></table></td><td style=\"vertical-align:bottom;padding:10px\">$\\circ$</td><td style=\"vertical-align:bottom;padding:5px\"><div style=\"margin-top:10px;border-style:solid;border-color:#848482;border-width:0px\"><div style=\"vertical-align:bottom;text-align:center\">$[\\![\\mathbf{\\text{alfonso}}]\\!]^{}_{e}$</div><div style=\"vertical-align:bottom;text-align:center\">${Alfonso}_{e}$</div></div></td></tr></table></td><td style=\"border-left:1px solid #848482;vertical-align:center;padding:10px\"><span style=\"color:blue\"><b>[FA]</b></span></td></tr><tr style=\"border-style:solid;border-color:#848482;border-width:0px 1px 1px 1px\"><td style=\"padding:5px\" align=\"center\"><div style=\"margin-top:10px;border-style:solid;border-color:#848482;border-width:0px\"><div style=\"vertical-align:bottom;text-align:center\">$[\\![\\mathbf{\\text{[[ACTIVE [[inP [the kitchen]] [slowly dance]]] alfonso]}}]\\!]^{}_{\\left\\langle{}v,t\\right\\rangle{}}$</div><div style=\"vertical-align:bottom;text-align:center\">$\\lambda{} e_{v} \\: . \\: ((({Dancing}_{\\left\\langle{}v,t\\right\\rangle{}}({e}) \\wedge{} {Slow}_{\\left\\langle{}v,t\\right\\rangle{}}({e})) \\wedge{} {Loc}({e}, \\iota{} x_{e} \\: . \\: {Kitchen}({x}))) \\wedge{} {Agent}({e}, {Alfonso}_{e}))$</div></div></td><td></td></tr></table></td></tr></table></td><td style=\"border-left:1px solid #848482;vertical-align:center;padding:10px\"><span style=\"color:blue\"><b>[EC]</b></span></td></tr><tr style=\"border-style:solid;border-color:#848482;border-width:0px 1px 1px 1px\"><td style=\"padding:5px\" align=\"center\"><div style=\"margin-top:10px;border-style:solid;border-color:#848482;border-width:0px\"><div style=\"vertical-align:bottom;text-align:center\">$[\\![\\mathbf{\\text{[[[ACTIVE [[inP [the kitchen]] [slowly dance]]] alfonso]]}}]\\!]^{}_{t}$</div><div style=\"vertical-align:bottom;text-align:center\">$\\exists{} e_{v} \\: . \\: ((({Dancing}_{\\left\\langle{}v,t\\right\\rangle{}}({e}) \\wedge{} {Slow}_{\\left\\langle{}v,t\\right\\rangle{}}({e})) \\wedge{} {Loc}({e}, \\iota{} x_{e} \\: . \\: {Kitchen}({x}))) \\wedge{} {Agent}({e}, {Alfonso}_{e}))$</div></div></td><td></td></tr></table><br /><br />"
      ]
     },
     "execution_count": 20,
     "metadata": {},
     "output_type": "execute_result"
    }
   ],
   "source": [
    "dance4.tree()"
   ]
  },
  {
   "cell_type": "code",
   "execution_count": 21,
   "metadata": {
    "collapsed": true
   },
   "outputs": [],
   "source": []
  },
  {
   "cell_type": "markdown",
   "metadata": {},
   "source": [
    "The above treatment uses Function Application for every stage.  The alternative is to use a (generalized) version of Predicate Modification, or some similar operation (e.g. Chung and Ladusaw's Restrict).\n",
    "\n",
    "The version of PM provided by the lambda notebook library is specific to type $\\langle e,t \\rangle$, so we will need to generalize.  The library implemention of PM uses the function shown below as `basic_pm_fun`, and to generalize, one can construct such an operator for arbitrary input types.  The function `construct_gpm_fun` does this, with two example property types shown."
   ]
  },
  {
   "cell_type": "code",
   "execution_count": 21,
   "metadata": {},
   "outputs": [
    {
     "data": {
      "text/latex": [
       "$\\lambda{} f_{\\left\\langle{}e,t\\right\\rangle{}} \\: . \\: \\lambda{} g_{\\left\\langle{}e,t\\right\\rangle{}} \\: . \\: \\lambda{} x_{e} \\: . \\: ({f}({x}) \\wedge{} {g}({x}))$"
      ],
      "text/plain": [
       "(λ f_<e,t>: (λ g_<e,t>: (λ x_e: (f_<e,t>(x_e) & g_<e,t>(x_e)))))"
      ]
     },
     "execution_count": 21,
     "metadata": {},
     "output_type": "execute_result"
    }
   ],
   "source": [
    "basic_pm_fun = lang.te(\"L f_<e,t> : L g_<e,t> : L x_e : f(x) & g(x)\")\n",
    "basic_pm_fun"
   ]
  },
  {
   "cell_type": "code",
   "execution_count": 22,
   "metadata": {},
   "outputs": [
    {
     "data": {
      "text/latex": [
       "$\\lambda{} f_{\\left\\langle{}X,t\\right\\rangle{}} \\: . \\: \\lambda{} g_{\\left\\langle{}X,t\\right\\rangle{}} \\: . \\: \\lambda{} x_{X} \\: . \\: ({f}({x}) \\wedge{} {g}({x}))$"
      ],
      "text/plain": [
       "(λ f_<X,t>: (λ g_<X,t>: (λ x_X: (f_<X,t>(x_X) & g_<X,t>(x_X)))))"
      ]
     },
     "execution_count": 22,
     "metadata": {},
     "output_type": "execute_result"
    }
   ],
   "source": [
    "gpm_fun = %te L f_<X,t> : L g_<X,t> : L x_X : f(x) & g(x)\n",
    "gpm_fun"
   ]
  },
  {
   "cell_type": "code",
   "execution_count": 23,
   "metadata": {},
   "outputs": [
    {
     "data": {
      "text/html": [
       "Composition system 'H&K simple (copy)'<br />Operations: {<br />&nbsp;&nbsp;&nbsp;&nbsp;Binary composition rule <i>FA</i>, built on python function 'lamb.lang.fa_fun'<br />&nbsp;&nbsp;&nbsp;&nbsp;Binary composition rule <i>PM</i>, built on python function 'lamb.lang.pm_fun'<br />&nbsp;&nbsp;&nbsp;&nbsp;Binary composition rule <i>PA</i>, built on python function 'lamb.lang.pa_fun'<br />&nbsp;&nbsp;&nbsp;&nbsp;Unary composition rule <i>EC</i>, built on combinator '$\\lambda{} f_{\\left\\langle{}v,t\\right\\rangle{}} \\: . \\: \\exists{} e_{v} \\: . \\: {f}({e})$'<br />&nbsp;&nbsp;&nbsp;&nbsp;Binary composition rule <i>GPM</i>, built on combinator '$\\lambda{} f_{\\left\\langle{}X,t\\right\\rangle{}} \\: . \\: \\lambda{} g_{\\left\\langle{}X,t\\right\\rangle{}} \\: . \\: \\lambda{} x_{X} \\: . \\: ({f}({x}) \\wedge{} {g}({x}))$'<br />}"
      ],
      "text/plain": [
       "Composition system: H&K simple (copy)"
      ]
     },
     "execution_count": 23,
     "metadata": {},
     "output_type": "execute_result"
    }
   ],
   "source": [
    "system = lang.td_system.copy()\n",
    "system.add_unary_rule(ec_fun, \"EC\")\n",
    "system.add_binary_rule(gpm_fun, \"GPM\", commutative=True)\n",
    "lang.set_system(system)\n",
    "system"
   ]
  },
  {
   "cell_type": "code",
   "execution_count": 24,
   "metadata": {},
   "outputs": [
    {
     "data": {
      "text/html": [
       "1 composition path:<br /><style>.rendered_html table, .rendered_html tr, .rendered_html td, .rendered_html th { border: 0px; text-align:center; }</style><table><tr style=\"border:1px solid #848482\"><td style=\"vertical-align:bottom;padding:0px 10px\" align=\"center\"><table><tr><td style=\"vertical-align:bottom;padding:5px\"><div style=\"margin-top:10px;border-style:solid;border-color:#848482;border-width:0px\"><div style=\"vertical-align:bottom;text-align:center\">$[\\![\\mathbf{\\text{slowly}}]\\!]^{}_{\\left\\langle{}\\left\\langle{}v,t\\right\\rangle{},\\left\\langle{}v,t\\right\\rangle{}\\right\\rangle{}}$</div><div style=\"vertical-align:bottom;text-align:center\">$\\lambda{} f_{\\left\\langle{}v,t\\right\\rangle{}} \\: . \\: \\lambda{} e_{v} \\: . \\: ({f}({e}) \\wedge{} {Slow}_{\\left\\langle{}v,t\\right\\rangle{}}({e}))$</div></div></td><td style=\"vertical-align:bottom;padding:10px\">$\\circ$</td><td style=\"vertical-align:bottom;padding:5px\"><div style=\"margin-top:10px;border-style:solid;border-color:#848482;border-width:0px\"><div style=\"vertical-align:bottom;text-align:center\">$[\\![\\mathbf{\\text{dance}}]\\!]^{}_{\\left\\langle{}v,t\\right\\rangle{}}$</div><div style=\"vertical-align:bottom;text-align:center\">$\\lambda{} e_{v} \\: . \\: {Dancing}_{\\left\\langle{}v,t\\right\\rangle{}}({e})$</div></div></td></tr></table></td><td style=\"border-left:1px solid #848482;vertical-align:center;padding:10px\"><span style=\"color:blue\"><b>[FA]</b></span></td></tr><tr style=\"border-style:solid;border-color:#848482;border-width:0px 1px 1px 1px\"><td style=\"padding:5px\" align=\"center\"><div style=\"margin-top:10px;border-style:solid;border-color:#848482;border-width:0px\"><div style=\"vertical-align:bottom;text-align:center\">$[\\![\\mathbf{\\text{[slowly dance]}}]\\!]^{}_{\\left\\langle{}v,t\\right\\rangle{}}$</div><div style=\"vertical-align:bottom;text-align:center\">$\\lambda{} e_{v} \\: . \\: ({Dancing}_{\\left\\langle{}v,t\\right\\rangle{}}({e}) \\wedge{} {Slow}_{\\left\\langle{}v,t\\right\\rangle{}}({e}))$</div></div></td><td></td></tr></table><br /><br />"
      ],
      "text/latex": [
       "1 composition path:<br /><style>.rendered_html table, .rendered_html tr, .rendered_html td, .rendered_html th { border: 0px; text-align:center; }</style><table><tr style=\"border:1px solid #848482\"><td style=\"vertical-align:bottom;padding:0px 10px\" align=\"center\"><table><tr><td style=\"vertical-align:bottom;padding:5px\"><div style=\"margin-top:10px;border-style:solid;border-color:#848482;border-width:0px\"><div style=\"vertical-align:bottom;text-align:center\">$[\\![\\mathbf{\\text{slowly}}]\\!]^{}_{\\left\\langle{}\\left\\langle{}v,t\\right\\rangle{},\\left\\langle{}v,t\\right\\rangle{}\\right\\rangle{}}$</div><div style=\"vertical-align:bottom;text-align:center\">$\\lambda{} f_{\\left\\langle{}v,t\\right\\rangle{}} \\: . \\: \\lambda{} e_{v} \\: . \\: ({f}({e}) \\wedge{} {Slow}_{\\left\\langle{}v,t\\right\\rangle{}}({e}))$</div></div></td><td style=\"vertical-align:bottom;padding:10px\">$\\circ$</td><td style=\"vertical-align:bottom;padding:5px\"><div style=\"margin-top:10px;border-style:solid;border-color:#848482;border-width:0px\"><div style=\"vertical-align:bottom;text-align:center\">$[\\![\\mathbf{\\text{dance}}]\\!]^{}_{\\left\\langle{}v,t\\right\\rangle{}}$</div><div style=\"vertical-align:bottom;text-align:center\">$\\lambda{} e_{v} \\: . \\: {Dancing}_{\\left\\langle{}v,t\\right\\rangle{}}({e})$</div></div></td></tr></table></td><td style=\"border-left:1px solid #848482;vertical-align:center;padding:10px\"><span style=\"color:blue\"><b>[FA]</b></span></td></tr><tr style=\"border-style:solid;border-color:#848482;border-width:0px 1px 1px 1px\"><td style=\"padding:5px\" align=\"center\"><div style=\"margin-top:10px;border-style:solid;border-color:#848482;border-width:0px\"><div style=\"vertical-align:bottom;text-align:center\">$[\\![\\mathbf{\\text{[slowly dance]}}]\\!]^{}_{\\left\\langle{}v,t\\right\\rangle{}}$</div><div style=\"vertical-align:bottom;text-align:center\">$\\lambda{} e_{v} \\: . \\: ({Dancing}_{\\left\\langle{}v,t\\right\\rangle{}}({e}) \\wedge{} {Slow}_{\\left\\langle{}v,t\\right\\rangle{}}({e}))$</div></div></td><td></td></tr></table><br /><br />"
      ],
      "text/plain": [
       "1 composition path:<br /><style>.rendered_html table, .rendered_html tr, .rendered_html td, .rendered_html th { border: 0px; text-align:center; }</style><table><tr style=\"border:1px solid #848482\"><td style=\"vertical-align:bottom;padding:0px 10px\" align=\"center\"><table><tr><td style=\"vertical-align:bottom;padding:5px\"><div style=\"margin-top:10px;border-style:solid;border-color:#848482;border-width:0px\"><div style=\"vertical-align:bottom;text-align:center\">$[\\![\\mathbf{\\text{slowly}}]\\!]^{}_{\\left\\langle{}\\left\\langle{}v,t\\right\\rangle{},\\left\\langle{}v,t\\right\\rangle{}\\right\\rangle{}}$</div><div style=\"vertical-align:bottom;text-align:center\">$\\lambda{} f_{\\left\\langle{}v,t\\right\\rangle{}} \\: . \\: \\lambda{} e_{v} \\: . \\: ({f}({e}) \\wedge{} {Slow}_{\\left\\langle{}v,t\\right\\rangle{}}({e}))$</div></div></td><td style=\"vertical-align:bottom;padding:10px\">$\\circ$</td><td style=\"vertical-align:bottom;padding:5px\"><div style=\"margin-top:10px;border-style:solid;border-color:#848482;border-width:0px\"><div style=\"vertical-align:bottom;text-align:center\">$[\\![\\mathbf{\\text{dance}}]\\!]^{}_{\\left\\langle{}v,t\\right\\rangle{}}$</div><div style=\"vertical-align:bottom;text-align:center\">$\\lambda{} e_{v} \\: . \\: {Dancing}_{\\left\\langle{}v,t\\right\\rangle{}}({e})$</div></div></td></tr></table></td><td style=\"border-left:1px solid #848482;vertical-align:center;padding:10px\"><span style=\"color:blue\"><b>[FA]</b></span></td></tr><tr style=\"border-style:solid;border-color:#848482;border-width:0px 1px 1px 1px\"><td style=\"padding:5px\" align=\"center\"><div style=\"margin-top:10px;border-style:solid;border-color:#848482;border-width:0px\"><div style=\"vertical-align:bottom;text-align:center\">$[\\![\\mathbf{\\text{[slowly dance]}}]\\!]^{}_{\\left\\langle{}v,t\\right\\rangle{}}$</div><div style=\"vertical-align:bottom;text-align:center\">$\\lambda{} e_{v} \\: . \\: ({Dancing}_{\\left\\langle{}v,t\\right\\rangle{}}({e}) \\wedge{} {Slow}_{\\left\\langle{}v,t\\right\\rangle{}}({e}))$</div></div></td><td></td></tr></table><br /><br />"
      ]
     },
     "execution_count": 24,
     "metadata": {},
     "output_type": "execute_result"
    }
   ],
   "source": [
    "(dance * slowly).tree()"
   ]
  },
  {
   "cell_type": "markdown",
   "metadata": {},
   "source": [
    "Note that PM is redundant with GPM, so we may want to remove PM: (and if you re-run this code without a full reset, may need to remove extra GPMs)"
   ]
  },
  {
   "cell_type": "code",
   "execution_count": 25,
   "metadata": {},
   "outputs": [
    {
     "data": {
      "text/html": [
       "Composition system 'H&K simple (copy)'<br />Operations: {<br />&nbsp;&nbsp;&nbsp;&nbsp;Binary composition rule <i>FA</i>, built on python function 'lamb.lang.fa_fun'<br />&nbsp;&nbsp;&nbsp;&nbsp;Binary composition rule <i>PA</i>, built on python function 'lamb.lang.pa_fun'<br />&nbsp;&nbsp;&nbsp;&nbsp;Unary composition rule <i>EC</i>, built on combinator '$\\lambda{} f_{\\left\\langle{}v,t\\right\\rangle{}} \\: . \\: \\exists{} e_{v} \\: . \\: {f}({e})$'<br />&nbsp;&nbsp;&nbsp;&nbsp;Binary composition rule <i>GPM</i>, built on combinator '$\\lambda{} f_{\\left\\langle{}X,t\\right\\rangle{}} \\: . \\: \\lambda{} g_{\\left\\langle{}X,t\\right\\rangle{}} \\: . \\: \\lambda{} x_{X} \\: . \\: ({f}({x}) \\wedge{} {g}({x}))$'<br />}"
      ],
      "text/plain": [
       "Composition system: H&K simple (copy)"
      ]
     },
     "execution_count": 25,
     "metadata": {},
     "output_type": "execute_result"
    }
   ],
   "source": [
    "system.remove_rule(\"PM\")\n",
    "system"
   ]
  },
  {
   "cell_type": "markdown",
   "metadata": {},
   "source": [
    "Now with those preliminaries out of the way, we are in good shape to reformulate the neo-Davidsonian account using mainly GPM.\n",
    "\n",
    "Just to demonstrate what this could involve, I'll alter the assumption about little-v.  The early implementation assumed that the subject composed in Spec,TP; now we can even assume it is in Spec,vP.  This leads to much simpler entries all around, and is close to Kratzer's original proposal."
   ]
  },
  {
   "cell_type": "code",
   "execution_count": 26,
   "metadata": {},
   "outputs": [
    {
     "name": "stdout",
     "output_type": "stream",
     "text": [
      "INFO (meta): Coerced guessed type for 'Smoking_t' into <v,t>, to match argument 'e_v'\n",
      "INFO (meta): Coerced guessed type for 'Seeing_t' into <v,t>, to match argument 'e_v'\n",
      "INFO (meta): Coerced guessed type for 'Dancing_t' into <v,t>, to match argument 'e_v'\n",
      "INFO (meta): Coerced guessed type for 'Slow_t' into <v,t>, to match argument 'e_v'\n",
      "INFO (meta): Coerced guessed type for 'Loc_t' into <(v,e),t>, to match argument '(e_v, x_e)'\n",
      "INFO (meta): Coerced guessed type for 'Kitchen_t' into <e,t>, to match argument 'x_e'\n"
     ]
    },
    {
     "data": {
      "text/html": [
       "$[\\![\\mathbf{\\text{smokes}}]\\!]^{}_{\\left\\langle{}v,t\\right\\rangle{}} \\:=\\: $$\\lambda{} e_{v} \\: . \\: {Smoking}_{\\left\\langle{}v,t\\right\\rangle{}}({e})$<br />\n",
       "$[\\![\\mathbf{\\text{sees}}]\\!]^{}_{\\left\\langle{}e,\\left\\langle{}v,t\\right\\rangle{}\\right\\rangle{}} \\:=\\: $$\\lambda{} y_{e} \\: . \\: \\lambda{} e_{v} \\: . \\: ({Seeing}_{\\left\\langle{}v,t\\right\\rangle{}}({e}) \\wedge{} {Patient}({e}, {y}))$<br />\n",
       "$[\\![\\mathbf{\\text{ACTIVE}}]\\!]^{}_{\\left\\langle{}e,\\left\\langle{}v,t\\right\\rangle{}\\right\\rangle{}} \\:=\\: $$\\lambda{} x_{e} \\: . \\: \\lambda{} e_{v} \\: . \\: {Agent}({e}, {x})$<br />\n",
       "$[\\![\\mathbf{\\text{dance}}]\\!]^{}_{\\left\\langle{}v,t\\right\\rangle{}} \\:=\\: $$\\lambda{} e_{v} \\: . \\: {Dancing}_{\\left\\langle{}v,t\\right\\rangle{}}({e})$<br />\n",
       "$[\\![\\mathbf{\\text{slowly}}]\\!]^{}_{\\left\\langle{}v,t\\right\\rangle{}} \\:=\\: $$\\lambda{} e_{v} \\: . \\: {Slow}_{\\left\\langle{}v,t\\right\\rangle{}}({e})$<br />\n",
       "$[\\![\\mathbf{\\text{inP}}]\\!]^{}_{\\left\\langle{}e,\\left\\langle{}v,t\\right\\rangle{}\\right\\rangle{}} \\:=\\: $$\\lambda{} x_{e} \\: . \\: \\lambda{} e_{v} \\: . \\: {Loc}({e}, {x})$<br />\n",
       "$[\\![\\mathbf{\\text{the}}]\\!]^{}_{\\left\\langle{}\\left\\langle{}e,t\\right\\rangle{},e\\right\\rangle{}} \\:=\\: $$\\lambda{} f_{\\left\\langle{}e,t\\right\\rangle{}} \\: . \\: \\iota{} x_{e} \\: . \\: {f}({x})$<br />\n",
       "$[\\![\\mathbf{\\text{kitchen}}]\\!]^{}_{\\left\\langle{}e,t\\right\\rangle{}} \\:=\\: $$\\lambda{} x_{e} \\: . \\: {Kitchen}({x})$"
      ],
      "text/latex": [
       "$[\\![\\mathbf{\\text{smokes}}]\\!]^{}_{\\left\\langle{}v,t\\right\\rangle{}} \\:=\\: $$\\lambda{} e_{v} \\: . \\: {Smoking}_{\\left\\langle{}v,t\\right\\rangle{}}({e})$<br />\n",
       "$[\\![\\mathbf{\\text{sees}}]\\!]^{}_{\\left\\langle{}e,\\left\\langle{}v,t\\right\\rangle{}\\right\\rangle{}} \\:=\\: $$\\lambda{} y_{e} \\: . \\: \\lambda{} e_{v} \\: . \\: ({Seeing}_{\\left\\langle{}v,t\\right\\rangle{}}({e}) \\wedge{} {Patient}({e}, {y}))$<br />\n",
       "$[\\![\\mathbf{\\text{ACTIVE}}]\\!]^{}_{\\left\\langle{}e,\\left\\langle{}v,t\\right\\rangle{}\\right\\rangle{}} \\:=\\: $$\\lambda{} x_{e} \\: . \\: \\lambda{} e_{v} \\: . \\: {Agent}({e}, {x})$<br />\n",
       "$[\\![\\mathbf{\\text{dance}}]\\!]^{}_{\\left\\langle{}v,t\\right\\rangle{}} \\:=\\: $$\\lambda{} e_{v} \\: . \\: {Dancing}_{\\left\\langle{}v,t\\right\\rangle{}}({e})$<br />\n",
       "$[\\![\\mathbf{\\text{slowly}}]\\!]^{}_{\\left\\langle{}v,t\\right\\rangle{}} \\:=\\: $$\\lambda{} e_{v} \\: . \\: {Slow}_{\\left\\langle{}v,t\\right\\rangle{}}({e})$<br />\n",
       "$[\\![\\mathbf{\\text{inP}}]\\!]^{}_{\\left\\langle{}e,\\left\\langle{}v,t\\right\\rangle{}\\right\\rangle{}} \\:=\\: $$\\lambda{} x_{e} \\: . \\: \\lambda{} e_{v} \\: . \\: {Loc}({e}, {x})$<br />\n",
       "$[\\![\\mathbf{\\text{the}}]\\!]^{}_{\\left\\langle{}\\left\\langle{}e,t\\right\\rangle{},e\\right\\rangle{}} \\:=\\: $$\\lambda{} f_{\\left\\langle{}e,t\\right\\rangle{}} \\: . \\: \\iota{} x_{e} \\: . \\: {f}({x})$<br />\n",
       "$[\\![\\mathbf{\\text{kitchen}}]\\!]^{}_{\\left\\langle{}e,t\\right\\rangle{}} \\:=\\: $$\\lambda{} x_{e} \\: . \\: {Kitchen}({x})$"
      ],
      "text/plain": [
       "$[\\![\\mathbf{\\text{smokes}}]\\!]^{}_{\\left\\langle{}v,t\\right\\rangle{}} \\:=\\: $$\\lambda{} e_{v} \\: . \\: {Smoking}_{\\left\\langle{}v,t\\right\\rangle{}}({e})$<br />\n",
       "$[\\![\\mathbf{\\text{sees}}]\\!]^{}_{\\left\\langle{}e,\\left\\langle{}v,t\\right\\rangle{}\\right\\rangle{}} \\:=\\: $$\\lambda{} y_{e} \\: . \\: \\lambda{} e_{v} \\: . \\: ({Seeing}_{\\left\\langle{}v,t\\right\\rangle{}}({e}) \\wedge{} {Patient}({e}, {y}))$<br />\n",
       "$[\\![\\mathbf{\\text{ACTIVE}}]\\!]^{}_{\\left\\langle{}e,\\left\\langle{}v,t\\right\\rangle{}\\right\\rangle{}} \\:=\\: $$\\lambda{} x_{e} \\: . \\: \\lambda{} e_{v} \\: . \\: {Agent}({e}, {x})$<br />\n",
       "$[\\![\\mathbf{\\text{dance}}]\\!]^{}_{\\left\\langle{}v,t\\right\\rangle{}} \\:=\\: $$\\lambda{} e_{v} \\: . \\: {Dancing}_{\\left\\langle{}v,t\\right\\rangle{}}({e})$<br />\n",
       "$[\\![\\mathbf{\\text{slowly}}]\\!]^{}_{\\left\\langle{}v,t\\right\\rangle{}} \\:=\\: $$\\lambda{} e_{v} \\: . \\: {Slow}_{\\left\\langle{}v,t\\right\\rangle{}}({e})$<br />\n",
       "$[\\![\\mathbf{\\text{inP}}]\\!]^{}_{\\left\\langle{}e,\\left\\langle{}v,t\\right\\rangle{}\\right\\rangle{}} \\:=\\: $$\\lambda{} x_{e} \\: . \\: \\lambda{} e_{v} \\: . \\: {Loc}({e}, {x})$<br />\n",
       "$[\\![\\mathbf{\\text{the}}]\\!]^{}_{\\left\\langle{}\\left\\langle{}e,t\\right\\rangle{},e\\right\\rangle{}} \\:=\\: $$\\lambda{} f_{\\left\\langle{}e,t\\right\\rangle{}} \\: . \\: \\iota{} x_{e} \\: . \\: {f}({x})$<br />\n",
       "$[\\![\\mathbf{\\text{kitchen}}]\\!]^{}_{\\left\\langle{}e,t\\right\\rangle{}} \\:=\\: $$\\lambda{} x_{e} \\: . \\: {Kitchen}({x})$"
      ]
     },
     "execution_count": 26,
     "metadata": {},
     "output_type": "execute_result"
    }
   ],
   "source": [
    "%%lamb\n",
    "# redo everything\n",
    "||smokes|| = L e_v : Smoking(e)\n",
    "||sees|| = L y_e : L e_v : Seeing(e) & patient(e,y)\n",
    "||ACTIVE|| = L x_e : L e_v : agent(e,x)\n",
    "||dance|| = L e_v : Dancing(e)\n",
    "||slowly|| = L e_v : Slow(e)\n",
    "||inP|| = L x_e : L e_v : Loc(e, x)\n",
    "||the|| = L f_<e,t> : Iota x_e : f(x)\n",
    "||kitchen|| = L x_e : Kitchen(x)"
   ]
  },
  {
   "cell_type": "code",
   "execution_count": 27,
   "metadata": {},
   "outputs": [
    {
     "data": {
      "text/html": [
       "1 composition path:<br /><style>.rendered_html table, .rendered_html tr, .rendered_html td, .rendered_html th { border: 0px; text-align:center; }</style><table><tr style=\"border:1px solid #848482\"><td style=\"vertical-align:bottom;padding:0px 10px\" align=\"center\"><table><tr><td style=\"vertical-align:bottom;padding:5px\"><table><tr style=\"border:1px solid #848482\"><td style=\"vertical-align:bottom;padding:0px 10px\" align=\"center\"><table><tr><td style=\"vertical-align:bottom;padding:5px\"><div style=\"margin-top:10px;border-style:solid;border-color:#848482;border-width:0px\"><div style=\"vertical-align:bottom;text-align:center\">$[\\![\\mathbf{\\text{ACTIVE}}]\\!]^{}_{\\left\\langle{}e,\\left\\langle{}v,t\\right\\rangle{}\\right\\rangle{}}$</div><div style=\"vertical-align:bottom;text-align:center\">$\\lambda{} x_{e} \\: . \\: \\lambda{} e_{v} \\: . \\: {Agent}({e}, {x})$</div></div></td><td style=\"vertical-align:bottom;padding:10px\">$\\circ$</td><td style=\"vertical-align:bottom;padding:5px\"><div style=\"margin-top:10px;border-style:solid;border-color:#848482;border-width:0px\"><div style=\"vertical-align:bottom;text-align:center\">$[\\![\\mathbf{\\text{alfonso}}]\\!]^{}_{e}$</div><div style=\"vertical-align:bottom;text-align:center\">${Alfonso}_{e}$</div></div></td></tr></table></td><td style=\"border-left:1px solid #848482;vertical-align:center;padding:10px\"><span style=\"color:blue\"><b>[FA]</b></span></td></tr><tr style=\"border-style:solid;border-color:#848482;border-width:0px 1px 1px 1px\"><td style=\"padding:5px\" align=\"center\"><div style=\"margin-top:10px;border-style:solid;border-color:#848482;border-width:0px\"><div style=\"vertical-align:bottom;text-align:center\">$[\\![\\mathbf{\\text{[ACTIVE alfonso]}}]\\!]^{}_{\\left\\langle{}v,t\\right\\rangle{}}$</div><div style=\"vertical-align:bottom;text-align:center\">$\\lambda{} e_{v} \\: . \\: {Agent}({e}, {Alfonso}_{e})$</div></div></td><td></td></tr></table></td><td style=\"vertical-align:bottom;padding:10px\">$\\circ$</td><td style=\"vertical-align:bottom;padding:5px\"><div style=\"margin-top:10px;border-style:solid;border-color:#848482;border-width:0px\"><div style=\"vertical-align:bottom;text-align:center\">$[\\![\\mathbf{\\text{smokes}}]\\!]^{}_{\\left\\langle{}v,t\\right\\rangle{}}$</div><div style=\"vertical-align:bottom;text-align:center\">$\\lambda{} e_{v} \\: . \\: {Smoking}_{\\left\\langle{}v,t\\right\\rangle{}}({e})$</div></div></td></tr></table></td><td style=\"border-left:1px solid #848482;vertical-align:center;padding:10px\"><span style=\"color:blue\"><b>[GPM]</b></span></td></tr><tr style=\"border-style:solid;border-color:#848482;border-width:0px 1px 1px 1px\"><td style=\"padding:5px\" align=\"center\"><div style=\"margin-top:10px;border-style:solid;border-color:#848482;border-width:0px\"><div style=\"vertical-align:bottom;text-align:center\">$[\\![\\mathbf{\\text{[[ACTIVE alfonso] smokes]}}]\\!]^{}_{\\left\\langle{}v,t\\right\\rangle{}}$</div><div style=\"vertical-align:bottom;text-align:center\">$\\lambda{} x_{v} \\: . \\: ({Agent}({x}, {Alfonso}_{e}) \\wedge{} {Smoking}_{\\left\\langle{}v,t\\right\\rangle{}}({x}))$</div></div></td><td></td></tr></table><br /><br />"
      ],
      "text/latex": [
       "1 composition path:<br /><style>.rendered_html table, .rendered_html tr, .rendered_html td, .rendered_html th { border: 0px; text-align:center; }</style><table><tr style=\"border:1px solid #848482\"><td style=\"vertical-align:bottom;padding:0px 10px\" align=\"center\"><table><tr><td style=\"vertical-align:bottom;padding:5px\"><table><tr style=\"border:1px solid #848482\"><td style=\"vertical-align:bottom;padding:0px 10px\" align=\"center\"><table><tr><td style=\"vertical-align:bottom;padding:5px\"><div style=\"margin-top:10px;border-style:solid;border-color:#848482;border-width:0px\"><div style=\"vertical-align:bottom;text-align:center\">$[\\![\\mathbf{\\text{ACTIVE}}]\\!]^{}_{\\left\\langle{}e,\\left\\langle{}v,t\\right\\rangle{}\\right\\rangle{}}$</div><div style=\"vertical-align:bottom;text-align:center\">$\\lambda{} x_{e} \\: . \\: \\lambda{} e_{v} \\: . \\: {Agent}({e}, {x})$</div></div></td><td style=\"vertical-align:bottom;padding:10px\">$\\circ$</td><td style=\"vertical-align:bottom;padding:5px\"><div style=\"margin-top:10px;border-style:solid;border-color:#848482;border-width:0px\"><div style=\"vertical-align:bottom;text-align:center\">$[\\![\\mathbf{\\text{alfonso}}]\\!]^{}_{e}$</div><div style=\"vertical-align:bottom;text-align:center\">${Alfonso}_{e}$</div></div></td></tr></table></td><td style=\"border-left:1px solid #848482;vertical-align:center;padding:10px\"><span style=\"color:blue\"><b>[FA]</b></span></td></tr><tr style=\"border-style:solid;border-color:#848482;border-width:0px 1px 1px 1px\"><td style=\"padding:5px\" align=\"center\"><div style=\"margin-top:10px;border-style:solid;border-color:#848482;border-width:0px\"><div style=\"vertical-align:bottom;text-align:center\">$[\\![\\mathbf{\\text{[ACTIVE alfonso]}}]\\!]^{}_{\\left\\langle{}v,t\\right\\rangle{}}$</div><div style=\"vertical-align:bottom;text-align:center\">$\\lambda{} e_{v} \\: . \\: {Agent}({e}, {Alfonso}_{e})$</div></div></td><td></td></tr></table></td><td style=\"vertical-align:bottom;padding:10px\">$\\circ$</td><td style=\"vertical-align:bottom;padding:5px\"><div style=\"margin-top:10px;border-style:solid;border-color:#848482;border-width:0px\"><div style=\"vertical-align:bottom;text-align:center\">$[\\![\\mathbf{\\text{smokes}}]\\!]^{}_{\\left\\langle{}v,t\\right\\rangle{}}$</div><div style=\"vertical-align:bottom;text-align:center\">$\\lambda{} e_{v} \\: . \\: {Smoking}_{\\left\\langle{}v,t\\right\\rangle{}}({e})$</div></div></td></tr></table></td><td style=\"border-left:1px solid #848482;vertical-align:center;padding:10px\"><span style=\"color:blue\"><b>[GPM]</b></span></td></tr><tr style=\"border-style:solid;border-color:#848482;border-width:0px 1px 1px 1px\"><td style=\"padding:5px\" align=\"center\"><div style=\"margin-top:10px;border-style:solid;border-color:#848482;border-width:0px\"><div style=\"vertical-align:bottom;text-align:center\">$[\\![\\mathbf{\\text{[[ACTIVE alfonso] smokes]}}]\\!]^{}_{\\left\\langle{}v,t\\right\\rangle{}}$</div><div style=\"vertical-align:bottom;text-align:center\">$\\lambda{} x_{v} \\: . \\: ({Agent}({x}, {Alfonso}_{e}) \\wedge{} {Smoking}_{\\left\\langle{}v,t\\right\\rangle{}}({x}))$</div></div></td><td></td></tr></table><br /><br />"
      ],
      "text/plain": [
       "1 composition path:<br /><style>.rendered_html table, .rendered_html tr, .rendered_html td, .rendered_html th { border: 0px; text-align:center; }</style><table><tr style=\"border:1px solid #848482\"><td style=\"vertical-align:bottom;padding:0px 10px\" align=\"center\"><table><tr><td style=\"vertical-align:bottom;padding:5px\"><table><tr style=\"border:1px solid #848482\"><td style=\"vertical-align:bottom;padding:0px 10px\" align=\"center\"><table><tr><td style=\"vertical-align:bottom;padding:5px\"><div style=\"margin-top:10px;border-style:solid;border-color:#848482;border-width:0px\"><div style=\"vertical-align:bottom;text-align:center\">$[\\![\\mathbf{\\text{ACTIVE}}]\\!]^{}_{\\left\\langle{}e,\\left\\langle{}v,t\\right\\rangle{}\\right\\rangle{}}$</div><div style=\"vertical-align:bottom;text-align:center\">$\\lambda{} x_{e} \\: . \\: \\lambda{} e_{v} \\: . \\: {Agent}({e}, {x})$</div></div></td><td style=\"vertical-align:bottom;padding:10px\">$\\circ$</td><td style=\"vertical-align:bottom;padding:5px\"><div style=\"margin-top:10px;border-style:solid;border-color:#848482;border-width:0px\"><div style=\"vertical-align:bottom;text-align:center\">$[\\![\\mathbf{\\text{alfonso}}]\\!]^{}_{e}$</div><div style=\"vertical-align:bottom;text-align:center\">${Alfonso}_{e}$</div></div></td></tr></table></td><td style=\"border-left:1px solid #848482;vertical-align:center;padding:10px\"><span style=\"color:blue\"><b>[FA]</b></span></td></tr><tr style=\"border-style:solid;border-color:#848482;border-width:0px 1px 1px 1px\"><td style=\"padding:5px\" align=\"center\"><div style=\"margin-top:10px;border-style:solid;border-color:#848482;border-width:0px\"><div style=\"vertical-align:bottom;text-align:center\">$[\\![\\mathbf{\\text{[ACTIVE alfonso]}}]\\!]^{}_{\\left\\langle{}v,t\\right\\rangle{}}$</div><div style=\"vertical-align:bottom;text-align:center\">$\\lambda{} e_{v} \\: . \\: {Agent}({e}, {Alfonso}_{e})$</div></div></td><td></td></tr></table></td><td style=\"vertical-align:bottom;padding:10px\">$\\circ$</td><td style=\"vertical-align:bottom;padding:5px\"><div style=\"margin-top:10px;border-style:solid;border-color:#848482;border-width:0px\"><div style=\"vertical-align:bottom;text-align:center\">$[\\![\\mathbf{\\text{smokes}}]\\!]^{}_{\\left\\langle{}v,t\\right\\rangle{}}$</div><div style=\"vertical-align:bottom;text-align:center\">$\\lambda{} e_{v} \\: . \\: {Smoking}_{\\left\\langle{}v,t\\right\\rangle{}}({e})$</div></div></td></tr></table></td><td style=\"border-left:1px solid #848482;vertical-align:center;padding:10px\"><span style=\"color:blue\"><b>[GPM]</b></span></td></tr><tr style=\"border-style:solid;border-color:#848482;border-width:0px 1px 1px 1px\"><td style=\"padding:5px\" align=\"center\"><div style=\"margin-top:10px;border-style:solid;border-color:#848482;border-width:0px\"><div style=\"vertical-align:bottom;text-align:center\">$[\\![\\mathbf{\\text{[[ACTIVE alfonso] smokes]}}]\\!]^{}_{\\left\\langle{}v,t\\right\\rangle{}}$</div><div style=\"vertical-align:bottom;text-align:center\">$\\lambda{} x_{v} \\: . \\: ({Agent}({x}, {Alfonso}_{e}) \\wedge{} {Smoking}_{\\left\\langle{}v,t\\right\\rangle{}}({x}))$</div></div></td><td></td></tr></table><br /><br />"
      ]
     },
     "execution_count": 27,
     "metadata": {},
     "output_type": "execute_result"
    }
   ],
   "source": [
    "v = ACTIVE\n",
    "((alfonso * v) * smokes).tree()"
   ]
  },
  {
   "cell_type": "code",
   "execution_count": 28,
   "metadata": {},
   "outputs": [
    {
     "data": {
      "text/html": [
       "1 composition path.  Result:\n",
       "<br />&nbsp;&nbsp;&nbsp;&nbsp;[0]: $[\\![\\mathbf{\\text{[[[ACTIVE alfonso] [[dance slowly] [inP [the kitchen]]]]]}}]\\!]^{}_{t} \\:=\\: $$\\exists{} e_{v} \\: . \\: ({Agent}({e}, {Alfonso}_{e}) \\wedge{} (({Dancing}_{\\left\\langle{}v,t\\right\\rangle{}}({e}) \\wedge{} {Slow}_{\\left\\langle{}v,t\\right\\rangle{}}({e})) \\wedge{} {Loc}({e}, \\iota{} x1_{e} \\: . \\: {Kitchen}({x1}))))$"
      ],
      "text/plain": [
       "CompositionResult(results=[⟦[[[ACTIVE alfonso] [[dance slowly] [inP [the kitchen]]]]]⟧ = (Exists e_v: (Agent_<(v,e),t>(e_v, Alfonso_e) & ((Dancing_<v,t>(e_v) & Slow_<v,t>(e_v)) & Loc_<(v,e),t>(e_v, (ι x1_e: Kitchen_<e,t>(x1_e))))))], failures=[])"
      ]
     },
     "execution_count": 28,
     "metadata": {},
     "output_type": "execute_result"
    }
   ],
   "source": [
    "((alfonso * v) * ((dance * slowly) * (inP * (the * kitchen)))) * None"
   ]
  },
  {
   "cell_type": "code",
   "execution_count": 29,
   "metadata": {},
   "outputs": [
    {
     "data": {
      "text/html": [
       "1 composition path:<br /><style>.rendered_html table, .rendered_html tr, .rendered_html td, .rendered_html th { border: 0px; text-align:center; }</style><table><tr style=\"border:1px solid #848482\"><td style=\"vertical-align:bottom;padding:0px 10px\" align=\"center\"><table><tr><td style=\"vertical-align:bottom;padding:5px\"><table><tr style=\"border:1px solid #848482\"><td style=\"vertical-align:bottom;padding:0px 10px\" align=\"center\"><table><tr><td style=\"vertical-align:bottom;padding:5px\"><table><tr style=\"border:1px solid #848482\"><td style=\"vertical-align:bottom;padding:0px 10px\" align=\"center\"><table><tr><td style=\"vertical-align:bottom;padding:5px\"><div style=\"margin-top:10px;border-style:solid;border-color:#848482;border-width:0px\"><div style=\"vertical-align:bottom;text-align:center\">$[\\![\\mathbf{\\text{ACTIVE}}]\\!]^{}_{\\left\\langle{}e,\\left\\langle{}v,t\\right\\rangle{}\\right\\rangle{}}$</div><div style=\"vertical-align:bottom;text-align:center\">$\\lambda{} x_{e} \\: . \\: \\lambda{} e_{v} \\: . \\: {Agent}({e}, {x})$</div></div></td><td style=\"vertical-align:bottom;padding:10px\">$\\circ$</td><td style=\"vertical-align:bottom;padding:5px\"><div style=\"margin-top:10px;border-style:solid;border-color:#848482;border-width:0px\"><div style=\"vertical-align:bottom;text-align:center\">$[\\![\\mathbf{\\text{alfonso}}]\\!]^{}_{e}$</div><div style=\"vertical-align:bottom;text-align:center\">${Alfonso}_{e}$</div></div></td></tr></table></td><td style=\"border-left:1px solid #848482;vertical-align:center;padding:10px\"><span style=\"color:blue\"><b>[FA]</b></span></td></tr><tr style=\"border-style:solid;border-color:#848482;border-width:0px 1px 1px 1px\"><td style=\"padding:5px\" align=\"center\"><div style=\"margin-top:10px;border-style:solid;border-color:#848482;border-width:0px\"><div style=\"vertical-align:bottom;text-align:center\">$[\\![\\mathbf{\\text{[ACTIVE alfonso]}}]\\!]^{}_{\\left\\langle{}v,t\\right\\rangle{}}$</div><div style=\"vertical-align:bottom;text-align:center\">$\\lambda{} e_{v} \\: . \\: {Agent}({e}, {Alfonso}_{e})$</div></div></td><td></td></tr></table></td><td style=\"vertical-align:bottom;padding:10px\">$\\circ$</td><td style=\"vertical-align:bottom;padding:5px\"><table><tr style=\"border:1px solid #848482\"><td style=\"vertical-align:bottom;padding:0px 10px\" align=\"center\"><table><tr><td style=\"vertical-align:bottom;padding:5px\"><table><tr style=\"border:1px solid #848482\"><td style=\"vertical-align:bottom;padding:0px 10px\" align=\"center\"><table><tr><td style=\"vertical-align:bottom;padding:5px\"><div style=\"margin-top:10px;border-style:solid;border-color:#848482;border-width:0px\"><div style=\"vertical-align:bottom;text-align:center\">$[\\![\\mathbf{\\text{dance}}]\\!]^{}_{\\left\\langle{}v,t\\right\\rangle{}}$</div><div style=\"vertical-align:bottom;text-align:center\">$\\lambda{} e_{v} \\: . \\: {Dancing}_{\\left\\langle{}v,t\\right\\rangle{}}({e})$</div></div></td><td style=\"vertical-align:bottom;padding:10px\">$\\circ$</td><td style=\"vertical-align:bottom;padding:5px\"><div style=\"margin-top:10px;border-style:solid;border-color:#848482;border-width:0px\"><div style=\"vertical-align:bottom;text-align:center\">$[\\![\\mathbf{\\text{slowly}}]\\!]^{}_{\\left\\langle{}v,t\\right\\rangle{}}$</div><div style=\"vertical-align:bottom;text-align:center\">$\\lambda{} e_{v} \\: . \\: {Slow}_{\\left\\langle{}v,t\\right\\rangle{}}({e})$</div></div></td></tr></table></td><td style=\"border-left:1px solid #848482;vertical-align:center;padding:10px\"><span style=\"color:blue\"><b>[GPM]</b></span></td></tr><tr style=\"border-style:solid;border-color:#848482;border-width:0px 1px 1px 1px\"><td style=\"padding:5px\" align=\"center\"><div style=\"margin-top:10px;border-style:solid;border-color:#848482;border-width:0px\"><div style=\"vertical-align:bottom;text-align:center\">$[\\![\\mathbf{\\text{[dance slowly]}}]\\!]^{}_{\\left\\langle{}v,t\\right\\rangle{}}$</div><div style=\"vertical-align:bottom;text-align:center\">$\\lambda{} x_{v} \\: . \\: ({Dancing}_{\\left\\langle{}v,t\\right\\rangle{}}({x}) \\wedge{} {Slow}_{\\left\\langle{}v,t\\right\\rangle{}}({x}))$</div></div></td><td></td></tr></table></td><td style=\"vertical-align:bottom;padding:10px\">$\\circ$</td><td style=\"vertical-align:bottom;padding:5px\"><table><tr style=\"border:1px solid #848482\"><td style=\"vertical-align:bottom;padding:0px 10px\" align=\"center\"><table><tr><td style=\"vertical-align:bottom;padding:5px\"><div style=\"margin-top:10px;border-style:solid;border-color:#848482;border-width:0px\"><div style=\"vertical-align:bottom;text-align:center\">$[\\![\\mathbf{\\text{inP}}]\\!]^{}_{\\left\\langle{}e,\\left\\langle{}v,t\\right\\rangle{}\\right\\rangle{}}$</div><div style=\"vertical-align:bottom;text-align:center\">$\\lambda{} x_{e} \\: . \\: \\lambda{} e_{v} \\: . \\: {Loc}({e}, {x})$</div></div></td><td style=\"vertical-align:bottom;padding:10px\">$\\circ$</td><td style=\"vertical-align:bottom;padding:5px\"><table><tr style=\"border:1px solid #848482\"><td style=\"vertical-align:bottom;padding:0px 10px\" align=\"center\"><table><tr><td style=\"vertical-align:bottom;padding:5px\"><div style=\"margin-top:10px;border-style:solid;border-color:#848482;border-width:0px\"><div style=\"vertical-align:bottom;text-align:center\">$[\\![\\mathbf{\\text{the}}]\\!]^{}_{\\left\\langle{}\\left\\langle{}e,t\\right\\rangle{},e\\right\\rangle{}}$</div><div style=\"vertical-align:bottom;text-align:center\">$\\lambda{} f_{\\left\\langle{}e,t\\right\\rangle{}} \\: . \\: \\iota{} x_{e} \\: . \\: {f}({x})$</div></div></td><td style=\"vertical-align:bottom;padding:10px\">$\\circ$</td><td style=\"vertical-align:bottom;padding:5px\"><div style=\"margin-top:10px;border-style:solid;border-color:#848482;border-width:0px\"><div style=\"vertical-align:bottom;text-align:center\">$[\\![\\mathbf{\\text{kitchen}}]\\!]^{}_{\\left\\langle{}e,t\\right\\rangle{}}$</div><div style=\"vertical-align:bottom;text-align:center\">$\\lambda{} x_{e} \\: . \\: {Kitchen}({x})$</div></div></td></tr></table></td><td style=\"border-left:1px solid #848482;vertical-align:center;padding:10px\"><span style=\"color:blue\"><b>[FA]</b></span></td></tr><tr style=\"border-style:solid;border-color:#848482;border-width:0px 1px 1px 1px\"><td style=\"padding:5px\" align=\"center\"><div style=\"margin-top:10px;border-style:solid;border-color:#848482;border-width:0px\"><div style=\"vertical-align:bottom;text-align:center\">$[\\![\\mathbf{\\text{[the kitchen]}}]\\!]^{}_{e}$</div><div style=\"vertical-align:bottom;text-align:center\">$\\iota{} x_{e} \\: . \\: {Kitchen}({x})$</div></div></td><td></td></tr></table></td></tr></table></td><td style=\"border-left:1px solid #848482;vertical-align:center;padding:10px\"><span style=\"color:blue\"><b>[FA]</b></span></td></tr><tr style=\"border-style:solid;border-color:#848482;border-width:0px 1px 1px 1px\"><td style=\"padding:5px\" align=\"center\"><div style=\"margin-top:10px;border-style:solid;border-color:#848482;border-width:0px\"><div style=\"vertical-align:bottom;text-align:center\">$[\\![\\mathbf{\\text{[inP [the kitchen]]}}]\\!]^{}_{\\left\\langle{}v,t\\right\\rangle{}}$</div><div style=\"vertical-align:bottom;text-align:center\">$\\lambda{} e_{v} \\: . \\: {Loc}({e}, \\iota{} x_{e} \\: . \\: {Kitchen}({x}))$</div></div></td><td></td></tr></table></td></tr></table></td><td style=\"border-left:1px solid #848482;vertical-align:center;padding:10px\"><span style=\"color:blue\"><b>[GPM]</b></span></td></tr><tr style=\"border-style:solid;border-color:#848482;border-width:0px 1px 1px 1px\"><td style=\"padding:5px\" align=\"center\"><div style=\"margin-top:10px;border-style:solid;border-color:#848482;border-width:0px\"><div style=\"vertical-align:bottom;text-align:center\">$[\\![\\mathbf{\\text{[[dance slowly] [inP [the kitchen]]]}}]\\!]^{}_{\\left\\langle{}v,t\\right\\rangle{}}$</div><div style=\"vertical-align:bottom;text-align:center\">$\\lambda{} x_{v} \\: . \\: (({Dancing}_{\\left\\langle{}v,t\\right\\rangle{}}({x}) \\wedge{} {Slow}_{\\left\\langle{}v,t\\right\\rangle{}}({x})) \\wedge{} {Loc}({x}, \\iota{} x1_{e} \\: . \\: {Kitchen}({x1})))$</div></div></td><td></td></tr></table></td></tr></table></td><td style=\"border-left:1px solid #848482;vertical-align:center;padding:10px\"><span style=\"color:blue\"><b>[GPM]</b></span></td></tr><tr style=\"border-style:solid;border-color:#848482;border-width:0px 1px 1px 1px\"><td style=\"padding:5px\" align=\"center\"><div style=\"margin-top:10px;border-style:solid;border-color:#848482;border-width:0px\"><div style=\"vertical-align:bottom;text-align:center\">$[\\![\\mathbf{\\text{[[ACTIVE alfonso] [[dance slowly] [inP [the kitchen]]]]}}]\\!]^{}_{\\left\\langle{}v,t\\right\\rangle{}}$</div><div style=\"vertical-align:bottom;text-align:center\">$\\lambda{} x_{v} \\: . \\: ({Agent}({x}, {Alfonso}_{e}) \\wedge{} (({Dancing}_{\\left\\langle{}v,t\\right\\rangle{}}({x}) \\wedge{} {Slow}_{\\left\\langle{}v,t\\right\\rangle{}}({x})) \\wedge{} {Loc}({x}, \\iota{} x1_{e} \\: . \\: {Kitchen}({x1}))))$</div></div></td><td></td></tr></table></td></tr></table></td><td style=\"border-left:1px solid #848482;vertical-align:center;padding:10px\"><span style=\"color:blue\"><b>[EC]</b></span></td></tr><tr style=\"border-style:solid;border-color:#848482;border-width:0px 1px 1px 1px\"><td style=\"padding:5px\" align=\"center\"><div style=\"margin-top:10px;border-style:solid;border-color:#848482;border-width:0px\"><div style=\"vertical-align:bottom;text-align:center\">$[\\![\\mathbf{\\text{[[[ACTIVE alfonso] [[dance slowly] [inP [the kitchen]]]]]}}]\\!]^{}_{t}$</div><div style=\"vertical-align:bottom;text-align:center\">$\\exists{} e_{v} \\: . \\: ({Agent}({e}, {Alfonso}_{e}) \\wedge{} (({Dancing}_{\\left\\langle{}v,t\\right\\rangle{}}({e}) \\wedge{} {Slow}_{\\left\\langle{}v,t\\right\\rangle{}}({e})) \\wedge{} {Loc}({e}, \\iota{} x1_{e} \\: . \\: {Kitchen}({x1}))))$</div></div></td><td></td></tr></table><br /><br />"
      ],
      "text/latex": [
       "1 composition path:<br /><style>.rendered_html table, .rendered_html tr, .rendered_html td, .rendered_html th { border: 0px; text-align:center; }</style><table><tr style=\"border:1px solid #848482\"><td style=\"vertical-align:bottom;padding:0px 10px\" align=\"center\"><table><tr><td style=\"vertical-align:bottom;padding:5px\"><table><tr style=\"border:1px solid #848482\"><td style=\"vertical-align:bottom;padding:0px 10px\" align=\"center\"><table><tr><td style=\"vertical-align:bottom;padding:5px\"><table><tr style=\"border:1px solid #848482\"><td style=\"vertical-align:bottom;padding:0px 10px\" align=\"center\"><table><tr><td style=\"vertical-align:bottom;padding:5px\"><div style=\"margin-top:10px;border-style:solid;border-color:#848482;border-width:0px\"><div style=\"vertical-align:bottom;text-align:center\">$[\\![\\mathbf{\\text{ACTIVE}}]\\!]^{}_{\\left\\langle{}e,\\left\\langle{}v,t\\right\\rangle{}\\right\\rangle{}}$</div><div style=\"vertical-align:bottom;text-align:center\">$\\lambda{} x_{e} \\: . \\: \\lambda{} e_{v} \\: . \\: {Agent}({e}, {x})$</div></div></td><td style=\"vertical-align:bottom;padding:10px\">$\\circ$</td><td style=\"vertical-align:bottom;padding:5px\"><div style=\"margin-top:10px;border-style:solid;border-color:#848482;border-width:0px\"><div style=\"vertical-align:bottom;text-align:center\">$[\\![\\mathbf{\\text{alfonso}}]\\!]^{}_{e}$</div><div style=\"vertical-align:bottom;text-align:center\">${Alfonso}_{e}$</div></div></td></tr></table></td><td style=\"border-left:1px solid #848482;vertical-align:center;padding:10px\"><span style=\"color:blue\"><b>[FA]</b></span></td></tr><tr style=\"border-style:solid;border-color:#848482;border-width:0px 1px 1px 1px\"><td style=\"padding:5px\" align=\"center\"><div style=\"margin-top:10px;border-style:solid;border-color:#848482;border-width:0px\"><div style=\"vertical-align:bottom;text-align:center\">$[\\![\\mathbf{\\text{[ACTIVE alfonso]}}]\\!]^{}_{\\left\\langle{}v,t\\right\\rangle{}}$</div><div style=\"vertical-align:bottom;text-align:center\">$\\lambda{} e_{v} \\: . \\: {Agent}({e}, {Alfonso}_{e})$</div></div></td><td></td></tr></table></td><td style=\"vertical-align:bottom;padding:10px\">$\\circ$</td><td style=\"vertical-align:bottom;padding:5px\"><table><tr style=\"border:1px solid #848482\"><td style=\"vertical-align:bottom;padding:0px 10px\" align=\"center\"><table><tr><td style=\"vertical-align:bottom;padding:5px\"><table><tr style=\"border:1px solid #848482\"><td style=\"vertical-align:bottom;padding:0px 10px\" align=\"center\"><table><tr><td style=\"vertical-align:bottom;padding:5px\"><div style=\"margin-top:10px;border-style:solid;border-color:#848482;border-width:0px\"><div style=\"vertical-align:bottom;text-align:center\">$[\\![\\mathbf{\\text{dance}}]\\!]^{}_{\\left\\langle{}v,t\\right\\rangle{}}$</div><div style=\"vertical-align:bottom;text-align:center\">$\\lambda{} e_{v} \\: . \\: {Dancing}_{\\left\\langle{}v,t\\right\\rangle{}}({e})$</div></div></td><td style=\"vertical-align:bottom;padding:10px\">$\\circ$</td><td style=\"vertical-align:bottom;padding:5px\"><div style=\"margin-top:10px;border-style:solid;border-color:#848482;border-width:0px\"><div style=\"vertical-align:bottom;text-align:center\">$[\\![\\mathbf{\\text{slowly}}]\\!]^{}_{\\left\\langle{}v,t\\right\\rangle{}}$</div><div style=\"vertical-align:bottom;text-align:center\">$\\lambda{} e_{v} \\: . \\: {Slow}_{\\left\\langle{}v,t\\right\\rangle{}}({e})$</div></div></td></tr></table></td><td style=\"border-left:1px solid #848482;vertical-align:center;padding:10px\"><span style=\"color:blue\"><b>[GPM]</b></span></td></tr><tr style=\"border-style:solid;border-color:#848482;border-width:0px 1px 1px 1px\"><td style=\"padding:5px\" align=\"center\"><div style=\"margin-top:10px;border-style:solid;border-color:#848482;border-width:0px\"><div style=\"vertical-align:bottom;text-align:center\">$[\\![\\mathbf{\\text{[dance slowly]}}]\\!]^{}_{\\left\\langle{}v,t\\right\\rangle{}}$</div><div style=\"vertical-align:bottom;text-align:center\">$\\lambda{} x_{v} \\: . \\: ({Dancing}_{\\left\\langle{}v,t\\right\\rangle{}}({x}) \\wedge{} {Slow}_{\\left\\langle{}v,t\\right\\rangle{}}({x}))$</div></div></td><td></td></tr></table></td><td style=\"vertical-align:bottom;padding:10px\">$\\circ$</td><td style=\"vertical-align:bottom;padding:5px\"><table><tr style=\"border:1px solid #848482\"><td style=\"vertical-align:bottom;padding:0px 10px\" align=\"center\"><table><tr><td style=\"vertical-align:bottom;padding:5px\"><div style=\"margin-top:10px;border-style:solid;border-color:#848482;border-width:0px\"><div style=\"vertical-align:bottom;text-align:center\">$[\\![\\mathbf{\\text{inP}}]\\!]^{}_{\\left\\langle{}e,\\left\\langle{}v,t\\right\\rangle{}\\right\\rangle{}}$</div><div style=\"vertical-align:bottom;text-align:center\">$\\lambda{} x_{e} \\: . \\: \\lambda{} e_{v} \\: . \\: {Loc}({e}, {x})$</div></div></td><td style=\"vertical-align:bottom;padding:10px\">$\\circ$</td><td style=\"vertical-align:bottom;padding:5px\"><table><tr style=\"border:1px solid #848482\"><td style=\"vertical-align:bottom;padding:0px 10px\" align=\"center\"><table><tr><td style=\"vertical-align:bottom;padding:5px\"><div style=\"margin-top:10px;border-style:solid;border-color:#848482;border-width:0px\"><div style=\"vertical-align:bottom;text-align:center\">$[\\![\\mathbf{\\text{the}}]\\!]^{}_{\\left\\langle{}\\left\\langle{}e,t\\right\\rangle{},e\\right\\rangle{}}$</div><div style=\"vertical-align:bottom;text-align:center\">$\\lambda{} f_{\\left\\langle{}e,t\\right\\rangle{}} \\: . \\: \\iota{} x_{e} \\: . \\: {f}({x})$</div></div></td><td style=\"vertical-align:bottom;padding:10px\">$\\circ$</td><td style=\"vertical-align:bottom;padding:5px\"><div style=\"margin-top:10px;border-style:solid;border-color:#848482;border-width:0px\"><div style=\"vertical-align:bottom;text-align:center\">$[\\![\\mathbf{\\text{kitchen}}]\\!]^{}_{\\left\\langle{}e,t\\right\\rangle{}}$</div><div style=\"vertical-align:bottom;text-align:center\">$\\lambda{} x_{e} \\: . \\: {Kitchen}({x})$</div></div></td></tr></table></td><td style=\"border-left:1px solid #848482;vertical-align:center;padding:10px\"><span style=\"color:blue\"><b>[FA]</b></span></td></tr><tr style=\"border-style:solid;border-color:#848482;border-width:0px 1px 1px 1px\"><td style=\"padding:5px\" align=\"center\"><div style=\"margin-top:10px;border-style:solid;border-color:#848482;border-width:0px\"><div style=\"vertical-align:bottom;text-align:center\">$[\\![\\mathbf{\\text{[the kitchen]}}]\\!]^{}_{e}$</div><div style=\"vertical-align:bottom;text-align:center\">$\\iota{} x_{e} \\: . \\: {Kitchen}({x})$</div></div></td><td></td></tr></table></td></tr></table></td><td style=\"border-left:1px solid #848482;vertical-align:center;padding:10px\"><span style=\"color:blue\"><b>[FA]</b></span></td></tr><tr style=\"border-style:solid;border-color:#848482;border-width:0px 1px 1px 1px\"><td style=\"padding:5px\" align=\"center\"><div style=\"margin-top:10px;border-style:solid;border-color:#848482;border-width:0px\"><div style=\"vertical-align:bottom;text-align:center\">$[\\![\\mathbf{\\text{[inP [the kitchen]]}}]\\!]^{}_{\\left\\langle{}v,t\\right\\rangle{}}$</div><div style=\"vertical-align:bottom;text-align:center\">$\\lambda{} e_{v} \\: . \\: {Loc}({e}, \\iota{} x_{e} \\: . \\: {Kitchen}({x}))$</div></div></td><td></td></tr></table></td></tr></table></td><td style=\"border-left:1px solid #848482;vertical-align:center;padding:10px\"><span style=\"color:blue\"><b>[GPM]</b></span></td></tr><tr style=\"border-style:solid;border-color:#848482;border-width:0px 1px 1px 1px\"><td style=\"padding:5px\" align=\"center\"><div style=\"margin-top:10px;border-style:solid;border-color:#848482;border-width:0px\"><div style=\"vertical-align:bottom;text-align:center\">$[\\![\\mathbf{\\text{[[dance slowly] [inP [the kitchen]]]}}]\\!]^{}_{\\left\\langle{}v,t\\right\\rangle{}}$</div><div style=\"vertical-align:bottom;text-align:center\">$\\lambda{} x_{v} \\: . \\: (({Dancing}_{\\left\\langle{}v,t\\right\\rangle{}}({x}) \\wedge{} {Slow}_{\\left\\langle{}v,t\\right\\rangle{}}({x})) \\wedge{} {Loc}({x}, \\iota{} x1_{e} \\: . \\: {Kitchen}({x1})))$</div></div></td><td></td></tr></table></td></tr></table></td><td style=\"border-left:1px solid #848482;vertical-align:center;padding:10px\"><span style=\"color:blue\"><b>[GPM]</b></span></td></tr><tr style=\"border-style:solid;border-color:#848482;border-width:0px 1px 1px 1px\"><td style=\"padding:5px\" align=\"center\"><div style=\"margin-top:10px;border-style:solid;border-color:#848482;border-width:0px\"><div style=\"vertical-align:bottom;text-align:center\">$[\\![\\mathbf{\\text{[[ACTIVE alfonso] [[dance slowly] [inP [the kitchen]]]]}}]\\!]^{}_{\\left\\langle{}v,t\\right\\rangle{}}$</div><div style=\"vertical-align:bottom;text-align:center\">$\\lambda{} x_{v} \\: . \\: ({Agent}({x}, {Alfonso}_{e}) \\wedge{} (({Dancing}_{\\left\\langle{}v,t\\right\\rangle{}}({x}) \\wedge{} {Slow}_{\\left\\langle{}v,t\\right\\rangle{}}({x})) \\wedge{} {Loc}({x}, \\iota{} x1_{e} \\: . \\: {Kitchen}({x1}))))$</div></div></td><td></td></tr></table></td></tr></table></td><td style=\"border-left:1px solid #848482;vertical-align:center;padding:10px\"><span style=\"color:blue\"><b>[EC]</b></span></td></tr><tr style=\"border-style:solid;border-color:#848482;border-width:0px 1px 1px 1px\"><td style=\"padding:5px\" align=\"center\"><div style=\"margin-top:10px;border-style:solid;border-color:#848482;border-width:0px\"><div style=\"vertical-align:bottom;text-align:center\">$[\\![\\mathbf{\\text{[[[ACTIVE alfonso] [[dance slowly] [inP [the kitchen]]]]]}}]\\!]^{}_{t}$</div><div style=\"vertical-align:bottom;text-align:center\">$\\exists{} e_{v} \\: . \\: ({Agent}({e}, {Alfonso}_{e}) \\wedge{} (({Dancing}_{\\left\\langle{}v,t\\right\\rangle{}}({e}) \\wedge{} {Slow}_{\\left\\langle{}v,t\\right\\rangle{}}({e})) \\wedge{} {Loc}({e}, \\iota{} x1_{e} \\: . \\: {Kitchen}({x1}))))$</div></div></td><td></td></tr></table><br /><br />"
      ],
      "text/plain": [
       "1 composition path:<br /><style>.rendered_html table, .rendered_html tr, .rendered_html td, .rendered_html th { border: 0px; text-align:center; }</style><table><tr style=\"border:1px solid #848482\"><td style=\"vertical-align:bottom;padding:0px 10px\" align=\"center\"><table><tr><td style=\"vertical-align:bottom;padding:5px\"><table><tr style=\"border:1px solid #848482\"><td style=\"vertical-align:bottom;padding:0px 10px\" align=\"center\"><table><tr><td style=\"vertical-align:bottom;padding:5px\"><table><tr style=\"border:1px solid #848482\"><td style=\"vertical-align:bottom;padding:0px 10px\" align=\"center\"><table><tr><td style=\"vertical-align:bottom;padding:5px\"><div style=\"margin-top:10px;border-style:solid;border-color:#848482;border-width:0px\"><div style=\"vertical-align:bottom;text-align:center\">$[\\![\\mathbf{\\text{ACTIVE}}]\\!]^{}_{\\left\\langle{}e,\\left\\langle{}v,t\\right\\rangle{}\\right\\rangle{}}$</div><div style=\"vertical-align:bottom;text-align:center\">$\\lambda{} x_{e} \\: . \\: \\lambda{} e_{v} \\: . \\: {Agent}({e}, {x})$</div></div></td><td style=\"vertical-align:bottom;padding:10px\">$\\circ$</td><td style=\"vertical-align:bottom;padding:5px\"><div style=\"margin-top:10px;border-style:solid;border-color:#848482;border-width:0px\"><div style=\"vertical-align:bottom;text-align:center\">$[\\![\\mathbf{\\text{alfonso}}]\\!]^{}_{e}$</div><div style=\"vertical-align:bottom;text-align:center\">${Alfonso}_{e}$</div></div></td></tr></table></td><td style=\"border-left:1px solid #848482;vertical-align:center;padding:10px\"><span style=\"color:blue\"><b>[FA]</b></span></td></tr><tr style=\"border-style:solid;border-color:#848482;border-width:0px 1px 1px 1px\"><td style=\"padding:5px\" align=\"center\"><div style=\"margin-top:10px;border-style:solid;border-color:#848482;border-width:0px\"><div style=\"vertical-align:bottom;text-align:center\">$[\\![\\mathbf{\\text{[ACTIVE alfonso]}}]\\!]^{}_{\\left\\langle{}v,t\\right\\rangle{}}$</div><div style=\"vertical-align:bottom;text-align:center\">$\\lambda{} e_{v} \\: . \\: {Agent}({e}, {Alfonso}_{e})$</div></div></td><td></td></tr></table></td><td style=\"vertical-align:bottom;padding:10px\">$\\circ$</td><td style=\"vertical-align:bottom;padding:5px\"><table><tr style=\"border:1px solid #848482\"><td style=\"vertical-align:bottom;padding:0px 10px\" align=\"center\"><table><tr><td style=\"vertical-align:bottom;padding:5px\"><table><tr style=\"border:1px solid #848482\"><td style=\"vertical-align:bottom;padding:0px 10px\" align=\"center\"><table><tr><td style=\"vertical-align:bottom;padding:5px\"><div style=\"margin-top:10px;border-style:solid;border-color:#848482;border-width:0px\"><div style=\"vertical-align:bottom;text-align:center\">$[\\![\\mathbf{\\text{dance}}]\\!]^{}_{\\left\\langle{}v,t\\right\\rangle{}}$</div><div style=\"vertical-align:bottom;text-align:center\">$\\lambda{} e_{v} \\: . \\: {Dancing}_{\\left\\langle{}v,t\\right\\rangle{}}({e})$</div></div></td><td style=\"vertical-align:bottom;padding:10px\">$\\circ$</td><td style=\"vertical-align:bottom;padding:5px\"><div style=\"margin-top:10px;border-style:solid;border-color:#848482;border-width:0px\"><div style=\"vertical-align:bottom;text-align:center\">$[\\![\\mathbf{\\text{slowly}}]\\!]^{}_{\\left\\langle{}v,t\\right\\rangle{}}$</div><div style=\"vertical-align:bottom;text-align:center\">$\\lambda{} e_{v} \\: . \\: {Slow}_{\\left\\langle{}v,t\\right\\rangle{}}({e})$</div></div></td></tr></table></td><td style=\"border-left:1px solid #848482;vertical-align:center;padding:10px\"><span style=\"color:blue\"><b>[GPM]</b></span></td></tr><tr style=\"border-style:solid;border-color:#848482;border-width:0px 1px 1px 1px\"><td style=\"padding:5px\" align=\"center\"><div style=\"margin-top:10px;border-style:solid;border-color:#848482;border-width:0px\"><div style=\"vertical-align:bottom;text-align:center\">$[\\![\\mathbf{\\text{[dance slowly]}}]\\!]^{}_{\\left\\langle{}v,t\\right\\rangle{}}$</div><div style=\"vertical-align:bottom;text-align:center\">$\\lambda{} x_{v} \\: . \\: ({Dancing}_{\\left\\langle{}v,t\\right\\rangle{}}({x}) \\wedge{} {Slow}_{\\left\\langle{}v,t\\right\\rangle{}}({x}))$</div></div></td><td></td></tr></table></td><td style=\"vertical-align:bottom;padding:10px\">$\\circ$</td><td style=\"vertical-align:bottom;padding:5px\"><table><tr style=\"border:1px solid #848482\"><td style=\"vertical-align:bottom;padding:0px 10px\" align=\"center\"><table><tr><td style=\"vertical-align:bottom;padding:5px\"><div style=\"margin-top:10px;border-style:solid;border-color:#848482;border-width:0px\"><div style=\"vertical-align:bottom;text-align:center\">$[\\![\\mathbf{\\text{inP}}]\\!]^{}_{\\left\\langle{}e,\\left\\langle{}v,t\\right\\rangle{}\\right\\rangle{}}$</div><div style=\"vertical-align:bottom;text-align:center\">$\\lambda{} x_{e} \\: . \\: \\lambda{} e_{v} \\: . \\: {Loc}({e}, {x})$</div></div></td><td style=\"vertical-align:bottom;padding:10px\">$\\circ$</td><td style=\"vertical-align:bottom;padding:5px\"><table><tr style=\"border:1px solid #848482\"><td style=\"vertical-align:bottom;padding:0px 10px\" align=\"center\"><table><tr><td style=\"vertical-align:bottom;padding:5px\"><div style=\"margin-top:10px;border-style:solid;border-color:#848482;border-width:0px\"><div style=\"vertical-align:bottom;text-align:center\">$[\\![\\mathbf{\\text{the}}]\\!]^{}_{\\left\\langle{}\\left\\langle{}e,t\\right\\rangle{},e\\right\\rangle{}}$</div><div style=\"vertical-align:bottom;text-align:center\">$\\lambda{} f_{\\left\\langle{}e,t\\right\\rangle{}} \\: . \\: \\iota{} x_{e} \\: . \\: {f}({x})$</div></div></td><td style=\"vertical-align:bottom;padding:10px\">$\\circ$</td><td style=\"vertical-align:bottom;padding:5px\"><div style=\"margin-top:10px;border-style:solid;border-color:#848482;border-width:0px\"><div style=\"vertical-align:bottom;text-align:center\">$[\\![\\mathbf{\\text{kitchen}}]\\!]^{}_{\\left\\langle{}e,t\\right\\rangle{}}$</div><div style=\"vertical-align:bottom;text-align:center\">$\\lambda{} x_{e} \\: . \\: {Kitchen}({x})$</div></div></td></tr></table></td><td style=\"border-left:1px solid #848482;vertical-align:center;padding:10px\"><span style=\"color:blue\"><b>[FA]</b></span></td></tr><tr style=\"border-style:solid;border-color:#848482;border-width:0px 1px 1px 1px\"><td style=\"padding:5px\" align=\"center\"><div style=\"margin-top:10px;border-style:solid;border-color:#848482;border-width:0px\"><div style=\"vertical-align:bottom;text-align:center\">$[\\![\\mathbf{\\text{[the kitchen]}}]\\!]^{}_{e}$</div><div style=\"vertical-align:bottom;text-align:center\">$\\iota{} x_{e} \\: . \\: {Kitchen}({x})$</div></div></td><td></td></tr></table></td></tr></table></td><td style=\"border-left:1px solid #848482;vertical-align:center;padding:10px\"><span style=\"color:blue\"><b>[FA]</b></span></td></tr><tr style=\"border-style:solid;border-color:#848482;border-width:0px 1px 1px 1px\"><td style=\"padding:5px\" align=\"center\"><div style=\"margin-top:10px;border-style:solid;border-color:#848482;border-width:0px\"><div style=\"vertical-align:bottom;text-align:center\">$[\\![\\mathbf{\\text{[inP [the kitchen]]}}]\\!]^{}_{\\left\\langle{}v,t\\right\\rangle{}}$</div><div style=\"vertical-align:bottom;text-align:center\">$\\lambda{} e_{v} \\: . \\: {Loc}({e}, \\iota{} x_{e} \\: . \\: {Kitchen}({x}))$</div></div></td><td></td></tr></table></td></tr></table></td><td style=\"border-left:1px solid #848482;vertical-align:center;padding:10px\"><span style=\"color:blue\"><b>[GPM]</b></span></td></tr><tr style=\"border-style:solid;border-color:#848482;border-width:0px 1px 1px 1px\"><td style=\"padding:5px\" align=\"center\"><div style=\"margin-top:10px;border-style:solid;border-color:#848482;border-width:0px\"><div style=\"vertical-align:bottom;text-align:center\">$[\\![\\mathbf{\\text{[[dance slowly] [inP [the kitchen]]]}}]\\!]^{}_{\\left\\langle{}v,t\\right\\rangle{}}$</div><div style=\"vertical-align:bottom;text-align:center\">$\\lambda{} x_{v} \\: . \\: (({Dancing}_{\\left\\langle{}v,t\\right\\rangle{}}({x}) \\wedge{} {Slow}_{\\left\\langle{}v,t\\right\\rangle{}}({x})) \\wedge{} {Loc}({x}, \\iota{} x1_{e} \\: . \\: {Kitchen}({x1})))$</div></div></td><td></td></tr></table></td></tr></table></td><td style=\"border-left:1px solid #848482;vertical-align:center;padding:10px\"><span style=\"color:blue\"><b>[GPM]</b></span></td></tr><tr style=\"border-style:solid;border-color:#848482;border-width:0px 1px 1px 1px\"><td style=\"padding:5px\" align=\"center\"><div style=\"margin-top:10px;border-style:solid;border-color:#848482;border-width:0px\"><div style=\"vertical-align:bottom;text-align:center\">$[\\![\\mathbf{\\text{[[ACTIVE alfonso] [[dance slowly] [inP [the kitchen]]]]}}]\\!]^{}_{\\left\\langle{}v,t\\right\\rangle{}}$</div><div style=\"vertical-align:bottom;text-align:center\">$\\lambda{} x_{v} \\: . \\: ({Agent}({x}, {Alfonso}_{e}) \\wedge{} (({Dancing}_{\\left\\langle{}v,t\\right\\rangle{}}({x}) \\wedge{} {Slow}_{\\left\\langle{}v,t\\right\\rangle{}}({x})) \\wedge{} {Loc}({x}, \\iota{} x1_{e} \\: . \\: {Kitchen}({x1}))))$</div></div></td><td></td></tr></table></td></tr></table></td><td style=\"border-left:1px solid #848482;vertical-align:center;padding:10px\"><span style=\"color:blue\"><b>[EC]</b></span></td></tr><tr style=\"border-style:solid;border-color:#848482;border-width:0px 1px 1px 1px\"><td style=\"padding:5px\" align=\"center\"><div style=\"margin-top:10px;border-style:solid;border-color:#848482;border-width:0px\"><div style=\"vertical-align:bottom;text-align:center\">$[\\![\\mathbf{\\text{[[[ACTIVE alfonso] [[dance slowly] [inP [the kitchen]]]]]}}]\\!]^{}_{t}$</div><div style=\"vertical-align:bottom;text-align:center\">$\\exists{} e_{v} \\: . \\: ({Agent}({e}, {Alfonso}_{e}) \\wedge{} (({Dancing}_{\\left\\langle{}v,t\\right\\rangle{}}({e}) \\wedge{} {Slow}_{\\left\\langle{}v,t\\right\\rangle{}}({e})) \\wedge{} {Loc}({e}, \\iota{} x1_{e} \\: . \\: {Kitchen}({x1}))))$</div></div></td><td></td></tr></table><br /><br />"
      ]
     },
     "execution_count": 29,
     "metadata": {},
     "output_type": "execute_result"
    }
   ],
   "source": [
    "(((alfonso * v) * ((dance * slowly) * (inP * (the * kitchen)))) * None).tree()"
   ]
  },
  {
   "cell_type": "markdown",
   "metadata": {},
   "source": [
    "Of course, this raises many questions that are not answered by the basic compositional architecture.  What is an agent/patient?  What does it mean for an event to be `Slow`?  Etc.  However, the basic desiderata of the diamond entailment now follow, assuming any reasonable treatment of $\\wedge$; see Parsons, Landman, and many many others for development of the Davidsonian program.\n",
    "\n",
    "In the remainder of the notebook I discuss the conjunction of action sentences, such as _Alfonso talked quickly and Alfonso danced slowly_."
   ]
  },
  {
   "cell_type": "code",
   "execution_count": 30,
   "metadata": {},
   "outputs": [
    {
     "name": "stdout",
     "output_type": "stream",
     "text": [
      "INFO (meta): Coerced guessed type for 'Quick_t' into <v,t>, to match argument 'e_v'\n",
      "INFO (meta): Coerced guessed type for 'Talking_t' into <v,t>, to match argument 'e_v'\n"
     ]
    },
    {
     "data": {
      "text/html": [
       "$[\\![\\mathbf{\\text{quickly}}]\\!]^{}_{\\left\\langle{}v,t\\right\\rangle{}} \\:=\\: $$\\lambda{} e_{v} \\: . \\: {Quick}_{\\left\\langle{}v,t\\right\\rangle{}}({e})$<br />\n",
       "$[\\![\\mathbf{\\text{talk}}]\\!]^{}_{\\left\\langle{}v,t\\right\\rangle{}} \\:=\\: $$\\lambda{} e_{v} \\: . \\: {Talking}_{\\left\\langle{}v,t\\right\\rangle{}}({e})$<br />\n",
       "$[\\![\\mathbf{\\text{and_}}]\\!]^{}_{\\left\\langle{}t,\\left\\langle{}t,t\\right\\rangle{}\\right\\rangle{}} \\:=\\: $$\\lambda{} p_{t} \\: . \\: \\lambda{} q_{t} \\: . \\: ({p} \\wedge{} {q})$"
      ],
      "text/latex": [
       "$[\\![\\mathbf{\\text{quickly}}]\\!]^{}_{\\left\\langle{}v,t\\right\\rangle{}} \\:=\\: $$\\lambda{} e_{v} \\: . \\: {Quick}_{\\left\\langle{}v,t\\right\\rangle{}}({e})$<br />\n",
       "$[\\![\\mathbf{\\text{talk}}]\\!]^{}_{\\left\\langle{}v,t\\right\\rangle{}} \\:=\\: $$\\lambda{} e_{v} \\: . \\: {Talking}_{\\left\\langle{}v,t\\right\\rangle{}}({e})$<br />\n",
       "$[\\![\\mathbf{\\text{and_}}]\\!]^{}_{\\left\\langle{}t,\\left\\langle{}t,t\\right\\rangle{}\\right\\rangle{}} \\:=\\: $$\\lambda{} p_{t} \\: . \\: \\lambda{} q_{t} \\: . \\: ({p} \\wedge{} {q})$"
      ],
      "text/plain": [
       "$[\\![\\mathbf{\\text{quickly}}]\\!]^{}_{\\left\\langle{}v,t\\right\\rangle{}} \\:=\\: $$\\lambda{} e_{v} \\: . \\: {Quick}_{\\left\\langle{}v,t\\right\\rangle{}}({e})$<br />\n",
       "$[\\![\\mathbf{\\text{talk}}]\\!]^{}_{\\left\\langle{}v,t\\right\\rangle{}} \\:=\\: $$\\lambda{} e_{v} \\: . \\: {Talking}_{\\left\\langle{}v,t\\right\\rangle{}}({e})$<br />\n",
       "$[\\![\\mathbf{\\text{and_}}]\\!]^{}_{\\left\\langle{}t,\\left\\langle{}t,t\\right\\rangle{}\\right\\rangle{}} \\:=\\: $$\\lambda{} p_{t} \\: . \\: \\lambda{} q_{t} \\: . \\: ({p} \\wedge{} {q})$"
      ]
     },
     "execution_count": 30,
     "metadata": {},
     "output_type": "execute_result"
    }
   ],
   "source": [
    "%%lamb\n",
    "||quickly|| = L e_v : Quick(e)\n",
    "||talk|| = L e_v : Talking(e)\n",
    "||and_|| = L p_t : L q_t : p & q"
   ]
  },
  {
   "cell_type": "code",
   "execution_count": 31,
   "metadata": {},
   "outputs": [
    {
     "data": {
      "text/html": [
       "1 composition path.  Result:\n",
       "<br />&nbsp;&nbsp;&nbsp;&nbsp;[0]: $[\\![\\mathbf{\\text{[[[ACTIVE alfonso] [dance quickly]]]}}]\\!]^{}_{t} \\:=\\: $$\\exists{} e_{v} \\: . \\: ({Agent}({e}, {Alfonso}_{e}) \\wedge{} ({Dancing}_{\\left\\langle{}v,t\\right\\rangle{}}({e}) \\wedge{} {Quick}_{\\left\\langle{}v,t\\right\\rangle{}}({e})))$"
      ],
      "text/plain": [
       "CompositionResult(results=[⟦[[[ACTIVE alfonso] [dance quickly]]]⟧ = (Exists e_v: (Agent_<(v,e),t>(e_v, Alfonso_e) & (Dancing_<v,t>(e_v) & Quick_<v,t>(e_v))))], failures=[])"
      ]
     },
     "execution_count": 31,
     "metadata": {},
     "output_type": "execute_result"
    }
   ],
   "source": [
    "((alfonso * v) * (dance * quickly)) * None"
   ]
  },
  {
   "cell_type": "code",
   "execution_count": 32,
   "metadata": {},
   "outputs": [
    {
     "data": {
      "text/html": [
       "1 composition path.  Result:\n",
       "<br />&nbsp;&nbsp;&nbsp;&nbsp;[0]: $[\\![\\mathbf{\\text{[[[ACTIVE alfonso] [talk slowly]]]}}]\\!]^{}_{t} \\:=\\: $$\\exists{} e_{v} \\: . \\: ({Agent}({e}, {Alfonso}_{e}) \\wedge{} ({Talking}_{\\left\\langle{}v,t\\right\\rangle{}}({e}) \\wedge{} {Slow}_{\\left\\langle{}v,t\\right\\rangle{}}({e})))$"
      ],
      "text/plain": [
       "CompositionResult(results=[⟦[[[ACTIVE alfonso] [talk slowly]]]⟧ = (Exists e_v: (Agent_<(v,e),t>(e_v, Alfonso_e) & (Talking_<v,t>(e_v) & Slow_<v,t>(e_v))))], failures=[])"
      ]
     },
     "execution_count": 32,
     "metadata": {},
     "output_type": "execute_result"
    }
   ],
   "source": [
    "((alfonso * v) * (talk * slowly)) * None"
   ]
  },
  {
   "cell_type": "code",
   "execution_count": 33,
   "metadata": {},
   "outputs": [
    {
     "data": {
      "text/html": [
       "1 composition path.  Result:\n",
       "<br />&nbsp;&nbsp;&nbsp;&nbsp;[0]: $[\\![\\mathbf{\\text{[[and_ [[[ACTIVE alfonso] [talk slowly]]]] [[[ACTIVE alfonso] [dance quickly]]]]}}]\\!]^{}_{t} \\:=\\: $$(\\exists{} e_{v} \\: . \\: ({Agent}({e}, {Alfonso}_{e}) \\wedge{} ({Talking}_{\\left\\langle{}v,t\\right\\rangle{}}({e}) \\wedge{} {Slow}_{\\left\\langle{}v,t\\right\\rangle{}}({e}))) \\wedge{} \\exists{} e_{v} \\: . \\: ({Agent}({e}, {Alfonso}_{e}) \\wedge{} ({Dancing}_{\\left\\langle{}v,t\\right\\rangle{}}({e}) \\wedge{} {Quick}_{\\left\\langle{}v,t\\right\\rangle{}}({e}))))$"
      ],
      "text/plain": [
       "CompositionResult(results=[⟦[[and_ [[[ACTIVE alfonso] [talk slowly]]]] [[[ACTIVE alfonso] [dance quickly]]]]⟧ = ((Exists e_v: (Agent_<(v,e),t>(e_v, Alfonso_e) & (Talking_<v,t>(e_v) & Slow_<v,t>(e_v)))) & (Exists e_v: (Agent_<(v,e),t>(e_v, Alfonso_e) & (Dancing_<v,t>(e_v) & Quick_<v,t>(e_v)))))], failures=[⟦[[[[ACTIVE alfonso] [dance quickly]]] [and_ [[[ACTIVE alfonso] [talk slowly]]]]]⟧ = Type mismatch: '⟦[[[ACTIVE alfonso] [dance quickly]]]⟧ = (Exists e_v: (Agent_<(v,e),t>(e_v, Alfonso_e) & (Dancing_<v,t>(e_v) & Quick_<v,t>(e_v))))'/t and '⟦[and_ [[[ACTIVE alfonso] [talk slowly]]]]⟧ = (λ q_t: ((Exists e_v: (Agent_<(v,e),t>(e_v, Alfonso_e) & (Talking_<v,t>(e_v) & Slow_<v,t>(e_v)))) & q_t))'/<t,t> conflict (mode: Function Application), ⟦[[[[ACTIVE alfonso] [dance quickly]]] [and_ [[[ACTIVE alfonso] [talk slowly]]]]]⟧ = Type mismatch: '⟦[[[ACTIVE alfonso] [dance quickly]]]⟧ = (Exists e_v: (Agent_<(v,e),t>(e_v, Alfonso_e) & (Dancing_<v,t>(e_v) & Quick_<v,t>(e_v))))'/t and '⟦[and_ [[[ACTIVE alfonso] [talk slowly]]]]⟧ = (λ q_t: ((Exists e_v: (Agent_<(v,e),t>(e_v, Alfonso_e) & (Talking_<v,t>(e_v) & Slow_<v,t>(e_v)))) & q_t))'/<t,t> conflict (mode: Predicate Abstraction), ⟦[[and_ [[[ACTIVE alfonso] [talk slowly]]]] [[[ACTIVE alfonso] [dance quickly]]]]⟧ = Type mismatch: '⟦[and_ [[[ACTIVE alfonso] [talk slowly]]]]⟧ = (λ q_t: ((Exists e_v: (Agent_<(v,e),t>(e_v, Alfonso_e) & (Talking_<v,t>(e_v) & Slow_<v,t>(e_v)))) & q_t))'/<t,t> and '⟦[[[ACTIVE alfonso] [dance quickly]]]⟧ = (Exists e_v: (Agent_<(v,e),t>(e_v, Alfonso_e) & (Dancing_<v,t>(e_v) & Quick_<v,t>(e_v))))'/t conflict (mode: Predicate Abstraction), ⟦[[[[ACTIVE alfonso] [dance quickly]]] [and_ [[[ACTIVE alfonso] [talk slowly]]]]]⟧ = Type mismatch: '(λ f_<X,t>: (λ g_<X,t>: (λ x_X: (f_<X,t>(x_X) & g_<X,t>(x_X)))))'/<<X,t>,<<X,t>,<X,t>>> and '(Exists e_v: (Agent_<(v,e),t>(e_v, Alfonso_e) & (Dancing_<v,t>(e_v) & Quick_<v,t>(e_v))))'/t conflict (mode: Function argument combination (unification failed))])"
      ]
     },
     "execution_count": 33,
     "metadata": {},
     "output_type": "execute_result"
    }
   ],
   "source": [
    "((((alfonso * v) * (dance * quickly)) * None)) * (and_ * (((alfonso * v) * (talk * slowly)) * None))"
   ]
  },
  {
   "cell_type": "markdown",
   "metadata": {},
   "source": [
    "Notice that the current system gets a wrong result (though it does get a result) for something like: _Alfonso talked slowly and danced quickly_ unless the syntax is treated as conjunction of full sentences.\n",
    "\n",
    "If you want to handle this without saying this, you basically need to get existential closure to somehow scope under the subject.  Two strategies for doing so:\n",
    "1. Introduce existential closure in v itself, and have one v per conjunct.  This requires a higher-typed version of `and`.\n",
    "2. Introduce existential closure inside the lexical items (proposed by e.g. Lucas Champollion).  This leads to complications for the modifiers (which could be solved by e.g. an existential disclosure operation).\n",
    "\n",
    "3. A different strategy would be to have a different type for conjunction that interacts directly with the event structure.  The idea would be to build a property of plural events that has a part that is a slow talking, and a part that is a quick dancing.  Then Alfonso would be the agent of the plural event; you'd want to be able to infer also that he's the agent of the parts.\n",
    "\n",
    "Here's a version of solution 1."
   ]
  },
  {
   "cell_type": "code",
   "execution_count": 34,
   "metadata": {},
   "outputs": [
    {
     "data": {
      "text/html": [
       "$[\\![\\mathbf{\\text{ACTIVE2}}]\\!]^{}_{\\left\\langle{}\\left\\langle{}v,t\\right\\rangle{},\\left\\langle{}e,t\\right\\rangle{}\\right\\rangle{}} \\:=\\: $$\\lambda{} f_{\\left\\langle{}v,t\\right\\rangle{}} \\: . \\: \\lambda{} x_{e} \\: . \\: \\exists{} e_{v} \\: . \\: ({Agent}({e}, {x}) \\wedge{} {f}({e}))$<br />\n",
       "$[\\![\\mathbf{\\text{and2}}]\\!]^{}_{\\left\\langle{}\\left\\langle{}e,t\\right\\rangle{},\\left\\langle{}\\left\\langle{}e,t\\right\\rangle{},\\left\\langle{}e,t\\right\\rangle{}\\right\\rangle{}\\right\\rangle{}} \\:=\\: $$\\lambda{} f_{\\left\\langle{}e,t\\right\\rangle{}} \\: . \\: \\lambda{} g_{\\left\\langle{}e,t\\right\\rangle{}} \\: . \\: \\lambda{} x_{e} \\: . \\: ({f}({x}) \\wedge{} {g}({x}))$"
      ],
      "text/latex": [
       "$[\\![\\mathbf{\\text{ACTIVE2}}]\\!]^{}_{\\left\\langle{}\\left\\langle{}v,t\\right\\rangle{},\\left\\langle{}e,t\\right\\rangle{}\\right\\rangle{}} \\:=\\: $$\\lambda{} f_{\\left\\langle{}v,t\\right\\rangle{}} \\: . \\: \\lambda{} x_{e} \\: . \\: \\exists{} e_{v} \\: . \\: ({Agent}({e}, {x}) \\wedge{} {f}({e}))$<br />\n",
       "$[\\![\\mathbf{\\text{and2}}]\\!]^{}_{\\left\\langle{}\\left\\langle{}e,t\\right\\rangle{},\\left\\langle{}\\left\\langle{}e,t\\right\\rangle{},\\left\\langle{}e,t\\right\\rangle{}\\right\\rangle{}\\right\\rangle{}} \\:=\\: $$\\lambda{} f_{\\left\\langle{}e,t\\right\\rangle{}} \\: . \\: \\lambda{} g_{\\left\\langle{}e,t\\right\\rangle{}} \\: . \\: \\lambda{} x_{e} \\: . \\: ({f}({x}) \\wedge{} {g}({x}))$"
      ],
      "text/plain": [
       "$[\\![\\mathbf{\\text{ACTIVE2}}]\\!]^{}_{\\left\\langle{}\\left\\langle{}v,t\\right\\rangle{},\\left\\langle{}e,t\\right\\rangle{}\\right\\rangle{}} \\:=\\: $$\\lambda{} f_{\\left\\langle{}v,t\\right\\rangle{}} \\: . \\: \\lambda{} x_{e} \\: . \\: \\exists{} e_{v} \\: . \\: ({Agent}({e}, {x}) \\wedge{} {f}({e}))$<br />\n",
       "$[\\![\\mathbf{\\text{and2}}]\\!]^{}_{\\left\\langle{}\\left\\langle{}e,t\\right\\rangle{},\\left\\langle{}\\left\\langle{}e,t\\right\\rangle{},\\left\\langle{}e,t\\right\\rangle{}\\right\\rangle{}\\right\\rangle{}} \\:=\\: $$\\lambda{} f_{\\left\\langle{}e,t\\right\\rangle{}} \\: . \\: \\lambda{} g_{\\left\\langle{}e,t\\right\\rangle{}} \\: . \\: \\lambda{} x_{e} \\: . \\: ({f}({x}) \\wedge{} {g}({x}))$"
      ]
     },
     "execution_count": 34,
     "metadata": {},
     "output_type": "execute_result"
    }
   ],
   "source": [
    "%%lamb \n",
    "||ACTIVE2|| = L f_<v,t> : L x_e : Exists e_v : agent(e,x) & f(e)\n",
    "||and2|| = L f_<e,t> : L g_<e,t> : L x_e : f(x) & g(x)"
   ]
  },
  {
   "cell_type": "code",
   "execution_count": 35,
   "metadata": {},
   "outputs": [
    {
     "data": {
      "text/html": [
       "1 composition path.  Result:\n",
       "<br />&nbsp;&nbsp;&nbsp;&nbsp;[0]: $[\\![\\mathbf{\\text{[[[and2 [ACTIVE2 [talk slowly]]] [ACTIVE2 [dance quickly]]] alfonso]}}]\\!]^{}_{t} \\:=\\: $$(\\exists{} e_{v} \\: . \\: ({Agent}({e}, {Alfonso}_{e}) \\wedge{} ({Talking}_{\\left\\langle{}v,t\\right\\rangle{}}({e}) \\wedge{} {Slow}_{\\left\\langle{}v,t\\right\\rangle{}}({e}))) \\wedge{} \\exists{} e_{v} \\: . \\: ({Agent}({e}, {Alfonso}_{e}) \\wedge{} ({Dancing}_{\\left\\langle{}v,t\\right\\rangle{}}({e}) \\wedge{} {Quick}_{\\left\\langle{}v,t\\right\\rangle{}}({e}))))$"
      ],
      "text/plain": [
       "CompositionResult(results=[⟦[[[and2 [ACTIVE2 [talk slowly]]] [ACTIVE2 [dance quickly]]] alfonso]⟧ = ((Exists e_v: (Agent_<(v,e),t>(e_v, Alfonso_e) & (Talking_<v,t>(e_v) & Slow_<v,t>(e_v)))) & (Exists e_v: (Agent_<(v,e),t>(e_v, Alfonso_e) & (Dancing_<v,t>(e_v) & Quick_<v,t>(e_v)))))], failures=[⟦[alfonso [[and2 [ACTIVE2 [talk slowly]]] [ACTIVE2 [dance quickly]]]]⟧ = Type mismatch: '⟦alfonso⟧ = Alfonso_e'/e and '⟦[[and2 [ACTIVE2 [talk slowly]]] [ACTIVE2 [dance quickly]]]⟧ = (λ x_e: ((Exists e_v: (Agent_<(v,e),t>(e_v, x_e) & (Talking_<v,t>(e_v) & Slow_<v,t>(e_v)))) & (Exists e_v: (Agent_<(v,e),t>(e_v, x_e) & (Dancing_<v,t>(e_v) & Quick_<v,t>(e_v))))))'/<e,t> conflict (mode: Function Application), ⟦[alfonso [[and2 [ACTIVE2 [talk slowly]]] [ACTIVE2 [dance quickly]]]]⟧ = Type mismatch: '⟦alfonso⟧ = Alfonso_e'/e and '⟦[[and2 [ACTIVE2 [talk slowly]]] [ACTIVE2 [dance quickly]]]⟧ = (λ x_e: ((Exists e_v: (Agent_<(v,e),t>(e_v, x_e) & (Talking_<v,t>(e_v) & Slow_<v,t>(e_v)))) & (Exists e_v: (Agent_<(v,e),t>(e_v, x_e) & (Dancing_<v,t>(e_v) & Quick_<v,t>(e_v))))))'/<e,t> conflict (mode: Predicate Abstraction), ⟦[[[and2 [ACTIVE2 [talk slowly]]] [ACTIVE2 [dance quickly]]] alfonso]⟧ = Type mismatch: '⟦[[and2 [ACTIVE2 [talk slowly]]] [ACTIVE2 [dance quickly]]]⟧ = (λ x_e: ((Exists e_v: (Agent_<(v,e),t>(e_v, x_e) & (Talking_<v,t>(e_v) & Slow_<v,t>(e_v)))) & (Exists e_v: (Agent_<(v,e),t>(e_v, x_e) & (Dancing_<v,t>(e_v) & Quick_<v,t>(e_v))))))'/<e,t> and '⟦alfonso⟧ = Alfonso_e'/e conflict (mode: Predicate Abstraction), ⟦[alfonso [[and2 [ACTIVE2 [talk slowly]]] [ACTIVE2 [dance quickly]]]]⟧ = Type mismatch: '(λ f_<X,t>: (λ g_<X,t>: (λ x_X: (f_<X,t>(x_X) & g_<X,t>(x_X)))))'/<<X,t>,<<X,t>,<X,t>>> and 'Alfonso_e'/e conflict (mode: Function argument combination (unification failed))])"
      ]
     },
     "execution_count": 35,
     "metadata": {},
     "output_type": "execute_result"
    }
   ],
   "source": [
    "r = alfonso * ((ACTIVE2 * (dance * quickly)) * (and2 * (ACTIVE2 * (talk * slowly))))\n",
    "r"
   ]
  },
  {
   "cell_type": "code",
   "execution_count": 36,
   "metadata": {},
   "outputs": [
    {
     "data": {
      "text/html": [
       "1 composition path:<br /><style>.rendered_html table, .rendered_html tr, .rendered_html td, .rendered_html th { border: 0px; text-align:center; }</style><table><tr style=\"border:1px solid #848482\"><td style=\"vertical-align:bottom;padding:0px 10px\" align=\"center\"><table><tr><td style=\"vertical-align:bottom;padding:5px\"><table><tr style=\"border:1px solid #848482\"><td style=\"vertical-align:bottom;padding:0px 10px\" align=\"center\"><table><tr><td style=\"vertical-align:bottom;padding:5px\"><table><tr style=\"border:1px solid #848482\"><td style=\"vertical-align:bottom;padding:0px 10px\" align=\"center\"><table><tr><td style=\"vertical-align:bottom;padding:5px\"><div style=\"margin-top:10px;border-style:solid;border-color:#848482;border-width:0px\"><div style=\"vertical-align:bottom;text-align:center\">$[\\![\\mathbf{\\text{and2}}]\\!]^{}_{\\left\\langle{}\\left\\langle{}e,t\\right\\rangle{},\\left\\langle{}\\left\\langle{}e,t\\right\\rangle{},\\left\\langle{}e,t\\right\\rangle{}\\right\\rangle{}\\right\\rangle{}}$</div><div style=\"vertical-align:bottom;text-align:center\">$\\lambda{} f_{\\left\\langle{}e,t\\right\\rangle{}} \\: . \\: \\lambda{} g_{\\left\\langle{}e,t\\right\\rangle{}} \\: . \\: \\lambda{} x_{e} \\: . \\: ({f}({x}) \\wedge{} {g}({x}))$</div></div></td><td style=\"vertical-align:bottom;padding:10px\">$\\circ$</td><td style=\"vertical-align:bottom;padding:5px\"><table><tr style=\"border:1px solid #848482\"><td style=\"vertical-align:bottom;padding:0px 10px\" align=\"center\"><table><tr><td style=\"vertical-align:bottom;padding:5px\"><div style=\"margin-top:10px;border-style:solid;border-color:#848482;border-width:0px\"><div style=\"vertical-align:bottom;text-align:center\">$[\\![\\mathbf{\\text{ACTIVE2}}]\\!]^{}_{\\left\\langle{}\\left\\langle{}v,t\\right\\rangle{},\\left\\langle{}e,t\\right\\rangle{}\\right\\rangle{}}$</div><div style=\"vertical-align:bottom;text-align:center\">$\\lambda{} f_{\\left\\langle{}v,t\\right\\rangle{}} \\: . \\: \\lambda{} x_{e} \\: . \\: \\exists{} e_{v} \\: . \\: ({Agent}({e}, {x}) \\wedge{} {f}({e}))$</div></div></td><td style=\"vertical-align:bottom;padding:10px\">$\\circ$</td><td style=\"vertical-align:bottom;padding:5px\"><table><tr style=\"border:1px solid #848482\"><td style=\"vertical-align:bottom;padding:0px 10px\" align=\"center\"><table><tr><td style=\"vertical-align:bottom;padding:5px\"><div style=\"margin-top:10px;border-style:solid;border-color:#848482;border-width:0px\"><div style=\"vertical-align:bottom;text-align:center\">$[\\![\\mathbf{\\text{talk}}]\\!]^{}_{\\left\\langle{}v,t\\right\\rangle{}}$</div><div style=\"vertical-align:bottom;text-align:center\">$\\lambda{} e_{v} \\: . \\: {Talking}_{\\left\\langle{}v,t\\right\\rangle{}}({e})$</div></div></td><td style=\"vertical-align:bottom;padding:10px\">$\\circ$</td><td style=\"vertical-align:bottom;padding:5px\"><div style=\"margin-top:10px;border-style:solid;border-color:#848482;border-width:0px\"><div style=\"vertical-align:bottom;text-align:center\">$[\\![\\mathbf{\\text{slowly}}]\\!]^{}_{\\left\\langle{}v,t\\right\\rangle{}}$</div><div style=\"vertical-align:bottom;text-align:center\">$\\lambda{} e_{v} \\: . \\: {Slow}_{\\left\\langle{}v,t\\right\\rangle{}}({e})$</div></div></td></tr></table></td><td style=\"border-left:1px solid #848482;vertical-align:center;padding:10px\"><span style=\"color:blue\"><b>[GPM]</b></span></td></tr><tr style=\"border-style:solid;border-color:#848482;border-width:0px 1px 1px 1px\"><td style=\"padding:5px\" align=\"center\"><div style=\"margin-top:10px;border-style:solid;border-color:#848482;border-width:0px\"><div style=\"vertical-align:bottom;text-align:center\">$[\\![\\mathbf{\\text{[talk slowly]}}]\\!]^{}_{\\left\\langle{}v,t\\right\\rangle{}}$</div><div style=\"vertical-align:bottom;text-align:center\">$\\lambda{} x_{v} \\: . \\: ({Talking}_{\\left\\langle{}v,t\\right\\rangle{}}({x}) \\wedge{} {Slow}_{\\left\\langle{}v,t\\right\\rangle{}}({x}))$</div></div></td><td></td></tr></table></td></tr></table></td><td style=\"border-left:1px solid #848482;vertical-align:center;padding:10px\"><span style=\"color:blue\"><b>[FA]</b></span></td></tr><tr style=\"border-style:solid;border-color:#848482;border-width:0px 1px 1px 1px\"><td style=\"padding:5px\" align=\"center\"><div style=\"margin-top:10px;border-style:solid;border-color:#848482;border-width:0px\"><div style=\"vertical-align:bottom;text-align:center\">$[\\![\\mathbf{\\text{[ACTIVE2 [talk slowly]]}}]\\!]^{}_{\\left\\langle{}e,t\\right\\rangle{}}$</div><div style=\"vertical-align:bottom;text-align:center\">$\\lambda{} x_{e} \\: . \\: \\exists{} e_{v} \\: . \\: ({Agent}({e}, {x}) \\wedge{} ({Talking}_{\\left\\langle{}v,t\\right\\rangle{}}({e}) \\wedge{} {Slow}_{\\left\\langle{}v,t\\right\\rangle{}}({e})))$</div></div></td><td></td></tr></table></td></tr></table></td><td style=\"border-left:1px solid #848482;vertical-align:center;padding:10px\"><span style=\"color:blue\"><b>[FA]</b></span></td></tr><tr style=\"border-style:solid;border-color:#848482;border-width:0px 1px 1px 1px\"><td style=\"padding:5px\" align=\"center\"><div style=\"margin-top:10px;border-style:solid;border-color:#848482;border-width:0px\"><div style=\"vertical-align:bottom;text-align:center\">$[\\![\\mathbf{\\text{[and2 [ACTIVE2 [talk slowly]]]}}]\\!]^{}_{\\left\\langle{}\\left\\langle{}e,t\\right\\rangle{},\\left\\langle{}e,t\\right\\rangle{}\\right\\rangle{}}$</div><div style=\"vertical-align:bottom;text-align:center\">$\\lambda{} g_{\\left\\langle{}e,t\\right\\rangle{}} \\: . \\: \\lambda{} x_{e} \\: . \\: (\\exists{} e_{v} \\: . \\: ({Agent}({e}, {x}) \\wedge{} ({Talking}_{\\left\\langle{}v,t\\right\\rangle{}}({e}) \\wedge{} {Slow}_{\\left\\langle{}v,t\\right\\rangle{}}({e}))) \\wedge{} {g}({x}))$</div></div></td><td></td></tr></table></td><td style=\"vertical-align:bottom;padding:10px\">$\\circ$</td><td style=\"vertical-align:bottom;padding:5px\"><table><tr style=\"border:1px solid #848482\"><td style=\"vertical-align:bottom;padding:0px 10px\" align=\"center\"><table><tr><td style=\"vertical-align:bottom;padding:5px\"><div style=\"margin-top:10px;border-style:solid;border-color:#848482;border-width:0px\"><div style=\"vertical-align:bottom;text-align:center\">$[\\![\\mathbf{\\text{ACTIVE2}}]\\!]^{}_{\\left\\langle{}\\left\\langle{}v,t\\right\\rangle{},\\left\\langle{}e,t\\right\\rangle{}\\right\\rangle{}}$</div><div style=\"vertical-align:bottom;text-align:center\">$\\lambda{} f_{\\left\\langle{}v,t\\right\\rangle{}} \\: . \\: \\lambda{} x_{e} \\: . \\: \\exists{} e_{v} \\: . \\: ({Agent}({e}, {x}) \\wedge{} {f}({e}))$</div></div></td><td style=\"vertical-align:bottom;padding:10px\">$\\circ$</td><td style=\"vertical-align:bottom;padding:5px\"><table><tr style=\"border:1px solid #848482\"><td style=\"vertical-align:bottom;padding:0px 10px\" align=\"center\"><table><tr><td style=\"vertical-align:bottom;padding:5px\"><div style=\"margin-top:10px;border-style:solid;border-color:#848482;border-width:0px\"><div style=\"vertical-align:bottom;text-align:center\">$[\\![\\mathbf{\\text{dance}}]\\!]^{}_{\\left\\langle{}v,t\\right\\rangle{}}$</div><div style=\"vertical-align:bottom;text-align:center\">$\\lambda{} e_{v} \\: . \\: {Dancing}_{\\left\\langle{}v,t\\right\\rangle{}}({e})$</div></div></td><td style=\"vertical-align:bottom;padding:10px\">$\\circ$</td><td style=\"vertical-align:bottom;padding:5px\"><div style=\"margin-top:10px;border-style:solid;border-color:#848482;border-width:0px\"><div style=\"vertical-align:bottom;text-align:center\">$[\\![\\mathbf{\\text{quickly}}]\\!]^{}_{\\left\\langle{}v,t\\right\\rangle{}}$</div><div style=\"vertical-align:bottom;text-align:center\">$\\lambda{} e_{v} \\: . \\: {Quick}_{\\left\\langle{}v,t\\right\\rangle{}}({e})$</div></div></td></tr></table></td><td style=\"border-left:1px solid #848482;vertical-align:center;padding:10px\"><span style=\"color:blue\"><b>[GPM]</b></span></td></tr><tr style=\"border-style:solid;border-color:#848482;border-width:0px 1px 1px 1px\"><td style=\"padding:5px\" align=\"center\"><div style=\"margin-top:10px;border-style:solid;border-color:#848482;border-width:0px\"><div style=\"vertical-align:bottom;text-align:center\">$[\\![\\mathbf{\\text{[dance quickly]}}]\\!]^{}_{\\left\\langle{}v,t\\right\\rangle{}}$</div><div style=\"vertical-align:bottom;text-align:center\">$\\lambda{} x_{v} \\: . \\: ({Dancing}_{\\left\\langle{}v,t\\right\\rangle{}}({x}) \\wedge{} {Quick}_{\\left\\langle{}v,t\\right\\rangle{}}({x}))$</div></div></td><td></td></tr></table></td></tr></table></td><td style=\"border-left:1px solid #848482;vertical-align:center;padding:10px\"><span style=\"color:blue\"><b>[FA]</b></span></td></tr><tr style=\"border-style:solid;border-color:#848482;border-width:0px 1px 1px 1px\"><td style=\"padding:5px\" align=\"center\"><div style=\"margin-top:10px;border-style:solid;border-color:#848482;border-width:0px\"><div style=\"vertical-align:bottom;text-align:center\">$[\\![\\mathbf{\\text{[ACTIVE2 [dance quickly]]}}]\\!]^{}_{\\left\\langle{}e,t\\right\\rangle{}}$</div><div style=\"vertical-align:bottom;text-align:center\">$\\lambda{} x_{e} \\: . \\: \\exists{} e_{v} \\: . \\: ({Agent}({e}, {x}) \\wedge{} ({Dancing}_{\\left\\langle{}v,t\\right\\rangle{}}({e}) \\wedge{} {Quick}_{\\left\\langle{}v,t\\right\\rangle{}}({e})))$</div></div></td><td></td></tr></table></td></tr></table></td><td style=\"border-left:1px solid #848482;vertical-align:center;padding:10px\"><span style=\"color:blue\"><b>[FA]</b></span></td></tr><tr style=\"border-style:solid;border-color:#848482;border-width:0px 1px 1px 1px\"><td style=\"padding:5px\" align=\"center\"><div style=\"margin-top:10px;border-style:solid;border-color:#848482;border-width:0px\"><div style=\"vertical-align:bottom;text-align:center\">$[\\![\\mathbf{\\text{[[and2 [ACTIVE2 [talk slowly]]] [ACTIVE2 [dance quickly]]]}}]\\!]^{}_{\\left\\langle{}e,t\\right\\rangle{}}$</div><div style=\"vertical-align:bottom;text-align:center\">$\\lambda{} x_{e} \\: . \\: (\\exists{} e_{v} \\: . \\: ({Agent}({e}, {x}) \\wedge{} ({Talking}_{\\left\\langle{}v,t\\right\\rangle{}}({e}) \\wedge{} {Slow}_{\\left\\langle{}v,t\\right\\rangle{}}({e}))) \\wedge{} \\exists{} e_{v} \\: . \\: ({Agent}({e}, {x}) \\wedge{} ({Dancing}_{\\left\\langle{}v,t\\right\\rangle{}}({e}) \\wedge{} {Quick}_{\\left\\langle{}v,t\\right\\rangle{}}({e}))))$</div></div></td><td></td></tr></table></td><td style=\"vertical-align:bottom;padding:10px\">$\\circ$</td><td style=\"vertical-align:bottom;padding:5px\"><div style=\"margin-top:10px;border-style:solid;border-color:#848482;border-width:0px\"><div style=\"vertical-align:bottom;text-align:center\">$[\\![\\mathbf{\\text{alfonso}}]\\!]^{}_{e}$</div><div style=\"vertical-align:bottom;text-align:center\">${Alfonso}_{e}$</div></div></td></tr></table></td><td style=\"border-left:1px solid #848482;vertical-align:center;padding:10px\"><span style=\"color:blue\"><b>[FA]</b></span></td></tr><tr style=\"border-style:solid;border-color:#848482;border-width:0px 1px 1px 1px\"><td style=\"padding:5px\" align=\"center\"><div style=\"margin-top:10px;border-style:solid;border-color:#848482;border-width:0px\"><div style=\"vertical-align:bottom;text-align:center\">$[\\![\\mathbf{\\text{[[[and2 [ACTIVE2 [talk slowly]]] [ACTIVE2 [dance quickly]]] alfonso]}}]\\!]^{}_{t}$</div><div style=\"vertical-align:bottom;text-align:center\">$(\\exists{} e_{v} \\: . \\: ({Agent}({e}, {Alfonso}_{e}) \\wedge{} ({Talking}_{\\left\\langle{}v,t\\right\\rangle{}}({e}) \\wedge{} {Slow}_{\\left\\langle{}v,t\\right\\rangle{}}({e}))) \\wedge{} \\exists{} e_{v} \\: . \\: ({Agent}({e}, {Alfonso}_{e}) \\wedge{} ({Dancing}_{\\left\\langle{}v,t\\right\\rangle{}}({e}) \\wedge{} {Quick}_{\\left\\langle{}v,t\\right\\rangle{}}({e}))))$</div></div></td><td></td></tr></table><br /><br />"
      ],
      "text/latex": [
       "1 composition path:<br /><style>.rendered_html table, .rendered_html tr, .rendered_html td, .rendered_html th { border: 0px; text-align:center; }</style><table><tr style=\"border:1px solid #848482\"><td style=\"vertical-align:bottom;padding:0px 10px\" align=\"center\"><table><tr><td style=\"vertical-align:bottom;padding:5px\"><table><tr style=\"border:1px solid #848482\"><td style=\"vertical-align:bottom;padding:0px 10px\" align=\"center\"><table><tr><td style=\"vertical-align:bottom;padding:5px\"><table><tr style=\"border:1px solid #848482\"><td style=\"vertical-align:bottom;padding:0px 10px\" align=\"center\"><table><tr><td style=\"vertical-align:bottom;padding:5px\"><div style=\"margin-top:10px;border-style:solid;border-color:#848482;border-width:0px\"><div style=\"vertical-align:bottom;text-align:center\">$[\\![\\mathbf{\\text{and2}}]\\!]^{}_{\\left\\langle{}\\left\\langle{}e,t\\right\\rangle{},\\left\\langle{}\\left\\langle{}e,t\\right\\rangle{},\\left\\langle{}e,t\\right\\rangle{}\\right\\rangle{}\\right\\rangle{}}$</div><div style=\"vertical-align:bottom;text-align:center\">$\\lambda{} f_{\\left\\langle{}e,t\\right\\rangle{}} \\: . \\: \\lambda{} g_{\\left\\langle{}e,t\\right\\rangle{}} \\: . \\: \\lambda{} x_{e} \\: . \\: ({f}({x}) \\wedge{} {g}({x}))$</div></div></td><td style=\"vertical-align:bottom;padding:10px\">$\\circ$</td><td style=\"vertical-align:bottom;padding:5px\"><table><tr style=\"border:1px solid #848482\"><td style=\"vertical-align:bottom;padding:0px 10px\" align=\"center\"><table><tr><td style=\"vertical-align:bottom;padding:5px\"><div style=\"margin-top:10px;border-style:solid;border-color:#848482;border-width:0px\"><div style=\"vertical-align:bottom;text-align:center\">$[\\![\\mathbf{\\text{ACTIVE2}}]\\!]^{}_{\\left\\langle{}\\left\\langle{}v,t\\right\\rangle{},\\left\\langle{}e,t\\right\\rangle{}\\right\\rangle{}}$</div><div style=\"vertical-align:bottom;text-align:center\">$\\lambda{} f_{\\left\\langle{}v,t\\right\\rangle{}} \\: . \\: \\lambda{} x_{e} \\: . \\: \\exists{} e_{v} \\: . \\: ({Agent}({e}, {x}) \\wedge{} {f}({e}))$</div></div></td><td style=\"vertical-align:bottom;padding:10px\">$\\circ$</td><td style=\"vertical-align:bottom;padding:5px\"><table><tr style=\"border:1px solid #848482\"><td style=\"vertical-align:bottom;padding:0px 10px\" align=\"center\"><table><tr><td style=\"vertical-align:bottom;padding:5px\"><div style=\"margin-top:10px;border-style:solid;border-color:#848482;border-width:0px\"><div style=\"vertical-align:bottom;text-align:center\">$[\\![\\mathbf{\\text{talk}}]\\!]^{}_{\\left\\langle{}v,t\\right\\rangle{}}$</div><div style=\"vertical-align:bottom;text-align:center\">$\\lambda{} e_{v} \\: . \\: {Talking}_{\\left\\langle{}v,t\\right\\rangle{}}({e})$</div></div></td><td style=\"vertical-align:bottom;padding:10px\">$\\circ$</td><td style=\"vertical-align:bottom;padding:5px\"><div style=\"margin-top:10px;border-style:solid;border-color:#848482;border-width:0px\"><div style=\"vertical-align:bottom;text-align:center\">$[\\![\\mathbf{\\text{slowly}}]\\!]^{}_{\\left\\langle{}v,t\\right\\rangle{}}$</div><div style=\"vertical-align:bottom;text-align:center\">$\\lambda{} e_{v} \\: . \\: {Slow}_{\\left\\langle{}v,t\\right\\rangle{}}({e})$</div></div></td></tr></table></td><td style=\"border-left:1px solid #848482;vertical-align:center;padding:10px\"><span style=\"color:blue\"><b>[GPM]</b></span></td></tr><tr style=\"border-style:solid;border-color:#848482;border-width:0px 1px 1px 1px\"><td style=\"padding:5px\" align=\"center\"><div style=\"margin-top:10px;border-style:solid;border-color:#848482;border-width:0px\"><div style=\"vertical-align:bottom;text-align:center\">$[\\![\\mathbf{\\text{[talk slowly]}}]\\!]^{}_{\\left\\langle{}v,t\\right\\rangle{}}$</div><div style=\"vertical-align:bottom;text-align:center\">$\\lambda{} x_{v} \\: . \\: ({Talking}_{\\left\\langle{}v,t\\right\\rangle{}}({x}) \\wedge{} {Slow}_{\\left\\langle{}v,t\\right\\rangle{}}({x}))$</div></div></td><td></td></tr></table></td></tr></table></td><td style=\"border-left:1px solid #848482;vertical-align:center;padding:10px\"><span style=\"color:blue\"><b>[FA]</b></span></td></tr><tr style=\"border-style:solid;border-color:#848482;border-width:0px 1px 1px 1px\"><td style=\"padding:5px\" align=\"center\"><div style=\"margin-top:10px;border-style:solid;border-color:#848482;border-width:0px\"><div style=\"vertical-align:bottom;text-align:center\">$[\\![\\mathbf{\\text{[ACTIVE2 [talk slowly]]}}]\\!]^{}_{\\left\\langle{}e,t\\right\\rangle{}}$</div><div style=\"vertical-align:bottom;text-align:center\">$\\lambda{} x_{e} \\: . \\: \\exists{} e_{v} \\: . \\: ({Agent}({e}, {x}) \\wedge{} ({Talking}_{\\left\\langle{}v,t\\right\\rangle{}}({e}) \\wedge{} {Slow}_{\\left\\langle{}v,t\\right\\rangle{}}({e})))$</div></div></td><td></td></tr></table></td></tr></table></td><td style=\"border-left:1px solid #848482;vertical-align:center;padding:10px\"><span style=\"color:blue\"><b>[FA]</b></span></td></tr><tr style=\"border-style:solid;border-color:#848482;border-width:0px 1px 1px 1px\"><td style=\"padding:5px\" align=\"center\"><div style=\"margin-top:10px;border-style:solid;border-color:#848482;border-width:0px\"><div style=\"vertical-align:bottom;text-align:center\">$[\\![\\mathbf{\\text{[and2 [ACTIVE2 [talk slowly]]]}}]\\!]^{}_{\\left\\langle{}\\left\\langle{}e,t\\right\\rangle{},\\left\\langle{}e,t\\right\\rangle{}\\right\\rangle{}}$</div><div style=\"vertical-align:bottom;text-align:center\">$\\lambda{} g_{\\left\\langle{}e,t\\right\\rangle{}} \\: . \\: \\lambda{} x_{e} \\: . \\: (\\exists{} e_{v} \\: . \\: ({Agent}({e}, {x}) \\wedge{} ({Talking}_{\\left\\langle{}v,t\\right\\rangle{}}({e}) \\wedge{} {Slow}_{\\left\\langle{}v,t\\right\\rangle{}}({e}))) \\wedge{} {g}({x}))$</div></div></td><td></td></tr></table></td><td style=\"vertical-align:bottom;padding:10px\">$\\circ$</td><td style=\"vertical-align:bottom;padding:5px\"><table><tr style=\"border:1px solid #848482\"><td style=\"vertical-align:bottom;padding:0px 10px\" align=\"center\"><table><tr><td style=\"vertical-align:bottom;padding:5px\"><div style=\"margin-top:10px;border-style:solid;border-color:#848482;border-width:0px\"><div style=\"vertical-align:bottom;text-align:center\">$[\\![\\mathbf{\\text{ACTIVE2}}]\\!]^{}_{\\left\\langle{}\\left\\langle{}v,t\\right\\rangle{},\\left\\langle{}e,t\\right\\rangle{}\\right\\rangle{}}$</div><div style=\"vertical-align:bottom;text-align:center\">$\\lambda{} f_{\\left\\langle{}v,t\\right\\rangle{}} \\: . \\: \\lambda{} x_{e} \\: . \\: \\exists{} e_{v} \\: . \\: ({Agent}({e}, {x}) \\wedge{} {f}({e}))$</div></div></td><td style=\"vertical-align:bottom;padding:10px\">$\\circ$</td><td style=\"vertical-align:bottom;padding:5px\"><table><tr style=\"border:1px solid #848482\"><td style=\"vertical-align:bottom;padding:0px 10px\" align=\"center\"><table><tr><td style=\"vertical-align:bottom;padding:5px\"><div style=\"margin-top:10px;border-style:solid;border-color:#848482;border-width:0px\"><div style=\"vertical-align:bottom;text-align:center\">$[\\![\\mathbf{\\text{dance}}]\\!]^{}_{\\left\\langle{}v,t\\right\\rangle{}}$</div><div style=\"vertical-align:bottom;text-align:center\">$\\lambda{} e_{v} \\: . \\: {Dancing}_{\\left\\langle{}v,t\\right\\rangle{}}({e})$</div></div></td><td style=\"vertical-align:bottom;padding:10px\">$\\circ$</td><td style=\"vertical-align:bottom;padding:5px\"><div style=\"margin-top:10px;border-style:solid;border-color:#848482;border-width:0px\"><div style=\"vertical-align:bottom;text-align:center\">$[\\![\\mathbf{\\text{quickly}}]\\!]^{}_{\\left\\langle{}v,t\\right\\rangle{}}$</div><div style=\"vertical-align:bottom;text-align:center\">$\\lambda{} e_{v} \\: . \\: {Quick}_{\\left\\langle{}v,t\\right\\rangle{}}({e})$</div></div></td></tr></table></td><td style=\"border-left:1px solid #848482;vertical-align:center;padding:10px\"><span style=\"color:blue\"><b>[GPM]</b></span></td></tr><tr style=\"border-style:solid;border-color:#848482;border-width:0px 1px 1px 1px\"><td style=\"padding:5px\" align=\"center\"><div style=\"margin-top:10px;border-style:solid;border-color:#848482;border-width:0px\"><div style=\"vertical-align:bottom;text-align:center\">$[\\![\\mathbf{\\text{[dance quickly]}}]\\!]^{}_{\\left\\langle{}v,t\\right\\rangle{}}$</div><div style=\"vertical-align:bottom;text-align:center\">$\\lambda{} x_{v} \\: . \\: ({Dancing}_{\\left\\langle{}v,t\\right\\rangle{}}({x}) \\wedge{} {Quick}_{\\left\\langle{}v,t\\right\\rangle{}}({x}))$</div></div></td><td></td></tr></table></td></tr></table></td><td style=\"border-left:1px solid #848482;vertical-align:center;padding:10px\"><span style=\"color:blue\"><b>[FA]</b></span></td></tr><tr style=\"border-style:solid;border-color:#848482;border-width:0px 1px 1px 1px\"><td style=\"padding:5px\" align=\"center\"><div style=\"margin-top:10px;border-style:solid;border-color:#848482;border-width:0px\"><div style=\"vertical-align:bottom;text-align:center\">$[\\![\\mathbf{\\text{[ACTIVE2 [dance quickly]]}}]\\!]^{}_{\\left\\langle{}e,t\\right\\rangle{}}$</div><div style=\"vertical-align:bottom;text-align:center\">$\\lambda{} x_{e} \\: . \\: \\exists{} e_{v} \\: . \\: ({Agent}({e}, {x}) \\wedge{} ({Dancing}_{\\left\\langle{}v,t\\right\\rangle{}}({e}) \\wedge{} {Quick}_{\\left\\langle{}v,t\\right\\rangle{}}({e})))$</div></div></td><td></td></tr></table></td></tr></table></td><td style=\"border-left:1px solid #848482;vertical-align:center;padding:10px\"><span style=\"color:blue\"><b>[FA]</b></span></td></tr><tr style=\"border-style:solid;border-color:#848482;border-width:0px 1px 1px 1px\"><td style=\"padding:5px\" align=\"center\"><div style=\"margin-top:10px;border-style:solid;border-color:#848482;border-width:0px\"><div style=\"vertical-align:bottom;text-align:center\">$[\\![\\mathbf{\\text{[[and2 [ACTIVE2 [talk slowly]]] [ACTIVE2 [dance quickly]]]}}]\\!]^{}_{\\left\\langle{}e,t\\right\\rangle{}}$</div><div style=\"vertical-align:bottom;text-align:center\">$\\lambda{} x_{e} \\: . \\: (\\exists{} e_{v} \\: . \\: ({Agent}({e}, {x}) \\wedge{} ({Talking}_{\\left\\langle{}v,t\\right\\rangle{}}({e}) \\wedge{} {Slow}_{\\left\\langle{}v,t\\right\\rangle{}}({e}))) \\wedge{} \\exists{} e_{v} \\: . \\: ({Agent}({e}, {x}) \\wedge{} ({Dancing}_{\\left\\langle{}v,t\\right\\rangle{}}({e}) \\wedge{} {Quick}_{\\left\\langle{}v,t\\right\\rangle{}}({e}))))$</div></div></td><td></td></tr></table></td><td style=\"vertical-align:bottom;padding:10px\">$\\circ$</td><td style=\"vertical-align:bottom;padding:5px\"><div style=\"margin-top:10px;border-style:solid;border-color:#848482;border-width:0px\"><div style=\"vertical-align:bottom;text-align:center\">$[\\![\\mathbf{\\text{alfonso}}]\\!]^{}_{e}$</div><div style=\"vertical-align:bottom;text-align:center\">${Alfonso}_{e}$</div></div></td></tr></table></td><td style=\"border-left:1px solid #848482;vertical-align:center;padding:10px\"><span style=\"color:blue\"><b>[FA]</b></span></td></tr><tr style=\"border-style:solid;border-color:#848482;border-width:0px 1px 1px 1px\"><td style=\"padding:5px\" align=\"center\"><div style=\"margin-top:10px;border-style:solid;border-color:#848482;border-width:0px\"><div style=\"vertical-align:bottom;text-align:center\">$[\\![\\mathbf{\\text{[[[and2 [ACTIVE2 [talk slowly]]] [ACTIVE2 [dance quickly]]] alfonso]}}]\\!]^{}_{t}$</div><div style=\"vertical-align:bottom;text-align:center\">$(\\exists{} e_{v} \\: . \\: ({Agent}({e}, {Alfonso}_{e}) \\wedge{} ({Talking}_{\\left\\langle{}v,t\\right\\rangle{}}({e}) \\wedge{} {Slow}_{\\left\\langle{}v,t\\right\\rangle{}}({e}))) \\wedge{} \\exists{} e_{v} \\: . \\: ({Agent}({e}, {Alfonso}_{e}) \\wedge{} ({Dancing}_{\\left\\langle{}v,t\\right\\rangle{}}({e}) \\wedge{} {Quick}_{\\left\\langle{}v,t\\right\\rangle{}}({e}))))$</div></div></td><td></td></tr></table><br /><br />"
      ],
      "text/plain": [
       "1 composition path:<br /><style>.rendered_html table, .rendered_html tr, .rendered_html td, .rendered_html th { border: 0px; text-align:center; }</style><table><tr style=\"border:1px solid #848482\"><td style=\"vertical-align:bottom;padding:0px 10px\" align=\"center\"><table><tr><td style=\"vertical-align:bottom;padding:5px\"><table><tr style=\"border:1px solid #848482\"><td style=\"vertical-align:bottom;padding:0px 10px\" align=\"center\"><table><tr><td style=\"vertical-align:bottom;padding:5px\"><table><tr style=\"border:1px solid #848482\"><td style=\"vertical-align:bottom;padding:0px 10px\" align=\"center\"><table><tr><td style=\"vertical-align:bottom;padding:5px\"><div style=\"margin-top:10px;border-style:solid;border-color:#848482;border-width:0px\"><div style=\"vertical-align:bottom;text-align:center\">$[\\![\\mathbf{\\text{and2}}]\\!]^{}_{\\left\\langle{}\\left\\langle{}e,t\\right\\rangle{},\\left\\langle{}\\left\\langle{}e,t\\right\\rangle{},\\left\\langle{}e,t\\right\\rangle{}\\right\\rangle{}\\right\\rangle{}}$</div><div style=\"vertical-align:bottom;text-align:center\">$\\lambda{} f_{\\left\\langle{}e,t\\right\\rangle{}} \\: . \\: \\lambda{} g_{\\left\\langle{}e,t\\right\\rangle{}} \\: . \\: \\lambda{} x_{e} \\: . \\: ({f}({x}) \\wedge{} {g}({x}))$</div></div></td><td style=\"vertical-align:bottom;padding:10px\">$\\circ$</td><td style=\"vertical-align:bottom;padding:5px\"><table><tr style=\"border:1px solid #848482\"><td style=\"vertical-align:bottom;padding:0px 10px\" align=\"center\"><table><tr><td style=\"vertical-align:bottom;padding:5px\"><div style=\"margin-top:10px;border-style:solid;border-color:#848482;border-width:0px\"><div style=\"vertical-align:bottom;text-align:center\">$[\\![\\mathbf{\\text{ACTIVE2}}]\\!]^{}_{\\left\\langle{}\\left\\langle{}v,t\\right\\rangle{},\\left\\langle{}e,t\\right\\rangle{}\\right\\rangle{}}$</div><div style=\"vertical-align:bottom;text-align:center\">$\\lambda{} f_{\\left\\langle{}v,t\\right\\rangle{}} \\: . \\: \\lambda{} x_{e} \\: . \\: \\exists{} e_{v} \\: . \\: ({Agent}({e}, {x}) \\wedge{} {f}({e}))$</div></div></td><td style=\"vertical-align:bottom;padding:10px\">$\\circ$</td><td style=\"vertical-align:bottom;padding:5px\"><table><tr style=\"border:1px solid #848482\"><td style=\"vertical-align:bottom;padding:0px 10px\" align=\"center\"><table><tr><td style=\"vertical-align:bottom;padding:5px\"><div style=\"margin-top:10px;border-style:solid;border-color:#848482;border-width:0px\"><div style=\"vertical-align:bottom;text-align:center\">$[\\![\\mathbf{\\text{talk}}]\\!]^{}_{\\left\\langle{}v,t\\right\\rangle{}}$</div><div style=\"vertical-align:bottom;text-align:center\">$\\lambda{} e_{v} \\: . \\: {Talking}_{\\left\\langle{}v,t\\right\\rangle{}}({e})$</div></div></td><td style=\"vertical-align:bottom;padding:10px\">$\\circ$</td><td style=\"vertical-align:bottom;padding:5px\"><div style=\"margin-top:10px;border-style:solid;border-color:#848482;border-width:0px\"><div style=\"vertical-align:bottom;text-align:center\">$[\\![\\mathbf{\\text{slowly}}]\\!]^{}_{\\left\\langle{}v,t\\right\\rangle{}}$</div><div style=\"vertical-align:bottom;text-align:center\">$\\lambda{} e_{v} \\: . \\: {Slow}_{\\left\\langle{}v,t\\right\\rangle{}}({e})$</div></div></td></tr></table></td><td style=\"border-left:1px solid #848482;vertical-align:center;padding:10px\"><span style=\"color:blue\"><b>[GPM]</b></span></td></tr><tr style=\"border-style:solid;border-color:#848482;border-width:0px 1px 1px 1px\"><td style=\"padding:5px\" align=\"center\"><div style=\"margin-top:10px;border-style:solid;border-color:#848482;border-width:0px\"><div style=\"vertical-align:bottom;text-align:center\">$[\\![\\mathbf{\\text{[talk slowly]}}]\\!]^{}_{\\left\\langle{}v,t\\right\\rangle{}}$</div><div style=\"vertical-align:bottom;text-align:center\">$\\lambda{} x_{v} \\: . \\: ({Talking}_{\\left\\langle{}v,t\\right\\rangle{}}({x}) \\wedge{} {Slow}_{\\left\\langle{}v,t\\right\\rangle{}}({x}))$</div></div></td><td></td></tr></table></td></tr></table></td><td style=\"border-left:1px solid #848482;vertical-align:center;padding:10px\"><span style=\"color:blue\"><b>[FA]</b></span></td></tr><tr style=\"border-style:solid;border-color:#848482;border-width:0px 1px 1px 1px\"><td style=\"padding:5px\" align=\"center\"><div style=\"margin-top:10px;border-style:solid;border-color:#848482;border-width:0px\"><div style=\"vertical-align:bottom;text-align:center\">$[\\![\\mathbf{\\text{[ACTIVE2 [talk slowly]]}}]\\!]^{}_{\\left\\langle{}e,t\\right\\rangle{}}$</div><div style=\"vertical-align:bottom;text-align:center\">$\\lambda{} x_{e} \\: . \\: \\exists{} e_{v} \\: . \\: ({Agent}({e}, {x}) \\wedge{} ({Talking}_{\\left\\langle{}v,t\\right\\rangle{}}({e}) \\wedge{} {Slow}_{\\left\\langle{}v,t\\right\\rangle{}}({e})))$</div></div></td><td></td></tr></table></td></tr></table></td><td style=\"border-left:1px solid #848482;vertical-align:center;padding:10px\"><span style=\"color:blue\"><b>[FA]</b></span></td></tr><tr style=\"border-style:solid;border-color:#848482;border-width:0px 1px 1px 1px\"><td style=\"padding:5px\" align=\"center\"><div style=\"margin-top:10px;border-style:solid;border-color:#848482;border-width:0px\"><div style=\"vertical-align:bottom;text-align:center\">$[\\![\\mathbf{\\text{[and2 [ACTIVE2 [talk slowly]]]}}]\\!]^{}_{\\left\\langle{}\\left\\langle{}e,t\\right\\rangle{},\\left\\langle{}e,t\\right\\rangle{}\\right\\rangle{}}$</div><div style=\"vertical-align:bottom;text-align:center\">$\\lambda{} g_{\\left\\langle{}e,t\\right\\rangle{}} \\: . \\: \\lambda{} x_{e} \\: . \\: (\\exists{} e_{v} \\: . \\: ({Agent}({e}, {x}) \\wedge{} ({Talking}_{\\left\\langle{}v,t\\right\\rangle{}}({e}) \\wedge{} {Slow}_{\\left\\langle{}v,t\\right\\rangle{}}({e}))) \\wedge{} {g}({x}))$</div></div></td><td></td></tr></table></td><td style=\"vertical-align:bottom;padding:10px\">$\\circ$</td><td style=\"vertical-align:bottom;padding:5px\"><table><tr style=\"border:1px solid #848482\"><td style=\"vertical-align:bottom;padding:0px 10px\" align=\"center\"><table><tr><td style=\"vertical-align:bottom;padding:5px\"><div style=\"margin-top:10px;border-style:solid;border-color:#848482;border-width:0px\"><div style=\"vertical-align:bottom;text-align:center\">$[\\![\\mathbf{\\text{ACTIVE2}}]\\!]^{}_{\\left\\langle{}\\left\\langle{}v,t\\right\\rangle{},\\left\\langle{}e,t\\right\\rangle{}\\right\\rangle{}}$</div><div style=\"vertical-align:bottom;text-align:center\">$\\lambda{} f_{\\left\\langle{}v,t\\right\\rangle{}} \\: . \\: \\lambda{} x_{e} \\: . \\: \\exists{} e_{v} \\: . \\: ({Agent}({e}, {x}) \\wedge{} {f}({e}))$</div></div></td><td style=\"vertical-align:bottom;padding:10px\">$\\circ$</td><td style=\"vertical-align:bottom;padding:5px\"><table><tr style=\"border:1px solid #848482\"><td style=\"vertical-align:bottom;padding:0px 10px\" align=\"center\"><table><tr><td style=\"vertical-align:bottom;padding:5px\"><div style=\"margin-top:10px;border-style:solid;border-color:#848482;border-width:0px\"><div style=\"vertical-align:bottom;text-align:center\">$[\\![\\mathbf{\\text{dance}}]\\!]^{}_{\\left\\langle{}v,t\\right\\rangle{}}$</div><div style=\"vertical-align:bottom;text-align:center\">$\\lambda{} e_{v} \\: . \\: {Dancing}_{\\left\\langle{}v,t\\right\\rangle{}}({e})$</div></div></td><td style=\"vertical-align:bottom;padding:10px\">$\\circ$</td><td style=\"vertical-align:bottom;padding:5px\"><div style=\"margin-top:10px;border-style:solid;border-color:#848482;border-width:0px\"><div style=\"vertical-align:bottom;text-align:center\">$[\\![\\mathbf{\\text{quickly}}]\\!]^{}_{\\left\\langle{}v,t\\right\\rangle{}}$</div><div style=\"vertical-align:bottom;text-align:center\">$\\lambda{} e_{v} \\: . \\: {Quick}_{\\left\\langle{}v,t\\right\\rangle{}}({e})$</div></div></td></tr></table></td><td style=\"border-left:1px solid #848482;vertical-align:center;padding:10px\"><span style=\"color:blue\"><b>[GPM]</b></span></td></tr><tr style=\"border-style:solid;border-color:#848482;border-width:0px 1px 1px 1px\"><td style=\"padding:5px\" align=\"center\"><div style=\"margin-top:10px;border-style:solid;border-color:#848482;border-width:0px\"><div style=\"vertical-align:bottom;text-align:center\">$[\\![\\mathbf{\\text{[dance quickly]}}]\\!]^{}_{\\left\\langle{}v,t\\right\\rangle{}}$</div><div style=\"vertical-align:bottom;text-align:center\">$\\lambda{} x_{v} \\: . \\: ({Dancing}_{\\left\\langle{}v,t\\right\\rangle{}}({x}) \\wedge{} {Quick}_{\\left\\langle{}v,t\\right\\rangle{}}({x}))$</div></div></td><td></td></tr></table></td></tr></table></td><td style=\"border-left:1px solid #848482;vertical-align:center;padding:10px\"><span style=\"color:blue\"><b>[FA]</b></span></td></tr><tr style=\"border-style:solid;border-color:#848482;border-width:0px 1px 1px 1px\"><td style=\"padding:5px\" align=\"center\"><div style=\"margin-top:10px;border-style:solid;border-color:#848482;border-width:0px\"><div style=\"vertical-align:bottom;text-align:center\">$[\\![\\mathbf{\\text{[ACTIVE2 [dance quickly]]}}]\\!]^{}_{\\left\\langle{}e,t\\right\\rangle{}}$</div><div style=\"vertical-align:bottom;text-align:center\">$\\lambda{} x_{e} \\: . \\: \\exists{} e_{v} \\: . \\: ({Agent}({e}, {x}) \\wedge{} ({Dancing}_{\\left\\langle{}v,t\\right\\rangle{}}({e}) \\wedge{} {Quick}_{\\left\\langle{}v,t\\right\\rangle{}}({e})))$</div></div></td><td></td></tr></table></td></tr></table></td><td style=\"border-left:1px solid #848482;vertical-align:center;padding:10px\"><span style=\"color:blue\"><b>[FA]</b></span></td></tr><tr style=\"border-style:solid;border-color:#848482;border-width:0px 1px 1px 1px\"><td style=\"padding:5px\" align=\"center\"><div style=\"margin-top:10px;border-style:solid;border-color:#848482;border-width:0px\"><div style=\"vertical-align:bottom;text-align:center\">$[\\![\\mathbf{\\text{[[and2 [ACTIVE2 [talk slowly]]] [ACTIVE2 [dance quickly]]]}}]\\!]^{}_{\\left\\langle{}e,t\\right\\rangle{}}$</div><div style=\"vertical-align:bottom;text-align:center\">$\\lambda{} x_{e} \\: . \\: (\\exists{} e_{v} \\: . \\: ({Agent}({e}, {x}) \\wedge{} ({Talking}_{\\left\\langle{}v,t\\right\\rangle{}}({e}) \\wedge{} {Slow}_{\\left\\langle{}v,t\\right\\rangle{}}({e}))) \\wedge{} \\exists{} e_{v} \\: . \\: ({Agent}({e}, {x}) \\wedge{} ({Dancing}_{\\left\\langle{}v,t\\right\\rangle{}}({e}) \\wedge{} {Quick}_{\\left\\langle{}v,t\\right\\rangle{}}({e}))))$</div></div></td><td></td></tr></table></td><td style=\"vertical-align:bottom;padding:10px\">$\\circ$</td><td style=\"vertical-align:bottom;padding:5px\"><div style=\"margin-top:10px;border-style:solid;border-color:#848482;border-width:0px\"><div style=\"vertical-align:bottom;text-align:center\">$[\\![\\mathbf{\\text{alfonso}}]\\!]^{}_{e}$</div><div style=\"vertical-align:bottom;text-align:center\">${Alfonso}_{e}$</div></div></td></tr></table></td><td style=\"border-left:1px solid #848482;vertical-align:center;padding:10px\"><span style=\"color:blue\"><b>[FA]</b></span></td></tr><tr style=\"border-style:solid;border-color:#848482;border-width:0px 1px 1px 1px\"><td style=\"padding:5px\" align=\"center\"><div style=\"margin-top:10px;border-style:solid;border-color:#848482;border-width:0px\"><div style=\"vertical-align:bottom;text-align:center\">$[\\![\\mathbf{\\text{[[[and2 [ACTIVE2 [talk slowly]]] [ACTIVE2 [dance quickly]]] alfonso]}}]\\!]^{}_{t}$</div><div style=\"vertical-align:bottom;text-align:center\">$(\\exists{} e_{v} \\: . \\: ({Agent}({e}, {Alfonso}_{e}) \\wedge{} ({Talking}_{\\left\\langle{}v,t\\right\\rangle{}}({e}) \\wedge{} {Slow}_{\\left\\langle{}v,t\\right\\rangle{}}({e}))) \\wedge{} \\exists{} e_{v} \\: . \\: ({Agent}({e}, {Alfonso}_{e}) \\wedge{} ({Dancing}_{\\left\\langle{}v,t\\right\\rangle{}}({e}) \\wedge{} {Quick}_{\\left\\langle{}v,t\\right\\rangle{}}({e}))))$</div></div></td><td></td></tr></table><br /><br />"
      ]
     },
     "execution_count": 36,
     "metadata": {},
     "output_type": "execute_result"
    }
   ],
   "source": [
    "r.tree()"
   ]
  },
  {
   "cell_type": "code",
   "execution_count": 37,
   "metadata": {
    "collapsed": true
   },
   "outputs": [],
   "source": []
  }
 ],
 "metadata": {
  "kernelspec": {
   "display_name": "Lambda Notebook (Python 3)",
   "language": "python",
   "name": "lambda-notebook"
  },
  "language_info": {
   "codemirror_mode": {
    "name": "ipython",
    "version": 3
   },
   "file_extension": ".py",
   "mimetype": "text/x-python",
   "name": "python",
   "nbconvert_exporter": "python",
   "pygments_lexer": "ipython3",
   "version": "3.6.2"
  }
 },
 "nbformat": 4,
 "nbformat_minor": 1
}
