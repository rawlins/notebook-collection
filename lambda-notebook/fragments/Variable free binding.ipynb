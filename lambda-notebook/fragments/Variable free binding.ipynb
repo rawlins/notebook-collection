{
 "cells": [
  {
   "cell_type": "code",
   "execution_count": 1,
   "metadata": {
    "collapsed": false
   },
   "outputs": [],
   "source": [
    "reload_lamb()"
   ]
  },
  {
   "cell_type": "markdown",
   "metadata": {},
   "source": [
    "# Variable free binding a la Jacobson\n",
    "\n",
    "### Notebook author: Kyle Rawlins\n",
    "\n",
    "This notebook implements (a bit of) the semantic side of Jacobson's account of binding and pronouns.  In so doing, we can get a better idea of how it works, as well as what work is carried by the pure type theory, and what work is carried by the syntactic side of things.  (I don't implement the syntax here.)\n",
    "\n",
    ">Jacobson, Pauline. \"[Towards a Variable-Free Semantics](http://link.springer.com/article/10.1023%2FA%3A1005464228727)\", Linguistics and Philosophy 22, 1999. pp. 117-184.\n",
    "\n",
    "The basic idea (in the end) is that rather than representing binding via indices, we can use type-shifts to hold out an argument slot where a pronoun appeared for later saturation.  I follow the development of the proposal in the article, by first using function composition.\n",
    "\n",
    "(Warning: Because of the lack of syntax, this notebook is far from being a complete version of Jacobson's account!)"
   ]
  },
  {
   "cell_type": "markdown",
   "metadata": {},
   "source": [
    "**Step 1**: define a function composition operation on meta-language functions (LFun objects)\n",
    "\n",
    "* There are multiple ways of doing this.  I have chosen to construct a combinator of the correct type.  The function `geach_combinator` does this (see below for the output)\n",
    "* This is effectively an implementation of the geach rule."
   ]
  },
  {
   "cell_type": "code",
   "execution_count": 2,
   "metadata": {
    "collapsed": false
   },
   "outputs": [],
   "source": [
    "geach = %te L g_<Y,Z> : L f_<X,Y> : L x_X : g(f(x))\n",
    "\n",
    "# use the Geach rule to implement function composition as a python function.\n",
    "def fc_meta(g, f):\n",
    "    return geach(g)(f).reduce_all()"
   ]
  },
  {
   "cell_type": "markdown",
   "metadata": {},
   "source": [
    "Just as an example,here's what this combinator looks like for `X=e`, `Y=e`, `Z=t`, a case that will be common in the variable-free analysis of binding."
   ]
  },
  {
   "cell_type": "code",
   "execution_count": 3,
   "metadata": {
    "collapsed": false
   },
   "outputs": [
    {
     "data": {
      "text/latex": [
       "$\\lambda{} g_{\\left\\langle{}e,t\\right\\rangle{}} \\: . \\: \\lambda{} f_{\\left\\langle{}e,e\\right\\rangle{}} \\: . \\: \\lambda{} x_{e} \\: . \\: {g}({f}({x}))$"
      ],
      "text/plain": [
       "(λ g_<e,t>: (λ f_<e,e>: (λ x_e: g_<e,t>(f_<e,e>(x_e)))))"
      ]
     },
     "execution_count": 3,
     "metadata": {},
     "output_type": "execute_result"
    }
   ],
   "source": [
    "geach.try_adjust_type(tp(\"<<e,t>,<<e,e>,?>>\"))"
   ]
  },
  {
   "cell_type": "code",
   "execution_count": 4,
   "metadata": {
    "collapsed": false
   },
   "outputs": [
    {
     "name": "stdout",
     "output_type": "stream",
     "text": [
      "INFO (meta): Coerced guessed type for 'Cat_t' into <e,t>, to match argument 'x_e'\n"
     ]
    },
    {
     "data": {
      "text/html": [
       "${f1}_{\\left\\langle{}e,t\\right\\rangle{}}\\:=\\:\\lambda{} x_{e} \\: . \\: {Cat}({x})$<br />\n",
       "${f2}_{\\left\\langle{}e,e\\right\\rangle{}}\\:=\\:\\lambda{} x_{e} \\: . \\: {x}$"
      ],
      "text/latex": [
       "${f1}_{\\left\\langle{}e,t\\right\\rangle{}}\\:=\\:\\lambda{} x_{e} \\: . \\: {Cat}({x})$<br />\n",
       "${f2}_{\\left\\langle{}e,e\\right\\rangle{}}\\:=\\:\\lambda{} x_{e} \\: . \\: {x}$"
      ],
      "text/plain": [
       "${f1}_{\\left\\langle{}e,t\\right\\rangle{}}\\:=\\:\\lambda{} x_{e} \\: . \\: {Cat}({x})$<br />\n",
       "${f2}_{\\left\\langle{}e,e\\right\\rangle{}}\\:=\\:\\lambda{} x_{e} \\: . \\: {x}$"
      ]
     },
     "execution_count": 4,
     "metadata": {},
     "output_type": "execute_result"
    }
   ],
   "source": [
    "%%lamb \n",
    "f1 = L x_e : Cat(x)\n",
    "f2 = L x_e : x_e"
   ]
  },
  {
   "cell_type": "code",
   "execution_count": 5,
   "metadata": {
    "collapsed": false
   },
   "outputs": [
    {
     "data": {
      "text/latex": [
       "$\\lambda{} f_{\\left\\langle{}X,e\\right\\rangle{}} \\: . \\: \\lambda{} x_{X} \\: . \\: {Cat}({f}({x}))$"
      ],
      "text/plain": [
       "(λ f_<X,e>: (λ x_X: Cat_<e,t>(f_<X,e>(x_X))))"
      ]
     },
     "execution_count": 5,
     "metadata": {},
     "output_type": "execute_result"
    }
   ],
   "source": [
    "geach(f1).reduce_all()"
   ]
  },
  {
   "cell_type": "code",
   "execution_count": 6,
   "metadata": {
    "collapsed": false
   },
   "outputs": [
    {
     "data": {
      "text/html": [
       "<div align=\"left\" style=\"display:table;\"><div style=\"display:table-cell;vertical-align:bottom;padding-left:5px;padding-right:5px;padding-top:0.5em\"><div style=\"display:table;\"><div style=\"display:table-row;vertical-align:bottom;\"><div align=\"center\" style=\"display:table;border-collapse:collapse;\"><div style=\"display:table-row;border-bottom:1px solid #848482;\"><div style=\"display:table-cell;padding-right:5px;vertical-align:bottom;\"> 1. </div><div style=\"display:table-cell;vertical-align:bottom;border-right:1px solid #848482;padding-right:5px;\"><span>${[\\lambda{} g_{\\left\\langle{}e,t\\right\\rangle{}} \\: . \\: \\lambda{} f_{\\left\\langle{}e,e\\right\\rangle{}} \\: . \\: \\lambda{} x_{e} \\: . \\: {g}({f}({x}))]}(\\lambda{} x_{e} \\: . \\: {Cat}({x}))(\\lambda{} x_{e} \\: . \\: {x})$</span></div></div><div style=\"display:table-row;border-bottom:1px solid #848482;\"><div style=\"display:table-cell;padding-right:5px;vertical-align:bottom;\"> 2. </div><div style=\"display:table-cell;vertical-align:bottom;border-right:1px solid #848482;padding-right:5px;\"><span>${[\\lambda{} f_{\\left\\langle{}e,e\\right\\rangle{}} \\: . \\: \\lambda{} x_{e} \\: . \\: {Cat}({f}({x}))]}(\\lambda{} x_{e} \\: . \\: {x})$</span></div><div style=\"display:table-cell;vertical-align:bottom;padding-left:5px;padding-right:5px;padding-top:0.5em\"><div style=\"display:table;\"><div style=\"display:table-row;\"><div style=\"color:blue;\"><span>Recursive reduction of operand 0</span></div></div></div></div></div><div style=\"display:table-row;border-bottom:1px solid #848482;\"><div style=\"display:table-cell;padding-right:5px;vertical-align:bottom;\"> 3. </div><div style=\"display:table-cell;vertical-align:bottom;border-right:1px solid #848482;padding-right:5px;\"><span>$\\lambda{} x_{e} \\: . \\: {Cat}({[\\lambda{} x_{e} \\: . \\: {x}]}({x}))$</span></div><div style=\"display:table-cell;vertical-align:bottom;padding-left:5px;padding-right:5px;padding-top:0.5em\"><div style=\"display:table;\"><div style=\"display:table-row;\"><div style=\"color:blue;\"><span>Reduction</span></div></div></div></div></div><div style=\"display:table-row;\"><div style=\"display:table-cell;padding-right:5px;vertical-align:bottom;\"> 4. </div><div style=\"display:table-cell;vertical-align:bottom;border-right:1px solid #848482;padding-right:5px;\"><span>$\\lambda{} x_{e} \\: . \\: {Cat}({x})$</span></div><div style=\"display:table-cell;vertical-align:bottom;padding-left:5px;padding-right:5px;padding-top:0.5em\"><div style=\"display:table;\"><div style=\"display:table-row;\"><div style=\"color:blue;\"><span>Recursive reduction of body</span></div></div></div></div></div></div></div></div></div></div>"
      ],
      "text/plain": [
       " 1. ((λ g_<e,t>: (λ f_<e,e>: (λ x_e: g_<e,t>(f_<e,e>(x_e))))))((λ x_e: Cat_<e,t>(x_e)))((λ x_e: x_e))\n",
       " 2. ((λ f_<e,e>: (λ x_e: Cat_<e,t>(f_<e,e>(x_e)))))((λ x_e: x_e))    (Recursive reduction of operand 0)\n",
       " 3. (λ x_e: Cat_<e,t>(((λ x_e: x_e))(x_e)))    (Reduction)\n",
       " 4. (λ x_e: Cat_<e,t>(x_e))    (Recursive reduction of body)"
      ]
     },
     "execution_count": 6,
     "metadata": {},
     "output_type": "execute_result"
    }
   ],
   "source": [
    "fc_meta(f1,f2).derivation"
   ]
  },
  {
   "cell_type": "code",
   "execution_count": 7,
   "metadata": {
    "collapsed": false
   },
   "outputs": [],
   "source": [
    "# this trick is called \"monkey patching\".  It lets us use * for function composition in the metalanguage.\n",
    "# note that it isn't really necessary here as function composition is now implemented as a part of the built in LFun class\n",
    "\n",
    "# meta.LFun.__mul__ = fc_meta"
   ]
  },
  {
   "cell_type": "code",
   "execution_count": 8,
   "metadata": {
    "collapsed": false
   },
   "outputs": [
    {
     "data": {
      "text/latex": [
       "$\\lambda{} x_{e} \\: . \\: {Cat}({x})$"
      ],
      "text/plain": [
       "(λ x_e: Cat_<e,t>(x_e))"
      ]
     },
     "execution_count": 8,
     "metadata": {},
     "output_type": "execute_result"
    }
   ],
   "source": [
    "f1 * f2"
   ]
  },
  {
   "cell_type": "code",
   "execution_count": 9,
   "metadata": {
    "collapsed": false
   },
   "outputs": [
    {
     "data": {
      "text/html": [
       "<span style=\"color:red\">Type mismatch</span>: '$\\lambda{} x_{e} \\: . \\: {x}$'/$\\left\\langle{}e,e\\right\\rangle{}$ and '$\\lambda{} x_{e} \\: . \\: {Cat}({x})$'/$\\left\\langle{}e,t\\right\\rangle{}$ conflict (mode: Function composition)"
      ],
      "text/plain": [
       "Type mismatch: '(λ x_e: x_e)'/<e,e> and '(λ x_e: Cat_<e,t>(x_e))'/<e,t> conflict (mode: Function composition)"
      ]
     },
     "execution_count": 9,
     "metadata": {},
     "output_type": "execute_result"
    }
   ],
   "source": [
    "result = None\n",
    "try:\n",
    "    result = f2 * f1 # should generate a type mismatch\n",
    "except types.TypeMismatch as e:\n",
    "    result = e\n",
    "result"
   ]
  },
  {
   "cell_type": "markdown",
   "metadata": {},
   "source": [
    "Next, we can use the Geach combinator to add a function composition operation to the composition system.  Internally, this does something like the above `fc_meta` function, but it is more straightforward to let the wrapper function `add_binary_rule` construct a composition rule from the combinator."
   ]
  },
  {
   "cell_type": "code",
   "execution_count": 10,
   "metadata": {
    "collapsed": false
   },
   "outputs": [
    {
     "data": {
      "text/html": [
       "Composition system 'H&K simple (copy)'<br />Operations: {<br />&nbsp;&nbsp;&nbsp;&nbsp;Binary composition rule <i>FA</i>, built on python function 'lamb.lang.fa_fun'<br />&nbsp;&nbsp;&nbsp;&nbsp;Binary composition rule <i>PM</i>, built on python function 'lamb.lang.pm_fun'<br />&nbsp;&nbsp;&nbsp;&nbsp;Binary composition rule <i>PA</i>, built on python function 'lamb.lang.pa_fun'<br />&nbsp;&nbsp;&nbsp;&nbsp;Binary composition rule <i>FC</i>, built on combinator '$\\lambda{} g_{\\left\\langle{}Y,Z\\right\\rangle{}} \\: . \\: \\lambda{} f_{\\left\\langle{}X,Y\\right\\rangle{}} \\: . \\: \\lambda{} x_{X} \\: . \\: {g}({f}({x}))$'<br />}"
      ],
      "text/plain": [
       "Composition system: H&K simple (copy)"
      ]
     },
     "execution_count": 10,
     "metadata": {},
     "output_type": "execute_result"
    }
   ],
   "source": [
    "# add the FC rule to the composition system.  Note that we don't even need to use `fc_meta` here; can just pass the geach combinator in\n",
    "system = lang.td_system.copy()\n",
    "system.add_binary_rule(geach, \"FC\")\n",
    "lang.set_system(system)\n",
    "system"
   ]
  },
  {
   "cell_type": "markdown",
   "metadata": {},
   "source": [
    "**Step 2**: treat pronouns as identity functions, and allow type lifting for names.\n",
    "\n",
    "(I have simply given the regular and type-lifted version of `Mary` under different names below.)"
   ]
  },
  {
   "cell_type": "code",
   "execution_count": 11,
   "metadata": {
    "collapsed": false
   },
   "outputs": [
    {
     "name": "stdout",
     "output_type": "stream",
     "text": [
      "INFO (meta): Coerced guessed type for 'Saw_t' into <(e,e),t>, to match argument '(y_e, x_e)'\n"
     ]
    },
    {
     "data": {
      "text/html": [
       "$[\\![\\mathbf{\\text{him}}]\\!]^{}_{\\left\\langle{}e,e\\right\\rangle{}} \\:=\\: $$\\lambda{} x_{e} \\: . \\: {x}$<br />\n",
       "$[\\![\\mathbf{\\text{mary1}}]\\!]^{}_{e} \\:=\\: $${Mary}_{e}$<br />\n",
       "$[\\![\\mathbf{\\text{mary2}}]\\!]^{}_{\\left\\langle{}\\left\\langle{}e,t\\right\\rangle{},t\\right\\rangle{}} \\:=\\: $$\\lambda{} f_{\\left\\langle{}e,t\\right\\rangle{}} \\: . \\: {f}({Mary}_{e})$<br />\n",
       "$[\\![\\mathbf{\\text{saw}}]\\!]^{}_{\\left\\langle{}e,\\left\\langle{}e,t\\right\\rangle{}\\right\\rangle{}} \\:=\\: $$\\lambda{} x_{e} \\: . \\: \\lambda{} y_{e} \\: . \\: {Saw}({y}, {x})$"
      ],
      "text/latex": [
       "$[\\![\\mathbf{\\text{him}}]\\!]^{}_{\\left\\langle{}e,e\\right\\rangle{}} \\:=\\: $$\\lambda{} x_{e} \\: . \\: {x}$<br />\n",
       "$[\\![\\mathbf{\\text{mary1}}]\\!]^{}_{e} \\:=\\: $${Mary}_{e}$<br />\n",
       "$[\\![\\mathbf{\\text{mary2}}]\\!]^{}_{\\left\\langle{}\\left\\langle{}e,t\\right\\rangle{},t\\right\\rangle{}} \\:=\\: $$\\lambda{} f_{\\left\\langle{}e,t\\right\\rangle{}} \\: . \\: {f}({Mary}_{e})$<br />\n",
       "$[\\![\\mathbf{\\text{saw}}]\\!]^{}_{\\left\\langle{}e,\\left\\langle{}e,t\\right\\rangle{}\\right\\rangle{}} \\:=\\: $$\\lambda{} x_{e} \\: . \\: \\lambda{} y_{e} \\: . \\: {Saw}({y}, {x})$"
      ],
      "text/plain": [
       "$[\\![\\mathbf{\\text{him}}]\\!]^{}_{\\left\\langle{}e,e\\right\\rangle{}} \\:=\\: $$\\lambda{} x_{e} \\: . \\: {x}$<br />\n",
       "$[\\![\\mathbf{\\text{mary1}}]\\!]^{}_{e} \\:=\\: $${Mary}_{e}$<br />\n",
       "$[\\![\\mathbf{\\text{mary2}}]\\!]^{}_{\\left\\langle{}\\left\\langle{}e,t\\right\\rangle{},t\\right\\rangle{}} \\:=\\: $$\\lambda{} f_{\\left\\langle{}e,t\\right\\rangle{}} \\: . \\: {f}({Mary}_{e})$<br />\n",
       "$[\\![\\mathbf{\\text{saw}}]\\!]^{}_{\\left\\langle{}e,\\left\\langle{}e,t\\right\\rangle{}\\right\\rangle{}} \\:=\\: $$\\lambda{} x_{e} \\: . \\: \\lambda{} y_{e} \\: . \\: {Saw}({y}, {x})$"
      ]
     },
     "execution_count": 11,
     "metadata": {},
     "output_type": "execute_result"
    }
   ],
   "source": [
    "%%lamb\n",
    "||him|| = L x_e  : x\n",
    "||mary1|| = Mary_e\n",
    "||mary2|| = L f_<e,t>: f(Mary_e)\n",
    "||saw|| = L x_e : L y_e : Saw(y,x)"
   ]
  },
  {
   "cell_type": "code",
   "execution_count": 12,
   "metadata": {
    "collapsed": false
   },
   "outputs": [
    {
     "data": {
      "text/html": [
       "1 composition path.  Result:\n",
       "<br />&nbsp;&nbsp;&nbsp;&nbsp;[0]: $[\\![\\mathbf{\\text{[saw him]}}]\\!]^{}_{\\left\\langle{}e,\\left\\langle{}e,t\\right\\rangle{}\\right\\rangle{}} \\:=\\: $$\\lambda{} x_{e} \\: . \\: \\lambda{} y_{e} \\: . \\: {Saw}({y}, {x})$"
      ],
      "text/plain": [
       "CompositionResult(results=[⟦[saw him]⟧ = (λ x_e: (λ y_e: Saw_<(e,e),t>(y_e, x_e)))], failures=[⟦[saw him]⟧ = Type mismatch: '⟦saw⟧ = (λ x_e: (λ y_e: Saw_<(e,e),t>(y_e, x_e)))'/<e,<e,t>> and '⟦him⟧ = (λ x_e: x_e)'/<e,e> conflict (mode: Function Application), ⟦[him saw]⟧ = Type mismatch: '⟦him⟧ = (λ x_e: x_e)'/<e,e> and '⟦saw⟧ = (λ x_e: (λ y_e: Saw_<(e,e),t>(y_e, x_e)))'/<e,<e,t>> conflict (mode: Function Application), ⟦[saw him]⟧ = Type mismatch: '⟦saw⟧ = (λ x_e: (λ y_e: Saw_<(e,e),t>(y_e, x_e)))'/<e,<e,t>> and '⟦him⟧ = (λ x_e: x_e)'/<e,e> conflict (mode: Predicate Modification), ⟦[saw him]⟧ = Type mismatch: '⟦saw⟧ = (λ x_e: (λ y_e: Saw_<(e,e),t>(y_e, x_e)))'/<e,<e,t>> and '⟦him⟧ = (λ x_e: x_e)'/<e,e> conflict (mode: Predicate Abstraction), ⟦[him saw]⟧ = Type mismatch: '⟦him⟧ = (λ x_e: x_e)'/<e,e> and '⟦saw⟧ = (λ x_e: (λ y_e: Saw_<(e,e),t>(y_e, x_e)))'/<e,<e,t>> conflict (mode: Predicate Abstraction), ⟦[him saw]⟧ = Type mismatch: '((λ g_<e,e>: (λ f_<X,e>: (λ x_X: g_<e,e>(f_<X,e>(x_X))))))((λ x_e: x_e))'/<<X,e>,<X,e>> and '(λ x_e: (λ y_e: Saw_<(e,e),t>(y_e, x_e)))'/<e,<e,t>> conflict (mode: Function argument combination (unification failed))])"
      ]
     },
     "execution_count": 12,
     "metadata": {},
     "output_type": "execute_result"
    }
   ],
   "source": [
    "saw * him"
   ]
  },
  {
   "cell_type": "code",
   "execution_count": 13,
   "metadata": {
    "collapsed": false
   },
   "outputs": [
    {
     "data": {
      "text/html": [
       "1 composition path.  Result:\n",
       "<br />&nbsp;&nbsp;&nbsp;&nbsp;[0]: $[\\![\\mathbf{\\text{[mary2 [saw him]]}}]\\!]^{}_{\\left\\langle{}e,t\\right\\rangle{}} \\:=\\: $$\\lambda{} x_{e} \\: . \\: {Saw}({Mary}_{e}, {x})$"
      ],
      "text/plain": [
       "CompositionResult(results=[⟦[mary2 [saw him]]⟧ = (λ x_e: Saw_<(e,e),t>(Mary_e, x_e))], failures=[⟦[mary2 [saw him]]⟧ = Type mismatch: '⟦mary2⟧ = (λ f_<e,t>: f_<e,t>(Mary_e))'/<<e,t>,t> and '⟦[saw him]⟧ = (λ x_e: (λ y_e: Saw_<(e,e),t>(y_e, x_e)))'/<e,<e,t>> conflict (mode: Function Application), ⟦[[saw him] mary2]⟧ = Type mismatch: '⟦[saw him]⟧ = (λ x_e: (λ y_e: Saw_<(e,e),t>(y_e, x_e)))'/<e,<e,t>> and '⟦mary2⟧ = (λ f_<e,t>: f_<e,t>(Mary_e))'/<<e,t>,t> conflict (mode: Function Application), ⟦[mary2 [saw him]]⟧ = Type mismatch: '⟦mary2⟧ = (λ f_<e,t>: f_<e,t>(Mary_e))'/<<e,t>,t> and '⟦[saw him]⟧ = (λ x_e: (λ y_e: Saw_<(e,e),t>(y_e, x_e)))'/<e,<e,t>> conflict (mode: Predicate Modification), ⟦[mary2 [saw him]]⟧ = Type mismatch: '⟦mary2⟧ = (λ f_<e,t>: f_<e,t>(Mary_e))'/<<e,t>,t> and '⟦[saw him]⟧ = (λ x_e: (λ y_e: Saw_<(e,e),t>(y_e, x_e)))'/<e,<e,t>> conflict (mode: Predicate Abstraction), ⟦[[saw him] mary2]⟧ = Type mismatch: '⟦[saw him]⟧ = (λ x_e: (λ y_e: Saw_<(e,e),t>(y_e, x_e)))'/<e,<e,t>> and '⟦mary2⟧ = (λ f_<e,t>: f_<e,t>(Mary_e))'/<<e,t>,t> conflict (mode: Predicate Abstraction), ⟦[[saw him] mary2]⟧ = Type mismatch: '((λ g_<e,<e,t>>: (λ f_<I251,e>: (λ x_I251: g_<e,<e,t>>(f_<I251,e>(x_I251))))))((λ x_e: (λ y_e: Saw_<(e,e),t>(y_e, x_e))))'/<<I248,e>,<I248,<e,t>>> and '(λ f_<e,t>: f_<e,t>(Mary_e))'/<<e,t>,t> conflict (mode: Function argument combination (unification failed))])"
      ]
     },
     "execution_count": 13,
     "metadata": {},
     "output_type": "execute_result"
    }
   ],
   "source": [
    "mary2 * (saw * him)"
   ]
  },
  {
   "cell_type": "code",
   "execution_count": 14,
   "metadata": {
    "collapsed": false
   },
   "outputs": [
    {
     "data": {
      "text/html": [
       "1 composition path:<br /><div align=\"center\" style=\"display:table; margin:5px; border-collapse: collapse;border: 1px solid #848482;\"><div align=\"center\" style=\"display:table-row;\"><div style=\"display:table-cell;vertical-align:middle;\"><div style=\"display: table;\"><div style=\"display:table-cell;vertical-align:middle;padding: 5px;\"><div align=\"left\" style=\"padding: 5px;display: inline-block;\"><div align=\"left\" style=\"padding: 5px;display: inline-block;\"><div><div align=\"center\" style=\"display: block;\"><span>$[\\![\\mathbf{\\text{mary2}}]\\!]^{}_{\\left\\langle{}\\left\\langle{}e,t\\right\\rangle{},t\\right\\rangle{}}$</span></div><div align=\"center\" style=\"display: block;\"><span>$\\lambda{} f_{\\left\\langle{}e,t\\right\\rangle{}} \\: . \\: {f}({Mary}_{e})$</span></div></div></div></div></div><div style=\"align: center; vertical-align: middle; display: table-cell;\"><span style=\"padding:1em;\">$\\circ$</span></div><div style=\"display:table-cell;vertical-align:middle;padding: 5px;\"><div align=\"center\" style=\"display:table; margin:5px; border-collapse: collapse;border: 1px solid #848482;\"><div align=\"center\" style=\"display:table-row;\"><div style=\"display:table-cell;vertical-align:middle;\"><div style=\"display: table;\"><div style=\"display:table-cell;vertical-align:middle;padding: 5px;\"><div align=\"left\" style=\"padding: 5px;display: inline-block;\"><div align=\"left\" style=\"padding: 5px;display: inline-block;\"><div><div align=\"center\" style=\"display: block;\"><span>$[\\![\\mathbf{\\text{saw}}]\\!]^{}_{\\left\\langle{}e,\\left\\langle{}e,t\\right\\rangle{}\\right\\rangle{}}$</span></div><div align=\"center\" style=\"display: block;\"><span>$\\lambda{} x_{e} \\: . \\: \\lambda{} y_{e} \\: . \\: {Saw}({y}, {x})$</span></div></div></div></div></div><div style=\"align: center; vertical-align: middle; display: table-cell;\"><span style=\"padding:1em;\">$\\circ$</span></div><div style=\"display:table-cell;vertical-align:middle;padding: 5px;\"><div align=\"left\" style=\"padding: 5px;display: inline-block;\"><div align=\"left\" style=\"padding: 5px;display: inline-block;\"><div><div align=\"center\" style=\"display: block;\"><span>$[\\![\\mathbf{\\text{him}}]\\!]^{}_{\\left\\langle{}e,e\\right\\rangle{}}$</span></div><div align=\"center\" style=\"display: block;\"><span>$\\lambda{} x_{e} \\: . \\: {x}$</span></div></div></div></div></div></div></div><div style=\"display:table-cell;vertical-align:middle;border-left:1px solid #848482;padding:0.5em\"><div style=\"color:blue;\"><b>[<span>FC</span>]</b></div></div></div><div align=\"center\" style=\"display:table-row; border:1px solid #848482;padding: 5px;\"><div align=\"center\" style=\"padding: 5px;display: inline-block;\"><div><div align=\"center\" style=\"display: block;\"><span>$[\\![\\mathbf{\\text{[saw him]}}]\\!]^{}_{\\left\\langle{}e,\\left\\langle{}e,t\\right\\rangle{}\\right\\rangle{}}$</span></div><div align=\"center\" style=\"display: block;\"><span>$\\lambda{} x_{e} \\: . \\: \\lambda{} y_{e} \\: . \\: {Saw}({y}, {x})$</span></div></div></div></div></div></div></div></div><div style=\"display:table-cell;vertical-align:middle;border-left:1px solid #848482;padding:0.5em\"><div style=\"color:blue;\"><b>[<span>FC</span>]</b></div></div></div><div align=\"center\" style=\"display:table-row; border:1px solid #848482;padding: 5px;\"><div align=\"center\" style=\"padding: 5px;display: inline-block;\"><div><div align=\"center\" style=\"display: block;\"><span>$[\\![\\mathbf{\\text{[mary2 [saw him]]}}]\\!]^{}_{\\left\\langle{}e,t\\right\\rangle{}}$</span></div><div align=\"center\" style=\"display: block;\"><span>$\\lambda{} x_{e} \\: . \\: {Saw}({Mary}_{e}, {x})$</span></div></div></div></div></div><br /><br />"
      ],
      "text/latex": [
       "1 composition path:<br /><div align=\"center\" style=\"display:table; margin:5px; border-collapse: collapse;border: 1px solid #848482;\"><div align=\"center\" style=\"display:table-row;\"><div style=\"display:table-cell;vertical-align:middle;\"><div style=\"display: table;\"><div style=\"display:table-cell;vertical-align:middle;padding: 5px;\"><div align=\"left\" style=\"padding: 5px;display: inline-block;\"><div align=\"left\" style=\"padding: 5px;display: inline-block;\"><div><div align=\"center\" style=\"display: block;\"><span>$[\\![\\mathbf{\\text{mary2}}]\\!]^{}_{\\left\\langle{}\\left\\langle{}e,t\\right\\rangle{},t\\right\\rangle{}}$</span></div><div align=\"center\" style=\"display: block;\"><span>$\\lambda{} f_{\\left\\langle{}e,t\\right\\rangle{}} \\: . \\: {f}({Mary}_{e})$</span></div></div></div></div></div><div style=\"align: center; vertical-align: middle; display: table-cell;\"><span style=\"padding:1em;\">$\\circ$</span></div><div style=\"display:table-cell;vertical-align:middle;padding: 5px;\"><div align=\"center\" style=\"display:table; margin:5px; border-collapse: collapse;border: 1px solid #848482;\"><div align=\"center\" style=\"display:table-row;\"><div style=\"display:table-cell;vertical-align:middle;\"><div style=\"display: table;\"><div style=\"display:table-cell;vertical-align:middle;padding: 5px;\"><div align=\"left\" style=\"padding: 5px;display: inline-block;\"><div align=\"left\" style=\"padding: 5px;display: inline-block;\"><div><div align=\"center\" style=\"display: block;\"><span>$[\\![\\mathbf{\\text{saw}}]\\!]^{}_{\\left\\langle{}e,\\left\\langle{}e,t\\right\\rangle{}\\right\\rangle{}}$</span></div><div align=\"center\" style=\"display: block;\"><span>$\\lambda{} x_{e} \\: . \\: \\lambda{} y_{e} \\: . \\: {Saw}({y}, {x})$</span></div></div></div></div></div><div style=\"align: center; vertical-align: middle; display: table-cell;\"><span style=\"padding:1em;\">$\\circ$</span></div><div style=\"display:table-cell;vertical-align:middle;padding: 5px;\"><div align=\"left\" style=\"padding: 5px;display: inline-block;\"><div align=\"left\" style=\"padding: 5px;display: inline-block;\"><div><div align=\"center\" style=\"display: block;\"><span>$[\\![\\mathbf{\\text{him}}]\\!]^{}_{\\left\\langle{}e,e\\right\\rangle{}}$</span></div><div align=\"center\" style=\"display: block;\"><span>$\\lambda{} x_{e} \\: . \\: {x}$</span></div></div></div></div></div></div></div><div style=\"display:table-cell;vertical-align:middle;border-left:1px solid #848482;padding:0.5em\"><div style=\"color:blue;\"><b>[<span>FC</span>]</b></div></div></div><div align=\"center\" style=\"display:table-row; border:1px solid #848482;padding: 5px;\"><div align=\"center\" style=\"padding: 5px;display: inline-block;\"><div><div align=\"center\" style=\"display: block;\"><span>$[\\![\\mathbf{\\text{[saw him]}}]\\!]^{}_{\\left\\langle{}e,\\left\\langle{}e,t\\right\\rangle{}\\right\\rangle{}}$</span></div><div align=\"center\" style=\"display: block;\"><span>$\\lambda{} x_{e} \\: . \\: \\lambda{} y_{e} \\: . \\: {Saw}({y}, {x})$</span></div></div></div></div></div></div></div></div><div style=\"display:table-cell;vertical-align:middle;border-left:1px solid #848482;padding:0.5em\"><div style=\"color:blue;\"><b>[<span>FC</span>]</b></div></div></div><div align=\"center\" style=\"display:table-row; border:1px solid #848482;padding: 5px;\"><div align=\"center\" style=\"padding: 5px;display: inline-block;\"><div><div align=\"center\" style=\"display: block;\"><span>$[\\![\\mathbf{\\text{[mary2 [saw him]]}}]\\!]^{}_{\\left\\langle{}e,t\\right\\rangle{}}$</span></div><div align=\"center\" style=\"display: block;\"><span>$\\lambda{} x_{e} \\: . \\: {Saw}({Mary}_{e}, {x})$</span></div></div></div></div></div><br /><br />"
      ],
      "text/plain": [
       "1 composition path:<br /><div align=\"center\" style=\"display:table; margin:5px; border-collapse: collapse;border: 1px solid #848482;\"><div align=\"center\" style=\"display:table-row;\"><div style=\"display:table-cell;vertical-align:middle;\"><div style=\"display: table;\"><div style=\"display:table-cell;vertical-align:middle;padding: 5px;\"><div align=\"left\" style=\"padding: 5px;display: inline-block;\"><div align=\"left\" style=\"padding: 5px;display: inline-block;\"><div><div align=\"center\" style=\"display: block;\"><span>$[\\![\\mathbf{\\text{mary2}}]\\!]^{}_{\\left\\langle{}\\left\\langle{}e,t\\right\\rangle{},t\\right\\rangle{}}$</span></div><div align=\"center\" style=\"display: block;\"><span>$\\lambda{} f_{\\left\\langle{}e,t\\right\\rangle{}} \\: . \\: {f}({Mary}_{e})$</span></div></div></div></div></div><div style=\"align: center; vertical-align: middle; display: table-cell;\"><span style=\"padding:1em;\">$\\circ$</span></div><div style=\"display:table-cell;vertical-align:middle;padding: 5px;\"><div align=\"center\" style=\"display:table; margin:5px; border-collapse: collapse;border: 1px solid #848482;\"><div align=\"center\" style=\"display:table-row;\"><div style=\"display:table-cell;vertical-align:middle;\"><div style=\"display: table;\"><div style=\"display:table-cell;vertical-align:middle;padding: 5px;\"><div align=\"left\" style=\"padding: 5px;display: inline-block;\"><div align=\"left\" style=\"padding: 5px;display: inline-block;\"><div><div align=\"center\" style=\"display: block;\"><span>$[\\![\\mathbf{\\text{saw}}]\\!]^{}_{\\left\\langle{}e,\\left\\langle{}e,t\\right\\rangle{}\\right\\rangle{}}$</span></div><div align=\"center\" style=\"display: block;\"><span>$\\lambda{} x_{e} \\: . \\: \\lambda{} y_{e} \\: . \\: {Saw}({y}, {x})$</span></div></div></div></div></div><div style=\"align: center; vertical-align: middle; display: table-cell;\"><span style=\"padding:1em;\">$\\circ$</span></div><div style=\"display:table-cell;vertical-align:middle;padding: 5px;\"><div align=\"left\" style=\"padding: 5px;display: inline-block;\"><div align=\"left\" style=\"padding: 5px;display: inline-block;\"><div><div align=\"center\" style=\"display: block;\"><span>$[\\![\\mathbf{\\text{him}}]\\!]^{}_{\\left\\langle{}e,e\\right\\rangle{}}$</span></div><div align=\"center\" style=\"display: block;\"><span>$\\lambda{} x_{e} \\: . \\: {x}$</span></div></div></div></div></div></div></div><div style=\"display:table-cell;vertical-align:middle;border-left:1px solid #848482;padding:0.5em\"><div style=\"color:blue;\"><b>[<span>FC</span>]</b></div></div></div><div align=\"center\" style=\"display:table-row; border:1px solid #848482;padding: 5px;\"><div align=\"center\" style=\"padding: 5px;display: inline-block;\"><div><div align=\"center\" style=\"display: block;\"><span>$[\\![\\mathbf{\\text{[saw him]}}]\\!]^{}_{\\left\\langle{}e,\\left\\langle{}e,t\\right\\rangle{}\\right\\rangle{}}$</span></div><div align=\"center\" style=\"display: block;\"><span>$\\lambda{} x_{e} \\: . \\: \\lambda{} y_{e} \\: . \\: {Saw}({y}, {x})$</span></div></div></div></div></div></div></div></div><div style=\"display:table-cell;vertical-align:middle;border-left:1px solid #848482;padding:0.5em\"><div style=\"color:blue;\"><b>[<span>FC</span>]</b></div></div></div><div align=\"center\" style=\"display:table-row; border:1px solid #848482;padding: 5px;\"><div align=\"center\" style=\"padding: 5px;display: inline-block;\"><div><div align=\"center\" style=\"display: block;\"><span>$[\\![\\mathbf{\\text{[mary2 [saw him]]}}]\\!]^{}_{\\left\\langle{}e,t\\right\\rangle{}}$</span></div><div align=\"center\" style=\"display: block;\"><span>$\\lambda{} x_{e} \\: . \\: {Saw}({Mary}_{e}, {x})$</span></div></div></div></div></div><br /><br />"
      ]
     },
     "execution_count": 14,
     "metadata": {},
     "output_type": "execute_result"
    }
   ],
   "source": [
    "(mary2 * (saw * him)).tree()"
   ]
  },
  {
   "cell_type": "markdown",
   "metadata": {},
   "source": [
    "This seems exactly right, with the abstraction over `x` corresponding to the intuition that `him` is free in this clause.\n",
    "\n",
    "However, Jacobson points out the following problem with this account: what if the type of the name is not lifted?"
   ]
  },
  {
   "cell_type": "code",
   "execution_count": 15,
   "metadata": {
    "collapsed": false
   },
   "outputs": [
    {
     "data": {
      "text/html": [
       "1 composition path.  Result:\n",
       "<br />&nbsp;&nbsp;&nbsp;&nbsp;[0]: $[\\![\\mathbf{\\text{[[saw him] mary1]}}]\\!]^{}_{\\left\\langle{}e,t\\right\\rangle{}} \\:=\\: $$\\lambda{} y_{e} \\: . \\: {Saw}({y}, {Mary}_{e})$"
      ],
      "text/plain": [
       "CompositionResult(results=[⟦[[saw him] mary1]⟧ = (λ y_e: Saw_<(e,e),t>(y_e, Mary_e))], failures=[⟦[mary1 [saw him]]⟧ = Type mismatch: '⟦mary1⟧ = Mary_e'/e and '⟦[saw him]⟧ = (λ x_e: (λ y_e: Saw_<(e,e),t>(y_e, x_e)))'/<e,<e,t>> conflict (mode: Function Application), ⟦[mary1 [saw him]]⟧ = Type mismatch: '⟦mary1⟧ = Mary_e'/e and '⟦[saw him]⟧ = (λ x_e: (λ y_e: Saw_<(e,e),t>(y_e, x_e)))'/<e,<e,t>> conflict (mode: Predicate Modification), ⟦[mary1 [saw him]]⟧ = Type mismatch: '⟦mary1⟧ = Mary_e'/e and '⟦[saw him]⟧ = (λ x_e: (λ y_e: Saw_<(e,e),t>(y_e, x_e)))'/<e,<e,t>> conflict (mode: Predicate Abstraction), ⟦[[saw him] mary1]⟧ = Type mismatch: '⟦[saw him]⟧ = (λ x_e: (λ y_e: Saw_<(e,e),t>(y_e, x_e)))'/<e,<e,t>> and '⟦mary1⟧ = Mary_e'/e conflict (mode: Predicate Abstraction), ⟦[mary1 [saw him]]⟧ = Type mismatch: '(λ g_<Y,Z>: (λ f_<X,Y>: (λ x_X: g_<Y,Z>(f_<X,Y>(x_X)))))'/<<Y,Z>,<<X,Y>,<X,Z>>> and 'Mary_e'/e conflict (mode: Function argument combination (unification failed)), ⟦[[saw him] mary1]⟧ = Type mismatch: '((λ g_<e,<e,t>>: (λ f_<I425,e>: (λ x_I425: g_<e,<e,t>>(f_<I425,e>(x_I425))))))((λ x_e: (λ y_e: Saw_<(e,e),t>(y_e, x_e))))'/<<I422,e>,<I422,<e,t>>> and 'Mary_e'/e conflict (mode: Function argument combination (unification failed))])"
      ]
     },
     "execution_count": 15,
     "metadata": {},
     "output_type": "execute_result"
    }
   ],
   "source": [
    "mary1 * (saw * him)"
   ]
  },
  {
   "cell_type": "markdown",
   "metadata": {},
   "source": [
    "**Step 3**: rather than using a binary operation of function composition, use a unary type-shift that directly involves the geach combinator.\n",
    "\n",
    "For a really general treatment of this we'd need a bunch more syntactic work (that Jacobson does), and a family of geach combinators.  I will just assume two geach combinators, and one lifting operation."
   ]
  },
  {
   "cell_type": "code",
   "execution_count": 16,
   "metadata": {
    "collapsed": false
   },
   "outputs": [
    {
     "data": {
      "text/latex": [
       "$\\lambda{} f_{X} \\: . \\: \\lambda{} g_{\\left\\langle{}X,t\\right\\rangle{}} \\: . \\: {g}({f})$"
      ],
      "text/plain": [
       "(λ f_X: (λ g_<X,t>: g_<X,t>(f_X)))"
      ]
     },
     "execution_count": 16,
     "metadata": {},
     "output_type": "execute_result"
    }
   ],
   "source": [
    "lift_combinator_t = %te L f_X : L g_<X,t> : g(f)\n",
    "lift_combinator_t"
   ]
  },
  {
   "cell_type": "code",
   "execution_count": 17,
   "metadata": {
    "collapsed": false
   },
   "outputs": [
    {
     "data": {
      "text/latex": [
       "$\\lambda{} g_{\\left\\langle{}e,t\\right\\rangle{}} \\: . \\: {g}({Mary}_{e})$"
      ],
      "text/plain": [
       "(λ g_<e,t>: g_<e,t>(Mary_e))"
      ]
     },
     "execution_count": 17,
     "metadata": {},
     "output_type": "execute_result"
    }
   ],
   "source": [
    "lift_combinator_t(mary1.content).reduce()"
   ]
  },
  {
   "cell_type": "code",
   "execution_count": 18,
   "metadata": {
    "collapsed": false
   },
   "outputs": [
    {
     "data": {
      "text/latex": [
       "$\\left\\langle{}\\left\\langle{}Y,Z\\right\\rangle{},\\left\\langle{}\\left\\langle{}e,Y\\right\\rangle{},\\left\\langle{}e,Z\\right\\rangle{}\\right\\rangle{}\\right\\rangle{}$"
      ],
      "text/plain": [
       "<<Y,Z>,<<e,Y>,<e,Z>>>"
      ]
     },
     "execution_count": 18,
     "metadata": {},
     "output_type": "execute_result"
    }
   ],
   "source": [
    "g_e_combinator = geach.let_type(tp(\"<?,<<e,?>,?>>\"))\n",
    "g_e_combinator.type"
   ]
  },
  {
   "cell_type": "code",
   "execution_count": 19,
   "metadata": {
    "collapsed": false
   },
   "outputs": [
    {
     "data": {
      "text/latex": [
       "$\\lambda{} g_{\\left\\langle{}Y,Z\\right\\rangle{}} \\: . \\: \\lambda{} f_{\\left\\langle{}\\left\\langle{}e,t\\right\\rangle{},Y\\right\\rangle{}} \\: . \\: \\lambda{} x_{\\left\\langle{}e,t\\right\\rangle{}} \\: . \\: {g}({f}({x}))$"
      ],
      "text/plain": [
       "(λ g_<Y,Z>: (λ f_<<e,t>,Y>: (λ x_<e,t>: g_<Y,Z>(f_<<e,t>,Y>(x_<e,t>)))))"
      ]
     },
     "execution_count": 19,
     "metadata": {},
     "output_type": "execute_result"
    }
   ],
   "source": [
    "g_et_combinator = geach.let_type(tp(\"<?,<<<e,t>,?>,?>>\"))\n",
    "g_et_combinator #.get_type_env() #.type_var_set"
   ]
  },
  {
   "cell_type": "code",
   "execution_count": 20,
   "metadata": {
    "collapsed": false
   },
   "outputs": [
    {
     "data": {
      "text/html": [
       "Composition system 'H&K simple (copy)'<br />Operations: {<br />&nbsp;&nbsp;&nbsp;&nbsp;Binary composition rule <i>FA</i>, built on python function 'lamb.lang.fa_fun'<br />&nbsp;&nbsp;&nbsp;&nbsp;Binary composition rule <i>PM</i>, built on python function 'lamb.lang.pm_fun'<br />&nbsp;&nbsp;&nbsp;&nbsp;Binary composition rule <i>PA</i>, built on python function 'lamb.lang.pa_fun'<br />&nbsp;&nbsp;&nbsp;&nbsp;Unary composition rule <i>lift_t-shift</i>, built on combinator '$\\lambda{} f_{X} \\: . \\: \\lambda{} g_{\\left\\langle{}X,t\\right\\rangle{}} \\: . \\: {g}({f})$'<br />&nbsp;&nbsp;&nbsp;&nbsp;Unary composition rule <i>g_e-shift</i>, built on combinator '$\\lambda{} g_{\\left\\langle{}Y,Z\\right\\rangle{}} \\: . \\: \\lambda{} f_{\\left\\langle{}e,Y\\right\\rangle{}} \\: . \\: \\lambda{} x_{e} \\: . \\: {g}({f}({x}))$'<br />&nbsp;&nbsp;&nbsp;&nbsp;Unary composition rule <i>g_et-shift</i>, built on combinator '$\\lambda{} g_{\\left\\langle{}Y,Z\\right\\rangle{}} \\: . \\: \\lambda{} f_{\\left\\langle{}\\left\\langle{}e,t\\right\\rangle{},Y\\right\\rangle{}} \\: . \\: \\lambda{} x_{\\left\\langle{}e,t\\right\\rangle{}} \\: . \\: {g}({f}({x}))$'<br />}"
      ],
      "text/plain": [
       "Composition system: H&K simple (copy)"
      ]
     },
     "execution_count": 20,
     "metadata": {},
     "output_type": "execute_result"
    }
   ],
   "source": [
    "system = lang.td_system.copy()\n",
    "system.add_unary_rule(lift_combinator_t, \"lift_t-shift\")\n",
    "system.add_unary_rule(g_e_combinator, \"g_e-shift\")\n",
    "system.add_unary_rule(g_et_combinator, \"g_et-shift\")\n",
    "lang.set_system(system)\n",
    "system"
   ]
  },
  {
   "cell_type": "markdown",
   "metadata": {},
   "source": [
    "The brute-force way to trigger a unary type-shift is to multiply it by None (`x * None`).  The following examples use that idiom to show that, with the g-shift and type-lifted DP, there is no way to get the wrong result.\n",
    "\n",
    "Though in principle the non-lifted subject can compose with the g-shifted verb, this is ruled out syntactically (not implemented here); abstracting function composition to the g-rule enables this."
   ]
  },
  {
   "cell_type": "code",
   "execution_count": 21,
   "metadata": {
    "collapsed": false
   },
   "outputs": [
    {
     "data": {
      "text/html": [
       "1 composition path:<br /><div align=\"center\" style=\"display:table; margin:5px; border-collapse: collapse;border: 1px solid #848482;\"><div align=\"center\" style=\"display:table-row;\"><div style=\"display:table-cell;vertical-align:middle;\"><div style=\"display: table;\"><div style=\"display:table-cell;vertical-align:middle;padding: 5px;\"><div align=\"center\" style=\"display:table; margin:5px; border-collapse: collapse;border: 1px solid #848482;\"><div align=\"center\" style=\"display:table-row;\"><div style=\"display:table-cell;vertical-align:middle;\"><div style=\"display: table;\"><div style=\"display:table-cell;vertical-align:middle;padding: 5px;\"><div align=\"left\" style=\"padding: 5px;display: inline-block;\"><div align=\"left\" style=\"padding: 5px;display: inline-block;\"><div><div align=\"center\" style=\"display: block;\"><span>$[\\![\\mathbf{\\text{mary2}}]\\!]^{}_{\\left\\langle{}\\left\\langle{}e,t\\right\\rangle{},t\\right\\rangle{}}$</span></div><div align=\"center\" style=\"display: block;\"><span>$\\lambda{} f_{\\left\\langle{}e,t\\right\\rangle{}} \\: . \\: {f}({Mary}_{e})$</span></div></div></div></div></div></div></div><div style=\"display:table-cell;vertical-align:middle;border-left:1px solid #848482;padding:0.5em\"><div style=\"color:blue;\"><b>[<span>g_e-shift</span>]</b></div></div></div><div align=\"center\" style=\"display:table-row; border:1px solid #848482;padding: 5px;\"><div align=\"center\" style=\"padding: 5px;display: inline-block;\"><div><div align=\"center\" style=\"display: block;\"><span>$[\\![\\mathbf{\\text{[mary2]}}]\\!]^{}_{\\left\\langle{}\\left\\langle{}e,\\left\\langle{}e,t\\right\\rangle{}\\right\\rangle{},\\left\\langle{}e,t\\right\\rangle{}\\right\\rangle{}}$</span></div><div align=\"center\" style=\"display: block;\"><span>$\\lambda{} f_{\\left\\langle{}e,\\left\\langle{}e,t\\right\\rangle{}\\right\\rangle{}} \\: . \\: \\lambda{} x_{e} \\: . \\: {f}({x})({Mary}_{e})$</span></div></div></div></div></div></div><div style=\"align: center; vertical-align: middle; display: table-cell;\"><span style=\"padding:1em;\">$\\circ$</span></div><div style=\"display:table-cell;vertical-align:middle;padding: 5px;\"><div align=\"center\" style=\"display:table; margin:5px; border-collapse: collapse;border: 1px solid #848482;\"><div align=\"center\" style=\"display:table-row;\"><div style=\"display:table-cell;vertical-align:middle;\"><div style=\"display: table;\"><div style=\"display:table-cell;vertical-align:middle;padding: 5px;\"><div align=\"center\" style=\"display:table; margin:5px; border-collapse: collapse;border: 1px solid #848482;\"><div align=\"center\" style=\"display:table-row;\"><div style=\"display:table-cell;vertical-align:middle;\"><div style=\"display: table;\"><div style=\"display:table-cell;vertical-align:middle;padding: 5px;\"><div align=\"left\" style=\"padding: 5px;display: inline-block;\"><div align=\"left\" style=\"padding: 5px;display: inline-block;\"><div><div align=\"center\" style=\"display: block;\"><span>$[\\![\\mathbf{\\text{saw}}]\\!]^{}_{\\left\\langle{}e,\\left\\langle{}e,t\\right\\rangle{}\\right\\rangle{}}$</span></div><div align=\"center\" style=\"display: block;\"><span>$\\lambda{} x_{e} \\: . \\: \\lambda{} y_{e} \\: . \\: {Saw}({y}, {x})$</span></div></div></div></div></div></div></div><div style=\"display:table-cell;vertical-align:middle;border-left:1px solid #848482;padding:0.5em\"><div style=\"color:blue;\"><b>[<span>g_e-shift</span>]</b></div></div></div><div align=\"center\" style=\"display:table-row; border:1px solid #848482;padding: 5px;\"><div align=\"center\" style=\"padding: 5px;display: inline-block;\"><div><div align=\"center\" style=\"display: block;\"><span>$[\\![\\mathbf{\\text{[saw]}}]\\!]^{}_{\\left\\langle{}\\left\\langle{}e,e\\right\\rangle{},\\left\\langle{}e,\\left\\langle{}e,t\\right\\rangle{}\\right\\rangle{}\\right\\rangle{}}$</span></div><div align=\"center\" style=\"display: block;\"><span>$\\lambda{} f_{\\left\\langle{}e,e\\right\\rangle{}} \\: . \\: \\lambda{} x_{e} \\: . \\: \\lambda{} y_{e} \\: . \\: {Saw}({y}, {f}({x}))$</span></div></div></div></div></div></div><div style=\"align: center; vertical-align: middle; display: table-cell;\"><span style=\"padding:1em;\">$\\circ$</span></div><div style=\"display:table-cell;vertical-align:middle;padding: 5px;\"><div align=\"left\" style=\"padding: 5px;display: inline-block;\"><div align=\"left\" style=\"padding: 5px;display: inline-block;\"><div><div align=\"center\" style=\"display: block;\"><span>$[\\![\\mathbf{\\text{him}}]\\!]^{}_{\\left\\langle{}e,e\\right\\rangle{}}$</span></div><div align=\"center\" style=\"display: block;\"><span>$\\lambda{} x_{e} \\: . \\: {x}$</span></div></div></div></div></div></div></div><div style=\"display:table-cell;vertical-align:middle;border-left:1px solid #848482;padding:0.5em\"><div style=\"color:blue;\"><b>[<span>FA</span>]</b></div></div></div><div align=\"center\" style=\"display:table-row; border:1px solid #848482;padding: 5px;\"><div align=\"center\" style=\"padding: 5px;display: inline-block;\"><div><div align=\"center\" style=\"display: block;\"><span>$[\\![\\mathbf{\\text{[[saw] him]}}]\\!]^{}_{\\left\\langle{}e,\\left\\langle{}e,t\\right\\rangle{}\\right\\rangle{}}$</span></div><div align=\"center\" style=\"display: block;\"><span>$\\lambda{} x_{e} \\: . \\: \\lambda{} y_{e} \\: . \\: {Saw}({y}, {x})$</span></div></div></div></div></div></div></div></div><div style=\"display:table-cell;vertical-align:middle;border-left:1px solid #848482;padding:0.5em\"><div style=\"color:blue;\"><b>[<span>FA</span>]</b></div></div></div><div align=\"center\" style=\"display:table-row; border:1px solid #848482;padding: 5px;\"><div align=\"center\" style=\"padding: 5px;display: inline-block;\"><div><div align=\"center\" style=\"display: block;\"><span>$[\\![\\mathbf{\\text{[[mary2] [[saw] him]]}}]\\!]^{}_{\\left\\langle{}e,t\\right\\rangle{}}$</span></div><div align=\"center\" style=\"display: block;\"><span>$\\lambda{} x_{e} \\: . \\: {Saw}({Mary}_{e}, {x})$</span></div></div></div></div></div><br /><br />"
      ],
      "text/latex": [
       "1 composition path:<br /><div align=\"center\" style=\"display:table; margin:5px; border-collapse: collapse;border: 1px solid #848482;\"><div align=\"center\" style=\"display:table-row;\"><div style=\"display:table-cell;vertical-align:middle;\"><div style=\"display: table;\"><div style=\"display:table-cell;vertical-align:middle;padding: 5px;\"><div align=\"center\" style=\"display:table; margin:5px; border-collapse: collapse;border: 1px solid #848482;\"><div align=\"center\" style=\"display:table-row;\"><div style=\"display:table-cell;vertical-align:middle;\"><div style=\"display: table;\"><div style=\"display:table-cell;vertical-align:middle;padding: 5px;\"><div align=\"left\" style=\"padding: 5px;display: inline-block;\"><div align=\"left\" style=\"padding: 5px;display: inline-block;\"><div><div align=\"center\" style=\"display: block;\"><span>$[\\![\\mathbf{\\text{mary2}}]\\!]^{}_{\\left\\langle{}\\left\\langle{}e,t\\right\\rangle{},t\\right\\rangle{}}$</span></div><div align=\"center\" style=\"display: block;\"><span>$\\lambda{} f_{\\left\\langle{}e,t\\right\\rangle{}} \\: . \\: {f}({Mary}_{e})$</span></div></div></div></div></div></div></div><div style=\"display:table-cell;vertical-align:middle;border-left:1px solid #848482;padding:0.5em\"><div style=\"color:blue;\"><b>[<span>g_e-shift</span>]</b></div></div></div><div align=\"center\" style=\"display:table-row; border:1px solid #848482;padding: 5px;\"><div align=\"center\" style=\"padding: 5px;display: inline-block;\"><div><div align=\"center\" style=\"display: block;\"><span>$[\\![\\mathbf{\\text{[mary2]}}]\\!]^{}_{\\left\\langle{}\\left\\langle{}e,\\left\\langle{}e,t\\right\\rangle{}\\right\\rangle{},\\left\\langle{}e,t\\right\\rangle{}\\right\\rangle{}}$</span></div><div align=\"center\" style=\"display: block;\"><span>$\\lambda{} f_{\\left\\langle{}e,\\left\\langle{}e,t\\right\\rangle{}\\right\\rangle{}} \\: . \\: \\lambda{} x_{e} \\: . \\: {f}({x})({Mary}_{e})$</span></div></div></div></div></div></div><div style=\"align: center; vertical-align: middle; display: table-cell;\"><span style=\"padding:1em;\">$\\circ$</span></div><div style=\"display:table-cell;vertical-align:middle;padding: 5px;\"><div align=\"center\" style=\"display:table; margin:5px; border-collapse: collapse;border: 1px solid #848482;\"><div align=\"center\" style=\"display:table-row;\"><div style=\"display:table-cell;vertical-align:middle;\"><div style=\"display: table;\"><div style=\"display:table-cell;vertical-align:middle;padding: 5px;\"><div align=\"center\" style=\"display:table; margin:5px; border-collapse: collapse;border: 1px solid #848482;\"><div align=\"center\" style=\"display:table-row;\"><div style=\"display:table-cell;vertical-align:middle;\"><div style=\"display: table;\"><div style=\"display:table-cell;vertical-align:middle;padding: 5px;\"><div align=\"left\" style=\"padding: 5px;display: inline-block;\"><div align=\"left\" style=\"padding: 5px;display: inline-block;\"><div><div align=\"center\" style=\"display: block;\"><span>$[\\![\\mathbf{\\text{saw}}]\\!]^{}_{\\left\\langle{}e,\\left\\langle{}e,t\\right\\rangle{}\\right\\rangle{}}$</span></div><div align=\"center\" style=\"display: block;\"><span>$\\lambda{} x_{e} \\: . \\: \\lambda{} y_{e} \\: . \\: {Saw}({y}, {x})$</span></div></div></div></div></div></div></div><div style=\"display:table-cell;vertical-align:middle;border-left:1px solid #848482;padding:0.5em\"><div style=\"color:blue;\"><b>[<span>g_e-shift</span>]</b></div></div></div><div align=\"center\" style=\"display:table-row; border:1px solid #848482;padding: 5px;\"><div align=\"center\" style=\"padding: 5px;display: inline-block;\"><div><div align=\"center\" style=\"display: block;\"><span>$[\\![\\mathbf{\\text{[saw]}}]\\!]^{}_{\\left\\langle{}\\left\\langle{}e,e\\right\\rangle{},\\left\\langle{}e,\\left\\langle{}e,t\\right\\rangle{}\\right\\rangle{}\\right\\rangle{}}$</span></div><div align=\"center\" style=\"display: block;\"><span>$\\lambda{} f_{\\left\\langle{}e,e\\right\\rangle{}} \\: . \\: \\lambda{} x_{e} \\: . \\: \\lambda{} y_{e} \\: . \\: {Saw}({y}, {f}({x}))$</span></div></div></div></div></div></div><div style=\"align: center; vertical-align: middle; display: table-cell;\"><span style=\"padding:1em;\">$\\circ$</span></div><div style=\"display:table-cell;vertical-align:middle;padding: 5px;\"><div align=\"left\" style=\"padding: 5px;display: inline-block;\"><div align=\"left\" style=\"padding: 5px;display: inline-block;\"><div><div align=\"center\" style=\"display: block;\"><span>$[\\![\\mathbf{\\text{him}}]\\!]^{}_{\\left\\langle{}e,e\\right\\rangle{}}$</span></div><div align=\"center\" style=\"display: block;\"><span>$\\lambda{} x_{e} \\: . \\: {x}$</span></div></div></div></div></div></div></div><div style=\"display:table-cell;vertical-align:middle;border-left:1px solid #848482;padding:0.5em\"><div style=\"color:blue;\"><b>[<span>FA</span>]</b></div></div></div><div align=\"center\" style=\"display:table-row; border:1px solid #848482;padding: 5px;\"><div align=\"center\" style=\"padding: 5px;display: inline-block;\"><div><div align=\"center\" style=\"display: block;\"><span>$[\\![\\mathbf{\\text{[[saw] him]}}]\\!]^{}_{\\left\\langle{}e,\\left\\langle{}e,t\\right\\rangle{}\\right\\rangle{}}$</span></div><div align=\"center\" style=\"display: block;\"><span>$\\lambda{} x_{e} \\: . \\: \\lambda{} y_{e} \\: . \\: {Saw}({y}, {x})$</span></div></div></div></div></div></div></div></div><div style=\"display:table-cell;vertical-align:middle;border-left:1px solid #848482;padding:0.5em\"><div style=\"color:blue;\"><b>[<span>FA</span>]</b></div></div></div><div align=\"center\" style=\"display:table-row; border:1px solid #848482;padding: 5px;\"><div align=\"center\" style=\"padding: 5px;display: inline-block;\"><div><div align=\"center\" style=\"display: block;\"><span>$[\\![\\mathbf{\\text{[[mary2] [[saw] him]]}}]\\!]^{}_{\\left\\langle{}e,t\\right\\rangle{}}$</span></div><div align=\"center\" style=\"display: block;\"><span>$\\lambda{} x_{e} \\: . \\: {Saw}({Mary}_{e}, {x})$</span></div></div></div></div></div><br /><br />"
      ],
      "text/plain": [
       "1 composition path:<br /><div align=\"center\" style=\"display:table; margin:5px; border-collapse: collapse;border: 1px solid #848482;\"><div align=\"center\" style=\"display:table-row;\"><div style=\"display:table-cell;vertical-align:middle;\"><div style=\"display: table;\"><div style=\"display:table-cell;vertical-align:middle;padding: 5px;\"><div align=\"center\" style=\"display:table; margin:5px; border-collapse: collapse;border: 1px solid #848482;\"><div align=\"center\" style=\"display:table-row;\"><div style=\"display:table-cell;vertical-align:middle;\"><div style=\"display: table;\"><div style=\"display:table-cell;vertical-align:middle;padding: 5px;\"><div align=\"left\" style=\"padding: 5px;display: inline-block;\"><div align=\"left\" style=\"padding: 5px;display: inline-block;\"><div><div align=\"center\" style=\"display: block;\"><span>$[\\![\\mathbf{\\text{mary2}}]\\!]^{}_{\\left\\langle{}\\left\\langle{}e,t\\right\\rangle{},t\\right\\rangle{}}$</span></div><div align=\"center\" style=\"display: block;\"><span>$\\lambda{} f_{\\left\\langle{}e,t\\right\\rangle{}} \\: . \\: {f}({Mary}_{e})$</span></div></div></div></div></div></div></div><div style=\"display:table-cell;vertical-align:middle;border-left:1px solid #848482;padding:0.5em\"><div style=\"color:blue;\"><b>[<span>g_e-shift</span>]</b></div></div></div><div align=\"center\" style=\"display:table-row; border:1px solid #848482;padding: 5px;\"><div align=\"center\" style=\"padding: 5px;display: inline-block;\"><div><div align=\"center\" style=\"display: block;\"><span>$[\\![\\mathbf{\\text{[mary2]}}]\\!]^{}_{\\left\\langle{}\\left\\langle{}e,\\left\\langle{}e,t\\right\\rangle{}\\right\\rangle{},\\left\\langle{}e,t\\right\\rangle{}\\right\\rangle{}}$</span></div><div align=\"center\" style=\"display: block;\"><span>$\\lambda{} f_{\\left\\langle{}e,\\left\\langle{}e,t\\right\\rangle{}\\right\\rangle{}} \\: . \\: \\lambda{} x_{e} \\: . \\: {f}({x})({Mary}_{e})$</span></div></div></div></div></div></div><div style=\"align: center; vertical-align: middle; display: table-cell;\"><span style=\"padding:1em;\">$\\circ$</span></div><div style=\"display:table-cell;vertical-align:middle;padding: 5px;\"><div align=\"center\" style=\"display:table; margin:5px; border-collapse: collapse;border: 1px solid #848482;\"><div align=\"center\" style=\"display:table-row;\"><div style=\"display:table-cell;vertical-align:middle;\"><div style=\"display: table;\"><div style=\"display:table-cell;vertical-align:middle;padding: 5px;\"><div align=\"center\" style=\"display:table; margin:5px; border-collapse: collapse;border: 1px solid #848482;\"><div align=\"center\" style=\"display:table-row;\"><div style=\"display:table-cell;vertical-align:middle;\"><div style=\"display: table;\"><div style=\"display:table-cell;vertical-align:middle;padding: 5px;\"><div align=\"left\" style=\"padding: 5px;display: inline-block;\"><div align=\"left\" style=\"padding: 5px;display: inline-block;\"><div><div align=\"center\" style=\"display: block;\"><span>$[\\![\\mathbf{\\text{saw}}]\\!]^{}_{\\left\\langle{}e,\\left\\langle{}e,t\\right\\rangle{}\\right\\rangle{}}$</span></div><div align=\"center\" style=\"display: block;\"><span>$\\lambda{} x_{e} \\: . \\: \\lambda{} y_{e} \\: . \\: {Saw}({y}, {x})$</span></div></div></div></div></div></div></div><div style=\"display:table-cell;vertical-align:middle;border-left:1px solid #848482;padding:0.5em\"><div style=\"color:blue;\"><b>[<span>g_e-shift</span>]</b></div></div></div><div align=\"center\" style=\"display:table-row; border:1px solid #848482;padding: 5px;\"><div align=\"center\" style=\"padding: 5px;display: inline-block;\"><div><div align=\"center\" style=\"display: block;\"><span>$[\\![\\mathbf{\\text{[saw]}}]\\!]^{}_{\\left\\langle{}\\left\\langle{}e,e\\right\\rangle{},\\left\\langle{}e,\\left\\langle{}e,t\\right\\rangle{}\\right\\rangle{}\\right\\rangle{}}$</span></div><div align=\"center\" style=\"display: block;\"><span>$\\lambda{} f_{\\left\\langle{}e,e\\right\\rangle{}} \\: . \\: \\lambda{} x_{e} \\: . \\: \\lambda{} y_{e} \\: . \\: {Saw}({y}, {f}({x}))$</span></div></div></div></div></div></div><div style=\"align: center; vertical-align: middle; display: table-cell;\"><span style=\"padding:1em;\">$\\circ$</span></div><div style=\"display:table-cell;vertical-align:middle;padding: 5px;\"><div align=\"left\" style=\"padding: 5px;display: inline-block;\"><div align=\"left\" style=\"padding: 5px;display: inline-block;\"><div><div align=\"center\" style=\"display: block;\"><span>$[\\![\\mathbf{\\text{him}}]\\!]^{}_{\\left\\langle{}e,e\\right\\rangle{}}$</span></div><div align=\"center\" style=\"display: block;\"><span>$\\lambda{} x_{e} \\: . \\: {x}$</span></div></div></div></div></div></div></div><div style=\"display:table-cell;vertical-align:middle;border-left:1px solid #848482;padding:0.5em\"><div style=\"color:blue;\"><b>[<span>FA</span>]</b></div></div></div><div align=\"center\" style=\"display:table-row; border:1px solid #848482;padding: 5px;\"><div align=\"center\" style=\"padding: 5px;display: inline-block;\"><div><div align=\"center\" style=\"display: block;\"><span>$[\\![\\mathbf{\\text{[[saw] him]}}]\\!]^{}_{\\left\\langle{}e,\\left\\langle{}e,t\\right\\rangle{}\\right\\rangle{}}$</span></div><div align=\"center\" style=\"display: block;\"><span>$\\lambda{} x_{e} \\: . \\: \\lambda{} y_{e} \\: . \\: {Saw}({y}, {x})$</span></div></div></div></div></div></div></div></div><div style=\"display:table-cell;vertical-align:middle;border-left:1px solid #848482;padding:0.5em\"><div style=\"color:blue;\"><b>[<span>FA</span>]</b></div></div></div><div align=\"center\" style=\"display:table-row; border:1px solid #848482;padding: 5px;\"><div align=\"center\" style=\"padding: 5px;display: inline-block;\"><div><div align=\"center\" style=\"display: block;\"><span>$[\\![\\mathbf{\\text{[[mary2] [[saw] him]]}}]\\!]^{}_{\\left\\langle{}e,t\\right\\rangle{}}$</span></div><div align=\"center\" style=\"display: block;\"><span>$\\lambda{} x_{e} \\: . \\: {Saw}({Mary}_{e}, {x})$</span></div></div></div></div></div><br /><br />"
      ]
     },
     "execution_count": 21,
     "metadata": {},
     "output_type": "execute_result"
    }
   ],
   "source": [
    "(((mary2 * None) * ((saw * None) * him))).tree()"
   ]
  },
  {
   "cell_type": "markdown",
   "metadata": {},
   "source": [
    "To handle binding of pronouns, we add a new typeshift, the z-rule.  Again I will implement this using a combinator."
   ]
  },
  {
   "cell_type": "code",
   "execution_count": 22,
   "metadata": {
    "collapsed": false
   },
   "outputs": [],
   "source": []
  },
  {
   "cell_type": "code",
   "execution_count": 22,
   "metadata": {
    "collapsed": false
   },
   "outputs": [
    {
     "data": {
      "text/latex": [
       "$\\lambda{} f_{\\left\\langle{}X,\\left\\langle{}e,Z\\right\\rangle{}\\right\\rangle{}} \\: . \\: \\lambda{} g_{\\left\\langle{}e,X\\right\\rangle{}} \\: . \\: \\lambda{} x_{e} \\: . \\: {f}({g}({x}))({x})$"
      ],
      "text/plain": [
       "(λ f_<X,<e,Z>>: (λ g_<e,X>: (λ x_e: f_<X,<e,Z>>(g_<e,X>(x_e))(x_e))))"
      ]
     },
     "execution_count": 22,
     "metadata": {},
     "output_type": "execute_result"
    }
   ],
   "source": [
    "z_combinator = %te (λ f_<X,<e,Z>>: (λ g_<e,X>: (λ x_e: f(g(x))(x))))\n",
    "z_combinator"
   ]
  },
  {
   "cell_type": "code",
   "execution_count": 23,
   "metadata": {
    "collapsed": false
   },
   "outputs": [
    {
     "data": {
      "text/latex": [
       "$\\lambda{} f_{\\left\\langle{}e,\\left\\langle{}e,t\\right\\rangle{}\\right\\rangle{}} \\: . \\: \\lambda{} g_{\\left\\langle{}e,e\\right\\rangle{}} \\: . \\: \\lambda{} x_{e} \\: . \\: {f}({g}({x}))({x})$"
      ],
      "text/plain": [
       "(λ f_<e,<e,t>>: (λ g_<e,e>: (λ x_e: f_<e,<e,t>>(g_<e,e>(x_e))(x_e))))"
      ]
     },
     "execution_count": 23,
     "metadata": {},
     "output_type": "execute_result"
    }
   ],
   "source": [
    "z_combinator.try_adjust_type(tp(\"<<e,<e,t>>,?>\"))"
   ]
  },
  {
   "cell_type": "code",
   "execution_count": 24,
   "metadata": {
    "collapsed": false
   },
   "outputs": [
    {
     "data": {
      "text/latex": [
       "$\\lambda{} g_{\\left\\langle{}e,e\\right\\rangle{}} \\: . \\: \\lambda{} x_{e} \\: . \\: {Saw}({x}, {g}({x}))$"
      ],
      "text/plain": [
       "(λ g_<e,e>: (λ x_e: Saw_<(e,e),t>(x_e, g_<e,e>(x_e))))"
      ]
     },
     "execution_count": 24,
     "metadata": {},
     "output_type": "execute_result"
    }
   ],
   "source": [
    "z_combinator(saw.content).reduce_all()"
   ]
  },
  {
   "cell_type": "code",
   "execution_count": 25,
   "metadata": {
    "collapsed": false
   },
   "outputs": [
    {
     "data": {
      "text/html": [
       "Composition system 'H&K simple (copy)'<br />Operations: {<br />&nbsp;&nbsp;&nbsp;&nbsp;Binary composition rule <i>FA</i>, built on python function 'lamb.lang.fa_fun'<br />&nbsp;&nbsp;&nbsp;&nbsp;Binary composition rule <i>PM</i>, built on python function 'lamb.lang.pm_fun'<br />&nbsp;&nbsp;&nbsp;&nbsp;Binary composition rule <i>PA</i>, built on python function 'lamb.lang.pa_fun'<br />&nbsp;&nbsp;&nbsp;&nbsp;Unary composition rule <i>lift_t-shift</i>, built on combinator '$\\lambda{} f_{X} \\: . \\: \\lambda{} g_{\\left\\langle{}X,t\\right\\rangle{}} \\: . \\: {g}({f})$'<br />&nbsp;&nbsp;&nbsp;&nbsp;Typeshift <i>g_e-shift</i>, built on combinator '$\\lambda{} g_{\\left\\langle{}Y,Z\\right\\rangle{}} \\: . \\: \\lambda{} f_{\\left\\langle{}e,Y\\right\\rangle{}} \\: . \\: \\lambda{} x_{e} \\: . \\: {g}({f}({x}))$'<br />&nbsp;&nbsp;&nbsp;&nbsp;Typeshift <i>g_et-shift</i>, built on combinator '$\\lambda{} g_{\\left\\langle{}Y,Z\\right\\rangle{}} \\: . \\: \\lambda{} f_{\\left\\langle{}\\left\\langle{}e,t\\right\\rangle{},Y\\right\\rangle{}} \\: . \\: \\lambda{} x_{\\left\\langle{}e,t\\right\\rangle{}} \\: . \\: {g}({f}({x}))$'<br />&nbsp;&nbsp;&nbsp;&nbsp;Typeshift <i>z-shift</i>, built on combinator '$\\lambda{} f_{\\left\\langle{}X,\\left\\langle{}e,Z\\right\\rangle{}\\right\\rangle{}} \\: . \\: \\lambda{} g_{\\left\\langle{}e,X\\right\\rangle{}} \\: . \\: \\lambda{} x_{e} \\: . \\: {f}({g}({x}))({x})$'<br />}"
      ],
      "text/plain": [
       "Composition system: H&K simple (copy)"
      ]
     },
     "execution_count": 25,
     "metadata": {},
     "output_type": "execute_result"
    }
   ],
   "source": [
    "system = lang.td_system.copy()\n",
    "system.add_unary_rule(lift_combinator_t, \"lift_t-shift\")\n",
    "system.add_typeshift(g_e_combinator, \"g_e-shift\")\n",
    "system.add_typeshift(g_et_combinator, \"g_et-shift\")\n",
    "system.add_typeshift(z_combinator, \"z-shift\")\n",
    "system.typeshift=True\n",
    "lang.set_system(system)\n",
    "system\n"
   ]
  },
  {
   "cell_type": "code",
   "execution_count": 26,
   "metadata": {
    "collapsed": false
   },
   "outputs": [
    {
     "data": {
      "text/html": [
       "2 composition paths. Results:\n",
       "<br />&nbsp;&nbsp;&nbsp;&nbsp;[0]: $[\\![\\mathbf{\\text{[[mary2] [[saw] him]]}}]\\!]^{}_{\\left\\langle{}e,t\\right\\rangle{}} \\:=\\: $$\\lambda{} x_{e} \\: . \\: {Saw}({Mary}_{e}, {x})$\n",
       "<br />&nbsp;&nbsp;&nbsp;&nbsp;[1]: $[\\![\\mathbf{\\text{[mary2 [[saw] him]]}}]\\!]^{}_{t} \\:=\\: $${Saw}({Mary}_{e}, {Mary}_{e})$"
      ],
      "text/plain": [
       "CompositionResult(results=[⟦[[mary2] [[saw] him]]⟧ = (λ x_e: Saw_<(e,e),t>(Mary_e, x_e)), ⟦[mary2 [[saw] him]]⟧ = Saw_<(e,e),t>(Mary_e, Mary_e)], failures=[⟦[[mary2] [[[saw] him]]]⟧ = Type mismatch: '⟦[mary2]⟧ = (λ f_<e,<e,t>>: (λ x_e: f_<e,<e,t>>(x_e)(Mary_e)))'/<<e,<e,t>>,<e,t>> and '⟦[[[saw] him]]⟧ = (λ f_<e,e>: (λ x_e: (λ y_e: Saw_<(e,e),t>(y_e, f_<e,e>(x_e)))))'/<<e,e>,<e,<e,t>>> conflict (mode: Function Application), ⟦[[[[saw] him]] [mary2]]⟧ = Type mismatch: '⟦[[[saw] him]]⟧ = (λ f_<e,e>: (λ x_e: (λ y_e: Saw_<(e,e),t>(y_e, f_<e,e>(x_e)))))'/<<e,e>,<e,<e,t>>> and '⟦[mary2]⟧ = (λ f_<e,<e,t>>: (λ x_e: f_<e,<e,t>>(x_e)(Mary_e)))'/<<e,<e,t>>,<e,t>> conflict (mode: Function Application), ⟦[[mary2] [[[saw] him]]]⟧ = Type mismatch: '⟦[mary2]⟧ = (λ f_<e,<e,t>>: (λ x_e: f_<e,<e,t>>(x_e)(Mary_e)))'/<<e,<e,t>>,<e,t>> and '⟦[[[saw] him]]⟧ = (λ f_<e,e>: (λ x_e: (λ y_e: Saw_<(e,e),t>(y_e, f_<e,e>(x_e)))))'/<<e,e>,<e,<e,t>>> conflict (mode: Predicate Modification), ⟦[[mary2] [[[saw] him]]]⟧ = Type mismatch: '⟦[mary2]⟧ = (λ f_<e,<e,t>>: (λ x_e: f_<e,<e,t>>(x_e)(Mary_e)))'/<<e,<e,t>>,<e,t>> and '⟦[[[saw] him]]⟧ = (λ f_<e,e>: (λ x_e: (λ y_e: Saw_<(e,e),t>(y_e, f_<e,e>(x_e)))))'/<<e,e>,<e,<e,t>>> conflict (mode: Predicate Abstraction), ⟦[[[[saw] him]] [mary2]]⟧ = Type mismatch: '⟦[[[saw] him]]⟧ = (λ f_<e,e>: (λ x_e: (λ y_e: Saw_<(e,e),t>(y_e, f_<e,e>(x_e)))))'/<<e,e>,<e,<e,t>>> and '⟦[mary2]⟧ = (λ f_<e,<e,t>>: (λ x_e: f_<e,<e,t>>(x_e)(Mary_e)))'/<<e,<e,t>>,<e,t>> conflict (mode: Predicate Abstraction), ⟦[[mary2] [[[saw] him]]]⟧ = Type mismatch: '⟦[mary2]⟧ = (λ f_<e,<e,t>>: (λ x_e: f_<e,<e,t>>(x_e)(Mary_e)))'/<<e,<e,t>>,<e,t>> and '⟦[[[saw] him]]⟧ = (λ f_<<e,t>,e>: (λ x_<e,t>: (λ y_e: Saw_<(e,e),t>(y_e, f_<<e,t>,e>(x_<e,t>)))))'/<<<e,t>,e>,<<e,t>,<e,t>>> conflict (mode: Function Application), ⟦[[[[saw] him]] [mary2]]⟧ = Type mismatch: '⟦[[[saw] him]]⟧ = (λ f_<<e,t>,e>: (λ x_<e,t>: (λ y_e: Saw_<(e,e),t>(y_e, f_<<e,t>,e>(x_<e,t>)))))'/<<<e,t>,e>,<<e,t>,<e,t>>> and '⟦[mary2]⟧ = (λ f_<e,<e,t>>: (λ x_e: f_<e,<e,t>>(x_e)(Mary_e)))'/<<e,<e,t>>,<e,t>> conflict (mode: Function Application), ⟦[[mary2] [[[saw] him]]]⟧ = Type mismatch: '⟦[mary2]⟧ = (λ f_<e,<e,t>>: (λ x_e: f_<e,<e,t>>(x_e)(Mary_e)))'/<<e,<e,t>>,<e,t>> and '⟦[[[saw] him]]⟧ = (λ f_<<e,t>,e>: (λ x_<e,t>: (λ y_e: Saw_<(e,e),t>(y_e, f_<<e,t>,e>(x_<e,t>)))))'/<<<e,t>,e>,<<e,t>,<e,t>>> conflict (mode: Predicate Modification), ⟦[[mary2] [[[saw] him]]]⟧ = Type mismatch: '⟦[mary2]⟧ = (λ f_<e,<e,t>>: (λ x_e: f_<e,<e,t>>(x_e)(Mary_e)))'/<<e,<e,t>>,<e,t>> and '⟦[[[saw] him]]⟧ = (λ f_<<e,t>,e>: (λ x_<e,t>: (λ y_e: Saw_<(e,e),t>(y_e, f_<<e,t>,e>(x_<e,t>)))))'/<<<e,t>,e>,<<e,t>,<e,t>>> conflict (mode: Predicate Abstraction), ⟦[[[[saw] him]] [mary2]]⟧ = Type mismatch: '⟦[[[saw] him]]⟧ = (λ f_<<e,t>,e>: (λ x_<e,t>: (λ y_e: Saw_<(e,e),t>(y_e, f_<<e,t>,e>(x_<e,t>)))))'/<<<e,t>,e>,<<e,t>,<e,t>>> and '⟦[mary2]⟧ = (λ f_<e,<e,t>>: (λ x_e: f_<e,<e,t>>(x_e)(Mary_e)))'/<<e,<e,t>>,<e,t>> conflict (mode: Predicate Abstraction), ⟦[[mary2] [[[saw] him]]]⟧ = Type mismatch: '⟦[mary2]⟧ = (λ f_<e,<e,t>>: (λ x_e: f_<e,<e,t>>(x_e)(Mary_e)))'/<<e,<e,t>>,<e,t>> and '⟦[[[saw] him]]⟧ = (λ g_<e,e>: (λ x_e: Saw_<(e,e),t>(x_e, g_<e,e>(x_e))))'/<<e,e>,<e,t>> conflict (mode: Function Application), ⟦[[[[saw] him]] [mary2]]⟧ = Type mismatch: '⟦[[[saw] him]]⟧ = (λ g_<e,e>: (λ x_e: Saw_<(e,e),t>(x_e, g_<e,e>(x_e))))'/<<e,e>,<e,t>> and '⟦[mary2]⟧ = (λ f_<e,<e,t>>: (λ x_e: f_<e,<e,t>>(x_e)(Mary_e)))'/<<e,<e,t>>,<e,t>> conflict (mode: Function Application), ⟦[[mary2] [[[saw] him]]]⟧ = Type mismatch: '⟦[mary2]⟧ = (λ f_<e,<e,t>>: (λ x_e: f_<e,<e,t>>(x_e)(Mary_e)))'/<<e,<e,t>>,<e,t>> and '⟦[[[saw] him]]⟧ = (λ g_<e,e>: (λ x_e: Saw_<(e,e),t>(x_e, g_<e,e>(x_e))))'/<<e,e>,<e,t>> conflict (mode: Predicate Modification), ⟦[[mary2] [[[saw] him]]]⟧ = Type mismatch: '⟦[mary2]⟧ = (λ f_<e,<e,t>>: (λ x_e: f_<e,<e,t>>(x_e)(Mary_e)))'/<<e,<e,t>>,<e,t>> and '⟦[[[saw] him]]⟧ = (λ g_<e,e>: (λ x_e: Saw_<(e,e),t>(x_e, g_<e,e>(x_e))))'/<<e,e>,<e,t>> conflict (mode: Predicate Abstraction), ⟦[[[[saw] him]] [mary2]]⟧ = Type mismatch: '⟦[[[saw] him]]⟧ = (λ g_<e,e>: (λ x_e: Saw_<(e,e),t>(x_e, g_<e,e>(x_e))))'/<<e,e>,<e,t>> and '⟦[mary2]⟧ = (λ f_<e,<e,t>>: (λ x_e: f_<e,<e,t>>(x_e)(Mary_e)))'/<<e,<e,t>>,<e,t>> conflict (mode: Predicate Abstraction), ⟦[[[saw] him] [mary2]]⟧ = Type mismatch: '⟦[[saw] him]⟧ = (λ x_e: (λ y_e: Saw_<(e,e),t>(y_e, x_e)))'/<e,<e,t>> and '⟦[mary2]⟧ = (λ f_<e,<e,t>>: (λ x_e: f_<e,<e,t>>(x_e)(Mary_e)))'/<<e,<e,t>>,<e,t>> conflict (mode: Function Application), ⟦[[mary2] [[saw] him]]⟧ = Type mismatch: '⟦[mary2]⟧ = (λ f_<e,<e,t>>: (λ x_e: f_<e,<e,t>>(x_e)(Mary_e)))'/<<e,<e,t>>,<e,t>> and '⟦[[saw] him]⟧ = (λ x_e: (λ y_e: Saw_<(e,e),t>(y_e, x_e)))'/<e,<e,t>> conflict (mode: Predicate Modification), ⟦[[mary2] [[saw] him]]⟧ = Type mismatch: '⟦[mary2]⟧ = (λ f_<e,<e,t>>: (λ x_e: f_<e,<e,t>>(x_e)(Mary_e)))'/<<e,<e,t>>,<e,t>> and '⟦[[saw] him]⟧ = (λ x_e: (λ y_e: Saw_<(e,e),t>(y_e, x_e)))'/<e,<e,t>> conflict (mode: Predicate Abstraction), ⟦[[[saw] him] [mary2]]⟧ = Type mismatch: '⟦[[saw] him]⟧ = (λ x_e: (λ y_e: Saw_<(e,e),t>(y_e, x_e)))'/<e,<e,t>> and '⟦[mary2]⟧ = (λ f_<e,<e,t>>: (λ x_e: f_<e,<e,t>>(x_e)(Mary_e)))'/<<e,<e,t>>,<e,t>> conflict (mode: Predicate Abstraction), ⟦[[mary2] [[[saw] him]]]⟧ = Type mismatch: '⟦[mary2]⟧ = (λ f_<<e,t>,<e,t>>: (λ x_<e,t>: f_<<e,t>,<e,t>>(x_<e,t>)(Mary_e)))'/<<<e,t>,<e,t>>,<<e,t>,t>> and '⟦[[[saw] him]]⟧ = (λ f_<e,e>: (λ x_e: (λ y_e: Saw_<(e,e),t>(y_e, f_<e,e>(x_e)))))'/<<e,e>,<e,<e,t>>> conflict (mode: Function Application), ⟦[[[[saw] him]] [mary2]]⟧ = Type mismatch: '⟦[[[saw] him]]⟧ = (λ f_<e,e>: (λ x_e: (λ y_e: Saw_<(e,e),t>(y_e, f_<e,e>(x_e)))))'/<<e,e>,<e,<e,t>>> and '⟦[mary2]⟧ = (λ f_<<e,t>,<e,t>>: (λ x_<e,t>: f_<<e,t>,<e,t>>(x_<e,t>)(Mary_e)))'/<<<e,t>,<e,t>>,<<e,t>,t>> conflict (mode: Function Application), ⟦[[mary2] [[[saw] him]]]⟧ = Type mismatch: '⟦[mary2]⟧ = (λ f_<<e,t>,<e,t>>: (λ x_<e,t>: f_<<e,t>,<e,t>>(x_<e,t>)(Mary_e)))'/<<<e,t>,<e,t>>,<<e,t>,t>> and '⟦[[[saw] him]]⟧ = (λ f_<e,e>: (λ x_e: (λ y_e: Saw_<(e,e),t>(y_e, f_<e,e>(x_e)))))'/<<e,e>,<e,<e,t>>> conflict (mode: Predicate Modification), ⟦[[mary2] [[[saw] him]]]⟧ = Type mismatch: '⟦[mary2]⟧ = (λ f_<<e,t>,<e,t>>: (λ x_<e,t>: f_<<e,t>,<e,t>>(x_<e,t>)(Mary_e)))'/<<<e,t>,<e,t>>,<<e,t>,t>> and '⟦[[[saw] him]]⟧ = (λ f_<e,e>: (λ x_e: (λ y_e: Saw_<(e,e),t>(y_e, f_<e,e>(x_e)))))'/<<e,e>,<e,<e,t>>> conflict (mode: Predicate Abstraction), ⟦[[[[saw] him]] [mary2]]⟧ = Type mismatch: '⟦[[[saw] him]]⟧ = (λ f_<e,e>: (λ x_e: (λ y_e: Saw_<(e,e),t>(y_e, f_<e,e>(x_e)))))'/<<e,e>,<e,<e,t>>> and '⟦[mary2]⟧ = (λ f_<<e,t>,<e,t>>: (λ x_<e,t>: f_<<e,t>,<e,t>>(x_<e,t>)(Mary_e)))'/<<<e,t>,<e,t>>,<<e,t>,t>> conflict (mode: Predicate Abstraction), ⟦[[mary2] [[[saw] him]]]⟧ = Type mismatch: '⟦[mary2]⟧ = (λ f_<<e,t>,<e,t>>: (λ x_<e,t>: f_<<e,t>,<e,t>>(x_<e,t>)(Mary_e)))'/<<<e,t>,<e,t>>,<<e,t>,t>> and '⟦[[[saw] him]]⟧ = (λ f_<<e,t>,e>: (λ x_<e,t>: (λ y_e: Saw_<(e,e),t>(y_e, f_<<e,t>,e>(x_<e,t>)))))'/<<<e,t>,e>,<<e,t>,<e,t>>> conflict (mode: Function Application), ⟦[[[[saw] him]] [mary2]]⟧ = Type mismatch: '⟦[[[saw] him]]⟧ = (λ f_<<e,t>,e>: (λ x_<e,t>: (λ y_e: Saw_<(e,e),t>(y_e, f_<<e,t>,e>(x_<e,t>)))))'/<<<e,t>,e>,<<e,t>,<e,t>>> and '⟦[mary2]⟧ = (λ f_<<e,t>,<e,t>>: (λ x_<e,t>: f_<<e,t>,<e,t>>(x_<e,t>)(Mary_e)))'/<<<e,t>,<e,t>>,<<e,t>,t>> conflict (mode: Function Application), ⟦[[mary2] [[[saw] him]]]⟧ = Type mismatch: '⟦[mary2]⟧ = (λ f_<<e,t>,<e,t>>: (λ x_<e,t>: f_<<e,t>,<e,t>>(x_<e,t>)(Mary_e)))'/<<<e,t>,<e,t>>,<<e,t>,t>> and '⟦[[[saw] him]]⟧ = (λ f_<<e,t>,e>: (λ x_<e,t>: (λ y_e: Saw_<(e,e),t>(y_e, f_<<e,t>,e>(x_<e,t>)))))'/<<<e,t>,e>,<<e,t>,<e,t>>> conflict (mode: Predicate Modification), ⟦[[mary2] [[[saw] him]]]⟧ = Type mismatch: '⟦[mary2]⟧ = (λ f_<<e,t>,<e,t>>: (λ x_<e,t>: f_<<e,t>,<e,t>>(x_<e,t>)(Mary_e)))'/<<<e,t>,<e,t>>,<<e,t>,t>> and '⟦[[[saw] him]]⟧ = (λ f_<<e,t>,e>: (λ x_<e,t>: (λ y_e: Saw_<(e,e),t>(y_e, f_<<e,t>,e>(x_<e,t>)))))'/<<<e,t>,e>,<<e,t>,<e,t>>> conflict (mode: Predicate Abstraction), ⟦[[[[saw] him]] [mary2]]⟧ = Type mismatch: '⟦[[[saw] him]]⟧ = (λ f_<<e,t>,e>: (λ x_<e,t>: (λ y_e: Saw_<(e,e),t>(y_e, f_<<e,t>,e>(x_<e,t>)))))'/<<<e,t>,e>,<<e,t>,<e,t>>> and '⟦[mary2]⟧ = (λ f_<<e,t>,<e,t>>: (λ x_<e,t>: f_<<e,t>,<e,t>>(x_<e,t>)(Mary_e)))'/<<<e,t>,<e,t>>,<<e,t>,t>> conflict (mode: Predicate Abstraction), ⟦[[mary2] [[[saw] him]]]⟧ = Type mismatch: '⟦[mary2]⟧ = (λ f_<<e,t>,<e,t>>: (λ x_<e,t>: f_<<e,t>,<e,t>>(x_<e,t>)(Mary_e)))'/<<<e,t>,<e,t>>,<<e,t>,t>> and '⟦[[[saw] him]]⟧ = (λ g_<e,e>: (λ x_e: Saw_<(e,e),t>(x_e, g_<e,e>(x_e))))'/<<e,e>,<e,t>> conflict (mode: Function Application), ⟦[[[[saw] him]] [mary2]]⟧ = Type mismatch: '⟦[[[saw] him]]⟧ = (λ g_<e,e>: (λ x_e: Saw_<(e,e),t>(x_e, g_<e,e>(x_e))))'/<<e,e>,<e,t>> and '⟦[mary2]⟧ = (λ f_<<e,t>,<e,t>>: (λ x_<e,t>: f_<<e,t>,<e,t>>(x_<e,t>)(Mary_e)))'/<<<e,t>,<e,t>>,<<e,t>,t>> conflict (mode: Function Application), ⟦[[mary2] [[[saw] him]]]⟧ = Type mismatch: '⟦[mary2]⟧ = (λ f_<<e,t>,<e,t>>: (λ x_<e,t>: f_<<e,t>,<e,t>>(x_<e,t>)(Mary_e)))'/<<<e,t>,<e,t>>,<<e,t>,t>> and '⟦[[[saw] him]]⟧ = (λ g_<e,e>: (λ x_e: Saw_<(e,e),t>(x_e, g_<e,e>(x_e))))'/<<e,e>,<e,t>> conflict (mode: Predicate Modification), ⟦[[mary2] [[[saw] him]]]⟧ = Type mismatch: '⟦[mary2]⟧ = (λ f_<<e,t>,<e,t>>: (λ x_<e,t>: f_<<e,t>,<e,t>>(x_<e,t>)(Mary_e)))'/<<<e,t>,<e,t>>,<<e,t>,t>> and '⟦[[[saw] him]]⟧ = (λ g_<e,e>: (λ x_e: Saw_<(e,e),t>(x_e, g_<e,e>(x_e))))'/<<e,e>,<e,t>> conflict (mode: Predicate Abstraction), ⟦[[[[saw] him]] [mary2]]⟧ = Type mismatch: '⟦[[[saw] him]]⟧ = (λ g_<e,e>: (λ x_e: Saw_<(e,e),t>(x_e, g_<e,e>(x_e))))'/<<e,e>,<e,t>> and '⟦[mary2]⟧ = (λ f_<<e,t>,<e,t>>: (λ x_<e,t>: f_<<e,t>,<e,t>>(x_<e,t>)(Mary_e)))'/<<<e,t>,<e,t>>,<<e,t>,t>> conflict (mode: Predicate Abstraction), ⟦[[mary2] [[saw] him]]⟧ = Type mismatch: '⟦[mary2]⟧ = (λ f_<<e,t>,<e,t>>: (λ x_<e,t>: f_<<e,t>,<e,t>>(x_<e,t>)(Mary_e)))'/<<<e,t>,<e,t>>,<<e,t>,t>> and '⟦[[saw] him]⟧ = (λ x_e: (λ y_e: Saw_<(e,e),t>(y_e, x_e)))'/<e,<e,t>> conflict (mode: Function Application), ⟦[[[saw] him] [mary2]]⟧ = Type mismatch: '⟦[[saw] him]⟧ = (λ x_e: (λ y_e: Saw_<(e,e),t>(y_e, x_e)))'/<e,<e,t>> and '⟦[mary2]⟧ = (λ f_<<e,t>,<e,t>>: (λ x_<e,t>: f_<<e,t>,<e,t>>(x_<e,t>)(Mary_e)))'/<<<e,t>,<e,t>>,<<e,t>,t>> conflict (mode: Function Application), ⟦[[mary2] [[saw] him]]⟧ = Type mismatch: '⟦[mary2]⟧ = (λ f_<<e,t>,<e,t>>: (λ x_<e,t>: f_<<e,t>,<e,t>>(x_<e,t>)(Mary_e)))'/<<<e,t>,<e,t>>,<<e,t>,t>> and '⟦[[saw] him]⟧ = (λ x_e: (λ y_e: Saw_<(e,e),t>(y_e, x_e)))'/<e,<e,t>> conflict (mode: Predicate Modification), ⟦[[mary2] [[saw] him]]⟧ = Type mismatch: '⟦[mary2]⟧ = (λ f_<<e,t>,<e,t>>: (λ x_<e,t>: f_<<e,t>,<e,t>>(x_<e,t>)(Mary_e)))'/<<<e,t>,<e,t>>,<<e,t>,t>> and '⟦[[saw] him]⟧ = (λ x_e: (λ y_e: Saw_<(e,e),t>(y_e, x_e)))'/<e,<e,t>> conflict (mode: Predicate Abstraction), ⟦[[[saw] him] [mary2]]⟧ = Type mismatch: '⟦[[saw] him]⟧ = (λ x_e: (λ y_e: Saw_<(e,e),t>(y_e, x_e)))'/<e,<e,t>> and '⟦[mary2]⟧ = (λ f_<<e,t>,<e,t>>: (λ x_<e,t>: f_<<e,t>,<e,t>>(x_<e,t>)(Mary_e)))'/<<<e,t>,<e,t>>,<<e,t>,t>> conflict (mode: Predicate Abstraction), ⟦[mary2 [[[saw] him]]]⟧ = Type mismatch: '⟦mary2⟧ = (λ f_<e,t>: f_<e,t>(Mary_e))'/<<e,t>,t> and '⟦[[[saw] him]]⟧ = (λ f_<e,e>: (λ x_e: (λ y_e: Saw_<(e,e),t>(y_e, f_<e,e>(x_e)))))'/<<e,e>,<e,<e,t>>> conflict (mode: Function Application), ⟦[[[[saw] him]] mary2]⟧ = Type mismatch: '⟦[[[saw] him]]⟧ = (λ f_<e,e>: (λ x_e: (λ y_e: Saw_<(e,e),t>(y_e, f_<e,e>(x_e)))))'/<<e,e>,<e,<e,t>>> and '⟦mary2⟧ = (λ f_<e,t>: f_<e,t>(Mary_e))'/<<e,t>,t> conflict (mode: Function Application), ⟦[mary2 [[[saw] him]]]⟧ = Type mismatch: '⟦mary2⟧ = (λ f_<e,t>: f_<e,t>(Mary_e))'/<<e,t>,t> and '⟦[[[saw] him]]⟧ = (λ f_<e,e>: (λ x_e: (λ y_e: Saw_<(e,e),t>(y_e, f_<e,e>(x_e)))))'/<<e,e>,<e,<e,t>>> conflict (mode: Predicate Modification), ⟦[mary2 [[[saw] him]]]⟧ = Type mismatch: '⟦mary2⟧ = (λ f_<e,t>: f_<e,t>(Mary_e))'/<<e,t>,t> and '⟦[[[saw] him]]⟧ = (λ f_<e,e>: (λ x_e: (λ y_e: Saw_<(e,e),t>(y_e, f_<e,e>(x_e)))))'/<<e,e>,<e,<e,t>>> conflict (mode: Predicate Abstraction), ⟦[[[[saw] him]] mary2]⟧ = Type mismatch: '⟦[[[saw] him]]⟧ = (λ f_<e,e>: (λ x_e: (λ y_e: Saw_<(e,e),t>(y_e, f_<e,e>(x_e)))))'/<<e,e>,<e,<e,t>>> and '⟦mary2⟧ = (λ f_<e,t>: f_<e,t>(Mary_e))'/<<e,t>,t> conflict (mode: Predicate Abstraction), ⟦[mary2 [[[saw] him]]]⟧ = Type mismatch: '⟦mary2⟧ = (λ f_<e,t>: f_<e,t>(Mary_e))'/<<e,t>,t> and '⟦[[[saw] him]]⟧ = (λ f_<<e,t>,e>: (λ x_<e,t>: (λ y_e: Saw_<(e,e),t>(y_e, f_<<e,t>,e>(x_<e,t>)))))'/<<<e,t>,e>,<<e,t>,<e,t>>> conflict (mode: Function Application), ⟦[[[[saw] him]] mary2]⟧ = Type mismatch: '⟦[[[saw] him]]⟧ = (λ f_<<e,t>,e>: (λ x_<e,t>: (λ y_e: Saw_<(e,e),t>(y_e, f_<<e,t>,e>(x_<e,t>)))))'/<<<e,t>,e>,<<e,t>,<e,t>>> and '⟦mary2⟧ = (λ f_<e,t>: f_<e,t>(Mary_e))'/<<e,t>,t> conflict (mode: Function Application), ⟦[mary2 [[[saw] him]]]⟧ = Type mismatch: '⟦mary2⟧ = (λ f_<e,t>: f_<e,t>(Mary_e))'/<<e,t>,t> and '⟦[[[saw] him]]⟧ = (λ f_<<e,t>,e>: (λ x_<e,t>: (λ y_e: Saw_<(e,e),t>(y_e, f_<<e,t>,e>(x_<e,t>)))))'/<<<e,t>,e>,<<e,t>,<e,t>>> conflict (mode: Predicate Modification), ⟦[mary2 [[[saw] him]]]⟧ = Type mismatch: '⟦mary2⟧ = (λ f_<e,t>: f_<e,t>(Mary_e))'/<<e,t>,t> and '⟦[[[saw] him]]⟧ = (λ f_<<e,t>,e>: (λ x_<e,t>: (λ y_e: Saw_<(e,e),t>(y_e, f_<<e,t>,e>(x_<e,t>)))))'/<<<e,t>,e>,<<e,t>,<e,t>>> conflict (mode: Predicate Abstraction), ⟦[[[[saw] him]] mary2]⟧ = Type mismatch: '⟦[[[saw] him]]⟧ = (λ f_<<e,t>,e>: (λ x_<e,t>: (λ y_e: Saw_<(e,e),t>(y_e, f_<<e,t>,e>(x_<e,t>)))))'/<<<e,t>,e>,<<e,t>,<e,t>>> and '⟦mary2⟧ = (λ f_<e,t>: f_<e,t>(Mary_e))'/<<e,t>,t> conflict (mode: Predicate Abstraction), ⟦[mary2 [[[saw] him]]]⟧ = Type mismatch: '⟦mary2⟧ = (λ f_<e,t>: f_<e,t>(Mary_e))'/<<e,t>,t> and '⟦[[[saw] him]]⟧ = (λ g_<e,e>: (λ x_e: Saw_<(e,e),t>(x_e, g_<e,e>(x_e))))'/<<e,e>,<e,t>> conflict (mode: Function Application), ⟦[[[[saw] him]] mary2]⟧ = Type mismatch: '⟦[[[saw] him]]⟧ = (λ g_<e,e>: (λ x_e: Saw_<(e,e),t>(x_e, g_<e,e>(x_e))))'/<<e,e>,<e,t>> and '⟦mary2⟧ = (λ f_<e,t>: f_<e,t>(Mary_e))'/<<e,t>,t> conflict (mode: Function Application), ⟦[mary2 [[[saw] him]]]⟧ = Type mismatch: '⟦mary2⟧ = (λ f_<e,t>: f_<e,t>(Mary_e))'/<<e,t>,t> and '⟦[[[saw] him]]⟧ = (λ g_<e,e>: (λ x_e: Saw_<(e,e),t>(x_e, g_<e,e>(x_e))))'/<<e,e>,<e,t>> conflict (mode: Predicate Modification), ⟦[mary2 [[[saw] him]]]⟧ = Type mismatch: '⟦mary2⟧ = (λ f_<e,t>: f_<e,t>(Mary_e))'/<<e,t>,t> and '⟦[[[saw] him]]⟧ = (λ g_<e,e>: (λ x_e: Saw_<(e,e),t>(x_e, g_<e,e>(x_e))))'/<<e,e>,<e,t>> conflict (mode: Predicate Abstraction), ⟦[[[[saw] him]] mary2]⟧ = Type mismatch: '⟦[[[saw] him]]⟧ = (λ g_<e,e>: (λ x_e: Saw_<(e,e),t>(x_e, g_<e,e>(x_e))))'/<<e,e>,<e,t>> and '⟦mary2⟧ = (λ f_<e,t>: f_<e,t>(Mary_e))'/<<e,t>,t> conflict (mode: Predicate Abstraction), ⟦[mary2 [[saw] him]]⟧ = Type mismatch: '⟦mary2⟧ = (λ f_<e,t>: f_<e,t>(Mary_e))'/<<e,t>,t> and '⟦[[saw] him]⟧ = (λ x_e: (λ y_e: Saw_<(e,e),t>(y_e, x_e)))'/<e,<e,t>> conflict (mode: Function Application), ⟦[[[saw] him] mary2]⟧ = Type mismatch: '⟦[[saw] him]⟧ = (λ x_e: (λ y_e: Saw_<(e,e),t>(y_e, x_e)))'/<e,<e,t>> and '⟦mary2⟧ = (λ f_<e,t>: f_<e,t>(Mary_e))'/<<e,t>,t> conflict (mode: Function Application), ⟦[mary2 [[saw] him]]⟧ = Type mismatch: '⟦mary2⟧ = (λ f_<e,t>: f_<e,t>(Mary_e))'/<<e,t>,t> and '⟦[[saw] him]⟧ = (λ x_e: (λ y_e: Saw_<(e,e),t>(y_e, x_e)))'/<e,<e,t>> conflict (mode: Predicate Modification), ⟦[mary2 [[saw] him]]⟧ = Type mismatch: '⟦mary2⟧ = (λ f_<e,t>: f_<e,t>(Mary_e))'/<<e,t>,t> and '⟦[[saw] him]⟧ = (λ x_e: (λ y_e: Saw_<(e,e),t>(y_e, x_e)))'/<e,<e,t>> conflict (mode: Predicate Abstraction), ⟦[[[saw] him] mary2]⟧ = Type mismatch: '⟦[[saw] him]⟧ = (λ x_e: (λ y_e: Saw_<(e,e),t>(y_e, x_e)))'/<e,<e,t>> and '⟦mary2⟧ = (λ f_<e,t>: f_<e,t>(Mary_e))'/<<e,t>,t> conflict (mode: Predicate Abstraction), ⟦[[[saw] him] mary2]⟧ = Type mismatch: '⟦[[saw] him]⟧ = (λ x_e: Saw_<(e,e),t>(x_e, x_e))'/<e,t> and '⟦mary2⟧ = (λ f_<e,t>: f_<e,t>(Mary_e))'/<<e,t>,t> conflict (mode: Function Application), ⟦[mary2 [[saw] him]]⟧ = Type mismatch: '⟦mary2⟧ = (λ f_<e,t>: f_<e,t>(Mary_e))'/<<e,t>,t> and '⟦[[saw] him]⟧ = (λ x_e: Saw_<(e,e),t>(x_e, x_e))'/<e,t> conflict (mode: Predicate Modification), ⟦[mary2 [[saw] him]]⟧ = Type mismatch: '⟦mary2⟧ = (λ f_<e,t>: f_<e,t>(Mary_e))'/<<e,t>,t> and '⟦[[saw] him]⟧ = (λ x_e: Saw_<(e,e),t>(x_e, x_e))'/<e,t> conflict (mode: Predicate Abstraction), ⟦[[[saw] him] mary2]⟧ = Type mismatch: '⟦[[saw] him]⟧ = (λ x_e: Saw_<(e,e),t>(x_e, x_e))'/<e,t> and '⟦mary2⟧ = (λ f_<e,t>: f_<e,t>(Mary_e))'/<<e,t>,t> conflict (mode: Predicate Abstraction)])"
      ]
     },
     "execution_count": 26,
     "metadata": {},
     "output_type": "execute_result"
    }
   ],
   "source": [
    "r = mary2 * (saw * him)\n",
    "r"
   ]
  },
  {
   "cell_type": "markdown",
   "metadata": {},
   "source": [
    "Note that `r[1]` is effectively a reflexive reading, which is a condition B violation for the pronoun *him*.  That is, this reading is generated by having the subject bind the direct object (via the z-rule).  Nothing in the system at the moment rules this out, and so these typeshifts alone will overgenerate reflexive readings.\n",
    "\n",
    "`r[0]` is of course the reading we hoped to generate, where `him` is free."
   ]
  },
  {
   "cell_type": "code",
   "execution_count": 27,
   "metadata": {
    "collapsed": false
   },
   "outputs": [
    {
     "data": {
      "text/html": [
       "<div align=\"center\" style=\"display:table; margin:5px; border-collapse: collapse;border: 1px solid #848482;\"><div align=\"center\" style=\"display:table-row;\"><div style=\"display:table-cell;vertical-align:middle;\"><div style=\"display: table;\"><div style=\"display:table-cell;vertical-align:middle;padding: 5px;\"><div align=\"center\" style=\"display:table; margin:5px; border-collapse: collapse;border: 1px solid #848482;\"><div align=\"center\" style=\"display:table-row;\"><div style=\"display:table-cell;vertical-align:middle;\"><div style=\"display: table;\"><div style=\"display:table-cell;vertical-align:middle;padding: 5px;\"><div align=\"left\" style=\"padding: 5px;display: inline-block;\"><div align=\"left\" style=\"padding: 5px;display: inline-block;\"><div><div align=\"center\" style=\"display: block;\"><span>$[\\![\\mathbf{\\text{mary2}}]\\!]^{}_{\\left\\langle{}\\left\\langle{}e,t\\right\\rangle{},t\\right\\rangle{}}$</span></div><div align=\"center\" style=\"display: block;\"><span>$\\lambda{} f_{\\left\\langle{}e,t\\right\\rangle{}} \\: . \\: {f}({Mary}_{e})$</span></div></div></div></div></div></div></div><div style=\"display:table-cell;vertical-align:middle;border-left:1px solid #848482;padding:0.5em\"><div style=\"color:blue;\"><b>[<span>g_e-shift</span>]</b></div></div></div><div align=\"center\" style=\"display:table-row; border:1px solid #848482;padding: 5px;\"><div align=\"center\" style=\"padding: 5px;display: inline-block;\"><div><div align=\"center\" style=\"display: block;\"><span>$[\\![\\mathbf{\\text{[mary2]}}]\\!]^{}_{\\left\\langle{}\\left\\langle{}e,\\left\\langle{}e,t\\right\\rangle{}\\right\\rangle{},\\left\\langle{}e,t\\right\\rangle{}\\right\\rangle{}}$</span></div><div align=\"center\" style=\"display: block;\"><span>$\\lambda{} f_{\\left\\langle{}e,\\left\\langle{}e,t\\right\\rangle{}\\right\\rangle{}} \\: . \\: \\lambda{} x_{e} \\: . \\: {f}({x})({Mary}_{e})$</span></div></div></div></div></div></div><div style=\"align: center; vertical-align: middle; display: table-cell;\"><span style=\"padding:1em;\">$\\circ$</span></div><div style=\"display:table-cell;vertical-align:middle;padding: 5px;\"><div align=\"center\" style=\"display:table; margin:5px; border-collapse: collapse;border: 1px solid #848482;\"><div align=\"center\" style=\"display:table-row;\"><div style=\"display:table-cell;vertical-align:middle;\"><div style=\"display: table;\"><div style=\"display:table-cell;vertical-align:middle;padding: 5px;\"><div align=\"center\" style=\"display:table; margin:5px; border-collapse: collapse;border: 1px solid #848482;\"><div align=\"center\" style=\"display:table-row;\"><div style=\"display:table-cell;vertical-align:middle;\"><div style=\"display: table;\"><div style=\"display:table-cell;vertical-align:middle;padding: 5px;\"><div align=\"left\" style=\"padding: 5px;display: inline-block;\"><div align=\"left\" style=\"padding: 5px;display: inline-block;\"><div><div align=\"center\" style=\"display: block;\"><span>$[\\![\\mathbf{\\text{saw}}]\\!]^{}_{\\left\\langle{}e,\\left\\langle{}e,t\\right\\rangle{}\\right\\rangle{}}$</span></div><div align=\"center\" style=\"display: block;\"><span>$\\lambda{} x_{e} \\: . \\: \\lambda{} y_{e} \\: . \\: {Saw}({y}, {x})$</span></div></div></div></div></div></div></div><div style=\"display:table-cell;vertical-align:middle;border-left:1px solid #848482;padding:0.5em\"><div style=\"color:blue;\"><b>[<span>g_e-shift</span>]</b></div></div></div><div align=\"center\" style=\"display:table-row; border:1px solid #848482;padding: 5px;\"><div align=\"center\" style=\"padding: 5px;display: inline-block;\"><div><div align=\"center\" style=\"display: block;\"><span>$[\\![\\mathbf{\\text{[saw]}}]\\!]^{}_{\\left\\langle{}\\left\\langle{}e,e\\right\\rangle{},\\left\\langle{}e,\\left\\langle{}e,t\\right\\rangle{}\\right\\rangle{}\\right\\rangle{}}$</span></div><div align=\"center\" style=\"display: block;\"><span>$\\lambda{} f_{\\left\\langle{}e,e\\right\\rangle{}} \\: . \\: \\lambda{} x_{e} \\: . \\: \\lambda{} y_{e} \\: . \\: {Saw}({y}, {f}({x}))$</span></div></div></div></div></div></div><div style=\"align: center; vertical-align: middle; display: table-cell;\"><span style=\"padding:1em;\">$\\circ$</span></div><div style=\"display:table-cell;vertical-align:middle;padding: 5px;\"><div align=\"left\" style=\"padding: 5px;display: inline-block;\"><div align=\"left\" style=\"padding: 5px;display: inline-block;\"><div><div align=\"center\" style=\"display: block;\"><span>$[\\![\\mathbf{\\text{him}}]\\!]^{}_{\\left\\langle{}e,e\\right\\rangle{}}$</span></div><div align=\"center\" style=\"display: block;\"><span>$\\lambda{} x_{e} \\: . \\: {x}$</span></div></div></div></div></div></div></div><div style=\"display:table-cell;vertical-align:middle;border-left:1px solid #848482;padding:0.5em\"><div style=\"color:blue;\"><b>[<span>FA</span>]</b></div></div></div><div align=\"center\" style=\"display:table-row; border:1px solid #848482;padding: 5px;\"><div align=\"center\" style=\"padding: 5px;display: inline-block;\"><div><div align=\"center\" style=\"display: block;\"><span>$[\\![\\mathbf{\\text{[[saw] him]}}]\\!]^{}_{\\left\\langle{}e,\\left\\langle{}e,t\\right\\rangle{}\\right\\rangle{}}$</span></div><div align=\"center\" style=\"display: block;\"><span>$\\lambda{} x_{e} \\: . \\: \\lambda{} y_{e} \\: . \\: {Saw}({y}, {x})$</span></div></div></div></div></div></div></div></div><div style=\"display:table-cell;vertical-align:middle;border-left:1px solid #848482;padding:0.5em\"><div style=\"color:blue;\"><b>[<span>FA</span>]</b></div></div></div><div align=\"center\" style=\"display:table-row; border:1px solid #848482;padding: 5px;\"><div align=\"center\" style=\"padding: 5px;display: inline-block;\"><div><div align=\"center\" style=\"display: block;\"><span>$[\\![\\mathbf{\\text{[[mary2] [[saw] him]]}}]\\!]^{}_{\\left\\langle{}e,t\\right\\rangle{}}$</span></div><div align=\"center\" style=\"display: block;\"><span>$\\lambda{} x_{e} \\: . \\: {Saw}({Mary}_{e}, {x})$</span></div></div></div></div></div>"
      ],
      "text/plain": [
       "<lamb.display.DisplayNode at 0x10a1199b0>"
      ]
     },
     "execution_count": 27,
     "metadata": {},
     "output_type": "execute_result"
    }
   ],
   "source": [
    "r[0].tree()"
   ]
  },
  {
   "cell_type": "code",
   "execution_count": 28,
   "metadata": {
    "collapsed": false
   },
   "outputs": [
    {
     "data": {
      "text/html": [
       "<div align=\"center\" style=\"display:table; margin:5px; border-collapse: collapse;border: 1px solid #848482;\"><div align=\"center\" style=\"display:table-row;\"><div style=\"display:table-cell;vertical-align:middle;\"><div style=\"display: table;\"><div style=\"display:table-cell;vertical-align:middle;padding: 5px;\"><div align=\"left\" style=\"padding: 5px;display: inline-block;\"><div align=\"left\" style=\"padding: 5px;display: inline-block;\"><div><div align=\"center\" style=\"display: block;\"><span>$[\\![\\mathbf{\\text{mary2}}]\\!]^{}_{\\left\\langle{}\\left\\langle{}e,t\\right\\rangle{},t\\right\\rangle{}}$</span></div><div align=\"center\" style=\"display: block;\"><span>$\\lambda{} f_{\\left\\langle{}e,t\\right\\rangle{}} \\: . \\: {f}({Mary}_{e})$</span></div></div></div></div></div><div style=\"align: center; vertical-align: middle; display: table-cell;\"><span style=\"padding:1em;\">$\\circ$</span></div><div style=\"display:table-cell;vertical-align:middle;padding: 5px;\"><div align=\"center\" style=\"display:table; margin:5px; border-collapse: collapse;border: 1px solid #848482;\"><div align=\"center\" style=\"display:table-row;\"><div style=\"display:table-cell;vertical-align:middle;\"><div style=\"display: table;\"><div style=\"display:table-cell;vertical-align:middle;padding: 5px;\"><div align=\"center\" style=\"display:table; margin:5px; border-collapse: collapse;border: 1px solid #848482;\"><div align=\"center\" style=\"display:table-row;\"><div style=\"display:table-cell;vertical-align:middle;\"><div style=\"display: table;\"><div style=\"display:table-cell;vertical-align:middle;padding: 5px;\"><div align=\"left\" style=\"padding: 5px;display: inline-block;\"><div align=\"left\" style=\"padding: 5px;display: inline-block;\"><div><div align=\"center\" style=\"display: block;\"><span>$[\\![\\mathbf{\\text{saw}}]\\!]^{}_{\\left\\langle{}e,\\left\\langle{}e,t\\right\\rangle{}\\right\\rangle{}}$</span></div><div align=\"center\" style=\"display: block;\"><span>$\\lambda{} x_{e} \\: . \\: \\lambda{} y_{e} \\: . \\: {Saw}({y}, {x})$</span></div></div></div></div></div></div></div><div style=\"display:table-cell;vertical-align:middle;border-left:1px solid #848482;padding:0.5em\"><div style=\"color:blue;\"><b>[<span>z-shift</span>]</b></div></div></div><div align=\"center\" style=\"display:table-row; border:1px solid #848482;padding: 5px;\"><div align=\"center\" style=\"padding: 5px;display: inline-block;\"><div><div align=\"center\" style=\"display: block;\"><span>$[\\![\\mathbf{\\text{[saw]}}]\\!]^{}_{\\left\\langle{}\\left\\langle{}e,e\\right\\rangle{},\\left\\langle{}e,t\\right\\rangle{}\\right\\rangle{}}$</span></div><div align=\"center\" style=\"display: block;\"><span>$\\lambda{} g_{\\left\\langle{}e,e\\right\\rangle{}} \\: . \\: \\lambda{} x_{e} \\: . \\: {Saw}({x}, {g}({x}))$</span></div></div></div></div></div></div><div style=\"align: center; vertical-align: middle; display: table-cell;\"><span style=\"padding:1em;\">$\\circ$</span></div><div style=\"display:table-cell;vertical-align:middle;padding: 5px;\"><div align=\"left\" style=\"padding: 5px;display: inline-block;\"><div align=\"left\" style=\"padding: 5px;display: inline-block;\"><div><div align=\"center\" style=\"display: block;\"><span>$[\\![\\mathbf{\\text{him}}]\\!]^{}_{\\left\\langle{}e,e\\right\\rangle{}}$</span></div><div align=\"center\" style=\"display: block;\"><span>$\\lambda{} x_{e} \\: . \\: {x}$</span></div></div></div></div></div></div></div><div style=\"display:table-cell;vertical-align:middle;border-left:1px solid #848482;padding:0.5em\"><div style=\"color:blue;\"><b>[<span>FA</span>]</b></div></div></div><div align=\"center\" style=\"display:table-row; border:1px solid #848482;padding: 5px;\"><div align=\"center\" style=\"padding: 5px;display: inline-block;\"><div><div align=\"center\" style=\"display: block;\"><span>$[\\![\\mathbf{\\text{[[saw] him]}}]\\!]^{}_{\\left\\langle{}e,t\\right\\rangle{}}$</span></div><div align=\"center\" style=\"display: block;\"><span>$\\lambda{} x_{e} \\: . \\: {Saw}({x}, {x})$</span></div></div></div></div></div></div></div></div><div style=\"display:table-cell;vertical-align:middle;border-left:1px solid #848482;padding:0.5em\"><div style=\"color:blue;\"><b>[<span>FA</span>]</b></div></div></div><div align=\"center\" style=\"display:table-row; border:1px solid #848482;padding: 5px;\"><div align=\"center\" style=\"padding: 5px;display: inline-block;\"><div><div align=\"center\" style=\"display: block;\"><span>$[\\![\\mathbf{\\text{[mary2 [[saw] him]]}}]\\!]^{}_{t}$</span></div><div align=\"center\" style=\"display: block;\"><span>${Saw}({Mary}_{e}, {Mary}_{e})$</span></div></div></div></div></div>"
      ],
      "text/plain": [
       "<lamb.display.DisplayNode at 0x10a383630>"
      ]
     },
     "execution_count": 28,
     "metadata": {},
     "output_type": "execute_result"
    }
   ],
   "source": [
    "r[1].tree()"
   ]
  },
  {
   "cell_type": "code",
   "execution_count": 29,
   "metadata": {
    "collapsed": false
   },
   "outputs": [],
   "source": []
  },
  {
   "cell_type": "code",
   "execution_count": 29,
   "metadata": {
    "collapsed": false
   },
   "outputs": [
    {
     "name": "stdout",
     "output_type": "stream",
     "text": [
      "INFO (meta): Coerced guessed type for 'Man_t' into <e,t>, to match argument 'x_e'\n"
     ]
    },
    {
     "data": {
      "text/html": [
       "$[\\![\\mathbf{\\text{every}}]\\!]^{}_{\\left\\langle{}\\left\\langle{}e,t\\right\\rangle{},\\left\\langle{}\\left\\langle{}e,t\\right\\rangle{},t\\right\\rangle{}\\right\\rangle{}} \\:=\\: $$\\lambda{} f_{\\left\\langle{}e,t\\right\\rangle{}} \\: . \\: \\lambda{} g_{\\left\\langle{}e,t\\right\\rangle{}} \\: . \\: \\forall{} x_{e} \\: . \\: ({f}({x}) \\rightarrow{} {g}({x}))$<br />\n",
       "$[\\![\\mathbf{\\text{man}}]\\!]^{}_{\\left\\langle{}e,t\\right\\rangle{}} \\:=\\: $$\\lambda{} x_{e} \\: . \\: {Man}({x})$"
      ],
      "text/latex": [
       "$[\\![\\mathbf{\\text{every}}]\\!]^{}_{\\left\\langle{}\\left\\langle{}e,t\\right\\rangle{},\\left\\langle{}\\left\\langle{}e,t\\right\\rangle{},t\\right\\rangle{}\\right\\rangle{}} \\:=\\: $$\\lambda{} f_{\\left\\langle{}e,t\\right\\rangle{}} \\: . \\: \\lambda{} g_{\\left\\langle{}e,t\\right\\rangle{}} \\: . \\: \\forall{} x_{e} \\: . \\: ({f}({x}) \\rightarrow{} {g}({x}))$<br />\n",
       "$[\\![\\mathbf{\\text{man}}]\\!]^{}_{\\left\\langle{}e,t\\right\\rangle{}} \\:=\\: $$\\lambda{} x_{e} \\: . \\: {Man}({x})$"
      ],
      "text/plain": [
       "$[\\![\\mathbf{\\text{every}}]\\!]^{}_{\\left\\langle{}\\left\\langle{}e,t\\right\\rangle{},\\left\\langle{}\\left\\langle{}e,t\\right\\rangle{},t\\right\\rangle{}\\right\\rangle{}} \\:=\\: $$\\lambda{} f_{\\left\\langle{}e,t\\right\\rangle{}} \\: . \\: \\lambda{} g_{\\left\\langle{}e,t\\right\\rangle{}} \\: . \\: \\forall{} x_{e} \\: . \\: ({f}({x}) \\rightarrow{} {g}({x}))$<br />\n",
       "$[\\![\\mathbf{\\text{man}}]\\!]^{}_{\\left\\langle{}e,t\\right\\rangle{}} \\:=\\: $$\\lambda{} x_{e} \\: . \\: {Man}({x})$"
      ]
     },
     "execution_count": 29,
     "metadata": {},
     "output_type": "execute_result"
    }
   ],
   "source": [
    "%%lamb\n",
    "||every|| = L f_<e,t> : L g_<e,t> : Forall x_e : f(x) >> g(x)\n",
    "||man|| = L x_e : Man(x)"
   ]
  },
  {
   "cell_type": "code",
   "execution_count": 30,
   "metadata": {
    "collapsed": false
   },
   "outputs": [
    {
     "data": {
      "text/html": [
       "1 composition path.  Result:\n",
       "<br />&nbsp;&nbsp;&nbsp;&nbsp;[0]: $[\\![\\mathbf{\\text{[every man]}}]\\!]^{}_{\\left\\langle{}\\left\\langle{}e,t\\right\\rangle{},t\\right\\rangle{}} \\:=\\: $$\\lambda{} g_{\\left\\langle{}e,t\\right\\rangle{}} \\: . \\: \\forall{} x_{e} \\: . \\: ({Man}({x}) \\rightarrow{} {g}({x}))$"
      ],
      "text/plain": [
       "CompositionResult(results=[⟦[every man]⟧ = (λ g_<e,t>: (Forall x_e: (Man_<e,t>(x_e) >> g_<e,t>(x_e))))], failures=[⟦[man every]⟧ = Type mismatch: '⟦man⟧ = (λ x_e: Man_<e,t>(x_e))'/<e,t> and '⟦every⟧ = (λ f_<e,t>: (λ g_<e,t>: (Forall x_e: (f_<e,t>(x_e) >> g_<e,t>(x_e)))))'/<<e,t>,<<e,t>,t>> conflict (mode: Function Application), ⟦[every man]⟧ = Type mismatch: '⟦every⟧ = (λ f_<e,t>: (λ g_<e,t>: (Forall x_e: (f_<e,t>(x_e) >> g_<e,t>(x_e)))))'/<<e,t>,<<e,t>,t>> and '⟦man⟧ = (λ x_e: Man_<e,t>(x_e))'/<e,t> conflict (mode: Predicate Modification), ⟦[every man]⟧ = Type mismatch: '⟦every⟧ = (λ f_<e,t>: (λ g_<e,t>: (Forall x_e: (f_<e,t>(x_e) >> g_<e,t>(x_e)))))'/<<e,t>,<<e,t>,t>> and '⟦man⟧ = (λ x_e: Man_<e,t>(x_e))'/<e,t> conflict (mode: Predicate Abstraction), ⟦[man every]⟧ = Type mismatch: '⟦man⟧ = (λ x_e: Man_<e,t>(x_e))'/<e,t> and '⟦every⟧ = (λ f_<e,t>: (λ g_<e,t>: (Forall x_e: (f_<e,t>(x_e) >> g_<e,t>(x_e)))))'/<<e,t>,<<e,t>,t>> conflict (mode: Predicate Abstraction)])"
      ]
     },
     "execution_count": 30,
     "metadata": {},
     "output_type": "execute_result"
    }
   ],
   "source": [
    "dp = every * man\n",
    "dp"
   ]
  },
  {
   "cell_type": "code",
   "execution_count": 31,
   "metadata": {
    "collapsed": false
   },
   "outputs": [
    {
     "data": {
      "text/html": [
       "2 composition paths. Results:\n",
       "<br />&nbsp;&nbsp;&nbsp;&nbsp;[0]: $[\\![\\mathbf{\\text{[[[every man]] [[saw] him]]}}]\\!]^{}_{\\left\\langle{}e,t\\right\\rangle{}} \\:=\\: $$\\lambda{} x_{e} \\: . \\: \\forall{} x1_{e} \\: . \\: ({Man}({x1}) \\rightarrow{} {Saw}({x1}, {x}))$\n",
       "<br />&nbsp;&nbsp;&nbsp;&nbsp;[1]: $[\\![\\mathbf{\\text{[[every man] [[saw] him]]}}]\\!]^{}_{t} \\:=\\: $$\\forall{} x_{e} \\: . \\: ({Man}({x}) \\rightarrow{} {Saw}({x}, {x}))$"
      ],
      "text/plain": [
       "CompositionResult(results=[⟦[[[every man]] [[saw] him]]⟧ = (λ x_e: (Forall x1_e: (Man_<e,t>(x1_e) >> Saw_<(e,e),t>(x1_e, x_e)))), ⟦[[every man] [[saw] him]]⟧ = (Forall x_e: (Man_<e,t>(x_e) >> Saw_<(e,e),t>(x_e, x_e)))], failures=[⟦[[[every man]] [[[saw] him]]]⟧ = Type mismatch: '⟦[[every man]]⟧ = (λ f_<e,<e,t>>: (λ x_e: (Forall x1_e: (Man_<e,t>(x1_e) >> f_<e,<e,t>>(x_e)(x1_e)))))'/<<e,<e,t>>,<e,t>> and '⟦[[[saw] him]]⟧ = (λ f_<e,e>: (λ x_e: (λ y_e: Saw_<(e,e),t>(y_e, f_<e,e>(x_e)))))'/<<e,e>,<e,<e,t>>> conflict (mode: Function Application), ⟦[[[[saw] him]] [[every man]]]⟧ = Type mismatch: '⟦[[[saw] him]]⟧ = (λ f_<e,e>: (λ x_e: (λ y_e: Saw_<(e,e),t>(y_e, f_<e,e>(x_e)))))'/<<e,e>,<e,<e,t>>> and '⟦[[every man]]⟧ = (λ f_<e,<e,t>>: (λ x_e: (Forall x1_e: (Man_<e,t>(x1_e) >> f_<e,<e,t>>(x_e)(x1_e)))))'/<<e,<e,t>>,<e,t>> conflict (mode: Function Application), ⟦[[[every man]] [[[saw] him]]]⟧ = Type mismatch: '⟦[[every man]]⟧ = (λ f_<e,<e,t>>: (λ x_e: (Forall x1_e: (Man_<e,t>(x1_e) >> f_<e,<e,t>>(x_e)(x1_e)))))'/<<e,<e,t>>,<e,t>> and '⟦[[[saw] him]]⟧ = (λ f_<e,e>: (λ x_e: (λ y_e: Saw_<(e,e),t>(y_e, f_<e,e>(x_e)))))'/<<e,e>,<e,<e,t>>> conflict (mode: Predicate Modification), ⟦[[[every man]] [[[saw] him]]]⟧ = Type mismatch: '⟦[[every man]]⟧ = (λ f_<e,<e,t>>: (λ x_e: (Forall x1_e: (Man_<e,t>(x1_e) >> f_<e,<e,t>>(x_e)(x1_e)))))'/<<e,<e,t>>,<e,t>> and '⟦[[[saw] him]]⟧ = (λ f_<e,e>: (λ x_e: (λ y_e: Saw_<(e,e),t>(y_e, f_<e,e>(x_e)))))'/<<e,e>,<e,<e,t>>> conflict (mode: Predicate Abstraction), ⟦[[[[saw] him]] [[every man]]]⟧ = Type mismatch: '⟦[[[saw] him]]⟧ = (λ f_<e,e>: (λ x_e: (λ y_e: Saw_<(e,e),t>(y_e, f_<e,e>(x_e)))))'/<<e,e>,<e,<e,t>>> and '⟦[[every man]]⟧ = (λ f_<e,<e,t>>: (λ x_e: (Forall x1_e: (Man_<e,t>(x1_e) >> f_<e,<e,t>>(x_e)(x1_e)))))'/<<e,<e,t>>,<e,t>> conflict (mode: Predicate Abstraction), ⟦[[[every man]] [[[saw] him]]]⟧ = Type mismatch: '⟦[[every man]]⟧ = (λ f_<e,<e,t>>: (λ x_e: (Forall x1_e: (Man_<e,t>(x1_e) >> f_<e,<e,t>>(x_e)(x1_e)))))'/<<e,<e,t>>,<e,t>> and '⟦[[[saw] him]]⟧ = (λ f_<<e,t>,e>: (λ x_<e,t>: (λ y_e: Saw_<(e,e),t>(y_e, f_<<e,t>,e>(x_<e,t>)))))'/<<<e,t>,e>,<<e,t>,<e,t>>> conflict (mode: Function Application), ⟦[[[[saw] him]] [[every man]]]⟧ = Type mismatch: '⟦[[[saw] him]]⟧ = (λ f_<<e,t>,e>: (λ x_<e,t>: (λ y_e: Saw_<(e,e),t>(y_e, f_<<e,t>,e>(x_<e,t>)))))'/<<<e,t>,e>,<<e,t>,<e,t>>> and '⟦[[every man]]⟧ = (λ f_<e,<e,t>>: (λ x_e: (Forall x1_e: (Man_<e,t>(x1_e) >> f_<e,<e,t>>(x_e)(x1_e)))))'/<<e,<e,t>>,<e,t>> conflict (mode: Function Application), ⟦[[[every man]] [[[saw] him]]]⟧ = Type mismatch: '⟦[[every man]]⟧ = (λ f_<e,<e,t>>: (λ x_e: (Forall x1_e: (Man_<e,t>(x1_e) >> f_<e,<e,t>>(x_e)(x1_e)))))'/<<e,<e,t>>,<e,t>> and '⟦[[[saw] him]]⟧ = (λ f_<<e,t>,e>: (λ x_<e,t>: (λ y_e: Saw_<(e,e),t>(y_e, f_<<e,t>,e>(x_<e,t>)))))'/<<<e,t>,e>,<<e,t>,<e,t>>> conflict (mode: Predicate Modification), ⟦[[[every man]] [[[saw] him]]]⟧ = Type mismatch: '⟦[[every man]]⟧ = (λ f_<e,<e,t>>: (λ x_e: (Forall x1_e: (Man_<e,t>(x1_e) >> f_<e,<e,t>>(x_e)(x1_e)))))'/<<e,<e,t>>,<e,t>> and '⟦[[[saw] him]]⟧ = (λ f_<<e,t>,e>: (λ x_<e,t>: (λ y_e: Saw_<(e,e),t>(y_e, f_<<e,t>,e>(x_<e,t>)))))'/<<<e,t>,e>,<<e,t>,<e,t>>> conflict (mode: Predicate Abstraction), ⟦[[[[saw] him]] [[every man]]]⟧ = Type mismatch: '⟦[[[saw] him]]⟧ = (λ f_<<e,t>,e>: (λ x_<e,t>: (λ y_e: Saw_<(e,e),t>(y_e, f_<<e,t>,e>(x_<e,t>)))))'/<<<e,t>,e>,<<e,t>,<e,t>>> and '⟦[[every man]]⟧ = (λ f_<e,<e,t>>: (λ x_e: (Forall x1_e: (Man_<e,t>(x1_e) >> f_<e,<e,t>>(x_e)(x1_e)))))'/<<e,<e,t>>,<e,t>> conflict (mode: Predicate Abstraction), ⟦[[[every man]] [[[saw] him]]]⟧ = Type mismatch: '⟦[[every man]]⟧ = (λ f_<e,<e,t>>: (λ x_e: (Forall x1_e: (Man_<e,t>(x1_e) >> f_<e,<e,t>>(x_e)(x1_e)))))'/<<e,<e,t>>,<e,t>> and '⟦[[[saw] him]]⟧ = (λ g_<e,e>: (λ x_e: Saw_<(e,e),t>(x_e, g_<e,e>(x_e))))'/<<e,e>,<e,t>> conflict (mode: Function Application), ⟦[[[[saw] him]] [[every man]]]⟧ = Type mismatch: '⟦[[[saw] him]]⟧ = (λ g_<e,e>: (λ x_e: Saw_<(e,e),t>(x_e, g_<e,e>(x_e))))'/<<e,e>,<e,t>> and '⟦[[every man]]⟧ = (λ f_<e,<e,t>>: (λ x_e: (Forall x1_e: (Man_<e,t>(x1_e) >> f_<e,<e,t>>(x_e)(x1_e)))))'/<<e,<e,t>>,<e,t>> conflict (mode: Function Application), ⟦[[[every man]] [[[saw] him]]]⟧ = Type mismatch: '⟦[[every man]]⟧ = (λ f_<e,<e,t>>: (λ x_e: (Forall x1_e: (Man_<e,t>(x1_e) >> f_<e,<e,t>>(x_e)(x1_e)))))'/<<e,<e,t>>,<e,t>> and '⟦[[[saw] him]]⟧ = (λ g_<e,e>: (λ x_e: Saw_<(e,e),t>(x_e, g_<e,e>(x_e))))'/<<e,e>,<e,t>> conflict (mode: Predicate Modification), ⟦[[[every man]] [[[saw] him]]]⟧ = Type mismatch: '⟦[[every man]]⟧ = (λ f_<e,<e,t>>: (λ x_e: (Forall x1_e: (Man_<e,t>(x1_e) >> f_<e,<e,t>>(x_e)(x1_e)))))'/<<e,<e,t>>,<e,t>> and '⟦[[[saw] him]]⟧ = (λ g_<e,e>: (λ x_e: Saw_<(e,e),t>(x_e, g_<e,e>(x_e))))'/<<e,e>,<e,t>> conflict (mode: Predicate Abstraction), ⟦[[[[saw] him]] [[every man]]]⟧ = Type mismatch: '⟦[[[saw] him]]⟧ = (λ g_<e,e>: (λ x_e: Saw_<(e,e),t>(x_e, g_<e,e>(x_e))))'/<<e,e>,<e,t>> and '⟦[[every man]]⟧ = (λ f_<e,<e,t>>: (λ x_e: (Forall x1_e: (Man_<e,t>(x1_e) >> f_<e,<e,t>>(x_e)(x1_e)))))'/<<e,<e,t>>,<e,t>> conflict (mode: Predicate Abstraction), ⟦[[[saw] him] [[every man]]]⟧ = Type mismatch: '⟦[[saw] him]⟧ = (λ x_e: (λ y_e: Saw_<(e,e),t>(y_e, x_e)))'/<e,<e,t>> and '⟦[[every man]]⟧ = (λ f_<e,<e,t>>: (λ x_e: (Forall x1_e: (Man_<e,t>(x1_e) >> f_<e,<e,t>>(x_e)(x1_e)))))'/<<e,<e,t>>,<e,t>> conflict (mode: Function Application), ⟦[[[every man]] [[saw] him]]⟧ = Type mismatch: '⟦[[every man]]⟧ = (λ f_<e,<e,t>>: (λ x_e: (Forall x1_e: (Man_<e,t>(x1_e) >> f_<e,<e,t>>(x_e)(x1_e)))))'/<<e,<e,t>>,<e,t>> and '⟦[[saw] him]⟧ = (λ x_e: (λ y_e: Saw_<(e,e),t>(y_e, x_e)))'/<e,<e,t>> conflict (mode: Predicate Modification), ⟦[[[every man]] [[saw] him]]⟧ = Type mismatch: '⟦[[every man]]⟧ = (λ f_<e,<e,t>>: (λ x_e: (Forall x1_e: (Man_<e,t>(x1_e) >> f_<e,<e,t>>(x_e)(x1_e)))))'/<<e,<e,t>>,<e,t>> and '⟦[[saw] him]⟧ = (λ x_e: (λ y_e: Saw_<(e,e),t>(y_e, x_e)))'/<e,<e,t>> conflict (mode: Predicate Abstraction), ⟦[[[saw] him] [[every man]]]⟧ = Type mismatch: '⟦[[saw] him]⟧ = (λ x_e: (λ y_e: Saw_<(e,e),t>(y_e, x_e)))'/<e,<e,t>> and '⟦[[every man]]⟧ = (λ f_<e,<e,t>>: (λ x_e: (Forall x1_e: (Man_<e,t>(x1_e) >> f_<e,<e,t>>(x_e)(x1_e)))))'/<<e,<e,t>>,<e,t>> conflict (mode: Predicate Abstraction), ⟦[[[every man]] [[[saw] him]]]⟧ = Type mismatch: '⟦[[every man]]⟧ = (λ f_<<e,t>,<e,t>>: (λ x_<e,t>: (Forall x1_e: (Man_<e,t>(x1_e) >> f_<<e,t>,<e,t>>(x_<e,t>)(x1_e)))))'/<<<e,t>,<e,t>>,<<e,t>,t>> and '⟦[[[saw] him]]⟧ = (λ f_<e,e>: (λ x_e: (λ y_e: Saw_<(e,e),t>(y_e, f_<e,e>(x_e)))))'/<<e,e>,<e,<e,t>>> conflict (mode: Function Application), ⟦[[[[saw] him]] [[every man]]]⟧ = Type mismatch: '⟦[[[saw] him]]⟧ = (λ f_<e,e>: (λ x_e: (λ y_e: Saw_<(e,e),t>(y_e, f_<e,e>(x_e)))))'/<<e,e>,<e,<e,t>>> and '⟦[[every man]]⟧ = (λ f_<<e,t>,<e,t>>: (λ x_<e,t>: (Forall x1_e: (Man_<e,t>(x1_e) >> f_<<e,t>,<e,t>>(x_<e,t>)(x1_e)))))'/<<<e,t>,<e,t>>,<<e,t>,t>> conflict (mode: Function Application), ⟦[[[every man]] [[[saw] him]]]⟧ = Type mismatch: '⟦[[every man]]⟧ = (λ f_<<e,t>,<e,t>>: (λ x_<e,t>: (Forall x1_e: (Man_<e,t>(x1_e) >> f_<<e,t>,<e,t>>(x_<e,t>)(x1_e)))))'/<<<e,t>,<e,t>>,<<e,t>,t>> and '⟦[[[saw] him]]⟧ = (λ f_<e,e>: (λ x_e: (λ y_e: Saw_<(e,e),t>(y_e, f_<e,e>(x_e)))))'/<<e,e>,<e,<e,t>>> conflict (mode: Predicate Modification), ⟦[[[every man]] [[[saw] him]]]⟧ = Type mismatch: '⟦[[every man]]⟧ = (λ f_<<e,t>,<e,t>>: (λ x_<e,t>: (Forall x1_e: (Man_<e,t>(x1_e) >> f_<<e,t>,<e,t>>(x_<e,t>)(x1_e)))))'/<<<e,t>,<e,t>>,<<e,t>,t>> and '⟦[[[saw] him]]⟧ = (λ f_<e,e>: (λ x_e: (λ y_e: Saw_<(e,e),t>(y_e, f_<e,e>(x_e)))))'/<<e,e>,<e,<e,t>>> conflict (mode: Predicate Abstraction), ⟦[[[[saw] him]] [[every man]]]⟧ = Type mismatch: '⟦[[[saw] him]]⟧ = (λ f_<e,e>: (λ x_e: (λ y_e: Saw_<(e,e),t>(y_e, f_<e,e>(x_e)))))'/<<e,e>,<e,<e,t>>> and '⟦[[every man]]⟧ = (λ f_<<e,t>,<e,t>>: (λ x_<e,t>: (Forall x1_e: (Man_<e,t>(x1_e) >> f_<<e,t>,<e,t>>(x_<e,t>)(x1_e)))))'/<<<e,t>,<e,t>>,<<e,t>,t>> conflict (mode: Predicate Abstraction), ⟦[[[every man]] [[[saw] him]]]⟧ = Type mismatch: '⟦[[every man]]⟧ = (λ f_<<e,t>,<e,t>>: (λ x_<e,t>: (Forall x1_e: (Man_<e,t>(x1_e) >> f_<<e,t>,<e,t>>(x_<e,t>)(x1_e)))))'/<<<e,t>,<e,t>>,<<e,t>,t>> and '⟦[[[saw] him]]⟧ = (λ f_<<e,t>,e>: (λ x_<e,t>: (λ y_e: Saw_<(e,e),t>(y_e, f_<<e,t>,e>(x_<e,t>)))))'/<<<e,t>,e>,<<e,t>,<e,t>>> conflict (mode: Function Application), ⟦[[[[saw] him]] [[every man]]]⟧ = Type mismatch: '⟦[[[saw] him]]⟧ = (λ f_<<e,t>,e>: (λ x_<e,t>: (λ y_e: Saw_<(e,e),t>(y_e, f_<<e,t>,e>(x_<e,t>)))))'/<<<e,t>,e>,<<e,t>,<e,t>>> and '⟦[[every man]]⟧ = (λ f_<<e,t>,<e,t>>: (λ x_<e,t>: (Forall x1_e: (Man_<e,t>(x1_e) >> f_<<e,t>,<e,t>>(x_<e,t>)(x1_e)))))'/<<<e,t>,<e,t>>,<<e,t>,t>> conflict (mode: Function Application), ⟦[[[every man]] [[[saw] him]]]⟧ = Type mismatch: '⟦[[every man]]⟧ = (λ f_<<e,t>,<e,t>>: (λ x_<e,t>: (Forall x1_e: (Man_<e,t>(x1_e) >> f_<<e,t>,<e,t>>(x_<e,t>)(x1_e)))))'/<<<e,t>,<e,t>>,<<e,t>,t>> and '⟦[[[saw] him]]⟧ = (λ f_<<e,t>,e>: (λ x_<e,t>: (λ y_e: Saw_<(e,e),t>(y_e, f_<<e,t>,e>(x_<e,t>)))))'/<<<e,t>,e>,<<e,t>,<e,t>>> conflict (mode: Predicate Modification), ⟦[[[every man]] [[[saw] him]]]⟧ = Type mismatch: '⟦[[every man]]⟧ = (λ f_<<e,t>,<e,t>>: (λ x_<e,t>: (Forall x1_e: (Man_<e,t>(x1_e) >> f_<<e,t>,<e,t>>(x_<e,t>)(x1_e)))))'/<<<e,t>,<e,t>>,<<e,t>,t>> and '⟦[[[saw] him]]⟧ = (λ f_<<e,t>,e>: (λ x_<e,t>: (λ y_e: Saw_<(e,e),t>(y_e, f_<<e,t>,e>(x_<e,t>)))))'/<<<e,t>,e>,<<e,t>,<e,t>>> conflict (mode: Predicate Abstraction), ⟦[[[[saw] him]] [[every man]]]⟧ = Type mismatch: '⟦[[[saw] him]]⟧ = (λ f_<<e,t>,e>: (λ x_<e,t>: (λ y_e: Saw_<(e,e),t>(y_e, f_<<e,t>,e>(x_<e,t>)))))'/<<<e,t>,e>,<<e,t>,<e,t>>> and '⟦[[every man]]⟧ = (λ f_<<e,t>,<e,t>>: (λ x_<e,t>: (Forall x1_e: (Man_<e,t>(x1_e) >> f_<<e,t>,<e,t>>(x_<e,t>)(x1_e)))))'/<<<e,t>,<e,t>>,<<e,t>,t>> conflict (mode: Predicate Abstraction), ⟦[[[every man]] [[[saw] him]]]⟧ = Type mismatch: '⟦[[every man]]⟧ = (λ f_<<e,t>,<e,t>>: (λ x_<e,t>: (Forall x1_e: (Man_<e,t>(x1_e) >> f_<<e,t>,<e,t>>(x_<e,t>)(x1_e)))))'/<<<e,t>,<e,t>>,<<e,t>,t>> and '⟦[[[saw] him]]⟧ = (λ g_<e,e>: (λ x_e: Saw_<(e,e),t>(x_e, g_<e,e>(x_e))))'/<<e,e>,<e,t>> conflict (mode: Function Application), ⟦[[[[saw] him]] [[every man]]]⟧ = Type mismatch: '⟦[[[saw] him]]⟧ = (λ g_<e,e>: (λ x_e: Saw_<(e,e),t>(x_e, g_<e,e>(x_e))))'/<<e,e>,<e,t>> and '⟦[[every man]]⟧ = (λ f_<<e,t>,<e,t>>: (λ x_<e,t>: (Forall x1_e: (Man_<e,t>(x1_e) >> f_<<e,t>,<e,t>>(x_<e,t>)(x1_e)))))'/<<<e,t>,<e,t>>,<<e,t>,t>> conflict (mode: Function Application), ⟦[[[every man]] [[[saw] him]]]⟧ = Type mismatch: '⟦[[every man]]⟧ = (λ f_<<e,t>,<e,t>>: (λ x_<e,t>: (Forall x1_e: (Man_<e,t>(x1_e) >> f_<<e,t>,<e,t>>(x_<e,t>)(x1_e)))))'/<<<e,t>,<e,t>>,<<e,t>,t>> and '⟦[[[saw] him]]⟧ = (λ g_<e,e>: (λ x_e: Saw_<(e,e),t>(x_e, g_<e,e>(x_e))))'/<<e,e>,<e,t>> conflict (mode: Predicate Modification), ⟦[[[every man]] [[[saw] him]]]⟧ = Type mismatch: '⟦[[every man]]⟧ = (λ f_<<e,t>,<e,t>>: (λ x_<e,t>: (Forall x1_e: (Man_<e,t>(x1_e) >> f_<<e,t>,<e,t>>(x_<e,t>)(x1_e)))))'/<<<e,t>,<e,t>>,<<e,t>,t>> and '⟦[[[saw] him]]⟧ = (λ g_<e,e>: (λ x_e: Saw_<(e,e),t>(x_e, g_<e,e>(x_e))))'/<<e,e>,<e,t>> conflict (mode: Predicate Abstraction), ⟦[[[[saw] him]] [[every man]]]⟧ = Type mismatch: '⟦[[[saw] him]]⟧ = (λ g_<e,e>: (λ x_e: Saw_<(e,e),t>(x_e, g_<e,e>(x_e))))'/<<e,e>,<e,t>> and '⟦[[every man]]⟧ = (λ f_<<e,t>,<e,t>>: (λ x_<e,t>: (Forall x1_e: (Man_<e,t>(x1_e) >> f_<<e,t>,<e,t>>(x_<e,t>)(x1_e)))))'/<<<e,t>,<e,t>>,<<e,t>,t>> conflict (mode: Predicate Abstraction), ⟦[[[every man]] [[saw] him]]⟧ = Type mismatch: '⟦[[every man]]⟧ = (λ f_<<e,t>,<e,t>>: (λ x_<e,t>: (Forall x1_e: (Man_<e,t>(x1_e) >> f_<<e,t>,<e,t>>(x_<e,t>)(x1_e)))))'/<<<e,t>,<e,t>>,<<e,t>,t>> and '⟦[[saw] him]⟧ = (λ x_e: (λ y_e: Saw_<(e,e),t>(y_e, x_e)))'/<e,<e,t>> conflict (mode: Function Application), ⟦[[[saw] him] [[every man]]]⟧ = Type mismatch: '⟦[[saw] him]⟧ = (λ x_e: (λ y_e: Saw_<(e,e),t>(y_e, x_e)))'/<e,<e,t>> and '⟦[[every man]]⟧ = (λ f_<<e,t>,<e,t>>: (λ x_<e,t>: (Forall x1_e: (Man_<e,t>(x1_e) >> f_<<e,t>,<e,t>>(x_<e,t>)(x1_e)))))'/<<<e,t>,<e,t>>,<<e,t>,t>> conflict (mode: Function Application), ⟦[[[every man]] [[saw] him]]⟧ = Type mismatch: '⟦[[every man]]⟧ = (λ f_<<e,t>,<e,t>>: (λ x_<e,t>: (Forall x1_e: (Man_<e,t>(x1_e) >> f_<<e,t>,<e,t>>(x_<e,t>)(x1_e)))))'/<<<e,t>,<e,t>>,<<e,t>,t>> and '⟦[[saw] him]⟧ = (λ x_e: (λ y_e: Saw_<(e,e),t>(y_e, x_e)))'/<e,<e,t>> conflict (mode: Predicate Modification), ⟦[[[every man]] [[saw] him]]⟧ = Type mismatch: '⟦[[every man]]⟧ = (λ f_<<e,t>,<e,t>>: (λ x_<e,t>: (Forall x1_e: (Man_<e,t>(x1_e) >> f_<<e,t>,<e,t>>(x_<e,t>)(x1_e)))))'/<<<e,t>,<e,t>>,<<e,t>,t>> and '⟦[[saw] him]⟧ = (λ x_e: (λ y_e: Saw_<(e,e),t>(y_e, x_e)))'/<e,<e,t>> conflict (mode: Predicate Abstraction), ⟦[[[saw] him] [[every man]]]⟧ = Type mismatch: '⟦[[saw] him]⟧ = (λ x_e: (λ y_e: Saw_<(e,e),t>(y_e, x_e)))'/<e,<e,t>> and '⟦[[every man]]⟧ = (λ f_<<e,t>,<e,t>>: (λ x_<e,t>: (Forall x1_e: (Man_<e,t>(x1_e) >> f_<<e,t>,<e,t>>(x_<e,t>)(x1_e)))))'/<<<e,t>,<e,t>>,<<e,t>,t>> conflict (mode: Predicate Abstraction), ⟦[[every man] [[[saw] him]]]⟧ = Type mismatch: '⟦[every man]⟧ = (λ g_<e,t>: (Forall x_e: (Man_<e,t>(x_e) >> g_<e,t>(x_e))))'/<<e,t>,t> and '⟦[[[saw] him]]⟧ = (λ f_<e,e>: (λ x_e: (λ y_e: Saw_<(e,e),t>(y_e, f_<e,e>(x_e)))))'/<<e,e>,<e,<e,t>>> conflict (mode: Function Application), ⟦[[[[saw] him]] [every man]]⟧ = Type mismatch: '⟦[[[saw] him]]⟧ = (λ f_<e,e>: (λ x_e: (λ y_e: Saw_<(e,e),t>(y_e, f_<e,e>(x_e)))))'/<<e,e>,<e,<e,t>>> and '⟦[every man]⟧ = (λ g_<e,t>: (Forall x_e: (Man_<e,t>(x_e) >> g_<e,t>(x_e))))'/<<e,t>,t> conflict (mode: Function Application), ⟦[[every man] [[[saw] him]]]⟧ = Type mismatch: '⟦[every man]⟧ = (λ g_<e,t>: (Forall x_e: (Man_<e,t>(x_e) >> g_<e,t>(x_e))))'/<<e,t>,t> and '⟦[[[saw] him]]⟧ = (λ f_<e,e>: (λ x_e: (λ y_e: Saw_<(e,e),t>(y_e, f_<e,e>(x_e)))))'/<<e,e>,<e,<e,t>>> conflict (mode: Predicate Modification), ⟦[[every man] [[[saw] him]]]⟧ = Type mismatch: '⟦[every man]⟧ = (λ g_<e,t>: (Forall x_e: (Man_<e,t>(x_e) >> g_<e,t>(x_e))))'/<<e,t>,t> and '⟦[[[saw] him]]⟧ = (λ f_<e,e>: (λ x_e: (λ y_e: Saw_<(e,e),t>(y_e, f_<e,e>(x_e)))))'/<<e,e>,<e,<e,t>>> conflict (mode: Predicate Abstraction), ⟦[[[[saw] him]] [every man]]⟧ = Type mismatch: '⟦[[[saw] him]]⟧ = (λ f_<e,e>: (λ x_e: (λ y_e: Saw_<(e,e),t>(y_e, f_<e,e>(x_e)))))'/<<e,e>,<e,<e,t>>> and '⟦[every man]⟧ = (λ g_<e,t>: (Forall x_e: (Man_<e,t>(x_e) >> g_<e,t>(x_e))))'/<<e,t>,t> conflict (mode: Predicate Abstraction), ⟦[[every man] [[[saw] him]]]⟧ = Type mismatch: '⟦[every man]⟧ = (λ g_<e,t>: (Forall x_e: (Man_<e,t>(x_e) >> g_<e,t>(x_e))))'/<<e,t>,t> and '⟦[[[saw] him]]⟧ = (λ f_<<e,t>,e>: (λ x_<e,t>: (λ y_e: Saw_<(e,e),t>(y_e, f_<<e,t>,e>(x_<e,t>)))))'/<<<e,t>,e>,<<e,t>,<e,t>>> conflict (mode: Function Application), ⟦[[[[saw] him]] [every man]]⟧ = Type mismatch: '⟦[[[saw] him]]⟧ = (λ f_<<e,t>,e>: (λ x_<e,t>: (λ y_e: Saw_<(e,e),t>(y_e, f_<<e,t>,e>(x_<e,t>)))))'/<<<e,t>,e>,<<e,t>,<e,t>>> and '⟦[every man]⟧ = (λ g_<e,t>: (Forall x_e: (Man_<e,t>(x_e) >> g_<e,t>(x_e))))'/<<e,t>,t> conflict (mode: Function Application), ⟦[[every man] [[[saw] him]]]⟧ = Type mismatch: '⟦[every man]⟧ = (λ g_<e,t>: (Forall x_e: (Man_<e,t>(x_e) >> g_<e,t>(x_e))))'/<<e,t>,t> and '⟦[[[saw] him]]⟧ = (λ f_<<e,t>,e>: (λ x_<e,t>: (λ y_e: Saw_<(e,e),t>(y_e, f_<<e,t>,e>(x_<e,t>)))))'/<<<e,t>,e>,<<e,t>,<e,t>>> conflict (mode: Predicate Modification), ⟦[[every man] [[[saw] him]]]⟧ = Type mismatch: '⟦[every man]⟧ = (λ g_<e,t>: (Forall x_e: (Man_<e,t>(x_e) >> g_<e,t>(x_e))))'/<<e,t>,t> and '⟦[[[saw] him]]⟧ = (λ f_<<e,t>,e>: (λ x_<e,t>: (λ y_e: Saw_<(e,e),t>(y_e, f_<<e,t>,e>(x_<e,t>)))))'/<<<e,t>,e>,<<e,t>,<e,t>>> conflict (mode: Predicate Abstraction), ⟦[[[[saw] him]] [every man]]⟧ = Type mismatch: '⟦[[[saw] him]]⟧ = (λ f_<<e,t>,e>: (λ x_<e,t>: (λ y_e: Saw_<(e,e),t>(y_e, f_<<e,t>,e>(x_<e,t>)))))'/<<<e,t>,e>,<<e,t>,<e,t>>> and '⟦[every man]⟧ = (λ g_<e,t>: (Forall x_e: (Man_<e,t>(x_e) >> g_<e,t>(x_e))))'/<<e,t>,t> conflict (mode: Predicate Abstraction), ⟦[[every man] [[[saw] him]]]⟧ = Type mismatch: '⟦[every man]⟧ = (λ g_<e,t>: (Forall x_e: (Man_<e,t>(x_e) >> g_<e,t>(x_e))))'/<<e,t>,t> and '⟦[[[saw] him]]⟧ = (λ g_<e,e>: (λ x_e: Saw_<(e,e),t>(x_e, g_<e,e>(x_e))))'/<<e,e>,<e,t>> conflict (mode: Function Application), ⟦[[[[saw] him]] [every man]]⟧ = Type mismatch: '⟦[[[saw] him]]⟧ = (λ g_<e,e>: (λ x_e: Saw_<(e,e),t>(x_e, g_<e,e>(x_e))))'/<<e,e>,<e,t>> and '⟦[every man]⟧ = (λ g_<e,t>: (Forall x_e: (Man_<e,t>(x_e) >> g_<e,t>(x_e))))'/<<e,t>,t> conflict (mode: Function Application), ⟦[[every man] [[[saw] him]]]⟧ = Type mismatch: '⟦[every man]⟧ = (λ g_<e,t>: (Forall x_e: (Man_<e,t>(x_e) >> g_<e,t>(x_e))))'/<<e,t>,t> and '⟦[[[saw] him]]⟧ = (λ g_<e,e>: (λ x_e: Saw_<(e,e),t>(x_e, g_<e,e>(x_e))))'/<<e,e>,<e,t>> conflict (mode: Predicate Modification), ⟦[[every man] [[[saw] him]]]⟧ = Type mismatch: '⟦[every man]⟧ = (λ g_<e,t>: (Forall x_e: (Man_<e,t>(x_e) >> g_<e,t>(x_e))))'/<<e,t>,t> and '⟦[[[saw] him]]⟧ = (λ g_<e,e>: (λ x_e: Saw_<(e,e),t>(x_e, g_<e,e>(x_e))))'/<<e,e>,<e,t>> conflict (mode: Predicate Abstraction), ⟦[[[[saw] him]] [every man]]⟧ = Type mismatch: '⟦[[[saw] him]]⟧ = (λ g_<e,e>: (λ x_e: Saw_<(e,e),t>(x_e, g_<e,e>(x_e))))'/<<e,e>,<e,t>> and '⟦[every man]⟧ = (λ g_<e,t>: (Forall x_e: (Man_<e,t>(x_e) >> g_<e,t>(x_e))))'/<<e,t>,t> conflict (mode: Predicate Abstraction), ⟦[[every man] [[saw] him]]⟧ = Type mismatch: '⟦[every man]⟧ = (λ g_<e,t>: (Forall x_e: (Man_<e,t>(x_e) >> g_<e,t>(x_e))))'/<<e,t>,t> and '⟦[[saw] him]⟧ = (λ x_e: (λ y_e: Saw_<(e,e),t>(y_e, x_e)))'/<e,<e,t>> conflict (mode: Function Application), ⟦[[[saw] him] [every man]]⟧ = Type mismatch: '⟦[[saw] him]⟧ = (λ x_e: (λ y_e: Saw_<(e,e),t>(y_e, x_e)))'/<e,<e,t>> and '⟦[every man]⟧ = (λ g_<e,t>: (Forall x_e: (Man_<e,t>(x_e) >> g_<e,t>(x_e))))'/<<e,t>,t> conflict (mode: Function Application), ⟦[[every man] [[saw] him]]⟧ = Type mismatch: '⟦[every man]⟧ = (λ g_<e,t>: (Forall x_e: (Man_<e,t>(x_e) >> g_<e,t>(x_e))))'/<<e,t>,t> and '⟦[[saw] him]⟧ = (λ x_e: (λ y_e: Saw_<(e,e),t>(y_e, x_e)))'/<e,<e,t>> conflict (mode: Predicate Modification), ⟦[[every man] [[saw] him]]⟧ = Type mismatch: '⟦[every man]⟧ = (λ g_<e,t>: (Forall x_e: (Man_<e,t>(x_e) >> g_<e,t>(x_e))))'/<<e,t>,t> and '⟦[[saw] him]⟧ = (λ x_e: (λ y_e: Saw_<(e,e),t>(y_e, x_e)))'/<e,<e,t>> conflict (mode: Predicate Abstraction), ⟦[[[saw] him] [every man]]⟧ = Type mismatch: '⟦[[saw] him]⟧ = (λ x_e: (λ y_e: Saw_<(e,e),t>(y_e, x_e)))'/<e,<e,t>> and '⟦[every man]⟧ = (λ g_<e,t>: (Forall x_e: (Man_<e,t>(x_e) >> g_<e,t>(x_e))))'/<<e,t>,t> conflict (mode: Predicate Abstraction), ⟦[[[saw] him] [every man]]⟧ = Type mismatch: '⟦[[saw] him]⟧ = (λ x_e: Saw_<(e,e),t>(x_e, x_e))'/<e,t> and '⟦[every man]⟧ = (λ g_<e,t>: (Forall x_e: (Man_<e,t>(x_e) >> g_<e,t>(x_e))))'/<<e,t>,t> conflict (mode: Function Application), ⟦[[every man] [[saw] him]]⟧ = Type mismatch: '⟦[every man]⟧ = (λ g_<e,t>: (Forall x_e: (Man_<e,t>(x_e) >> g_<e,t>(x_e))))'/<<e,t>,t> and '⟦[[saw] him]⟧ = (λ x_e: Saw_<(e,e),t>(x_e, x_e))'/<e,t> conflict (mode: Predicate Modification), ⟦[[every man] [[saw] him]]⟧ = Type mismatch: '⟦[every man]⟧ = (λ g_<e,t>: (Forall x_e: (Man_<e,t>(x_e) >> g_<e,t>(x_e))))'/<<e,t>,t> and '⟦[[saw] him]⟧ = (λ x_e: Saw_<(e,e),t>(x_e, x_e))'/<e,t> conflict (mode: Predicate Abstraction), ⟦[[[saw] him] [every man]]⟧ = Type mismatch: '⟦[[saw] him]⟧ = (λ x_e: Saw_<(e,e),t>(x_e, x_e))'/<e,t> and '⟦[every man]⟧ = (λ g_<e,t>: (Forall x_e: (Man_<e,t>(x_e) >> g_<e,t>(x_e))))'/<<e,t>,t> conflict (mode: Predicate Abstraction)])"
      ]
     },
     "execution_count": 31,
     "metadata": {},
     "output_type": "execute_result"
    }
   ],
   "source": [
    "(dp * (saw * him))"
   ]
  },
  {
   "cell_type": "markdown",
   "metadata": {},
   "source": [
    "Once again, we overgenerate a condition B violation reading.  However, this process generates exactly the right readings for bound pronouns not in the local domain of the binder, as Jacobson shows:"
   ]
  },
  {
   "cell_type": "code",
   "execution_count": 32,
   "metadata": {
    "collapsed": false
   },
   "outputs": [
    {
     "name": "stdout",
     "output_type": "stream",
     "text": [
      "INFO (meta): Coerced guessed type for 'Mother_t' into <(e,e),t>, to match argument '(y_e, x_e)'\n"
     ]
    },
    {
     "data": {
      "text/html": [
       "$[\\![\\mathbf{\\text{poss}}]\\!]^{}_{\\left\\langle{}\\left\\langle{}e,t\\right\\rangle{},e\\right\\rangle{}} \\:=\\: $$\\lambda{} f_{\\left\\langle{}e,t\\right\\rangle{}} \\: . \\: \\iota{} x_{e} \\: . \\: {f}({x})$<br />\n",
       "$[\\![\\mathbf{\\text{mother}}]\\!]^{}_{\\left\\langle{}e,\\left\\langle{}e,t\\right\\rangle{}\\right\\rangle{}} \\:=\\: $$\\lambda{} x_{e} \\: . \\: \\lambda{} y_{e} \\: . \\: {Mother}({y}, {x})$"
      ],
      "text/latex": [
       "$[\\![\\mathbf{\\text{poss}}]\\!]^{}_{\\left\\langle{}\\left\\langle{}e,t\\right\\rangle{},e\\right\\rangle{}} \\:=\\: $$\\lambda{} f_{\\left\\langle{}e,t\\right\\rangle{}} \\: . \\: \\iota{} x_{e} \\: . \\: {f}({x})$<br />\n",
       "$[\\![\\mathbf{\\text{mother}}]\\!]^{}_{\\left\\langle{}e,\\left\\langle{}e,t\\right\\rangle{}\\right\\rangle{}} \\:=\\: $$\\lambda{} x_{e} \\: . \\: \\lambda{} y_{e} \\: . \\: {Mother}({y}, {x})$"
      ],
      "text/plain": [
       "$[\\![\\mathbf{\\text{poss}}]\\!]^{}_{\\left\\langle{}\\left\\langle{}e,t\\right\\rangle{},e\\right\\rangle{}} \\:=\\: $$\\lambda{} f_{\\left\\langle{}e,t\\right\\rangle{}} \\: . \\: \\iota{} x_{e} \\: . \\: {f}({x})$<br />\n",
       "$[\\![\\mathbf{\\text{mother}}]\\!]^{}_{\\left\\langle{}e,\\left\\langle{}e,t\\right\\rangle{}\\right\\rangle{}} \\:=\\: $$\\lambda{} x_{e} \\: . \\: \\lambda{} y_{e} \\: . \\: {Mother}({y}, {x})$"
      ]
     },
     "execution_count": 32,
     "metadata": {},
     "output_type": "execute_result"
    }
   ],
   "source": [
    "%%lamb\n",
    "||poss|| = L f_<e,t> : Iota x_e : f(x) # just definite article\n",
    "||mother|| = L x_e : L y_e : Mother(y,x)"
   ]
  },
  {
   "cell_type": "code",
   "execution_count": 33,
   "metadata": {
    "collapsed": false
   },
   "outputs": [
    {
     "data": {
      "text/html": [
       "5 composition paths. Results:\n",
       "<br />&nbsp;&nbsp;&nbsp;&nbsp;[0]: $[\\![\\mathbf{\\text{[[[every man]] [[saw] [[poss] [[mother] him]]]]}}]\\!]^{}_{\\left\\langle{}e,t\\right\\rangle{}} \\:=\\: $$\\lambda{} x_{e} \\: . \\: \\forall{} x1_{e} \\: . \\: ({Man}({x1}) \\rightarrow{} {Saw}({x1}, \\iota{} x2_{e} \\: . \\: {Mother}({x2}, {x})))$\n",
       "<br />&nbsp;&nbsp;&nbsp;&nbsp;[1]: $[\\![\\mathbf{\\text{[[every man] [[saw] [[poss] [[mother] him]]]]}}]\\!]^{}_{t} \\:=\\: $$\\forall{} x_{e} \\: . \\: ({Man}({x}) \\rightarrow{} {Saw}({x}, \\iota{} x1_{e} \\: . \\: {Mother}({x1}, {x})))$\n",
       "<br />&nbsp;&nbsp;&nbsp;&nbsp;[2]: $[\\![\\mathbf{\\text{[[[every man]] [[[[[[mother] him]] poss]] saw]]}}]\\!]^{}_{\\left\\langle{}e,t\\right\\rangle{}} \\:=\\: $$\\lambda{} x_{e} \\: . \\: \\forall{} x1_{e} \\: . \\: ({Man}({x1}) \\rightarrow{} {Mother}({x1}, \\iota{} x2_{e} \\: . \\: {Saw}({x2}, {x})))$\n",
       "<br />&nbsp;&nbsp;&nbsp;&nbsp;[3]: $[\\![\\mathbf{\\text{[[every man] [[[[[[mother] him]] poss]] saw]]}}]\\!]^{}_{t} \\:=\\: $$\\forall{} x_{e} \\: . \\: ({Man}({x}) \\rightarrow{} {Mother}({x}, \\iota{} x1_{e} \\: . \\: {Saw}({x1}, {x})))$\n",
       "<br />&nbsp;&nbsp;&nbsp;&nbsp;[4]: $[\\![\\mathbf{\\text{[[every man] [saw [poss [[mother] him]]]]}}]\\!]^{}_{t} \\:=\\: $$\\forall{} x_{e} \\: . \\: ({Man}({x}) \\rightarrow{} {Saw}({x}, \\iota{} x1_{e} \\: . \\: {Mother}({x1}, {x1})))$"
      ],
      "text/plain": [
       "CompositionResult(results=[⟦[[[every man]] [[saw] [[poss] [[mother] him]]]]⟧ = (λ x_e: (Forall x1_e: (Man_<e,t>(x1_e) >> Saw_<(e,e),t>(x1_e, (ι x2_e: Mother_<(e,e),t>(x2_e, x_e)))))), ⟦[[every man] [[saw] [[poss] [[mother] him]]]]⟧ = (Forall x_e: (Man_<e,t>(x_e) >> Saw_<(e,e),t>(x_e, (ι x1_e: Mother_<(e,e),t>(x1_e, x_e))))), ⟦[[[every man]] [[[[[[mother] him]] poss]] saw]]⟧ = (λ x_e: (Forall x1_e: (Man_<e,t>(x1_e) >> Mother_<(e,e),t>(x1_e, (ι x2_e: Saw_<(e,e),t>(x2_e, x_e)))))), ⟦[[every man] [[[[[[mother] him]] poss]] saw]]⟧ = (Forall x_e: (Man_<e,t>(x_e) >> Mother_<(e,e),t>(x_e, (ι x1_e: Saw_<(e,e),t>(x1_e, x_e))))), ⟦[[every man] [saw [poss [[mother] him]]]]⟧ = (Forall x_e: (Man_<e,t>(x_e) >> Saw_<(e,e),t>(x_e, (ι x1_e: Mother_<(e,e),t>(x1_e, x1_e)))))], failures=[⟦[[[every man]] [[[saw] [[poss] [[mother] him]]]]]⟧ = Type mismatch: '⟦[[every man]]⟧ = (λ f_<e,<e,t>>: (λ x_e: (Forall x1_e: (Man_<e,t>(x1_e) >> f_<e,<e,t>>(x_e)(x1_e)))))'/<<e,<e,t>>,<e,t>> and '⟦[[[saw] [[poss] [[mother] him]]]]⟧ = (λ f_<e,e>: (λ x_e: (λ y_e: Saw_<(e,e),t>(y_e, (ι x1_e: Mother_<(e,e),t>(x1_e, f_<e,e>(x_e)))))))'/<<e,e>,<e,<e,t>>> conflict (mode: Function Application), ⟦[[[[saw] [[poss] [[mother] him]]]] [[every man]]]⟧ = Type mismatch: '⟦[[[saw] [[poss] [[mother] him]]]]⟧ = (λ f_<e,e>: (λ x_e: (λ y_e: Saw_<(e,e),t>(y_e, (ι x1_e: Mother_<(e,e),t>(x1_e, f_<e,e>(x_e)))))))'/<<e,e>,<e,<e,t>>> and '⟦[[every man]]⟧ = (λ f_<e,<e,t>>: (λ x_e: (Forall x1_e: (Man_<e,t>(x1_e) >> f_<e,<e,t>>(x_e)(x1_e)))))'/<<e,<e,t>>,<e,t>> conflict (mode: Function Application), ⟦[[[every man]] [[[saw] [[poss] [[mother] him]]]]]⟧ = Type mismatch: '⟦[[every man]]⟧ = (λ f_<e,<e,t>>: (λ x_e: (Forall x1_e: (Man_<e,t>(x1_e) >> f_<e,<e,t>>(x_e)(x1_e)))))'/<<e,<e,t>>,<e,t>> and '⟦[[[saw] [[poss] [[mother] him]]]]⟧ = (λ f_<e,e>: (λ x_e: (λ y_e: Saw_<(e,e),t>(y_e, (ι x1_e: Mother_<(e,e),t>(x1_e, f_<e,e>(x_e)))))))'/<<e,e>,<e,<e,t>>> conflict (mode: Predicate Modification), ⟦[[[every man]] [[[saw] [[poss] [[mother] him]]]]]⟧ = Type mismatch: '⟦[[every man]]⟧ = (λ f_<e,<e,t>>: (λ x_e: (Forall x1_e: (Man_<e,t>(x1_e) >> f_<e,<e,t>>(x_e)(x1_e)))))'/<<e,<e,t>>,<e,t>> and '⟦[[[saw] [[poss] [[mother] him]]]]⟧ = (λ f_<e,e>: (λ x_e: (λ y_e: Saw_<(e,e),t>(y_e, (ι x1_e: Mother_<(e,e),t>(x1_e, f_<e,e>(x_e)))))))'/<<e,e>,<e,<e,t>>> conflict (mode: Predicate Abstraction), ⟦[[[[saw] [[poss] [[mother] him]]]] [[every man]]]⟧ = Type mismatch: '⟦[[[saw] [[poss] [[mother] him]]]]⟧ = (λ f_<e,e>: (λ x_e: (λ y_e: Saw_<(e,e),t>(y_e, (ι x1_e: Mother_<(e,e),t>(x1_e, f_<e,e>(x_e)))))))'/<<e,e>,<e,<e,t>>> and '⟦[[every man]]⟧ = (λ f_<e,<e,t>>: (λ x_e: (Forall x1_e: (Man_<e,t>(x1_e) >> f_<e,<e,t>>(x_e)(x1_e)))))'/<<e,<e,t>>,<e,t>> conflict (mode: Predicate Abstraction), ⟦[[[every man]] [[[saw] [[poss] [[mother] him]]]]]⟧ = Type mismatch: '⟦[[every man]]⟧ = (λ f_<e,<e,t>>: (λ x_e: (Forall x1_e: (Man_<e,t>(x1_e) >> f_<e,<e,t>>(x_e)(x1_e)))))'/<<e,<e,t>>,<e,t>> and '⟦[[[saw] [[poss] [[mother] him]]]]⟧ = (λ f_<<e,t>,e>: (λ x_<e,t>: (λ y_e: Saw_<(e,e),t>(y_e, (ι x1_e: Mother_<(e,e),t>(x1_e, f_<<e,t>,e>(x_<e,t>)))))))'/<<<e,t>,e>,<<e,t>,<e,t>>> conflict (mode: Function Application), ⟦[[[[saw] [[poss] [[mother] him]]]] [[every man]]]⟧ = Type mismatch: '⟦[[[saw] [[poss] [[mother] him]]]]⟧ = (λ f_<<e,t>,e>: (λ x_<e,t>: (λ y_e: Saw_<(e,e),t>(y_e, (ι x1_e: Mother_<(e,e),t>(x1_e, f_<<e,t>,e>(x_<e,t>)))))))'/<<<e,t>,e>,<<e,t>,<e,t>>> and '⟦[[every man]]⟧ = (λ f_<e,<e,t>>: (λ x_e: (Forall x1_e: (Man_<e,t>(x1_e) >> f_<e,<e,t>>(x_e)(x1_e)))))'/<<e,<e,t>>,<e,t>> conflict (mode: Function Application), ⟦[[[every man]] [[[saw] [[poss] [[mother] him]]]]]⟧ = Type mismatch: '⟦[[every man]]⟧ = (λ f_<e,<e,t>>: (λ x_e: (Forall x1_e: (Man_<e,t>(x1_e) >> f_<e,<e,t>>(x_e)(x1_e)))))'/<<e,<e,t>>,<e,t>> and '⟦[[[saw] [[poss] [[mother] him]]]]⟧ = (λ f_<<e,t>,e>: (λ x_<e,t>: (λ y_e: Saw_<(e,e),t>(y_e, (ι x1_e: Mother_<(e,e),t>(x1_e, f_<<e,t>,e>(x_<e,t>)))))))'/<<<e,t>,e>,<<e,t>,<e,t>>> conflict (mode: Predicate Modification), ⟦[[[every man]] [[[saw] [[poss] [[mother] him]]]]]⟧ = Type mismatch: '⟦[[every man]]⟧ = (λ f_<e,<e,t>>: (λ x_e: (Forall x1_e: (Man_<e,t>(x1_e) >> f_<e,<e,t>>(x_e)(x1_e)))))'/<<e,<e,t>>,<e,t>> and '⟦[[[saw] [[poss] [[mother] him]]]]⟧ = (λ f_<<e,t>,e>: (λ x_<e,t>: (λ y_e: Saw_<(e,e),t>(y_e, (ι x1_e: Mother_<(e,e),t>(x1_e, f_<<e,t>,e>(x_<e,t>)))))))'/<<<e,t>,e>,<<e,t>,<e,t>>> conflict (mode: Predicate Abstraction), ⟦[[[[saw] [[poss] [[mother] him]]]] [[every man]]]⟧ = Type mismatch: '⟦[[[saw] [[poss] [[mother] him]]]]⟧ = (λ f_<<e,t>,e>: (λ x_<e,t>: (λ y_e: Saw_<(e,e),t>(y_e, (ι x1_e: Mother_<(e,e),t>(x1_e, f_<<e,t>,e>(x_<e,t>)))))))'/<<<e,t>,e>,<<e,t>,<e,t>>> and '⟦[[every man]]⟧ = (λ f_<e,<e,t>>: (λ x_e: (Forall x1_e: (Man_<e,t>(x1_e) >> f_<e,<e,t>>(x_e)(x1_e)))))'/<<e,<e,t>>,<e,t>> conflict (mode: Predicate Abstraction), ⟦[[[every man]] [[[saw] [[poss] [[mother] him]]]]]⟧ = Type mismatch: '⟦[[every man]]⟧ = (λ f_<e,<e,t>>: (λ x_e: (Forall x1_e: (Man_<e,t>(x1_e) >> f_<e,<e,t>>(x_e)(x1_e)))))'/<<e,<e,t>>,<e,t>> and '⟦[[[saw] [[poss] [[mother] him]]]]⟧ = (λ g_<e,e>: (λ x_e: Saw_<(e,e),t>(x_e, (ι x1_e: Mother_<(e,e),t>(x1_e, g_<e,e>(x_e))))))'/<<e,e>,<e,t>> conflict (mode: Function Application), ⟦[[[[saw] [[poss] [[mother] him]]]] [[every man]]]⟧ = Type mismatch: '⟦[[[saw] [[poss] [[mother] him]]]]⟧ = (λ g_<e,e>: (λ x_e: Saw_<(e,e),t>(x_e, (ι x1_e: Mother_<(e,e),t>(x1_e, g_<e,e>(x_e))))))'/<<e,e>,<e,t>> and '⟦[[every man]]⟧ = (λ f_<e,<e,t>>: (λ x_e: (Forall x1_e: (Man_<e,t>(x1_e) >> f_<e,<e,t>>(x_e)(x1_e)))))'/<<e,<e,t>>,<e,t>> conflict (mode: Function Application), ⟦[[[every man]] [[[saw] [[poss] [[mother] him]]]]]⟧ = Type mismatch: '⟦[[every man]]⟧ = (λ f_<e,<e,t>>: (λ x_e: (Forall x1_e: (Man_<e,t>(x1_e) >> f_<e,<e,t>>(x_e)(x1_e)))))'/<<e,<e,t>>,<e,t>> and '⟦[[[saw] [[poss] [[mother] him]]]]⟧ = (λ g_<e,e>: (λ x_e: Saw_<(e,e),t>(x_e, (ι x1_e: Mother_<(e,e),t>(x1_e, g_<e,e>(x_e))))))'/<<e,e>,<e,t>> conflict (mode: Predicate Modification), ⟦[[[every man]] [[[saw] [[poss] [[mother] him]]]]]⟧ = Type mismatch: '⟦[[every man]]⟧ = (λ f_<e,<e,t>>: (λ x_e: (Forall x1_e: (Man_<e,t>(x1_e) >> f_<e,<e,t>>(x_e)(x1_e)))))'/<<e,<e,t>>,<e,t>> and '⟦[[[saw] [[poss] [[mother] him]]]]⟧ = (λ g_<e,e>: (λ x_e: Saw_<(e,e),t>(x_e, (ι x1_e: Mother_<(e,e),t>(x1_e, g_<e,e>(x_e))))))'/<<e,e>,<e,t>> conflict (mode: Predicate Abstraction), ⟦[[[[saw] [[poss] [[mother] him]]]] [[every man]]]⟧ = Type mismatch: '⟦[[[saw] [[poss] [[mother] him]]]]⟧ = (λ g_<e,e>: (λ x_e: Saw_<(e,e),t>(x_e, (ι x1_e: Mother_<(e,e),t>(x1_e, g_<e,e>(x_e))))))'/<<e,e>,<e,t>> and '⟦[[every man]]⟧ = (λ f_<e,<e,t>>: (λ x_e: (Forall x1_e: (Man_<e,t>(x1_e) >> f_<e,<e,t>>(x_e)(x1_e)))))'/<<e,<e,t>>,<e,t>> conflict (mode: Predicate Abstraction), ⟦[[[saw] [[poss] [[mother] him]]] [[every man]]]⟧ = Type mismatch: '⟦[[saw] [[poss] [[mother] him]]]⟧ = (λ x_e: (λ y_e: Saw_<(e,e),t>(y_e, (ι x1_e: Mother_<(e,e),t>(x1_e, x_e)))))'/<e,<e,t>> and '⟦[[every man]]⟧ = (λ f_<e,<e,t>>: (λ x_e: (Forall x1_e: (Man_<e,t>(x1_e) >> f_<e,<e,t>>(x_e)(x1_e)))))'/<<e,<e,t>>,<e,t>> conflict (mode: Function Application), ⟦[[[every man]] [[saw] [[poss] [[mother] him]]]]⟧ = Type mismatch: '⟦[[every man]]⟧ = (λ f_<e,<e,t>>: (λ x_e: (Forall x1_e: (Man_<e,t>(x1_e) >> f_<e,<e,t>>(x_e)(x1_e)))))'/<<e,<e,t>>,<e,t>> and '⟦[[saw] [[poss] [[mother] him]]]⟧ = (λ x_e: (λ y_e: Saw_<(e,e),t>(y_e, (ι x1_e: Mother_<(e,e),t>(x1_e, x_e)))))'/<e,<e,t>> conflict (mode: Predicate Modification), ⟦[[[every man]] [[saw] [[poss] [[mother] him]]]]⟧ = Type mismatch: '⟦[[every man]]⟧ = (λ f_<e,<e,t>>: (λ x_e: (Forall x1_e: (Man_<e,t>(x1_e) >> f_<e,<e,t>>(x_e)(x1_e)))))'/<<e,<e,t>>,<e,t>> and '⟦[[saw] [[poss] [[mother] him]]]⟧ = (λ x_e: (λ y_e: Saw_<(e,e),t>(y_e, (ι x1_e: Mother_<(e,e),t>(x1_e, x_e)))))'/<e,<e,t>> conflict (mode: Predicate Abstraction), ⟦[[[saw] [[poss] [[mother] him]]] [[every man]]]⟧ = Type mismatch: '⟦[[saw] [[poss] [[mother] him]]]⟧ = (λ x_e: (λ y_e: Saw_<(e,e),t>(y_e, (ι x1_e: Mother_<(e,e),t>(x1_e, x_e)))))'/<e,<e,t>> and '⟦[[every man]]⟧ = (λ f_<e,<e,t>>: (λ x_e: (Forall x1_e: (Man_<e,t>(x1_e) >> f_<e,<e,t>>(x_e)(x1_e)))))'/<<e,<e,t>>,<e,t>> conflict (mode: Predicate Abstraction), ⟦[[[every man]] [[[saw] [[poss] [[mother] him]]]]]⟧ = Type mismatch: '⟦[[every man]]⟧ = (λ f_<<e,t>,<e,t>>: (λ x_<e,t>: (Forall x1_e: (Man_<e,t>(x1_e) >> f_<<e,t>,<e,t>>(x_<e,t>)(x1_e)))))'/<<<e,t>,<e,t>>,<<e,t>,t>> and '⟦[[[saw] [[poss] [[mother] him]]]]⟧ = (λ f_<e,e>: (λ x_e: (λ y_e: Saw_<(e,e),t>(y_e, (ι x1_e: Mother_<(e,e),t>(x1_e, f_<e,e>(x_e)))))))'/<<e,e>,<e,<e,t>>> conflict (mode: Function Application), ⟦[[[[saw] [[poss] [[mother] him]]]] [[every man]]]⟧ = Type mismatch: '⟦[[[saw] [[poss] [[mother] him]]]]⟧ = (λ f_<e,e>: (λ x_e: (λ y_e: Saw_<(e,e),t>(y_e, (ι x1_e: Mother_<(e,e),t>(x1_e, f_<e,e>(x_e)))))))'/<<e,e>,<e,<e,t>>> and '⟦[[every man]]⟧ = (λ f_<<e,t>,<e,t>>: (λ x_<e,t>: (Forall x1_e: (Man_<e,t>(x1_e) >> f_<<e,t>,<e,t>>(x_<e,t>)(x1_e)))))'/<<<e,t>,<e,t>>,<<e,t>,t>> conflict (mode: Function Application), ⟦[[[every man]] [[[saw] [[poss] [[mother] him]]]]]⟧ = Type mismatch: '⟦[[every man]]⟧ = (λ f_<<e,t>,<e,t>>: (λ x_<e,t>: (Forall x1_e: (Man_<e,t>(x1_e) >> f_<<e,t>,<e,t>>(x_<e,t>)(x1_e)))))'/<<<e,t>,<e,t>>,<<e,t>,t>> and '⟦[[[saw] [[poss] [[mother] him]]]]⟧ = (λ f_<e,e>: (λ x_e: (λ y_e: Saw_<(e,e),t>(y_e, (ι x1_e: Mother_<(e,e),t>(x1_e, f_<e,e>(x_e)))))))'/<<e,e>,<e,<e,t>>> conflict (mode: Predicate Modification), ⟦[[[every man]] [[[saw] [[poss] [[mother] him]]]]]⟧ = Type mismatch: '⟦[[every man]]⟧ = (λ f_<<e,t>,<e,t>>: (λ x_<e,t>: (Forall x1_e: (Man_<e,t>(x1_e) >> f_<<e,t>,<e,t>>(x_<e,t>)(x1_e)))))'/<<<e,t>,<e,t>>,<<e,t>,t>> and '⟦[[[saw] [[poss] [[mother] him]]]]⟧ = (λ f_<e,e>: (λ x_e: (λ y_e: Saw_<(e,e),t>(y_e, (ι x1_e: Mother_<(e,e),t>(x1_e, f_<e,e>(x_e)))))))'/<<e,e>,<e,<e,t>>> conflict (mode: Predicate Abstraction), ⟦[[[[saw] [[poss] [[mother] him]]]] [[every man]]]⟧ = Type mismatch: '⟦[[[saw] [[poss] [[mother] him]]]]⟧ = (λ f_<e,e>: (λ x_e: (λ y_e: Saw_<(e,e),t>(y_e, (ι x1_e: Mother_<(e,e),t>(x1_e, f_<e,e>(x_e)))))))'/<<e,e>,<e,<e,t>>> and '⟦[[every man]]⟧ = (λ f_<<e,t>,<e,t>>: (λ x_<e,t>: (Forall x1_e: (Man_<e,t>(x1_e) >> f_<<e,t>,<e,t>>(x_<e,t>)(x1_e)))))'/<<<e,t>,<e,t>>,<<e,t>,t>> conflict (mode: Predicate Abstraction), ⟦[[[every man]] [[[saw] [[poss] [[mother] him]]]]]⟧ = Type mismatch: '⟦[[every man]]⟧ = (λ f_<<e,t>,<e,t>>: (λ x_<e,t>: (Forall x1_e: (Man_<e,t>(x1_e) >> f_<<e,t>,<e,t>>(x_<e,t>)(x1_e)))))'/<<<e,t>,<e,t>>,<<e,t>,t>> and '⟦[[[saw] [[poss] [[mother] him]]]]⟧ = (λ f_<<e,t>,e>: (λ x_<e,t>: (λ y_e: Saw_<(e,e),t>(y_e, (ι x1_e: Mother_<(e,e),t>(x1_e, f_<<e,t>,e>(x_<e,t>)))))))'/<<<e,t>,e>,<<e,t>,<e,t>>> conflict (mode: Function Application), ⟦[[[[saw] [[poss] [[mother] him]]]] [[every man]]]⟧ = Type mismatch: '⟦[[[saw] [[poss] [[mother] him]]]]⟧ = (λ f_<<e,t>,e>: (λ x_<e,t>: (λ y_e: Saw_<(e,e),t>(y_e, (ι x1_e: Mother_<(e,e),t>(x1_e, f_<<e,t>,e>(x_<e,t>)))))))'/<<<e,t>,e>,<<e,t>,<e,t>>> and '⟦[[every man]]⟧ = (λ f_<<e,t>,<e,t>>: (λ x_<e,t>: (Forall x1_e: (Man_<e,t>(x1_e) >> f_<<e,t>,<e,t>>(x_<e,t>)(x1_e)))))'/<<<e,t>,<e,t>>,<<e,t>,t>> conflict (mode: Function Application), ⟦[[[every man]] [[[saw] [[poss] [[mother] him]]]]]⟧ = Type mismatch: '⟦[[every man]]⟧ = (λ f_<<e,t>,<e,t>>: (λ x_<e,t>: (Forall x1_e: (Man_<e,t>(x1_e) >> f_<<e,t>,<e,t>>(x_<e,t>)(x1_e)))))'/<<<e,t>,<e,t>>,<<e,t>,t>> and '⟦[[[saw] [[poss] [[mother] him]]]]⟧ = (λ f_<<e,t>,e>: (λ x_<e,t>: (λ y_e: Saw_<(e,e),t>(y_e, (ι x1_e: Mother_<(e,e),t>(x1_e, f_<<e,t>,e>(x_<e,t>)))))))'/<<<e,t>,e>,<<e,t>,<e,t>>> conflict (mode: Predicate Modification), ⟦[[[every man]] [[[saw] [[poss] [[mother] him]]]]]⟧ = Type mismatch: '⟦[[every man]]⟧ = (λ f_<<e,t>,<e,t>>: (λ x_<e,t>: (Forall x1_e: (Man_<e,t>(x1_e) >> f_<<e,t>,<e,t>>(x_<e,t>)(x1_e)))))'/<<<e,t>,<e,t>>,<<e,t>,t>> and '⟦[[[saw] [[poss] [[mother] him]]]]⟧ = (λ f_<<e,t>,e>: (λ x_<e,t>: (λ y_e: Saw_<(e,e),t>(y_e, (ι x1_e: Mother_<(e,e),t>(x1_e, f_<<e,t>,e>(x_<e,t>)))))))'/<<<e,t>,e>,<<e,t>,<e,t>>> conflict (mode: Predicate Abstraction), ⟦[[[[saw] [[poss] [[mother] him]]]] [[every man]]]⟧ = Type mismatch: '⟦[[[saw] [[poss] [[mother] him]]]]⟧ = (λ f_<<e,t>,e>: (λ x_<e,t>: (λ y_e: Saw_<(e,e),t>(y_e, (ι x1_e: Mother_<(e,e),t>(x1_e, f_<<e,t>,e>(x_<e,t>)))))))'/<<<e,t>,e>,<<e,t>,<e,t>>> and '⟦[[every man]]⟧ = (λ f_<<e,t>,<e,t>>: (λ x_<e,t>: (Forall x1_e: (Man_<e,t>(x1_e) >> f_<<e,t>,<e,t>>(x_<e,t>)(x1_e)))))'/<<<e,t>,<e,t>>,<<e,t>,t>> conflict (mode: Predicate Abstraction), ⟦[[[every man]] [[[saw] [[poss] [[mother] him]]]]]⟧ = Type mismatch: '⟦[[every man]]⟧ = (λ f_<<e,t>,<e,t>>: (λ x_<e,t>: (Forall x1_e: (Man_<e,t>(x1_e) >> f_<<e,t>,<e,t>>(x_<e,t>)(x1_e)))))'/<<<e,t>,<e,t>>,<<e,t>,t>> and '⟦[[[saw] [[poss] [[mother] him]]]]⟧ = (λ g_<e,e>: (λ x_e: Saw_<(e,e),t>(x_e, (ι x1_e: Mother_<(e,e),t>(x1_e, g_<e,e>(x_e))))))'/<<e,e>,<e,t>> conflict (mode: Function Application), ⟦[[[[saw] [[poss] [[mother] him]]]] [[every man]]]⟧ = Type mismatch: '⟦[[[saw] [[poss] [[mother] him]]]]⟧ = (λ g_<e,e>: (λ x_e: Saw_<(e,e),t>(x_e, (ι x1_e: Mother_<(e,e),t>(x1_e, g_<e,e>(x_e))))))'/<<e,e>,<e,t>> and '⟦[[every man]]⟧ = (λ f_<<e,t>,<e,t>>: (λ x_<e,t>: (Forall x1_e: (Man_<e,t>(x1_e) >> f_<<e,t>,<e,t>>(x_<e,t>)(x1_e)))))'/<<<e,t>,<e,t>>,<<e,t>,t>> conflict (mode: Function Application), ⟦[[[every man]] [[[saw] [[poss] [[mother] him]]]]]⟧ = Type mismatch: '⟦[[every man]]⟧ = (λ f_<<e,t>,<e,t>>: (λ x_<e,t>: (Forall x1_e: (Man_<e,t>(x1_e) >> f_<<e,t>,<e,t>>(x_<e,t>)(x1_e)))))'/<<<e,t>,<e,t>>,<<e,t>,t>> and '⟦[[[saw] [[poss] [[mother] him]]]]⟧ = (λ g_<e,e>: (λ x_e: Saw_<(e,e),t>(x_e, (ι x1_e: Mother_<(e,e),t>(x1_e, g_<e,e>(x_e))))))'/<<e,e>,<e,t>> conflict (mode: Predicate Modification), ⟦[[[every man]] [[[saw] [[poss] [[mother] him]]]]]⟧ = Type mismatch: '⟦[[every man]]⟧ = (λ f_<<e,t>,<e,t>>: (λ x_<e,t>: (Forall x1_e: (Man_<e,t>(x1_e) >> f_<<e,t>,<e,t>>(x_<e,t>)(x1_e)))))'/<<<e,t>,<e,t>>,<<e,t>,t>> and '⟦[[[saw] [[poss] [[mother] him]]]]⟧ = (λ g_<e,e>: (λ x_e: Saw_<(e,e),t>(x_e, (ι x1_e: Mother_<(e,e),t>(x1_e, g_<e,e>(x_e))))))'/<<e,e>,<e,t>> conflict (mode: Predicate Abstraction), ⟦[[[[saw] [[poss] [[mother] him]]]] [[every man]]]⟧ = Type mismatch: '⟦[[[saw] [[poss] [[mother] him]]]]⟧ = (λ g_<e,e>: (λ x_e: Saw_<(e,e),t>(x_e, (ι x1_e: Mother_<(e,e),t>(x1_e, g_<e,e>(x_e))))))'/<<e,e>,<e,t>> and '⟦[[every man]]⟧ = (λ f_<<e,t>,<e,t>>: (λ x_<e,t>: (Forall x1_e: (Man_<e,t>(x1_e) >> f_<<e,t>,<e,t>>(x_<e,t>)(x1_e)))))'/<<<e,t>,<e,t>>,<<e,t>,t>> conflict (mode: Predicate Abstraction), ⟦[[[every man]] [[saw] [[poss] [[mother] him]]]]⟧ = Type mismatch: '⟦[[every man]]⟧ = (λ f_<<e,t>,<e,t>>: (λ x_<e,t>: (Forall x1_e: (Man_<e,t>(x1_e) >> f_<<e,t>,<e,t>>(x_<e,t>)(x1_e)))))'/<<<e,t>,<e,t>>,<<e,t>,t>> and '⟦[[saw] [[poss] [[mother] him]]]⟧ = (λ x_e: (λ y_e: Saw_<(e,e),t>(y_e, (ι x1_e: Mother_<(e,e),t>(x1_e, x_e)))))'/<e,<e,t>> conflict (mode: Function Application), ⟦[[[saw] [[poss] [[mother] him]]] [[every man]]]⟧ = Type mismatch: '⟦[[saw] [[poss] [[mother] him]]]⟧ = (λ x_e: (λ y_e: Saw_<(e,e),t>(y_e, (ι x1_e: Mother_<(e,e),t>(x1_e, x_e)))))'/<e,<e,t>> and '⟦[[every man]]⟧ = (λ f_<<e,t>,<e,t>>: (λ x_<e,t>: (Forall x1_e: (Man_<e,t>(x1_e) >> f_<<e,t>,<e,t>>(x_<e,t>)(x1_e)))))'/<<<e,t>,<e,t>>,<<e,t>,t>> conflict (mode: Function Application), ⟦[[[every man]] [[saw] [[poss] [[mother] him]]]]⟧ = Type mismatch: '⟦[[every man]]⟧ = (λ f_<<e,t>,<e,t>>: (λ x_<e,t>: (Forall x1_e: (Man_<e,t>(x1_e) >> f_<<e,t>,<e,t>>(x_<e,t>)(x1_e)))))'/<<<e,t>,<e,t>>,<<e,t>,t>> and '⟦[[saw] [[poss] [[mother] him]]]⟧ = (λ x_e: (λ y_e: Saw_<(e,e),t>(y_e, (ι x1_e: Mother_<(e,e),t>(x1_e, x_e)))))'/<e,<e,t>> conflict (mode: Predicate Modification), ⟦[[[every man]] [[saw] [[poss] [[mother] him]]]]⟧ = Type mismatch: '⟦[[every man]]⟧ = (λ f_<<e,t>,<e,t>>: (λ x_<e,t>: (Forall x1_e: (Man_<e,t>(x1_e) >> f_<<e,t>,<e,t>>(x_<e,t>)(x1_e)))))'/<<<e,t>,<e,t>>,<<e,t>,t>> and '⟦[[saw] [[poss] [[mother] him]]]⟧ = (λ x_e: (λ y_e: Saw_<(e,e),t>(y_e, (ι x1_e: Mother_<(e,e),t>(x1_e, x_e)))))'/<e,<e,t>> conflict (mode: Predicate Abstraction), ⟦[[[saw] [[poss] [[mother] him]]] [[every man]]]⟧ = Type mismatch: '⟦[[saw] [[poss] [[mother] him]]]⟧ = (λ x_e: (λ y_e: Saw_<(e,e),t>(y_e, (ι x1_e: Mother_<(e,e),t>(x1_e, x_e)))))'/<e,<e,t>> and '⟦[[every man]]⟧ = (λ f_<<e,t>,<e,t>>: (λ x_<e,t>: (Forall x1_e: (Man_<e,t>(x1_e) >> f_<<e,t>,<e,t>>(x_<e,t>)(x1_e)))))'/<<<e,t>,<e,t>>,<<e,t>,t>> conflict (mode: Predicate Abstraction), ⟦[[every man] [[[saw] [[poss] [[mother] him]]]]]⟧ = Type mismatch: '⟦[every man]⟧ = (λ g_<e,t>: (Forall x_e: (Man_<e,t>(x_e) >> g_<e,t>(x_e))))'/<<e,t>,t> and '⟦[[[saw] [[poss] [[mother] him]]]]⟧ = (λ f_<e,e>: (λ x_e: (λ y_e: Saw_<(e,e),t>(y_e, (ι x1_e: Mother_<(e,e),t>(x1_e, f_<e,e>(x_e)))))))'/<<e,e>,<e,<e,t>>> conflict (mode: Function Application), ⟦[[[[saw] [[poss] [[mother] him]]]] [every man]]⟧ = Type mismatch: '⟦[[[saw] [[poss] [[mother] him]]]]⟧ = (λ f_<e,e>: (λ x_e: (λ y_e: Saw_<(e,e),t>(y_e, (ι x1_e: Mother_<(e,e),t>(x1_e, f_<e,e>(x_e)))))))'/<<e,e>,<e,<e,t>>> and '⟦[every man]⟧ = (λ g_<e,t>: (Forall x_e: (Man_<e,t>(x_e) >> g_<e,t>(x_e))))'/<<e,t>,t> conflict (mode: Function Application), ⟦[[every man] [[[saw] [[poss] [[mother] him]]]]]⟧ = Type mismatch: '⟦[every man]⟧ = (λ g_<e,t>: (Forall x_e: (Man_<e,t>(x_e) >> g_<e,t>(x_e))))'/<<e,t>,t> and '⟦[[[saw] [[poss] [[mother] him]]]]⟧ = (λ f_<e,e>: (λ x_e: (λ y_e: Saw_<(e,e),t>(y_e, (ι x1_e: Mother_<(e,e),t>(x1_e, f_<e,e>(x_e)))))))'/<<e,e>,<e,<e,t>>> conflict (mode: Predicate Modification), ⟦[[every man] [[[saw] [[poss] [[mother] him]]]]]⟧ = Type mismatch: '⟦[every man]⟧ = (λ g_<e,t>: (Forall x_e: (Man_<e,t>(x_e) >> g_<e,t>(x_e))))'/<<e,t>,t> and '⟦[[[saw] [[poss] [[mother] him]]]]⟧ = (λ f_<e,e>: (λ x_e: (λ y_e: Saw_<(e,e),t>(y_e, (ι x1_e: Mother_<(e,e),t>(x1_e, f_<e,e>(x_e)))))))'/<<e,e>,<e,<e,t>>> conflict (mode: Predicate Abstraction), ⟦[[[[saw] [[poss] [[mother] him]]]] [every man]]⟧ = Type mismatch: '⟦[[[saw] [[poss] [[mother] him]]]]⟧ = (λ f_<e,e>: (λ x_e: (λ y_e: Saw_<(e,e),t>(y_e, (ι x1_e: Mother_<(e,e),t>(x1_e, f_<e,e>(x_e)))))))'/<<e,e>,<e,<e,t>>> and '⟦[every man]⟧ = (λ g_<e,t>: (Forall x_e: (Man_<e,t>(x_e) >> g_<e,t>(x_e))))'/<<e,t>,t> conflict (mode: Predicate Abstraction), ⟦[[every man] [[[saw] [[poss] [[mother] him]]]]]⟧ = Type mismatch: '⟦[every man]⟧ = (λ g_<e,t>: (Forall x_e: (Man_<e,t>(x_e) >> g_<e,t>(x_e))))'/<<e,t>,t> and '⟦[[[saw] [[poss] [[mother] him]]]]⟧ = (λ f_<<e,t>,e>: (λ x_<e,t>: (λ y_e: Saw_<(e,e),t>(y_e, (ι x1_e: Mother_<(e,e),t>(x1_e, f_<<e,t>,e>(x_<e,t>)))))))'/<<<e,t>,e>,<<e,t>,<e,t>>> conflict (mode: Function Application), ⟦[[[[saw] [[poss] [[mother] him]]]] [every man]]⟧ = Type mismatch: '⟦[[[saw] [[poss] [[mother] him]]]]⟧ = (λ f_<<e,t>,e>: (λ x_<e,t>: (λ y_e: Saw_<(e,e),t>(y_e, (ι x1_e: Mother_<(e,e),t>(x1_e, f_<<e,t>,e>(x_<e,t>)))))))'/<<<e,t>,e>,<<e,t>,<e,t>>> and '⟦[every man]⟧ = (λ g_<e,t>: (Forall x_e: (Man_<e,t>(x_e) >> g_<e,t>(x_e))))'/<<e,t>,t> conflict (mode: Function Application), ⟦[[every man] [[[saw] [[poss] [[mother] him]]]]]⟧ = Type mismatch: '⟦[every man]⟧ = (λ g_<e,t>: (Forall x_e: (Man_<e,t>(x_e) >> g_<e,t>(x_e))))'/<<e,t>,t> and '⟦[[[saw] [[poss] [[mother] him]]]]⟧ = (λ f_<<e,t>,e>: (λ x_<e,t>: (λ y_e: Saw_<(e,e),t>(y_e, (ι x1_e: Mother_<(e,e),t>(x1_e, f_<<e,t>,e>(x_<e,t>)))))))'/<<<e,t>,e>,<<e,t>,<e,t>>> conflict (mode: Predicate Modification), ⟦[[every man] [[[saw] [[poss] [[mother] him]]]]]⟧ = Type mismatch: '⟦[every man]⟧ = (λ g_<e,t>: (Forall x_e: (Man_<e,t>(x_e) >> g_<e,t>(x_e))))'/<<e,t>,t> and '⟦[[[saw] [[poss] [[mother] him]]]]⟧ = (λ f_<<e,t>,e>: (λ x_<e,t>: (λ y_e: Saw_<(e,e),t>(y_e, (ι x1_e: Mother_<(e,e),t>(x1_e, f_<<e,t>,e>(x_<e,t>)))))))'/<<<e,t>,e>,<<e,t>,<e,t>>> conflict (mode: Predicate Abstraction), ⟦[[[[saw] [[poss] [[mother] him]]]] [every man]]⟧ = Type mismatch: '⟦[[[saw] [[poss] [[mother] him]]]]⟧ = (λ f_<<e,t>,e>: (λ x_<e,t>: (λ y_e: Saw_<(e,e),t>(y_e, (ι x1_e: Mother_<(e,e),t>(x1_e, f_<<e,t>,e>(x_<e,t>)))))))'/<<<e,t>,e>,<<e,t>,<e,t>>> and '⟦[every man]⟧ = (λ g_<e,t>: (Forall x_e: (Man_<e,t>(x_e) >> g_<e,t>(x_e))))'/<<e,t>,t> conflict (mode: Predicate Abstraction), ⟦[[every man] [[[saw] [[poss] [[mother] him]]]]]⟧ = Type mismatch: '⟦[every man]⟧ = (λ g_<e,t>: (Forall x_e: (Man_<e,t>(x_e) >> g_<e,t>(x_e))))'/<<e,t>,t> and '⟦[[[saw] [[poss] [[mother] him]]]]⟧ = (λ g_<e,e>: (λ x_e: Saw_<(e,e),t>(x_e, (ι x1_e: Mother_<(e,e),t>(x1_e, g_<e,e>(x_e))))))'/<<e,e>,<e,t>> conflict (mode: Function Application), ⟦[[[[saw] [[poss] [[mother] him]]]] [every man]]⟧ = Type mismatch: '⟦[[[saw] [[poss] [[mother] him]]]]⟧ = (λ g_<e,e>: (λ x_e: Saw_<(e,e),t>(x_e, (ι x1_e: Mother_<(e,e),t>(x1_e, g_<e,e>(x_e))))))'/<<e,e>,<e,t>> and '⟦[every man]⟧ = (λ g_<e,t>: (Forall x_e: (Man_<e,t>(x_e) >> g_<e,t>(x_e))))'/<<e,t>,t> conflict (mode: Function Application), ⟦[[every man] [[[saw] [[poss] [[mother] him]]]]]⟧ = Type mismatch: '⟦[every man]⟧ = (λ g_<e,t>: (Forall x_e: (Man_<e,t>(x_e) >> g_<e,t>(x_e))))'/<<e,t>,t> and '⟦[[[saw] [[poss] [[mother] him]]]]⟧ = (λ g_<e,e>: (λ x_e: Saw_<(e,e),t>(x_e, (ι x1_e: Mother_<(e,e),t>(x1_e, g_<e,e>(x_e))))))'/<<e,e>,<e,t>> conflict (mode: Predicate Modification), ⟦[[every man] [[[saw] [[poss] [[mother] him]]]]]⟧ = Type mismatch: '⟦[every man]⟧ = (λ g_<e,t>: (Forall x_e: (Man_<e,t>(x_e) >> g_<e,t>(x_e))))'/<<e,t>,t> and '⟦[[[saw] [[poss] [[mother] him]]]]⟧ = (λ g_<e,e>: (λ x_e: Saw_<(e,e),t>(x_e, (ι x1_e: Mother_<(e,e),t>(x1_e, g_<e,e>(x_e))))))'/<<e,e>,<e,t>> conflict (mode: Predicate Abstraction), ⟦[[[[saw] [[poss] [[mother] him]]]] [every man]]⟧ = Type mismatch: '⟦[[[saw] [[poss] [[mother] him]]]]⟧ = (λ g_<e,e>: (λ x_e: Saw_<(e,e),t>(x_e, (ι x1_e: Mother_<(e,e),t>(x1_e, g_<e,e>(x_e))))))'/<<e,e>,<e,t>> and '⟦[every man]⟧ = (λ g_<e,t>: (Forall x_e: (Man_<e,t>(x_e) >> g_<e,t>(x_e))))'/<<e,t>,t> conflict (mode: Predicate Abstraction), ⟦[[every man] [[saw] [[poss] [[mother] him]]]]⟧ = Type mismatch: '⟦[every man]⟧ = (λ g_<e,t>: (Forall x_e: (Man_<e,t>(x_e) >> g_<e,t>(x_e))))'/<<e,t>,t> and '⟦[[saw] [[poss] [[mother] him]]]⟧ = (λ x_e: (λ y_e: Saw_<(e,e),t>(y_e, (ι x1_e: Mother_<(e,e),t>(x1_e, x_e)))))'/<e,<e,t>> conflict (mode: Function Application), ⟦[[[saw] [[poss] [[mother] him]]] [every man]]⟧ = Type mismatch: '⟦[[saw] [[poss] [[mother] him]]]⟧ = (λ x_e: (λ y_e: Saw_<(e,e),t>(y_e, (ι x1_e: Mother_<(e,e),t>(x1_e, x_e)))))'/<e,<e,t>> and '⟦[every man]⟧ = (λ g_<e,t>: (Forall x_e: (Man_<e,t>(x_e) >> g_<e,t>(x_e))))'/<<e,t>,t> conflict (mode: Function Application), ⟦[[every man] [[saw] [[poss] [[mother] him]]]]⟧ = Type mismatch: '⟦[every man]⟧ = (λ g_<e,t>: (Forall x_e: (Man_<e,t>(x_e) >> g_<e,t>(x_e))))'/<<e,t>,t> and '⟦[[saw] [[poss] [[mother] him]]]⟧ = (λ x_e: (λ y_e: Saw_<(e,e),t>(y_e, (ι x1_e: Mother_<(e,e),t>(x1_e, x_e)))))'/<e,<e,t>> conflict (mode: Predicate Modification), ⟦[[every man] [[saw] [[poss] [[mother] him]]]]⟧ = Type mismatch: '⟦[every man]⟧ = (λ g_<e,t>: (Forall x_e: (Man_<e,t>(x_e) >> g_<e,t>(x_e))))'/<<e,t>,t> and '⟦[[saw] [[poss] [[mother] him]]]⟧ = (λ x_e: (λ y_e: Saw_<(e,e),t>(y_e, (ι x1_e: Mother_<(e,e),t>(x1_e, x_e)))))'/<e,<e,t>> conflict (mode: Predicate Abstraction), ⟦[[[saw] [[poss] [[mother] him]]] [every man]]⟧ = Type mismatch: '⟦[[saw] [[poss] [[mother] him]]]⟧ = (λ x_e: (λ y_e: Saw_<(e,e),t>(y_e, (ι x1_e: Mother_<(e,e),t>(x1_e, x_e)))))'/<e,<e,t>> and '⟦[every man]⟧ = (λ g_<e,t>: (Forall x_e: (Man_<e,t>(x_e) >> g_<e,t>(x_e))))'/<<e,t>,t> conflict (mode: Predicate Abstraction), ⟦[[[saw] [[poss] [[mother] him]]] [every man]]⟧ = Type mismatch: '⟦[[saw] [[poss] [[mother] him]]]⟧ = (λ x_e: Saw_<(e,e),t>(x_e, (ι x1_e: Mother_<(e,e),t>(x1_e, x_e))))'/<e,t> and '⟦[every man]⟧ = (λ g_<e,t>: (Forall x_e: (Man_<e,t>(x_e) >> g_<e,t>(x_e))))'/<<e,t>,t> conflict (mode: Function Application), ⟦[[every man] [[saw] [[poss] [[mother] him]]]]⟧ = Type mismatch: '⟦[every man]⟧ = (λ g_<e,t>: (Forall x_e: (Man_<e,t>(x_e) >> g_<e,t>(x_e))))'/<<e,t>,t> and '⟦[[saw] [[poss] [[mother] him]]]⟧ = (λ x_e: Saw_<(e,e),t>(x_e, (ι x1_e: Mother_<(e,e),t>(x1_e, x_e))))'/<e,t> conflict (mode: Predicate Modification), ⟦[[every man] [[saw] [[poss] [[mother] him]]]]⟧ = Type mismatch: '⟦[every man]⟧ = (λ g_<e,t>: (Forall x_e: (Man_<e,t>(x_e) >> g_<e,t>(x_e))))'/<<e,t>,t> and '⟦[[saw] [[poss] [[mother] him]]]⟧ = (λ x_e: Saw_<(e,e),t>(x_e, (ι x1_e: Mother_<(e,e),t>(x1_e, x_e))))'/<e,t> conflict (mode: Predicate Abstraction), ⟦[[[saw] [[poss] [[mother] him]]] [every man]]⟧ = Type mismatch: '⟦[[saw] [[poss] [[mother] him]]]⟧ = (λ x_e: Saw_<(e,e),t>(x_e, (ι x1_e: Mother_<(e,e),t>(x1_e, x_e))))'/<e,t> and '⟦[every man]⟧ = (λ g_<e,t>: (Forall x_e: (Man_<e,t>(x_e) >> g_<e,t>(x_e))))'/<<e,t>,t> conflict (mode: Predicate Abstraction), ⟦[[[every man]] [[[[[[[mother] him]] poss]] saw]]]⟧ = Type mismatch: '⟦[[every man]]⟧ = (λ f_<e,<e,t>>: (λ x_e: (Forall x1_e: (Man_<e,t>(x1_e) >> f_<e,<e,t>>(x_e)(x1_e)))))'/<<e,<e,t>>,<e,t>> and '⟦[[[[[[[mother] him]] poss]] saw]]⟧ = (λ f_<e,e>: (λ x_e: (λ y_e: Mother_<(e,e),t>(y_e, (ι x1_e: Saw_<(e,e),t>(x1_e, f_<e,e>(x_e)))))))'/<<e,e>,<e,<e,t>>> conflict (mode: Function Application), ⟦[[[[[[[[mother] him]] poss]] saw]] [[every man]]]⟧ = Type mismatch: '⟦[[[[[[[mother] him]] poss]] saw]]⟧ = (λ f_<e,e>: (λ x_e: (λ y_e: Mother_<(e,e),t>(y_e, (ι x1_e: Saw_<(e,e),t>(x1_e, f_<e,e>(x_e)))))))'/<<e,e>,<e,<e,t>>> and '⟦[[every man]]⟧ = (λ f_<e,<e,t>>: (λ x_e: (Forall x1_e: (Man_<e,t>(x1_e) >> f_<e,<e,t>>(x_e)(x1_e)))))'/<<e,<e,t>>,<e,t>> conflict (mode: Function Application), ⟦[[[every man]] [[[[[[[mother] him]] poss]] saw]]]⟧ = Type mismatch: '⟦[[every man]]⟧ = (λ f_<e,<e,t>>: (λ x_e: (Forall x1_e: (Man_<e,t>(x1_e) >> f_<e,<e,t>>(x_e)(x1_e)))))'/<<e,<e,t>>,<e,t>> and '⟦[[[[[[[mother] him]] poss]] saw]]⟧ = (λ f_<e,e>: (λ x_e: (λ y_e: Mother_<(e,e),t>(y_e, (ι x1_e: Saw_<(e,e),t>(x1_e, f_<e,e>(x_e)))))))'/<<e,e>,<e,<e,t>>> conflict (mode: Predicate Modification), ⟦[[[every man]] [[[[[[[mother] him]] poss]] saw]]]⟧ = Type mismatch: '⟦[[every man]]⟧ = (λ f_<e,<e,t>>: (λ x_e: (Forall x1_e: (Man_<e,t>(x1_e) >> f_<e,<e,t>>(x_e)(x1_e)))))'/<<e,<e,t>>,<e,t>> and '⟦[[[[[[[mother] him]] poss]] saw]]⟧ = (λ f_<e,e>: (λ x_e: (λ y_e: Mother_<(e,e),t>(y_e, (ι x1_e: Saw_<(e,e),t>(x1_e, f_<e,e>(x_e)))))))'/<<e,e>,<e,<e,t>>> conflict (mode: Predicate Abstraction), ⟦[[[[[[[[mother] him]] poss]] saw]] [[every man]]]⟧ = Type mismatch: '⟦[[[[[[[mother] him]] poss]] saw]]⟧ = (λ f_<e,e>: (λ x_e: (λ y_e: Mother_<(e,e),t>(y_e, (ι x1_e: Saw_<(e,e),t>(x1_e, f_<e,e>(x_e)))))))'/<<e,e>,<e,<e,t>>> and '⟦[[every man]]⟧ = (λ f_<e,<e,t>>: (λ x_e: (Forall x1_e: (Man_<e,t>(x1_e) >> f_<e,<e,t>>(x_e)(x1_e)))))'/<<e,<e,t>>,<e,t>> conflict (mode: Predicate Abstraction), ⟦[[[every man]] [[[[[[[mother] him]] poss]] saw]]]⟧ = Type mismatch: '⟦[[every man]]⟧ = (λ f_<e,<e,t>>: (λ x_e: (Forall x1_e: (Man_<e,t>(x1_e) >> f_<e,<e,t>>(x_e)(x1_e)))))'/<<e,<e,t>>,<e,t>> and '⟦[[[[[[[mother] him]] poss]] saw]]⟧ = (λ f_<<e,t>,e>: (λ x_<e,t>: (λ y_e: Mother_<(e,e),t>(y_e, (ι x1_e: Saw_<(e,e),t>(x1_e, f_<<e,t>,e>(x_<e,t>)))))))'/<<<e,t>,e>,<<e,t>,<e,t>>> conflict (mode: Function Application), ⟦[[[[[[[[mother] him]] poss]] saw]] [[every man]]]⟧ = Type mismatch: '⟦[[[[[[[mother] him]] poss]] saw]]⟧ = (λ f_<<e,t>,e>: (λ x_<e,t>: (λ y_e: Mother_<(e,e),t>(y_e, (ι x1_e: Saw_<(e,e),t>(x1_e, f_<<e,t>,e>(x_<e,t>)))))))'/<<<e,t>,e>,<<e,t>,<e,t>>> and '⟦[[every man]]⟧ = (λ f_<e,<e,t>>: (λ x_e: (Forall x1_e: (Man_<e,t>(x1_e) >> f_<e,<e,t>>(x_e)(x1_e)))))'/<<e,<e,t>>,<e,t>> conflict (mode: Function Application), ⟦[[[every man]] [[[[[[[mother] him]] poss]] saw]]]⟧ = Type mismatch: '⟦[[every man]]⟧ = (λ f_<e,<e,t>>: (λ x_e: (Forall x1_e: (Man_<e,t>(x1_e) >> f_<e,<e,t>>(x_e)(x1_e)))))'/<<e,<e,t>>,<e,t>> and '⟦[[[[[[[mother] him]] poss]] saw]]⟧ = (λ f_<<e,t>,e>: (λ x_<e,t>: (λ y_e: Mother_<(e,e),t>(y_e, (ι x1_e: Saw_<(e,e),t>(x1_e, f_<<e,t>,e>(x_<e,t>)))))))'/<<<e,t>,e>,<<e,t>,<e,t>>> conflict (mode: Predicate Modification), ⟦[[[every man]] [[[[[[[mother] him]] poss]] saw]]]⟧ = Type mismatch: '⟦[[every man]]⟧ = (λ f_<e,<e,t>>: (λ x_e: (Forall x1_e: (Man_<e,t>(x1_e) >> f_<e,<e,t>>(x_e)(x1_e)))))'/<<e,<e,t>>,<e,t>> and '⟦[[[[[[[mother] him]] poss]] saw]]⟧ = (λ f_<<e,t>,e>: (λ x_<e,t>: (λ y_e: Mother_<(e,e),t>(y_e, (ι x1_e: Saw_<(e,e),t>(x1_e, f_<<e,t>,e>(x_<e,t>)))))))'/<<<e,t>,e>,<<e,t>,<e,t>>> conflict (mode: Predicate Abstraction), ⟦[[[[[[[[mother] him]] poss]] saw]] [[every man]]]⟧ = Type mismatch: '⟦[[[[[[[mother] him]] poss]] saw]]⟧ = (λ f_<<e,t>,e>: (λ x_<e,t>: (λ y_e: Mother_<(e,e),t>(y_e, (ι x1_e: Saw_<(e,e),t>(x1_e, f_<<e,t>,e>(x_<e,t>)))))))'/<<<e,t>,e>,<<e,t>,<e,t>>> and '⟦[[every man]]⟧ = (λ f_<e,<e,t>>: (λ x_e: (Forall x1_e: (Man_<e,t>(x1_e) >> f_<e,<e,t>>(x_e)(x1_e)))))'/<<e,<e,t>>,<e,t>> conflict (mode: Predicate Abstraction), ⟦[[[every man]] [[[[[[[mother] him]] poss]] saw]]]⟧ = Type mismatch: '⟦[[every man]]⟧ = (λ f_<e,<e,t>>: (λ x_e: (Forall x1_e: (Man_<e,t>(x1_e) >> f_<e,<e,t>>(x_e)(x1_e)))))'/<<e,<e,t>>,<e,t>> and '⟦[[[[[[[mother] him]] poss]] saw]]⟧ = (λ g_<e,e>: (λ x_e: Mother_<(e,e),t>(x_e, (ι x1_e: Saw_<(e,e),t>(x1_e, g_<e,e>(x_e))))))'/<<e,e>,<e,t>> conflict (mode: Function Application), ⟦[[[[[[[[mother] him]] poss]] saw]] [[every man]]]⟧ = Type mismatch: '⟦[[[[[[[mother] him]] poss]] saw]]⟧ = (λ g_<e,e>: (λ x_e: Mother_<(e,e),t>(x_e, (ι x1_e: Saw_<(e,e),t>(x1_e, g_<e,e>(x_e))))))'/<<e,e>,<e,t>> and '⟦[[every man]]⟧ = (λ f_<e,<e,t>>: (λ x_e: (Forall x1_e: (Man_<e,t>(x1_e) >> f_<e,<e,t>>(x_e)(x1_e)))))'/<<e,<e,t>>,<e,t>> conflict (mode: Function Application), ⟦[[[every man]] [[[[[[[mother] him]] poss]] saw]]]⟧ = Type mismatch: '⟦[[every man]]⟧ = (λ f_<e,<e,t>>: (λ x_e: (Forall x1_e: (Man_<e,t>(x1_e) >> f_<e,<e,t>>(x_e)(x1_e)))))'/<<e,<e,t>>,<e,t>> and '⟦[[[[[[[mother] him]] poss]] saw]]⟧ = (λ g_<e,e>: (λ x_e: Mother_<(e,e),t>(x_e, (ι x1_e: Saw_<(e,e),t>(x1_e, g_<e,e>(x_e))))))'/<<e,e>,<e,t>> conflict (mode: Predicate Modification), ⟦[[[every man]] [[[[[[[mother] him]] poss]] saw]]]⟧ = Type mismatch: '⟦[[every man]]⟧ = (λ f_<e,<e,t>>: (λ x_e: (Forall x1_e: (Man_<e,t>(x1_e) >> f_<e,<e,t>>(x_e)(x1_e)))))'/<<e,<e,t>>,<e,t>> and '⟦[[[[[[[mother] him]] poss]] saw]]⟧ = (λ g_<e,e>: (λ x_e: Mother_<(e,e),t>(x_e, (ι x1_e: Saw_<(e,e),t>(x1_e, g_<e,e>(x_e))))))'/<<e,e>,<e,t>> conflict (mode: Predicate Abstraction), ⟦[[[[[[[[mother] him]] poss]] saw]] [[every man]]]⟧ = Type mismatch: '⟦[[[[[[[mother] him]] poss]] saw]]⟧ = (λ g_<e,e>: (λ x_e: Mother_<(e,e),t>(x_e, (ι x1_e: Saw_<(e,e),t>(x1_e, g_<e,e>(x_e))))))'/<<e,e>,<e,t>> and '⟦[[every man]]⟧ = (λ f_<e,<e,t>>: (λ x_e: (Forall x1_e: (Man_<e,t>(x1_e) >> f_<e,<e,t>>(x_e)(x1_e)))))'/<<e,<e,t>>,<e,t>> conflict (mode: Predicate Abstraction), ⟦[[[[[[[mother] him]] poss]] saw] [[every man]]]⟧ = Type mismatch: '⟦[[[[[[mother] him]] poss]] saw]⟧ = (λ x_e: (λ y_e: Mother_<(e,e),t>(y_e, (ι x1_e: Saw_<(e,e),t>(x1_e, x_e)))))'/<e,<e,t>> and '⟦[[every man]]⟧ = (λ f_<e,<e,t>>: (λ x_e: (Forall x1_e: (Man_<e,t>(x1_e) >> f_<e,<e,t>>(x_e)(x1_e)))))'/<<e,<e,t>>,<e,t>> conflict (mode: Function Application), ⟦[[[every man]] [[[[[[mother] him]] poss]] saw]]⟧ = Type mismatch: '⟦[[every man]]⟧ = (λ f_<e,<e,t>>: (λ x_e: (Forall x1_e: (Man_<e,t>(x1_e) >> f_<e,<e,t>>(x_e)(x1_e)))))'/<<e,<e,t>>,<e,t>> and '⟦[[[[[[mother] him]] poss]] saw]⟧ = (λ x_e: (λ y_e: Mother_<(e,e),t>(y_e, (ι x1_e: Saw_<(e,e),t>(x1_e, x_e)))))'/<e,<e,t>> conflict (mode: Predicate Modification), ⟦[[[every man]] [[[[[[mother] him]] poss]] saw]]⟧ = Type mismatch: '⟦[[every man]]⟧ = (λ f_<e,<e,t>>: (λ x_e: (Forall x1_e: (Man_<e,t>(x1_e) >> f_<e,<e,t>>(x_e)(x1_e)))))'/<<e,<e,t>>,<e,t>> and '⟦[[[[[[mother] him]] poss]] saw]⟧ = (λ x_e: (λ y_e: Mother_<(e,e),t>(y_e, (ι x1_e: Saw_<(e,e),t>(x1_e, x_e)))))'/<e,<e,t>> conflict (mode: Predicate Abstraction), ⟦[[[[[[[mother] him]] poss]] saw] [[every man]]]⟧ = Type mismatch: '⟦[[[[[[mother] him]] poss]] saw]⟧ = (λ x_e: (λ y_e: Mother_<(e,e),t>(y_e, (ι x1_e: Saw_<(e,e),t>(x1_e, x_e)))))'/<e,<e,t>> and '⟦[[every man]]⟧ = (λ f_<e,<e,t>>: (λ x_e: (Forall x1_e: (Man_<e,t>(x1_e) >> f_<e,<e,t>>(x_e)(x1_e)))))'/<<e,<e,t>>,<e,t>> conflict (mode: Predicate Abstraction), ⟦[[[every man]] [[[[[[[mother] him]] poss]] saw]]]⟧ = Type mismatch: '⟦[[every man]]⟧ = (λ f_<<e,t>,<e,t>>: (λ x_<e,t>: (Forall x1_e: (Man_<e,t>(x1_e) >> f_<<e,t>,<e,t>>(x_<e,t>)(x1_e)))))'/<<<e,t>,<e,t>>,<<e,t>,t>> and '⟦[[[[[[[mother] him]] poss]] saw]]⟧ = (λ f_<e,e>: (λ x_e: (λ y_e: Mother_<(e,e),t>(y_e, (ι x1_e: Saw_<(e,e),t>(x1_e, f_<e,e>(x_e)))))))'/<<e,e>,<e,<e,t>>> conflict (mode: Function Application), ⟦[[[[[[[[mother] him]] poss]] saw]] [[every man]]]⟧ = Type mismatch: '⟦[[[[[[[mother] him]] poss]] saw]]⟧ = (λ f_<e,e>: (λ x_e: (λ y_e: Mother_<(e,e),t>(y_e, (ι x1_e: Saw_<(e,e),t>(x1_e, f_<e,e>(x_e)))))))'/<<e,e>,<e,<e,t>>> and '⟦[[every man]]⟧ = (λ f_<<e,t>,<e,t>>: (λ x_<e,t>: (Forall x1_e: (Man_<e,t>(x1_e) >> f_<<e,t>,<e,t>>(x_<e,t>)(x1_e)))))'/<<<e,t>,<e,t>>,<<e,t>,t>> conflict (mode: Function Application), ⟦[[[every man]] [[[[[[[mother] him]] poss]] saw]]]⟧ = Type mismatch: '⟦[[every man]]⟧ = (λ f_<<e,t>,<e,t>>: (λ x_<e,t>: (Forall x1_e: (Man_<e,t>(x1_e) >> f_<<e,t>,<e,t>>(x_<e,t>)(x1_e)))))'/<<<e,t>,<e,t>>,<<e,t>,t>> and '⟦[[[[[[[mother] him]] poss]] saw]]⟧ = (λ f_<e,e>: (λ x_e: (λ y_e: Mother_<(e,e),t>(y_e, (ι x1_e: Saw_<(e,e),t>(x1_e, f_<e,e>(x_e)))))))'/<<e,e>,<e,<e,t>>> conflict (mode: Predicate Modification), ⟦[[[every man]] [[[[[[[mother] him]] poss]] saw]]]⟧ = Type mismatch: '⟦[[every man]]⟧ = (λ f_<<e,t>,<e,t>>: (λ x_<e,t>: (Forall x1_e: (Man_<e,t>(x1_e) >> f_<<e,t>,<e,t>>(x_<e,t>)(x1_e)))))'/<<<e,t>,<e,t>>,<<e,t>,t>> and '⟦[[[[[[[mother] him]] poss]] saw]]⟧ = (λ f_<e,e>: (λ x_e: (λ y_e: Mother_<(e,e),t>(y_e, (ι x1_e: Saw_<(e,e),t>(x1_e, f_<e,e>(x_e)))))))'/<<e,e>,<e,<e,t>>> conflict (mode: Predicate Abstraction), ⟦[[[[[[[[mother] him]] poss]] saw]] [[every man]]]⟧ = Type mismatch: '⟦[[[[[[[mother] him]] poss]] saw]]⟧ = (λ f_<e,e>: (λ x_e: (λ y_e: Mother_<(e,e),t>(y_e, (ι x1_e: Saw_<(e,e),t>(x1_e, f_<e,e>(x_e)))))))'/<<e,e>,<e,<e,t>>> and '⟦[[every man]]⟧ = (λ f_<<e,t>,<e,t>>: (λ x_<e,t>: (Forall x1_e: (Man_<e,t>(x1_e) >> f_<<e,t>,<e,t>>(x_<e,t>)(x1_e)))))'/<<<e,t>,<e,t>>,<<e,t>,t>> conflict (mode: Predicate Abstraction), ⟦[[[every man]] [[[[[[[mother] him]] poss]] saw]]]⟧ = Type mismatch: '⟦[[every man]]⟧ = (λ f_<<e,t>,<e,t>>: (λ x_<e,t>: (Forall x1_e: (Man_<e,t>(x1_e) >> f_<<e,t>,<e,t>>(x_<e,t>)(x1_e)))))'/<<<e,t>,<e,t>>,<<e,t>,t>> and '⟦[[[[[[[mother] him]] poss]] saw]]⟧ = (λ f_<<e,t>,e>: (λ x_<e,t>: (λ y_e: Mother_<(e,e),t>(y_e, (ι x1_e: Saw_<(e,e),t>(x1_e, f_<<e,t>,e>(x_<e,t>)))))))'/<<<e,t>,e>,<<e,t>,<e,t>>> conflict (mode: Function Application), ⟦[[[[[[[[mother] him]] poss]] saw]] [[every man]]]⟧ = Type mismatch: '⟦[[[[[[[mother] him]] poss]] saw]]⟧ = (λ f_<<e,t>,e>: (λ x_<e,t>: (λ y_e: Mother_<(e,e),t>(y_e, (ι x1_e: Saw_<(e,e),t>(x1_e, f_<<e,t>,e>(x_<e,t>)))))))'/<<<e,t>,e>,<<e,t>,<e,t>>> and '⟦[[every man]]⟧ = (λ f_<<e,t>,<e,t>>: (λ x_<e,t>: (Forall x1_e: (Man_<e,t>(x1_e) >> f_<<e,t>,<e,t>>(x_<e,t>)(x1_e)))))'/<<<e,t>,<e,t>>,<<e,t>,t>> conflict (mode: Function Application), ⟦[[[every man]] [[[[[[[mother] him]] poss]] saw]]]⟧ = Type mismatch: '⟦[[every man]]⟧ = (λ f_<<e,t>,<e,t>>: (λ x_<e,t>: (Forall x1_e: (Man_<e,t>(x1_e) >> f_<<e,t>,<e,t>>(x_<e,t>)(x1_e)))))'/<<<e,t>,<e,t>>,<<e,t>,t>> and '⟦[[[[[[[mother] him]] poss]] saw]]⟧ = (λ f_<<e,t>,e>: (λ x_<e,t>: (λ y_e: Mother_<(e,e),t>(y_e, (ι x1_e: Saw_<(e,e),t>(x1_e, f_<<e,t>,e>(x_<e,t>)))))))'/<<<e,t>,e>,<<e,t>,<e,t>>> conflict (mode: Predicate Modification), ⟦[[[every man]] [[[[[[[mother] him]] poss]] saw]]]⟧ = Type mismatch: '⟦[[every man]]⟧ = (λ f_<<e,t>,<e,t>>: (λ x_<e,t>: (Forall x1_e: (Man_<e,t>(x1_e) >> f_<<e,t>,<e,t>>(x_<e,t>)(x1_e)))))'/<<<e,t>,<e,t>>,<<e,t>,t>> and '⟦[[[[[[[mother] him]] poss]] saw]]⟧ = (λ f_<<e,t>,e>: (λ x_<e,t>: (λ y_e: Mother_<(e,e),t>(y_e, (ι x1_e: Saw_<(e,e),t>(x1_e, f_<<e,t>,e>(x_<e,t>)))))))'/<<<e,t>,e>,<<e,t>,<e,t>>> conflict (mode: Predicate Abstraction), ⟦[[[[[[[[mother] him]] poss]] saw]] [[every man]]]⟧ = Type mismatch: '⟦[[[[[[[mother] him]] poss]] saw]]⟧ = (λ f_<<e,t>,e>: (λ x_<e,t>: (λ y_e: Mother_<(e,e),t>(y_e, (ι x1_e: Saw_<(e,e),t>(x1_e, f_<<e,t>,e>(x_<e,t>)))))))'/<<<e,t>,e>,<<e,t>,<e,t>>> and '⟦[[every man]]⟧ = (λ f_<<e,t>,<e,t>>: (λ x_<e,t>: (Forall x1_e: (Man_<e,t>(x1_e) >> f_<<e,t>,<e,t>>(x_<e,t>)(x1_e)))))'/<<<e,t>,<e,t>>,<<e,t>,t>> conflict (mode: Predicate Abstraction), ⟦[[[every man]] [[[[[[[mother] him]] poss]] saw]]]⟧ = Type mismatch: '⟦[[every man]]⟧ = (λ f_<<e,t>,<e,t>>: (λ x_<e,t>: (Forall x1_e: (Man_<e,t>(x1_e) >> f_<<e,t>,<e,t>>(x_<e,t>)(x1_e)))))'/<<<e,t>,<e,t>>,<<e,t>,t>> and '⟦[[[[[[[mother] him]] poss]] saw]]⟧ = (λ g_<e,e>: (λ x_e: Mother_<(e,e),t>(x_e, (ι x1_e: Saw_<(e,e),t>(x1_e, g_<e,e>(x_e))))))'/<<e,e>,<e,t>> conflict (mode: Function Application), ⟦[[[[[[[[mother] him]] poss]] saw]] [[every man]]]⟧ = Type mismatch: '⟦[[[[[[[mother] him]] poss]] saw]]⟧ = (λ g_<e,e>: (λ x_e: Mother_<(e,e),t>(x_e, (ι x1_e: Saw_<(e,e),t>(x1_e, g_<e,e>(x_e))))))'/<<e,e>,<e,t>> and '⟦[[every man]]⟧ = (λ f_<<e,t>,<e,t>>: (λ x_<e,t>: (Forall x1_e: (Man_<e,t>(x1_e) >> f_<<e,t>,<e,t>>(x_<e,t>)(x1_e)))))'/<<<e,t>,<e,t>>,<<e,t>,t>> conflict (mode: Function Application), ⟦[[[every man]] [[[[[[[mother] him]] poss]] saw]]]⟧ = Type mismatch: '⟦[[every man]]⟧ = (λ f_<<e,t>,<e,t>>: (λ x_<e,t>: (Forall x1_e: (Man_<e,t>(x1_e) >> f_<<e,t>,<e,t>>(x_<e,t>)(x1_e)))))'/<<<e,t>,<e,t>>,<<e,t>,t>> and '⟦[[[[[[[mother] him]] poss]] saw]]⟧ = (λ g_<e,e>: (λ x_e: Mother_<(e,e),t>(x_e, (ι x1_e: Saw_<(e,e),t>(x1_e, g_<e,e>(x_e))))))'/<<e,e>,<e,t>> conflict (mode: Predicate Modification), ⟦[[[every man]] [[[[[[[mother] him]] poss]] saw]]]⟧ = Type mismatch: '⟦[[every man]]⟧ = (λ f_<<e,t>,<e,t>>: (λ x_<e,t>: (Forall x1_e: (Man_<e,t>(x1_e) >> f_<<e,t>,<e,t>>(x_<e,t>)(x1_e)))))'/<<<e,t>,<e,t>>,<<e,t>,t>> and '⟦[[[[[[[mother] him]] poss]] saw]]⟧ = (λ g_<e,e>: (λ x_e: Mother_<(e,e),t>(x_e, (ι x1_e: Saw_<(e,e),t>(x1_e, g_<e,e>(x_e))))))'/<<e,e>,<e,t>> conflict (mode: Predicate Abstraction), ⟦[[[[[[[[mother] him]] poss]] saw]] [[every man]]]⟧ = Type mismatch: '⟦[[[[[[[mother] him]] poss]] saw]]⟧ = (λ g_<e,e>: (λ x_e: Mother_<(e,e),t>(x_e, (ι x1_e: Saw_<(e,e),t>(x1_e, g_<e,e>(x_e))))))'/<<e,e>,<e,t>> and '⟦[[every man]]⟧ = (λ f_<<e,t>,<e,t>>: (λ x_<e,t>: (Forall x1_e: (Man_<e,t>(x1_e) >> f_<<e,t>,<e,t>>(x_<e,t>)(x1_e)))))'/<<<e,t>,<e,t>>,<<e,t>,t>> conflict (mode: Predicate Abstraction), ⟦[[[every man]] [[[[[[mother] him]] poss]] saw]]⟧ = Type mismatch: '⟦[[every man]]⟧ = (λ f_<<e,t>,<e,t>>: (λ x_<e,t>: (Forall x1_e: (Man_<e,t>(x1_e) >> f_<<e,t>,<e,t>>(x_<e,t>)(x1_e)))))'/<<<e,t>,<e,t>>,<<e,t>,t>> and '⟦[[[[[[mother] him]] poss]] saw]⟧ = (λ x_e: (λ y_e: Mother_<(e,e),t>(y_e, (ι x1_e: Saw_<(e,e),t>(x1_e, x_e)))))'/<e,<e,t>> conflict (mode: Function Application), ⟦[[[[[[[mother] him]] poss]] saw] [[every man]]]⟧ = Type mismatch: '⟦[[[[[[mother] him]] poss]] saw]⟧ = (λ x_e: (λ y_e: Mother_<(e,e),t>(y_e, (ι x1_e: Saw_<(e,e),t>(x1_e, x_e)))))'/<e,<e,t>> and '⟦[[every man]]⟧ = (λ f_<<e,t>,<e,t>>: (λ x_<e,t>: (Forall x1_e: (Man_<e,t>(x1_e) >> f_<<e,t>,<e,t>>(x_<e,t>)(x1_e)))))'/<<<e,t>,<e,t>>,<<e,t>,t>> conflict (mode: Function Application), ⟦[[[every man]] [[[[[[mother] him]] poss]] saw]]⟧ = Type mismatch: '⟦[[every man]]⟧ = (λ f_<<e,t>,<e,t>>: (λ x_<e,t>: (Forall x1_e: (Man_<e,t>(x1_e) >> f_<<e,t>,<e,t>>(x_<e,t>)(x1_e)))))'/<<<e,t>,<e,t>>,<<e,t>,t>> and '⟦[[[[[[mother] him]] poss]] saw]⟧ = (λ x_e: (λ y_e: Mother_<(e,e),t>(y_e, (ι x1_e: Saw_<(e,e),t>(x1_e, x_e)))))'/<e,<e,t>> conflict (mode: Predicate Modification), ⟦[[[every man]] [[[[[[mother] him]] poss]] saw]]⟧ = Type mismatch: '⟦[[every man]]⟧ = (λ f_<<e,t>,<e,t>>: (λ x_<e,t>: (Forall x1_e: (Man_<e,t>(x1_e) >> f_<<e,t>,<e,t>>(x_<e,t>)(x1_e)))))'/<<<e,t>,<e,t>>,<<e,t>,t>> and '⟦[[[[[[mother] him]] poss]] saw]⟧ = (λ x_e: (λ y_e: Mother_<(e,e),t>(y_e, (ι x1_e: Saw_<(e,e),t>(x1_e, x_e)))))'/<e,<e,t>> conflict (mode: Predicate Abstraction), ⟦[[[[[[[mother] him]] poss]] saw] [[every man]]]⟧ = Type mismatch: '⟦[[[[[[mother] him]] poss]] saw]⟧ = (λ x_e: (λ y_e: Mother_<(e,e),t>(y_e, (ι x1_e: Saw_<(e,e),t>(x1_e, x_e)))))'/<e,<e,t>> and '⟦[[every man]]⟧ = (λ f_<<e,t>,<e,t>>: (λ x_<e,t>: (Forall x1_e: (Man_<e,t>(x1_e) >> f_<<e,t>,<e,t>>(x_<e,t>)(x1_e)))))'/<<<e,t>,<e,t>>,<<e,t>,t>> conflict (mode: Predicate Abstraction), ⟦[[every man] [[[[[[[mother] him]] poss]] saw]]]⟧ = Type mismatch: '⟦[every man]⟧ = (λ g_<e,t>: (Forall x_e: (Man_<e,t>(x_e) >> g_<e,t>(x_e))))'/<<e,t>,t> and '⟦[[[[[[[mother] him]] poss]] saw]]⟧ = (λ f_<e,e>: (λ x_e: (λ y_e: Mother_<(e,e),t>(y_e, (ι x1_e: Saw_<(e,e),t>(x1_e, f_<e,e>(x_e)))))))'/<<e,e>,<e,<e,t>>> conflict (mode: Function Application), ⟦[[[[[[[[mother] him]] poss]] saw]] [every man]]⟧ = Type mismatch: '⟦[[[[[[[mother] him]] poss]] saw]]⟧ = (λ f_<e,e>: (λ x_e: (λ y_e: Mother_<(e,e),t>(y_e, (ι x1_e: Saw_<(e,e),t>(x1_e, f_<e,e>(x_e)))))))'/<<e,e>,<e,<e,t>>> and '⟦[every man]⟧ = (λ g_<e,t>: (Forall x_e: (Man_<e,t>(x_e) >> g_<e,t>(x_e))))'/<<e,t>,t> conflict (mode: Function Application), ⟦[[every man] [[[[[[[mother] him]] poss]] saw]]]⟧ = Type mismatch: '⟦[every man]⟧ = (λ g_<e,t>: (Forall x_e: (Man_<e,t>(x_e) >> g_<e,t>(x_e))))'/<<e,t>,t> and '⟦[[[[[[[mother] him]] poss]] saw]]⟧ = (λ f_<e,e>: (λ x_e: (λ y_e: Mother_<(e,e),t>(y_e, (ι x1_e: Saw_<(e,e),t>(x1_e, f_<e,e>(x_e)))))))'/<<e,e>,<e,<e,t>>> conflict (mode: Predicate Modification), ⟦[[every man] [[[[[[[mother] him]] poss]] saw]]]⟧ = Type mismatch: '⟦[every man]⟧ = (λ g_<e,t>: (Forall x_e: (Man_<e,t>(x_e) >> g_<e,t>(x_e))))'/<<e,t>,t> and '⟦[[[[[[[mother] him]] poss]] saw]]⟧ = (λ f_<e,e>: (λ x_e: (λ y_e: Mother_<(e,e),t>(y_e, (ι x1_e: Saw_<(e,e),t>(x1_e, f_<e,e>(x_e)))))))'/<<e,e>,<e,<e,t>>> conflict (mode: Predicate Abstraction), ⟦[[[[[[[[mother] him]] poss]] saw]] [every man]]⟧ = Type mismatch: '⟦[[[[[[[mother] him]] poss]] saw]]⟧ = (λ f_<e,e>: (λ x_e: (λ y_e: Mother_<(e,e),t>(y_e, (ι x1_e: Saw_<(e,e),t>(x1_e, f_<e,e>(x_e)))))))'/<<e,e>,<e,<e,t>>> and '⟦[every man]⟧ = (λ g_<e,t>: (Forall x_e: (Man_<e,t>(x_e) >> g_<e,t>(x_e))))'/<<e,t>,t> conflict (mode: Predicate Abstraction), ⟦[[every man] [[[[[[[mother] him]] poss]] saw]]]⟧ = Type mismatch: '⟦[every man]⟧ = (λ g_<e,t>: (Forall x_e: (Man_<e,t>(x_e) >> g_<e,t>(x_e))))'/<<e,t>,t> and '⟦[[[[[[[mother] him]] poss]] saw]]⟧ = (λ f_<<e,t>,e>: (λ x_<e,t>: (λ y_e: Mother_<(e,e),t>(y_e, (ι x1_e: Saw_<(e,e),t>(x1_e, f_<<e,t>,e>(x_<e,t>)))))))'/<<<e,t>,e>,<<e,t>,<e,t>>> conflict (mode: Function Application), ⟦[[[[[[[[mother] him]] poss]] saw]] [every man]]⟧ = Type mismatch: '⟦[[[[[[[mother] him]] poss]] saw]]⟧ = (λ f_<<e,t>,e>: (λ x_<e,t>: (λ y_e: Mother_<(e,e),t>(y_e, (ι x1_e: Saw_<(e,e),t>(x1_e, f_<<e,t>,e>(x_<e,t>)))))))'/<<<e,t>,e>,<<e,t>,<e,t>>> and '⟦[every man]⟧ = (λ g_<e,t>: (Forall x_e: (Man_<e,t>(x_e) >> g_<e,t>(x_e))))'/<<e,t>,t> conflict (mode: Function Application), ⟦[[every man] [[[[[[[mother] him]] poss]] saw]]]⟧ = Type mismatch: '⟦[every man]⟧ = (λ g_<e,t>: (Forall x_e: (Man_<e,t>(x_e) >> g_<e,t>(x_e))))'/<<e,t>,t> and '⟦[[[[[[[mother] him]] poss]] saw]]⟧ = (λ f_<<e,t>,e>: (λ x_<e,t>: (λ y_e: Mother_<(e,e),t>(y_e, (ι x1_e: Saw_<(e,e),t>(x1_e, f_<<e,t>,e>(x_<e,t>)))))))'/<<<e,t>,e>,<<e,t>,<e,t>>> conflict (mode: Predicate Modification), ⟦[[every man] [[[[[[[mother] him]] poss]] saw]]]⟧ = Type mismatch: '⟦[every man]⟧ = (λ g_<e,t>: (Forall x_e: (Man_<e,t>(x_e) >> g_<e,t>(x_e))))'/<<e,t>,t> and '⟦[[[[[[[mother] him]] poss]] saw]]⟧ = (λ f_<<e,t>,e>: (λ x_<e,t>: (λ y_e: Mother_<(e,e),t>(y_e, (ι x1_e: Saw_<(e,e),t>(x1_e, f_<<e,t>,e>(x_<e,t>)))))))'/<<<e,t>,e>,<<e,t>,<e,t>>> conflict (mode: Predicate Abstraction), ⟦[[[[[[[[mother] him]] poss]] saw]] [every man]]⟧ = Type mismatch: '⟦[[[[[[[mother] him]] poss]] saw]]⟧ = (λ f_<<e,t>,e>: (λ x_<e,t>: (λ y_e: Mother_<(e,e),t>(y_e, (ι x1_e: Saw_<(e,e),t>(x1_e, f_<<e,t>,e>(x_<e,t>)))))))'/<<<e,t>,e>,<<e,t>,<e,t>>> and '⟦[every man]⟧ = (λ g_<e,t>: (Forall x_e: (Man_<e,t>(x_e) >> g_<e,t>(x_e))))'/<<e,t>,t> conflict (mode: Predicate Abstraction), ⟦[[every man] [[[[[[[mother] him]] poss]] saw]]]⟧ = Type mismatch: '⟦[every man]⟧ = (λ g_<e,t>: (Forall x_e: (Man_<e,t>(x_e) >> g_<e,t>(x_e))))'/<<e,t>,t> and '⟦[[[[[[[mother] him]] poss]] saw]]⟧ = (λ g_<e,e>: (λ x_e: Mother_<(e,e),t>(x_e, (ι x1_e: Saw_<(e,e),t>(x1_e, g_<e,e>(x_e))))))'/<<e,e>,<e,t>> conflict (mode: Function Application), ⟦[[[[[[[[mother] him]] poss]] saw]] [every man]]⟧ = Type mismatch: '⟦[[[[[[[mother] him]] poss]] saw]]⟧ = (λ g_<e,e>: (λ x_e: Mother_<(e,e),t>(x_e, (ι x1_e: Saw_<(e,e),t>(x1_e, g_<e,e>(x_e))))))'/<<e,e>,<e,t>> and '⟦[every man]⟧ = (λ g_<e,t>: (Forall x_e: (Man_<e,t>(x_e) >> g_<e,t>(x_e))))'/<<e,t>,t> conflict (mode: Function Application), ⟦[[every man] [[[[[[[mother] him]] poss]] saw]]]⟧ = Type mismatch: '⟦[every man]⟧ = (λ g_<e,t>: (Forall x_e: (Man_<e,t>(x_e) >> g_<e,t>(x_e))))'/<<e,t>,t> and '⟦[[[[[[[mother] him]] poss]] saw]]⟧ = (λ g_<e,e>: (λ x_e: Mother_<(e,e),t>(x_e, (ι x1_e: Saw_<(e,e),t>(x1_e, g_<e,e>(x_e))))))'/<<e,e>,<e,t>> conflict (mode: Predicate Modification), ⟦[[every man] [[[[[[[mother] him]] poss]] saw]]]⟧ = Type mismatch: '⟦[every man]⟧ = (λ g_<e,t>: (Forall x_e: (Man_<e,t>(x_e) >> g_<e,t>(x_e))))'/<<e,t>,t> and '⟦[[[[[[[mother] him]] poss]] saw]]⟧ = (λ g_<e,e>: (λ x_e: Mother_<(e,e),t>(x_e, (ι x1_e: Saw_<(e,e),t>(x1_e, g_<e,e>(x_e))))))'/<<e,e>,<e,t>> conflict (mode: Predicate Abstraction), ⟦[[[[[[[[mother] him]] poss]] saw]] [every man]]⟧ = Type mismatch: '⟦[[[[[[[mother] him]] poss]] saw]]⟧ = (λ g_<e,e>: (λ x_e: Mother_<(e,e),t>(x_e, (ι x1_e: Saw_<(e,e),t>(x1_e, g_<e,e>(x_e))))))'/<<e,e>,<e,t>> and '⟦[every man]⟧ = (λ g_<e,t>: (Forall x_e: (Man_<e,t>(x_e) >> g_<e,t>(x_e))))'/<<e,t>,t> conflict (mode: Predicate Abstraction), ⟦[[every man] [[[[[[mother] him]] poss]] saw]]⟧ = Type mismatch: '⟦[every man]⟧ = (λ g_<e,t>: (Forall x_e: (Man_<e,t>(x_e) >> g_<e,t>(x_e))))'/<<e,t>,t> and '⟦[[[[[[mother] him]] poss]] saw]⟧ = (λ x_e: (λ y_e: Mother_<(e,e),t>(y_e, (ι x1_e: Saw_<(e,e),t>(x1_e, x_e)))))'/<e,<e,t>> conflict (mode: Function Application), ⟦[[[[[[[mother] him]] poss]] saw] [every man]]⟧ = Type mismatch: '⟦[[[[[[mother] him]] poss]] saw]⟧ = (λ x_e: (λ y_e: Mother_<(e,e),t>(y_e, (ι x1_e: Saw_<(e,e),t>(x1_e, x_e)))))'/<e,<e,t>> and '⟦[every man]⟧ = (λ g_<e,t>: (Forall x_e: (Man_<e,t>(x_e) >> g_<e,t>(x_e))))'/<<e,t>,t> conflict (mode: Function Application), ⟦[[every man] [[[[[[mother] him]] poss]] saw]]⟧ = Type mismatch: '⟦[every man]⟧ = (λ g_<e,t>: (Forall x_e: (Man_<e,t>(x_e) >> g_<e,t>(x_e))))'/<<e,t>,t> and '⟦[[[[[[mother] him]] poss]] saw]⟧ = (λ x_e: (λ y_e: Mother_<(e,e),t>(y_e, (ι x1_e: Saw_<(e,e),t>(x1_e, x_e)))))'/<e,<e,t>> conflict (mode: Predicate Modification), ⟦[[every man] [[[[[[mother] him]] poss]] saw]]⟧ = Type mismatch: '⟦[every man]⟧ = (λ g_<e,t>: (Forall x_e: (Man_<e,t>(x_e) >> g_<e,t>(x_e))))'/<<e,t>,t> and '⟦[[[[[[mother] him]] poss]] saw]⟧ = (λ x_e: (λ y_e: Mother_<(e,e),t>(y_e, (ι x1_e: Saw_<(e,e),t>(x1_e, x_e)))))'/<e,<e,t>> conflict (mode: Predicate Abstraction), ⟦[[[[[[[mother] him]] poss]] saw] [every man]]⟧ = Type mismatch: '⟦[[[[[[mother] him]] poss]] saw]⟧ = (λ x_e: (λ y_e: Mother_<(e,e),t>(y_e, (ι x1_e: Saw_<(e,e),t>(x1_e, x_e)))))'/<e,<e,t>> and '⟦[every man]⟧ = (λ g_<e,t>: (Forall x_e: (Man_<e,t>(x_e) >> g_<e,t>(x_e))))'/<<e,t>,t> conflict (mode: Predicate Abstraction), ⟦[[[[[[[mother] him]] poss]] saw] [every man]]⟧ = Type mismatch: '⟦[[[[[[mother] him]] poss]] saw]⟧ = (λ x_e: Mother_<(e,e),t>(x_e, (ι x1_e: Saw_<(e,e),t>(x1_e, x_e))))'/<e,t> and '⟦[every man]⟧ = (λ g_<e,t>: (Forall x_e: (Man_<e,t>(x_e) >> g_<e,t>(x_e))))'/<<e,t>,t> conflict (mode: Function Application), ⟦[[every man] [[[[[[mother] him]] poss]] saw]]⟧ = Type mismatch: '⟦[every man]⟧ = (λ g_<e,t>: (Forall x_e: (Man_<e,t>(x_e) >> g_<e,t>(x_e))))'/<<e,t>,t> and '⟦[[[[[[mother] him]] poss]] saw]⟧ = (λ x_e: Mother_<(e,e),t>(x_e, (ι x1_e: Saw_<(e,e),t>(x1_e, x_e))))'/<e,t> conflict (mode: Predicate Modification), ⟦[[every man] [[[[[[mother] him]] poss]] saw]]⟧ = Type mismatch: '⟦[every man]⟧ = (λ g_<e,t>: (Forall x_e: (Man_<e,t>(x_e) >> g_<e,t>(x_e))))'/<<e,t>,t> and '⟦[[[[[[mother] him]] poss]] saw]⟧ = (λ x_e: Mother_<(e,e),t>(x_e, (ι x1_e: Saw_<(e,e),t>(x1_e, x_e))))'/<e,t> conflict (mode: Predicate Abstraction), ⟦[[[[[[[mother] him]] poss]] saw] [every man]]⟧ = Type mismatch: '⟦[[[[[[mother] him]] poss]] saw]⟧ = (λ x_e: Mother_<(e,e),t>(x_e, (ι x1_e: Saw_<(e,e),t>(x1_e, x_e))))'/<e,t> and '⟦[every man]⟧ = (λ g_<e,t>: (Forall x_e: (Man_<e,t>(x_e) >> g_<e,t>(x_e))))'/<<e,t>,t> conflict (mode: Predicate Abstraction), ⟦[[saw [poss [[mother] him]]] [every man]]⟧ = Type mismatch: '⟦[saw [poss [[mother] him]]]⟧ = (λ y_e: Saw_<(e,e),t>(y_e, (ι x_e: Mother_<(e,e),t>(x_e, x_e))))'/<e,t> and '⟦[every man]⟧ = (λ g_<e,t>: (Forall x_e: (Man_<e,t>(x_e) >> g_<e,t>(x_e))))'/<<e,t>,t> conflict (mode: Function Application), ⟦[[every man] [saw [poss [[mother] him]]]]⟧ = Type mismatch: '⟦[every man]⟧ = (λ g_<e,t>: (Forall x_e: (Man_<e,t>(x_e) >> g_<e,t>(x_e))))'/<<e,t>,t> and '⟦[saw [poss [[mother] him]]]⟧ = (λ y_e: Saw_<(e,e),t>(y_e, (ι x_e: Mother_<(e,e),t>(x_e, x_e))))'/<e,t> conflict (mode: Predicate Modification), ⟦[[every man] [saw [poss [[mother] him]]]]⟧ = Type mismatch: '⟦[every man]⟧ = (λ g_<e,t>: (Forall x_e: (Man_<e,t>(x_e) >> g_<e,t>(x_e))))'/<<e,t>,t> and '⟦[saw [poss [[mother] him]]]⟧ = (λ y_e: Saw_<(e,e),t>(y_e, (ι x_e: Mother_<(e,e),t>(x_e, x_e))))'/<e,t> conflict (mode: Predicate Abstraction), ⟦[[saw [poss [[mother] him]]] [every man]]⟧ = Type mismatch: '⟦[saw [poss [[mother] him]]]⟧ = (λ y_e: Saw_<(e,e),t>(y_e, (ι x_e: Mother_<(e,e),t>(x_e, x_e))))'/<e,t> and '⟦[every man]⟧ = (λ g_<e,t>: (Forall x_e: (Man_<e,t>(x_e) >> g_<e,t>(x_e))))'/<<e,t>,t> conflict (mode: Predicate Abstraction)])"
      ]
     },
     "execution_count": 33,
     "metadata": {},
     "output_type": "execute_result"
    }
   ],
   "source": [
    "result = (dp * (saw * (poss * (mother * him))))\n",
    "result"
   ]
  },
  {
   "cell_type": "code",
   "execution_count": 34,
   "metadata": {
    "collapsed": false
   },
   "outputs": [],
   "source": []
  },
  {
   "cell_type": "markdown",
   "metadata": {},
   "source": [
    "This account generates 3 readings, 2 of them redundant (but generated via different sequences of typeshifts).  (*note, numbers may not be stable across ILNB version changes*) \n",
    "\n",
    " * `result[1]` and `result[3]` are the (same) bound variable reading that is exactly what we are looking for.\n",
    " * `result[0]` and `result[2]` are the (same) free reading that we also want.\n",
    " * `result[4]` is an overgenerated, and pathological, reflexive reading where `x1` is `x1`'s own mother.  (*TODO: treatment of possessive is slightly different than Jacobson's...*)"
   ]
  },
  {
   "cell_type": "code",
   "execution_count": 34,
   "metadata": {
    "collapsed": false
   },
   "outputs": [
    {
     "data": {
      "text/html": [
       "<div align=\"center\" style=\"display:table; margin:5px; border-collapse: collapse;border: 1px solid #848482;\"><div align=\"center\" style=\"display:table-row;\"><div style=\"display:table-cell;vertical-align:middle;\"><div style=\"display: table;\"><div style=\"display:table-cell;vertical-align:middle;padding: 5px;\"><div align=\"center\" style=\"display:table; margin:5px; border-collapse: collapse;border: 1px solid #848482;\"><div align=\"center\" style=\"display:table-row;\"><div style=\"display:table-cell;vertical-align:middle;\"><div style=\"display: table;\"><div style=\"display:table-cell;vertical-align:middle;padding: 5px;\"><div align=\"left\" style=\"padding: 5px;display: inline-block;\"><div align=\"left\" style=\"padding: 5px;display: inline-block;\"><div><div align=\"center\" style=\"display: block;\"><span>$[\\![\\mathbf{\\text{every}}]\\!]^{}_{\\left\\langle{}\\left\\langle{}e,t\\right\\rangle{},\\left\\langle{}\\left\\langle{}e,t\\right\\rangle{},t\\right\\rangle{}\\right\\rangle{}}$</span></div><div align=\"center\" style=\"display: block;\"><span>$\\lambda{} f_{\\left\\langle{}e,t\\right\\rangle{}} \\: . \\: \\lambda{} g_{\\left\\langle{}e,t\\right\\rangle{}} \\: . \\: \\forall{} x_{e} \\: . \\: ({f}({x}) \\rightarrow{} {g}({x}))$</span></div></div></div></div></div><div style=\"align: center; vertical-align: middle; display: table-cell;\"><span style=\"padding:1em;\">$\\circ$</span></div><div style=\"display:table-cell;vertical-align:middle;padding: 5px;\"><div align=\"left\" style=\"padding: 5px;display: inline-block;\"><div align=\"left\" style=\"padding: 5px;display: inline-block;\"><div><div align=\"center\" style=\"display: block;\"><span>$[\\![\\mathbf{\\text{man}}]\\!]^{}_{\\left\\langle{}e,t\\right\\rangle{}}$</span></div><div align=\"center\" style=\"display: block;\"><span>$\\lambda{} x_{e} \\: . \\: {Man}({x})$</span></div></div></div></div></div></div></div><div style=\"display:table-cell;vertical-align:middle;border-left:1px solid #848482;padding:0.5em\"><div style=\"color:blue;\"><b>[<span>FA</span>]</b></div></div></div><div align=\"center\" style=\"display:table-row; border:1px solid #848482;padding: 5px;\"><div align=\"center\" style=\"padding: 5px;display: inline-block;\"><div><div align=\"center\" style=\"display: block;\"><span>$[\\![\\mathbf{\\text{[every man]}}]\\!]^{}_{\\left\\langle{}\\left\\langle{}e,t\\right\\rangle{},t\\right\\rangle{}}$</span></div><div align=\"center\" style=\"display: block;\"><span>$\\lambda{} g_{\\left\\langle{}e,t\\right\\rangle{}} \\: . \\: \\forall{} x_{e} \\: . \\: ({Man}({x}) \\rightarrow{} {g}({x}))$</span></div></div></div></div></div></div><div style=\"align: center; vertical-align: middle; display: table-cell;\"><span style=\"padding:1em;\">$\\circ$</span></div><div style=\"display:table-cell;vertical-align:middle;padding: 5px;\"><div align=\"center\" style=\"display:table; margin:5px; border-collapse: collapse;border: 1px solid #848482;\"><div align=\"center\" style=\"display:table-row;\"><div style=\"display:table-cell;vertical-align:middle;\"><div style=\"display: table;\"><div style=\"display:table-cell;vertical-align:middle;padding: 5px;\"><div align=\"center\" style=\"display:table; margin:5px; border-collapse: collapse;border: 1px solid #848482;\"><div align=\"center\" style=\"display:table-row;\"><div style=\"display:table-cell;vertical-align:middle;\"><div style=\"display: table;\"><div style=\"display:table-cell;vertical-align:middle;padding: 5px;\"><div align=\"left\" style=\"padding: 5px;display: inline-block;\"><div align=\"left\" style=\"padding: 5px;display: inline-block;\"><div><div align=\"center\" style=\"display: block;\"><span>$[\\![\\mathbf{\\text{saw}}]\\!]^{}_{\\left\\langle{}e,\\left\\langle{}e,t\\right\\rangle{}\\right\\rangle{}}$</span></div><div align=\"center\" style=\"display: block;\"><span>$\\lambda{} x_{e} \\: . \\: \\lambda{} y_{e} \\: . \\: {Saw}({y}, {x})$</span></div></div></div></div></div></div></div><div style=\"display:table-cell;vertical-align:middle;border-left:1px solid #848482;padding:0.5em\"><div style=\"color:blue;\"><b>[<span>z-shift</span>]</b></div></div></div><div align=\"center\" style=\"display:table-row; border:1px solid #848482;padding: 5px;\"><div align=\"center\" style=\"padding: 5px;display: inline-block;\"><div><div align=\"center\" style=\"display: block;\"><span>$[\\![\\mathbf{\\text{[saw]}}]\\!]^{}_{\\left\\langle{}\\left\\langle{}e,e\\right\\rangle{},\\left\\langle{}e,t\\right\\rangle{}\\right\\rangle{}}$</span></div><div align=\"center\" style=\"display: block;\"><span>$\\lambda{} g_{\\left\\langle{}e,e\\right\\rangle{}} \\: . \\: \\lambda{} x_{e} \\: . \\: {Saw}({x}, {g}({x}))$</span></div></div></div></div></div></div><div style=\"align: center; vertical-align: middle; display: table-cell;\"><span style=\"padding:1em;\">$\\circ$</span></div><div style=\"display:table-cell;vertical-align:middle;padding: 5px;\"><div align=\"center\" style=\"display:table; margin:5px; border-collapse: collapse;border: 1px solid #848482;\"><div align=\"center\" style=\"display:table-row;\"><div style=\"display:table-cell;vertical-align:middle;\"><div style=\"display: table;\"><div style=\"display:table-cell;vertical-align:middle;padding: 5px;\"><div align=\"center\" style=\"display:table; margin:5px; border-collapse: collapse;border: 1px solid #848482;\"><div align=\"center\" style=\"display:table-row;\"><div style=\"display:table-cell;vertical-align:middle;\"><div style=\"display: table;\"><div style=\"display:table-cell;vertical-align:middle;padding: 5px;\"><div align=\"left\" style=\"padding: 5px;display: inline-block;\"><div align=\"left\" style=\"padding: 5px;display: inline-block;\"><div><div align=\"center\" style=\"display: block;\"><span>$[\\![\\mathbf{\\text{poss}}]\\!]^{}_{\\left\\langle{}\\left\\langle{}e,t\\right\\rangle{},e\\right\\rangle{}}$</span></div><div align=\"center\" style=\"display: block;\"><span>$\\lambda{} f_{\\left\\langle{}e,t\\right\\rangle{}} \\: . \\: \\iota{} x_{e} \\: . \\: {f}({x})$</span></div></div></div></div></div></div></div><div style=\"display:table-cell;vertical-align:middle;border-left:1px solid #848482;padding:0.5em\"><div style=\"color:blue;\"><b>[<span>g_e-shift</span>]</b></div></div></div><div align=\"center\" style=\"display:table-row; border:1px solid #848482;padding: 5px;\"><div align=\"center\" style=\"padding: 5px;display: inline-block;\"><div><div align=\"center\" style=\"display: block;\"><span>$[\\![\\mathbf{\\text{[poss]}}]\\!]^{}_{\\left\\langle{}\\left\\langle{}e,\\left\\langle{}e,t\\right\\rangle{}\\right\\rangle{},\\left\\langle{}e,e\\right\\rangle{}\\right\\rangle{}}$</span></div><div align=\"center\" style=\"display: block;\"><span>$\\lambda{} f_{\\left\\langle{}e,\\left\\langle{}e,t\\right\\rangle{}\\right\\rangle{}} \\: . \\: \\lambda{} x_{e} \\: . \\: \\iota{} x1_{e} \\: . \\: {f}({x})({x1})$</span></div></div></div></div></div></div><div style=\"align: center; vertical-align: middle; display: table-cell;\"><span style=\"padding:1em;\">$\\circ$</span></div><div style=\"display:table-cell;vertical-align:middle;padding: 5px;\"><div align=\"center\" style=\"display:table; margin:5px; border-collapse: collapse;border: 1px solid #848482;\"><div align=\"center\" style=\"display:table-row;\"><div style=\"display:table-cell;vertical-align:middle;\"><div style=\"display: table;\"><div style=\"display:table-cell;vertical-align:middle;padding: 5px;\"><div align=\"center\" style=\"display:table; margin:5px; border-collapse: collapse;border: 1px solid #848482;\"><div align=\"center\" style=\"display:table-row;\"><div style=\"display:table-cell;vertical-align:middle;\"><div style=\"display: table;\"><div style=\"display:table-cell;vertical-align:middle;padding: 5px;\"><div align=\"left\" style=\"padding: 5px;display: inline-block;\"><div align=\"left\" style=\"padding: 5px;display: inline-block;\"><div><div align=\"center\" style=\"display: block;\"><span>$[\\![\\mathbf{\\text{mother}}]\\!]^{}_{\\left\\langle{}e,\\left\\langle{}e,t\\right\\rangle{}\\right\\rangle{}}$</span></div><div align=\"center\" style=\"display: block;\"><span>$\\lambda{} x_{e} \\: . \\: \\lambda{} y_{e} \\: . \\: {Mother}({y}, {x})$</span></div></div></div></div></div></div></div><div style=\"display:table-cell;vertical-align:middle;border-left:1px solid #848482;padding:0.5em\"><div style=\"color:blue;\"><b>[<span>g_e-shift</span>]</b></div></div></div><div align=\"center\" style=\"display:table-row; border:1px solid #848482;padding: 5px;\"><div align=\"center\" style=\"padding: 5px;display: inline-block;\"><div><div align=\"center\" style=\"display: block;\"><span>$[\\![\\mathbf{\\text{[mother]}}]\\!]^{}_{\\left\\langle{}\\left\\langle{}e,e\\right\\rangle{},\\left\\langle{}e,\\left\\langle{}e,t\\right\\rangle{}\\right\\rangle{}\\right\\rangle{}}$</span></div><div align=\"center\" style=\"display: block;\"><span>$\\lambda{} f_{\\left\\langle{}e,e\\right\\rangle{}} \\: . \\: \\lambda{} x_{e} \\: . \\: \\lambda{} y_{e} \\: . \\: {Mother}({y}, {f}({x}))$</span></div></div></div></div></div></div><div style=\"align: center; vertical-align: middle; display: table-cell;\"><span style=\"padding:1em;\">$\\circ$</span></div><div style=\"display:table-cell;vertical-align:middle;padding: 5px;\"><div align=\"left\" style=\"padding: 5px;display: inline-block;\"><div align=\"left\" style=\"padding: 5px;display: inline-block;\"><div><div align=\"center\" style=\"display: block;\"><span>$[\\![\\mathbf{\\text{him}}]\\!]^{}_{\\left\\langle{}e,e\\right\\rangle{}}$</span></div><div align=\"center\" style=\"display: block;\"><span>$\\lambda{} x_{e} \\: . \\: {x}$</span></div></div></div></div></div></div></div><div style=\"display:table-cell;vertical-align:middle;border-left:1px solid #848482;padding:0.5em\"><div style=\"color:blue;\"><b>[<span>FA</span>]</b></div></div></div><div align=\"center\" style=\"display:table-row; border:1px solid #848482;padding: 5px;\"><div align=\"center\" style=\"padding: 5px;display: inline-block;\"><div><div align=\"center\" style=\"display: block;\"><span>$[\\![\\mathbf{\\text{[[mother] him]}}]\\!]^{}_{\\left\\langle{}e,\\left\\langle{}e,t\\right\\rangle{}\\right\\rangle{}}$</span></div><div align=\"center\" style=\"display: block;\"><span>$\\lambda{} x_{e} \\: . \\: \\lambda{} y_{e} \\: . \\: {Mother}({y}, {x})$</span></div></div></div></div></div></div></div></div><div style=\"display:table-cell;vertical-align:middle;border-left:1px solid #848482;padding:0.5em\"><div style=\"color:blue;\"><b>[<span>FA</span>]</b></div></div></div><div align=\"center\" style=\"display:table-row; border:1px solid #848482;padding: 5px;\"><div align=\"center\" style=\"padding: 5px;display: inline-block;\"><div><div align=\"center\" style=\"display: block;\"><span>$[\\![\\mathbf{\\text{[[poss] [[mother] him]]}}]\\!]^{}_{\\left\\langle{}e,e\\right\\rangle{}}$</span></div><div align=\"center\" style=\"display: block;\"><span>$\\lambda{} x_{e} \\: . \\: \\iota{} x1_{e} \\: . \\: {Mother}({x1}, {x})$</span></div></div></div></div></div></div></div></div><div style=\"display:table-cell;vertical-align:middle;border-left:1px solid #848482;padding:0.5em\"><div style=\"color:blue;\"><b>[<span>FA</span>]</b></div></div></div><div align=\"center\" style=\"display:table-row; border:1px solid #848482;padding: 5px;\"><div align=\"center\" style=\"padding: 5px;display: inline-block;\"><div><div align=\"center\" style=\"display: block;\"><span>$[\\![\\mathbf{\\text{[[saw] [[poss] [[mother] him]]]}}]\\!]^{}_{\\left\\langle{}e,t\\right\\rangle{}}$</span></div><div align=\"center\" style=\"display: block;\"><span>$\\lambda{} x_{e} \\: . \\: {Saw}({x}, \\iota{} x1_{e} \\: . \\: {Mother}({x1}, {x}))$</span></div></div></div></div></div></div></div></div><div style=\"display:table-cell;vertical-align:middle;border-left:1px solid #848482;padding:0.5em\"><div style=\"color:blue;\"><b>[<span>FA</span>]</b></div></div></div><div align=\"center\" style=\"display:table-row; border:1px solid #848482;padding: 5px;\"><div align=\"center\" style=\"padding: 5px;display: inline-block;\"><div><div align=\"center\" style=\"display: block;\"><span>$[\\![\\mathbf{\\text{[[every man] [[saw] [[poss] [[mother] him]]]]}}]\\!]^{}_{t}$</span></div><div align=\"center\" style=\"display: block;\"><span>$\\forall{} x_{e} \\: . \\: ({Man}({x}) \\rightarrow{} {Saw}({x}, \\iota{} x1_{e} \\: . \\: {Mother}({x1}, {x})))$</span></div></div></div></div></div>"
      ],
      "text/plain": [
       "<lamb.display.DisplayNode at 0x10a89a630>"
      ]
     },
     "execution_count": 34,
     "metadata": {},
     "output_type": "execute_result"
    }
   ],
   "source": [
    "result[1].tree()"
   ]
  },
  {
   "cell_type": "code",
   "execution_count": 35,
   "metadata": {
    "collapsed": true
   },
   "outputs": [],
   "source": []
  }
 ],
 "metadata": {
  "kernelspec": {
   "display_name": "Lambda Notebook (Python 3)",
   "language": "python",
   "name": "lambda-notebook"
  },
  "language_info": {
   "codemirror_mode": {
    "name": "ipython",
    "version": 3
   },
   "file_extension": ".py",
   "mimetype": "text/x-python",
   "name": "python",
   "nbconvert_exporter": "python",
   "pygments_lexer": "ipython3",
   "version": "3.5.1"
  }
 },
 "nbformat": 4,
 "nbformat_minor": 0
}
